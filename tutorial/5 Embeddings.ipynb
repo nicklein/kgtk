{
 "cells": [
  {
   "cell_type": "markdown",
   "metadata": {},
   "source": [
    "# Embeddings"
   ]
  },
  {
   "cell_type": "code",
   "execution_count": 1,
   "metadata": {},
   "outputs": [
    {
     "name": "stdout",
     "output_type": "stream",
     "text": [
      "ALIAS: \"/Users/pedroszekely/Downloads/kypher/wikidata_os_v1/aliases.en.tsv.gz\"\n",
      "ALL: \"/Users/pedroszekely/Downloads/kypher/wikidata_os_v1/all.tsv.gz\"\n",
      "CLAIMS: \"/Users/pedroszekely/Downloads/kypher/wikidata_os_v1/claims.tsv.gz\"\n",
      "DESCRIPTION: \"/Users/pedroszekely/Downloads/kypher/wikidata_os_v1/descriptions.en.tsv.gz\"\n",
      "EXAMPLES_DIR: \"/Users/pedroszekely/Documents/GitHub/kgtk/examples\"\n",
      "GE: \"/Users/pedroszekely/Downloads/kypher/temp.wikidata_os_v5/graph-embedding\"\n",
      "ISA: \"/Users/pedroszekely/Downloads/kypher/wikidata_os_v1/derived.isa.tsv.gz\"\n",
      "ITEM: \"/Users/pedroszekely/Downloads/kypher/wikidata_os_v1/claims.wikibase-item.tsv.gz\"\n",
      "LABEL: \"/Users/pedroszekely/Downloads/kypher/wikidata_os_v1/labels.en.tsv.gz\"\n",
      "OUT: \"/Users/pedroszekely/Downloads/kypher/wikidata_os_v5\"\n",
      "P279: \"/Users/pedroszekely/Downloads/kypher/wikidata_os_v1/derived.P279.tsv.gz\"\n",
      "P279STAR: \"/Users/pedroszekely/Downloads/kypher/wikidata_os_v1/derived.P279star.tsv.gz\"\n",
      "PROPERTY_DATATYPES: \"/Users/pedroszekely/Downloads/kypher/wikidata_os_v1/metadata.property.datatypes.tsv.gz\"\n",
      "Q154ALIAS: \"/Users/pedroszekely/Downloads/kypher/wikidata_os_v5/parts/aliases.en.tsv.gz\"\n",
      "Q154ALL: \"/Users/pedroszekely/Downloads/kypher/wikidata_os_v5/parts/all.tsv.gz\"\n",
      "Q154CLAIMS: \"/Users/pedroszekely/Downloads/kypher/wikidata_os_v5/parts/claims.tsv.gz\"\n",
      "Q154DESCRIPTION: \"/Users/pedroszekely/Downloads/kypher/wikidata_os_v5/parts/descriptions.en.tsv.gz\"\n",
      "Q154ISA: \"/Users/pedroszekely/Downloads/kypher/wikidata_os_v5/parts/derived.isa.tsv.gz\"\n",
      "Q154ITEM: \"/Users/pedroszekely/Downloads/kypher/wikidata_os_v5/parts/claims.wikibase-item.tsv.gz\"\n",
      "Q154LABEL: \"/Users/pedroszekely/Downloads/kypher/wikidata_os_v5/parts/labels.en.tsv.gz\"\n",
      "Q154P279: \"/Users/pedroszekely/Downloads/kypher/wikidata_os_v5/parts/derived.P279.tsv.gz\"\n",
      "Q154P279STAR: \"/Users/pedroszekely/Downloads/kypher/wikidata_os_v5/parts/derived.P279star.tsv.gz\"\n",
      "Q154PROPERTY_DATATYPES: \"/Users/pedroszekely/Downloads/kypher/wikidata_os_v5/parts/metadata.property.datatypes.tsv.gz\"\n",
      "Q154QUALIFIERS: \"/Users/pedroszekely/Downloads/kypher/wikidata_os_v5/parts/qualifiers.tsv.gz\"\n",
      "Q154QUALIFIERS_TIME: \"/Users/pedroszekely/Downloads/kypher/wikidata_os_v5/parts/qualifiers.time.tsv.gz\"\n",
      "Q154SITELINKS: \"/Users/pedroszekely/Downloads/kypher/wikidata_os_v5/parts/sitelinks.tsv.gz\"\n",
      "QUALIFIERS: \"/Users/pedroszekely/Downloads/kypher/wikidata_os_v1/qualifiers.tsv.gz\"\n",
      "QUALIFIERS_TIME: \"/Users/pedroszekely/Downloads/kypher/wikidata_os_v1/qualifiers.time.tsv.gz\"\n",
      "SITELINKS: \"/Users/pedroszekely/Downloads/kypher/wikidata_os_v1/sitelinks.tsv.gz\"\n",
      "STORE: \"/Users/pedroszekely/Downloads/kypher/temp.useful_wikidata_files_v4/wikidata.sqlite3.db\"\n",
      "TE: \"/Users/pedroszekely/Downloads/kypher/temp.wikidata_os_v5/text-embedding\"\n",
      "TEMP: \"/Users/pedroszekely/Downloads/kypher/temp.wikidata_os_v5\"\n",
      "WIKIDATA: \"/Users/pedroszekely/Downloads/kypher/wikidata_os_v1/\"\n",
      "kgtk: \"time kgtk --debug\"\n",
      "kypher: \"time kgtk query --graph-cache /Users/pedroszekely/Downloads/kypher/temp.useful_wikidata_files_v4/wikidata.sqlite3.db\"\n"
     ]
    }
   ],
   "source": [
    "import sys  \n",
    "sys.path.insert(0, 'tutorial')\n",
    "from tutorial_setup import *"
   ]
  },
  {
   "cell_type": "code",
   "execution_count": 2,
   "metadata": {},
   "outputs": [
    {
     "name": "stdout",
     "output_type": "stream",
     "text": [
      "/Users/pedroszekely/Downloads/kypher\n"
     ]
    }
   ],
   "source": [
    "%cd {output_path}"
   ]
  },
  {
   "cell_type": "markdown",
   "metadata": {},
   "source": [
    "## Graph Embeddings"
   ]
  },
  {
   "cell_type": "markdown",
   "metadata": {},
   "source": [
    "Normally, we would use `Q154ITEM`, but the partioning failed so we will compute it using kypher"
   ]
  },
  {
   "cell_type": "code",
   "execution_count": 59,
   "metadata": {},
   "outputs": [],
   "source": [
    "os.environ[\"Q154GRAPH\"] = os.environ[\"TEMP\"] + \"/Q154.edges.4.tsv.gz\""
   ]
  },
  {
   "cell_type": "code",
   "execution_count": 78,
   "metadata": {},
   "outputs": [
    {
     "name": "stdout",
     "output_type": "stream",
     "text": [
      "/bin/bash: /Users/pedroszekely/Downloads/kypher/wikidata_os_v5/parts/claims.wikibase-item.tsv.gz: No such file or directory\n"
     ]
    }
   ],
   "source": [
    "!zcat < \"$Q154ITEM\" | head"
   ]
  },
  {
   "cell_type": "code",
   "execution_count": 60,
   "metadata": {},
   "outputs": [
    {
     "name": "stdout",
     "output_type": "stream",
     "text": [
      "  197739  812559 10804072\n"
     ]
    }
   ],
   "source": [
    "!zcat < \"$Q154GRAPH\" | wc"
   ]
  },
  {
   "cell_type": "code",
   "execution_count": 61,
   "metadata": {},
   "outputs": [
    {
     "name": "stdout",
     "output_type": "stream",
     "text": [
      "        1.06 real         0.81 user         0.20 sys\n"
     ]
    }
   ],
   "source": [
    "!$kypher -i \"$Q154GRAPH\" -i \"$TEMP\"/Q154.metadata.property.datatype.tsv.gz -i \"$Q154LABEL\" \\\n",
    "--match 'edges: (n1)-[l {label: property}]->(n2), datatype: (property)-[]->(dt:`wikibase-item`), label: (n1)-[]->(lab)' \\\n",
    "--return 'distinct l as id, n1 as node1, l.label as label, n2 as node2' \\\n",
    "-o \"$GE\"/geinput.tsv"
   ]
  },
  {
   "cell_type": "markdown",
   "metadata": {},
   "source": [
    "We have over 60,000 lines:"
   ]
  },
  {
   "cell_type": "code",
   "execution_count": 62,
   "metadata": {},
   "outputs": [
    {
     "name": "stdout",
     "output_type": "stream",
     "text": [
      "   66666  266664 3307366 /Users/pedroszekely/Downloads/kypher/temp.wikidata_os_v5/graph-embedding/geinput.tsv\n"
     ]
    }
   ],
   "source": [
    "!wc \"$GE\"/geinput.tsv"
   ]
  },
  {
   "cell_type": "markdown",
   "metadata": {},
   "source": [
    "Compute the graph embeddings using the default settings. Our output file `translation.txt` will be in word2vec format so we can usi it diectly in gensim"
   ]
  },
  {
   "cell_type": "code",
   "execution_count": 63,
   "metadata": {},
   "outputs": [
    {
     "name": "stdout",
     "output_type": "stream",
     "text": [
      "In Processing, Please go to /Users/pedroszekely/Downloads/kypher/temp.wikidata_os_v5/graph-embedding/ge.log to check details\n",
      "Opening the input file: /Users/pedroszekely/Downloads/kypher/temp.wikidata_os_v5/graph-embedding/geinput.tsv\n",
      "KgtkReader: File_path.suffix: .tsv\n",
      "KgtkReader: reading file /Users/pedroszekely/Downloads/kypher/temp.wikidata_os_v5/graph-embedding/geinput.tsv\n",
      "header: id\tnode1\tlabel\tnode2\n",
      "node1 column found, this is a KGTK edge file\n",
      "KgtkReader: Special columns: node1=1 label=2 node2=3 id=0\n",
      "KgtkReader: Reading an edge file.\n",
      "Opening the output file: /Users/pedroszekely/Downloads/kypher/temp.wikidata_os_v5/graph-embedding/tmp_geinput.tsv\n",
      "File_path.suffix: .tsv\n",
      "KgtkWriter: writing file /Users/pedroszekely/Downloads/kypher/temp.wikidata_os_v5/graph-embedding/tmp_geinput.tsv\n",
      "header: id\tnode1\tlabel\tnode2\n",
      "Processing the input records.\n",
      "Processed 66665 records.\n",
      "Processed Finished.\n",
      "      339.63 real      1692.48 user       184.77 sys\n"
     ]
    }
   ],
   "source": [
    "!$kgtk graph-embeddings --verbose -i \"$GE\"/geinput.tsv \\\n",
    "-o \"$GE\"/embeddings.txt \\\n",
    "--retain_temporary_data True \\\n",
    "--operator translation \\\n",
    "--workers 5 \\\n",
    "--log \"$GE\"/ge.log \\\n",
    "-T \"$GE\" \\\n",
    "-ot w2v \\\n",
    "-e 600"
   ]
  },
  {
   "cell_type": "markdown",
   "metadata": {},
   "source": [
    "Let's look at the output direcory"
   ]
  },
  {
   "cell_type": "code",
   "execution_count": 64,
   "metadata": {},
   "outputs": [
    {
     "name": "stdout",
     "output_type": "stream",
     "text": [
      "total 449544\n",
      "-rw-r--r--   1 pedroszekely  staff   101K Dec 26 16:09 Q27.sim.tsv\n",
      "-rw-r--r--   1 pedroszekely  staff    44K Dec 25 22:18 Q27.tsv\n",
      "-rw-r--r--   1 pedroszekely  staff   177K Dec 26 16:09 Q29.Q45.Q142.sim.tsv\n",
      "-rw-r--r--   1 pedroszekely  staff    43K Dec 25 22:36 Q29.Q45.sim.tsv\n",
      "-rw-r--r--   1 pedroszekely  staff    85K Dec 26 16:09 Q29.sim.tsv\n",
      "-rw-r--r--   1 pedroszekely  staff   158K Dec 27 17:50 Q332378.sim.tsv\n",
      "-rw-r--r--   1 pedroszekely  staff    88K Dec 27 17:50 Q374.sim.tsv\n",
      "-rw-r--r--   1 pedroszekely  staff    87K Dec 26 16:09 Q502268.sim.tsv\n",
      "-rw-r--r--   1 pedroszekely  staff    44K Dec 25 22:11 Q502268.tsv\n",
      "-rw-r--r--   1 pedroszekely  staff   4.3K Dec 25 21:33 Q610672.tsv\n",
      "-rw-r--r--   1 pedroszekely  staff    54M Dec 28 10:41 embeddings.txt\n",
      "-rw-r--r--   1 pedroszekely  staff   955K Dec 28 10:41 ge.log\n",
      "-rw-r--r--   1 pedroszekely  staff   3.2M Dec 28 10:35 geinput.tsv\n",
      "-rw-r--r--   1 pedroszekely  staff   973K Dec 23 12:41 geinput.tsv.gz\n",
      "drwxr-xr-x  10 pedroszekely  staff   320B Dec 28 10:41 \u001b[34moutput\u001b[m\u001b[m\n",
      "-rw-r--r--   1 pedroszekely  staff    93K Dec 27 17:51 projector.metadata.tsv\n",
      "-rw-r--r--   1 pedroszekely  staff    19K Dec 27 17:51 projector.qnodes.tsv\n",
      "-rw-r--r--   1 pedroszekely  staff   2.7M Dec 27 17:51 projector.vectors.tsv\n",
      "-rw-r--r--@  1 pedroszekely  staff   4.9K Dec 23 15:21 test.txt\n",
      "-rw-r--r--   1 pedroszekely  staff   1.2M Dec 28 10:35 tmp_geinput.tsv\n",
      "-rw-r--r--   1 pedroszekely  staff    11K Dec 23 16:22 translation.10.tsv\n",
      "-rw-r--r--   1 pedroszekely  staff   8.2K Dec 23 21:50 translation.1000.projector.metadata.1.tsv\n",
      "-rw-r--r--   1 pedroszekely  staff    29K Dec 23 23:00 translation.1000.projector.metadata.tsv\n",
      "-rw-r--r--   1 pedroszekely  staff   1.2M Dec 23 21:50 translation.1000.projector.vectors.tsv\n",
      "-rw-r--r--   1 pedroszekely  staff   1.2M Dec 23 21:50 translation.1000.tsv\n",
      "-rw-r--r--   1 pedroszekely  staff   1.2M Dec 23 20:59 translation.1000.txt\n",
      "-rw-r--r--   1 pedroszekely  staff   622K Dec 23 23:34 translation.10000.projector.metadata.tsv\n",
      "-rw-r--r--   1 pedroszekely  staff    12M Dec 23 23:23 translation.10000.projector.vectors.tsv\n",
      "-rw-r--r--   1 pedroszekely  staff    12M Dec 23 23:23 translation.10000.tsv\n",
      "-rw-r--r--   1 pedroszekely  staff   143K Dec 23 23:07 translation.5000.projector.metadata.tsv\n",
      "-rw-r--r--   1 pedroszekely  staff   6.0M Dec 23 23:07 translation.5000.projector.vectors.tsv\n",
      "-rw-r--r--   1 pedroszekely  staff   6.0M Dec 23 23:07 translation.5000.tsv\n",
      "-rw-r--r--   1 pedroszekely  staff   114K Dec 26 22:10 translation.projector.metadata.tsv\n",
      "-rw-r--r--   1 pedroszekely  staff    83K Dec 26 21:28 translation.projector.qnodes.lab.des.tsv\n",
      "-rw-r--r--   1 pedroszekely  staff    19K Dec 26 22:10 translation.projector.qnodes.tsv\n",
      "-rw-r--r--   1 pedroszekely  staff   2.7M Dec 26 22:10 translation.projector.vectors.tsv\n",
      "-rw-r--r--   1 pedroszekely  staff    54M Dec 23 20:25 translation.tsv\n",
      "-rw-r--r--   1 pedroszekely  staff    54M Dec 23 15:23 translation2.txt\n",
      "-rw-r--r--   1 pedroszekely  staff   7.9K Dec 23 21:58 xxx.txt\n"
     ]
    }
   ],
   "source": [
    "!ls -hl \"$GE\""
   ]
  },
  {
   "cell_type": "markdown",
   "metadata": {},
   "source": [
    "Let's peek at the file, we have 44K vectors of dimension 100"
   ]
  },
  {
   "cell_type": "code",
   "execution_count": 65,
   "metadata": {},
   "outputs": [
    {
     "name": "stdout",
     "output_type": "stream",
     "text": [
      "44695 100\n",
      "Q214601 -0.102628224 0.359375894 -0.157025114 -0.464361548 0.037833635 -0.339900166 -0.124001674 -0.416769415 0.415618241 -0.207958832 0.225649863 0.398222595 -0.155308485 -0.316138476 -0.122366287 0.172886118 0.612552524 -0.207907990 0.059321735 0.362125903 0.009907527 0.251414299 0.391911834 0.040169623 0.391867101 -0.460243762 -0.060899656 -0.026212368 0.440496027 -0.302922249 0.312714458 -0.217636093 -0.009538481 0.103229381 0.134138778 -0.129249051 0.379549921 -0.601356268 0.118008241 0.252372622 0.345629156 -0.044342130 -0.307582080 0.062566765 -0.201944143 -0.009374032 -0.075185008 0.344059110 -0.060755178 0.329203039 -0.332021683 0.072686754 0.146988109 0.374888718 -0.252653658 0.052430481 -0.140533656 0.154647931 0.171625122 -0.573895752 0.054081772 0.007514662 -0.107331567 -0.306097299 0.256348401 0.298310518 0.125003204 -0.093739904 -0.259183556 0.440674067 -0.216976196 -0.029400053 0.131144762 -0.538199782 -0.248879820 0.120181866 -0.310127497 -0.459496319 0.406047076 0.270109236 -0.430602700 -0.103431068 0.176202387 0.037188232 -0.218839869 0.392478168 0.043385312 0.278085202 0.445139110 -0.074321106 -0.074099474 0.340548873 0.406183898 0.014564843 -0.457420379 -0.737624288 -0.055744130 -0.680728972 -0.127992064 -0.135318086\n"
     ]
    }
   ],
   "source": [
    "!head -2 \"$GE\"/embeddings.txt"
   ]
  },
  {
   "cell_type": "markdown",
   "metadata": {},
   "source": [
    "Load the vecotrs in gensim"
   ]
  },
  {
   "cell_type": "code",
   "execution_count": 66,
   "metadata": {},
   "outputs": [],
   "source": [
    "path = os.environ['GE'] + \"/embeddings.txt\"\n",
    "ge_vectors = KeyedVectors.load_word2vec_format(path, binary=False)"
   ]
  },
  {
   "cell_type": "code",
   "execution_count": 67,
   "metadata": {},
   "outputs": [
    {
     "data": {
      "text/plain": [
       "array([ 0.47429726,  0.63725895, -0.5864697 , -0.30693457,  0.05878768,\n",
       "       -0.47394025,  0.3690229 ,  0.47179508,  0.10914682,  0.05990786,\n",
       "        0.29345718, -0.50989914, -0.0930867 , -0.9283536 ,  0.4654144 ,\n",
       "       -0.5097026 , -0.0989987 ,  0.5390261 ,  0.3539935 , -0.1391855 ,\n",
       "       -0.7672231 , -1.1408933 ,  0.8327929 ,  0.494192  ,  0.33971542,\n",
       "        0.07139378,  0.551032  , -0.19357733,  0.367034  , -0.5566508 ,\n",
       "       -0.37830138, -0.5741709 ,  0.27643484,  0.64525676, -0.00791502,\n",
       "       -0.40929148,  0.13406757, -0.2794057 , -0.03993555,  0.64496636,\n",
       "       -0.48054212,  1.0069914 , -0.4344204 ,  0.8777195 , -0.8854221 ,\n",
       "        0.680318  , -0.16724458, -0.01672718, -0.621057  , -0.47410202,\n",
       "       -0.58648473, -0.9190876 ,  0.5850317 ,  0.39297456, -0.0438199 ,\n",
       "       -1.0063976 ,  0.05002118,  1.1778641 , -0.4606614 , -0.4312578 ,\n",
       "        0.14105996, -0.66551495,  0.31018743,  0.6011955 , -0.927424  ,\n",
       "       -0.03615357,  0.43011943, -0.50710917,  0.21786   ,  0.94597197,\n",
       "       -0.20073463, -0.05755971, -0.09656813,  0.64243245, -0.31059346,\n",
       "        0.28164655, -0.23483524, -1.0503615 ,  0.9353849 ,  0.9983384 ,\n",
       "       -1.1506505 ,  0.59931606, -0.51911443,  0.20991674, -0.05086789,\n",
       "        0.78098315,  0.17056942,  0.57776964, -0.24908645,  0.3189947 ,\n",
       "       -0.79314816,  0.25350982,  1.130421  ,  0.10955226, -0.42749977,\n",
       "        0.06445897, -0.15292811, -1.0948542 ,  0.23224647, -0.28688505],\n",
       "      dtype=float32)"
      ]
     },
     "execution_count": 67,
     "metadata": {},
     "output_type": "execute_result"
    }
   ],
   "source": [
    "# Q502268 is Johnnie Walker\n",
    "ge_vectors['Q502268']"
   ]
  },
  {
   "cell_type": "markdown",
   "metadata": {},
   "source": [
    "Find the most similar qnodes to `Q15874936`, the qnode for Michelob."
   ]
  },
  {
   "cell_type": "code",
   "execution_count": 68,
   "metadata": {},
   "outputs": [
    {
     "data": {
      "text/plain": [
       "[('Q610672', 0.9382461905479431),\n",
       " ('Q85269976', 0.7516792416572571),\n",
       " ('Q5647008', 0.7455666065216064),\n",
       " ('Q4921899', 0.7417541146278381),\n",
       " ('Q2567026', 0.73448646068573)]"
      ]
     },
     "execution_count": 68,
     "metadata": {},
     "output_type": "execute_result"
    }
   ],
   "source": [
    "ge_vectors.most_similar(positive=['Q15874936'], topn=5)"
   ]
  },
  {
   "cell_type": "markdown",
   "metadata": {},
   "source": [
    "This is hard to use because the reuslt are qnodes and we have no idea what they are. Let's define a function to fetch the labels and descriptions so that we can interpret the results more easily"
   ]
  },
  {
   "cell_type": "markdown",
   "metadata": {},
   "source": [
    "`kgtk_most_similar` is a wrapper to gensim's `most_similar` function, and it is designed to output the results in KGTK format. The `kgtk_path` is required if we want to output the labels and descriptios as this path is where the `labels.en.tsv.gz` and `descriptions.en.tsv.gz` files care stored. You can optionally provide a `output_path` to tell it to sotre the results in a file; otherwise the results will be returned as a dataframe."
   ]
  },
  {
   "cell_type": "code",
   "execution_count": 9,
   "metadata": {},
   "outputs": [],
   "source": [
    "def kgtk_most_similar(\n",
    "    vectors,\n",
    "    positive,\n",
    "    relation_label=\"similarity_score\",\n",
    "    kg_path=None,\n",
    "    add_label_description=True,\n",
    "    output_path=None,\n",
    "    topn=25,\n",
    "):\n",
    "    \"\"\"\"\"\"\n",
    "    result = []\n",
    "    if add_label_description and kg_path:\n",
    "        fp = tempfile.NamedTemporaryFile(\n",
    "            mode=\"w\", suffix=\".tsv\", delete=False, encoding=\"utf-8\"\n",
    "        )\n",
    "        fp.write(\"node1\\tlabel\\tnode2\\n\")\n",
    "        for (qnode, similarity) in vectors.most_similar(positive=positive, topn=topn):\n",
    "            fp.write(\"{}\\t{}\\t{}\\n\".format(qnode, relation_label, similarity))\n",
    "        filename = fp.name\n",
    "        fp.close()\n",
    "\n",
    "        os.environ[\"_label_graph\"] = kg_path + \"/labels.en.tsv.gz\"\n",
    "        os.environ[\"_description_graph\"] = kg_path + \"/descriptions.en.tsv.gz\"\n",
    "        os.environ[\"_temp_file\"] = filename\n",
    "\n",
    "        result = !$kypher_raw -i \"$_label_graph\" -i \"$_description_graph\" -i \"$_temp_file\" --as sim \\\n",
    "--match 'sim: (n1)-[]->(similarity), label: (n1)-[]->(lab), description: (n1)-[]->(des)' \\\n",
    "--return 'distinct n1 as node1, similarity as node2, \"similarity\" as label, lab as `node1;label`, des as `node1;description`' \\\n",
    "--order-by 'cast(similarity, float) desc' \n",
    "        \n",
    "        os.remove(filename)\n",
    "        \n",
    "    else:\n",
    "        result.append(\"node1\\tlabel\\tnode2\\n\")\n",
    "        for (qnode, similarity) in vectors.most_similar(positive=positive, topn=topn):\n",
    "            result.append(\"{}\\t{}\\t{}\\n\".format(qnode, relation_label, similarity))\n",
    "\n",
    "    if output_path:\n",
    "        handle = open(output_path, \"w\")\n",
    "        for line in result:\n",
    "            handle.write(line)\n",
    "            handle.write(\"\\n\")\n",
    "        handle.close()\n",
    "    else:\n",
    "        columns = result[0].split(\"\\t\")\n",
    "        data = []\n",
    "        for line in result[1:]:\n",
    "            data.append(line.split(\"\\t\"))\n",
    "        return pd.DataFrame(data, columns=columns)"
   ]
  },
  {
   "cell_type": "markdown",
   "metadata": {},
   "source": [
    "Let's give it a try:"
   ]
  },
  {
   "cell_type": "code",
   "execution_count": 69,
   "metadata": {},
   "outputs": [
    {
     "data": {
      "text/html": [
       "<div>\n",
       "<style scoped>\n",
       "    .dataframe tbody tr th:only-of-type {\n",
       "        vertical-align: middle;\n",
       "    }\n",
       "\n",
       "    .dataframe tbody tr th {\n",
       "        vertical-align: top;\n",
       "    }\n",
       "\n",
       "    .dataframe thead th {\n",
       "        text-align: right;\n",
       "    }\n",
       "</style>\n",
       "<table border=\"1\" class=\"dataframe\">\n",
       "  <thead>\n",
       "    <tr style=\"text-align: right;\">\n",
       "      <th></th>\n",
       "      <th>node1</th>\n",
       "      <th>node2</th>\n",
       "      <th>label</th>\n",
       "      <th>node1;label</th>\n",
       "      <th>node1;description</th>\n",
       "    </tr>\n",
       "  </thead>\n",
       "  <tbody>\n",
       "    <tr>\n",
       "      <th>0</th>\n",
       "      <td>Q610672</td>\n",
       "      <td>0.9382461905479431</td>\n",
       "      <td>similarity</td>\n",
       "      <td>'Budweiser'@en</td>\n",
       "      <td>'brand of pale lager'@en</td>\n",
       "    </tr>\n",
       "    <tr>\n",
       "      <th>1</th>\n",
       "      <td>Q85269976</td>\n",
       "      <td>0.7516792416572571</td>\n",
       "      <td>similarity</td>\n",
       "      <td>'Busch Beer'@en</td>\n",
       "      <td>'brand of beer owned by Anheuser-Busch'@en</td>\n",
       "    </tr>\n",
       "    <tr>\n",
       "      <th>2</th>\n",
       "      <td>Q2397992</td>\n",
       "      <td>0.7307605743408203</td>\n",
       "      <td>similarity</td>\n",
       "      <td>'malt liquor'@en</td>\n",
       "      <td>'beer style'@en</td>\n",
       "    </tr>\n",
       "    <tr>\n",
       "      <th>3</th>\n",
       "      <td>Q4912182</td>\n",
       "      <td>0.7301785945892334</td>\n",
       "      <td>similarity</td>\n",
       "      <td>'Billy Beer'@en</td>\n",
       "      <td>'beer produced in the United States'@en</td>\n",
       "    </tr>\n",
       "    <tr>\n",
       "      <th>4</th>\n",
       "      <td>Q5149389</td>\n",
       "      <td>0.7276897430419922</td>\n",
       "      <td>similarity</td>\n",
       "      <td>'Colt 45'@en</td>\n",
       "      <td>'malt liquor'@en</td>\n",
       "    </tr>\n",
       "    <tr>\n",
       "      <th>5</th>\n",
       "      <td>Q694536</td>\n",
       "      <td>0.7243717312812805</td>\n",
       "      <td>similarity</td>\n",
       "      <td>'American whiskey'@en</td>\n",
       "      <td>'Whiskey produced in the United States'@en</td>\n",
       "    </tr>\n",
       "    <tr>\n",
       "      <th>6</th>\n",
       "      <td>Q3079990</td>\n",
       "      <td>0.7207326292991638</td>\n",
       "      <td>similarity</td>\n",
       "      <td>'Four Loko'@en</td>\n",
       "      <td>'Drink'@en</td>\n",
       "    </tr>\n",
       "  </tbody>\n",
       "</table>\n",
       "</div>"
      ],
      "text/plain": [
       "       node1               node2       label            node1;label  \\\n",
       "0    Q610672  0.9382461905479431  similarity         'Budweiser'@en   \n",
       "1  Q85269976  0.7516792416572571  similarity        'Busch Beer'@en   \n",
       "2   Q2397992  0.7307605743408203  similarity       'malt liquor'@en   \n",
       "3   Q4912182  0.7301785945892334  similarity        'Billy Beer'@en   \n",
       "4   Q5149389  0.7276897430419922  similarity           'Colt 45'@en   \n",
       "5    Q694536  0.7243717312812805  similarity  'American whiskey'@en   \n",
       "6   Q3079990  0.7207326292991638  similarity         'Four Loko'@en   \n",
       "\n",
       "                            node1;description  \n",
       "0                    'brand of pale lager'@en  \n",
       "1  'brand of beer owned by Anheuser-Busch'@en  \n",
       "2                             'beer style'@en  \n",
       "3     'beer produced in the United States'@en  \n",
       "4                            'malt liquor'@en  \n",
       "5  'Whiskey produced in the United States'@en  \n",
       "6                                  'Drink'@en  "
      ]
     },
     "execution_count": 69,
     "metadata": {},
     "output_type": "execute_result"
    }
   ],
   "source": [
    "# Q15874936 is Michelob\n",
    "kgtk_most_similar(ge_vectors, positive=['Q15874936'], kg_path=os.environ['OUT'] + \"/parts\", topn=10)"
   ]
  },
  {
   "cell_type": "code",
   "execution_count": null,
   "metadata": {},
   "outputs": [],
   "source": []
  },
  {
   "cell_type": "markdown",
   "metadata": {},
   "source": [
    "## Text embeddings"
   ]
  },
  {
   "cell_type": "code",
   "execution_count": 15,
   "metadata": {},
   "outputs": [
    {
     "name": "stdout",
     "output_type": "stream",
     "text": [
      "id\tnode1\tlabel\tnode2\n",
      "P10-P1628-32b85d-7927ece6-0\tP10\tP1628\t\"http://www.w3.org/2006/vcard/ns#Video\"\n",
      "P10-P1628-acf60d-b8950832-0\tP10\tP1628\t\"https://schema.org/video\"\n",
      "P10-P1629-Q34508-bcc39400-0\tP10\tP1629\tQ34508\n",
      "P10-P1659-P1651-c4068028-0\tP10\tP1659\tP1651\n",
      "P10-P1659-P18-5e4b9c4f-0\tP10\tP1659\tP18\n",
      "P10-P1659-P4238-d21d1ac0-0\tP10\tP1659\tP4238\n",
      "P10-P1659-P51-86aca4c5-0\tP10\tP1659\tP51\n",
      "P10-P1855-Q15075950-7eff6d65-0\tP10\tP1855\tQ15075950\n",
      "P10-P1855-Q69063653-c8cdb04c-0\tP10\tP1855\tQ69063653\n",
      "zcat: error writing to output: Broken pipe\n"
     ]
    }
   ],
   "source": [
    "!zcat < $OUT/all.tsv.gz | head"
   ]
  },
  {
   "cell_type": "markdown",
   "metadata": {},
   "source": [
    "Explain the command here"
   ]
  },
  {
   "cell_type": "code",
   "execution_count": null,
   "metadata": {},
   "outputs": [],
   "source": [
    "!$kgtk text-embedding -i $OUT/all.tsv.gz \\\n",
    "--embedding-projector-metadata-path none \\\n",
    "--label-properties label \\\n",
    "--isa-properties P31 P279 P452 P106 \\\n",
    "--description-properties description \\\n",
    "--property-value P186 P17 P127 P176 P169 \\\n",
    "--has-properties \"\" \\\n",
    "-f kgtk_format \\\n",
    "--output-data-format kgtk_format \\\n",
    "--save-embedding-sentence \\\n",
    "--model bert-large-nli-cls-token \\\n",
    "-o \"$TE\" \\\n",
    "> \"$TE\"/text-embedding.tsv"
   ]
  },
  {
   "cell_type": "markdown",
   "metadata": {},
   "source": [
    "Duration --parallel 1\n",
    "16348.11 real     16066.21 user       315.45 sys"
   ]
  },
  {
   "cell_type": "markdown",
   "metadata": {},
   "source": [
    "The text embeddings are output in KGTK format and we need them in word2vec format (need to enhance the command to produce w2v format). For now, define a function to convert the KGTK embeddings to w2v format."
   ]
  },
  {
   "cell_type": "code",
   "execution_count": 16,
   "metadata": {},
   "outputs": [],
   "source": [
    "def convert_kgtk_to_w2v(input_path, output_path, text_embedding_label=\"text_embedding\"):\n",
    "    \"\"\"\n",
    "    Convert a KGTK file (node1/label/node2) that contains embeddings to the w2v format\n",
    "    \"\"\"\n",
    "    vector_count = 0\n",
    "    vector_length = 0\n",
    "    \n",
    "    # Read the file once to count the lines as we need to put them at the top of the w2v file\n",
    "    with open(input_path, \"r\") as kgtk_file:\n",
    "        next(kgtk_file)\n",
    "        for line in kgtk_file:\n",
    "            items = line.split(\"\\t\")\n",
    "            qnode = items[0]\n",
    "            label = items[1]\n",
    "            if label == text_embedding_label:\n",
    "                if vector_count == 0:\n",
    "                    vector_length = len(items[2].split(\",\"))\n",
    "                vector_count += 1\n",
    "        kgtk_file.close()\n",
    "\n",
    "    with open(output_path, \"w\") as w2v_file:\n",
    "        w2v_file.write(\"{} {}\\n\".format(vector_count, vector_length))\n",
    "        with open(input_path, \"r\") as kgtk_file:\n",
    "            next(kgtk_file)\n",
    "            for line in kgtk_file:\n",
    "                items = line.split(\"\\t\")\n",
    "                qnode = items[0]\n",
    "                label = items[1]\n",
    "                if label == text_embedding_label:\n",
    "                    vector = items[2].replace(\",\", \" \")\n",
    "                    w2v_file.write(qnode + \" \" + vector)\n",
    "            kgtk_file.close()\n",
    "        w2v_file.close()"
   ]
  },
  {
   "cell_type": "code",
   "execution_count": 17,
   "metadata": {},
   "outputs": [],
   "source": [
    "convert_kgtk_to_w2v(os.environ['TE'] + \"/text-embedding.tsv\", os.environ['TE'] + \"/embeddings.txt\")"
   ]
  },
  {
   "cell_type": "markdown",
   "metadata": {},
   "source": [
    "Let's look at the output file, the embeddings have 1024 dimensions"
   ]
  },
  {
   "cell_type": "code",
   "execution_count": 18,
   "metadata": {
    "scrolled": true
   },
   "outputs": [
    {
     "name": "stdout",
     "output_type": "stream",
     "text": [
      "56017 1024\n",
      "undirected_pagerank -0.42267796 0.3995441 0.5533569 -0.71286017 0.35639343 0.23904479 -0.2763573 0.37157294 -0.4283453 1.3224101 0.6862846 0.19590487 -0.6082015 -0.11240994 0.33890438 -0.20922732 -0.23069456 -0.021294963 -1.912606 0.49719235 0.6929876 0.011938913 -1.5600294 0.20473605 -0.17875122 0.45237 -0.09061487 0.0838695 0.039139077 -0.5781012 -0.2535121 0.065458305 -0.34608266 -0.42478928 -0.4474916 -0.23409875 -0.13160512 -0.076800026 -0.6984711 0.12516521 -0.42880625 -0.85138726 0.04815936 -0.6207587 -0.08866266 -1.6658425 -0.51067406 -0.34878105 0.33144328 -0.69933593 -0.36479193 -0.6388813 0.76048696 0.12395467 -0.88557744 0.34427696 1.2574033 -0.65131736 -0.9506962 0.6257681 0.36623836 0.716814 0.36953598 -1.3571995 0.2660646 -1.2076085 0.09180403 -0.36115 0.42118248 -0.92440283 -0.32160524 -0.14557533 -0.50016695 -0.12131537 -0.74813855 0.5254087 0.42912796 -0.73770857 -0.39519224 1.1647401 0.63930184 -0.33095387 -0.17238976 0.19148383 -0.31919938 -0.7583614 0.15933603 1.0313777 0.27520698 -0.4556464 -0.63495463 -0.1864288 0.6013224 0.637127 -0.07590211 0.7430643 0.06540778 -0.0065790126 0.44254926 0.27115446 0.37154993 0.022709582 -0.73920345 0.71504974 -0.04737445 0.3215596 0.14265373 0.0013700873 -0.67682695 0.42491677 0.9620013 -0.2962407 0.40307814 0.4662022 0.38908783 -0.6515235 -0.6724364 0.20429769 0.09426039 0.10870178 -0.50047547 -0.16897413 -0.29538417 0.18928146 0.87492365 0.13553919 -0.8622958 0.21274589 -0.683947 0.36040968 -0.3770436 0.03559924 0.11785667 0.0033670748 0.079977475 -0.460622 -0.922562 0.54822904 -0.7001525 -0.13735794 0.0046447627 0.93614495 -0.04533757 1.0877196 0.18663098 -0.33188298 -1.1195552 0.22625268 0.18178236 0.44003317 -0.035616595 -0.17230903 -0.39078838 0.09534323 -0.36450732 -0.13266148 -0.5948716 -0.3778122 0.115013696 -0.48863468 0.5276801 -0.10320456 0.17860238 0.5847855 -0.55870014 1.1700139 -0.8719531 0.2900501 -0.4467073 0.26552573 -0.36334535 0.0765188 -1.2428156 0.07730358 0.08907298 0.52686894 -0.43270507 -1.400375 0.107771374 -0.81395435 -0.24545032 -0.26216444 -0.32014206 -0.35348052 -0.024345992 0.53140754 0.08466306 -0.57038295 -0.1269843 0.58409613 0.46116874 0.94535094 0.025036573 0.057027116 -0.68037903 1.0046511 -1.2596852 -0.037459765 -0.389251 -0.21985579 0.53391653 0.55650496 0.3328932 1.0321438 -0.16949745 0.61743855 -0.06628016 -0.2838724 -0.72551495 -0.032637402 -0.5673327 -0.0897552 -0.84946555 -0.75218916 0.7547705 0.83145154 -0.26083234 0.14909117 0.11596523 0.15905048 0.7511518 1.3206866 -0.06821178 0.79532903 -0.25254253 0.28651667 0.2536638 1.0395417 0.092335254 1.2873124 0.08776725 -0.05958847 -0.41424736 0.11005009 0.8274726 -0.51250714 -0.09145787 0.27819672 0.8735276 -0.5256038 0.26121446 0.08272835 0.39796406 -0.025718834 0.50356233 0.21068689 0.30204117 -0.30575705 -0.20718881 0.56285316 -0.5681627 0.69479936 0.19411525 0.25880888 0.47330382 -0.3539255 0.31446198 0.05105017 -0.107441604 -0.19249792 -0.39843526 -0.2551087 0.22434184 -0.2916974 -0.43394834 0.9704601 0.05666099 -0.69681704 -0.116564095 -0.03787969 0.27423766 -0.19120161 -0.92002064 0.21582173 -1.139993 0.39552695 -0.43537337 -0.16907048 0.5157604 0.4224562 0.5610382 -0.08036005 -1.4928522 -0.13146974 0.49898425 -1.0245981 0.1626403 -0.38850468 -0.8772544 0.18778482 -0.97421217 -0.29288915 0.6725434 -0.69844306 -0.14755279 -0.1968449 -0.86375725 -0.33360827 -0.10161168 -0.49888122 -0.33912677 0.43528208 -0.42569768 -0.20765932 -0.5381073 1.4305749 1.0162153 0.14457884 0.5763004 0.97068405 0.39098093 -0.03216348 -0.15244858 0.40377033 -0.18645048 0.9399603 0.076710895 0.5312454 -0.26848876 -0.46861956 -0.27942383 -0.6348347 0.294985 -0.40342814 1.0414813 1.0504925 -0.00836426 -0.99118257 -0.45631418 -0.7005619 0.404519 -0.10713773 -0.07559447 0.5544991 0.3827246 -0.55512184 -0.33234987 0.7993359 -0.079852566 0.35297632 0.5477561 0.22683053 0.5069918 -0.13029772 0.36162373 -0.014001881 -0.11648651 -0.66647947 0.01226069 -0.7284193 0.48086953 0.006934624 0.22385629 0.08074516 0.29289985 0.61216664 -0.12032819 0.1659586 -0.2181752 0.15336005 0.4407084 -1.0953207 -0.9043968 0.21611574 -0.90479344 -0.73193157 -0.62168366 0.9956651 -0.090728715 0.3878589 0.38336518 0.2604782 -0.0650832 0.05577252 0.7666885 0.14315598 0.0359419 0.44156542 -0.15730822 -0.15735826 0.10081276 -0.45704198 0.3992815 1.0245506 1.4449844 0.50542 -0.88196254 0.62593013 -0.2081841 0.60960853 -0.66418105 0.8603846 0.61228853 -1.2286749 -0.20330366 -1.0320998 1.198905 -0.16238491 0.17897743 0.16847304 0.42968208 0.1755085 0.34175223 0.49665308 -0.40418386 0.5926915 -0.6081441 1.0003483 0.3905947 -0.30414084 -0.34114298 0.8547739 -0.4670201 -0.23203468 0.5805412 0.40133566 -0.94826126 -0.23078169 -0.28718835 0.1264745 -0.70524764 0.508715 -0.024303429 0.3079768 0.98509324 0.19859965 -0.2700488 -0.50697654 -0.1804381 -0.3221201 0.22992785 -0.11842905 0.2621886 0.17650005 0.1401335 0.5725611 0.14143167 0.015926411 -0.12371779 -0.61506104 -0.61483264 -0.570195 -0.13236725 -0.11800632 -0.10830958 0.025182672 0.8578056 0.977953 -0.0059525445 -0.39955533 1.127108 -0.4665609 -0.03740844 -0.94570136 -0.1651189 -0.7827557 0.369654 0.20145196 0.50588286 -0.6361171 -0.7590097 -0.21335843 -0.5173786 0.97785115 0.47440884 1.2242765 -1.0599612 0.49780983 1.008144 -0.33477965 0.5589736 0.9486828 -0.07865547 0.82441354 -0.28226215 0.01269538 0.22909257 -1.2406305 0.74198633 0.019226547 -0.033761285 -0.25049102 -0.27017456 0.5518724 -1.0744305 -0.90507793 -0.16111492 -0.5462715 -1.9933928 0.031789362 -1.4327815 0.055561084 0.5697889 -0.5664057 -0.6227874 0.21851781 -0.726629 -1.1050928 0.1555212 -0.13036552 1.5256817 0.0031437278 -0.34641874 -0.26029167 0.2586624 0.21606264 -0.5991851 -0.5353387 -0.013069849 0.12415337 -0.59378207 -0.05707953 1.0167447 -0.41405144 -0.2853063 0.39441592 0.62434036 -0.38296816 0.015720915 1.1869724 0.7920963 0.1103225 -0.19993234 0.867546 0.67698205 1.1679859 1.0601817 -0.32352704 0.22812766 0.99878913 0.14075853 0.22087446 0.38174963 0.63968056 -0.63889086 0.8546627 0.5452647 0.31812298 -0.11800851 -0.6306626 -0.6350914 0.5565482 -0.7874143 0.22039914 -0.5172571 0.3113776 -0.27728507 0.20026723 -1.2695498 0.043180633 0.98999727 -0.24016514 0.7123504 -0.40300757 -0.7502448 -0.8941951 -0.19905064 1.9472562 0.703084 -0.44553536 -1.5692897 -0.363004 -0.07558155 1.7863687 -0.22492197 -0.25773934 -1.5538926 -0.36908916 0.24482231 -1.495694 0.51339495 0.5043237 -0.4106086 1.9655912 0.34972793 -1.0941802 -0.744956 -1.571301 -0.38214844 0.24033594 0.37885264 0.867155 0.6672241 -0.01693214 1.1466063 -0.5114372 0.72631586 0.38685834 -0.00609982 0.918031 -1.0576688 0.68399566 -0.7276541 -1.6443924 -0.22547406 0.28392553 -0.3197943 0.4078551 -0.7731335 -0.32600537 -0.8067985 -0.23840523 0.3526526 0.0196101 0.25087988 -0.6417036 0.005255079 0.21949208 -0.12147077 0.062054902 -0.5454072 1.025671 0.38807088 0.83292055 0.14208733 0.10787519 -0.05181068 0.27549422 -0.87673503 0.29951787 0.4675076 0.7174594 -0.527458 -1.0612055 -0.73938656 0.10550579 0.28773528 -0.5872211 0.7858924 0.8159002 0.518082 -0.63988984 0.072944984 0.26428187 -0.8011928 0.85742646 -0.6546526 -0.93099636 -0.57665247 0.023779552 1.1399913 -0.06637773 0.40282077 -0.9426894 -0.6185797 -0.09437606 0.5359475 0.022806503 -1.2509018 -0.05353026 -0.18726254 1.3856194 0.25013503 -0.27004337 -0.8613362 -0.6058942 0.21644488 -0.020496178 -0.35646865 -0.06542515 -0.11639291 0.7153526 -0.1760036 0.7813124 0.93504244 -0.23096421 -0.1552721 -0.69693065 0.308117 -0.7010237 -0.28066248 -0.21433288 -0.67217493 0.7867059 0.068477064 -0.57168525 0.012380041 -0.17970753 0.31171468 -0.63663334 -0.023489561 0.22867082 -0.33117527 -0.32161456 -0.18029884 0.4430051 -0.15684946 -0.32500783 0.24891087 -0.37589657 0.1752151 -0.7131431 -0.11198734 -1.0265784 -0.82821333 -0.9937131 -0.04920406 0.2835452 -0.5676211 -0.593093 -0.410075 1.022616 1.6055924 -0.53110176 -0.6283989 -0.049254365 -0.97321147 -0.00038947538 0.519022 -0.894111 0.016800117 -0.5091581 -0.35818344 -0.55171865 -0.42846614 -0.10952275 0.4071202 -0.3670231 0.7691647 0.735392 0.28780562 0.5646238 -0.23212996 -0.32656664 -0.73763084 -0.32413647 -0.6763478 -0.29096603 -0.3797785 0.40527463 0.08826317 -0.26290894 0.8125853 -0.56574816 -0.5180119 0.33959463 0.27818117 -0.42889327 0.66216576 0.30071586 0.043642543 0.9566169 -0.7295776 -0.6970514 0.06682913 -0.11611781 1.3372544 -0.7711051 -0.27622965 0.07858875 -0.18716207 -0.21521975 0.21165168 -0.14572033 -0.23844214 0.20200655 1.3710401 0.6067855 1.481676 1.573426 0.60474557 0.40126243 0.3611929 -0.4031999 0.56728536 -0.026211482 0.3288062 -0.691287 -0.09511359 2.0640354 -0.35376358 -0.14619523 -1.1336256 -0.4286315 -0.53594714 0.095278636 -0.04674165 -0.5994138 0.7946129 -1.098087 0.3902552 -0.36271507 0.5038213 0.75229025 0.4611937 0.0022006333 0.41274896 0.63416564 -0.83857703 0.32325786 -0.11804989 -0.4368401 0.019128636 0.28285143 0.43789893 -0.13059512 0.7616387 -0.13585262 0.2664371 0.72596914 0.6382323 -0.37144414 0.5277119 0.35573763 0.1688681 1.1595916 0.0906278 -0.4178283 -1.0203297 -0.088457964 -0.2315415 -0.20515415 0.36526158 0.29821527 -0.736996 -0.4478651 1.1028807 -0.89644456 -0.41372925 -1.2328763 -0.4640182 0.5761474 -0.27844954 0.31586835 0.015641235 0.8092839 -0.9372387 0.9934972 -0.1745011 -1.0877256 0.4443961 0.6014369 0.077761345 -0.084602356 0.19059552 -0.35350552 -1.0678735 -1.0453316 0.27547592 0.9063827 0.06397402 0.18907769 -0.8156636 -0.9964015 -0.21612515 0.37872353 0.09812939 0.2623325 0.6650963 -0.5505926 -0.41475606 -0.15147823 0.3543966 -0.32942224 -0.5251814 0.075754255 0.40572733 1.5484574 0.44342157 0.40193808 0.4500907 0.6327993 0.33049652 -0.27509007 -0.40771475 0.59853494 -0.07888409 -0.615096 0.2346958 0.1482316 -0.6923686 -0.5850022 -0.27653936 -0.65077204 -0.36599004 0.5476607 0.026976332 1.5865514 0.5274796 0.6814955 -0.65799254 0.878574 -0.12011457 0.8211617 -0.77377725 1.2645822 0.12579253 -0.27432328 -0.54965115 -1.0023885 -0.79174185 -1.0093133 1.2638149 -1.506173 0.1553447 -0.109686226 -0.86125576 0.58364683 -0.011541486 -0.6712913 0.7731098 1.8426316 -1.6172205 0.34361455 1.1704623 0.79213065 -0.84654135 0.7066611 0.44231334 0.426677 0.6324037 -0.034689866 -0.46297157 0.5192616 -1.0597641 -0.26437494 0.97451335 -0.22925322 0.19796279 -1.3983903 -0.13544144 -0.47686645 0.11490105 0.14934665 1.0109042 -0.5283708 0.26576567 1.0581495 -1.4754385 3.4011955 0.9815066 0.5532428 0.8212732 -0.15424214 0.24511632 -0.05958248 0.27007103 -0.37704584 -0.9525652 -0.3379977 -0.11389114 0.35535258 0.40745777 -0.91808265 -0.050311718 -0.17617881 -0.64855754 -0.31649047 -0.36157423 -1.325951 -0.39904866 -0.022547163 -0.27759802 -0.02079327 1.000595 1.2254262 0.067013234 -0.4022824 -0.44132692 0.0016483366 -0.46476963 0.50223863 0.11289063 0.47185534 -0.11404542 -1.0319462 -0.5292204 0.569465 0.32238537 -0.33776748 -0.11816757 -0.16153826 -0.428957 -0.572226 0.95514035 -0.929618 0.050701976 -0.2523394 -0.5244093 -0.68299943 -0.018993558 0.14790796 -0.40893796 -1.3917955 0.32277173 -0.09575469 0.5825725 0.7617345 -0.09229246 0.18082699 0.36071482 0.1524885 -0.023177393 0.21314728 0.72768265 -0.019122198 1.0425646 -1.3852326 -0.40800434 0.5618238 -0.8775127 -0.02481873 -0.30698693 0.7367337 0.7375277 -0.5189366 0.30280325 0.9436593 0.83178425 0.38313845 0.665535 0.29839128 -0.9412593 -0.37495625 0.6025321 0.261773 -0.31901595 0.17819108 0.3722279 -0.45606178 0.507588 0.574316 -0.56879294 -0.49606207\n"
     ]
    }
   ],
   "source": [
    "!head -2 \"$TE\"/embeddings.txt"
   ]
  },
  {
   "cell_type": "markdown",
   "metadata": {},
   "source": [
    "Load the text embeddings in gensim"
   ]
  },
  {
   "cell_type": "code",
   "execution_count": 19,
   "metadata": {},
   "outputs": [],
   "source": [
    "te_path = os.environ['TE'] + \"/text-embedding.w2v.txt\"\n",
    "te_vectors = KeyedVectors.load_word2vec_format(te_path, binary=False)"
   ]
  },
  {
   "cell_type": "markdown",
   "metadata": {},
   "source": [
    "### Compare the graph and text embeddings"
   ]
  },
  {
   "cell_type": "markdown",
   "metadata": {},
   "source": [
    "Most similar nodes to Johnnie Walker using the **graph embeddings**"
   ]
  },
  {
   "cell_type": "code",
   "execution_count": 70,
   "metadata": {},
   "outputs": [
    {
     "data": {
      "text/html": [
       "<div>\n",
       "<style scoped>\n",
       "    .dataframe tbody tr th:only-of-type {\n",
       "        vertical-align: middle;\n",
       "    }\n",
       "\n",
       "    .dataframe tbody tr th {\n",
       "        vertical-align: top;\n",
       "    }\n",
       "\n",
       "    .dataframe thead th {\n",
       "        text-align: right;\n",
       "    }\n",
       "</style>\n",
       "<table border=\"1\" class=\"dataframe\">\n",
       "  <thead>\n",
       "    <tr style=\"text-align: right;\">\n",
       "      <th></th>\n",
       "      <th>node1</th>\n",
       "      <th>node2</th>\n",
       "      <th>label</th>\n",
       "      <th>node1;label</th>\n",
       "      <th>node1;description</th>\n",
       "    </tr>\n",
       "  </thead>\n",
       "  <tbody>\n",
       "    <tr>\n",
       "      <th>0</th>\n",
       "      <td>Q1799948</td>\n",
       "      <td>0.8258494138717651</td>\n",
       "      <td>similarity</td>\n",
       "      <td>'Ladies of Leisure'@en</td>\n",
       "      <td>'1930 film by Frank Capra'@en</td>\n",
       "    </tr>\n",
       "    <tr>\n",
       "      <th>1</th>\n",
       "      <td>Q4865371</td>\n",
       "      <td>0.8253136277198792</td>\n",
       "      <td>similarity</td>\n",
       "      <td>'Bartlet for America'@en</td>\n",
       "      <td>'episode of The West Wing (S3 E9)'@en</td>\n",
       "    </tr>\n",
       "    <tr>\n",
       "      <th>2</th>\n",
       "      <td>Q2288328</td>\n",
       "      <td>0.8127017021179199</td>\n",
       "      <td>similarity</td>\n",
       "      <td>'The Matinee Idol'@en</td>\n",
       "      <td>'1928 film by Walt Disney, Frank Capra'@en</td>\n",
       "    </tr>\n",
       "    <tr>\n",
       "      <th>3</th>\n",
       "      <td>Q7736602</td>\n",
       "      <td>0.8067774772644043</td>\n",
       "      <td>similarity</td>\n",
       "      <td>'The Girl of the Golden West'@en</td>\n",
       "      <td>'1930 film by John Francis Dillon'@en</td>\n",
       "    </tr>\n",
       "    <tr>\n",
       "      <th>4</th>\n",
       "      <td>Q7084279</td>\n",
       "      <td>0.8052603006362915</td>\n",
       "      <td>similarity</td>\n",
       "      <td>'Old Ironsides'@en</td>\n",
       "      <td>'1926 film by James Cruze'@en</td>\n",
       "    </tr>\n",
       "    <tr>\n",
       "      <th>5</th>\n",
       "      <td>Q209135</td>\n",
       "      <td>0.7267813086509705</td>\n",
       "      <td>similarity</td>\n",
       "      <td>'East Ayrshire'@en</td>\n",
       "      <td>'council area of Scotland'@en</td>\n",
       "    </tr>\n",
       "    <tr>\n",
       "      <th>6</th>\n",
       "      <td>Q628737</td>\n",
       "      <td>0.6894252896308899</td>\n",
       "      <td>similarity</td>\n",
       "      <td>'Campbeltown Single Malts'@en</td>\n",
       "      <td>'single malt Scotch whiskies distilled in the ...</td>\n",
       "    </tr>\n",
       "    <tr>\n",
       "      <th>7</th>\n",
       "      <td>P3029</td>\n",
       "      <td>0.6503645777702332</td>\n",
       "      <td>similarity</td>\n",
       "      <td>'UK National Archives ID'@en</td>\n",
       "      <td>'identifier for a person, family or organisati...</td>\n",
       "    </tr>\n",
       "    <tr>\n",
       "      <th>8</th>\n",
       "      <td>Q32358417</td>\n",
       "      <td>0.6465252041816711</td>\n",
       "      <td>similarity</td>\n",
       "      <td>'Category:Births in East Ayrshire'@en</td>\n",
       "      <td>'Wikimedia category'@en</td>\n",
       "    </tr>\n",
       "    <tr>\n",
       "      <th>9</th>\n",
       "      <td>Q501320</td>\n",
       "      <td>0.6421428918838501</td>\n",
       "      <td>similarity</td>\n",
       "      <td>'Mortlach Distillery'@en</td>\n",
       "      <td>'whisky distillery'@en</td>\n",
       "    </tr>\n",
       "  </tbody>\n",
       "</table>\n",
       "</div>"
      ],
      "text/plain": [
       "       node1               node2       label  \\\n",
       "0   Q1799948  0.8258494138717651  similarity   \n",
       "1   Q4865371  0.8253136277198792  similarity   \n",
       "2   Q2288328  0.8127017021179199  similarity   \n",
       "3   Q7736602  0.8067774772644043  similarity   \n",
       "4   Q7084279  0.8052603006362915  similarity   \n",
       "5    Q209135  0.7267813086509705  similarity   \n",
       "6    Q628737  0.6894252896308899  similarity   \n",
       "7      P3029  0.6503645777702332  similarity   \n",
       "8  Q32358417  0.6465252041816711  similarity   \n",
       "9    Q501320  0.6421428918838501  similarity   \n",
       "\n",
       "                             node1;label  \\\n",
       "0                 'Ladies of Leisure'@en   \n",
       "1               'Bartlet for America'@en   \n",
       "2                  'The Matinee Idol'@en   \n",
       "3       'The Girl of the Golden West'@en   \n",
       "4                     'Old Ironsides'@en   \n",
       "5                     'East Ayrshire'@en   \n",
       "6          'Campbeltown Single Malts'@en   \n",
       "7           'UK National Archives ID'@en   \n",
       "8  'Category:Births in East Ayrshire'@en   \n",
       "9               'Mortlach Distillery'@en   \n",
       "\n",
       "                                   node1;description  \n",
       "0                      '1930 film by Frank Capra'@en  \n",
       "1              'episode of The West Wing (S3 E9)'@en  \n",
       "2         '1928 film by Walt Disney, Frank Capra'@en  \n",
       "3              '1930 film by John Francis Dillon'@en  \n",
       "4                      '1926 film by James Cruze'@en  \n",
       "5                      'council area of Scotland'@en  \n",
       "6  'single malt Scotch whiskies distilled in the ...  \n",
       "7  'identifier for a person, family or organisati...  \n",
       "8                            'Wikimedia category'@en  \n",
       "9                             'whisky distillery'@en  "
      ]
     },
     "execution_count": 70,
     "metadata": {},
     "output_type": "execute_result"
    }
   ],
   "source": [
    "# Q502268 is Johnnie Walker\n",
    "kgtk_most_similar(ge_vectors, positive=['Q502268'], kg_path=os.environ['OUT'] + \"/parts\", topn=10)"
   ]
  },
  {
   "cell_type": "markdown",
   "metadata": {},
   "source": [
    "Most similar nodes to Johnnie Walker using the **text embeddings**"
   ]
  },
  {
   "cell_type": "code",
   "execution_count": 21,
   "metadata": {},
   "outputs": [
    {
     "data": {
      "text/html": [
       "<div>\n",
       "<style scoped>\n",
       "    .dataframe tbody tr th:only-of-type {\n",
       "        vertical-align: middle;\n",
       "    }\n",
       "\n",
       "    .dataframe tbody tr th {\n",
       "        vertical-align: top;\n",
       "    }\n",
       "\n",
       "    .dataframe thead th {\n",
       "        text-align: right;\n",
       "    }\n",
       "</style>\n",
       "<table border=\"1\" class=\"dataframe\">\n",
       "  <thead>\n",
       "    <tr style=\"text-align: right;\">\n",
       "      <th></th>\n",
       "      <th>node1</th>\n",
       "      <th>node2</th>\n",
       "      <th>label</th>\n",
       "      <th>node1;label</th>\n",
       "      <th>node1;description</th>\n",
       "    </tr>\n",
       "  </thead>\n",
       "  <tbody>\n",
       "    <tr>\n",
       "      <th>0</th>\n",
       "      <td>Q280</td>\n",
       "      <td>0.9379171133041382</td>\n",
       "      <td>similarity</td>\n",
       "      <td>'Lagavulin Distillery'@en</td>\n",
       "      <td>'Scotch whisky distillery in Lagavulin, Islay,...</td>\n",
       "    </tr>\n",
       "    <tr>\n",
       "      <th>1</th>\n",
       "      <td>Q2490031</td>\n",
       "      <td>0.9346836805343628</td>\n",
       "      <td>similarity</td>\n",
       "      <td>'William Grant &amp; Sons'@en</td>\n",
       "      <td>'Scottish company which distills Scotch whisky...</td>\n",
       "    </tr>\n",
       "    <tr>\n",
       "      <th>2</th>\n",
       "      <td>Q1543646</td>\n",
       "      <td>0.9012988805770874</td>\n",
       "      <td>similarity</td>\n",
       "      <td>'Rob Roy'@en</td>\n",
       "      <td>'cocktail based on Scotch whisky'@en</td>\n",
       "    </tr>\n",
       "    <tr>\n",
       "      <th>3</th>\n",
       "      <td>Q2168523</td>\n",
       "      <td>0.8907997012138367</td>\n",
       "      <td>similarity</td>\n",
       "      <td>'The Famous Grouse'@en</td>\n",
       "      <td>'brand of Scotch whisky'@en</td>\n",
       "    </tr>\n",
       "    <tr>\n",
       "      <th>4</th>\n",
       "      <td>Q1069502</td>\n",
       "      <td>0.8856703042984009</td>\n",
       "      <td>similarity</td>\n",
       "      <td>'Chivas Regal'@en</td>\n",
       "      <td>'Blended Scotch Whisky produced by Chivas Brot...</td>\n",
       "    </tr>\n",
       "    <tr>\n",
       "      <th>5</th>\n",
       "      <td>Q4821838</td>\n",
       "      <td>0.8762272596359253</td>\n",
       "      <td>similarity</td>\n",
       "      <td>'Aultmore distillery'@en</td>\n",
       "      <td>'whisky distillery in Moray, Scotland, UK'@en</td>\n",
       "    </tr>\n",
       "    <tr>\n",
       "      <th>6</th>\n",
       "      <td>Q4720319</td>\n",
       "      <td>0.8761684894561768</td>\n",
       "      <td>similarity</td>\n",
       "      <td>'Alexander Walker'@en</td>\n",
       "      <td>'Scottish whisky distiller'@en</td>\n",
       "    </tr>\n",
       "    <tr>\n",
       "      <th>7</th>\n",
       "      <td>Q1754978</td>\n",
       "      <td>0.8664095401763916</td>\n",
       "      <td>similarity</td>\n",
       "      <td>'Rusty Nail'@en</td>\n",
       "      <td>'cocktail mixing Drambuie and Scotch whisky'@en</td>\n",
       "    </tr>\n",
       "    <tr>\n",
       "      <th>8</th>\n",
       "      <td>Q42032478</td>\n",
       "      <td>0.8583760857582092</td>\n",
       "      <td>similarity</td>\n",
       "      <td>'Tiree Whisky Company'@en</td>\n",
       "      <td>'company that sells whisky on the island of Ti...</td>\n",
       "    </tr>\n",
       "    <tr>\n",
       "      <th>9</th>\n",
       "      <td>Q20031443</td>\n",
       "      <td>0.8488548994064331</td>\n",
       "      <td>similarity</td>\n",
       "      <td>'Something Special'@en</td>\n",
       "      <td>'blended Scotch whisky'@en</td>\n",
       "    </tr>\n",
       "  </tbody>\n",
       "</table>\n",
       "</div>"
      ],
      "text/plain": [
       "       node1               node2       label                node1;label  \\\n",
       "0       Q280  0.9379171133041382  similarity  'Lagavulin Distillery'@en   \n",
       "1   Q2490031  0.9346836805343628  similarity  'William Grant & Sons'@en   \n",
       "2   Q1543646  0.9012988805770874  similarity               'Rob Roy'@en   \n",
       "3   Q2168523  0.8907997012138367  similarity     'The Famous Grouse'@en   \n",
       "4   Q1069502  0.8856703042984009  similarity          'Chivas Regal'@en   \n",
       "5   Q4821838  0.8762272596359253  similarity   'Aultmore distillery'@en   \n",
       "6   Q4720319  0.8761684894561768  similarity      'Alexander Walker'@en   \n",
       "7   Q1754978  0.8664095401763916  similarity            'Rusty Nail'@en   \n",
       "8  Q42032478  0.8583760857582092  similarity  'Tiree Whisky Company'@en   \n",
       "9  Q20031443  0.8488548994064331  similarity     'Something Special'@en   \n",
       "\n",
       "                                   node1;description  \n",
       "0  'Scotch whisky distillery in Lagavulin, Islay,...  \n",
       "1  'Scottish company which distills Scotch whisky...  \n",
       "2               'cocktail based on Scotch whisky'@en  \n",
       "3                        'brand of Scotch whisky'@en  \n",
       "4  'Blended Scotch Whisky produced by Chivas Brot...  \n",
       "5      'whisky distillery in Moray, Scotland, UK'@en  \n",
       "6                     'Scottish whisky distiller'@en  \n",
       "7    'cocktail mixing Drambuie and Scotch whisky'@en  \n",
       "8  'company that sells whisky on the island of Ti...  \n",
       "9                         'blended Scotch whisky'@en  "
      ]
     },
     "execution_count": 21,
     "metadata": {},
     "output_type": "execute_result"
    }
   ],
   "source": [
    "# Q502268 is Johnnie Walker\n",
    "kgtk_most_similar(te_vectors, positive=['Q502268'], kg_path=os.environ['OUT'] + \"/parts\", topn=10)"
   ]
  },
  {
   "cell_type": "markdown",
   "metadata": {},
   "source": [
    "The graph embeddings produce poor results as the top matches are not related to whiskey. The text embeddings look much better."
   ]
  },
  {
   "cell_type": "markdown",
   "metadata": {},
   "source": [
    "Most similar nodes to Michelob using the **graph embeddings**"
   ]
  },
  {
   "cell_type": "code",
   "execution_count": 71,
   "metadata": {},
   "outputs": [
    {
     "data": {
      "text/html": [
       "<div>\n",
       "<style scoped>\n",
       "    .dataframe tbody tr th:only-of-type {\n",
       "        vertical-align: middle;\n",
       "    }\n",
       "\n",
       "    .dataframe tbody tr th {\n",
       "        vertical-align: top;\n",
       "    }\n",
       "\n",
       "    .dataframe thead th {\n",
       "        text-align: right;\n",
       "    }\n",
       "</style>\n",
       "<table border=\"1\" class=\"dataframe\">\n",
       "  <thead>\n",
       "    <tr style=\"text-align: right;\">\n",
       "      <th></th>\n",
       "      <th>node1</th>\n",
       "      <th>node2</th>\n",
       "      <th>label</th>\n",
       "      <th>node1;label</th>\n",
       "      <th>node1;description</th>\n",
       "    </tr>\n",
       "  </thead>\n",
       "  <tbody>\n",
       "    <tr>\n",
       "      <th>0</th>\n",
       "      <td>Q610672</td>\n",
       "      <td>0.9382461905479431</td>\n",
       "      <td>similarity</td>\n",
       "      <td>'Budweiser'@en</td>\n",
       "      <td>'brand of pale lager'@en</td>\n",
       "    </tr>\n",
       "    <tr>\n",
       "      <th>1</th>\n",
       "      <td>Q85269976</td>\n",
       "      <td>0.7516792416572571</td>\n",
       "      <td>similarity</td>\n",
       "      <td>'Busch Beer'@en</td>\n",
       "      <td>'brand of beer owned by Anheuser-Busch'@en</td>\n",
       "    </tr>\n",
       "    <tr>\n",
       "      <th>2</th>\n",
       "      <td>Q2397992</td>\n",
       "      <td>0.7307605743408203</td>\n",
       "      <td>similarity</td>\n",
       "      <td>'malt liquor'@en</td>\n",
       "      <td>'beer style'@en</td>\n",
       "    </tr>\n",
       "    <tr>\n",
       "      <th>3</th>\n",
       "      <td>Q4912182</td>\n",
       "      <td>0.7301785945892334</td>\n",
       "      <td>similarity</td>\n",
       "      <td>'Billy Beer'@en</td>\n",
       "      <td>'beer produced in the United States'@en</td>\n",
       "    </tr>\n",
       "    <tr>\n",
       "      <th>4</th>\n",
       "      <td>Q5149389</td>\n",
       "      <td>0.7276897430419922</td>\n",
       "      <td>similarity</td>\n",
       "      <td>'Colt 45'@en</td>\n",
       "      <td>'malt liquor'@en</td>\n",
       "    </tr>\n",
       "    <tr>\n",
       "      <th>5</th>\n",
       "      <td>Q694536</td>\n",
       "      <td>0.7243717312812805</td>\n",
       "      <td>similarity</td>\n",
       "      <td>'American whiskey'@en</td>\n",
       "      <td>'Whiskey produced in the United States'@en</td>\n",
       "    </tr>\n",
       "    <tr>\n",
       "      <th>6</th>\n",
       "      <td>Q3079990</td>\n",
       "      <td>0.7207326292991638</td>\n",
       "      <td>similarity</td>\n",
       "      <td>'Four Loko'@en</td>\n",
       "      <td>'Drink'@en</td>\n",
       "    </tr>\n",
       "  </tbody>\n",
       "</table>\n",
       "</div>"
      ],
      "text/plain": [
       "       node1               node2       label            node1;label  \\\n",
       "0    Q610672  0.9382461905479431  similarity         'Budweiser'@en   \n",
       "1  Q85269976  0.7516792416572571  similarity        'Busch Beer'@en   \n",
       "2   Q2397992  0.7307605743408203  similarity       'malt liquor'@en   \n",
       "3   Q4912182  0.7301785945892334  similarity        'Billy Beer'@en   \n",
       "4   Q5149389  0.7276897430419922  similarity           'Colt 45'@en   \n",
       "5    Q694536  0.7243717312812805  similarity  'American whiskey'@en   \n",
       "6   Q3079990  0.7207326292991638  similarity         'Four Loko'@en   \n",
       "\n",
       "                            node1;description  \n",
       "0                    'brand of pale lager'@en  \n",
       "1  'brand of beer owned by Anheuser-Busch'@en  \n",
       "2                             'beer style'@en  \n",
       "3     'beer produced in the United States'@en  \n",
       "4                            'malt liquor'@en  \n",
       "5  'Whiskey produced in the United States'@en  \n",
       "6                                  'Drink'@en  "
      ]
     },
     "execution_count": 71,
     "metadata": {},
     "output_type": "execute_result"
    }
   ],
   "source": [
    "# Q15874936 is Michelob\n",
    "kgtk_most_similar(ge_vectors, positive=['Q15874936'], kg_path=os.environ['OUT'] + \"/parts\", topn=10)"
   ]
  },
  {
   "cell_type": "markdown",
   "metadata": {},
   "source": [
    "Most similar nodes to Michelob using the **text embeddings**"
   ]
  },
  {
   "cell_type": "code",
   "execution_count": 23,
   "metadata": {},
   "outputs": [
    {
     "data": {
      "text/html": [
       "<div>\n",
       "<style scoped>\n",
       "    .dataframe tbody tr th:only-of-type {\n",
       "        vertical-align: middle;\n",
       "    }\n",
       "\n",
       "    .dataframe tbody tr th {\n",
       "        vertical-align: top;\n",
       "    }\n",
       "\n",
       "    .dataframe thead th {\n",
       "        text-align: right;\n",
       "    }\n",
       "</style>\n",
       "<table border=\"1\" class=\"dataframe\">\n",
       "  <thead>\n",
       "    <tr style=\"text-align: right;\">\n",
       "      <th></th>\n",
       "      <th>node1</th>\n",
       "      <th>node2</th>\n",
       "      <th>label</th>\n",
       "      <th>node1;label</th>\n",
       "      <th>node1;description</th>\n",
       "    </tr>\n",
       "  </thead>\n",
       "  <tbody>\n",
       "    <tr>\n",
       "      <th>0</th>\n",
       "      <td>Q2011473</td>\n",
       "      <td>0.9664472341537476</td>\n",
       "      <td>similarity</td>\n",
       "      <td>'Fantôme'@en</td>\n",
       "      <td>'brand of beer'@en</td>\n",
       "    </tr>\n",
       "    <tr>\n",
       "      <th>1</th>\n",
       "      <td>Q3315575</td>\n",
       "      <td>0.9586231708526611</td>\n",
       "      <td>similarity</td>\n",
       "      <td>'Bersalis'@en</td>\n",
       "      <td>'beer brand'@en</td>\n",
       "    </tr>\n",
       "    <tr>\n",
       "      <th>2</th>\n",
       "      <td>Q3518554</td>\n",
       "      <td>0.9563601016998291</td>\n",
       "      <td>similarity</td>\n",
       "      <td>'Floris'@en</td>\n",
       "      <td>'beer brand'@en</td>\n",
       "    </tr>\n",
       "    <tr>\n",
       "      <th>3</th>\n",
       "      <td>Q15076069</td>\n",
       "      <td>0.9531255960464478</td>\n",
       "      <td>similarity</td>\n",
       "      <td>'Marckloff'@en</td>\n",
       "      <td>'beer brand'@en</td>\n",
       "    </tr>\n",
       "    <tr>\n",
       "      <th>4</th>\n",
       "      <td>Q1277388</td>\n",
       "      <td>0.9511646628379822</td>\n",
       "      <td>similarity</td>\n",
       "      <td>'Pripps Blå'@en</td>\n",
       "      <td>'beer brand'@en</td>\n",
       "    </tr>\n",
       "    <tr>\n",
       "      <th>5</th>\n",
       "      <td>Q1917255</td>\n",
       "      <td>0.9475076794624329</td>\n",
       "      <td>similarity</td>\n",
       "      <td>'St-Idesbald'@en</td>\n",
       "      <td>'beer'@en</td>\n",
       "    </tr>\n",
       "    <tr>\n",
       "      <th>6</th>\n",
       "      <td>Q263980</td>\n",
       "      <td>0.9443504810333252</td>\n",
       "      <td>similarity</td>\n",
       "      <td>'Soproni'@en</td>\n",
       "      <td>'beer mark'@en</td>\n",
       "    </tr>\n",
       "    <tr>\n",
       "      <th>7</th>\n",
       "      <td>Q3337782</td>\n",
       "      <td>0.9438232779502869</td>\n",
       "      <td>similarity</td>\n",
       "      <td>'Carrousel'@en</td>\n",
       "      <td>'Beer'@en</td>\n",
       "    </tr>\n",
       "  </tbody>\n",
       "</table>\n",
       "</div>"
      ],
      "text/plain": [
       "       node1               node2       label       node1;label  \\\n",
       "0   Q2011473  0.9664472341537476  similarity      'Fantôme'@en   \n",
       "1   Q3315575  0.9586231708526611  similarity     'Bersalis'@en   \n",
       "2   Q3518554  0.9563601016998291  similarity       'Floris'@en   \n",
       "3  Q15076069  0.9531255960464478  similarity    'Marckloff'@en   \n",
       "4   Q1277388  0.9511646628379822  similarity   'Pripps Blå'@en   \n",
       "5   Q1917255  0.9475076794624329  similarity  'St-Idesbald'@en   \n",
       "6    Q263980  0.9443504810333252  similarity      'Soproni'@en   \n",
       "7   Q3337782  0.9438232779502869  similarity    'Carrousel'@en   \n",
       "\n",
       "    node1;description  \n",
       "0  'brand of beer'@en  \n",
       "1     'beer brand'@en  \n",
       "2     'beer brand'@en  \n",
       "3     'beer brand'@en  \n",
       "4     'beer brand'@en  \n",
       "5           'beer'@en  \n",
       "6      'beer mark'@en  \n",
       "7           'Beer'@en  "
      ]
     },
     "execution_count": 23,
     "metadata": {},
     "output_type": "execute_result"
    }
   ],
   "source": [
    "# Q15874936 is Michelob\n",
    "kgtk_most_similar(te_vectors, positive=['Q15874936'], kg_path=os.environ['OUT'] + \"/parts\", topn=10)"
   ]
  },
  {
   "cell_type": "markdown",
   "metadata": {},
   "source": [
    "The graph embeddings contain some bad results, but the top matches are better as they include beers that are more closely related to Michelob. The text embeddings are reasonable as they include only beers."
   ]
  },
  {
   "cell_type": "markdown",
   "metadata": {},
   "source": [
    "Most similar nodes to vodka using the **graph embeddings**"
   ]
  },
  {
   "cell_type": "code",
   "execution_count": 72,
   "metadata": {},
   "outputs": [
    {
     "data": {
      "text/html": [
       "<div>\n",
       "<style scoped>\n",
       "    .dataframe tbody tr th:only-of-type {\n",
       "        vertical-align: middle;\n",
       "    }\n",
       "\n",
       "    .dataframe tbody tr th {\n",
       "        vertical-align: top;\n",
       "    }\n",
       "\n",
       "    .dataframe thead th {\n",
       "        text-align: right;\n",
       "    }\n",
       "</style>\n",
       "<table border=\"1\" class=\"dataframe\">\n",
       "  <thead>\n",
       "    <tr style=\"text-align: right;\">\n",
       "      <th></th>\n",
       "      <th>node1</th>\n",
       "      <th>node2</th>\n",
       "      <th>label</th>\n",
       "      <th>node1;label</th>\n",
       "      <th>node1;description</th>\n",
       "    </tr>\n",
       "  </thead>\n",
       "  <tbody>\n",
       "    <tr>\n",
       "      <th>0</th>\n",
       "      <td>Q7468032</td>\n",
       "      <td>0.870713472366333</td>\n",
       "      <td>similarity</td>\n",
       "      <td>'Vodka'@en</td>\n",
       "      <td>'Detective Conan character'@en</td>\n",
       "    </tr>\n",
       "    <tr>\n",
       "      <th>1</th>\n",
       "      <td>Q11328065</td>\n",
       "      <td>0.8691505193710327</td>\n",
       "      <td>similarity</td>\n",
       "      <td>'Balalaika'@en</td>\n",
       "      <td>'Japanese short drink, cocktail'@en</td>\n",
       "    </tr>\n",
       "    <tr>\n",
       "      <th>2</th>\n",
       "      <td>Q20577688</td>\n",
       "      <td>0.8569937348365784</td>\n",
       "      <td>similarity</td>\n",
       "      <td>'.vodka'@en</td>\n",
       "      <td>'top-level Internet domain'@en</td>\n",
       "    </tr>\n",
       "    <tr>\n",
       "      <th>3</th>\n",
       "      <td>Q2206588</td>\n",
       "      <td>0.8523291349411011</td>\n",
       "      <td>similarity</td>\n",
       "      <td>'Caipiroska'@en</td>\n",
       "      <td>'cocktail prepared with vodka'@en</td>\n",
       "    </tr>\n",
       "    <tr>\n",
       "      <th>4</th>\n",
       "      <td>Q21189725</td>\n",
       "      <td>0.8516043424606323</td>\n",
       "      <td>similarity</td>\n",
       "      <td>'Red Eye Louie\\\\\\\\'s Vodquila'@en</td>\n",
       "      <td>'blend of vodka and tequila'@en</td>\n",
       "    </tr>\n",
       "    <tr>\n",
       "      <th>5</th>\n",
       "      <td>Q23712704</td>\n",
       "      <td>0.8362079858779907</td>\n",
       "      <td>similarity</td>\n",
       "      <td>'EB-11 / Vodka'@en</td>\n",
       "      <td>'encyclopedic article'@en</td>\n",
       "    </tr>\n",
       "    <tr>\n",
       "      <th>6</th>\n",
       "      <td>Q7151801</td>\n",
       "      <td>0.8258033394813538</td>\n",
       "      <td>similarity</td>\n",
       "      <td>'Category:Vodkas'@en</td>\n",
       "      <td>'Wikimedia category'@en</td>\n",
       "    </tr>\n",
       "  </tbody>\n",
       "</table>\n",
       "</div>"
      ],
      "text/plain": [
       "       node1               node2       label  \\\n",
       "0   Q7468032   0.870713472366333  similarity   \n",
       "1  Q11328065  0.8691505193710327  similarity   \n",
       "2  Q20577688  0.8569937348365784  similarity   \n",
       "3   Q2206588  0.8523291349411011  similarity   \n",
       "4  Q21189725  0.8516043424606323  similarity   \n",
       "5  Q23712704  0.8362079858779907  similarity   \n",
       "6   Q7151801  0.8258033394813538  similarity   \n",
       "\n",
       "                         node1;label                    node1;description  \n",
       "0                         'Vodka'@en       'Detective Conan character'@en  \n",
       "1                     'Balalaika'@en  'Japanese short drink, cocktail'@en  \n",
       "2                        '.vodka'@en       'top-level Internet domain'@en  \n",
       "3                    'Caipiroska'@en    'cocktail prepared with vodka'@en  \n",
       "4  'Red Eye Louie\\\\\\\\'s Vodquila'@en      'blend of vodka and tequila'@en  \n",
       "5                 'EB-11 / Vodka'@en            'encyclopedic article'@en  \n",
       "6               'Category:Vodkas'@en              'Wikimedia category'@en  "
      ]
     },
     "execution_count": 72,
     "metadata": {},
     "output_type": "execute_result"
    }
   ],
   "source": [
    "# Q374 is vodka\n",
    "kgtk_most_similar(ge_vectors, positive=['Q374'], kg_path=os.environ['OUT'] + \"/parts\", topn=10)"
   ]
  },
  {
   "cell_type": "markdown",
   "metadata": {},
   "source": [
    "Most similar nodes to vodka using the **text embeddings**"
   ]
  },
  {
   "cell_type": "code",
   "execution_count": 25,
   "metadata": {},
   "outputs": [
    {
     "data": {
      "text/html": [
       "<div>\n",
       "<style scoped>\n",
       "    .dataframe tbody tr th:only-of-type {\n",
       "        vertical-align: middle;\n",
       "    }\n",
       "\n",
       "    .dataframe tbody tr th {\n",
       "        vertical-align: top;\n",
       "    }\n",
       "\n",
       "    .dataframe thead th {\n",
       "        text-align: right;\n",
       "    }\n",
       "</style>\n",
       "<table border=\"1\" class=\"dataframe\">\n",
       "  <thead>\n",
       "    <tr style=\"text-align: right;\">\n",
       "      <th></th>\n",
       "      <th>node1</th>\n",
       "      <th>node2</th>\n",
       "      <th>label</th>\n",
       "      <th>node1;label</th>\n",
       "      <th>node1;description</th>\n",
       "    </tr>\n",
       "  </thead>\n",
       "  <tbody>\n",
       "    <tr>\n",
       "      <th>0</th>\n",
       "      <td>Q4869283</td>\n",
       "      <td>0.9598516225814819</td>\n",
       "      <td>similarity</td>\n",
       "      <td>'Batini'@en</td>\n",
       "      <td>'vodka-based cocktail'@en</td>\n",
       "    </tr>\n",
       "    <tr>\n",
       "      <th>1</th>\n",
       "      <td>Q3562046</td>\n",
       "      <td>0.9595369100570679</td>\n",
       "      <td>similarity</td>\n",
       "      <td>'Vodka Stinger'@en</td>\n",
       "      <td>'type of cocktail'@en</td>\n",
       "    </tr>\n",
       "    <tr>\n",
       "      <th>2</th>\n",
       "      <td>Q2206588</td>\n",
       "      <td>0.943680465221405</td>\n",
       "      <td>similarity</td>\n",
       "      <td>'Caipiroska'@en</td>\n",
       "      <td>'cocktail prepared with vodka'@en</td>\n",
       "    </tr>\n",
       "    <tr>\n",
       "      <th>3</th>\n",
       "      <td>Q22236238</td>\n",
       "      <td>0.9384630918502808</td>\n",
       "      <td>similarity</td>\n",
       "      <td>'Mariette'@en</td>\n",
       "      <td>'vodka, alcohol'@en</td>\n",
       "    </tr>\n",
       "    <tr>\n",
       "      <th>4</th>\n",
       "      <td>Q7939317</td>\n",
       "      <td>0.9203515648841858</td>\n",
       "      <td>similarity</td>\n",
       "      <td>'Vodka Cruiser'@en</td>\n",
       "      <td>'brand of vodka-based alcoholic drink'@en</td>\n",
       "    </tr>\n",
       "    <tr>\n",
       "      <th>5</th>\n",
       "      <td>Q11802565</td>\n",
       "      <td>0.9155371189117432</td>\n",
       "      <td>similarity</td>\n",
       "      <td>'Pan Tadeusz'@en</td>\n",
       "      <td>'brand of vodka'@en</td>\n",
       "    </tr>\n",
       "    <tr>\n",
       "      <th>6</th>\n",
       "      <td>Q268057</td>\n",
       "      <td>0.9129104614257812</td>\n",
       "      <td>similarity</td>\n",
       "      <td>'cosmopolitan'@en</td>\n",
       "      <td>'cocktail made with vodka'@en</td>\n",
       "    </tr>\n",
       "    <tr>\n",
       "      <th>7</th>\n",
       "      <td>Q4782617</td>\n",
       "      <td>0.9107505679130554</td>\n",
       "      <td>similarity</td>\n",
       "      <td>'Aqua Velva'@en</td>\n",
       "      <td>'vodka and gin based cocktail'@en</td>\n",
       "    </tr>\n",
       "  </tbody>\n",
       "</table>\n",
       "</div>"
      ],
      "text/plain": [
       "       node1               node2       label         node1;label  \\\n",
       "0   Q4869283  0.9598516225814819  similarity         'Batini'@en   \n",
       "1   Q3562046  0.9595369100570679  similarity  'Vodka Stinger'@en   \n",
       "2   Q2206588   0.943680465221405  similarity     'Caipiroska'@en   \n",
       "3  Q22236238  0.9384630918502808  similarity       'Mariette'@en   \n",
       "4   Q7939317  0.9203515648841858  similarity  'Vodka Cruiser'@en   \n",
       "5  Q11802565  0.9155371189117432  similarity    'Pan Tadeusz'@en   \n",
       "6    Q268057  0.9129104614257812  similarity   'cosmopolitan'@en   \n",
       "7   Q4782617  0.9107505679130554  similarity     'Aqua Velva'@en   \n",
       "\n",
       "                           node1;description  \n",
       "0                  'vodka-based cocktail'@en  \n",
       "1                      'type of cocktail'@en  \n",
       "2          'cocktail prepared with vodka'@en  \n",
       "3                        'vodka, alcohol'@en  \n",
       "4  'brand of vodka-based alcoholic drink'@en  \n",
       "5                        'brand of vodka'@en  \n",
       "6              'cocktail made with vodka'@en  \n",
       "7          'vodka and gin based cocktail'@en  "
      ]
     },
     "execution_count": 25,
     "metadata": {},
     "output_type": "execute_result"
    }
   ],
   "source": [
    "# Q374 is vodka\n",
    "kgtk_most_similar(te_vectors, positive=['Q374'], kg_path=os.environ['OUT'] + \"/parts\", topn=10)"
   ]
  },
  {
   "cell_type": "markdown",
   "metadata": {},
   "source": [
    "The graph embeddings are noisy as the top matches include nodes not related to vodka, the text embeddings look much better."
   ]
  },
  {
   "cell_type": "markdown",
   "metadata": {},
   "source": [
    "Let's look at countries now as the differences between the two types of embeddings are more striking.\n",
    "The graph embeddings retrieve nodes that are related to Ireland:"
   ]
  },
  {
   "cell_type": "code",
   "execution_count": 73,
   "metadata": {},
   "outputs": [
    {
     "data": {
      "text/html": [
       "<div>\n",
       "<style scoped>\n",
       "    .dataframe tbody tr th:only-of-type {\n",
       "        vertical-align: middle;\n",
       "    }\n",
       "\n",
       "    .dataframe tbody tr th {\n",
       "        vertical-align: top;\n",
       "    }\n",
       "\n",
       "    .dataframe thead th {\n",
       "        text-align: right;\n",
       "    }\n",
       "</style>\n",
       "<table border=\"1\" class=\"dataframe\">\n",
       "  <thead>\n",
       "    <tr style=\"text-align: right;\">\n",
       "      <th></th>\n",
       "      <th>node1</th>\n",
       "      <th>node2</th>\n",
       "      <th>label</th>\n",
       "      <th>node1;label</th>\n",
       "      <th>node1;description</th>\n",
       "    </tr>\n",
       "  </thead>\n",
       "  <tbody>\n",
       "    <tr>\n",
       "      <th>0</th>\n",
       "      <td>Q9676</td>\n",
       "      <td>0.8768500089645386</td>\n",
       "      <td>similarity</td>\n",
       "      <td>'Isle of Man'@en</td>\n",
       "      <td>'British Crown dependency'@en</td>\n",
       "    </tr>\n",
       "    <tr>\n",
       "      <th>1</th>\n",
       "      <td>Q4368623</td>\n",
       "      <td>0.8426293730735779</td>\n",
       "      <td>similarity</td>\n",
       "      <td>'Category:Republic of Ireland'@en</td>\n",
       "      <td>'Wikimedia category'@en</td>\n",
       "    </tr>\n",
       "    <tr>\n",
       "      <th>2</th>\n",
       "      <td>Q184760</td>\n",
       "      <td>0.817055344581604</td>\n",
       "      <td>similarity</td>\n",
       "      <td>'County Monaghan'@en</td>\n",
       "      <td>'county in Ireland'@en</td>\n",
       "    </tr>\n",
       "    <tr>\n",
       "      <th>3</th>\n",
       "      <td>Q164421</td>\n",
       "      <td>0.8150794506072998</td>\n",
       "      <td>similarity</td>\n",
       "      <td>'Connacht'@en</td>\n",
       "      <td>'province in Ireland'@en</td>\n",
       "    </tr>\n",
       "    <tr>\n",
       "      <th>4</th>\n",
       "      <td>Q1263077</td>\n",
       "      <td>0.8149058818817139</td>\n",
       "      <td>similarity</td>\n",
       "      <td>'DAA'@en</td>\n",
       "      <td>'company that owns and operates Dublin Airport...</td>\n",
       "    </tr>\n",
       "    <tr>\n",
       "      <th>5</th>\n",
       "      <td>Q131438</td>\n",
       "      <td>0.8103623986244202</td>\n",
       "      <td>similarity</td>\n",
       "      <td>'Munster'@en</td>\n",
       "      <td>'province in Ireland'@en</td>\n",
       "    </tr>\n",
       "    <tr>\n",
       "      <th>6</th>\n",
       "      <td>Q187402</td>\n",
       "      <td>0.8079863786697388</td>\n",
       "      <td>similarity</td>\n",
       "      <td>'County Cavan'@en</td>\n",
       "      <td>'county in Ireland'@en</td>\n",
       "    </tr>\n",
       "    <tr>\n",
       "      <th>7</th>\n",
       "      <td>Q162475</td>\n",
       "      <td>0.8054779171943665</td>\n",
       "      <td>similarity</td>\n",
       "      <td>'County Cork'@en</td>\n",
       "      <td>'county in Ireland'@en</td>\n",
       "    </tr>\n",
       "    <tr>\n",
       "      <th>8</th>\n",
       "      <td>Q107397</td>\n",
       "      <td>0.802614688873291</td>\n",
       "      <td>similarity</td>\n",
       "      <td>'County Leitrim'@en</td>\n",
       "      <td>'county in Ireland'@en</td>\n",
       "    </tr>\n",
       "    <tr>\n",
       "      <th>9</th>\n",
       "      <td>Q179325</td>\n",
       "      <td>0.8024470806121826</td>\n",
       "      <td>similarity</td>\n",
       "      <td>'County Sligo'@en</td>\n",
       "      <td>'county in Ireland'@en</td>\n",
       "    </tr>\n",
       "  </tbody>\n",
       "</table>\n",
       "</div>"
      ],
      "text/plain": [
       "      node1               node2       label  \\\n",
       "0     Q9676  0.8768500089645386  similarity   \n",
       "1  Q4368623  0.8426293730735779  similarity   \n",
       "2   Q184760   0.817055344581604  similarity   \n",
       "3   Q164421  0.8150794506072998  similarity   \n",
       "4  Q1263077  0.8149058818817139  similarity   \n",
       "5   Q131438  0.8103623986244202  similarity   \n",
       "6   Q187402  0.8079863786697388  similarity   \n",
       "7   Q162475  0.8054779171943665  similarity   \n",
       "8   Q107397   0.802614688873291  similarity   \n",
       "9   Q179325  0.8024470806121826  similarity   \n",
       "\n",
       "                         node1;label  \\\n",
       "0                   'Isle of Man'@en   \n",
       "1  'Category:Republic of Ireland'@en   \n",
       "2               'County Monaghan'@en   \n",
       "3                      'Connacht'@en   \n",
       "4                           'DAA'@en   \n",
       "5                       'Munster'@en   \n",
       "6                  'County Cavan'@en   \n",
       "7                   'County Cork'@en   \n",
       "8                'County Leitrim'@en   \n",
       "9                  'County Sligo'@en   \n",
       "\n",
       "                                   node1;description  \n",
       "0                      'British Crown dependency'@en  \n",
       "1                            'Wikimedia category'@en  \n",
       "2                             'county in Ireland'@en  \n",
       "3                           'province in Ireland'@en  \n",
       "4  'company that owns and operates Dublin Airport...  \n",
       "5                           'province in Ireland'@en  \n",
       "6                             'county in Ireland'@en  \n",
       "7                             'county in Ireland'@en  \n",
       "8                             'county in Ireland'@en  \n",
       "9                             'county in Ireland'@en  "
      ]
     },
     "execution_count": 73,
     "metadata": {},
     "output_type": "execute_result"
    }
   ],
   "source": [
    "# Q27 Ireland\n",
    "kgtk_most_similar(ge_vectors, positive=['Q27'], kg_path=os.environ['OUT'] + \"/parts\", topn=10)"
   ]
  },
  {
   "cell_type": "markdown",
   "metadata": {},
   "source": [
    "THe text embeddings retrieve other countries:"
   ]
  },
  {
   "cell_type": "code",
   "execution_count": 27,
   "metadata": {},
   "outputs": [
    {
     "data": {
      "text/html": [
       "<div>\n",
       "<style scoped>\n",
       "    .dataframe tbody tr th:only-of-type {\n",
       "        vertical-align: middle;\n",
       "    }\n",
       "\n",
       "    .dataframe tbody tr th {\n",
       "        vertical-align: top;\n",
       "    }\n",
       "\n",
       "    .dataframe thead th {\n",
       "        text-align: right;\n",
       "    }\n",
       "</style>\n",
       "<table border=\"1\" class=\"dataframe\">\n",
       "  <thead>\n",
       "    <tr style=\"text-align: right;\">\n",
       "      <th></th>\n",
       "      <th>node1</th>\n",
       "      <th>node2</th>\n",
       "      <th>label</th>\n",
       "      <th>node1;label</th>\n",
       "      <th>node1;description</th>\n",
       "    </tr>\n",
       "  </thead>\n",
       "  <tbody>\n",
       "    <tr>\n",
       "      <th>0</th>\n",
       "      <td>Q191</td>\n",
       "      <td>0.7959819436073303</td>\n",
       "      <td>similarity</td>\n",
       "      <td>'Estonia'@en</td>\n",
       "      <td>'sovereign state in Northern Europe'@en</td>\n",
       "    </tr>\n",
       "    <tr>\n",
       "      <th>1</th>\n",
       "      <td>Q37</td>\n",
       "      <td>0.7896063327789307</td>\n",
       "      <td>similarity</td>\n",
       "      <td>'Lithuania'@en</td>\n",
       "      <td>'sovereign state in Northeastern Europe'@en</td>\n",
       "    </tr>\n",
       "    <tr>\n",
       "      <th>2</th>\n",
       "      <td>Q34</td>\n",
       "      <td>0.7771986722946167</td>\n",
       "      <td>similarity</td>\n",
       "      <td>'Sweden'@en</td>\n",
       "      <td>'sovereign state in Northern Europe'@en</td>\n",
       "    </tr>\n",
       "    <tr>\n",
       "      <th>3</th>\n",
       "      <td>Q35</td>\n",
       "      <td>0.7717932462692261</td>\n",
       "      <td>similarity</td>\n",
       "      <td>'Denmark'@en</td>\n",
       "      <td>'sovereign state and Scandinavian country in n...</td>\n",
       "    </tr>\n",
       "    <tr>\n",
       "      <th>4</th>\n",
       "      <td>Q756617</td>\n",
       "      <td>0.7578498125076294</td>\n",
       "      <td>similarity</td>\n",
       "      <td>'Kingdom of Denmark'@en</td>\n",
       "      <td>'sovereign unitary state in Europe, the Arctic...</td>\n",
       "    </tr>\n",
       "    <tr>\n",
       "      <th>5</th>\n",
       "      <td>Q33</td>\n",
       "      <td>0.7564055919647217</td>\n",
       "      <td>similarity</td>\n",
       "      <td>'Finland'@en</td>\n",
       "      <td>'sovereign state in Northern Europe'@en</td>\n",
       "    </tr>\n",
       "    <tr>\n",
       "      <th>6</th>\n",
       "      <td>Q16965019</td>\n",
       "      <td>0.7521861791610718</td>\n",
       "      <td>similarity</td>\n",
       "      <td>'North borough of Brescia'@en</td>\n",
       "      <td>'one of 5 boroughs of Brescia'@en</td>\n",
       "    </tr>\n",
       "    <tr>\n",
       "      <th>7</th>\n",
       "      <td>Q1526538</td>\n",
       "      <td>0.7520326972007751</td>\n",
       "      <td>similarity</td>\n",
       "      <td>'Reykjavík North'@en</td>\n",
       "      <td>'one of the six constituencies (kjördæmi) of I...</td>\n",
       "    </tr>\n",
       "    <tr>\n",
       "      <th>8</th>\n",
       "      <td>Q189</td>\n",
       "      <td>0.7486690282821655</td>\n",
       "      <td>similarity</td>\n",
       "      <td>'Iceland'@en</td>\n",
       "      <td>'sovereign state in Northern Europe, situated ...</td>\n",
       "    </tr>\n",
       "    <tr>\n",
       "      <th>9</th>\n",
       "      <td>Q22</td>\n",
       "      <td>0.7369431257247925</td>\n",
       "      <td>similarity</td>\n",
       "      <td>'Scotland'@en</td>\n",
       "      <td>'country in Northwest Europe, part of the Unit...</td>\n",
       "    </tr>\n",
       "  </tbody>\n",
       "</table>\n",
       "</div>"
      ],
      "text/plain": [
       "       node1               node2       label                    node1;label  \\\n",
       "0       Q191  0.7959819436073303  similarity                   'Estonia'@en   \n",
       "1        Q37  0.7896063327789307  similarity                 'Lithuania'@en   \n",
       "2        Q34  0.7771986722946167  similarity                    'Sweden'@en   \n",
       "3        Q35  0.7717932462692261  similarity                   'Denmark'@en   \n",
       "4    Q756617  0.7578498125076294  similarity        'Kingdom of Denmark'@en   \n",
       "5        Q33  0.7564055919647217  similarity                   'Finland'@en   \n",
       "6  Q16965019  0.7521861791610718  similarity  'North borough of Brescia'@en   \n",
       "7   Q1526538  0.7520326972007751  similarity           'Reykjavík North'@en   \n",
       "8       Q189  0.7486690282821655  similarity                   'Iceland'@en   \n",
       "9        Q22  0.7369431257247925  similarity                  'Scotland'@en   \n",
       "\n",
       "                                   node1;description  \n",
       "0            'sovereign state in Northern Europe'@en  \n",
       "1        'sovereign state in Northeastern Europe'@en  \n",
       "2            'sovereign state in Northern Europe'@en  \n",
       "3  'sovereign state and Scandinavian country in n...  \n",
       "4  'sovereign unitary state in Europe, the Arctic...  \n",
       "5            'sovereign state in Northern Europe'@en  \n",
       "6                  'one of 5 boroughs of Brescia'@en  \n",
       "7  'one of the six constituencies (kjördæmi) of I...  \n",
       "8  'sovereign state in Northern Europe, situated ...  \n",
       "9  'country in Northwest Europe, part of the Unit...  "
      ]
     },
     "execution_count": 27,
     "metadata": {},
     "output_type": "execute_result"
    }
   ],
   "source": [
    "# Q27 Ireland\n",
    "kgtk_most_similar(te_vectors, positive=['Q27'], kg_path=os.environ['OUT'] + \"/parts\", topn=10)"
   ]
  },
  {
   "cell_type": "markdown",
   "metadata": {},
   "source": [
    "### Using the embeddings in queries to the KG"
   ]
  },
  {
   "cell_type": "code",
   "execution_count": 28,
   "metadata": {},
   "outputs": [],
   "source": [
    "# Q281 whiskey\n",
    "# Q282 wine\n",
    "# Q3246609 mixed drink\n",
    "# Q374 vodka\n",
    "# Q332378 is absolut"
   ]
  },
  {
   "cell_type": "markdown",
   "metadata": {},
   "source": [
    "Get the most similar nodes to **absolut**, the swedish vodka using the text embeddings and put it in a file"
   ]
  },
  {
   "cell_type": "code",
   "execution_count": 29,
   "metadata": {},
   "outputs": [],
   "source": [
    "# Q332378 is absolut\n",
    "kgtk_most_similar(te_vectors, positive=['Q332378'], kg_path=os.environ['OUT'] + \"/parts\", topn=1000, output_path=os.environ['TE'] + \"/Q332378.sim.tsv\")"
   ]
  },
  {
   "cell_type": "code",
   "execution_count": 30,
   "metadata": {},
   "outputs": [
    {
     "data": {
      "text/html": [
       "<div>\n",
       "<style scoped>\n",
       "    .dataframe tbody tr th:only-of-type {\n",
       "        vertical-align: middle;\n",
       "    }\n",
       "\n",
       "    .dataframe tbody tr th {\n",
       "        vertical-align: top;\n",
       "    }\n",
       "\n",
       "    .dataframe thead th {\n",
       "        text-align: right;\n",
       "    }\n",
       "</style>\n",
       "<table border=\"1\" class=\"dataframe\">\n",
       "  <thead>\n",
       "    <tr style=\"text-align: right;\">\n",
       "      <th></th>\n",
       "      <th>node1</th>\n",
       "      <th>node2</th>\n",
       "      <th>label</th>\n",
       "      <th>node1;label</th>\n",
       "      <th>node1;description</th>\n",
       "    </tr>\n",
       "  </thead>\n",
       "  <tbody>\n",
       "    <tr>\n",
       "      <th>0</th>\n",
       "      <td>Q7312560</td>\n",
       "      <td>0.9494208097457886</td>\n",
       "      <td>similarity</td>\n",
       "      <td>'Renat'@en</td>\n",
       "      <td>'Swedish vodka'@en</td>\n",
       "    </tr>\n",
       "    <tr>\n",
       "      <th>1</th>\n",
       "      <td>Q406157</td>\n",
       "      <td>0.9068878293037415</td>\n",
       "      <td>similarity</td>\n",
       "      <td>'bäsk'@en</td>\n",
       "      <td>'Swedish style spiced liquor'@en</td>\n",
       "    </tr>\n",
       "    <tr>\n",
       "      <th>2</th>\n",
       "      <td>Q1034035</td>\n",
       "      <td>0.8990318775177002</td>\n",
       "      <td>similarity</td>\n",
       "      <td>'Finlandia Vodka'@en</td>\n",
       "      <td>'Finnish brand of vodka'@en</td>\n",
       "    </tr>\n",
       "    <tr>\n",
       "      <th>3</th>\n",
       "      <td>Q374</td>\n",
       "      <td>0.8908252716064453</td>\n",
       "      <td>similarity</td>\n",
       "      <td>'vodka'@en</td>\n",
       "      <td>'distilled alcoholic beverage'@en</td>\n",
       "    </tr>\n",
       "    <tr>\n",
       "      <th>4</th>\n",
       "      <td>Q2553569</td>\n",
       "      <td>0.8900324106216431</td>\n",
       "      <td>similarity</td>\n",
       "      <td>'Vodka Martini'@en</td>\n",
       "      <td>'cocktail made with vodka and vermouth'@en</td>\n",
       "    </tr>\n",
       "    <tr>\n",
       "      <th>5</th>\n",
       "      <td>Q2206588</td>\n",
       "      <td>0.8866583108901978</td>\n",
       "      <td>similarity</td>\n",
       "      <td>'Caipiroska'@en</td>\n",
       "      <td>'cocktail prepared with vodka'@en</td>\n",
       "    </tr>\n",
       "    <tr>\n",
       "      <th>6</th>\n",
       "      <td>Q268057</td>\n",
       "      <td>0.8860777616500854</td>\n",
       "      <td>similarity</td>\n",
       "      <td>'cosmopolitan'@en</td>\n",
       "      <td>'cocktail made with vodka'@en</td>\n",
       "    </tr>\n",
       "    <tr>\n",
       "      <th>7</th>\n",
       "      <td>Q4021706</td>\n",
       "      <td>0.8785413503646851</td>\n",
       "      <td>similarity</td>\n",
       "      <td>'Xan'@en</td>\n",
       "      <td>'Vodka from Goygol'@en</td>\n",
       "    </tr>\n",
       "    <tr>\n",
       "      <th>8</th>\n",
       "      <td>Q4869283</td>\n",
       "      <td>0.8784171342849731</td>\n",
       "      <td>similarity</td>\n",
       "      <td>'Batini'@en</td>\n",
       "      <td>'vodka-based cocktail'@en</td>\n",
       "    </tr>\n",
       "  </tbody>\n",
       "</table>\n",
       "</div>"
      ],
      "text/plain": [
       "      node1               node2       label           node1;label  \\\n",
       "0  Q7312560  0.9494208097457886  similarity            'Renat'@en   \n",
       "1   Q406157  0.9068878293037415  similarity             'bäsk'@en   \n",
       "2  Q1034035  0.8990318775177002  similarity  'Finlandia Vodka'@en   \n",
       "3      Q374  0.8908252716064453  similarity            'vodka'@en   \n",
       "4  Q2553569  0.8900324106216431  similarity    'Vodka Martini'@en   \n",
       "5  Q2206588  0.8866583108901978  similarity       'Caipiroska'@en   \n",
       "6   Q268057  0.8860777616500854  similarity     'cosmopolitan'@en   \n",
       "7  Q4021706  0.8785413503646851  similarity              'Xan'@en   \n",
       "8  Q4869283  0.8784171342849731  similarity           'Batini'@en   \n",
       "\n",
       "                            node1;description  \n",
       "0                          'Swedish vodka'@en  \n",
       "1            'Swedish style spiced liquor'@en  \n",
       "2                 'Finnish brand of vodka'@en  \n",
       "3           'distilled alcoholic beverage'@en  \n",
       "4  'cocktail made with vodka and vermouth'@en  \n",
       "5           'cocktail prepared with vodka'@en  \n",
       "6               'cocktail made with vodka'@en  \n",
       "7                      'Vodka from Goygol'@en  \n",
       "8                   'vodka-based cocktail'@en  "
      ]
     },
     "execution_count": 30,
     "metadata": {},
     "output_type": "execute_result"
    }
   ],
   "source": [
    "result = !head \"$TE\"/Q332378.sim.tsv\n",
    "kgtk_to_dataframe(result)"
   ]
  },
  {
   "cell_type": "markdown",
   "metadata": {},
   "source": [
    "Suppose I have absolut vodka and I want to make a cocktail. I can use the KG graph of the most similar nodes to absolut, and search the KG for mixed drinks (`Q3246609`) that appear in the list of most similar nodes to absolut.\n",
    "\n",
    "Here are some drinks we can make with absolut vodka. The query starts with our similarity file (`Q332378.sim.tsv`) in clause `sim` and filters it to select the qnodes that are instances of mixed drink (`Q3246609`) using clauses `isa` and `star`. Then the first `claims` clause selects those that have vodka as an ingredient (`Q374`) and the second `claims` clause retrieves the other ingredients."
   ]
  },
  {
   "cell_type": "code",
   "execution_count": 32,
   "metadata": {},
   "outputs": [
    {
     "data": {
      "text/html": [
       "<div>\n",
       "<style scoped>\n",
       "    .dataframe tbody tr th:only-of-type {\n",
       "        vertical-align: middle;\n",
       "    }\n",
       "\n",
       "    .dataframe tbody tr th {\n",
       "        vertical-align: top;\n",
       "    }\n",
       "\n",
       "    .dataframe thead th {\n",
       "        text-align: right;\n",
       "    }\n",
       "</style>\n",
       "<table border=\"1\" class=\"dataframe\">\n",
       "  <thead>\n",
       "    <tr style=\"text-align: right;\">\n",
       "      <th></th>\n",
       "      <th>node1</th>\n",
       "      <th>node2</th>\n",
       "      <th>node1;label</th>\n",
       "      <th>node1;description</th>\n",
       "      <th>ingredient</th>\n",
       "      <th>ingredient label</th>\n",
       "    </tr>\n",
       "  </thead>\n",
       "  <tbody>\n",
       "    <tr>\n",
       "      <th>0</th>\n",
       "      <td>Q2553569</td>\n",
       "      <td>0.8900324106216431</td>\n",
       "      <td>'Vodka Martini'@en</td>\n",
       "      <td>'cocktail made with vodka and vermouth'@en</td>\n",
       "      <td>Q1105343</td>\n",
       "      <td>'cocktail glass'@en</td>\n",
       "    </tr>\n",
       "    <tr>\n",
       "      <th>1</th>\n",
       "      <td>Q2553569</td>\n",
       "      <td>0.8900324106216431</td>\n",
       "      <td>'Vodka Martini'@en</td>\n",
       "      <td>'cocktail made with vodka and vermouth'@en</td>\n",
       "      <td>Q1621080</td>\n",
       "      <td>'olive'@en</td>\n",
       "    </tr>\n",
       "    <tr>\n",
       "      <th>2</th>\n",
       "      <td>Q2553569</td>\n",
       "      <td>0.8900324106216431</td>\n",
       "      <td>'Vodka Martini'@en</td>\n",
       "      <td>'cocktail made with vodka and vermouth'@en</td>\n",
       "      <td>Q26877166</td>\n",
       "      <td>'lemon twist'@en</td>\n",
       "    </tr>\n",
       "    <tr>\n",
       "      <th>3</th>\n",
       "      <td>Q2553569</td>\n",
       "      <td>0.8900324106216431</td>\n",
       "      <td>'Vodka Martini'@en</td>\n",
       "      <td>'cocktail made with vodka and vermouth'@en</td>\n",
       "      <td>Q26877423</td>\n",
       "      <td>'dry vermouth'@en</td>\n",
       "    </tr>\n",
       "    <tr>\n",
       "      <th>4</th>\n",
       "      <td>Q2553569</td>\n",
       "      <td>0.8900324106216431</td>\n",
       "      <td>'Vodka Martini'@en</td>\n",
       "      <td>'cocktail made with vodka and vermouth'@en</td>\n",
       "      <td>Q374</td>\n",
       "      <td>'vodka'@en</td>\n",
       "    </tr>\n",
       "    <tr>\n",
       "      <th>5</th>\n",
       "      <td>Q2206588</td>\n",
       "      <td>0.8866583108901978</td>\n",
       "      <td>'Caipiroska'@en</td>\n",
       "      <td>'cocktail prepared with vodka'@en</td>\n",
       "      <td>Q374</td>\n",
       "      <td>'vodka'@en</td>\n",
       "    </tr>\n",
       "    <tr>\n",
       "      <th>6</th>\n",
       "      <td>Q1966883</td>\n",
       "      <td>0.8709859848022461</td>\n",
       "      <td>'Yorsh'@en</td>\n",
       "      <td>'Russian drink of beer and vodka'@en</td>\n",
       "      <td>Q374</td>\n",
       "      <td>'vodka'@en</td>\n",
       "    </tr>\n",
       "    <tr>\n",
       "      <th>7</th>\n",
       "      <td>Q1966883</td>\n",
       "      <td>0.8709859848022461</td>\n",
       "      <td>'Yorsh'@en</td>\n",
       "      <td>'Russian drink of beer and vodka'@en</td>\n",
       "      <td>Q44</td>\n",
       "      <td>'beer'@en</td>\n",
       "    </tr>\n",
       "    <tr>\n",
       "      <th>8</th>\n",
       "      <td>Q1723060</td>\n",
       "      <td>0.8683922290802002</td>\n",
       "      <td>'Kamikaze'@en</td>\n",
       "      <td>'cocktail of vodka, triple sec and lime juice'@en</td>\n",
       "      <td>Q1105343</td>\n",
       "      <td>'cocktail glass'@en</td>\n",
       "    </tr>\n",
       "    <tr>\n",
       "      <th>9</th>\n",
       "      <td>Q1723060</td>\n",
       "      <td>0.8683922290802002</td>\n",
       "      <td>'Kamikaze'@en</td>\n",
       "      <td>'cocktail of vodka, triple sec and lime juice'@en</td>\n",
       "      <td>Q3539556</td>\n",
       "      <td>'triple sec'@en</td>\n",
       "    </tr>\n",
       "    <tr>\n",
       "      <th>10</th>\n",
       "      <td>Q1723060</td>\n",
       "      <td>0.8683922290802002</td>\n",
       "      <td>'Kamikaze'@en</td>\n",
       "      <td>'cocktail of vodka, triple sec and lime juice'@en</td>\n",
       "      <td>Q374</td>\n",
       "      <td>'vodka'@en</td>\n",
       "    </tr>\n",
       "    <tr>\n",
       "      <th>11</th>\n",
       "      <td>Q1723060</td>\n",
       "      <td>0.8683922290802002</td>\n",
       "      <td>'Kamikaze'@en</td>\n",
       "      <td>'cocktail of vodka, triple sec and lime juice'@en</td>\n",
       "      <td>Q5361217</td>\n",
       "      <td>'lime juice'@en</td>\n",
       "    </tr>\n",
       "    <tr>\n",
       "      <th>12</th>\n",
       "      <td>Q5580053</td>\n",
       "      <td>0.8639324903488159</td>\n",
       "      <td>'Golden Russian'@en</td>\n",
       "      <td>'cocktail of vodka and Galliano'@en</td>\n",
       "      <td>Q1331962</td>\n",
       "      <td>'Galliano'@en</td>\n",
       "    </tr>\n",
       "    <tr>\n",
       "      <th>13</th>\n",
       "      <td>Q5580053</td>\n",
       "      <td>0.8639324903488159</td>\n",
       "      <td>'Golden Russian'@en</td>\n",
       "      <td>'cocktail of vodka and Galliano'@en</td>\n",
       "      <td>Q374</td>\n",
       "      <td>'vodka'@en</td>\n",
       "    </tr>\n",
       "    <tr>\n",
       "      <th>14</th>\n",
       "      <td>Q5580053</td>\n",
       "      <td>0.8639324903488159</td>\n",
       "      <td>'Golden Russian'@en</td>\n",
       "      <td>'cocktail of vodka and Galliano'@en</td>\n",
       "      <td>Q5361217</td>\n",
       "      <td>'lime juice'@en</td>\n",
       "    </tr>\n",
       "    <tr>\n",
       "      <th>15</th>\n",
       "      <td>Q8032131</td>\n",
       "      <td>0.8580197095870972</td>\n",
       "      <td>'Woo Woo'@en</td>\n",
       "      <td>'alcoholic beverage made of vodka, peach schna...</td>\n",
       "      <td>Q26877133</td>\n",
       "      <td>'lime wedge'@en</td>\n",
       "    </tr>\n",
       "    <tr>\n",
       "      <th>16</th>\n",
       "      <td>Q8032131</td>\n",
       "      <td>0.8580197095870972</td>\n",
       "      <td>'Woo Woo'@en</td>\n",
       "      <td>'alcoholic beverage made of vodka, peach schna...</td>\n",
       "      <td>Q26879660</td>\n",
       "      <td>'peach schnapps'@en</td>\n",
       "    </tr>\n",
       "    <tr>\n",
       "      <th>17</th>\n",
       "      <td>Q8032131</td>\n",
       "      <td>0.8580197095870972</td>\n",
       "      <td>'Woo Woo'@en</td>\n",
       "      <td>'alcoholic beverage made of vodka, peach schna...</td>\n",
       "      <td>Q374</td>\n",
       "      <td>'vodka'@en</td>\n",
       "    </tr>\n",
       "    <tr>\n",
       "      <th>18</th>\n",
       "      <td>Q8032131</td>\n",
       "      <td>0.8580197095870972</td>\n",
       "      <td>'Woo Woo'@en</td>\n",
       "      <td>'alcoholic beverage made of vodka, peach schna...</td>\n",
       "      <td>Q4131010</td>\n",
       "      <td>'Highball glass'@en</td>\n",
       "    </tr>\n",
       "    <tr>\n",
       "      <th>19</th>\n",
       "      <td>Q8032131</td>\n",
       "      <td>0.8580197095870972</td>\n",
       "      <td>'Woo Woo'@en</td>\n",
       "      <td>'alcoholic beverage made of vodka, peach schna...</td>\n",
       "      <td>Q865448</td>\n",
       "      <td>'Cranberry juice'@en</td>\n",
       "    </tr>\n",
       "  </tbody>\n",
       "</table>\n",
       "</div>"
      ],
      "text/plain": [
       "       node1               node2          node1;label  \\\n",
       "0   Q2553569  0.8900324106216431   'Vodka Martini'@en   \n",
       "1   Q2553569  0.8900324106216431   'Vodka Martini'@en   \n",
       "2   Q2553569  0.8900324106216431   'Vodka Martini'@en   \n",
       "3   Q2553569  0.8900324106216431   'Vodka Martini'@en   \n",
       "4   Q2553569  0.8900324106216431   'Vodka Martini'@en   \n",
       "5   Q2206588  0.8866583108901978      'Caipiroska'@en   \n",
       "6   Q1966883  0.8709859848022461           'Yorsh'@en   \n",
       "7   Q1966883  0.8709859848022461           'Yorsh'@en   \n",
       "8   Q1723060  0.8683922290802002        'Kamikaze'@en   \n",
       "9   Q1723060  0.8683922290802002        'Kamikaze'@en   \n",
       "10  Q1723060  0.8683922290802002        'Kamikaze'@en   \n",
       "11  Q1723060  0.8683922290802002        'Kamikaze'@en   \n",
       "12  Q5580053  0.8639324903488159  'Golden Russian'@en   \n",
       "13  Q5580053  0.8639324903488159  'Golden Russian'@en   \n",
       "14  Q5580053  0.8639324903488159  'Golden Russian'@en   \n",
       "15  Q8032131  0.8580197095870972         'Woo Woo'@en   \n",
       "16  Q8032131  0.8580197095870972         'Woo Woo'@en   \n",
       "17  Q8032131  0.8580197095870972         'Woo Woo'@en   \n",
       "18  Q8032131  0.8580197095870972         'Woo Woo'@en   \n",
       "19  Q8032131  0.8580197095870972         'Woo Woo'@en   \n",
       "\n",
       "                                    node1;description ingredient  \\\n",
       "0          'cocktail made with vodka and vermouth'@en   Q1105343   \n",
       "1          'cocktail made with vodka and vermouth'@en   Q1621080   \n",
       "2          'cocktail made with vodka and vermouth'@en  Q26877166   \n",
       "3          'cocktail made with vodka and vermouth'@en  Q26877423   \n",
       "4          'cocktail made with vodka and vermouth'@en       Q374   \n",
       "5                   'cocktail prepared with vodka'@en       Q374   \n",
       "6                'Russian drink of beer and vodka'@en       Q374   \n",
       "7                'Russian drink of beer and vodka'@en        Q44   \n",
       "8   'cocktail of vodka, triple sec and lime juice'@en   Q1105343   \n",
       "9   'cocktail of vodka, triple sec and lime juice'@en   Q3539556   \n",
       "10  'cocktail of vodka, triple sec and lime juice'@en       Q374   \n",
       "11  'cocktail of vodka, triple sec and lime juice'@en   Q5361217   \n",
       "12                'cocktail of vodka and Galliano'@en   Q1331962   \n",
       "13                'cocktail of vodka and Galliano'@en       Q374   \n",
       "14                'cocktail of vodka and Galliano'@en   Q5361217   \n",
       "15  'alcoholic beverage made of vodka, peach schna...  Q26877133   \n",
       "16  'alcoholic beverage made of vodka, peach schna...  Q26879660   \n",
       "17  'alcoholic beverage made of vodka, peach schna...       Q374   \n",
       "18  'alcoholic beverage made of vodka, peach schna...   Q4131010   \n",
       "19  'alcoholic beverage made of vodka, peach schna...    Q865448   \n",
       "\n",
       "        ingredient label  \n",
       "0    'cocktail glass'@en  \n",
       "1             'olive'@en  \n",
       "2       'lemon twist'@en  \n",
       "3      'dry vermouth'@en  \n",
       "4             'vodka'@en  \n",
       "5             'vodka'@en  \n",
       "6             'vodka'@en  \n",
       "7              'beer'@en  \n",
       "8    'cocktail glass'@en  \n",
       "9        'triple sec'@en  \n",
       "10            'vodka'@en  \n",
       "11       'lime juice'@en  \n",
       "12         'Galliano'@en  \n",
       "13            'vodka'@en  \n",
       "14       'lime juice'@en  \n",
       "15       'lime wedge'@en  \n",
       "16   'peach schnapps'@en  \n",
       "17            'vodka'@en  \n",
       "18   'Highball glass'@en  \n",
       "19  'Cranberry juice'@en  "
      ]
     },
     "execution_count": 32,
     "metadata": {},
     "output_type": "execute_result"
    }
   ],
   "source": [
    "result = !$kypher_raw -i \"$ISA\" -i \"$P279STAR\" -i \"$TE\"/Q332378.sim.tsv -i \"$Q154CLAIMS\" -i \"$Q154LABEL\" \\\n",
    "--match 'sim: (n1)-[]->(similarity), isa: (n1)-[]->(isa), star: (isa)-[]->(class), \\\n",
    "  claims: (n1)-[:P186]->(:Q374), claims: (n1)-[:P186]->(ingredient), label: (ingredient)-[]->(i_label)' \\\n",
    "--return 'distinct n1 as node1, similarity as node2, n1.label, n1.description, \\\n",
    "  ingredient as ingredient, i_label as `ingredient label`' \\\n",
    "--order-by 'cast(similarity, float) desc' \\\n",
    "--where 'class = \"Q3246609\"' \\\n",
    "--limit 20 \n",
    "\n",
    "kgtk_to_dataframe(result)"
   ]
  },
  {
   "cell_type": "markdown",
   "metadata": {},
   "source": [
    "The results are good, lots of choices of cocktails. Note that the embeddings are able to generalize from a specific vodka to vodka in general. The example also illustrates that KGTK can use the results of queries to gensim within queries to the KG."
   ]
  },
  {
   "cell_type": "markdown",
   "metadata": {},
   "source": [
    "When we try the query using the graph embeddings, and do not explictly filter the ingredients to include vodka:"
   ]
  },
  {
   "cell_type": "code",
   "execution_count": 34,
   "metadata": {},
   "outputs": [],
   "source": [
    "# Q332378 is absolut\n",
    "kgtk_most_similar(ge_vectors, positive=['Q332378'], kg_path=os.environ['OUT'] + \"/parts\", topn=2000, output_path=os.environ['GE'] + \"/Q332378.sim.tsv\")"
   ]
  },
  {
   "cell_type": "code",
   "execution_count": 36,
   "metadata": {},
   "outputs": [
    {
     "data": {
      "text/html": [
       "<div>\n",
       "<style scoped>\n",
       "    .dataframe tbody tr th:only-of-type {\n",
       "        vertical-align: middle;\n",
       "    }\n",
       "\n",
       "    .dataframe tbody tr th {\n",
       "        vertical-align: top;\n",
       "    }\n",
       "\n",
       "    .dataframe thead th {\n",
       "        text-align: right;\n",
       "    }\n",
       "</style>\n",
       "<table border=\"1\" class=\"dataframe\">\n",
       "  <thead>\n",
       "    <tr style=\"text-align: right;\">\n",
       "      <th></th>\n",
       "      <th>node1</th>\n",
       "      <th>node2</th>\n",
       "      <th>label</th>\n",
       "      <th>node1;label</th>\n",
       "      <th>node1;description</th>\n",
       "    </tr>\n",
       "  </thead>\n",
       "  <tbody>\n",
       "    <tr>\n",
       "      <th>0</th>\n",
       "      <td>Q3527971</td>\n",
       "      <td>0.4424980580806732</td>\n",
       "      <td>similarity</td>\n",
       "      <td>'Ti\\\\\\\\\\\\\\\\'Punch'@en</td>\n",
       "      <td>'cocktail'@en</td>\n",
       "    </tr>\n",
       "    <tr>\n",
       "      <th>1</th>\n",
       "      <td>Q594392</td>\n",
       "      <td>0.38892069458961487</td>\n",
       "      <td>similarity</td>\n",
       "      <td>'B-52'@en</td>\n",
       "      <td>'cocktail of coffee liqueur, Irish cream and t...</td>\n",
       "    </tr>\n",
       "    <tr>\n",
       "      <th>2</th>\n",
       "      <td>Q7535970</td>\n",
       "      <td>0.37358343601226807</td>\n",
       "      <td>similarity</td>\n",
       "      <td>'Skittle Bomb'@en</td>\n",
       "      <td>'bomb shot cocktail'@en</td>\n",
       "    </tr>\n",
       "    <tr>\n",
       "      <th>3</th>\n",
       "      <td>Q7209010</td>\n",
       "      <td>0.37143874168395996</td>\n",
       "      <td>similarity</td>\n",
       "      <td>'Polar Bear'@en</td>\n",
       "      <td>'mint chocolate cocktail'@en</td>\n",
       "    </tr>\n",
       "    <tr>\n",
       "      <th>4</th>\n",
       "      <td>Q3309707</td>\n",
       "      <td>0.37052232027053833</td>\n",
       "      <td>similarity</td>\n",
       "      <td>'Hawaiian Punch'@en</td>\n",
       "      <td>'Fruit punch brand'@en</td>\n",
       "    </tr>\n",
       "    <tr>\n",
       "      <th>5</th>\n",
       "      <td>Q12738893</td>\n",
       "      <td>0.3702288269996643</td>\n",
       "      <td>similarity</td>\n",
       "      <td>'Quentão'@en</td>\n",
       "      <td>'Brazilian hot drink made ​​from cachaça and s...</td>\n",
       "    </tr>\n",
       "    <tr>\n",
       "      <th>6</th>\n",
       "      <td>Q2935472</td>\n",
       "      <td>0.36788904666900635</td>\n",
       "      <td>similarity</td>\n",
       "      <td>'Campari Soda'@en</td>\n",
       "      <td>'pre-mixed drink made by Campari'@en</td>\n",
       "    </tr>\n",
       "    <tr>\n",
       "      <th>7</th>\n",
       "      <td>Q70428</td>\n",
       "      <td>0.3663345277309418</td>\n",
       "      <td>similarity</td>\n",
       "      <td>'Karsk'@en</td>\n",
       "      <td>'Scandinavian cocktail'@en</td>\n",
       "    </tr>\n",
       "    <tr>\n",
       "      <th>8</th>\n",
       "      <td>Q590793</td>\n",
       "      <td>0.3614485263824463</td>\n",
       "      <td>similarity</td>\n",
       "      <td>'Vesper'@en</td>\n",
       "      <td>'cocktail originally made of gin, vodka, and K...</td>\n",
       "    </tr>\n",
       "  </tbody>\n",
       "</table>\n",
       "</div>"
      ],
      "text/plain": [
       "       node1                node2       label            node1;label  \\\n",
       "0   Q3527971   0.4424980580806732  similarity  'Ti\\\\\\\\\\\\\\\\'Punch'@en   \n",
       "1    Q594392  0.38892069458961487  similarity              'B-52'@en   \n",
       "2   Q7535970  0.37358343601226807  similarity      'Skittle Bomb'@en   \n",
       "3   Q7209010  0.37143874168395996  similarity        'Polar Bear'@en   \n",
       "4   Q3309707  0.37052232027053833  similarity    'Hawaiian Punch'@en   \n",
       "5  Q12738893   0.3702288269996643  similarity           'Quentão'@en   \n",
       "6   Q2935472  0.36788904666900635  similarity      'Campari Soda'@en   \n",
       "7     Q70428   0.3663345277309418  similarity             'Karsk'@en   \n",
       "8    Q590793   0.3614485263824463  similarity            'Vesper'@en   \n",
       "\n",
       "                                   node1;description  \n",
       "0                                      'cocktail'@en  \n",
       "1  'cocktail of coffee liqueur, Irish cream and t...  \n",
       "2                            'bomb shot cocktail'@en  \n",
       "3                       'mint chocolate cocktail'@en  \n",
       "4                             'Fruit punch brand'@en  \n",
       "5  'Brazilian hot drink made ​​from cachaça and s...  \n",
       "6               'pre-mixed drink made by Campari'@en  \n",
       "7                         'Scandinavian cocktail'@en  \n",
       "8  'cocktail originally made of gin, vodka, and K...  "
      ]
     },
     "execution_count": 36,
     "metadata": {},
     "output_type": "execute_result"
    }
   ],
   "source": [
    "result = !$kypher_raw -i \"$ISA\" -i \"$P279STAR\" -i \"$GE\"/Q332378.sim.tsv \\\n",
    "--match 'sim: (n1)-[]->(similarity), isa: (n1)-[]->(isa), star: (isa)-[]->(class)' \\\n",
    "--return 'distinct n1 as node1, similarity as node2, \"similarity\" as label, n1.label, n1.description' \\\n",
    "--order-by 'cast(similarity, float) desc' \\\n",
    "--where 'class = \"Q3246609\"' \\\n",
    "--limit 10 \n",
    "\n",
    "kgtk_to_dataframe(result)"
   ]
  },
  {
   "cell_type": "markdown",
   "metadata": {},
   "source": [
    "The results are poor as for the most part, the retrieved cocktails do not have vodka. Let's try the query with vodka instead of absolut vodka.\n",
    "\n",
    "Now let get the qnodes that are similar to vodka (`Q374`) using the graph embeddings:"
   ]
  },
  {
   "cell_type": "code",
   "execution_count": 37,
   "metadata": {},
   "outputs": [],
   "source": [
    "# Q374 vodka\n",
    "kgtk_most_similar(ge_vectors, positive=['Q374'], kg_path=os.environ['OUT'] + \"/parts\", topn=1000, output_path=os.environ['GE'] + \"/Q374.sim.tsv\")"
   ]
  },
  {
   "cell_type": "code",
   "execution_count": 38,
   "metadata": {},
   "outputs": [
    {
     "data": {
      "text/html": [
       "<div>\n",
       "<style scoped>\n",
       "    .dataframe tbody tr th:only-of-type {\n",
       "        vertical-align: middle;\n",
       "    }\n",
       "\n",
       "    .dataframe tbody tr th {\n",
       "        vertical-align: top;\n",
       "    }\n",
       "\n",
       "    .dataframe thead th {\n",
       "        text-align: right;\n",
       "    }\n",
       "</style>\n",
       "<table border=\"1\" class=\"dataframe\">\n",
       "  <thead>\n",
       "    <tr style=\"text-align: right;\">\n",
       "      <th></th>\n",
       "      <th>node1</th>\n",
       "      <th>node2</th>\n",
       "      <th>label</th>\n",
       "      <th>node1;label</th>\n",
       "      <th>node1;description</th>\n",
       "    </tr>\n",
       "  </thead>\n",
       "  <tbody>\n",
       "    <tr>\n",
       "      <th>0</th>\n",
       "      <td>Q11328065</td>\n",
       "      <td>0.8384641408920288</td>\n",
       "      <td>similarity</td>\n",
       "      <td>'Balalaika'@en</td>\n",
       "      <td>'Japanese short drink, cocktail'@en</td>\n",
       "    </tr>\n",
       "    <tr>\n",
       "      <th>1</th>\n",
       "      <td>Q2206588</td>\n",
       "      <td>0.8186914920806885</td>\n",
       "      <td>similarity</td>\n",
       "      <td>'Caipiroska'@en</td>\n",
       "      <td>'cocktail prepared with vodka'@en</td>\n",
       "    </tr>\n",
       "    <tr>\n",
       "      <th>2</th>\n",
       "      <td>Q3562046</td>\n",
       "      <td>0.6592038869857788</td>\n",
       "      <td>similarity</td>\n",
       "      <td>'Vodka Stinger'@en</td>\n",
       "      <td>'type of cocktail'@en</td>\n",
       "    </tr>\n",
       "    <tr>\n",
       "      <th>3</th>\n",
       "      <td>Q1966883</td>\n",
       "      <td>0.5952204465866089</td>\n",
       "      <td>similarity</td>\n",
       "      <td>'Yorsh'@en</td>\n",
       "      <td>'Russian drink of beer and vodka'@en</td>\n",
       "    </tr>\n",
       "    <tr>\n",
       "      <th>4</th>\n",
       "      <td>Q5459745</td>\n",
       "      <td>0.5736489295959473</td>\n",
       "      <td>similarity</td>\n",
       "      <td>'flirtini'@en</td>\n",
       "      <td>'cocktail containing vodka, champagne and pine...</td>\n",
       "    </tr>\n",
       "    <tr>\n",
       "      <th>5</th>\n",
       "      <td>Q455914</td>\n",
       "      <td>0.5721926093101501</td>\n",
       "      <td>similarity</td>\n",
       "      <td>'Vodka Red Bull'@en</td>\n",
       "      <td>'alcoholic beverage'@en</td>\n",
       "    </tr>\n",
       "    <tr>\n",
       "      <th>6</th>\n",
       "      <td>Q5103598</td>\n",
       "      <td>0.5712590217590332</td>\n",
       "      <td>similarity</td>\n",
       "      <td>'Chocolate Cake'@en</td>\n",
       "      <td>'cocktail'@en</td>\n",
       "    </tr>\n",
       "    <tr>\n",
       "      <th>7</th>\n",
       "      <td>Q26879480</td>\n",
       "      <td>0.5568693280220032</td>\n",
       "      <td>similarity</td>\n",
       "      <td>'Godmother'@en</td>\n",
       "      <td>'cocktail'@en</td>\n",
       "    </tr>\n",
       "    <tr>\n",
       "      <th>8</th>\n",
       "      <td>Q5580053</td>\n",
       "      <td>0.5458002090454102</td>\n",
       "      <td>similarity</td>\n",
       "      <td>'Golden Russian'@en</td>\n",
       "      <td>'cocktail of vodka and Galliano'@en</td>\n",
       "    </tr>\n",
       "    <tr>\n",
       "      <th>9</th>\n",
       "      <td>Q3900577</td>\n",
       "      <td>0.5457539558410645</td>\n",
       "      <td>similarity</td>\n",
       "      <td>'Pertini'@en</td>\n",
       "      <td>'cocktail drink with honey'@en</td>\n",
       "    </tr>\n",
       "  </tbody>\n",
       "</table>\n",
       "</div>"
      ],
      "text/plain": [
       "       node1               node2       label          node1;label  \\\n",
       "0  Q11328065  0.8384641408920288  similarity       'Balalaika'@en   \n",
       "1   Q2206588  0.8186914920806885  similarity      'Caipiroska'@en   \n",
       "2   Q3562046  0.6592038869857788  similarity   'Vodka Stinger'@en   \n",
       "3   Q1966883  0.5952204465866089  similarity           'Yorsh'@en   \n",
       "4   Q5459745  0.5736489295959473  similarity        'flirtini'@en   \n",
       "5    Q455914  0.5721926093101501  similarity  'Vodka Red Bull'@en   \n",
       "6   Q5103598  0.5712590217590332  similarity  'Chocolate Cake'@en   \n",
       "7  Q26879480  0.5568693280220032  similarity       'Godmother'@en   \n",
       "8   Q5580053  0.5458002090454102  similarity  'Golden Russian'@en   \n",
       "9   Q3900577  0.5457539558410645  similarity         'Pertini'@en   \n",
       "\n",
       "                                   node1;description  \n",
       "0                'Japanese short drink, cocktail'@en  \n",
       "1                  'cocktail prepared with vodka'@en  \n",
       "2                              'type of cocktail'@en  \n",
       "3               'Russian drink of beer and vodka'@en  \n",
       "4  'cocktail containing vodka, champagne and pine...  \n",
       "5                            'alcoholic beverage'@en  \n",
       "6                                      'cocktail'@en  \n",
       "7                                      'cocktail'@en  \n",
       "8                'cocktail of vodka and Galliano'@en  \n",
       "9                     'cocktail drink with honey'@en  "
      ]
     },
     "execution_count": 38,
     "metadata": {},
     "output_type": "execute_result"
    }
   ],
   "source": [
    "result = !$kypher_raw -i \"$ISA\" -i \"$P279STAR\" -i \"$GE\"/Q374.sim.tsv \\\n",
    "--match 'sim: (n1)-[]->(similarity), isa: (n1)-[]->(isa), star: (isa)-[]->(class)' \\\n",
    "--return 'distinct n1 as node1, similarity as node2, \"similarity\" as label, n1.label, n1.description' \\\n",
    "--order-by 'cast(similarity, float) desc' \\\n",
    "--where 'class = \"Q3246609\"' \\\n",
    "--limit 10 \n",
    "\n",
    "kgtk_to_dataframe(result)"
   ]
  },
  {
   "cell_type": "markdown",
   "metadata": {},
   "source": [
    "The results are good. Somehow, the graph embeddings are able to rerieve the cocktails that have vodka, but cannot generalize from absolut vodka to vodka."
   ]
  },
  {
   "cell_type": "markdown",
   "metadata": {},
   "source": [
    "## Produce files to load in the Google Embedding Projector\n",
    "The Goodle embedding projector (https://projector.tensorflow.org) is a tool for visualizing embeddings. To use it we need two files:\n",
    "\n",
    "- a TSV file with the vectors\n",
    "- a TSV file with the metadata, in the same order as the vectors\n",
    "\n",
    "We don't want to load all the vectors in the projectors because it is too many to visualize. We will load only the following types as it will be interesting to see whether they cluster properly."
   ]
  },
  {
   "cell_type": "code",
   "execution_count": 74,
   "metadata": {},
   "outputs": [],
   "source": [
    "focus_types = {\n",
    "    \"Q3246609\": \"mixed drink\",\n",
    "    \"Q44\": \"beer\",\n",
    "    \"Q282\": \"wine\",\n",
    "    \"Q281\": \"whiskey\",\n",
    "    \"Q374\": \"vodka\",\n",
    "    \"Q6256\": \"country\",\n",
    "}"
   ]
  },
  {
   "cell_type": "markdown",
   "metadata": {},
   "source": [
    "To do the filteriing, we construct a dictionary that maps every q-node in the KG to the set of all its superclasses. We will use this dictionary later to tag each q-node with one of the focus types. For every q-node we will test if the focus type is in the set of all super-classes."
   ]
  },
  {
   "cell_type": "code",
   "execution_count": 75,
   "metadata": {},
   "outputs": [],
   "source": [
    "classes_result = !$kypher_raw -i \"$ISA\" -i \"$Q154CLAIMS\" -i \"$TEMP\"/Q154.descendant.tsv -i \"$P279STAR\" \\\n",
    "--match 'isa: (n1)-[]->(c), P279: (c)-[]->(class), claims: ()-[]->(class), descendant: (n1)-[]->()' \\\n",
    "--return 'distinct n1 as qnode, class as class' \n",
    "\n",
    "class_dict = {}\n",
    "for r in classes_result[1:]:\n",
    "    row = r.split(\"\\t\")\n",
    "    qnode = row[0]\n",
    "    isa = row[1]\n",
    "    entry = class_dict.get(qnode)\n",
    "    if entry is None:\n",
    "        class_dict[qnode] = set()\n",
    "        entry = class_dict[qnode]\n",
    "    entry.add(isa)"
   ]
  },
  {
   "cell_type": "markdown",
   "metadata": {},
   "source": [
    "Let's look at the class_dict for Johnnie Walker (`Q502268`). We see that Johnnie Walker has many super classes."
   ]
  },
  {
   "cell_type": "code",
   "execution_count": 76,
   "metadata": {
    "scrolled": true
   },
   "outputs": [
    {
     "data": {
      "text/plain": [
       "{'Q102205',\n",
       " 'Q1048607',\n",
       " 'Q11024',\n",
       " 'Q11028',\n",
       " 'Q11064354',\n",
       " 'Q111352',\n",
       " 'Q11435',\n",
       " 'Q1150070',\n",
       " 'Q1166770',\n",
       " 'Q11795009',\n",
       " 'Q1190554',\n",
       " 'Q1194058',\n",
       " 'Q12055130',\n",
       " 'Q124291',\n",
       " 'Q12767945',\n",
       " 'Q131257',\n",
       " 'Q13878858',\n",
       " 'Q1400881',\n",
       " 'Q1422299',\n",
       " 'Q14819853',\n",
       " 'Q14912053',\n",
       " 'Q154',\n",
       " 'Q15401930',\n",
       " 'Q1554231',\n",
       " 'Q1632297',\n",
       " 'Q16686448',\n",
       " 'Q16722960',\n",
       " 'Q167270',\n",
       " 'Q1681365',\n",
       " 'Q16887380',\n",
       " 'Q16889133',\n",
       " 'Q169336',\n",
       " 'Q1704572',\n",
       " 'Q174984',\n",
       " 'Q1786828',\n",
       " 'Q1865992',\n",
       " 'Q187931',\n",
       " 'Q1914636',\n",
       " 'Q20817253',\n",
       " 'Q20937557',\n",
       " 'Q2095',\n",
       " 'Q214609',\n",
       " 'Q2150504',\n",
       " 'Q2200417',\n",
       " 'Q22269697',\n",
       " 'Q22272508',\n",
       " 'Q22294683',\n",
       " 'Q22299433',\n",
       " 'Q22299483',\n",
       " 'Q223557',\n",
       " 'Q23009552',\n",
       " 'Q23009675',\n",
       " 'Q2424752',\n",
       " 'Q25481995',\n",
       " 'Q266328',\n",
       " 'Q26717101',\n",
       " 'Q26907166',\n",
       " 'Q2695280',\n",
       " 'Q27166344',\n",
       " 'Q281',\n",
       " 'Q2844972',\n",
       " 'Q28555911',\n",
       " 'Q28728771',\n",
       " 'Q28732711',\n",
       " 'Q28823',\n",
       " 'Q28877',\n",
       " 'Q28921572',\n",
       " 'Q2944660',\n",
       " 'Q29651519',\n",
       " 'Q2990593',\n",
       " 'Q2996394',\n",
       " 'Q31464082',\n",
       " 'Q3249551',\n",
       " 'Q337060',\n",
       " 'Q34394',\n",
       " 'Q3505845',\n",
       " 'Q35120',\n",
       " 'Q35758',\n",
       " 'Q3695082',\n",
       " 'Q382947',\n",
       " 'Q386724',\n",
       " 'Q40050',\n",
       " 'Q4026292',\n",
       " 'Q427581',\n",
       " 'Q42848',\n",
       " 'Q43460564',\n",
       " 'Q4406616',\n",
       " 'Q4437984',\n",
       " 'Q46737',\n",
       " 'Q478798',\n",
       " 'Q483247',\n",
       " 'Q488383',\n",
       " 'Q492',\n",
       " 'Q5127848',\n",
       " 'Q517596',\n",
       " 'Q52948',\n",
       " 'Q5371079',\n",
       " 'Q54989186',\n",
       " 'Q551997',\n",
       " 'Q56139',\n",
       " 'Q58415929',\n",
       " 'Q58416391',\n",
       " 'Q58778',\n",
       " 'Q6005984',\n",
       " 'Q6031064',\n",
       " 'Q64732777',\n",
       " 'Q6671777',\n",
       " 'Q7184903',\n",
       " 'Q781413',\n",
       " 'Q79529',\n",
       " 'Q80071',\n",
       " 'Q813912',\n",
       " 'Q8171',\n",
       " 'Q8205328',\n",
       " 'Q82799',\n",
       " 'Q837718',\n",
       " 'Q9081',\n",
       " 'Q921513',\n",
       " 'Q9332',\n",
       " 'Q937228',\n",
       " 'novalue'}"
      ]
     },
     "execution_count": 76,
     "metadata": {},
     "output_type": "execute_result"
    }
   ],
   "source": [
    "class_dict['Q502268']"
   ]
  },
  {
   "cell_type": "code",
   "execution_count": 77,
   "metadata": {},
   "outputs": [],
   "source": [
    "def focus_type(qnode):\n",
    "    \"\"\"\n",
    "    Retrieve the focus type for any qnode, and return \"other\" for nodes that are not instances of our focus types.\n",
    "    \"\"\"\n",
    "    for t in focus_types.keys():\n",
    "        classes = class_dict.get(qnode)\n",
    "        if classes and t in classes:\n",
    "            return focus_types[t]\n",
    "        if qnode in country_qnodes:\n",
    "            return \"country\"\n",
    "    return \"other\""
   ]
  },
  {
   "cell_type": "raw",
   "metadata": {},
   "source": [
    "# Doesn't work because partition didin't work and we don't have the derived.isa file\n",
    "country_qnodes = set()\n",
    "!$kypher -i \"$Q154ISA\" \\\n",
    "--match '(n1)-[]->(:Q6256)'"
   ]
  },
  {
   "cell_type": "markdown",
   "metadata": {},
   "source": [
    "Construct `country_qnodes`, the set of all country qnodes"
   ]
  },
  {
   "cell_type": "code",
   "execution_count": 78,
   "metadata": {},
   "outputs": [],
   "source": [
    "country_result = !$kypher_raw -i \"$ISA\" -i \"$P279STAR\" -i \"$Q154CLAIMS\" \\\n",
    "--match 'claims: (country)-[]->(), isa: (country)-[:isa]->(c), P279: (c)-[]->(:Q6256)' \\\n",
    "--return 'distinct country as country' \n",
    "\n",
    "country_qnodes = set()\n",
    "for r in country_result[1:]:\n",
    "    country_qnodes.add(r)"
   ]
  },
  {
   "cell_type": "markdown",
   "metadata": {},
   "source": [
    "Construct `alcoholic_qnodes`, the set of all alcoholic beverage qnodes."
   ]
  },
  {
   "cell_type": "code",
   "execution_count": 79,
   "metadata": {},
   "outputs": [],
   "source": [
    "alcoholic_qnodes = set()\n",
    "for line in open(os.environ[\"TEMP\"] + \"/Q154.descendant.tsv\", \"r\"):\n",
    "    alcoholic_qnodes.add(line.split(\"\\t\")[0])"
   ]
  },
  {
   "cell_type": "markdown",
   "metadata": {},
   "source": [
    "The `build_embedding_projector_vectors` builds the vectors file, a TSV file with one line for each vector. We do this by scanning through the full embeddings file and selecting qnodes that are in our set of `alcoholic_qnodes` or `coutnry_qnodes`. We also write a file of all the qnodes that select. We will use this file later to construct the metadat file. We have to be careful to list the qnodes in the metadata file in the same order as they appear in the vectors file."
   ]
  },
  {
   "cell_type": "code",
   "execution_count": 80,
   "metadata": {},
   "outputs": [],
   "source": [
    "def build_embedding_projector_vectors(embeddings_path):\n",
    "    input_path = embeddings_path + \"/embeddings.txt\"\n",
    "    vectors_path = embeddings_path + \"/projector.vectors.tsv\"\n",
    "    qnodes_path = embeddings_path + \"/projector.qnodes.tsv\"\n",
    "\n",
    "    input_file = open(input_path, \"r\")\n",
    "    vectors_file = open(vectors_path, \"w\")\n",
    "    qnodes_file = open(qnodes_path, \"w\")\n",
    "\n",
    "    qnodes_file.write(\"node1\\n\")\n",
    "\n",
    "    with open(input_path, \"r\") as w2v_file:\n",
    "        next(w2v_file)\n",
    "        for line in w2v_file:\n",
    "            items = line.split(\" \")\n",
    "            qnode = items[0]\n",
    "            if qnode in alcoholic_qnodes or qnode in country_qnodes:\n",
    "                vectors_file.write(\"\\t\".join(items[1:]))\n",
    "                qnodes_file.write(\"{}\\n\".format(qnode))\n",
    "\n",
    "    input_file.close()\n",
    "    vectors_file.close()\n",
    "    qnodes_file.close()"
   ]
  },
  {
   "cell_type": "code",
   "execution_count": 81,
   "metadata": {},
   "outputs": [],
   "source": [
    "build_embedding_projector_vectors(os.environ[\"GE\"])"
   ]
  },
  {
   "cell_type": "markdown",
   "metadata": {},
   "source": [
    "Let's take a peek at our qnodes file, which we use in the next step."
   ]
  },
  {
   "cell_type": "code",
   "execution_count": 82,
   "metadata": {},
   "outputs": [
    {
     "name": "stdout",
     "output_type": "stream",
     "text": [
      "node1\n",
      "Q2640292\n",
      "Q56282772\n",
      "Q2535077\n",
      "Q42901501\n",
      "Q3053356\n",
      "Q28739942\n",
      "Q3688856\n",
      "Q3945342\n",
      "Q3555792\n"
     ]
    }
   ],
   "source": [
    "!head \"$GE\"/projector.qnodes.tsv"
   ]
  },
  {
   "cell_type": "markdown",
   "metadata": {},
   "source": [
    "The `build_embedding_projector_metadata` uses a kypher query to retreive the labels of the qnodes (in a later version we will also include the descriptions; for now we don't because the query filters out qnodes that don't have descriptions, and unfortunaely, many alcoholic beverages are missing English descriptions).\n",
    "\n",
    "The idea is:\n",
    "- Retrieve the labels for all the qnodes using the kypher query. The query returns the results in arbitrary order.\n",
    "- Build a dictionary that maps each node to the metadata that we want.\n",
    "- Scan the qnodes file and for each qnode, write a metadata line in the metadata file (`projector.metadata.tsv`)\n",
    "\n",
    "Our metadata file has three columns (you can have as many as you want):\n",
    "- tag: includes the label and the focus type as it is often difficult to tell from the tag what type of beverage it is\n",
    "- qnode\n",
    "- focus type"
   ]
  },
  {
   "cell_type": "code",
   "execution_count": 83,
   "metadata": {},
   "outputs": [],
   "source": [
    "def build_embedding_projector_metadata(embeddings_path):\n",
    "    kg_path = os.environ[\"OUT\"] + \"/parts\"\n",
    "    os.environ[\"_label_graph\"] = kg_path + \"/labels.en.tsv.gz\"\n",
    "    os.environ[\"_description_graph\"] = kg_path + \"/descriptions.en.tsv.gz\"\n",
    "    os.environ[\"_qnodes\"] = embeddings_path + \"/projector.qnodes.tsv\"\n",
    "\n",
    "    #result = !$kypher_raw -i \"$_label_graph\" -i \"$_description_graph\" -i \"$_qnodes\" \\\n",
    "    #--match 'qnodes: (n1)-[]->(), label: (n1)-[]->(lab), description: (n1)-[]->(des)' \\\n",
    "    #--return 'distinct n1 as node1, lab as `node1;label`, des as `node1;description`' \n",
    "    \n",
    "    result = !$kypher_raw -i \"$_label_graph\" -i \"$_description_graph\" -i \"$_qnodes\" \\\n",
    "    --match 'qnodes: (n1)-[]->(), label: (n1)-[]->(lab)' \\\n",
    "    --return 'distinct n1 as node1, lab as `node1;label`'\n",
    "    \n",
    "    metadata_path = embeddings_path + \"/projector.metadata.tsv\"\n",
    "    metadata_file = open(metadata_path, \"w\")\n",
    "    metadata_file.write(\"tag\\tqnode\\ttype\\n\")\n",
    "\n",
    "    qnode_dict = {}\n",
    "    for line in result[1:]:\n",
    "        items = line.split(\"\\t\")\n",
    "        qnode = items[0]\n",
    "        # qnode_dict[qnode] = \"{} ({})\".format(items[1], items[2])\n",
    "        qnode_dict[qnode] = \"{}\".format(items[1])\n",
    "\n",
    "    with open(os.environ[\"_qnodes\"]) as qnodes_file:\n",
    "        next(qnodes_file)\n",
    "        for line in qnodes_file:\n",
    "            qnode = line[:-1]\n",
    "            ftype = focus_type(qnode)\n",
    "            tag = qnode_dict.get(qnode)\n",
    "            if tag is None:\n",
    "                tag = qnode\n",
    "            tag = \"{} ({})\".format(qnode_dict.get(qnode), ftype)\n",
    "            metadata_file.write(\"{}\\t{}\\t{}\\n\".format(tag, qnode, ftype))\n",
    "\n",
    "    metadata_file.close()\n",
    "    qnodes_file.close()       "
   ]
  },
  {
   "cell_type": "code",
   "execution_count": 84,
   "metadata": {},
   "outputs": [],
   "source": [
    "build_embedding_projector_metadata(os.environ[\"GE\"])"
   ]
  },
  {
   "cell_type": "markdown",
   "metadata": {},
   "source": [
    "Check that the file sizes are correct, the metadata file has one more line as it as headers."
   ]
  },
  {
   "cell_type": "code",
   "execution_count": 85,
   "metadata": {},
   "outputs": [
    {
     "name": "stdout",
     "output_type": "stream",
     "text": [
      "    2244   11695   95421 /Users/pedroszekely/Downloads/kypher/temp.wikidata_os_v5/graph-embedding/projector.metadata.tsv\n",
      "    2243  224300 2808982 /Users/pedroszekely/Downloads/kypher/temp.wikidata_os_v5/graph-embedding/projector.vectors.tsv\n",
      "    4487  235995 2904403 total\n"
     ]
    }
   ],
   "source": [
    "!wc \"$GE\"/projector.metadata.tsv \"$GE\"/projector.vectors.tsv"
   ]
  },
  {
   "cell_type": "code",
   "execution_count": 86,
   "metadata": {},
   "outputs": [
    {
     "name": "stdout",
     "output_type": "stream",
     "text": [
      "-0.134678289\t0.328208089\t0.410306215\t0.311301500\t0.363741189\t-0.397925675\t-0.163192526\t0.551493526\t-0.638068974\t-0.709253848\t0.075043671\t-0.037439797\t-0.499106675\t-0.633605242\t0.428065211\t0.577703059\t-0.945140064\t0.482611597\t0.198202372\t0.359114230\t0.249259233\t-0.434400380\t-0.269524962\t0.549175620\t0.736032188\t0.178097680\t0.041504886\t-0.492026001\t-0.080035999\t-0.076001510\t-0.057112414\t-0.272092074\t0.229329199\t-0.500828743\t0.199075758\t0.492696315\t0.410107374\t-0.412885010\t-0.354030132\t0.048465252\t0.521094620\t0.203816339\t-0.304734200\t-0.199651301\t-0.740915835\t0.014186437\t-0.378538668\t0.544250429\t-0.487764388\t0.103201188\t-0.548755169\t-0.423733592\t-0.130399838\t-0.122459903\t-0.555753589\t0.169917032\t0.528418005\t0.376666993\t-0.106688112\t-0.312881023\t-0.290667921\t-0.414196581\t-0.016444767\t0.757796407\t-0.267977566\t0.477938861\t-0.153773859\t0.383622676\t0.340801269\t0.678838015\t-0.499238700\t-1.093385816\t-0.130329251\t0.741248250\t-0.075507775\t-0.105734833\t-0.120644622\t0.129789278\t0.444864303\t0.080690295\t1.042969227\t-0.830494463\t-0.357552588\t-0.324899316\t-0.058233760\t0.399289906\t-0.149244502\t-0.005098013\t0.217333123\t-0.733056903\t0.506713569\t0.528466642\t0.114338882\t0.322888851\t-0.899829507\t0.311692834\t-0.288652867\t-0.194638863\t0.081984431\t-0.420051038\n"
     ]
    }
   ],
   "source": [
    "!head -1 \"$GE\"/projector.vectors.tsv"
   ]
  },
  {
   "cell_type": "markdown",
   "metadata": {},
   "source": [
    "Now build the projector files for the text embeddings, and check that the sizes are ok"
   ]
  },
  {
   "cell_type": "code",
   "execution_count": 52,
   "metadata": {},
   "outputs": [],
   "source": [
    "build_embedding_projector_vectors(os.environ[\"TE\"])"
   ]
  },
  {
   "cell_type": "code",
   "execution_count": 53,
   "metadata": {},
   "outputs": [],
   "source": [
    "build_embedding_projector_metadata(os.environ[\"TE\"])"
   ]
  },
  {
   "cell_type": "code",
   "execution_count": 54,
   "metadata": {},
   "outputs": [
    {
     "name": "stdout",
     "output_type": "stream",
     "text": [
      "    2782   14542  118841 /Users/pedroszekely/Downloads/kypher/temp.wikidata_os_v5/text-embedding/projector.metadata.tsv\n",
      "    2781 2847744 31710917 /Users/pedroszekely/Downloads/kypher/temp.wikidata_os_v5/text-embedding/projector.vectors.tsv\n",
      "    2782    2782   24800 /Users/pedroszekely/Downloads/kypher/temp.wikidata_os_v5/text-embedding/projector.qnodes.tsv\n",
      "    8345 2865068 31854558 total\n"
     ]
    }
   ],
   "source": [
    "!wc \"$TE\"/projector.metadata.tsv \"$TE\"/projector.vectors.tsv \"$TE\"/projector.qnodes.tsv"
   ]
  },
  {
   "cell_type": "markdown",
   "metadata": {},
   "source": [
    "### Google embedding projector\n",
    "- open https://projector.tensorflow.org\n",
    "- Load your files using the load button\n",
    "- configure the visualization\n",
    "\n",
    "Here we searched on the right for absolut vodka, and we see the closest vecotrs as well as the cluster where it belongs:\n",
    "![Google embedding projector](assets/embedding-projector.png \"Google embedding projector\")"
   ]
  },
  {
   "cell_type": "markdown",
   "metadata": {},
   "source": [
    "### UMAP visualization of the graph embeddings\n",
    "\n",
    "\n",
    "Very few vodkas, hard to see them in the visualization.\n",
    "\n",
    "\n",
    "![UMAP visualization](assets/graph-embedding-umap-13.png \"UMAP visualization of graph embeddings\")"
   ]
  },
  {
   "cell_type": "markdown",
   "metadata": {},
   "source": [
    "### UMAP visualization of the text embeddings\n",
    "Very few vodkas, har to see them in the visualization.\n",
    "\n",
    "\n",
    "![UMAP visualization](assets/text-embedding-umap-17.png \"UMAP visualization of text embeddings\")"
   ]
  },
  {
   "cell_type": "code",
   "execution_count": null,
   "metadata": {},
   "outputs": [],
   "source": []
  },
  {
   "cell_type": "code",
   "execution_count": null,
   "metadata": {},
   "outputs": [],
   "source": []
  },
  {
   "cell_type": "code",
   "execution_count": null,
   "metadata": {},
   "outputs": [],
   "source": []
  },
  {
   "cell_type": "raw",
   "metadata": {},
   "source": [
    "!$kgtk lexicalize -i $OUT/all.tsv.gz \\\n",
    "--label-properties label \\\n",
    "--isa-properties P31 P279 P452 P106 \\\n",
    "--description-properties description \\\n",
    "--property-value P186 P17 P127 P176 \\\n",
    "--has-properties \"\" \\\n",
    "--add-entity-labels-from-input True \\\n",
    "-o \"$TE\"/sentences.tsv "
   ]
  },
  {
   "cell_type": "code",
   "execution_count": 89,
   "metadata": {},
   "outputs": [],
   "source": [
    "from sentence_transformers import SentenceTransformer\n",
    "\n",
    "\n",
    "class ComputeEmbeddings:\n",
    "    def __init__(self, model_name=None):\n",
    "        if not model_name:\n",
    "            self.model_name = 'bert-large-nli-cls-token'\n",
    "        else:\n",
    "            self.model_name = model_name\n",
    "\n",
    "        self.model = SentenceTransformer(self.model_name)\n",
    "\n",
    "    def get_vectors(self, sentence):\n",
    "        \"\"\"\n",
    "            main function to get the vector representations of the descriptions\n",
    "        \"\"\"\n",
    "        if isinstance(sentence, bytes):\n",
    "            sentence = sentence.decode(\"utf-8\")\n",
    "        return self.model.encode([sentence], show_progress_bar=False)"
   ]
  },
  {
   "cell_type": "code",
   "execution_count": 90,
   "metadata": {},
   "outputs": [],
   "source": [
    "em = ComputeEmbeddings()"
   ]
  },
  {
   "cell_type": "code",
   "execution_count": 177,
   "metadata": {},
   "outputs": [],
   "source": [
    "v = em.get_vectors(\"beer company\")[0]"
   ]
  },
  {
   "cell_type": "code",
   "execution_count": 178,
   "metadata": {},
   "outputs": [
    {
     "data": {
      "text/plain": [
       "[('Q22333354', 0.88853520154953),\n",
       " ('Q878975', 0.8738116025924683),\n",
       " ('Q4880037', 0.8519435524940491),\n",
       " ('Q1637028', 0.8471935987472534),\n",
       " ('Q28530481', 0.8351479768753052),\n",
       " ('Q696787', 0.8316407203674316),\n",
       " ('Q20571254', 0.8302997350692749),\n",
       " ('Q460206', 0.829006552696228),\n",
       " ('Q899967', 0.8265884518623352),\n",
       " ('Q6439205', 0.8240088224411011)]"
      ]
     },
     "execution_count": 178,
     "metadata": {},
     "output_type": "execute_result"
    }
   ],
   "source": [
    "te_vectors.similar_by_vector(v)"
   ]
  },
  {
   "cell_type": "code",
   "execution_count": 158,
   "metadata": {},
   "outputs": [
    {
     "name": "stdout",
     "output_type": "stream",
     "text": [
      "\u001b[90mid\u001b[39m Q2744746\n",
      "\u001b[42mLabel\u001b[49m La Chouffe\n",
      "\u001b[44mDescription\u001b[49m beer brand from Belgium\n",
      "\u001b[30m\u001b[47minstance of\u001b[49m\u001b[39m \u001b[90m(P31)\u001b[39m\u001b[90m: \u001b[39mbeer brand \u001b[90m(Q15075508)\u001b[39m\n"
     ]
    }
   ],
   "source": [
    "!wd u Q2744746"
   ]
  },
  {
   "cell_type": "code",
   "execution_count": null,
   "metadata": {},
   "outputs": [],
   "source": []
  }
 ],
 "metadata": {
  "kernelspec": {
   "display_name": "kgtk",
   "language": "python",
   "name": "kgtk"
  },
  "language_info": {
   "codemirror_mode": {
    "name": "ipython",
    "version": 3
   },
   "file_extension": ".py",
   "mimetype": "text/x-python",
   "name": "python",
   "nbconvert_exporter": "python",
   "pygments_lexer": "ipython3",
   "version": "3.7.9"
  }
 },
 "nbformat": 4,
 "nbformat_minor": 4
}
