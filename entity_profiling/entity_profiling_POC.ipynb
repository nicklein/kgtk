{
 "cells": [
  {
   "cell_type": "markdown",
   "metadata": {},
   "source": [
    "# POC Re-Implementation of Procedure Outlined in \"Entity Profiling in Knowledge Graphs\" (Zhang Et al.)\n",
    "Using a subset of wikidata related to Q44 (\"beer\")"
   ]
  },
  {
   "cell_type": "code",
   "execution_count": 82,
   "metadata": {},
   "outputs": [],
   "source": [
    "import pandas as pd\n",
    "from copy import deepcopy\n",
    "import os"
   ]
  },
  {
   "cell_type": "code",
   "execution_count": 130,
   "metadata": {},
   "outputs": [],
   "source": [
    "os.environ['STORE'] = \"wikidata.sqlite3.db\"\n",
    "os.environ['DATA'] = \"Q44\"\n",
    "os.environ['NAME'] = \"Q44\"\n",
    "os.environ[\"OUT\"] = \"output\""
   ]
  },
  {
   "cell_type": "markdown",
   "metadata": {},
   "source": [
    "Helper function for executing commands"
   ]
  },
  {
   "cell_type": "code",
   "execution_count": null,
   "metadata": {},
   "outputs": [],
   "source": [
    "def run_command(command, substitution_dictionary = {}):\n",
    "    \"\"\"Run a templetized command.\"\"\"\n",
    "    #cmd = command.replace(\"NAME\", subset_name)\n",
    "    for k, v in substitution_dictionary.items():\n",
    "        cmd = cmd.replace(k, v)\n",
    "    \n",
    "    print(cmd)\n",
    "    output = subprocess.run([cmd], shell=True, universal_newlines=True, stdout=subprocess.PIPE, stderr=subprocess.PIPE)\n",
    "    print(output.stdout)\n",
    "    print(output.stderr)"
   ]
  },
  {
   "cell_type": "markdown",
   "metadata": {},
   "source": [
    "### An example of aggregating <type, property, value> from a file along with the property label"
   ]
  },
  {
   "cell_type": "code",
   "execution_count": 97,
   "metadata": {},
   "outputs": [
    {
     "name": "stdout",
     "output_type": "stream",
     "text": [
      "type\tprop\tvalue\tcount\tproperty_label\r\n",
      "Q1066984\tP1343\tQ97879676\t3\t'described by source'@en\r\n",
      "Q1066984\tP1343\tQ316838\t2\t'described by source'@en\r\n",
      "Q1066984\tP17\tQ154195\t2\t'country'@en\r\n",
      "Q1066984\tP17\tQ183\t2\t'country'@en\r\n",
      "Q1066984\tP17\tQ2415901\t2\t'country'@en\r\n",
      "Q1066984\tP17\tQ256961\t2\t'country'@en\r\n",
      "Q1066984\tP17\tQ41304\t2\t'country'@en\r\n",
      "Q1066984\tP17\tQ43287\t2\t'country'@en\r\n",
      "Q1066984\tP17\tQ713750\t2\t'country'@en\r\n",
      "Q1066984\tP17\tQ7318\t2\t'country'@en\r\n"
     ]
    }
   ],
   "source": [
    "!kgtk query -i $DATA/$NAME.part.wikibase-item.tsv -i $DATA/$NAME.label.en.tsv --graph-cache $STORE \\\n",
    "--match 'item: (n1)-[l {label: p}]->(n2), item: (n1)-[:P31]->(type), label: (p)-[:label]->(lab)' \\\n",
    "--return 'distinct type as type, l.label as prop, n2 as value, count(n1) as count, lab as property_label' \\\n",
    "--where 'lab.kgtk_lqstring_lang_suffix = \"en\"' \\\n",
    "--order-by 'type, count(n1) desc' \\\n",
    "--limit 10"
   ]
  },
  {
   "cell_type": "markdown",
   "metadata": {},
   "source": [
    "# Create label candidate sets with counts of:\n",
    "# 1. entities of each type\n",
    "# 2. positives for each label \n",
    "\n",
    "## 1. Count number of entities of each type:"
   ]
  },
  {
   "cell_type": "code",
   "execution_count": 167,
   "metadata": {},
   "outputs": [],
   "source": [
    "!kgtk query -i $DATA/$NAME.part.wikibase-item.tsv -o $OUT/$NAME.entity_counts_per_type.tsv --graph-cache $STORE \\\n",
    "--match 'item: (n1)-[:P31]->(type)' \\\n",
    "--return 'distinct type as type, count(distinct n1) as count' \\\n",
    "--order-by 'count(distinct n1) desc' \\"
   ]
  },
  {
   "cell_type": "code",
   "execution_count": 168,
   "metadata": {},
   "outputs": [
    {
     "name": "stdout",
     "output_type": "stream",
     "text": [
      "type\tcount\r\n",
      "Q131734\t87\r\n",
      "Q3624078\t69\r\n",
      "Q4830453\t50\r\n",
      "Q6256\t26\r\n",
      "Q6881511\t23\r\n",
      "Q7270\t18\r\n",
      "Q1998962\t16\r\n",
      "Q179164\t16\r\n",
      "Q123480\t15\r\n"
     ]
    }
   ],
   "source": [
    "!head $OUT/$NAME.entity_counts_per_type.tsv"
   ]
  },
  {
   "cell_type": "markdown",
   "metadata": {},
   "source": [
    "## TODO - how can I use these counts in future queries? Attempting to figure out correct syntax below"
   ]
  },
  {
   "cell_type": "code",
   "execution_count": 181,
   "metadata": {},
   "outputs": [
    {
     "name": "stdout",
     "output_type": "stream",
     "text": [
      "'node1'\r\n",
      "\r\n"
     ]
    }
   ],
   "source": [
    "!kgtk query -i $OUT/$NAME.entity_counts_per_type.tsv --graph-cache $STORE \\\n",
    "--match 'counts: (t:type)-[]->(c:count)' \\\n",
    "--return 't as type, c as count' \\\n",
    "--order-by 'c desc' \\\n",
    "--limit 10"
   ]
  },
  {
   "cell_type": "markdown",
   "metadata": {},
   "source": [
    "## 2. Create <Type, Property, Value> labels with counts of positive entities \n",
    "TODO - should we be counting distinct n1s for positives column? From above output, if you add a n1 column, we still have counts > 1, seeming to imply that there are duplicate triplets in the edge file. Should we ignore these duplicates?"
   ]
  },
  {
   "cell_type": "code",
   "execution_count": 165,
   "metadata": {},
   "outputs": [],
   "source": [
    "!kgtk query -i $DATA/$NAME.part.wikibase-item.tsv -i $DATA/$NAME.part.string.tsv -i $DATA/$NAME.label.en.tsv \\\n",
    "-o $OUT/$NAME.candidate_labels.tsv --graph-cache $STORE \\\n",
    "--match 'string: (n1)-[l {label:p}]->(n2), item: (n1)-[:P31]->(type), label: (p)-[:label]->(lab)' \\\n",
    "--return 'distinct type as type, p as prop, n2 as value, count(distinct n1) as positives, lab as property_label' \\\n",
    "--where 'lab.kgtk_lqstring_lang_suffix = \"en\"' \\\n",
    "--order-by 'type, count(distinct n1) desc'"
   ]
  },
  {
   "cell_type": "code",
   "execution_count": 166,
   "metadata": {},
   "outputs": [
    {
     "name": "stdout",
     "output_type": "stream",
     "text": [
      "type\tprop\tvalue\tpositives\tproperty_label\r\n",
      "Q1066984\tP1438\t\"15521\"\t1\t'Jewish Encyclopedia ID (Russian)'@en\r\n",
      "Q1066984\tP281\t\"80331\"\t1\t'postal code'@en\r\n",
      "Q1066984\tP281\t\"80802\"\t1\t'postal code'@en\r\n",
      "Q1066984\tP281\t\"80805\"\t1\t'postal code'@en\r\n",
      "Q1066984\tP281\t\"81377\"\t1\t'postal code'@en\r\n",
      "Q1066984\tP281\t\"81379\"\t1\t'postal code'@en\r\n",
      "Q1066984\tP281\t\"81730\"\t1\t'postal code'@en\r\n",
      "Q1066984\tP281\t\"81735\"\t1\t'postal code'@en\r\n",
      "Q1066984\tP281\t\"81737\"\t1\t'postal code'@en\r\n"
     ]
    }
   ],
   "source": [
    "!head $OUT/$NAME.candidate_labels.tsv"
   ]
  },
  {
   "cell_type": "code",
   "execution_count": 73,
   "metadata": {},
   "outputs": [],
   "source": [
    "# helper for examining contents of dictionary\n",
    "def peek_dict(d, max_items = 1):\n",
    "    count = 1\n",
    "    for k, v in d.items():\n",
    "        print(k)\n",
    "        print(v)\n",
    "        count += 1\n",
    "        if count > max_items: break"
   ]
  },
  {
   "cell_type": "markdown",
   "metadata": {},
   "source": [
    "## Creating type mapping"
   ]
  },
  {
   "cell_type": "code",
   "execution_count": 48,
   "metadata": {},
   "outputs": [],
   "source": [
    "%%bash\n",
    "kgtk filter -i Q44/Q44.part.wikibase-item.tsv -o entity_types.tsv --pattern ' ; P31 ; '"
   ]
  },
  {
   "cell_type": "code",
   "execution_count": 49,
   "metadata": {},
   "outputs": [],
   "source": [
    "entity_types_df = pd.read_csv(\"entity_types.tsv\", sep = \"\\t\")\n",
    "entity_types_df.drop(columns = [\"id\",\"label\"], inplace = True)\n",
    "entity_types_df = entity_types_df.groupby(\"node1\")[\"node2\"].apply(list)\n",
    "entity_types_df = entity_types_df.T\n",
    "type_mapping = entity_types_df.to_dict()"
   ]
  },
  {
   "cell_type": "code",
   "execution_count": 74,
   "metadata": {},
   "outputs": [
    {
     "name": "stdout",
     "output_type": "stream",
     "text": [
      "Q1000597\n",
      "['Q3957']\n"
     ]
    }
   ],
   "source": [
    "peek_dict(type_mapping)"
   ]
  },
  {
   "cell_type": "markdown",
   "metadata": {},
   "source": [
    "## Creating label sets\n",
    "### (AVL and REL only - i.e. no discretization of continuous values, no label containing another label as its value)"
   ]
  },
  {
   "cell_type": "code",
   "execution_count": 60,
   "metadata": {},
   "outputs": [],
   "source": [
    "def create_label_sets(tsv_edge_file):\n",
    "    label_sets_by_type = {}\n",
    "    num_no_type = 0\n",
    "    num_labels = 0\n",
    "    quantity_df = pd.read_csv(tsv_edge_file, \"\\t\")\n",
    "    \n",
    "    \n",
    "    for index, row in quantity_df.iterrows():\n",
    "        entity = row[\"node1\"]\n",
    "        prop = row[\"label\"]\n",
    "        value = row[\"node2\"]\n",
    "\n",
    "        # Is it possible that we find an entity that doesn't have a type?\n",
    "        if entity not in type_mapping:\n",
    "            num_no_type += 1\n",
    "            continue\n",
    "        # Add this <property, value> pair to the label sets corresponding to this entity's types\n",
    "        for entity_type in type_mapping[entity]:\n",
    "            if entity_type not in label_sets_by_type:\n",
    "                label_sets_by_type[entity_type] = [0,{}]\n",
    "            if prop not in label_sets_by_type[entity_type][1]:\n",
    "                label_sets_by_type[entity_type][1][prop] = {}\n",
    "            if value not in label_sets_by_type[entity_type][1][prop]:\n",
    "                label_sets_by_type[entity_type][1][prop][value] = 0\n",
    "            label_sets_by_type[entity_type][1][prop][value] += 1\n",
    "            label_sets_by_type[entity_type][0] += 1\n",
    "            num_labels += 1\n",
    "            \n",
    "    print(\"# entities for which we didn't have a type: \" + str(num_no_type))\n",
    "    print(\"# labels created: \" + str(num_labels))\n",
    "    return label_sets_by_type\n",
    "        "
   ]
  },
  {
   "cell_type": "markdown",
   "metadata": {},
   "source": [
    "#### Taking a look at what this does for continuous values..."
   ]
  },
  {
   "cell_type": "code",
   "execution_count": 61,
   "metadata": {},
   "outputs": [
    {
     "name": "stdout",
     "output_type": "stream",
     "text": [
      "# entities for which we didn't have a type: 0\n",
      "# labels created: 85379\n"
     ]
    }
   ],
   "source": [
    "quantity_label_sets = create_label_sets(\"Q44/Q44.part.quantity.tsv\")"
   ]
  },
  {
   "cell_type": "code",
   "execution_count": 75,
   "metadata": {},
   "outputs": [
    {
     "name": "stdout",
     "output_type": "stream",
     "text": [
      "Q3957\n",
      "[3, {'P1082': {'+75074': 1, '+64764': 1}, 'P2044': {'+525Q11573': 1}}]\n"
     ]
    }
   ],
   "source": [
    "peek_dict(quantity_label_sets)"
   ]
  },
  {
   "cell_type": "markdown",
   "metadata": {},
   "source": [
    "#### For discrete values..."
   ]
  },
  {
   "cell_type": "code",
   "execution_count": 63,
   "metadata": {},
   "outputs": [
    {
     "name": "stdout",
     "output_type": "stream",
     "text": [
      "# entities for which we didn't have a type: 24\n",
      "# labels created: 3836\n"
     ]
    }
   ],
   "source": [
    "string_label_sets = create_label_sets(\"Q44/Q44.part.string.tsv\")"
   ]
  },
  {
   "cell_type": "code",
   "execution_count": 76,
   "metadata": {},
   "outputs": [
    {
     "name": "stdout",
     "output_type": "stream",
     "text": [
      "Q3957\n",
      "[11, {'P281': {'DE14': 1, '21400–21499': 1, 'LE67': 1}, 'P373': {'Burton upon Trent': 1, 'Tecate': 1, 'Coalville': 1}, 'P473': {'01283': 1, '665': 1, '01530': 1}, 'P613': {'SK245225': 1, 'SK433138': 1}}]\n"
     ]
    }
   ],
   "source": [
    "peek_dict(string_label_sets)"
   ]
  },
  {
   "cell_type": "markdown",
   "metadata": {},
   "source": [
    "## TODO:\n",
    "## 1. Discretization for continuous values --> AIL\n",
    "## 2. Create RALs"
   ]
  },
  {
   "cell_type": "markdown",
   "metadata": {},
   "source": [
    "## Initial filtering\n",
    "### Simple rule-based filter to remove labels that are trivially either unrepresentative or indistinctive"
   ]
  },
  {
   "cell_type": "code",
   "execution_count": 65,
   "metadata": {},
   "outputs": [],
   "source": [
    "# From paper - alpha empirically set to 1\n",
    "def get_filtered_labels(label_sets, alpha = .1):\n",
    "    filtered_labels = deepcopy(label_sets)\n",
    "    num_filtered = 0\n",
    "    for entity_type, labels in label_sets.items():\n",
    "        num_entities = labels[0]\n",
    "        for prop in labels[1].keys():\n",
    "            for value, num_pos_entities in labels[1][prop].items():\n",
    "                support = num_pos_entities / num_entities\n",
    "                if support < alpha or support > (1 - alpha):\n",
    "                    num_filtered += 1\n",
    "                    del filtered_labels[entity_type][1][prop][value]\n",
    "                    if not filtered_labels[entity_type][1][prop]:\n",
    "                        del filtered_labels[entity_type][1][prop]\n",
    "                        if  not filtered_labels[entity_type][1]:\n",
    "                            del filtered_labels[entity_type]\n",
    "    print(\"# labels filtered out: \" + str(num_filtered))\n",
    "    return filtered_labels\n",
    "                "
   ]
  },
  {
   "cell_type": "code",
   "execution_count": 66,
   "metadata": {},
   "outputs": [
    {
     "name": "stdout",
     "output_type": "stream",
     "text": [
      "# labels filtered out: 3359\n"
     ]
    }
   ],
   "source": [
    "filtered_string_labels = get_filtered_labels(string_label_sets)"
   ]
  },
  {
   "cell_type": "code",
   "execution_count": 77,
   "metadata": {},
   "outputs": [
    {
     "name": "stdout",
     "output_type": "stream",
     "text": [
      "Q902814\n",
      "[8, {'P281': {'21400–21499': 1, '9400': 1}, 'P373': {'Tecate': 1, 'Sopron': 1}, 'P473': {'665': 1, '99': 1}, 'P898': {'ˈʃopron': 1}, 'P935': {'Sopron': 1}}]\n",
      "Q2221906\n",
      "[9, {'P2258': {'617': 1}, 'P2979': {'645': 1}, 'P3067': {'609': 1}, 'P373': {'Mauritius': 1}, 'P395': {'MS': 1}, 'P474': {'+230': 1}, 'P487': {'🇲🇺': 1}, 'P898': {\"mæʉ\\\\\\\\\\\\\\\\'ɾɪtsɪʉs\": 1}, 'P935': {'Mauritius': 1}}]\n",
      "Q4198907\n",
      "[9, {'P2258': {'617': 1}, 'P2979': {'645': 1}, 'P3067': {'609': 1}, 'P373': {'Mauritius': 1}, 'P395': {'MS': 1}, 'P474': {'+230': 1}, 'P487': {'🇲🇺': 1}, 'P898': {\"mæʉ\\\\\\\\\\\\\\\\'ɾɪtsɪʉs\": 1}, 'P935': {'Mauritius': 1}}]\n",
      "Q213907\n",
      "[5, {'P225': {'Zea mays': 1}, 'P373': {'Zea mays': 1}, 'P487': {'🌽': 1}, 'P627': {'77726273': 1}, 'P935': {'Zea mays': 1}}]\n",
      "Q15634554\n",
      "[6, {'P3067': {'390': 1}, 'P3238': {'0': 1}, 'P373': {'Kosovo': 1}, 'P474': {'+383': 1}, 'P487': {'🇽🇰': 1}, 'P935': {'Kosovo': 1}}]\n"
     ]
    }
   ],
   "source": [
    "peek_dict(filtered_string_labels, max_items = 5)"
   ]
  },
  {
   "cell_type": "code",
   "execution_count": 69,
   "metadata": {},
   "outputs": [
    {
     "name": "stdout",
     "output_type": "stream",
     "text": [
      "# labels filtered out: 73714\n"
     ]
    }
   ],
   "source": [
    "filtered_quantity_labels = get_filtered_labels(quantity_label_sets)"
   ]
  },
  {
   "cell_type": "code",
   "execution_count": 78,
   "metadata": {},
   "outputs": [
    {
     "name": "stdout",
     "output_type": "stream",
     "text": [
      "Q3957\n",
      "[3, {'P1082': {'+75074': 1, '+64764': 1}, 'P2044': {'+525Q11573': 1}}]\n",
      "Q902814\n",
      "[6, {'P1082': {'+64764': 1, '+60528': 1, '+61249': 1, '+62454': 1}, 'P2044': {'+525Q11573': 1}, 'P2046': {'+169.01Q712226': 1}}]\n",
      "Q131734\n",
      "[4, {'P2226': {'+3896025.70': 1}, 'P1128': {'+443': 1}, 'P2139': {'+191000000Q4916': 1, '+400000000Q4916': 1}}]\n",
      "Q15075508\n",
      "[12, {'P6088': {'+20[+18,+22]': 2}}]\n",
      "Q40050\n",
      "[12, {'P6088': {'+20[+18,+22]': 2}}]\n"
     ]
    }
   ],
   "source": [
    "peek_dict(filtered_quantity_labels, max_items = 5)"
   ]
  },
  {
   "cell_type": "code",
   "execution_count": 80,
   "metadata": {},
   "outputs": [],
   "source": [
    "m = max(filtered_quantity_labels, key = filtered_quantity_labels.get)"
   ]
  },
  {
   "cell_type": "code",
   "execution_count": 81,
   "metadata": {},
   "outputs": [
    {
     "data": {
      "text/plain": [
       "[13, {'P6088': {'+20[+18,+22]': 2}}]"
      ]
     },
     "execution_count": 81,
     "metadata": {},
     "output_type": "execute_result"
    }
   ],
   "source": [
    "filtered_quantity_labels[m]"
   ]
  }
 ],
 "metadata": {
  "kernelspec": {
   "display_name": "Python [conda env:kgtk-env] *",
   "language": "python",
   "name": "conda-env-kgtk-env-py"
  },
  "language_info": {
   "codemirror_mode": {
    "name": "ipython",
    "version": 3
   },
   "file_extension": ".py",
   "mimetype": "text/x-python",
   "name": "python",
   "nbconvert_exporter": "python",
   "pygments_lexer": "ipython3",
   "version": "3.7.8"
  }
 },
 "nbformat": 4,
 "nbformat_minor": 4
}
