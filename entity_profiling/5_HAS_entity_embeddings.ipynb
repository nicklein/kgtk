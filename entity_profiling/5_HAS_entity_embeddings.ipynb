{
 "cells": [
  {
   "cell_type": "markdown",
   "metadata": {},
   "source": [
    "# Creating HAS-model embeddings for entities in a KG\n",
    "The purpose of these will be for assessing entities' similarities to one another. This measure of similarity between entities will in turn be used to assess the distinctiveness of labels that have previously been created and filtered for this KG."
   ]
  },
  {
   "cell_type": "markdown",
   "metadata": {},
   "source": [
    "## Pre-requisite steps to run this notebook\n",
    "1. You need to run the 1_candidate_label_creation notebook before this notebook.\n",
    "2. gensim is a dependency. You can install it with `pip install --upgrade gensim`, or if you want to use Anaconda, `conda install -c conda-forge gensim`"
   ]
  },
  {
   "cell_type": "code",
   "execution_count": 3,
   "metadata": {},
   "outputs": [],
   "source": [
    "import os\n",
    "import random\n",
    "import numpy as np\n",
    "import pandas as pd\n",
    "from gensim.models import Word2Vec\n",
    "import matplotlib.pyplot as plt\n",
    "from collections import Counter\n",
    "from h_path_walks import get_h_walks_from_kgtk_item_file\n",
    "import seaborn as sns"
   ]
  },
  {
   "cell_type": "markdown",
   "metadata": {},
   "source": [
    "## parameters\n",
    "\n",
    "**Embedding model parameters**  \n",
    "*directed*: If true, treat graph as directed when performing H-feature walks. Otherwise undirected.  \n",
    "*num_H_walks*: Number of random walks to start at each node with the H-feature walk method  \n",
    "*num_A_walks*: Number of random walks to start at each node with the A-feature walk method  \n",
    "*num_S_walks*: Number of random walks to start at each node with the S-feature walk method  \n",
    "*walk_length*: Length of random walk started at each node  \n",
    "*representation_size*: Number of latent dimensions to learn from each node  \n",
    "*window_size*: Window size of skipgram model  \n",
    "*workers*: Number of parallel processes  \n",
    "*type_to_profile*: Q-node corresponding to the type of entity you want to profile. A and S embedding features will contribute additional information to learn similarities of entities within this type.  \n",
    "*k*: Used for the A and S feature walks - number of closest neighbors to consider hopping to from a node during a random walk. The paper that this method is based on recommends setting this to ~average degree in the original graph.\n",
    "\n",
    "**File/Directory parameters**  \n",
    "*h_walks_file*: Name of file to hold H-feature walks. If this file is already present (e.g. you've run the notebook before), we won't recompute the walks and will just use the ones that are in this file. This is to help avoid accidentally deleting previous work. If you want to re-calculate these, either pick a different file name or manually delete this file.  \n",
    "*a_walks_file*: Same as h_walks_file parameter except for the A-feature walks.  \n",
    "*s_walks_file*: Same as h_walks_file parameter except for the S-feature walks.  \n",
    "*item_file*: File path for the file that contains entity to entity relationships (e.g. wikibase-item).  \n",
    "*label_file*: File path for the file that contains wikidata labels.  \n",
    "*time_file*: file path for the file that contains entity to time-type values  \n",
    "*quantity_file*: file path for the file that contains entity to quantity-type values  \n",
    "*work_dir*: same work_dir that you specified in the label creation notebook. We'll look for files created by that notebook here. Files created by this notebook will also be saved here.  \n",
    "*store_dir*: Path to folder containing the sqlite3.db file that we will use for our queries. We will reuse an existing file if there is one in this folder. Otherwise we will create a new one."
   ]
  },
  {
   "cell_type": "code",
   "execution_count": 28,
   "metadata": {},
   "outputs": [],
   "source": [
    "# Embedding model params\n",
    "directed = False\n",
    "num_H_walks = 10\n",
    "num_A_walks = 10\n",
    "num_S_walks = 10\n",
    "walk_length = 10\n",
    "representation_size = 64\n",
    "window_size = 5\n",
    "workers = 32\n",
    "type_to_profile = \"Q11424\"\n",
    "k = 5\n",
    "\n",
    "\n",
    "# File/Directory params\n",
    "\n",
    "h_walks_file = \"h_walks.txt\"\n",
    "a_walks_file = \"a_walks.txt\"\n",
    "s_walks_file = \"s_walks.txt\"\n",
    "\n",
    "\n",
    "# item_file = \"../../Q44/data/Q44.part.wikibase-item.tsv\"\n",
    "# label_file = \"../../Q44/data/Q44.label.en.tsv\"\n",
    "# time_file = \"../../Q44/data/Q44.part.time.tsv\"\n",
    "# quantity_file = \"../../Q44/data/Q44.part.quantity.tsv\"\n",
    "# work_dir = \"../../Q44/profiler_work\"\n",
    "# store_dir = \"../../Q44\"\n",
    "\n",
    "# item_file = \"../../Q154/data/claims.wikibase-item.tsv.gz\"\n",
    "# label_file = \"../../Q154/data/labels.en.tsv.gz\"\n",
    "# time_file = \"../../Q154/data/claims.time.tsv.gz\"\n",
    "# quantity_file = \"../../Q154/data/claims.quantity.tsv.gz\"\n",
    "# work_dir = \"../../Q154/profiler_work\"\n",
    "# store_dir = \"../../Q154\"\n",
    "\n",
    "item_file = \"../../wikidata_films/data/claims.wikibase-item.tsv.gz\"\n",
    "label_file = \"../../wikidata_films/data/labels.en.tsv.gz\"\n",
    "time_file = \"../../wikidata_films/data/claims.time.tsv.gz\"\n",
    "quantity_file = \"../../wikidata_films/data/claims.quantity.tsv.gz\"\n",
    "work_dir = \"../../wikidata_films/profiler_work\"\n",
    "store_dir = \"../../wikidata_films\"\n",
    "\n",
    "# item_file = \"../../wikidata_politicians/data/claims.wikibase-item.tsv.gz\"\n",
    "# label_file = \"../../wikidata_politicians/data/labels.en.tsv.gz\"\n",
    "# time_file = \"../../wikidata_politicians/data/claims.time.tsv.gz\"\n",
    "# quantity_file = \"../../wikidata_politicians/data/claims.quantity.tsv.gz\"\n",
    "# work_dir = \"../../wikidata_politicians/profiler_work\"\n",
    "# store_dir = \"../../wikidata_politicians\""
   ]
  },
  {
   "cell_type": "markdown",
   "metadata": {},
   "source": [
    "### Process parameters and set up variables / file names"
   ]
  },
  {
   "cell_type": "code",
   "execution_count": 8,
   "metadata": {},
   "outputs": [],
   "source": [
    "# Ensure paths are absolute\n",
    "item_file = os.path.abspath(item_file)\n",
    "label_file = os.path.abspath(label_file)\n",
    "time_file = os.path.abspath(time_file)\n",
    "quantity_file = os.path.abspath(quantity_file)\n",
    "work_dir = os.path.abspath(work_dir)\n",
    "store_dir = os.path.abspath(store_dir)\n",
    "    \n",
    "# Create directories\n",
    "if not os.path.exists(work_dir):\n",
    "    os.makedirs(work_dir)\n",
    "output_dir = \"{}/HAS_embeddings\".format(work_dir)\n",
    "if not os.path.exists(output_dir):\n",
    "    os.makedirs(output_dir)\n",
    "    \n",
    "# Output files where we will store walks...\n",
    "h_walks_file = \"{}/{}\".format(output_dir,h_walks_file)\n",
    "a_walks_file = \"{}/{}\".format(output_dir,a_walks_file)\n",
    "s_walks_file = \"{}/{}\".format(output_dir,s_walks_file)\n",
    "walks_file = \"{}/walks.txt\".format(output_dir)\n",
    "\n",
    "# Number of nodes to compute walks from at once. Larger = faster, but if too big, we may run out of stack space.\n",
    "# Not making this a user-specifiable param for now.\n",
    "batch_size = 50000\n",
    "\n",
    "# Setting up environment variables \n",
    "os.environ[\"TYPE\"] = type_to_profile\n",
    "os.environ['ITEM_FILE'] = item_file\n",
    "os.environ['LABEL_FILE'] = label_file\n",
    "os.environ['TIME_FILE'] = time_file\n",
    "os.environ['QUANTITY_FILE'] = quantity_file\n",
    "os.environ['STORE'] = \"{}/wikidata.sqlite3.db\".format(store_dir)\n",
    "os.environ['LABEL_CREATION'] = \"{}/label_creation\".format(work_dir)\n",
    "os.environ['OUT'] = output_dir\n",
    "os.environ['kgtk'] = \"kgtk\" # Need to do this for kgtk to be recognized as a command when passing it through a subprocess call"
   ]
  },
  {
   "cell_type": "markdown",
   "metadata": {},
   "source": [
    "Start with empty corpus of walks. We'll add to this in the following steps."
   ]
  },
  {
   "cell_type": "code",
   "execution_count": 12,
   "metadata": {},
   "outputs": [],
   "source": [
    "open(walks_file, 'w').close()"
   ]
  },
  {
   "cell_type": "markdown",
   "metadata": {},
   "source": [
    "### 1. H-Paths\n",
    "These random walks are intended to detect similarity due to homophily. Random walks are performed in a DFS manner.   For more detail of implementation / analysis of this individual feature, take a look at the H_walks_analysis notebook."
   ]
  },
  {
   "cell_type": "code",
   "execution_count": 13,
   "metadata": {
    "scrolled": true
   },
   "outputs": [
    {
     "name": "stdout",
     "output_type": "stream",
     "text": [
      "Specified h_walks_file already exists. Using this existing file for H-feature walks instead of computing new walks.\n",
      "CPU times: user 1.12 ms, sys: 110 µs, total: 1.23 ms\n",
      "Wall time: 816 µs\n"
     ]
    }
   ],
   "source": [
    "%%time\n",
    "if os.path.isfile(h_walks_file):\n",
    "    print(\"Specified h_walks_file already exists. Using this existing file for H-feature walks instead of computing new walks.\")\n",
    "elif num_H_walks > 0:\n",
    "    get_h_walks_from_kgtk_item_file(item_file, h_walks_file, directed, walk_length, num_H_walks, batch_size)"
   ]
  },
  {
   "cell_type": "markdown",
   "metadata": {},
   "source": [
    "H-walks file size"
   ]
  },
  {
   "cell_type": "code",
   "execution_count": 14,
   "metadata": {},
   "outputs": [
    {
     "name": "stdout",
     "output_type": "stream",
     "text": [
      "-rw-rw-r--+ 1 nmklein div22 767M Feb  1 21:02 /nas/home/nmklein/wikidata_films/profiler_work/HAS_embeddings/h_walks.txt\r\n"
     ]
    }
   ],
   "source": [
    "!ls -lh {h_walks_file}"
   ]
  },
  {
   "cell_type": "markdown",
   "metadata": {},
   "source": [
    "Number of walks in this file:"
   ]
  },
  {
   "cell_type": "code",
   "execution_count": 15,
   "metadata": {},
   "outputs": [
    {
     "name": "stdout",
     "output_type": "stream",
     "text": [
      "9516530 /nas/home/nmklein/wikidata_films/profiler_work/HAS_embeddings/h_walks.txt\r\n"
     ]
    }
   ],
   "source": [
    "!wc -l {h_walks_file}"
   ]
  },
  {
   "cell_type": "markdown",
   "metadata": {},
   "source": [
    "Append H-feature walks to combined walks file if we have any H-feature walks (we might not if num_H_walks parameter = 0)"
   ]
  },
  {
   "cell_type": "code",
   "execution_count": 19,
   "metadata": {
    "scrolled": true
   },
   "outputs": [],
   "source": [
    "!if test -f {h_walks_file}; then cat {h_walks_file} >> {walks_file}; fi"
   ]
  },
  {
   "cell_type": "markdown",
   "metadata": {},
   "source": [
    "### 2. A-Paths\n",
    "#### 2.1 Create simple embeddings for entities based on the value of their attributes\n",
    "**Things to keep in mind here:**  \n",
    "- We are only using numeric valued attributes here. The paper uses string valued attributes as well.\n",
    "- We are not accounting for the possibility that an entity could have two values for a single property. This is something we need to do, though we do not need to do it yet for this example with the Q44 data.\n",
    "- We are not sure how they dealt with entities that are missing a value for some attrbiute. Ideas:\n",
    "    - use average value from other entities that have the attribute\n",
    "    - only compare attributes that both entities have\n",
    "    - if there is an attribute that only one of the two entities being compared has a value for, then distance in that dimension is max possible distance.. i.e. since we will normalize the embeddings, difference in this dimension can be 1. However, we are certain this is not what they do because they look for neighbors within a hypercube, not within a hypersphere. If we look for neighbors within a hypercube, then this option would lead to random walks having only entities that have the same set of attributes. While this is an approach we could take, it could be implemented in a much more straightforward and efficient way.\n",
    "    - Do the above option and compute distance using the L2 norm (hypersphere). This would be different from what the paper did but might give better results? But also it would be less efficient, and we know the method in the paper went with a hypercube to make it computationally feasible on large graphs."
   ]
  },
  {
   "cell_type": "markdown",
   "metadata": {},
   "source": [
    "First dealing with time attributes"
   ]
  },
  {
   "cell_type": "code",
   "execution_count": 20,
   "metadata": {},
   "outputs": [],
   "source": [
    "!kgtk query -i $LABEL_CREATION/entity_attribute_labels_time.year.tsv --graph-cache $STORE \\\n",
    "-o $OUT/${TYPE}_entity_attribute_vals_time.year.tsv \\\n",
    "--match 'labels: (type:`'\"$TYPE\"'`)-[l {entity:e, label:p, property_label:p_lab}]->(val)' \\\n",
    "--return 'distinct e as entity, p as prop, p_lab as prop_label, val as value' \\\n",
    "--order-by 'e, p, val'"
   ]
  },
  {
   "cell_type": "code",
   "execution_count": 21,
   "metadata": {},
   "outputs": [
    {
     "name": "stdout",
     "output_type": "stream",
     "text": [
      "entity      prop   prop_label                      value\r\n",
      "Q1000094    P577   'publication date'@en           1999\r\n",
      "Q1000174    P577   'publication date'@en           1957\r\n",
      "Q1000394    P577   'publication date'@en           1931\r\n",
      "Q10005695   P577   'publication date'@en           2014\r\n",
      "Q100057542  P577   'publication date'@en           2020\r\n",
      "Q10007277   P577   'publication date'@en           1975\r\n",
      "Q1000825    P1191  'date of first performance'@en  2001\r\n",
      "Q1000825    P577   'publication date'@en           2001\r\n",
      "Q1000826    P577   'publication date'@en           1969\r\n"
     ]
    }
   ],
   "source": [
    "!head $OUT/${TYPE}_entity_attribute_vals_time.year.tsv | column -t -s $'\\t'"
   ]
  },
  {
   "cell_type": "markdown",
   "metadata": {},
   "source": [
    "Next, quantity attributes. These may have units, and we want units to contribute to defining the attribute, so the prop column below will consist of \\<property\\>_\\<si_units\\>_\\<wd_units\\>"
   ]
  },
  {
   "cell_type": "code",
   "execution_count": 22,
   "metadata": {},
   "outputs": [],
   "source": [
    "!kgtk query -i $LABEL_CREATION/entity_attribute_labels_quantity.tsv --graph-cache $STORE \\\n",
    "-o $OUT/${TYPE}_entity_attribute_vals_quantity.tsv \\\n",
    "--match 'labels: (type:`'\"$TYPE\"'`)-[l {entity:e, label:p, property_label:p_lab, si_units:si, wd_units:wd}]->(val)' \\\n",
    "--return 'distinct e as entity, printf(\"%s_%s_%s\", p, si, wd) as prop, p_lab as prop_label, val as value' \\\n",
    "--order-by 'e, p, val'"
   ]
  },
  {
   "cell_type": "code",
   "execution_count": 23,
   "metadata": {},
   "outputs": [
    {
     "name": "stdout",
     "output_type": "stream",
     "text": [
      "entity      prop          prop_label     value\r\n",
      "Q1000094    P2047__Q7727  'duration'@en  +100\r\n",
      "Q1000174    P2047__Q7727  'duration'@en  +91\r\n",
      "Q1000394    P2047__Q7727  'duration'@en  +69\r\n",
      "Q1000826    P2047__Q7727  'duration'@en  +100\r\n",
      "Q100097551  P2047__Q7727  'duration'@en  +82\r\n",
      "Q1001102    P2047__Q7727  'duration'@en  +75\r\n",
      "Q1001400    P2047__Q7727  'duration'@en  +94\r\n",
      "Q100145643  P2047__Q7727  'duration'@en  +77\r\n",
      "Q100145755  P2047__Q7727  'duration'@en  +94\r\n",
      "Q100145760  P2047__Q7727  'duration'@en  +77\r\n",
      "Q100146136  P2047__Q7727  'duration'@en  +93\r\n",
      "Q100148039  P2047__Q7727  'duration'@en  +12\r\n",
      "Q100157933  P2047__Q7727  'duration'@en  +80\r\n",
      "Q1001759    P2047__Q7727  'duration'@en  +102\r\n"
     ]
    }
   ],
   "source": [
    "!head -15 $OUT/${TYPE}_entity_attribute_vals_quantity.tsv | column -t -s $'\\t'"
   ]
  },
  {
   "cell_type": "markdown",
   "metadata": {},
   "source": [
    "Load <entity, attribute, value> triples to Python, create embeddings from there.  \n",
    "Embeddings will have $|A_t|$ dimensions where $A_t$ is the set of distinct attributes that entities of type $t$ have.\n",
    "\n",
    "**Note, here we have a choice about how to fill in dimensions for an entity that doesn't have a value for all attributes.** E.g. average value for that dimension, or don't fill it in and later only compare dimensions that both entities have ..."
   ]
  },
  {
   "cell_type": "code",
   "execution_count": 24,
   "metadata": {
    "scrolled": true
   },
   "outputs": [],
   "source": [
    "attributes_df = pd.read_csv(\"{}/{}_entity_attribute_vals_time.year.tsv\".format(output_dir, type_to_profile), delimiter = '\\t').fillna(\"\")\n",
    "attributes_df = attributes_df.append(pd.read_csv(\"{}/{}_entity_attribute_vals_quantity.tsv\".format(output_dir, type_to_profile), delimiter = '\\t').fillna(\"\"))\n",
    "\n",
    "attributes = attributes_df.prop.unique()\n",
    "entities = attributes_df.entity.unique()\n",
    "attr_to_idx = {attributes[ix] : ix for ix in range(len(attributes))}\n",
    "ent_to_idx = {entities[ix] : ix for ix in range(len(entities))}\n",
    "embeddings = np.full((len(entities),len(attributes)), np.nan)\n",
    "\n",
    "for ent, attr, val in zip(attributes_df['entity'], attributes_df['prop'], attributes_df['value']):\n",
    "    embeddings[ent_to_idx[ent], attr_to_idx[attr]] = val\n",
    "\n",
    "# normalize each dimension\n",
    "embeddings -= np.nanmin(embeddings,0)\n",
    "embeddings /= [m if m != 0 else 1 for m in np.nanmax(embeddings,0)]\n",
    "\n",
    "# NOTE - filling nan's with the average value in that dimension.\n",
    "# There are other options we could go with... see \"things to note\"-\n",
    "# list under section header above\n",
    "embeddings = np.nan_to_num(embeddings, nan=np.nanmean(embeddings, 0))"
   ]
  },
  {
   "cell_type": "markdown",
   "metadata": {},
   "source": [
    "#### 2.2 Find the neighbors for each entity that are similar enough to hop to during a random walk.\n",
    "\n",
    "**notes**  \n",
    "some code here might be able to be optimized. Authors' code first sorts values in each dimension and binary searches for neighbors in range... this would also require choosing a value for $r$ - a parameter that controls size of the hypercube defining neighbors that are close enough to jump to next. Paper mentions you could adjust $r$ to aim for having number of neighbors in hypercube = average degree in original KG... This does not seem like it would be trivial to automate, and I am thinking we want to automate this. For now, just using simpler pythonic code and finding fixed number of closest neighbors.\n",
    "\n",
    "From looking at their code, it appears as if they don't do any adjusting of $r$... I think they just choose $r = 1 / \\#entities$. We could try this out to see how this works out. However for now, still just using a fixed number of closest neighbors approach.\n",
    "\n",
    "Also, if we want to change how we deal with missing attribute values to only compare dimensions that both entities being compared have, we'd need to change that here."
   ]
  },
  {
   "cell_type": "code",
   "execution_count": 42,
   "metadata": {},
   "outputs": [],
   "source": [
    "# Get the closest k neighbors for each entity, where \"closeness\"\n",
    "# is measured by maximum absolute difference in any dimension.\n",
    "# This can be thought of as finding the smallest hypercube that is\n",
    "# centered on an entity and contains k other entities within it.\n",
    "# Params:\n",
    "#     entities   - array of entities\n",
    "#     embeddings - array where each row corresponds to the entity at the same index in the entities array,\n",
    "#                  and each column is a numeric value corresponding to one dimension of the embeddings\n",
    "#     k          - number of closest neighbors to find \n",
    "# Returns: a dictionary of {entity : array of neighbors}\n",
    "def get_k_neighs(entities, embeddings, k):\n",
    "    # NOTE - using a fixed number of closest neighbors. This approach may involve more computation,\n",
    "    # so will need to keep this in mind when scaling up.\n",
    "    entity_to_neighs = {}\n",
    "\n",
    "    for i in range(len(entities)):\n",
    "        max_diffs = np.max(np.abs(embeddings - embeddings[i]), 1)\n",
    "        max_diffs[i] = np.inf # avoid including entity in its own list of neighbors\n",
    "        entity_to_neighs[entities[i]] = entities[np.argpartition(max_diffs, k - 1)[:k]]\n",
    "        break\n",
    "        \n",
    "    return entity_to_neighs"
   ]
  },
  {
   "cell_type": "code",
   "execution_count": 48,
   "metadata": {},
   "outputs": [
    {
     "data": {
      "text/plain": [
       "26.051608796296296"
      ]
     },
     "execution_count": 48,
     "metadata": {},
     "output_type": "execute_result"
    }
   ],
   "source": [
    "len(entities)*13/(3600*24)"
   ]
  },
  {
   "cell_type": "code",
   "execution_count": 45,
   "metadata": {},
   "outputs": [
    {
     "name": "stdout",
     "output_type": "stream",
     "text": [
      "CPU times: user 3.77 s, sys: 8.33 s, total: 12.1 s\n",
      "Wall time: 12.1 s\n"
     ]
    }
   ],
   "source": [
    "%%time\n",
    "# TODO make k a notebook parameter\n",
    "entity_to_neighs = get_k_neighs(entities, embeddings, k)\n",
    "#display(entity_to_neighs)"
   ]
  },
  {
   "cell_type": "markdown",
   "metadata": {},
   "source": [
    "#### 2.3 Perform the random walks and add to the set that will be used to learn the HAS embeddings"
   ]
  },
  {
   "cell_type": "code",
   "execution_count": 33,
   "metadata": {},
   "outputs": [],
   "source": [
    "# Performs num_walks random walks at each node in the graph\n",
    "# i.e. if there are 10 nodes in the gaph and num_walks=10, then we'll do 10*10 = 100 random walks.\n",
    "# Returns a list of walks\n",
    "def perform_walks(entity_to_neighs, walk_length=10, num_walks=10):\n",
    "    start_ents = np.repeat(list(entity_to_neighs.keys()), num_walks)\n",
    "    # pre-allocate walks array with initial values of \"\"\n",
    "    walks = np.full((len(start_ents),walk_length), \"\", dtype='<U9')\n",
    "    \n",
    "    walks[:,0] = start_ents\n",
    "    cur_length = 1\n",
    "    while cur_length < walk_length:\n",
    "        cur_ents = walks[:,cur_length - 1]\n",
    "        # if we've previously hit a dead end, then we could have \"\" as a \n",
    "        # current entity value. In this case, we want to continue filling in \"\".\n",
    "        neighbors = [np.array([\"\"]) if e == \"\" else entity_to_neighs[e] for e in cur_ents]\n",
    "        # if there are no neighbors for some entity \n",
    "        # we'll make the next entity we visit = \"\"\n",
    "        neighbors = [np.array([-1]) if len(arr) < 1 else arr for arr in neighbors]\n",
    "        next_ents = [np.random.choice(arr) for arr in neighbors]\n",
    "        walks[:,cur_length] = next_ents\n",
    "        cur_length += 1\n",
    "    # trim \"\"s from any walks that reached a dead end\n",
    "    walks = [list(arr[arr != \"\"]) for arr in walks]\n",
    "    return walks"
   ]
  },
  {
   "cell_type": "code",
   "execution_count": 34,
   "metadata": {},
   "outputs": [
    {
     "ename": "NameError",
     "evalue": "name 'entity_to_neighs' is not defined",
     "output_type": "error",
     "traceback": [
      "\u001b[0;31m---------------------------------------------------------------------------\u001b[0m",
      "\u001b[0;31mNameError\u001b[0m                                 Traceback (most recent call last)",
      "\u001b[0;32m<timed exec>\u001b[0m in \u001b[0;36m<module>\u001b[0;34m\u001b[0m\n",
      "\u001b[0;31mNameError\u001b[0m: name 'entity_to_neighs' is not defined"
     ]
    }
   ],
   "source": [
    "%%time\n",
    "if os.path.isfile(a_walks_file):\n",
    "    print(\"Specified A_walks_file already exists. Using this existing file for A-feature walks instead of computing new walks.\")\n",
    "elif num_A_walks > 0:\n",
    "    A_walks = perform_walks(entity_to_neighs, walk_length, num_A_walks)\n",
    "    with open(a_walks_file, \"a\") as f:\n",
    "        np.savetxt(f, A_walks, fmt=\"%s\")  "
   ]
  },
  {
   "cell_type": "markdown",
   "metadata": {},
   "source": [
    "A-walks file size"
   ]
  },
  {
   "cell_type": "code",
   "execution_count": 35,
   "metadata": {},
   "outputs": [
    {
     "name": "stdout",
     "output_type": "stream",
     "text": [
      "ls: cannot access a_walks.txt: No such file or directory\r\n"
     ]
    }
   ],
   "source": [
    "!ls -lh {a_walks_file}"
   ]
  },
  {
   "cell_type": "markdown",
   "metadata": {},
   "source": [
    "Number of walks in this file:"
   ]
  },
  {
   "cell_type": "code",
   "execution_count": 36,
   "metadata": {},
   "outputs": [
    {
     "name": "stdout",
     "output_type": "stream",
     "text": [
      "wc: a_walks.txt: No such file or directory\r\n"
     ]
    }
   ],
   "source": [
    "!wc -l {a_walks_file}"
   ]
  },
  {
   "cell_type": "markdown",
   "metadata": {},
   "source": [
    "Append A-feature walks to combined walks file if we have any A-feature walks (we might not if num_A_walks parameter = 0)"
   ]
  },
  {
   "cell_type": "code",
   "execution_count": 37,
   "metadata": {
    "scrolled": true
   },
   "outputs": [],
   "source": [
    "!if test -f {a_walks_file}; then cat {a_walks_file} >> {walks_file}; fi"
   ]
  },
  {
   "cell_type": "markdown",
   "metadata": {},
   "source": [
    "### 3. S-Paths\n",
    "#### 3.1 Create simple embeddings for entities based on the types of their neighbors"
   ]
  },
  {
   "cell_type": "code",
   "execution_count": 38,
   "metadata": {},
   "outputs": [],
   "source": [
    "!kgtk query -i $ITEM_FILE -i $LABEL_CREATION/type_mapping.tsv --graph-cache $STORE \\\n",
    "-o $OUT/${TYPE}_entity_neighbor_types.tsv \\\n",
    "--match '`'\"$ITEM_FILE\"'`: (e1)-[]->(e2), type: (e1)-[]->(t1:`'\"$TYPE\"'`), type: (e2)-[]->(t2)' \\\n",
    "--return 'distinct e1 as entity, t2 as neighbor_type, count(e2) as count' \\\n",
    "--order-by 'e1, t2'"
   ]
  },
  {
   "cell_type": "code",
   "execution_count": 39,
   "metadata": {},
   "outputs": [
    {
     "name": "stdout",
     "output_type": "stream",
     "text": [
      "entity    neighbor_type  count\r\n",
      "Q1000094  Q1001378       1\r\n",
      "Q1000094  Q1075          1\r\n",
      "Q1000094  Q112099        1\r\n",
      "Q1000094  Q1288568       1\r\n",
      "Q1000094  Q1489259       1\r\n",
      "Q1000094  Q1520223       1\r\n",
      "Q1000094  Q201658        2\r\n",
      "Q1000094  Q20181813      1\r\n",
      "Q1000094  Q202686        1\r\n"
     ]
    }
   ],
   "source": [
    "!head $OUT/${TYPE}_entity_neighbor_types.tsv | column -t -s $'\\t'"
   ]
  },
  {
   "cell_type": "markdown",
   "metadata": {},
   "source": [
    "Load <entity, attribute, value> triples to Python, create embeddings from there.  \n",
    "Embeddings will have $|\\tau|$ dimensions where $\\tau$ is the set of distinct types amongst entities that share an edge with entities of type $t$."
   ]
  },
  {
   "cell_type": "code",
   "execution_count": 40,
   "metadata": {
    "scrolled": true
   },
   "outputs": [],
   "source": [
    "types_df = pd.read_csv(\"{}/{}_entity_neighbor_types.tsv\".format(output_dir, type_to_profile), delimiter = '\\t').fillna(\"\")\n",
    "\n",
    "neigh_types = types_df.neighbor_type.unique()\n",
    "entities = types_df.entity.unique()\n",
    "type_to_idx = {neigh_types[ix] : ix for ix in range(len(neigh_types))}\n",
    "ent_to_idx = {entities[ix] : ix for ix in range(len(entities))}\n",
    "embeddings = np.zeros((len(entities),len(neigh_types)))\n",
    "\n",
    "for ent, neigh_type, count in zip(types_df['entity'], types_df['neighbor_type'], types_df['count']):\n",
    "    embeddings[ent_to_idx[ent], type_to_idx[neigh_type]] = count\n",
    "\n",
    "# normalize each dimension\n",
    "embeddings -= np.min(embeddings,0)\n",
    "embeddings /= [m if m != 0 else 1 for m in np.max(embeddings,0)]"
   ]
  },
  {
   "cell_type": "markdown",
   "metadata": {},
   "source": [
    "#### 3.2 Find the neighbors for each entity that are similar enough to hop to during a random walk."
   ]
  },
  {
   "cell_type": "code",
   "execution_count": 41,
   "metadata": {},
   "outputs": [
    {
     "ename": "KeyboardInterrupt",
     "evalue": "",
     "output_type": "error",
     "traceback": [
      "\u001b[0;31m---------------------------------------------------------------------------\u001b[0m",
      "\u001b[0;31mKeyboardInterrupt\u001b[0m                         Traceback (most recent call last)",
      "\u001b[0;32m<ipython-input-41-0902fd118cd2>\u001b[0m in \u001b[0;36m<module>\u001b[0;34m\u001b[0m\n\u001b[1;32m      1\u001b[0m \u001b[0;31m# TODO make k a notebook parameter\u001b[0m\u001b[0;34m\u001b[0m\u001b[0;34m\u001b[0m\u001b[0;34m\u001b[0m\u001b[0m\n\u001b[0;32m----> 2\u001b[0;31m \u001b[0mentity_to_neighs\u001b[0m \u001b[0;34m=\u001b[0m \u001b[0mget_k_neighs\u001b[0m\u001b[0;34m(\u001b[0m\u001b[0mentities\u001b[0m\u001b[0;34m,\u001b[0m \u001b[0membeddings\u001b[0m\u001b[0;34m,\u001b[0m \u001b[0mk\u001b[0m\u001b[0;34m)\u001b[0m\u001b[0;34m\u001b[0m\u001b[0;34m\u001b[0m\u001b[0m\n\u001b[0m\u001b[1;32m      3\u001b[0m \u001b[0;31m#display(entity_to_neighs)\u001b[0m\u001b[0;34m\u001b[0m\u001b[0;34m\u001b[0m\u001b[0;34m\u001b[0m\u001b[0m\n",
      "\u001b[0;32m<ipython-input-25-4b5e0bad3838>\u001b[0m in \u001b[0;36mget_k_neighs\u001b[0;34m(entities, embeddings, k)\u001b[0m\n\u001b[1;32m     15\u001b[0m \u001b[0;34m\u001b[0m\u001b[0m\n\u001b[1;32m     16\u001b[0m     \u001b[0;32mfor\u001b[0m \u001b[0mi\u001b[0m \u001b[0;32min\u001b[0m \u001b[0mrange\u001b[0m\u001b[0;34m(\u001b[0m\u001b[0mlen\u001b[0m\u001b[0;34m(\u001b[0m\u001b[0mentities\u001b[0m\u001b[0;34m)\u001b[0m\u001b[0;34m)\u001b[0m\u001b[0;34m:\u001b[0m\u001b[0;34m\u001b[0m\u001b[0;34m\u001b[0m\u001b[0m\n\u001b[0;32m---> 17\u001b[0;31m         \u001b[0mmax_diffs\u001b[0m \u001b[0;34m=\u001b[0m \u001b[0mnp\u001b[0m\u001b[0;34m.\u001b[0m\u001b[0mmax\u001b[0m\u001b[0;34m(\u001b[0m\u001b[0mnp\u001b[0m\u001b[0;34m.\u001b[0m\u001b[0mabs\u001b[0m\u001b[0;34m(\u001b[0m\u001b[0membeddings\u001b[0m \u001b[0;34m-\u001b[0m \u001b[0membeddings\u001b[0m\u001b[0;34m[\u001b[0m\u001b[0mi\u001b[0m\u001b[0;34m]\u001b[0m\u001b[0;34m)\u001b[0m\u001b[0;34m,\u001b[0m \u001b[0;36m1\u001b[0m\u001b[0;34m)\u001b[0m\u001b[0;34m\u001b[0m\u001b[0;34m\u001b[0m\u001b[0m\n\u001b[0m\u001b[1;32m     18\u001b[0m         \u001b[0mmax_diffs\u001b[0m\u001b[0;34m[\u001b[0m\u001b[0mi\u001b[0m\u001b[0;34m]\u001b[0m \u001b[0;34m=\u001b[0m \u001b[0mnp\u001b[0m\u001b[0;34m.\u001b[0m\u001b[0minf\u001b[0m \u001b[0;31m# avoid including entity in its own list of neighbors\u001b[0m\u001b[0;34m\u001b[0m\u001b[0;34m\u001b[0m\u001b[0m\n\u001b[1;32m     19\u001b[0m         \u001b[0mentity_to_neighs\u001b[0m\u001b[0;34m[\u001b[0m\u001b[0mentities\u001b[0m\u001b[0;34m[\u001b[0m\u001b[0mi\u001b[0m\u001b[0;34m]\u001b[0m\u001b[0;34m]\u001b[0m \u001b[0;34m=\u001b[0m \u001b[0mentities\u001b[0m\u001b[0;34m[\u001b[0m\u001b[0mnp\u001b[0m\u001b[0;34m.\u001b[0m\u001b[0margpartition\u001b[0m\u001b[0;34m(\u001b[0m\u001b[0mmax_diffs\u001b[0m\u001b[0;34m,\u001b[0m \u001b[0mk\u001b[0m \u001b[0;34m-\u001b[0m \u001b[0;36m1\u001b[0m\u001b[0;34m)\u001b[0m\u001b[0;34m[\u001b[0m\u001b[0;34m:\u001b[0m\u001b[0mk\u001b[0m\u001b[0;34m]\u001b[0m\u001b[0;34m]\u001b[0m\u001b[0;34m\u001b[0m\u001b[0;34m\u001b[0m\u001b[0m\n",
      "\u001b[0;32m<__array_function__ internals>\u001b[0m in \u001b[0;36mamax\u001b[0;34m(*args, **kwargs)\u001b[0m\n",
      "\u001b[0;32m~/anaconda3/envs/kgtk-env/lib/python3.8/site-packages/numpy/core/fromnumeric.py\u001b[0m in \u001b[0;36mamax\u001b[0;34m(a, axis, out, keepdims, initial, where)\u001b[0m\n\u001b[1;32m   2703\u001b[0m     \u001b[0;36m5\u001b[0m\u001b[0;34m\u001b[0m\u001b[0;34m\u001b[0m\u001b[0m\n\u001b[1;32m   2704\u001b[0m     \"\"\"\n\u001b[0;32m-> 2705\u001b[0;31m     return _wrapreduction(a, np.maximum, 'max', axis, None, out,\n\u001b[0m\u001b[1;32m   2706\u001b[0m                           keepdims=keepdims, initial=initial, where=where)\n\u001b[1;32m   2707\u001b[0m \u001b[0;34m\u001b[0m\u001b[0m\n",
      "\u001b[0;32m~/anaconda3/envs/kgtk-env/lib/python3.8/site-packages/numpy/core/fromnumeric.py\u001b[0m in \u001b[0;36m_wrapreduction\u001b[0;34m(obj, ufunc, method, axis, dtype, out, **kwargs)\u001b[0m\n\u001b[1;32m     85\u001b[0m                 \u001b[0;32mreturn\u001b[0m \u001b[0mreduction\u001b[0m\u001b[0;34m(\u001b[0m\u001b[0maxis\u001b[0m\u001b[0;34m=\u001b[0m\u001b[0maxis\u001b[0m\u001b[0;34m,\u001b[0m \u001b[0mout\u001b[0m\u001b[0;34m=\u001b[0m\u001b[0mout\u001b[0m\u001b[0;34m,\u001b[0m \u001b[0;34m**\u001b[0m\u001b[0mpasskwargs\u001b[0m\u001b[0;34m)\u001b[0m\u001b[0;34m\u001b[0m\u001b[0;34m\u001b[0m\u001b[0m\n\u001b[1;32m     86\u001b[0m \u001b[0;34m\u001b[0m\u001b[0m\n\u001b[0;32m---> 87\u001b[0;31m     \u001b[0;32mreturn\u001b[0m \u001b[0mufunc\u001b[0m\u001b[0;34m.\u001b[0m\u001b[0mreduce\u001b[0m\u001b[0;34m(\u001b[0m\u001b[0mobj\u001b[0m\u001b[0;34m,\u001b[0m \u001b[0maxis\u001b[0m\u001b[0;34m,\u001b[0m \u001b[0mdtype\u001b[0m\u001b[0;34m,\u001b[0m \u001b[0mout\u001b[0m\u001b[0;34m,\u001b[0m \u001b[0;34m**\u001b[0m\u001b[0mpasskwargs\u001b[0m\u001b[0;34m)\u001b[0m\u001b[0;34m\u001b[0m\u001b[0;34m\u001b[0m\u001b[0m\n\u001b[0m\u001b[1;32m     88\u001b[0m \u001b[0;34m\u001b[0m\u001b[0m\n\u001b[1;32m     89\u001b[0m \u001b[0;34m\u001b[0m\u001b[0m\n",
      "\u001b[0;31mKeyboardInterrupt\u001b[0m: "
     ]
    }
   ],
   "source": [
    "# TODO make k a notebook parameter\n",
    "entity_to_neighs = get_k_neighs(entities, embeddings, k)\n",
    "#display(entity_to_neighs)"
   ]
  },
  {
   "cell_type": "markdown",
   "metadata": {},
   "source": [
    "#### 3.3 Perform the random walks and add to the set that will be used to learn the HAS embeddings"
   ]
  },
  {
   "cell_type": "code",
   "execution_count": null,
   "metadata": {},
   "outputs": [],
   "source": [
    "if os.path.isfile(s_walks_file):\n",
    "    print(\"Specified S_walks_file already exists. Using this existing file for S-feature walks instead of computing new walks.\")\n",
    "elif num_S_walks > 0:\n",
    "    S_walks = perform_walks(entity_to_neighs, walk_length, num_S_walks)\n",
    "    with open(walks_file, \"a\") as f:\n",
    "        np.savetxt(f, S_walks, fmt=\"%s\")  "
   ]
  },
  {
   "cell_type": "markdown",
   "metadata": {},
   "source": [
    "S-walks file size"
   ]
  },
  {
   "cell_type": "code",
   "execution_count": null,
   "metadata": {},
   "outputs": [],
   "source": [
    "!ls -lh {s_walks_file}"
   ]
  },
  {
   "cell_type": "markdown",
   "metadata": {},
   "source": [
    "Number of walks in this file:"
   ]
  },
  {
   "cell_type": "code",
   "execution_count": null,
   "metadata": {},
   "outputs": [],
   "source": [
    "!wc -l {s_walks_file}"
   ]
  },
  {
   "cell_type": "markdown",
   "metadata": {},
   "source": [
    "Append S-feature walks to combined walks file if we have any S-feature walks (we might not if num_S_walks parameter = 0)"
   ]
  },
  {
   "cell_type": "code",
   "execution_count": null,
   "metadata": {
    "scrolled": true
   },
   "outputs": [],
   "source": [
    "!if test -f {s_walks_file}; then cat {s_walks_file} >> {walks_file}; fi"
   ]
  },
  {
   "cell_type": "markdown",
   "metadata": {},
   "source": [
    "### 4. Use Skip-Gram model on the combined set of random walks to learn representations for the entities\n",
    "Code is currently using the walks created by the undirected graph representation"
   ]
  },
  {
   "cell_type": "code",
   "execution_count": 49,
   "metadata": {},
   "outputs": [
    {
     "name": "stdout",
     "output_type": "stream",
     "text": [
      "CPU times: user 8h 20min 7s, sys: 2min 3s, total: 8h 22min 10s\n",
      "Wall time: 21min 14s\n"
     ]
    }
   ],
   "source": [
    "%%time\n",
    "model = Word2Vec(corpus_file=walks_file, size=representation_size, window=window_size, min_count=0, sg=1, hs=1,\n",
    "                 workers=workers)\n",
    "model.wv.save(\"{}/entity_embeddings.kv\".format(output_dir))"
   ]
  },
  {
   "cell_type": "markdown",
   "metadata": {},
   "source": [
    "### Evaluate the embeddings\n",
    "We want similar entities to have more similar embeddings. For the purpose of profiling entities of a desired type, we are specifically interested in similar entities *within a type* having more similar embeddings. I.e. if we look at the embeddings of the various movies we have, do the ones with more similar embeddings have more in common? We'll investigate using cosine similarity."
   ]
  },
  {
   "cell_type": "code",
   "execution_count": 59,
   "metadata": {},
   "outputs": [
    {
     "name": "stdout",
     "output_type": "stream",
     "text": [
      "Pulp Fiction and Django Unchained: 0.80\n",
      "Pulp Fiction and Star Wars:Episode IV: 0.47\n",
      "Star Wars Episode V and Star Wars Episode IV: 0.90\n",
      "Star Wars Episode V and Star Wars Clone Wars (show): 0.76\n",
      "Star Wars Episode V and Star Wars VII: 0.79\n"
     ]
    }
   ],
   "source": [
    "print(\"Pulp Fiction and Django Unchained: {:.2f}\".format(model.wv.similarity('Q104123','Q571032')))\n",
    "print(\"Pulp Fiction and Star Wars:Episode IV: {:.2f}\".format(model.wv.similarity('Q104123','Q17738')))\n",
    "print(\"Star Wars Episode V and Star Wars Episode IV: {:.2f}\".format(model.wv.similarity('Q181795','Q17738')))\n",
    "print(\"Star Wars Episode V and Star Wars Clone Wars (show): {:.2f}\".format(model.wv.similarity('Q181795','Q632672')))\n",
    "print(\"Star Wars Episode V and Star Wars VII: {:.2f}\".format(model.wv.similarity('Q181795','Q6074')))"
   ]
  },
  {
   "cell_type": "markdown",
   "metadata": {},
   "source": [
    "Let's look at the similarity of a handful of entities in a heat map"
   ]
  },
  {
   "cell_type": "code",
   "execution_count": 61,
   "metadata": {},
   "outputs": [
    {
     "data": {
      "image/png": "[encoded data removed]",
      "text/plain": [
       "<Figure size 648x504 with 2 Axes>"
      ]
     },
     "metadata": {
      "needs_background": "light"
     },
     "output_type": "display_data"
    }
   ],
   "source": [
    "ent_vecs = model.wv['Q165713', 'Q181069', 'Q42051', 'Q17738', 'Q181795', 'Q181803', 'Q6074', 'Q56876444', \"Q632672\"]\n",
    "similarity_mat = [model.wv.cosine_similarities(ent, ent_vecs) for ent in ent_vecs]\n",
    "mask = np.zeros_like(similarity_mat)\n",
    "mask[np.triu_indices_from(mask)] = True\n",
    "labels = ['Star Wars Ep. I', 'Star Wars Ep. II', 'Star Wars Ep. III', 'Star Wars Ep. IV', 'Star Wars Ep. V', 'Star Wars Ep. VI', 'Star Wars Ep. VII', 'The Mandalorian (show)', \"Star Wars Clone Wars (show)\"]\n",
    "# Could mask to only show the lower triangle, but I think this is actually easier to read without the mask\n",
    "fig, ax = plt.subplots(figsize=(9,7))\n",
    "sns.set(font_scale=1.5)\n",
    "sns.heatmap(similarity_mat, ax=ax, xticklabels=labels, yticklabels=labels, annot=True)\n",
    "plt.xticks(rotation=30, horizontalalignment='right')\n",
    "plt.title(\"Cosine similarity of entity embeddings\")\n",
    "plt.show()"
   ]
  },
  {
   "cell_type": "code",
   "execution_count": null,
   "metadata": {},
   "outputs": [],
   "source": []
  }
 ],
 "metadata": {
  "kernelspec": {
   "display_name": "Python 3",
   "language": "python",
   "name": "python3"
  },
  "language_info": {
   "codemirror_mode": {
    "name": "ipython",
    "version": 3
   },
   "file_extension": ".py",
   "mimetype": "text/x-python",
   "name": "python",
   "nbconvert_exporter": "python",
   "pygments_lexer": "ipython3",
   "version": "3.8.5"
  }
 },
 "nbformat": 4,
 "nbformat_minor": 4
}
