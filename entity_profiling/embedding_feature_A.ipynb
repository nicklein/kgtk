{
 "cells": [
  {
   "cell_type": "markdown",
   "metadata": {},
   "source": [
    "# A-Feature Analysis\n",
    "This is an optional notebook where we will go through the steps of creating random walks using the A-path method. These can be used as a feature when learning HAS-embeddings in the HAS_entity_embeddings notebook. We will consider different implementation decisions and look at the results of using this feature for learning embeddings.\n",
    "\n",
    "*What is this feature?* --> These random walks are intended to detect attributive similarity. I.e. entities with similar attribute values are similar."
   ]
  },
  {
   "cell_type": "markdown",
   "metadata": {},
   "source": [
    "## Pre-requisite steps to run this notebook\n",
    "1. You need to run the 1_candidate_label_creation notebook before this notebook.\n",
    "2. gensim is a dependency. You can install it with `pip install --upgrade gensim`, or if you want to use Anaconda, `conda install -c conda-forge gensim`"
   ]
  },
  {
   "cell_type": "code",
   "execution_count": 27,
   "metadata": {},
   "outputs": [],
   "source": [
    "import os\n",
    "import math\n",
    "import random\n",
    "import numpy as np\n",
    "import pandas as pd\n",
    "from gensim.models import Word2Vec\n",
    "import matplotlib.pyplot as plt\n",
    "import seaborn as sns\n",
    "from tqdm import tqdm\n",
    "import json\n",
    "from sklearn.preprocessing import MinMaxScaler\n",
    "from collections import defaultdict"
   ]
  },
  {
   "cell_type": "markdown",
   "metadata": {},
   "source": [
    "## parameters\n",
    "\n",
    "**Embedding model parameters**   \n",
    "*type_to_profile*: Q-node denoting the type of entities you want to create embeddings for (potentially do this for all types in the dataset and get rid of this parameter)\n",
    "*num_walks*: Number of random walks to start at each node with the A-feature walk method   \n",
    "*walk_length*: Length of random walk started at each node  \n",
    "*representation_size*: Number of latent dimensions to learn from each node  \n",
    "*window_size*: Window size of skipgram model  \n",
    "*workers*: Number of parallel processes  \n",
    "\n",
    "**File/Directory parameters**  \n",
    "*label_file*: File path for the file that contains wikidata labels.  \n",
    "*work_dir*: same work_dir that you specified in the label creation notebook. We'll look for files created by that notebook here. Files created by this notebook will also be saved here.  \n",
    "*store_dir*: Path to folder containing the sqlite3.db file that we will use for our queries. We will reuse an existing file if there is one in this folder. Otherwise we will create a new one."
   ]
  },
  {
   "cell_type": "code",
   "execution_count": 3,
   "metadata": {
    "tags": [
     "parameters"
    ]
   },
   "outputs": [],
   "source": [
    "# Embedding model params\n",
    "type_to_profile = \"Q5\"\n",
    "num_walks = 10\n",
    "walk_length = 10\n",
    "representation_size = 64\n",
    "window_size = 5\n",
    "workers = 32\n",
    "\n",
    "# File/Directory params\n",
    "data_dir = \"./data/wikidata_humans\"\n",
    "label_file = \"{}/labels.en.tsv.gz\".format(data_dir)\n",
    "work_dir = \"./output/wikidata_humans_v3\"\n",
    "store_dir = \"./output/wikidata_humans_v3/temp\""
   ]
  },
  {
   "cell_type": "markdown",
   "metadata": {},
   "source": [
    "### Process parameters and set up variables / file names"
   ]
  },
  {
   "cell_type": "code",
   "execution_count": 4,
   "metadata": {},
   "outputs": [],
   "source": [
    "# Ensure paths are absolute\n",
    "label_file = os.path.abspath(label_file)\n",
    "work_dir = os.path.abspath(work_dir)\n",
    "store_dir = os.path.abspath(store_dir)\n",
    "    \n",
    "# Create directories\n",
    "if not os.path.exists(work_dir):\n",
    "    os.makedirs(work_dir)\n",
    "output_dir = \"{}/A_walks_analysis_4\".format(work_dir)\n",
    "if not os.path.exists(output_dir):\n",
    "    os.makedirs(output_dir)\n",
    "if not os.path.exists(store_dir):\n",
    "    os.makedirs(store_dir)\n",
    "    \n",
    "walks_file = \"{}/a_walks.txt\".format(output_dir)\n",
    "\n",
    "# Setting up environment variables \n",
    "os.environ[\"TYPE\"] = type_to_profile\n",
    "os.environ['LABEL_FILE'] = label_file\n",
    "os.environ['STORE'] = \"{}/wikidata.sqlite3.db\".format(store_dir)\n",
    "os.environ['LABEL_CREATION'] = \"{}/label_creation\".format(work_dir)\n",
    "os.environ['OUT'] = output_dir\n",
    "os.environ['kgtk'] = \"kgtk\" # Need to do this for kgtk to be recognized as a command when passing it through a subprocess call"
   ]
  },
  {
   "cell_type": "markdown",
   "metadata": {},
   "source": [
    "### 1. Create mapping of {entity : other entities that can be hopped to}"
   ]
  },
  {
   "cell_type": "code",
   "execution_count": 12,
   "metadata": {},
   "outputs": [],
   "source": [
    "# given values that all correspond to the same label kind,\n",
    "# return corresponding intervals based on percentile\n",
    "def get_bin_nums_for_values_based_on_percentile(values, num_bins):\n",
    "    values = np.array(values)\n",
    "    indexes = np.arange(len(values))\n",
    "    \n",
    "    # sort values and corresponding labels in ascending order\n",
    "    indexes = np.array([i for i, v in sorted(zip(indexes, values), key=lambda pair: pair[1])])\n",
    "    values.sort()\n",
    "    \n",
    "    interval_bounds = []\n",
    "    for i in range(num_bins):\n",
    "        index_of_ubound = math.ceil(((i+1)/num_bins)*len(values)) - 1\n",
    "        ubound = values[index_of_ubound]\n",
    "        if len(interval_bounds)==0 or ubound != interval_bounds[-1]:\n",
    "            interval_bounds.append(ubound)\n",
    "    bin_nums_for_values=[]\n",
    "    cur_bin_num=0\n",
    "    for i in range(len(values)):\n",
    "        while values[i] > interval_bounds[cur_bin_num]:\n",
    "            cur_bin_num += 1\n",
    "        bin_nums_for_values.append(cur_bin_num)\n",
    "    \n",
    "    # rearrange bin nums to original order of values\n",
    "    bin_nums_for_values_unscrambled = np.zeros(len(bin_nums_for_values), dtype=int)\n",
    "    for i in range(len(indexes)):\n",
    "        bin_nums_for_values_unscrambled[indexes[i]] = bin_nums_for_values[i]\n",
    "        \n",
    "    return bin_nums_for_values_unscrambled\n",
    "    \n",
    "    \n",
    "# Given a file containing numeric valued attribute labels,\n",
    "# create a [[{entities in bin} for bin in however many bins we are making] for attribute in file]\n",
    "def get_buckets_for_attributes_by_percentile(df, num_bins):\n",
    "        \n",
    "    if \"bin_num\" not in df.columns:\n",
    "        df.insert(loc = len(df.columns), column = \"bin_num\", value = [\"\" for i in range(df.shape[0])])\n",
    "\n",
    "    # get distinct label types (defined by type and property, as well as si and wd units if we have them)\n",
    "    if \"si_units\" in df.columns and \"wd_units\" in df.columns:\n",
    "        distinct_labels = df.loc[:, [\"node1\", \"label\", \"property_label\", \"si_units\", \"wd_units\"]].drop_duplicates()\n",
    "    else:\n",
    "        distinct_labels = df.loc[:, [\"node1\", \"label\", \"property_label\"]].drop_duplicates()\n",
    "    \n",
    "    attribute_bins = {}\n",
    "    # Could probably be improved with a list comprehension\n",
    "    for index, row in distinct_labels.iterrows():\n",
    "        # Get subset of labels that match this distinct kind of label\n",
    "        subset_mask = (df[\"node1\"] == row[\"node1\"]) & (df[\"label\"] == row[\"label\"])\n",
    "        # if we have units, treat these as part of the kind of label\n",
    "        if \"si_units\" in df.columns and \"wd_units\" in df.columns:\n",
    "            subset_mask = subset_mask & (df[\"si_units\"] == row[\"si_units\"]) & (df[\"wd_units\"] == row[\"wd_units\"])\n",
    "        subset = df.loc[subset_mask]\n",
    "        \n",
    "        # Shouldn't happen, just checking.\n",
    "        values = subset.loc[:,\"node2\"]\n",
    "        if(len(values) == 0):\n",
    "            print(\"no values found for subset:\\n{}\\n\".format(subset))\n",
    "            print(\"row:\\n{}\\n\".format(row))\n",
    "        \n",
    "        bins_for_values = get_bin_nums_for_values_based_on_percentile(values, num_bins)\n",
    "        \n",
    "        df.loc[subset_mask,\"bin_num\"] = bins_for_values\n",
    "        bins_to_ents = df.loc[subset_mask].groupby(by=[\"bin_num\"])[\"entity\"].apply(list).to_dict()\n",
    "        attr_name = row[\"property_label\"]\n",
    "        if \"si_units\" in df.columns and \"wd_units\" in df.columns:\n",
    "            if row[\"si_units\"]:\n",
    "                attr_name = \"{}_{}\".format(attr_name, row[\"si_units\"])\n",
    "            elif row[\"wd_units\"]:\n",
    "                attr_name = \"{}_{}\".format(attr_name, row[\"wd_units\"])\n",
    "        attribute_bins[attr_name] = [bins_to_ents[i] for i in range(len(bins_to_ents.keys()))]\n",
    "\n",
    "    return attribute_bins"
   ]
  },
  {
   "cell_type": "code",
   "execution_count": 13,
   "metadata": {},
   "outputs": [
    {
     "name": "stderr",
     "output_type": "stream",
     "text": [
      "/nas/home/nmklein/anaconda3/lib/python3.8/site-packages/IPython/core/interactiveshell.py:3146: DtypeWarning: Columns (8) have mixed types.Specify dtype option on import or set low_memory=False.\n",
      "  has_raised = await self.run_ast_nodes(code_ast.body, cell_name,\n"
     ]
    }
   ],
   "source": [
    "avl_file = \"{}/label_creation/entity_AVLs_all.tsv\".format(work_dir)\n",
    "df = pd.read_csv(avl_file, delimiter='\\t')\n",
    "\n",
    "#remove this when making this work for all types in graph\n",
    "df = df.loc[df.loc[:,\"node1\"]==\"Q5\",:]\n",
    "\n",
    "# blank values in units columns are expected as not all values will have units.\n",
    "# we want blank units to compare equal to eachother, so fill NaN's in as \"\" in units columns.\n",
    "if \"si_units\" in df.columns and \"wd_units\" in df.columns:\n",
    "    df.fillna(\"\", inplace = True)\n",
    "\n",
    "# we also don't want to consider any string type values\n",
    "types = [type(v) for v in df.loc[:,\"node2\"]]\n",
    "non_str_mask = [True if (t != str) else False for t in types]\n",
    "df = df.loc[non_str_mask]\n",
    "    \n",
    "attribute_bins = get_buckets_for_attributes_by_percentile(df, num_bins=100)"
   ]
  },
  {
   "cell_type": "code",
   "execution_count": 14,
   "metadata": {},
   "outputs": [],
   "source": [
    "with open(\"{}/attribute_bins.json\".format(output_dir), 'w') as f:\n",
    "    json.dump(attribute_bins, f)"
   ]
  },
  {
   "cell_type": "code",
   "execution_count": 5,
   "metadata": {},
   "outputs": [],
   "source": [
    "with open(\"{}/attribute_bins.json\".format(output_dir), 'r') as f:\n",
    "    attribute_bins = json.load(f)"
   ]
  },
  {
   "cell_type": "markdown",
   "metadata": {},
   "source": [
    "with open(\"{}/attribute_bins.json\".format(output_dir), 'r') as f:\n",
    "    attribute_bins = json.load(f)"
   ]
  },
  {
   "cell_type": "code",
   "execution_count": 17,
   "metadata": {},
   "outputs": [
    {
     "data": {
      "text/plain": [
       "170"
      ]
     },
     "execution_count": 17,
     "metadata": {},
     "output_type": "execute_result"
    }
   ],
   "source": [
    "len(attribute_bins)"
   ]
  },
  {
   "cell_type": "markdown",
   "metadata": {},
   "source": [
    "Create attribute combination bins"
   ]
  },
  {
   "cell_type": "code",
   "execution_count": 6,
   "metadata": {},
   "outputs": [
    {
     "name": "stdout",
     "output_type": "stream",
     "text": [
      "CPU times: user 41.6 s, sys: 1.67 s, total: 43.3 s\n",
      "Wall time: 43.3 s\n"
     ]
    }
   ],
   "source": [
    "%%time\n",
    "ent_to_comb_bins = dict()\n",
    "for attr_idx in attribute_bins.keys():\n",
    "    bins = attribute_bins[attr_idx]\n",
    "    for bin_idx in range(len(bins)):\n",
    "        for ent in attribute_bins[attr_idx][bin_idx]:\n",
    "            if ent not in ent_to_comb_bins:\n",
    "                ent_to_comb_bins[ent] = dict()\n",
    "            ent_to_comb_bins[ent][attr_idx] = bin_idx\n",
    "            \n",
    "ent_to_comb_str = {ent : json.dumps(attr_bin_dict, sort_keys=True) for ent, attr_bin_dict in ent_to_comb_bins.items()}\n",
    "\n",
    "comb_bins_to_ents = dict()      \n",
    "for ent, attr_bin_dict in ent_to_comb_bins.items():\n",
    "    comb_str = json.dumps(attr_bin_dict, sort_keys=True)\n",
    "    if comb_str not in comb_bins_to_ents:\n",
    "        comb_bins_to_ents[comb_str] = []\n",
    "    comb_bins_to_ents[comb_str].append(ent)\n",
    "    \n",
    "comb_bin_neighbors = {}\n",
    "for comb_str in tqdm(comb_bins_to_ents.keys()):\n",
    "    comb_bin_neighbors[comb_str] = []\n",
    "    comb_bin = json.loads(comb_str)\n",
    "    # neighboring bins\n",
    "    for attr_idx in comb_bin.keys():\n",
    "        comb_bin[attr_idx] += 1\n",
    "        neighbor_str = json.dumps(comb_bin, sort_keys=True)\n",
    "        if neighbor_str in comb_bins_to_ents.keys():\n",
    "            comb_bin_neighbors[comb_str].append(neighbor_str)\n",
    "        comb_bin[attr_idx] -= 2\n",
    "        neighbor_str = json.dumps(comb_bin, sort_keys=True)\n",
    "        if neighbor_str in comb_bins_to_ents.keys():\n",
    "            comb_bin_neighbors[comb_str].append(neighbor_str)\n",
    "        comb_bin[attr_idx] += 1\n",
    "    # combinations that have additional attributes\n",
    "    neighbor_comb_strs = list(comb_bins_to_ents.keys())\n",
    "    neighbor_comb_strs.remove(comb_str)\n",
    "    for attr_bin_str in comb_str[1:-1].split(\", \"):\n",
    "        neighbor_comb_strs = [d for d in neighbor_comb_strs if attr_bin_str in d]\n",
    "        if len(neighbor_comb_strs) == 0:\n",
    "            break\n",
    "    \n",
    "    comb_bin_neighbors[comb_str].extend(neighbor_comb_strs)"
   ]
  },
  {
   "cell_type": "code",
   "execution_count": 22,
   "metadata": {},
   "outputs": [
    {
     "data": {
      "application/vnd.jupyter.widget-view+json": {
       "model_id": "34cc0e980ca74345824ef0db3546fa73",
       "version_major": 2,
       "version_minor": 0
      },
      "text/plain": [
       "HBox(children=(HTML(value=''), FloatProgress(value=0.0, max=154934.0), HTML(value='')))"
      ]
     },
     "metadata": {},
     "output_type": "display_data"
    },
    {
     "name": "stdout",
     "output_type": "stream",
     "text": [
      "\n"
     ]
    }
   ],
   "source": [
    "comb_bin_neighbors = {}\n",
    "for comb_str in tqdm(comb_bins_to_ents.keys()):\n",
    "    comb_bin_neighbors[comb_str] = []\n",
    "    comb_bin = json.loads(comb_str)\n",
    "    # neighboring bins\n",
    "    for attr_idx in comb_bin.keys():\n",
    "        comb_bin[attr_idx] += 1\n",
    "        neighbor_str = json.dumps(comb_bin, sort_keys=True)\n",
    "        if neighbor_str in comb_bins_to_ents.keys():\n",
    "            comb_bin_neighbors[comb_str].append(neighbor_str)\n",
    "        comb_bin[attr_idx] -= 2\n",
    "        neighbor_str = json.dumps(comb_bin, sort_keys=True)\n",
    "        if neighbor_str in comb_bins_to_ents.keys():\n",
    "            comb_bin_neighbors[comb_str].append(neighbor_str)\n",
    "        comb_bin[attr_idx] += 1\n",
    "    # combinations that have additional attributes\n",
    "    neighbor_comb_strs = list(comb_bins_to_ents.keys())\n",
    "    neighbor_comb_strs.remove(comb_str)\n",
    "    for attr_bin_str in comb_str[1:-1].split(\", \"):\n",
    "        neighbor_comb_strs = [d for d in neighbor_comb_strs if attr_bin_str in d]\n",
    "        if len(neighbor_comb_strs) == 0:\n",
    "            break\n",
    "    \n",
    "    comb_bin_neighbors[comb_str].extend(neighbor_comb_strs)"
   ]
  },
  {
   "cell_type": "code",
   "execution_count": 25,
   "metadata": {},
   "outputs": [],
   "source": [
    "with open(\"{}/comb_bin_neighbors.json\".format(output_dir), 'w') as f:\n",
    "    json.dump(comb_bin_neighbors, f)"
   ]
  },
  {
   "cell_type": "code",
   "execution_count": 7,
   "metadata": {},
   "outputs": [],
   "source": [
    "with open(\"{}/comb_bin_neighbors.json\".format(output_dir), 'r') as f:\n",
    "    comb_bin_neighbors = json.load(f)"
   ]
  },
  {
   "cell_type": "code",
   "execution_count": 17,
   "metadata": {},
   "outputs": [
    {
     "data": {
      "text/plain": [
       "'{\"\\'date of birth\\'@en\": 0, \"\\'date of death\\'@en\": 1}'"
      ]
     },
     "execution_count": 17,
     "metadata": {},
     "output_type": "execute_result"
    }
   ],
   "source": [
    "list(comb_bins_to_ents.keys())[0]"
   ]
  },
  {
   "cell_type": "code",
   "execution_count": 24,
   "metadata": {},
   "outputs": [
    {
     "data": {
      "text/plain": [
       "['{\"\\'date of birth\\'@en\": 1, \"\\'date of death\\'@en\": 1}',\n",
       " '{\"\\'date of birth\\'@en\": 0, \"\\'date of death\\'@en\": 2}',\n",
       " '{\"\\'date of birth\\'@en\": 0, \"\\'date of death\\'@en\": 0}',\n",
       " '{\"\\'date of birth\\'@en\": 0, \"\\'date of death\\'@en\": 1, \"\\'floruit\\'@en\": 14}',\n",
       " '{\"\\'date of birth\\'@en\": 0, \"\\'date of death\\'@en\": 1, \"\\'work period (start)\\'@en\": 0}',\n",
       " '{\"\\'date of birth\\'@en\": 0, \"\\'date of death\\'@en\": 1, \"\\'number of children\\'@en\": 5}',\n",
       " '{\"\\'date of birth\\'@en\": 0, \"\\'date of death\\'@en\": 12}',\n",
       " '{\"\\'date of birth\\'@en\": 0, \"\\'date of death\\'@en\": 1, \"\\'number of children\\'@en\": 7}',\n",
       " '{\"\\'date of birth\\'@en\": 0, \"\\'date of death\\'@en\": 1, \"\\'floruit\\'@en\": 13}',\n",
       " '{\"\\'date of birth\\'@en\": 0, \"\\'date of death\\'@en\": 1, \"\\'work period (end)\\'@en\": 0, \"\\'work period (start)\\'@en\": 0}',\n",
       " '{\"\\'date of birth\\'@en\": 0, \"\\'date of death\\'@en\": 1, \"\\'number of children\\'@en\": 0}',\n",
       " '{\"\\'date of birth\\'@en\": 0, \"\\'date of death\\'@en\": 1, \"\\'floruit\\'@en\": 15, \"\\'work period (end)\\'@en\": 1, \"\\'work period (start)\\'@en\": 0}',\n",
       " '{\"\\'date of baptism in early childhood\\'@en\": 0, \"\\'date of birth\\'@en\": 0, \"\\'date of death\\'@en\": 1}',\n",
       " '{\"\\'date of birth\\'@en\": 0, \"\\'date of death\\'@en\": 1, \"\\'floruit\\'@en\": 4}',\n",
       " '{\"\\'date of birth\\'@en\": 0, \"\\'date of death\\'@en\": 11}',\n",
       " '{\"\\'date of birth\\'@en\": 0, \"\\'date of death\\'@en\": 1, \"\\'floruit\\'@en\": 15}',\n",
       " '{\"\\'date of birth\\'@en\": 0, \"\\'date of death\\'@en\": 1, \"\\'floruit\\'@en\": 12}',\n",
       " '{\"\\'date of birth\\'@en\": 0, \"\\'date of death\\'@en\": 1, \"\\'number of children\\'@en\": 2}',\n",
       " '{\"\\'date of birth\\'@en\": 0, \"\\'date of death\\'@en\": 1, \"\\'work period (end)\\'@en\": 1, \"\\'work period (start)\\'@en\": 0}',\n",
       " '{\"\\'date of birth\\'@en\": 0, \"\\'date of death\\'@en\": 1, \"\\'number of children\\'@en\": 1}',\n",
       " '{\"\\'date of birth\\'@en\": 0, \"\\'date of death\\'@en\": 1, \"\\'work period (end)\\'@en\": 0}',\n",
       " '{\"\\'date of birth\\'@en\": 0, \"\\'date of burial or cremation\\'@en\": 0, \"\\'date of death\\'@en\": 1}',\n",
       " '{\"\\'date of birth\\'@en\": 0, \"\\'date of death\\'@en\": 1, \"\\'point in time\\'@en\": 4}',\n",
       " '{\"\\'date of birth\\'@en\": 0, \"\\'date of death\\'@en\": 1, \"\\'number of children\\'@en\": 8}',\n",
       " '{\"\\'date of birth\\'@en\": 0, \"\\'date of death\\'@en\": 1, \"\\'time of earliest written record\\'@en\": 4}',\n",
       " '{\"\\'date of birth\\'@en\": 0, \"\\'date of death\\'@en\": 1, \"\\'floruit\\'@en\": 13, \"\\'work period (end)\\'@en\": 0, \"\\'work period (start)\\'@en\": 0}',\n",
       " '{\"\\'date of birth\\'@en\": 0, \"\\'date of death\\'@en\": 1, \"\\'date of disappearance\\'@en\": 0}',\n",
       " '{\"\\'date of birth\\'@en\": 0, \"\\'date of death\\'@en\": 1, \"\\'last update\\'@en\": 0}',\n",
       " '{\"\\'date of birth\\'@en\": 0, \"\\'date of death\\'@en\": 13}',\n",
       " '{\"\\'date of birth\\'@en\": 0, \"\\'date of death\\'@en\": 1, \"\\'height\\'@en_Q174728\": 8}',\n",
       " '{\"\\'date of birth\\'@en\": 0, \"\\'date of death\\'@en\": 1, \"\\'number of victims of killer\\'@en\": 0}',\n",
       " '{\"\\'date of birth\\'@en\": 0, \"\\'date of death\\'@en\": 1, \"\\'number of children\\'@en\": 6}',\n",
       " '{\"\\'date of birth\\'@en\": 0, \"\\'date of death\\'@en\": 1, \"\\'number of children\\'@en\": 3}',\n",
       " '{\"\\'date of birth\\'@en\": 0, \"\\'date of death\\'@en\": 1, \"\\'time of earliest written record\\'@en\": 6}',\n",
       " '{\"\\'date of birth\\'@en\": 0, \"\\'date of death\\'@en\": 1, \"\\'time of earliest written record\\'@en\": 3}',\n",
       " '{\"\\'date of birth\\'@en\": 0, \"\\'date of death\\'@en\": 1, \"\\'height\\'@en_Q174728\": 11}',\n",
       " '{\"\\'date of birth\\'@en\": 0, \"\\'date of death\\'@en\": 1, \"\\'height\\'@en_Q174728\": 4}',\n",
       " '{\"\\'date of birth\\'@en\": 0, \"\\'date of death\\'@en\": 1, \"\\'floruit\\'@en\": 14, \"\\'number of children\\'@en\": 5}',\n",
       " '{\"\\'date of birth\\'@en\": 0, \"\\'date of death\\'@en\": 1, \"\\'height\\'@en_Q11573\": 27}',\n",
       " '{\"\\'date of birth\\'@en\": 0, \"\\'date of death\\'@en\": 1, \"\\'number of children\\'@en\": 4}',\n",
       " '{\"\\'date of birth\\'@en\": 0, \"\\'date of death\\'@en\": 1, \"\\'duration\\'@en_Q577\": 0}',\n",
       " '{\"\\'date of birth\\'@en\": 0, \"\\'date of death\\'@en\": 1, \"\\'floruit\\'@en\": 5}',\n",
       " '{\"\\'date of birth\\'@en\": 0, \"\\'date of death\\'@en\": 10}',\n",
       " '{\"\\'date of birth\\'@en\": 0, \"\\'date of death\\'@en\": 18}',\n",
       " '{\"\\'date of birth\\'@en\": 0, \"\\'date of death\\'@en\": 14}',\n",
       " '{\"\\'date of birth\\'@en\": 0, \"\\'date of death\\'@en\": 15}',\n",
       " '{\"\\'date of birth\\'@en\": 0, \"\\'date of death\\'@en\": 1, \"\\'end time\\'@en\": 2, \"\\'height\\'@en_Q11573\": 29, \"\\'start time\\'@en\": 1}']"
      ]
     },
     "execution_count": 24,
     "metadata": {},
     "output_type": "execute_result"
    }
   ],
   "source": [
    "comb_bin_neighbors[ent_to_comb_str[list(comb_bins_to_ents.values())[0][0]]]"
   ]
  },
  {
   "cell_type": "markdown",
   "metadata": {},
   "source": [
    "Number of distinct attribute-bin combinations:"
   ]
  },
  {
   "cell_type": "code",
   "execution_count": 12,
   "metadata": {},
   "outputs": [
    {
     "data": {
      "text/plain": [
       "154934"
      ]
     },
     "execution_count": 12,
     "metadata": {},
     "output_type": "execute_result"
    }
   ],
   "source": [
    "len(comb_bins_to_ents.keys())"
   ]
  },
  {
   "cell_type": "markdown",
   "metadata": {},
   "source": [
    "### 3. Perform the random walks"
   ]
  },
  {
   "cell_type": "code",
   "execution_count": 32,
   "metadata": {},
   "outputs": [
    {
     "data": {
      "text/plain": [
       "'{\"P2031\": 29, \"P2048_Q174728\": 14, \"P2067_Q11570\": 26, \"P2218_Q41044\": 0, \"P569\": 60}'"
      ]
     },
     "execution_count": 32,
     "metadata": {},
     "output_type": "execute_result"
    }
   ],
   "source": [
    "ent_to_comb_str[\"Q7747\"]"
   ]
  },
  {
   "cell_type": "code",
   "execution_count": 48,
   "metadata": {},
   "outputs": [],
   "source": [
    "def random_walks_to_file(ent_to_comb_str, comb_bins_to_ents, walks_file, walk_length=10, num_walks=10):\n",
    "    entities = ent_to_comb_str.keys()\n",
    "    print(\"num entities to perform walks from: {}\".format(len(entities)))\n",
    "    with open(walks_file, \"w\") as f:\n",
    "        for ent in tqdm(entities):\n",
    "            for i in range(num_walks):\n",
    "                walk = random_walk_from_node(ent_to_comb_str, comb_bins_to_ents, ent, walk_length)\n",
    "                f.write(\"{}\\n\".format(walk))\n",
    "\n",
    "\n",
    "# Returns a string of space separated Q-nodes as a walk\n",
    "def random_walk_from_node(ent_to_comb_str, comb_bins_to_ents, start_ent, walk_length):\n",
    "    walk = start_ent\n",
    "    cur_ent = start_ent\n",
    "    cur_length = 1\n",
    "    while cur_length < walk_length:\n",
    "        # get ents in same bin\n",
    "        cur_bin = ent_to_comb_str[cur_ent]\n",
    "        neighbor_bins = comb_bin_neighbors[cur_bin]\n",
    "        if len(comb_bins_to_ents[cur_bin]) == 1:\n",
    "            if len(neighbor_bins) == 0:\n",
    "                break\n",
    "            ents = comb_bins_to_ents[random.choice(neighbor_bins)]\n",
    "            next_ent = random.choice(ents)\n",
    "        else:\n",
    "            bin_choice = random.randint(0,len(neighbor_bins))\n",
    "            if bin_choice < len(neighbor_bins):\n",
    "                ents = comb_bins_to_ents[neighbor_bins[bin_choice]]\n",
    "                next_ent = random.choice(ents)\n",
    "            else:\n",
    "                ents = comb_bins_to_ents[cur_bin]\n",
    "                ent_choice = random.randint(0,len(ents)-1)\n",
    "                if ents[ent_choice] == cur_ent:\n",
    "                    ent_choice = (ent_choice + random.randint(0,len(ents)-2)) % len(ents)\n",
    "                next_ent = ents[ent_choice]\n",
    "        walk = \"{} {}\".format(walk, next_ent)\n",
    "        cur_ent = next_ent\n",
    "        cur_length += 1\n",
    "    return walk"
   ]
  },
  {
   "cell_type": "code",
   "execution_count": 49,
   "metadata": {
    "scrolled": true
   },
   "outputs": [
    {
     "name": "stderr",
     "output_type": "stream",
     "text": [
      "  0%|          | 510/4421413 [00:00<14:27, 5096.93it/s]"
     ]
    },
    {
     "name": "stdout",
     "output_type": "stream",
     "text": [
      "num entities to perform walks from: 4421413\n"
     ]
    },
    {
     "name": "stderr",
     "output_type": "stream",
     "text": [
      "  4%|▍         | 195951/4421413 [00:59<21:13, 3316.91it/s]\n"
     ]
    },
    {
     "ename": "KeyboardInterrupt",
     "evalue": "",
     "output_type": "error",
     "traceback": [
      "\u001b[0;31m---------------------------------------------------------------------------\u001b[0m",
      "\u001b[0;31mKeyboardInterrupt\u001b[0m                         Traceback (most recent call last)",
      "\u001b[0;32m<timed eval>\u001b[0m in \u001b[0;36m<module>\u001b[0;34m\u001b[0m\n",
      "\u001b[0;32m<ipython-input-48-a3f0c246951b>\u001b[0m in \u001b[0;36mrandom_walks_to_file\u001b[0;34m(ent_to_comb_str, comb_bins_to_ents, walks_file, walk_length, num_walks)\u001b[0m\n\u001b[1;32m      5\u001b[0m         \u001b[0;32mfor\u001b[0m \u001b[0ment\u001b[0m \u001b[0;32min\u001b[0m \u001b[0mtqdm\u001b[0m\u001b[0;34m(\u001b[0m\u001b[0mentities\u001b[0m\u001b[0;34m)\u001b[0m\u001b[0;34m:\u001b[0m\u001b[0;34m\u001b[0m\u001b[0;34m\u001b[0m\u001b[0m\n\u001b[1;32m      6\u001b[0m             \u001b[0;32mfor\u001b[0m \u001b[0mi\u001b[0m \u001b[0;32min\u001b[0m \u001b[0mrange\u001b[0m\u001b[0;34m(\u001b[0m\u001b[0mnum_walks\u001b[0m\u001b[0;34m)\u001b[0m\u001b[0;34m:\u001b[0m\u001b[0;34m\u001b[0m\u001b[0;34m\u001b[0m\u001b[0m\n\u001b[0;32m----> 7\u001b[0;31m                 \u001b[0mwalk\u001b[0m \u001b[0;34m=\u001b[0m \u001b[0mrandom_walk_from_node\u001b[0m\u001b[0;34m(\u001b[0m\u001b[0ment_to_comb_str\u001b[0m\u001b[0;34m,\u001b[0m \u001b[0mcomb_bins_to_ents\u001b[0m\u001b[0;34m,\u001b[0m \u001b[0ment\u001b[0m\u001b[0;34m,\u001b[0m \u001b[0mwalk_length\u001b[0m\u001b[0;34m)\u001b[0m\u001b[0;34m\u001b[0m\u001b[0;34m\u001b[0m\u001b[0m\n\u001b[0m\u001b[1;32m      8\u001b[0m                 \u001b[0mf\u001b[0m\u001b[0;34m.\u001b[0m\u001b[0mwrite\u001b[0m\u001b[0;34m(\u001b[0m\u001b[0;34m\"{}\\n\"\u001b[0m\u001b[0;34m.\u001b[0m\u001b[0mformat\u001b[0m\u001b[0;34m(\u001b[0m\u001b[0mwalk\u001b[0m\u001b[0;34m)\u001b[0m\u001b[0;34m)\u001b[0m\u001b[0;34m\u001b[0m\u001b[0;34m\u001b[0m\u001b[0m\n\u001b[1;32m      9\u001b[0m \u001b[0;34m\u001b[0m\u001b[0m\n",
      "\u001b[0;32m<ipython-input-48-a3f0c246951b>\u001b[0m in \u001b[0;36mrandom_walk_from_node\u001b[0;34m(ent_to_comb_str, comb_bins_to_ents, start_ent, walk_length)\u001b[0m\n\u001b[1;32m     18\u001b[0m         \u001b[0mcur_bin\u001b[0m \u001b[0;34m=\u001b[0m \u001b[0ment_to_comb_str\u001b[0m\u001b[0;34m[\u001b[0m\u001b[0mcur_ent\u001b[0m\u001b[0;34m]\u001b[0m\u001b[0;34m\u001b[0m\u001b[0;34m\u001b[0m\u001b[0m\n\u001b[1;32m     19\u001b[0m         \u001b[0mneighbor_bins\u001b[0m \u001b[0;34m=\u001b[0m \u001b[0mcomb_bin_neighbors\u001b[0m\u001b[0;34m[\u001b[0m\u001b[0mcur_bin\u001b[0m\u001b[0;34m]\u001b[0m\u001b[0;34m\u001b[0m\u001b[0;34m\u001b[0m\u001b[0m\n\u001b[0;32m---> 20\u001b[0;31m         \u001b[0;32mif\u001b[0m \u001b[0mlen\u001b[0m\u001b[0;34m(\u001b[0m\u001b[0mcomb_bins_to_ents\u001b[0m\u001b[0;34m[\u001b[0m\u001b[0mcur_bin\u001b[0m\u001b[0;34m]\u001b[0m\u001b[0;34m)\u001b[0m \u001b[0;34m==\u001b[0m \u001b[0;36m1\u001b[0m\u001b[0;34m:\u001b[0m\u001b[0;34m\u001b[0m\u001b[0;34m\u001b[0m\u001b[0m\n\u001b[0m\u001b[1;32m     21\u001b[0m             \u001b[0;32mif\u001b[0m \u001b[0mlen\u001b[0m\u001b[0;34m(\u001b[0m\u001b[0mneighbor_bins\u001b[0m\u001b[0;34m)\u001b[0m \u001b[0;34m==\u001b[0m \u001b[0;36m0\u001b[0m\u001b[0;34m:\u001b[0m\u001b[0;34m\u001b[0m\u001b[0;34m\u001b[0m\u001b[0m\n\u001b[1;32m     22\u001b[0m                 \u001b[0;32mbreak\u001b[0m\u001b[0;34m\u001b[0m\u001b[0;34m\u001b[0m\u001b[0m\n",
      "\u001b[0;31mKeyboardInterrupt\u001b[0m: "
     ]
    }
   ],
   "source": [
    "%%time\n",
    "random_walks_to_file(ent_to_comb_str, comb_bins_to_ents, walks_file, walk_length, num_walks)"
   ]
  },
  {
   "cell_type": "code",
   "execution_count": 50,
   "metadata": {
    "scrolled": true
   },
   "outputs": [
    {
     "name": "stdout",
     "output_type": "stream",
     "text": [
      "num entities to perform walks from: 4421413\n"
     ]
    },
    {
     "data": {
      "application/vnd.jupyter.widget-view+json": {
       "model_id": "73aca5fa94bf4c3381dca7d4c65a149b",
       "version_major": 2,
       "version_minor": 0
      },
      "text/plain": [
       "HBox(children=(HTML(value=''), FloatProgress(value=0.0, max=4421413.0), HTML(value='')))"
      ]
     },
     "metadata": {},
     "output_type": "display_data"
    },
    {
     "name": "stdout",
     "output_type": "stream",
     "text": [
      "\n",
      "CPU times: user 27min 5s, sys: 22 s, total: 27min 27s\n",
      "Wall time: 27min 11s\n"
     ]
    }
   ],
   "source": [
    "%%time\n",
    "random_walks_to_file(ent_to_comb_str, comb_bins_to_ents, walks_file, walk_length, num_walks)"
   ]
  },
  {
   "cell_type": "markdown",
   "metadata": {},
   "source": [
    "### 4. Let's see what embeddings we learn if we only use this feature\n",
    "Use Skip-Gram model to learn representations for the entities"
   ]
  },
  {
   "cell_type": "code",
   "execution_count": 55,
   "metadata": {
    "scrolled": true
   },
   "outputs": [
    {
     "name": "stdout",
     "output_type": "stream",
     "text": [
      "CPU times: user 1d 12h 21min 51s, sys: 9min 18s, total: 1d 12h 31min 9s\n",
      "Wall time: 1h 34min 1s\n"
     ]
    }
   ],
   "source": [
    "%%time\n",
    "model = Word2Vec(corpus_file=walks_file, size=representation_size, window=window_size, min_count=0, sg=1, hs=1,\n",
    "                 workers=workers)\n",
    "model.wv.save(\"{}/A_embeddings.kv\".format(output_dir))"
   ]
  },
  {
   "cell_type": "code",
   "execution_count": 24,
   "metadata": {
    "scrolled": true
   },
   "outputs": [
    {
     "data": {
      "text/plain": [
       "{\"'date of birth'@en\": 60,\n",
       " \"'work period (start)'@en\": 29,\n",
       " \"'height'@en_Q174728\": 14,\n",
       " \"'mass'@en_Q11570\": 26,\n",
       " \"'net worth'@en_Q41044\": 0}"
      ]
     },
     "execution_count": 24,
     "metadata": {},
     "output_type": "execute_result"
    }
   ],
   "source": [
    "ent_to_comb_bins[\"Q7747\"]"
   ]
  },
  {
   "cell_type": "code",
   "execution_count": 25,
   "metadata": {},
   "outputs": [
    {
     "data": {
      "text/plain": [
       "['Q7747']"
      ]
     },
     "execution_count": 25,
     "metadata": {},
     "output_type": "execute_result"
    }
   ],
   "source": [
    "comb_bins_to_ents[ent_to_comb_str[\"Q7747\"]]"
   ]
  },
  {
   "cell_type": "code",
   "execution_count": 26,
   "metadata": {},
   "outputs": [
    {
     "data": {
      "text/plain": [
       "{\"'date of birth'@en\": 60,\n",
       " \"'work period (start)'@en\": 29,\n",
       " \"'height'@en_Q174728\": 14}"
      ]
     },
     "execution_count": 26,
     "metadata": {},
     "output_type": "execute_result"
    }
   ],
   "source": [
    "ent_to_comb_bins[\"Q3760617\"]"
   ]
  },
  {
   "cell_type": "code",
   "execution_count": 43,
   "metadata": {},
   "outputs": [
    {
     "data": {
      "text/plain": [
       "{\"'date of birth'@en\": 60,\n",
       " \"'mass'@en_Q100995\": 12,\n",
       " \"'number of matches played/races/starts'@en\": 50,\n",
       " \"'total goals in career'@en\": 19,\n",
       " \"'total shots in career'@en\": 53,\n",
       " \"'total points in career'@en\": 37,\n",
       " \"'total assists in career'@en\": 35,\n",
       " \"'penalty minutes in career'@en\": 21,\n",
       " \"'career plus-minus rating'@en\": 11}"
      ]
     },
     "execution_count": 43,
     "metadata": {},
     "output_type": "execute_result"
    }
   ],
   "source": [
    "ent_to_comb_bins[\"Q6171026\"]"
   ]
  },
  {
   "cell_type": "code",
   "execution_count": 63,
   "metadata": {},
   "outputs": [
    {
     "data": {
      "text/plain": [
       "['Q3760617']"
      ]
     },
     "execution_count": 63,
     "metadata": {},
     "output_type": "execute_result"
    }
   ],
   "source": [
    "comb_bins_to_ents[ent_to_comb_str[\"Q3760617\"]]"
   ]
  },
  {
   "cell_type": "code",
   "execution_count": 65,
   "metadata": {},
   "outputs": [
    {
     "data": {
      "text/plain": [
       "[('Q3760617', 0.865553617477417),\n",
       " ('Q6767982', 0.8348532319068909),\n",
       " ('Q6490382', 0.8342655897140503),\n",
       " ('Q922940', 0.8337225914001465),\n",
       " ('Q3499105', 0.8326786756515503),\n",
       " ('Q925063', 0.8325059413909912),\n",
       " ('Q5220408', 0.83198082447052),\n",
       " ('Q366559', 0.8299462795257568),\n",
       " ('Q7228954', 0.8287657499313354),\n",
       " ('Q1335828', 0.8276548385620117),\n",
       " ('Q214974', 0.8273299932479858),\n",
       " ('Q6221344', 0.8272722959518433),\n",
       " ('Q6378582', 0.8269789218902588),\n",
       " ('Q84063', 0.8266251683235168),\n",
       " ('Q3704269', 0.8262641429901123),\n",
       " ('Q6382035', 0.8243404030799866),\n",
       " ('Q3017161', 0.8243374824523926),\n",
       " ('Q728234', 0.8234039545059204),\n",
       " ('Q3313454', 0.8232148885726929),\n",
       " ('Q448872', 0.8222715854644775),\n",
       " ('Q553261', 0.8222671747207642),\n",
       " ('Q5334859', 0.822086751461029),\n",
       " ('Q733261', 0.8208723068237305),\n",
       " ('Q6382039', 0.8205651044845581),\n",
       " ('Q187198', 0.8196033239364624),\n",
       " ('Q7150107', 0.8188592791557312),\n",
       " ('Q7228923', 0.8188012838363647),\n",
       " ('Q3218035', 0.8186278939247131),\n",
       " ('Q1701997', 0.8186079859733582),\n",
       " ('Q483203', 0.8181674480438232),\n",
       " ('Q578579', 0.8180418014526367),\n",
       " ('Q1561436', 0.817983865737915),\n",
       " ('Q5300582', 0.817934513092041),\n",
       " ('Q6113771', 0.817913830280304),\n",
       " ('Q2737523', 0.8178962469100952),\n",
       " ('Q15516299', 0.8171607255935669),\n",
       " ('Q11500314', 0.8166308999061584),\n",
       " ('Q4965378', 0.8162682056427002),\n",
       " ('Q3776426', 0.8160730600357056),\n",
       " ('Q3441414', 0.8158665895462036),\n",
       " ('Q4394283', 0.8157109022140503),\n",
       " ('Q7364406', 0.8152860403060913),\n",
       " ('Q364424', 0.8151724338531494),\n",
       " ('Q465956', 0.8147907853126526),\n",
       " ('Q708639', 0.8140591382980347),\n",
       " ('Q3098541', 0.8137257099151611),\n",
       " ('Q12792103', 0.8131440877914429),\n",
       " ('Q6381395', 0.8131353259086609),\n",
       " ('Q4964211', 0.813098132610321),\n",
       " ('Q291845', 0.8126413226127625),\n",
       " ('Q776564', 0.812470555305481),\n",
       " ('Q64392195', 0.8117283582687378),\n",
       " ('Q3641341', 0.8116822838783264),\n",
       " ('Q6381367', 0.8115551471710205),\n",
       " ('Q1866915', 0.8115105628967285),\n",
       " ('Q5210523', 0.8106174468994141),\n",
       " ('Q1614646', 0.8103411197662354),\n",
       " ('Q728941', 0.8102582693099976),\n",
       " ('Q65572930', 0.8098559379577637),\n",
       " ('Q3573483', 0.8097327947616577),\n",
       " ('Q723730', 0.8095580339431763),\n",
       " ('Q372873', 0.8093348741531372),\n",
       " ('Q2329242', 0.8091709613800049),\n",
       " ('Q3731499', 0.8090153932571411),\n",
       " ('Q660037', 0.8089696764945984),\n",
       " ('Q346081', 0.8089362382888794),\n",
       " ('Q7326069', 0.8088884949684143),\n",
       " ('Q795001', 0.8083142638206482),\n",
       " ('Q4894436', 0.8080230951309204),\n",
       " ('Q6838919', 0.8079430460929871),\n",
       " ('Q18631430', 0.8078101277351379),\n",
       " ('Q6681461', 0.8076062202453613),\n",
       " ('Q81546468', 0.8074421286582947),\n",
       " ('Q459056', 0.807293176651001),\n",
       " ('Q5115429', 0.8072776794433594),\n",
       " ('Q6074451', 0.807173490524292),\n",
       " ('Q2151578', 0.8069218993186951),\n",
       " ('Q382150', 0.806862473487854),\n",
       " ('Q445724', 0.806811511516571),\n",
       " ('Q427470', 0.8067687153816223),\n",
       " ('Q446692', 0.8067373037338257),\n",
       " ('Q3189979', 0.8067311644554138),\n",
       " ('Q19661230', 0.8066523671150208),\n",
       " ('Q3982512', 0.8065021634101868),\n",
       " ('Q11258304', 0.8061192631721497),\n",
       " ('Q6182226', 0.8060991168022156),\n",
       " ('Q3856703', 0.8059839606285095),\n",
       " ('Q61950113', 0.8057051301002502),\n",
       " ('Q3313457', 0.8055969476699829),\n",
       " ('Q369373', 0.8053146600723267),\n",
       " ('Q6377851', 0.8051838278770447),\n",
       " ('Q4981090', 0.8050806522369385),\n",
       " ('Q538304', 0.8048766851425171),\n",
       " ('Q553249', 0.8048754930496216),\n",
       " ('Q1620299', 0.8044596314430237),\n",
       " ('Q888081', 0.8042159080505371),\n",
       " ('Q4874395', 0.8041636347770691),\n",
       " ('Q1176968', 0.8039918541908264),\n",
       " ('Q6171026', 0.8038218021392822),\n",
       " ('Q5085547', 0.803800106048584)]"
      ]
     },
     "execution_count": 65,
     "metadata": {},
     "output_type": "execute_result"
    }
   ],
   "source": [
    "model.wv.most_similar(positive=[\"Q7747\"], topn=100)"
   ]
  },
  {
   "cell_type": "markdown",
   "metadata": {},
   "source": [
    "Robin williams (1951) to Putin (1952)"
   ]
  },
  {
   "cell_type": "code",
   "execution_count": 27,
   "metadata": {},
   "outputs": [
    {
     "data": {
      "text/plain": [
       "{\"'date of birth'@en\": 60,\n",
       " \"'date of death'@en\": 93,\n",
       " \"'work period (start)'@en\": 27,\n",
       " \"'work period (end)'@en\": 72,\n",
       " \"'net worth'@en_Q4917\": 28}"
      ]
     },
     "metadata": {},
     "output_type": "display_data"
    },
    {
     "data": {
      "text/plain": [
       "{\"'date of birth'@en\": 60,\n",
       " \"'work period (start)'@en\": 29,\n",
       " \"'height'@en_Q174728\": 14,\n",
       " \"'mass'@en_Q11570\": 26,\n",
       " \"'net worth'@en_Q41044\": 0}"
      ]
     },
     "metadata": {},
     "output_type": "display_data"
    }
   ],
   "source": [
    "display(ent_to_comb_bins[\"Q83338\"])\n",
    "display(ent_to_comb_bins[\"Q7747\"])"
   ]
  },
  {
   "cell_type": "code",
   "execution_count": 32,
   "metadata": {},
   "outputs": [
    {
     "data": {
      "text/plain": [
       "0.6246197"
      ]
     },
     "execution_count": 32,
     "metadata": {},
     "output_type": "execute_result"
    }
   ],
   "source": [
    "model.similarity(\"Q83338\",\"Q7747\")"
   ]
  },
  {
   "cell_type": "markdown",
   "metadata": {},
   "source": [
    "Stevie Wonder (1950) to Putin (1952)"
   ]
  },
  {
   "cell_type": "code",
   "execution_count": 33,
   "metadata": {},
   "outputs": [
    {
     "data": {
      "text/plain": [
       "{\"'date of birth'@en\": 59, \"'work period (start)'@en\": 20}"
      ]
     },
     "metadata": {},
     "output_type": "display_data"
    },
    {
     "data": {
      "text/plain": [
       "{\"'date of birth'@en\": 60,\n",
       " \"'work period (start)'@en\": 29,\n",
       " \"'height'@en_Q174728\": 14,\n",
       " \"'mass'@en_Q11570\": 26,\n",
       " \"'net worth'@en_Q41044\": 0}"
      ]
     },
     "metadata": {},
     "output_type": "display_data"
    }
   ],
   "source": [
    "display(ent_to_comb_bins[\"Q714\"])\n",
    "display(ent_to_comb_bins[\"Q7747\"])"
   ]
  },
  {
   "cell_type": "code",
   "execution_count": 34,
   "metadata": {},
   "outputs": [
    {
     "data": {
      "text/plain": [
       "0.5429982"
      ]
     },
     "execution_count": 34,
     "metadata": {},
     "output_type": "execute_result"
    }
   ],
   "source": [
    "model.similarity(\"Q714\",\"Q7747\")"
   ]
  },
  {
   "cell_type": "markdown",
   "metadata": {},
   "source": [
    "Bruce Springsteen (1949) to Putin (1952)"
   ]
  },
  {
   "cell_type": "code",
   "execution_count": 35,
   "metadata": {},
   "outputs": [
    {
     "data": {
      "text/plain": [
       "{\"'date of birth'@en\": 59,\n",
       " \"'work period (start)'@en\": 25,\n",
       " \"'height'@en_Q11573\": 24}"
      ]
     },
     "metadata": {},
     "output_type": "display_data"
    },
    {
     "data": {
      "text/plain": [
       "{\"'date of birth'@en\": 60,\n",
       " \"'work period (start)'@en\": 29,\n",
       " \"'height'@en_Q174728\": 14,\n",
       " \"'mass'@en_Q11570\": 26,\n",
       " \"'net worth'@en_Q41044\": 0}"
      ]
     },
     "metadata": {},
     "output_type": "display_data"
    }
   ],
   "source": [
    "display(ent_to_comb_bins[\"Q1225\"])\n",
    "display(ent_to_comb_bins[\"Q7747\"])"
   ]
  },
  {
   "cell_type": "code",
   "execution_count": 36,
   "metadata": {},
   "outputs": [
    {
     "data": {
      "text/plain": [
       "0.6413831"
      ]
     },
     "execution_count": 36,
     "metadata": {},
     "output_type": "execute_result"
    }
   ],
   "source": [
    "model.similarity(\"Q1225\",\"Q7747\")"
   ]
  },
  {
   "cell_type": "markdown",
   "metadata": {},
   "source": [
    "Steve Jobs (1955) to Putin (1952)"
   ]
  },
  {
   "cell_type": "code",
   "execution_count": 37,
   "metadata": {},
   "outputs": [
    {
     "data": {
      "text/plain": [
       "{\"'date of birth'@en\": 63, \"'date of death'@en\": 90}"
      ]
     },
     "metadata": {},
     "output_type": "display_data"
    },
    {
     "data": {
      "text/plain": [
       "{\"'date of birth'@en\": 60,\n",
       " \"'work period (start)'@en\": 29,\n",
       " \"'height'@en_Q174728\": 14,\n",
       " \"'mass'@en_Q11570\": 26,\n",
       " \"'net worth'@en_Q41044\": 0}"
      ]
     },
     "metadata": {},
     "output_type": "display_data"
    }
   ],
   "source": [
    "display(ent_to_comb_bins[\"Q19837\"])\n",
    "display(ent_to_comb_bins[\"Q7747\"])"
   ]
  },
  {
   "cell_type": "code",
   "execution_count": 38,
   "metadata": {},
   "outputs": [
    {
     "data": {
      "text/plain": [
       "0.18387155"
      ]
     },
     "execution_count": 38,
     "metadata": {},
     "output_type": "execute_result"
    }
   ],
   "source": [
    "model.similarity(\"Q19837\",\"Q7747\")"
   ]
  },
  {
   "cell_type": "markdown",
   "metadata": {},
   "source": [
    "Bill Gates (1955) to Putin (1952)"
   ]
  },
  {
   "cell_type": "code",
   "execution_count": 39,
   "metadata": {
    "scrolled": true
   },
   "outputs": [
    {
     "data": {
      "text/plain": [
       "{\"'date of birth'@en\": 63,\n",
       " \"'work period (start)'@en\": 29,\n",
       " \"'number of children'@en\": 3,\n",
       " \"'height'@en_Q11573\": 24,\n",
       " \"'Erdős number'@en\": 3}"
      ]
     },
     "metadata": {},
     "output_type": "display_data"
    },
    {
     "data": {
      "text/plain": [
       "{\"'date of birth'@en\": 60,\n",
       " \"'work period (start)'@en\": 29,\n",
       " \"'height'@en_Q174728\": 14,\n",
       " \"'mass'@en_Q11570\": 26,\n",
       " \"'net worth'@en_Q41044\": 0}"
      ]
     },
     "metadata": {},
     "output_type": "display_data"
    }
   ],
   "source": [
    "display(ent_to_comb_bins[\"Q5284\"])\n",
    "display(ent_to_comb_bins[\"Q7747\"])"
   ]
  },
  {
   "cell_type": "code",
   "execution_count": 40,
   "metadata": {},
   "outputs": [
    {
     "data": {
      "text/plain": [
       "0.3533253"
      ]
     },
     "execution_count": 40,
     "metadata": {},
     "output_type": "execute_result"
    }
   ],
   "source": [
    "model.similarity(\"Q5284\",\"Q7747\")"
   ]
  },
  {
   "cell_type": "markdown",
   "metadata": {},
   "source": [
    "We want similar entities to have more similar embeddings. This feature aims to capture a measure of attributive similarity amongst entities of the same type. Therefore we will compare entities within a type to evaluate the embeddings that are learned with this feature."
   ]
  },
  {
   "cell_type": "markdown",
   "metadata": {},
   "source": [
    "The below doesn't work because we didn't acount for an entity not having ANY numeric attributes... should account for this. Although if we don't, not clear makes a big difference to final embeddings as long as we use other features as well."
   ]
  },
  {
   "cell_type": "code",
   "execution_count": 15,
   "metadata": {},
   "outputs": [
    {
     "ename": "KeyError",
     "evalue": "\"word 'Q61976614' not in vocabulary\"",
     "output_type": "error",
     "traceback": [
      "\u001b[0;31m---------------------------------------------------------------------------\u001b[0m",
      "\u001b[0;31mKeyError\u001b[0m                                  Traceback (most recent call last)",
      "\u001b[0;32m<ipython-input-15-0620bc35a74e>\u001b[0m in \u001b[0;36m<module>\u001b[0;34m\u001b[0m\n\u001b[0;32m----> 1\u001b[0;31m \u001b[0mbeer_vecs\u001b[0m \u001b[0;34m=\u001b[0m \u001b[0mmodel\u001b[0m\u001b[0;34m.\u001b[0m\u001b[0mwv\u001b[0m\u001b[0;34m[\u001b[0m\u001b[0;34m'Q12877510'\u001b[0m\u001b[0;34m,\u001b[0m \u001b[0;34m'Q61976614'\u001b[0m\u001b[0;34m,\u001b[0m \u001b[0;34m'Q93552342'\u001b[0m\u001b[0;34m,\u001b[0m \u001b[0;34m'Q93557205'\u001b[0m\u001b[0;34m,\u001b[0m \u001b[0;34m'Q93559285'\u001b[0m\u001b[0;34m,\u001b[0m \u001b[0;34m'Q93558270'\u001b[0m\u001b[0;34m,\u001b[0m \u001b[0;34m'Q93560567'\u001b[0m\u001b[0;34m,\u001b[0m \u001b[0;34m'Q97412285'\u001b[0m\u001b[0;34m]\u001b[0m\u001b[0;34m\u001b[0m\u001b[0;34m\u001b[0m\u001b[0m\n\u001b[0m\u001b[1;32m      2\u001b[0m \u001b[0msimilarity_mat\u001b[0m \u001b[0;34m=\u001b[0m \u001b[0;34m[\u001b[0m\u001b[0mmodel\u001b[0m\u001b[0;34m.\u001b[0m\u001b[0mwv\u001b[0m\u001b[0;34m.\u001b[0m\u001b[0mcosine_similarities\u001b[0m\u001b[0;34m(\u001b[0m\u001b[0mbeer\u001b[0m\u001b[0;34m,\u001b[0m \u001b[0mbeer_vecs\u001b[0m\u001b[0;34m)\u001b[0m \u001b[0;32mfor\u001b[0m \u001b[0mbeer\u001b[0m \u001b[0;32min\u001b[0m \u001b[0mbeer_vecs\u001b[0m\u001b[0;34m]\u001b[0m\u001b[0;34m\u001b[0m\u001b[0;34m\u001b[0m\u001b[0m\n\u001b[1;32m      3\u001b[0m \u001b[0mmask\u001b[0m \u001b[0;34m=\u001b[0m \u001b[0mnp\u001b[0m\u001b[0;34m.\u001b[0m\u001b[0mzeros_like\u001b[0m\u001b[0;34m(\u001b[0m\u001b[0msimilarity_mat\u001b[0m\u001b[0;34m)\u001b[0m\u001b[0;34m\u001b[0m\u001b[0;34m\u001b[0m\u001b[0m\n\u001b[1;32m      4\u001b[0m \u001b[0mmask\u001b[0m\u001b[0;34m[\u001b[0m\u001b[0mnp\u001b[0m\u001b[0;34m.\u001b[0m\u001b[0mtriu_indices_from\u001b[0m\u001b[0;34m(\u001b[0m\u001b[0mmask\u001b[0m\u001b[0;34m)\u001b[0m\u001b[0;34m]\u001b[0m \u001b[0;34m=\u001b[0m \u001b[0;32mTrue\u001b[0m\u001b[0;34m\u001b[0m\u001b[0;34m\u001b[0m\u001b[0m\n\u001b[1;32m      5\u001b[0m \u001b[0mlabels\u001b[0m \u001b[0;34m=\u001b[0m \u001b[0;34m[\u001b[0m\u001b[0;34m'Macedonian Thrace Brewery'\u001b[0m\u001b[0;34m,\u001b[0m \u001b[0;34m'Rastrum'\u001b[0m\u001b[0;34m,\u001b[0m \u001b[0;34m'Vergina Lager'\u001b[0m\u001b[0;34m,\u001b[0m \u001b[0;34m'Vergina Red'\u001b[0m\u001b[0;34m,\u001b[0m \u001b[0;34m'Vergina Weiss'\u001b[0m\u001b[0;34m,\u001b[0m \u001b[0;34m'Vergina Porfyra'\u001b[0m\u001b[0;34m,\u001b[0m \u001b[0;34m'Vergina Black'\u001b[0m\u001b[0;34m,\u001b[0m \u001b[0;34m'Vergina Alcohol Free'\u001b[0m\u001b[0;34m]\u001b[0m\u001b[0;34m\u001b[0m\u001b[0;34m\u001b[0m\u001b[0m\n",
      "\u001b[0;32m/opt/anaconda3/envs/kgtk-env/lib/python3.7/site-packages/gensim/models/keyedvectors.py\u001b[0m in \u001b[0;36m__getitem__\u001b[0;34m(self, entities)\u001b[0m\n\u001b[1;32m    353\u001b[0m             \u001b[0;32mreturn\u001b[0m \u001b[0mself\u001b[0m\u001b[0;34m.\u001b[0m\u001b[0mget_vector\u001b[0m\u001b[0;34m(\u001b[0m\u001b[0mentities\u001b[0m\u001b[0;34m)\u001b[0m\u001b[0;34m\u001b[0m\u001b[0;34m\u001b[0m\u001b[0m\n\u001b[1;32m    354\u001b[0m \u001b[0;34m\u001b[0m\u001b[0m\n\u001b[0;32m--> 355\u001b[0;31m         \u001b[0;32mreturn\u001b[0m \u001b[0mvstack\u001b[0m\u001b[0;34m(\u001b[0m\u001b[0;34m[\u001b[0m\u001b[0mself\u001b[0m\u001b[0;34m.\u001b[0m\u001b[0mget_vector\u001b[0m\u001b[0;34m(\u001b[0m\u001b[0mentity\u001b[0m\u001b[0;34m)\u001b[0m \u001b[0;32mfor\u001b[0m \u001b[0mentity\u001b[0m \u001b[0;32min\u001b[0m \u001b[0mentities\u001b[0m\u001b[0;34m]\u001b[0m\u001b[0;34m)\u001b[0m\u001b[0;34m\u001b[0m\u001b[0;34m\u001b[0m\u001b[0m\n\u001b[0m\u001b[1;32m    356\u001b[0m \u001b[0;34m\u001b[0m\u001b[0m\n\u001b[1;32m    357\u001b[0m     \u001b[0;32mdef\u001b[0m \u001b[0m__contains__\u001b[0m\u001b[0;34m(\u001b[0m\u001b[0mself\u001b[0m\u001b[0;34m,\u001b[0m \u001b[0mentity\u001b[0m\u001b[0;34m)\u001b[0m\u001b[0;34m:\u001b[0m\u001b[0;34m\u001b[0m\u001b[0;34m\u001b[0m\u001b[0m\n",
      "\u001b[0;32m/opt/anaconda3/envs/kgtk-env/lib/python3.7/site-packages/gensim/models/keyedvectors.py\u001b[0m in \u001b[0;36m<listcomp>\u001b[0;34m(.0)\u001b[0m\n\u001b[1;32m    353\u001b[0m             \u001b[0;32mreturn\u001b[0m \u001b[0mself\u001b[0m\u001b[0;34m.\u001b[0m\u001b[0mget_vector\u001b[0m\u001b[0;34m(\u001b[0m\u001b[0mentities\u001b[0m\u001b[0;34m)\u001b[0m\u001b[0;34m\u001b[0m\u001b[0;34m\u001b[0m\u001b[0m\n\u001b[1;32m    354\u001b[0m \u001b[0;34m\u001b[0m\u001b[0m\n\u001b[0;32m--> 355\u001b[0;31m         \u001b[0;32mreturn\u001b[0m \u001b[0mvstack\u001b[0m\u001b[0;34m(\u001b[0m\u001b[0;34m[\u001b[0m\u001b[0mself\u001b[0m\u001b[0;34m.\u001b[0m\u001b[0mget_vector\u001b[0m\u001b[0;34m(\u001b[0m\u001b[0mentity\u001b[0m\u001b[0;34m)\u001b[0m \u001b[0;32mfor\u001b[0m \u001b[0mentity\u001b[0m \u001b[0;32min\u001b[0m \u001b[0mentities\u001b[0m\u001b[0;34m]\u001b[0m\u001b[0;34m)\u001b[0m\u001b[0;34m\u001b[0m\u001b[0;34m\u001b[0m\u001b[0m\n\u001b[0m\u001b[1;32m    356\u001b[0m \u001b[0;34m\u001b[0m\u001b[0m\n\u001b[1;32m    357\u001b[0m     \u001b[0;32mdef\u001b[0m \u001b[0m__contains__\u001b[0m\u001b[0;34m(\u001b[0m\u001b[0mself\u001b[0m\u001b[0;34m,\u001b[0m \u001b[0mentity\u001b[0m\u001b[0;34m)\u001b[0m\u001b[0;34m:\u001b[0m\u001b[0;34m\u001b[0m\u001b[0;34m\u001b[0m\u001b[0m\n",
      "\u001b[0;32m/opt/anaconda3/envs/kgtk-env/lib/python3.7/site-packages/gensim/models/keyedvectors.py\u001b[0m in \u001b[0;36mget_vector\u001b[0;34m(self, word)\u001b[0m\n\u001b[1;32m    469\u001b[0m \u001b[0;34m\u001b[0m\u001b[0m\n\u001b[1;32m    470\u001b[0m     \u001b[0;32mdef\u001b[0m \u001b[0mget_vector\u001b[0m\u001b[0;34m(\u001b[0m\u001b[0mself\u001b[0m\u001b[0;34m,\u001b[0m \u001b[0mword\u001b[0m\u001b[0;34m)\u001b[0m\u001b[0;34m:\u001b[0m\u001b[0;34m\u001b[0m\u001b[0;34m\u001b[0m\u001b[0m\n\u001b[0;32m--> 471\u001b[0;31m         \u001b[0;32mreturn\u001b[0m \u001b[0mself\u001b[0m\u001b[0;34m.\u001b[0m\u001b[0mword_vec\u001b[0m\u001b[0;34m(\u001b[0m\u001b[0mword\u001b[0m\u001b[0;34m)\u001b[0m\u001b[0;34m\u001b[0m\u001b[0;34m\u001b[0m\u001b[0m\n\u001b[0m\u001b[1;32m    472\u001b[0m \u001b[0;34m\u001b[0m\u001b[0m\n\u001b[1;32m    473\u001b[0m     \u001b[0;32mdef\u001b[0m \u001b[0mwords_closer_than\u001b[0m\u001b[0;34m(\u001b[0m\u001b[0mself\u001b[0m\u001b[0;34m,\u001b[0m \u001b[0mw1\u001b[0m\u001b[0;34m,\u001b[0m \u001b[0mw2\u001b[0m\u001b[0;34m)\u001b[0m\u001b[0;34m:\u001b[0m\u001b[0;34m\u001b[0m\u001b[0;34m\u001b[0m\u001b[0m\n",
      "\u001b[0;32m/opt/anaconda3/envs/kgtk-env/lib/python3.7/site-packages/gensim/models/keyedvectors.py\u001b[0m in \u001b[0;36mword_vec\u001b[0;34m(self, word, use_norm)\u001b[0m\n\u001b[1;32m    466\u001b[0m             \u001b[0;32mreturn\u001b[0m \u001b[0mresult\u001b[0m\u001b[0;34m\u001b[0m\u001b[0;34m\u001b[0m\u001b[0m\n\u001b[1;32m    467\u001b[0m         \u001b[0;32melse\u001b[0m\u001b[0;34m:\u001b[0m\u001b[0;34m\u001b[0m\u001b[0;34m\u001b[0m\u001b[0m\n\u001b[0;32m--> 468\u001b[0;31m             \u001b[0;32mraise\u001b[0m \u001b[0mKeyError\u001b[0m\u001b[0;34m(\u001b[0m\u001b[0;34m\"word '%s' not in vocabulary\"\u001b[0m \u001b[0;34m%\u001b[0m \u001b[0mword\u001b[0m\u001b[0;34m)\u001b[0m\u001b[0;34m\u001b[0m\u001b[0;34m\u001b[0m\u001b[0m\n\u001b[0m\u001b[1;32m    469\u001b[0m \u001b[0;34m\u001b[0m\u001b[0m\n\u001b[1;32m    470\u001b[0m     \u001b[0;32mdef\u001b[0m \u001b[0mget_vector\u001b[0m\u001b[0;34m(\u001b[0m\u001b[0mself\u001b[0m\u001b[0;34m,\u001b[0m \u001b[0mword\u001b[0m\u001b[0;34m)\u001b[0m\u001b[0;34m:\u001b[0m\u001b[0;34m\u001b[0m\u001b[0;34m\u001b[0m\u001b[0m\n",
      "\u001b[0;31mKeyError\u001b[0m: \"word 'Q61976614' not in vocabulary\""
     ]
    }
   ],
   "source": [
    "# beer_vecs = model.wv['Q12877510', 'Q61976614', 'Q93552342', 'Q93557205', 'Q93559285', 'Q93558270', 'Q93560567', 'Q97412285']\n",
    "# similarity_mat = [model.wv.cosine_similarities(beer, beer_vecs) for beer in beer_vecs]\n",
    "# mask = np.zeros_like(similarity_mat)\n",
    "# mask[np.triu_indices_from(mask)] = True\n",
    "# labels = ['Macedonian Thrace Brewery', 'Rastrum', 'Vergina Lager', 'Vergina Red', 'Vergina Weiss', 'Vergina Porfyra', 'Vergina Black', 'Vergina Alcohol Free']\n",
    "# # Could mask to only show the lower triangle, but I think this is actually easier to read without the mask\n",
    "# fig, ax = plt.subplots(figsize=(9,7))\n",
    "# sns.set(font_scale=1.5)\n",
    "# sns.heatmap(similarity_mat, ax=ax, xticklabels=labels, yticklabels=labels, annot=True)\n",
    "# plt.xticks(rotation=30, horizontalalignment='right')\n",
    "# plt.title(\"Cosine similarity of beer embeddings\")\n",
    "# plt.show()"
   ]
  },
  {
   "cell_type": "markdown",
   "metadata": {},
   "source": [
    "The beer called 'Rastrum' seems to be an outlier. Searching for it online gives few results related to beer. Looking at similarities without this beer so we can more easily see how the others compare"
   ]
  },
  {
   "cell_type": "code",
   "execution_count": 17,
   "metadata": {},
   "outputs": [
    {
     "data": {
      "image/png": "[encoded data removed]",
      "text/plain": [
       "<Figure size 648x504 with 2 Axes>"
      ]
     },
     "metadata": {},
     "output_type": "display_data"
    }
   ],
   "source": [
    "# beer_vecs = model.wv['Q12877510', 'Q93552342', 'Q93557205', 'Q93559285', 'Q93558270', 'Q93560567', 'Q97412285']\n",
    "# similarity_mat = [model.wv.cosine_similarities(beer, beer_vecs) for beer in beer_vecs]\n",
    "# mask = np.zeros_like(similarity_mat)\n",
    "# mask[np.triu_indices_from(mask)] = True\n",
    "# labels = ['Macedonian Thrace Brewery', 'Vergina Lager', 'Vergina Red', 'Vergina Weiss', 'Vergina Porfyra', 'Vergina Black', 'Vergina Alcohol Free']\n",
    "# # Could mask to only show the lower triangle, but I think this is actually easier to read without the mask\n",
    "# fig, ax = plt.subplots(figsize=(9,7))\n",
    "# sns.set(font_scale=1.5)\n",
    "# sns.heatmap(similarity_mat, ax=ax, xticklabels=labels, yticklabels=labels, annot=True)\n",
    "# plt.xticks(rotation=30, horizontalalignment='right')\n",
    "# plt.title(\"Cosine similarity of beer embeddings\")\n",
    "# plt.show()"
   ]
  },
  {
   "cell_type": "code",
   "execution_count": null,
   "metadata": {},
   "outputs": [],
   "source": []
  }
 ],
 "metadata": {
  "kernelspec": {
   "display_name": "Python 3",
   "language": "python",
   "name": "python3"
  },
  "language_info": {
   "codemirror_mode": {
    "name": "ipython",
    "version": 3
   },
   "file_extension": ".py",
   "mimetype": "text/x-python",
   "name": "python",
   "nbconvert_exporter": "python",
   "pygments_lexer": "ipython3",
   "version": "3.8.5"
  }
 },
 "nbformat": 4,
 "nbformat_minor": 4
}
