{
 "cells": [
  {
   "cell_type": "code",
   "execution_count": 1,
   "metadata": {},
   "outputs": [],
   "source": [
    "import os\n",
    "from utility import run_command\n",
    "from tqdm.notebook import tqdm"
   ]
  },
  {
   "cell_type": "markdown",
   "metadata": {},
   "source": [
    "## Pre-reqs:\n",
    "- We use tqdm. You can install it with `pip install tqdm` or `conda install -c conda-forge tqdm`"
   ]
  },
  {
   "cell_type": "markdown",
   "metadata": {},
   "source": [
    "## parameters \n",
    " \n",
    "*edge_file_in*: File path for the kgtk file that contains the graph you want to perform walks on.  \n",
    "*work_dir*: Path to directory where files created by this notebook will be saved.  \n",
    "*store_dir*: Path to folder containing the sqlite3.db file that we will use for our queries. We will reuse an existing file if there is one in this folder. Otherwise we will create a new one.  \n",
    "\n",
    "*num_walks_per_node*: Number of walks we should perform starting from each node in the graph (i.e. 10 --> for each node in the graph do 10 walks)\n",
    "*undirected*: Whether we should treat the graph we are doing walks on as directed or undirected."
   ]
  },
  {
   "cell_type": "code",
   "execution_count": 12,
   "metadata": {},
   "outputs": [],
   "source": [
    "edge_file_in = \"../../wikidata_films/data/claims.wikibase-item.tsv.gz\"\n",
    "work_dir = \"../../wikidata_films/profiler_work\"\n",
    "store_dir = \"../../wikidata_films\"\n",
    "\n",
    "# edge_file_in = \"./data/toy_numbers/toy_numbers.tsv\"\n",
    "# work_dir = \"./output/toy_numbers\"\n",
    "# store_dir = \"./data/toy_numbers\"\n",
    "\n",
    "num_walks_per_node = 10\n",
    "walk_length = 10\n",
    "undirected = True #TODO - we don't support directed walks yet. need to deal with dead ends."
   ]
  },
  {
   "cell_type": "markdown",
   "metadata": {},
   "source": [
    "### Process parameters and set up variables / file names"
   ]
  },
  {
   "cell_type": "code",
   "execution_count": 13,
   "metadata": {},
   "outputs": [],
   "source": [
    "# Ensure paths are absolute\n",
    "edge_file_in = os.path.abspath(edge_file_in)\n",
    "work_dir = os.path.abspath(work_dir)\n",
    "store_dir = os.path.abspath(store_dir)\n",
    "    \n",
    "# Create directories\n",
    "if not os.path.exists(work_dir):\n",
    "    os.makedirs(work_dir)\n",
    "output_dir = \"{}/kypher_random_walks\".format(work_dir)\n",
    "if not os.path.exists(output_dir):\n",
    "    os.makedirs(output_dir)\n",
    "\n",
    "# Setting up environment variables \n",
    "os.environ['EDGE_FILE_IN'] = edge_file_in\n",
    "os.environ['STORE'] = \"{}/wikidata.sqlite3.db\".format(store_dir)\n",
    "os.environ['OUT'] = output_dir\n",
    "os.environ['kgtk'] = \"kgtk\" # Need to do this for kgtk to be recognized as a command when passing it through a subprocess call"
   ]
  },
  {
   "cell_type": "markdown",
   "metadata": {},
   "source": [
    "### Pre-processing step to make the graph undirected\n",
    "If the graph is undirected, create a new kgtk file that has a backward edge for every forward edge in the input file."
   ]
  },
  {
   "cell_type": "code",
   "execution_count": 14,
   "metadata": {},
   "outputs": [],
   "source": [
    "!kgtk query -i $EDGE_FILE_IN -o $OUT/backwards_edge_file.tsv.gz --graph-cache $STORE \\\n",
    "--match '`'\"$EDGE_FILE_IN\"'`: (n1)-[l]->(n2)' \\\n",
    "--return 'n2 as node1, printf(\"%s-bwd\", l.label) as label, n1 as node2, printf(\"%s-bwd\", l) as id'"
   ]
  },
  {
   "cell_type": "code",
   "execution_count": 15,
   "metadata": {},
   "outputs": [],
   "source": [
    "!kgtk cat -i $OUT/backwards_edge_file.tsv.gz -i $EDGE_FILE_IN -o $OUT/undirected_edge_file.tsv.gz"
   ]
  },
  {
   "cell_type": "code",
   "execution_count": 16,
   "metadata": {},
   "outputs": [],
   "source": [
    "if undirected:\n",
    "    edge_file = \"{}/undirected_edge_file.tsv.gz\".format(output_dir)\n",
    "else:\n",
    "    edge_file = edge_file_in\n",
    "os.environ[\"EDGE_FILE\"] = edge_file"
   ]
  },
  {
   "cell_type": "markdown",
   "metadata": {},
   "source": [
    "### Set up files for performing walks\n",
    "one file to store the final walks, another kgtk file for building them up"
   ]
  },
  {
   "cell_type": "code",
   "execution_count": 22,
   "metadata": {},
   "outputs": [],
   "source": [
    "walks_file = \"{}/walks.txt\".format(output_dir)\n",
    "os.environ[\"WALKS_FILE\"] = walks_file\n",
    "open(walks_file, 'w').close()"
   ]
  },
  {
   "cell_type": "markdown",
   "metadata": {},
   "source": [
    "#### note - for directed walks, if we want to include walks of length one (i.e. start nodes that have no outbound edges), need to do some extra work here. Not doing this now since we don't currently have a need for this."
   ]
  },
  {
   "cell_type": "code",
   "execution_count": 33,
   "metadata": {},
   "outputs": [],
   "source": [
    "!kgtk query -i $EDGE_FILE -o $OUT/walks_in_progress.tsv.gz --graph-cache $STORE \\\n",
    "--match '`'\"$EDGE_FILE\"'`: (n1)-[]->()' \\\n",
    "--return 'distinct n1 as node1, \"\" as label, n1 as node2, \"_\" as id'"
   ]
  },
  {
   "cell_type": "code",
   "execution_count": 34,
   "metadata": {},
   "outputs": [],
   "source": [
    "cat_command = \"$kgtk cat \" + \" \".join([\"-i $OUT/walks_in_progress.tsv.gz\" for i in range(num_walks_per_node)]) + \" -o $OUT/walks_in_progress_temp.tsv.gz \\\n",
    "                && mv $OUT/walks_in_progress_temp.tsv.gz $OUT/walks_in_progress.tsv.gz\"\n",
    "run_command(cat_command)"
   ]
  },
  {
   "cell_type": "code",
   "execution_count": 35,
   "metadata": {},
   "outputs": [],
   "source": [
    "!kgtk add-id -i $OUT/walks_in_progress.tsv.gz --overwrite-id -o $OUT/walks_in_progress_temp.tsv.gz \\\n",
    "&& mv $OUT/walks_in_progress_temp.tsv.gz $OUT/walks_in_progress.tsv.gz"
   ]
  },
  {
   "cell_type": "markdown",
   "metadata": {},
   "source": [
    "### Take steps\n",
    "If we have a directed representation, first we need to check for any walks that have reached a dead end and save them to the final walks file. (todo - implement this)"
   ]
  },
  {
   "cell_type": "code",
   "execution_count": null,
   "metadata": {
    "scrolled": true
   },
   "outputs": [
    {
     "data": {
      "application/vnd.jupyter.widget-view+json": {
       "model_id": "bec4043836eb45b3bcc9c421b2e5db66",
       "version_major": 2,
       "version_minor": 0
      },
      "text/plain": [
       "HBox(children=(HTML(value=''), FloatProgress(value=0.0, max=9.0), HTML(value='')))"
      ]
     },
     "metadata": {},
     "output_type": "display_data"
    }
   ],
   "source": [
    "command = \"$kgtk query -i EDGE_FILE -i $OUT/walks_in_progress.tsv.gz -o $OUT/walks_in_progress_next.tsv.gz --graph-cache $STORE \\\n",
    "            --match 'progress: (path)-[l]->(cur), `EDGE_FILE`: (cur)-[]->(next)' \\\n",
    "            --return 'l as id, max(random()) as rand, printf(\\\"%s %s\\\", path, next) as node1, \\\"\\\" as label, next as node2' \\\n",
    "            && $kgtk remove-columns -i $OUT/walks_in_progress_next.tsv.gz --columns rand -o $OUT/walks_in_progress.tsv.gz\"\n",
    "for i in tqdm(range(walk_length - 1)):\n",
    "    run_command(command, {\"EDGE_FILE\" : edge_file})"
   ]
  },
  {
   "cell_type": "markdown",
   "metadata": {},
   "source": [
    "### Write walks to file"
   ]
  },
  {
   "cell_type": "code",
   "execution_count": 148,
   "metadata": {},
   "outputs": [],
   "source": [
    "!kgtk query -i $OUT/walks_in_progress.tsv -o $WALKS_FILE --graph-cache $STORE \\\n",
    "--match 'walks: (n1)-[]->()' \\\n",
    "--return 'n1 as walks'"
   ]
  },
  {
   "cell_type": "code",
   "execution_count": 149,
   "metadata": {},
   "outputs": [
    {
     "name": "stdout",
     "output_type": "stream",
     "text": [
      "walks\r\n",
      "24 12 24 8 24 8 24 8 16 2 26\r\n",
      "3 12 2 8 24 4 24 8 24 4 24\r\n",
      "3 24 3 18 6 24 2 24 4 24 6\r\n",
      "4 12 24 3 18 3 18 6 12 3 24\r\n"
     ]
    }
   ],
   "source": [
    "!head -5 $WALKS_FILE"
   ]
  },
  {
   "cell_type": "markdown",
   "metadata": {},
   "source": [
    "remove header line"
   ]
  },
  {
   "cell_type": "code",
   "execution_count": 150,
   "metadata": {},
   "outputs": [],
   "source": [
    "!tail -n +2 $WALKS_FILE > $WALKS_FILE.tmp && mv $WALKS_FILE.tmp $WALKS_FILE"
   ]
  },
  {
   "cell_type": "code",
   "execution_count": 151,
   "metadata": {},
   "outputs": [
    {
     "name": "stdout",
     "output_type": "stream",
     "text": [
      "24 12 24 8 24 8 24 8 16 2 26\r\n",
      "3 12 2 8 24 4 24 8 24 4 24\r\n",
      "3 24 3 18 6 24 2 24 4 24 6\r\n",
      "4 12 24 3 18 3 18 6 12 3 24\r\n",
      "6 18 3 15 3 24 12 3 24 6 12\r\n"
     ]
    }
   ],
   "source": [
    "!head -5 $WALKS_FILE"
   ]
  },
  {
   "cell_type": "code",
   "execution_count": null,
   "metadata": {},
   "outputs": [],
   "source": []
  }
 ],
 "metadata": {
  "kernelspec": {
   "display_name": "Python 3",
   "language": "python",
   "name": "python3"
  }
 },
 "nbformat": 4,
 "nbformat_minor": 4
}
