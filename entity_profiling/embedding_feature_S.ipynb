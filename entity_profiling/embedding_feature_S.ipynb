{
 "cells": [
  {
   "cell_type": "markdown",
   "metadata": {},
   "source": [
    "# S-Feature Analysis\n",
    "This is an optional notebook where we will go through the steps of creating random walks using the S-path method. These can be used as a feature when learning HAS-embeddings in the HAS_entity_embeddings notebook. We will consider different implementation decisions and look at the results of using this feature for learning embeddings.\n",
    "\n",
    "*What is this feature?* --> These random walks are intended to detect structural similarity. I.e. entities with similar types of neighbors are similar."
   ]
  },
  {
   "cell_type": "markdown",
   "metadata": {},
   "source": [
    "## Pre-requisite steps to run this notebook\n",
    "1. You need to run the 1_candidate_label_creation notebook before this notebook.\n",
    "2. gensim is a dependency. You can install it with `pip install --upgrade gensim`, or if you want to use Anaconda, `conda install -c conda-forge gensim`\n",
    "3. `conda install -c pytorch faiss-cpu`"
   ]
  },
  {
   "cell_type": "code",
   "execution_count": 22,
   "metadata": {},
   "outputs": [],
   "source": [
    "import os\n",
    "import random\n",
    "import numpy as np\n",
    "import pandas as pd\n",
    "from gensim.models import Word2Vec\n",
    "import matplotlib.pyplot as plt\n",
    "import seaborn as sns\n",
    "from tqdm.notebook import tqdm\n",
    "import json\n",
    "from sklearn.preprocessing import MinMaxScaler\n",
    "from collections import defaultdict\n",
    "import math\n",
    "import faiss"
   ]
  },
  {
   "cell_type": "markdown",
   "metadata": {},
   "source": [
    "## parameters\n",
    "\n",
    "**Embedding model parameters**   \n",
    "*num_walks*: Number of random walks to start at each node with the S-feature walk method   \n",
    "*walk_length*: Length of random walk started at each node  \n",
    "*representation_size*: Number of latent dimensions to learn from each node  \n",
    "*window_size*: Window size of skipgram model  \n",
    "*workers*: Number of parallel processes  \n",
    "\n",
    "**File/Directory parameters**  \n",
    "*item_file*: File path for the file that contains entity to entity relationships (e.g. wikibase-item).  \n",
    "*label_file*: File path for the file that contains wikidata labels.  \n",
    "*work_dir*: same work_dir that you specified in the label creation notebook. We'll look for files created by that notebook here. Files created by this notebook will also be saved here.  \n",
    "*store_dir*: Path to folder containing the sqlite3.db file that we will use for our queries. We will reuse an existing file if there is one in this folder. Otherwise we will create a new one."
   ]
  },
  {
   "cell_type": "code",
   "execution_count": 23,
   "metadata": {
    "tags": [
     "parameters"
    ]
   },
   "outputs": [],
   "source": [
    "# Embedding model params\n",
    "num_walks = 10\n",
    "walk_length = 10\n",
    "representation_size = 64\n",
    "window_size = 5\n",
    "workers = 16\n",
    "\n",
    "# File/Directory params\n",
    "data_dir = \"./data/wikidata-20210215-dwd\"\n",
    "item_file = \"{}/claims.wikibase-item.tsv.gz\".format(data_dir)\n",
    "label_file = \"{}/labels.en.tsv.gz\".format(data_dir)\n",
    "work_dir = \"./output/wikidata-20210215-dwd\"\n",
    "store_dir = \"./output/wikidata-20210215-dwd/temp-s\""
   ]
  },
  {
   "cell_type": "markdown",
   "metadata": {},
   "source": [
    "### Process parameters and set up variables / file names"
   ]
  },
  {
   "cell_type": "code",
   "execution_count": 24,
   "metadata": {},
   "outputs": [],
   "source": [
    "# Ensure paths are absolute\n",
    "item_file = os.path.abspath(item_file)\n",
    "label_file = os.path.abspath(label_file)\n",
    "work_dir = os.path.abspath(work_dir)\n",
    "store_dir = os.path.abspath(store_dir)\n",
    "    \n",
    "# Create directories\n",
    "if not os.path.exists(work_dir):\n",
    "    os.makedirs(work_dir)\n",
    "output_dir = \"{}/S_walks_analysis\".format(work_dir)\n",
    "if not os.path.exists(output_dir):\n",
    "    os.makedirs(output_dir)\n",
    "if not os.path.exists(store_dir):\n",
    "    os.makedirs(store_dir)\n",
    "    \n",
    "walks_file = \"{}/s_walks.txt\".format(output_dir)\n",
    "\n",
    "# Setting up environment variables \n",
    "os.environ['ITEM_FILE'] = item_file\n",
    "os.environ['LABEL_FILE'] = label_file\n",
    "os.environ['STORE'] = \"{}/wikidata.sqlite3.db\".format(store_dir)\n",
    "os.environ['LABEL_CREATION'] = \"{}/label_creation\".format(work_dir)\n",
    "os.environ['OUT'] = output_dir\n",
    "os.environ['kgtk'] = \"kgtk\" # Need to do this for kgtk to be recognized as a command when passing it through a subprocess call"
   ]
  },
  {
   "cell_type": "markdown",
   "metadata": {},
   "source": [
    "### 1. Create simple embeddings for entities based on the types of their neighbors\n",
    "\n",
    "These embeddings will have $|\\tau|$ dimensions where $\\tau$ is the set of distinct types amongst entities that share an edge with entities of type $t$. Each dimension of the embeddings will correspond to a type. The embedding for an entity will be created by filling in counts of neighbors of each type and normalizing each dimension.\n",
    "\n",
    "#### 1.1 Gather list of entities of the type_to_profile along with the types of their neighbors and the counts of neighbors of those types"
   ]
  },
  {
   "cell_type": "code",
   "execution_count": 43,
   "metadata": {},
   "outputs": [],
   "source": [
    "!kgtk query -i $ITEM_FILE -i $LABEL_CREATION/type_mapping.tsv --graph-cache $STORE \\\n",
    "-o $OUT/entity_neighbor_types.tsv \\\n",
    "--match '`'\"$ITEM_FILE\"'`: (e1)-[]->(e2), type: (e2)-[]->(t2)' \\\n",
    "--return 'distinct e1 as node1, t2 as label, count(e2) as node2, printf(\"%s_%s\",e1,t2) as id' \\\n",
    "--order-by 'e1, t2'"
   ]
  },
  {
   "cell_type": "code",
   "execution_count": 44,
   "metadata": {},
   "outputs": [
    {
     "name": "stdout",
     "output_type": "stream",
     "text": [
      "node1  label      node2  id\r\n",
      "P10    Q1209283   1      P10_Q1209283\r\n",
      "P10    Q16521     1      P10_Q16521\r\n",
      "P10    Q24862     1      P10_Q24862\r\n",
      "P10    Q55983715  1      P10_Q55983715\r\n",
      "P1000  Q15647814  1      P1000_Q15647814\r\n",
      "P1000  Q5         2      P1000_Q5\r\n",
      "P1001  Q1129645   1      P1001_Q1129645\r\n",
      "P1001  Q11773926  1      P1001_Q11773926\r\n",
      "P1001  Q15617994  1      P1001_Q15617994\r\n"
     ]
    }
   ],
   "source": [
    "!head $OUT/entity_neighbor_types.tsv | column -t -s $'\\t'"
   ]
  },
  {
   "cell_type": "markdown",
   "metadata": {},
   "source": [
    "order neighbor types by frequency of occurrence"
   ]
  },
  {
   "cell_type": "code",
   "execution_count": 45,
   "metadata": {},
   "outputs": [],
   "source": [
    "!kgtk query -i $OUT/entity_neighbor_types.tsv -i $LABEL_FILE --graph-cache $STORE \\\n",
    "-o $OUT/neighbor_types_by_freq.tsv \\\n",
    "--match 'types: (ent)-[l {label:neigh_type}]->(), `'\"$LABEL_FILE\"'`: (neigh_type)-[:label]->(type_lab)' \\\n",
    "--return 'distinct neigh_type as node1, type_lab as label, count(distinct ent) as node2, neigh_type as id' \\\n",
    "--where 'type_lab.kgtk_lqstring_lang_suffix = \"en\"' \\\n",
    "--order-by 'node2 desc'"
   ]
  },
  {
   "cell_type": "code",
   "execution_count": 47,
   "metadata": {},
   "outputs": [
    {
     "name": "stdout",
     "output_type": "stream",
     "text": [
      "43185 /data/profiling/kgtk/entity_profiling/output/wikidata-20210215-dwd/S_walks_analysis/neighbor_types_by_freq.tsv\r\n"
     ]
    }
   ],
   "source": [
    "!wc -l $OUT/neighbor_types_by_freq.tsv"
   ]
  },
  {
   "cell_type": "code",
   "execution_count": 48,
   "metadata": {},
   "outputs": [
    {
     "name": "stdout",
     "output_type": "stream",
     "text": [
      "node1      label                                                     node2     id\r\n",
      "Q3624078   'sovereign state'@en                                      18138375  Q3624078\r\n",
      "Q6256      'country'@en                                              17963939  Q6256\r\n",
      "Q55983715  'organisms known by a particular common name'@en          9480017   Q55983715\r\n",
      "Q48264     'gender identity'@en                                      6904029   Q48264\r\n",
      "Q4369513   'sex of humans'@en                                        6902238   Q4369513\r\n",
      "Q4656150   'Wikimedia project policies and guidelines'@en            6123811   Q4656150\r\n",
      "Q28640     'profession'@en                                           5617188   Q28640\r\n",
      "Q5         'human'@en                                                4771064   Q5\r\n",
      "Q56005592  'Wikimedia help page'@en                                  4752748   Q56005592\r\n",
      "Q35252665  'Wikimedia non-main namespace'@en                         4752682   Q35252665\r\n",
      "Q7270      'republic'@en                                             4514669   Q7270\r\n",
      "Q1520223   'constitutional republic'@en                              4365163   Q1520223\r\n",
      "Q12308941  'male given name'@en                                      3989336   Q12308941\r\n",
      "Q43702     'federation'@en                                           3934333   Q43702\r\n",
      "Q12737077  'occupation'@en                                           3282000   Q12737077\r\n",
      "Q16521     'taxon'@en                                                3259429   Q16521\r\n",
      "Q63791824  'countries bordering the Baltic Sea'@en                   3213580   Q63791824\r\n",
      "Q34770     'language'@en                                             3180567   Q34770\r\n",
      "Q1288568   'modern language'@en                                      3152184   Q1288568\r\n",
      "Q5255892   'democratic republic'@en                                  3065425   Q5255892\r\n",
      "Q4164871   'position'@en                                             3011192   Q4164871\r\n",
      "Q101352    'family name'@en                                          2984817   Q101352\r\n",
      "Q24017414  'second-order class'@en                                   2936061   Q24017414\r\n",
      "Q427626    'taxonomic rank'@en                                       2894057   Q427626\r\n",
      "Q3100180   'rank'@en                                                 2808076   Q3100180\r\n",
      "Q13578154  'rank'@en                                                 2799319   Q13578154\r\n",
      "Q20181813  'colonial power'@en                                       2681133   Q20181813\r\n",
      "Q51576574  'Mediterranean country'@en                                2618285   Q51576574\r\n",
      "Q1549591   'big city'@en                                             2531182   Q1549591\r\n",
      "Q112099    'island nation'@en                                        2517189   Q112099\r\n",
      "Q619610    'social state'@en                                         2394057   Q619610\r\n",
      "Q4209223   'Rechtsstaat'@en                                          2309975   Q4209223\r\n",
      "Q99541706  'historical unrecognized state'@en                        2141209   Q99541706\r\n",
      "Q1489259   'superpower'@en                                           2139760   Q1489259\r\n",
      "Q202686    'Commonwealth realm'@en                                   2126441   Q202686\r\n",
      "Q179164    'unitary state'@en                                        2004023   Q179164\r\n",
      "Q859563    'secular state'@en                                        1765759   Q859563\r\n",
      "Q223832    'dominion of the British Empire'@en                       1739079   Q223832\r\n",
      "Q515       'city'@en                                                 1716511   Q515\r\n",
      "Q31629     'type of sport'@en                                        1633218   Q31629\r\n",
      "Q33742     'natural language'@en                                     1551674   Q33742\r\n",
      "Q17444909  'astronomical object type'@en                             1460447   Q17444909\r\n",
      "Q17272482  'time zone named for a UTC offset'@en                     1444050   Q17272482\r\n",
      "Q14204246  'Wikimedia project page'@en                               1377773   Q14204246\r\n",
      "Q123480    'landlocked country'@en                                   1324958   Q123480\r\n",
      "Q11879590  'female given name'@en                                    1317209   Q11879590\r\n",
      "Q1637706   'city with millions of inhabitants'@en                    1252518   Q1637706\r\n",
      "Q205892    'calendar date'@en                                        1226265   Q205892\r\n",
      "Q2703      'epoch'@en                                                1208180   Q2703\r\n",
      "Q5119      'capital'@en                                              1111477   Q5119\r\n",
      "Q842112    'socialist state'@en                                      1068815   Q842112\r\n",
      "Q1323642   'transcontinental country'@en                             1059954   Q1323642\r\n",
      "Q465613    'People\\'s Republic'@en                                   1045439   Q465613\r\n",
      "Q3918      'university'@en                                           1040483   Q3918\r\n",
      "Q8928      'constellation'@en                                        1024707   Q8928\r\n",
      "Q50424085  'copyright status'@en                                     1017775   Q50424085\r\n",
      "Q3024240   'historical country'@en                                   1000110   Q3024240\r\n",
      "Q212434    'Olympic sport'@en                                        819692    Q212434\r\n",
      "Q484170    'commune of France'@en                                    777325    Q484170\r\n",
      "Q42744322  'urban municipality of Germany'@en                        767986    Q42744322\r\n",
      "Q207694    'art museum'@en                                           745916    Q207694\r\n",
      "Q4167836   'Wikimedia category'@en                                   700470    Q4167836\r\n",
      "Q45400320  'open-access publisher'@en                                699340    Q45400320\r\n",
      "Q1250464   'realm'@en                                                680968    Q1250464\r\n",
      "Q30634609  'heritage designation'@en                                 658301    Q30634609\r\n",
      "Q41614     'constitutional monarchy'@en                              642230    Q41614\r\n",
      "Q3331189   'version, edition, or translation'@en                     607160    Q3331189\r\n",
      "Q4830453   'business'@en                                             595029    Q4830453\r\n",
      "Q4356073   'spectator sport'@en                                      558563    Q4356073\r\n",
      "Q1093829   'city of the United States'@en                            522789    Q1093829\r\n",
      "Q2668072   'collection'@en                                           493000    Q2668072\r\n",
      "Q185145    'great power'@en                                          487812    Q185145\r\n",
      "Q1093580   'Han surname'@en                                          486375    Q1093580\r\n",
      "Q20202269  'musical term'@en                                         465297    Q20202269\r\n",
      "Q1138494   'historic county of England'@en                           463757    Q1138494\r\n",
      "Q11514315  'historical period'@en                                    457071    Q11514315\r\n",
      "Q532       'village'@en                                              452182    Q532\r\n",
      "Q11862829  'academic discipline'@en                                  443884    Q11862829\r\n",
      "Q875538    'public university'@en                                    435546    Q875538\r\n",
      "Q15304003  'country of the Kingdom of the Netherlands'@en            432648    Q15304003\r\n",
      "Q2122214   'national archives'@en                                    421774    Q2122214\r\n",
      "Q8192      'writing system'@en                                       419007    Q8192\r\n",
      "Q9779      'alphabet'@en                                             415771    Q9779\r\n",
      "Q65045986  'bicameral alphabet'@en                                   413916    Q65045986\r\n",
      "Q7275      'state'@en                                                412988    Q7275\r\n",
      "Q1149652   'district of India'@en                                    411965    Q1149652\r\n",
      "Q188451    'music genre'@en                                          410423    Q188451\r\n",
      "Q1752939   'independent agency of the United States government'@en   405003    Q1752939\r\n",
      "Q62078547  'public research university'@en                           403121    Q62078547\r\n",
      "Q3511132   'series'@en                                               395629    Q3511132\r\n",
      "Q2039348   'municipality of the Netherlands'@en                      386011    Q2039348\r\n",
      "Q23002039  'public educational institution of the United States'@en  384062    Q23002039\r\n",
      "Q13107770  'archipelagic state'@en                                   379547    Q13107770\r\n",
      "Q747074    'comune of Italy'@en                                      379120    Q747074\r\n",
      "Q5153359   'municipality of the Czech Republic'@en                   377921    Q5153359\r\n",
      "Q3957      'town'@en                                                 373631    Q3957\r\n",
      "Q755707    'municipality of Norway'@en                               365959    Q755707\r\n",
      "Q50068795  'historical Chinese state'@en                             360906    Q50068795\r\n",
      "Q1292119   'style'@en                                                360492    Q1292119\r\n",
      "Q11042     'culture'@en                                              349316    Q11042\r\n"
     ]
    }
   ],
   "source": [
    "!head -101 $OUT/neighbor_types_by_freq.tsv | column -t -s $'\\t'"
   ]
  },
  {
   "cell_type": "markdown",
   "metadata": {},
   "source": [
    "Trim down neighbor types to top 100"
   ]
  },
  {
   "cell_type": "code",
   "execution_count": 49,
   "metadata": {},
   "outputs": [],
   "source": [
    "!head -101 $OUT/neighbor_types_by_freq.tsv > $OUT/neighbor_types_by_freq_trimmed_100.tsv"
   ]
  },
  {
   "cell_type": "markdown",
   "metadata": {},
   "source": [
    "Filter out less-common neighbor types"
   ]
  },
  {
   "cell_type": "code",
   "execution_count": 50,
   "metadata": {},
   "outputs": [
    {
     "name": "stdout",
     "output_type": "stream",
     "text": [
      "CPU times: user 16.2 s, sys: 3.23 s, total: 19.4 s\n",
      "Wall time: 14min 23s\n"
     ]
    }
   ],
   "source": [
    "%%time\n",
    "!kgtk ifexists --input-file $OUT/entity_neighbor_types.tsv --filter-file $OUT/neighbor_types_by_freq_trimmed_100.tsv \\\n",
    "--output-file $OUT/entity_neighbor_types_trimmed_100.tsv --input-keys label --filter-keys node1"
   ]
  },
  {
   "cell_type": "code",
   "execution_count": 51,
   "metadata": {},
   "outputs": [
    {
     "name": "stdout",
     "output_type": "stream",
     "text": [
      "278941812\r\n"
     ]
    }
   ],
   "source": [
    "!cat $OUT/entity_neighbor_types.tsv | wc -l"
   ]
  },
  {
   "cell_type": "code",
   "execution_count": 52,
   "metadata": {},
   "outputs": [
    {
     "name": "stdout",
     "output_type": "stream",
     "text": [
      "210865858\r\n"
     ]
    }
   ],
   "source": [
    "!cat $OUT/entity_neighbor_types_trimmed_100.tsv | wc -l"
   ]
  },
  {
   "cell_type": "markdown",
   "metadata": {},
   "source": [
    "Create embeddings in Python"
   ]
  },
  {
   "cell_type": "code",
   "execution_count": 25,
   "metadata": {},
   "outputs": [
    {
     "name": "stdout",
     "output_type": "stream",
     "text": [
      "loaded entity neighbor type counts\n",
      "filling in embeddings...\n",
      "CPU times: user 6min 59s, sys: 1min 15s, total: 8min 15s\n",
      "Wall time: 8min 36s\n"
     ]
    }
   ],
   "source": [
    "%%time\n",
    "neigh_types_df = pd.read_csv(\"{}/entity_neighbor_types_trimmed_100.tsv\".format(output_dir), delimiter = '\\t').fillna(\"\")\n",
    "print(\"loaded entity neighbor type counts\")\n",
    "\n",
    "neigh_types = neigh_types_df.label.unique()\n",
    "entities = neigh_types_df.node1.unique()\n",
    "neigh_type_to_idx = {neigh_types[ix] : ix for ix in range(len(neigh_types))}\n",
    "ent_to_idx = {entities[ix] : ix for ix in range(len(entities))}\n",
    "embeddings = np.zeros((len(entities),len(neigh_type_to_idx)), dtype=np.float32)\n",
    "\n",
    "print(\"filling in embeddings...\")\n",
    "for ent, neigh_type, count in zip(neigh_types_df['node1'], neigh_types_df['label'], neigh_types_df['node2']):\n",
    "    embeddings[ent_to_idx[ent], neigh_type_to_idx[neigh_type]] = count\n",
    "\n",
    "# normalize each dimension\n",
    "# embeddings -= np.nanmin(embeddings,0)\n",
    "# embeddings /= [m if m != 0 else 1 for m in np.nanmax(embeddings,0)]"
   ]
  },
  {
   "cell_type": "code",
   "execution_count": 26,
   "metadata": {},
   "outputs": [
    {
     "data": {
      "text/plain": [
       "39030788"
      ]
     },
     "execution_count": 26,
     "metadata": {},
     "output_type": "execute_result"
    }
   ],
   "source": [
    "len(entities)"
   ]
  },
  {
   "cell_type": "code",
   "execution_count": 27,
   "metadata": {},
   "outputs": [
    {
     "data": {
      "text/plain": [
       "100"
      ]
     },
     "execution_count": 27,
     "metadata": {},
     "output_type": "execute_result"
    }
   ],
   "source": [
    "len(neigh_types)"
   ]
  },
  {
   "cell_type": "code",
   "execution_count": 56,
   "metadata": {},
   "outputs": [
    {
     "name": "stdout",
     "output_type": "stream",
     "text": [
      "CPU times: user 3h 8min 56s, sys: 12min 50s, total: 3h 21min 46s\n",
      "Wall time: 13min 21s\n"
     ]
    }
   ],
   "source": [
    "%%time\n",
    "dim = embeddings.shape[-1]\n",
    "nlist = int(np.sqrt(embeddings.shape[0]))\n",
    "quantizer = faiss.IndexFlatL2(dim)\n",
    "index = faiss.IndexIVFFlat(quantizer, dim, nlist)\n",
    "assert not index.is_trained\n",
    "index.train(embeddings)\n",
    "assert index.is_trained\n",
    "index.add(embeddings)"
   ]
  },
  {
   "cell_type": "code",
   "execution_count": 57,
   "metadata": {
    "scrolled": true
   },
   "outputs": [
    {
     "name": "stdout",
     "output_type": "stream",
     "text": [
      "CPU times: user 1.67 s, sys: 13.4 s, total: 15 s\n",
      "Wall time: 33.3 s\n"
     ]
    }
   ],
   "source": [
    "%time faiss.write_index(index, \"{}/IVFFlat_100.index\".format(output_dir))"
   ]
  },
  {
   "cell_type": "code",
   "execution_count": 28,
   "metadata": {},
   "outputs": [
    {
     "name": "stdout",
     "output_type": "stream",
     "text": [
      "CPU times: user 2.35 s, sys: 19.7 s, total: 22.1 s\n",
      "Wall time: 1min 17s\n"
     ]
    }
   ],
   "source": [
    "%time index = faiss.read_index(\"{}/IVFFlat_100.index\".format(output_dir))"
   ]
  },
  {
   "cell_type": "code",
   "execution_count": 7,
   "metadata": {
    "scrolled": true
   },
   "outputs": [
    {
     "name": "stdout",
     "output_type": "stream",
     "text": [
      "-rw-r--r-- 1 nmklein div22 15G Apr 24 16:26 /data/profiling/kgtk/entity_profiling/output/wikidata-20210215-dwd/S_walks_analysis/IVFFlat_100.index\r\n"
     ]
    }
   ],
   "source": [
    "!ls -lh $OUT/IVFFlat_100.index"
   ]
  },
  {
   "cell_type": "code",
   "execution_count": 40,
   "metadata": {},
   "outputs": [],
   "source": [
    "faiss.omp_set_num_threads(16) # limit cpu usage\n",
    "index.nprobe = 20 # empirically found for 21-nn"
   ]
  },
  {
   "cell_type": "markdown",
   "metadata": {},
   "source": [
    "closest neighbors to Putin"
   ]
  },
  {
   "cell_type": "code",
   "execution_count": 64,
   "metadata": {},
   "outputs": [
    {
     "name": "stdout",
     "output_type": "stream",
     "text": [
      "[[  0. 170. 179. 185. 192. 194. 199. 206. 206. 208. 209. 210. 213. 221.\n",
      "  221. 221. 222. 224. 226. 227. 228.]]\n",
      "['Q7747', 'Q1394', 'Q694826', 'Q855', 'Q79822', 'Q458702', 'Q11860', 'Q4074457', 'Q36740', 'Q567', 'Q86412932', 'Q7315', 'Q15031', 'Q55704', 'Q180589', 'Q208993', 'Q160318', 'Q2514', 'Q36591', 'Q1239291', 'Q310630']\n",
      "CPU times: user 54.3 ms, sys: 4.66 ms, total: 59 ms\n",
      "Wall time: 3.86 ms\n"
     ]
    }
   ],
   "source": [
    "%%time\n",
    "index.nprobe = 20\n",
    "distances, neighbors = index.search(embeddings[[ent_to_idx[\"Q7747\"]]],21)\n",
    "neighbors = [entities[n] for n in neighbors[0]]\n",
    "print(distances)\n",
    "print(neighbors)"
   ]
  },
  {
   "cell_type": "code",
   "execution_count": 13,
   "metadata": {},
   "outputs": [
    {
     "data": {
      "application/vnd.jupyter.widget-view+json": {
       "model_id": "",
       "version_major": 2,
       "version_minor": 0
      },
      "text/plain": [
       "HBox(children=(HTML(value=''), FloatProgress(value=0.0, max=39031.0), HTML(value='')))"
      ]
     },
     "metadata": {},
     "output_type": "display_data"
    },
    {
     "name": "stdout",
     "output_type": "stream",
     "text": [
      "22257\n",
      "\n"
     ]
    }
   ],
   "source": [
    "for i in tqdm(range(num_batches)):\n",
    "    begin = i * batch_size\n",
    "    end = min((i+1)*batch_size, len(embeddings))\n",
    "    search_idxs = list(range(begin,end))\n",
    "    if entities[search_idxs[-1]] not in entity_to_neighs:\n",
    "        print(i)\n",
    "        break"
   ]
  },
  {
   "cell_type": "code",
   "execution_count": 101,
   "metadata": {},
   "outputs": [
    {
     "data": {
      "text/plain": [
       "22257000"
      ]
     },
     "execution_count": 101,
     "metadata": {},
     "output_type": "execute_result"
    }
   ],
   "source": [
    "len(entity_to_neighs)"
   ]
  },
  {
   "cell_type": "code",
   "execution_count": 39,
   "metadata": {},
   "outputs": [
    {
     "data": {
      "application/vnd.jupyter.widget-view+json": {
       "model_id": "08b4a88957444749899cf33968518c46",
       "version_major": 2,
       "version_minor": 0
      },
      "text/plain": [
       "HBox(children=(HTML(value=''), FloatProgress(value=0.0, max=16774.0), HTML(value='')))"
      ]
     },
     "metadata": {},
     "output_type": "display_data"
    },
    {
     "name": "stdout",
     "output_type": "stream",
     "text": [
      "37382\n",
      "\n"
     ]
    }
   ],
   "source": [
    "for i in tqdm(range(22257,num_batches)):\n",
    "    begin = i * batch_size\n",
    "    end = min((i+1)*batch_size, len(embeddings))\n",
    "    search_idxs = list(range(begin,end))\n",
    "    if entities[search_idxs[-1]] not in entity_to_neighs:\n",
    "        print(i)\n",
    "        break"
   ]
  },
  {
   "cell_type": "code",
   "execution_count": 42,
   "metadata": {
    "scrolled": true
   },
   "outputs": [
    {
     "data": {
      "text/plain": [
       "16773788"
      ]
     },
     "execution_count": 42,
     "metadata": {},
     "output_type": "execute_result"
    }
   ],
   "source": [
    "len(entity_to_neighs)"
   ]
  },
  {
   "cell_type": "code",
   "execution_count": 52,
   "metadata": {},
   "outputs": [
    {
     "data": {
      "text/plain": [
       "{1: 2, 2: 3, 4: 2, 5: 3}"
      ]
     },
     "execution_count": 52,
     "metadata": {},
     "output_type": "execute_result"
    }
   ],
   "source": [
    "d1={1:2,2:3}\n",
    "d2={4:2,5:3}\n",
    "d1.update(d2)\n",
    "d1"
   ]
  },
  {
   "cell_type": "code",
   "execution_count": 49,
   "metadata": {},
   "outputs": [],
   "source": [
    "with open(\"{}/entity_to_neighs_dict_0-57%.json\".format(output_dir), 'r') as f:\n",
    "    entity_to_neighs_1 = json.load(f)"
   ]
  },
  {
   "cell_type": "code",
   "execution_count": 51,
   "metadata": {},
   "outputs": [
    {
     "data": {
      "text/plain": [
       "39030788"
      ]
     },
     "execution_count": 51,
     "metadata": {},
     "output_type": "execute_result"
    }
   ],
   "source": [
    "len(entity_to_neighs_1) + len(entity_to_neighs)"
   ]
  },
  {
   "cell_type": "code",
   "execution_count": 54,
   "metadata": {
    "scrolled": true
   },
   "outputs": [
    {
     "data": {
      "text/plain": [
       "39030788"
      ]
     },
     "execution_count": 54,
     "metadata": {},
     "output_type": "execute_result"
    }
   ],
   "source": [
    "len(entity_to_neighs)"
   ]
  },
  {
   "cell_type": "code",
   "execution_count": 53,
   "metadata": {},
   "outputs": [],
   "source": [
    "entity_to_neighs.update(entity_to_neighs_1)"
   ]
  },
  {
   "cell_type": "code",
   "execution_count": null,
   "metadata": {},
   "outputs": [],
   "source": []
  },
  {
   "cell_type": "code",
   "execution_count": 41,
   "metadata": {},
   "outputs": [
    {
     "name": "stdout",
     "output_type": "stream",
     "text": [
      "46 hours to get to 57% with 16 cores, another 43 to get to 77 with 8 cores, another 7.5 to get to 90 with 8 cores...\n"
     ]
    },
    {
     "data": {
      "application/vnd.jupyter.widget-view+json": {
       "model_id": "ed4e8c1785d44264972f3d53d5722742",
       "version_major": 2,
       "version_minor": 0
      },
      "text/plain": [
       "HBox(children=(HTML(value=''), FloatProgress(value=0.0, max=1649.0), HTML(value='')))"
      ]
     },
     "metadata": {},
     "output_type": "display_data"
    },
    {
     "name": "stdout",
     "output_type": "stream",
     "text": [
      "\n",
      "CPU times: user 1d 15h 35min 10s, sys: 1h 31min 21s, total: 1d 17h 6min 31s\n",
      "Wall time: 3h 32min 18s\n"
     ]
    }
   ],
   "source": [
    "%%time\n",
    "print(\"46 hours to get to 57% with 16 cores, another 43 to get to 77 with 8 cores, another 7.5 to get to 90 with 8 cores, another 3.5 with 16 cores to get to 100%\")\n",
    "# entity_to_neighs = dict()\n",
    "\n",
    "index.nprobe = 20\n",
    "k = 21 # number of nearest neighbors to find for each entity (including itself)\n",
    "batch_size = 1000\n",
    "num_batches = math.ceil(len(embeddings) / batch_size)\n",
    "saving_points = [i * (num_batches//10) for i in range(1,10)]\n",
    "\n",
    "for i in tqdm(range(37382,num_batches)):\n",
    "    begin = i * batch_size\n",
    "    end = min((i+1)*batch_size, len(embeddings))\n",
    "    search_idxs = list(range(begin,end))\n",
    "    if entities[search_idxs[-1]] in entity_to_neighs:\n",
    "        continue\n",
    "    distances, neighbors = index.search(embeddings[search_idxs],k)\n",
    "    for j in range(len(search_idxs)):\n",
    "        ent_idx = search_idxs[j]\n",
    "        ent = entities[ent_idx]\n",
    "        nbrs = [entities[nbr_idx] for nbr_idx in neighbors[j] if nbr_idx != ent_idx]\n",
    "        entity_to_neighs[ent] = nbrs\n",
    "    # intermitently save progress\n",
    "    if i in saving_points:\n",
    "        with open(\"{}/entity_to_neighs_dict_57-100%.json\".format(output_dir), 'w') as f:\n",
    "            json.dump(entity_to_neighs, f)\n",
    "    \n",
    "# save at very end\n",
    "with open(\"{}/entity_to_neighs_dict_57-100%.json\".format(output_dir), 'w') as f:\n",
    "    json.dump(entity_to_neighs, f)"
   ]
  },
  {
   "cell_type": "markdown",
   "metadata": {},
   "source": [
    "### 3. Perform the random walks"
   ]
  },
  {
   "cell_type": "code",
   "execution_count": 55,
   "metadata": {},
   "outputs": [],
   "source": [
    "def random_walks_to_file(entity_to_neighs, walks_file, walk_length=10, num_walks=10):\n",
    "    entities = entity_to_neighs.keys()\n",
    "    print(\"num entities to perform walks from: {}\".format(len(entities)))\n",
    "    with open(walks_file, \"w\") as f:\n",
    "        for ent in tqdm(entities):\n",
    "            for i in range(num_walks):\n",
    "                walk = random_walk_from_node(entity_to_neighs, ent, walk_length)\n",
    "                f.write(\"{}\\n\".format(walk))\n",
    "\n",
    "\n",
    "# Returns a string of space separated Q-nodes as a walk\n",
    "def random_walk_from_node(entity_to_neighs, start_ent, walk_length):\n",
    "    walk = start_ent\n",
    "    cur_ent = start_ent\n",
    "    cur_length = 1\n",
    "    while cur_length < walk_length:\n",
    "        next_ent = random.choice(entity_to_neighs[cur_ent])\n",
    "        walk = \"{} {}\".format(walk, next_ent)\n",
    "        cur_ent = next_ent\n",
    "        cur_length += 1\n",
    "    return walk\n",
    "\n",
    "# from functools import lru_cache\n",
    "\n",
    "# @lru_cache(maxsize = 1000000)\n",
    "# def faiss_knn_cached(ent_idx, index, k):\n",
    "#     distances, neighbors = index.search(embeddings[[ent_idx]],k+1)\n",
    "#     return [nbr_idx for nbr_idx in neighbors[0] if nbr_idx != ent_idx]\n",
    "\n",
    "# def random_walks_to_file(index, k, entities, ent_to_idx, walks_file, walk_length=10, num_walks=10):\n",
    "#     print(\"num entities to perform walks from: {}\".format(len(entities)))\n",
    "#     with open(walks_file, \"w\") as f:\n",
    "#         for ent_idx in tqdm(range(len(entities))):\n",
    "#             for i in range(num_walks):\n",
    "#                 walk = random_walk_from_node(index, k, entities, ent_to_idx, ent_idx, walk_length)\n",
    "#                 f.write(\"{}\\n\".format(walk))\n",
    "\n",
    "\n",
    "# # Returns a string of space separated Q-nodes as a walk\n",
    "# def random_walk_from_node(index, k, entities, ent_to_idx, start_ent_idx, walk_length):\n",
    "#     walk = entities[start_ent_idx]\n",
    "#     cur_ent_idx = start_ent_idx\n",
    "#     cur_length = 1\n",
    "#     while cur_length < walk_length:\n",
    "# #         next_ent = random.choice(entity_to_neighs[cur_ent])\n",
    "#         next_ent_idx = random.choice(faiss_knn_cached(cur_ent_idx, index, k))\n",
    "#         walk = \"{} {}\".format(walk, entities[next_ent_idx])\n",
    "#         cur_ent_idx = next_ent_idx\n",
    "#         cur_length += 1\n",
    "#     return walk"
   ]
  },
  {
   "cell_type": "code",
   "execution_count": null,
   "metadata": {},
   "outputs": [],
   "source": [
    "# %%time\n",
    "# faiss_knn_cached.cache_clear()\n",
    "# random_walks_to_file(index, 20, entities, ent_to_idx, walks_file, walk_length, num_walks)"
   ]
  },
  {
   "cell_type": "code",
   "execution_count": 40,
   "metadata": {},
   "outputs": [
    {
     "name": "stdout",
     "output_type": "stream",
     "text": [
      "num entities to perform walks from: 12207186\n"
     ]
    },
    {
     "data": {
      "application/vnd.jupyter.widget-view+json": {
       "model_id": "",
       "version_major": 2,
       "version_minor": 0
      },
      "text/plain": [
       "HBox(children=(HTML(value=''), FloatProgress(value=0.0, max=12207186.0), HTML(value='')))"
      ]
     },
     "metadata": {},
     "output_type": "display_data"
    },
    {
     "name": "stdout",
     "output_type": "stream",
     "text": [
      "\n",
      "CPU times: user 18min 8s, sys: 56.6 s, total: 19min 5s\n",
      "Wall time: 18min 58s\n"
     ]
    }
   ],
   "source": [
    "%%time\n",
    "random_walks_to_file(entity_to_neighs, walks_file, walk_length, num_walks)"
   ]
  },
  {
   "cell_type": "code",
   "execution_count": 57,
   "metadata": {},
   "outputs": [
    {
     "name": "stdout",
     "output_type": "stream",
     "text": [
      "num entities to perform walks from: 39030788\n"
     ]
    },
    {
     "data": {
      "application/vnd.jupyter.widget-view+json": {
       "model_id": "3f827c1dd84e4ffeb62ebacc5367b958",
       "version_major": 2,
       "version_minor": 0
      },
      "text/plain": [
       "HBox(children=(HTML(value=''), FloatProgress(value=0.0, max=39030788.0), HTML(value='')))"
      ]
     },
     "metadata": {},
     "output_type": "display_data"
    },
    {
     "name": "stderr",
     "output_type": "stream",
     "text": [
      "IOPub message rate exceeded.\n",
      "The notebook server will temporarily stop sending output\n",
      "to the client in order to avoid crashing it.\n",
      "To change this limit, set the config variable\n",
      "`--NotebookApp.iopub_msg_rate_limit`.\n",
      "\n",
      "Current values:\n",
      "NotebookApp.iopub_msg_rate_limit=1000.0 (msgs/sec)\n",
      "NotebookApp.rate_limit_window=3.0 (secs)\n",
      "\n",
      "IOPub message rate exceeded.\n",
      "The notebook server will temporarily stop sending output\n",
      "to the client in order to avoid crashing it.\n",
      "To change this limit, set the config variable\n",
      "`--NotebookApp.iopub_msg_rate_limit`.\n",
      "\n",
      "Current values:\n",
      "NotebookApp.iopub_msg_rate_limit=1000.0 (msgs/sec)\n",
      "NotebookApp.rate_limit_window=3.0 (secs)\n",
      "\n",
      "IOPub message rate exceeded.\n",
      "The notebook server will temporarily stop sending output\n",
      "to the client in order to avoid crashing it.\n",
      "To change this limit, set the config variable\n",
      "`--NotebookApp.iopub_msg_rate_limit`.\n",
      "\n",
      "Current values:\n",
      "NotebookApp.iopub_msg_rate_limit=1000.0 (msgs/sec)\n",
      "NotebookApp.rate_limit_window=3.0 (secs)\n",
      "\n"
     ]
    },
    {
     "name": "stdout",
     "output_type": "stream",
     "text": [
      "\n",
      "CPU times: user 49min 15s, sys: 2min 43s, total: 51min 59s\n",
      "Wall time: 51min 45s\n"
     ]
    }
   ],
   "source": [
    "%%time\n",
    "random_walks_to_file(entity_to_neighs, walks_file, walk_length, num_walks)"
   ]
  },
  {
   "cell_type": "markdown",
   "metadata": {},
   "source": [
    "### 4. Let's see what embeddings we learn if we only use this feature\n",
    "Use Skip-Gram model to learn representations for the entities"
   ]
  },
  {
   "cell_type": "code",
   "execution_count": 59,
   "metadata": {},
   "outputs": [
    {
     "name": "stdout",
     "output_type": "stream",
     "text": [
      "390307880 /data/profiling/kgtk/entity_profiling/output/wikidata-20210215-dwd/S_walks_analysis/s_walks.txt\r\n"
     ]
    }
   ],
   "source": [
    "!wc -l /data/profiling/kgtk/entity_profiling/output/wikidata-20210215-dwd/S_walks_analysis/s_walks.txt"
   ]
  },
  {
   "cell_type": "code",
   "execution_count": 247,
   "metadata": {},
   "outputs": [
    {
     "name": "stderr",
     "output_type": "stream",
     "text": [
      "WARNING:gensim.models.base_any2vec:under 10 jobs per worker: consider setting a smaller `batch_words' for smoother alpha decay\n"
     ]
    },
    {
     "name": "stdout",
     "output_type": "stream",
     "text": [
      "CPU times: user 9d 12h 42min 2s, sys: 50min 57s, total: 9d 13h 32min 59s\n",
      "Wall time: 8h 44min 38s\n"
     ]
    }
   ],
   "source": [
    "%%time\n",
    "model = Word2Vec(corpus_file=walks_file, size=representation_size, window=window_size, min_count=0, sg=1, hs=1,\n",
    "                 workers=workers)\n",
    "model.wv.save(\"{}/S_embeddings.kv\".format(output_dir))"
   ]
  },
  {
   "cell_type": "markdown",
   "metadata": {},
   "source": [
    "We want similar entities to have more similar embeddings. This feature aims to capture a measure of structural similarity amongst entities of the same type. Therefore we will compare entities within a type to evaluate the embeddings that are learned with this feature."
   ]
  },
  {
   "cell_type": "code",
   "execution_count": 249,
   "metadata": {
    "scrolled": true
   },
   "outputs": [
    {
     "data": {
      "text/plain": [
       "['Q855',\n",
       " 'Q1394',\n",
       " 'Q36740',\n",
       " 'Q694826',\n",
       " 'Q458702',\n",
       " 'Q23505',\n",
       " 'Q48990',\n",
       " 'Q76',\n",
       " 'Q107441',\n",
       " 'Q567',\n",
       " 'Q454925',\n",
       " 'Q79822',\n",
       " 'Q61064',\n",
       " 'Q6294',\n",
       " 'Q1030228',\n",
       " 'Q83552',\n",
       " 'Q93031',\n",
       " 'Q33391',\n",
       " 'Q135481',\n",
       " 'Q7604']"
      ]
     },
     "execution_count": 249,
     "metadata": {},
     "output_type": "execute_result"
    }
   ],
   "source": [
    "entity_to_neighs[\"Q7747\"]"
   ]
  },
  {
   "cell_type": "code",
   "execution_count": 252,
   "metadata": {},
   "outputs": [
    {
     "data": {
      "text/plain": [
       "[('Q259731', 0.9205145835876465),\n",
       " ('Q48990', 0.9030447602272034),\n",
       " ('Q107441', 0.8978070020675659),\n",
       " ('Q2624201', 0.8975504040718079),\n",
       " ('Q93031', 0.8960544466972351),\n",
       " ('Q21644165', 0.89321368932724),\n",
       " ('Q4491900', 0.8916231989860535),\n",
       " ('Q774872', 0.8908449411392212),\n",
       " ('Q61064', 0.8905149102210999),\n",
       " ('Q855', 0.8889703750610352)]"
      ]
     },
     "execution_count": 252,
     "metadata": {},
     "output_type": "execute_result"
    }
   ],
   "source": [
    "model.wv.most_similar(positive=[\"Q7747\"], topn=10)"
   ]
  },
  {
   "cell_type": "code",
   "execution_count": 18,
   "metadata": {},
   "outputs": [
    {
     "name": "stdout",
     "output_type": "stream",
     "text": [
      "[[  0. 257. 379. 392. 398. 402. 406. 425. 431. 438. 439. 442. 450. 451.\n",
      "  456. 458. 459. 461. 463. 466. 467.]]\n",
      "['Q7747', 'Q855', 'Q1394', 'Q36740', 'Q694826', 'Q458702', 'Q23505', 'Q48990', 'Q76', 'Q107441', 'Q567', 'Q454925', 'Q79822', 'Q61064', 'Q6294', 'Q1030228', 'Q83552', 'Q93031', 'Q33391', 'Q135481', 'Q7604']\n",
      "CPU times: user 2.91 s, sys: 162 ms, total: 3.07 s\n",
      "Wall time: 117 ms\n"
     ]
    }
   ],
   "source": [
    "%%time\n",
    "index.nprobe = 20\n",
    "distances, neighbors = index.search(embeddings[[ent_to_idx[\"Q7747\"]]],21)\n",
    "neighbors = [entities[n] for n in neighbors[0]]\n",
    "print(distances)\n",
    "print(neighbors)"
   ]
  },
  {
   "cell_type": "code",
   "execution_count": 24,
   "metadata": {},
   "outputs": [
    {
     "data": {
      "text/plain": [
       "array([[ 0.,  6.,  2.,  7., 11.,  6.,  1.,  4.,  6.,  2.,  1.,  1.,  1.,\n",
       "        11.,  1.,  1.,  1.,  1.,  1.,  1.,  7.,  0.,  1.,  2.,  0., 12.,\n",
       "         0.,  1.,  0.,  0.,  1.,  2.,  0.,  2.,  0.,  0.,  0.,  0.,  0.,\n",
       "        14.,  0.,  0.,  0.,  2.,  2.,  0.,  0., 11.,  0.,  0.,  0.,  0.,\n",
       "         4.,  0.,  0.,  2.,  0.,  2.,  0.,  0.,  0.,  1.,  0.,  0.,  0.,\n",
       "         0.,  0.,  0.,  6.,  0.,  3.,  2.,  0.,  0.,  0.,  1.,  0.,  0.,\n",
       "         0.,  0.,  0.,  0.,  0.,  0.,  0.,  0.,  0.,  0.,  0.,  0.,  0.,\n",
       "         0.,  0.,  0.,  0.,  0.,  0.,  0.,  0.,  0.],\n",
       "       [ 0.,  1.,  2.,  4.,  5.,  4.,  2.,  1.,  1.,  2.,  0.,  1.,  1.,\n",
       "         9.,  1.,  0.,  0.,  0.,  0.,  1.,  0.,  0.,  0.,  0.,  0.,  3.,\n",
       "         0.,  1.,  0.,  1.,  0.,  2.,  0.,  0.,  0.,  0.,  0.,  0.,  0.,\n",
       "        12.,  0.,  0.,  0.,  0.,  0.,  0.,  0.,  2.,  0.,  0.,  0.,  1.,\n",
       "         5.,  0.,  0.,  6.,  0.,  0.,  0.,  0.,  0.,  0.,  0.,  0.,  0.,\n",
       "         0.,  0.,  0.,  0.,  0.,  0.,  0.,  0.,  0.,  0.,  0.,  0.,  0.,\n",
       "         0.,  0.,  0.,  0.,  0.,  0.,  0.,  0.,  0.,  0.,  0.,  0.,  0.,\n",
       "         0.,  0.,  0.,  0.,  0.,  0.,  0.,  0.,  0.]], dtype=float32)"
      ]
     },
     "execution_count": 24,
     "metadata": {},
     "output_type": "execute_result"
    }
   ],
   "source": [
    "embeddings[[ent_to_idx[\"Q7747\"],ent_to_idx[\"Q48990\"]]]"
   ]
  },
  {
   "cell_type": "code",
   "execution_count": 32,
   "metadata": {},
   "outputs": [
    {
     "data": {
      "text/plain": [
       "'Q5'"
      ]
     },
     "execution_count": 32,
     "metadata": {},
     "output_type": "execute_result"
    }
   ],
   "source": [
    "neigh_types[39]"
   ]
  },
  {
   "cell_type": "markdown",
   "metadata": {},
   "source": [
    "Medvedev (former president and prime minister of Russia) to Putin"
   ]
  },
  {
   "cell_type": "code",
   "execution_count": 254,
   "metadata": {},
   "outputs": [
    {
     "data": {
      "text/plain": [
       "0.43997127"
      ]
     },
     "execution_count": 254,
     "metadata": {},
     "output_type": "execute_result"
    }
   ],
   "source": [
    "model.wv.similarity(\"Q23530\",\"Q7747\")"
   ]
  },
  {
   "cell_type": "markdown",
   "metadata": {},
   "source": [
    "Robin williams to Putin"
   ]
  },
  {
   "cell_type": "code",
   "execution_count": 256,
   "metadata": {},
   "outputs": [
    {
     "data": {
      "text/plain": [
       "0.36006907"
      ]
     },
     "execution_count": 256,
     "metadata": {},
     "output_type": "execute_result"
    }
   ],
   "source": [
    "model.wv.similarity(\"Q83338\",\"Q7747\")"
   ]
  },
  {
   "cell_type": "code",
   "execution_count": 6,
   "metadata": {},
   "outputs": [],
   "source": [
    "from gensim.models import KeyedVectors\n",
    "model = KeyedVectors.load(\"{}/S_embeddings.kv\".format(output_dir))"
   ]
  },
  {
   "cell_type": "markdown",
   "metadata": {},
   "source": [
    "Robin Williams to Spike Lee"
   ]
  },
  {
   "cell_type": "code",
   "execution_count": 8,
   "metadata": {},
   "outputs": [
    {
     "data": {
      "text/plain": [
       "0.28939056"
      ]
     },
     "execution_count": 8,
     "metadata": {},
     "output_type": "execute_result"
    }
   ],
   "source": [
    "model.similarity(\"Q83338\",\"Q51566\")"
   ]
  },
  {
   "cell_type": "code",
   "execution_count": 9,
   "metadata": {},
   "outputs": [
    {
     "data": {
      "text/plain": [
       "0.35379958"
      ]
     },
     "execution_count": 9,
     "metadata": {},
     "output_type": "execute_result"
    }
   ],
   "source": [
    "model.similarity(\"Q83338\",\"Q618352\")"
   ]
  },
  {
   "cell_type": "code",
   "execution_count": null,
   "metadata": {},
   "outputs": [],
   "source": []
  },
  {
   "cell_type": "code",
   "execution_count": 15,
   "metadata": {},
   "outputs": [
    {
     "name": "stdout",
     "output_type": "stream",
     "text": [
      "[[ 0. 45. 46. 47. 52. 53. 55. 57. 59. 64. 64. 65. 65. 66. 66. 69. 69. 70.\n",
      "  72. 72. 73. 74. 74. 74. 74. 74. 76. 76. 77. 77. 79. 79. 79. 80. 81. 81.\n",
      "  82. 82. 83. 83. 85. 85. 85. 86. 86. 86. 86. 87. 87. 87. 87. 87. 87. 87.\n",
      "  88. 88. 88. 89. 89. 90. 90. 90. 90. 90. 91. 91. 92. 92. 92. 92. 92. 92.\n",
      "  93. 93. 93. 93. 93. 93. 93. 94. 94. 94. 94. 94. 94. 94. 95. 95. 95. 95.\n",
      "  95. 95. 95. 95. 95. 96. 96. 96. 96. 96.]]\n",
      "['Q259731', 'Q449538', 'Q372026', 'Q366471', 'Q55038248', 'Q3710025', 'Q4199550', 'Q1980377', 'Q172844', 'Q1973460', 'Q4220628', 'Q34458', 'Q2371003', 'Q302434', 'Q834947', 'Q246497', 'Q4166843', 'Q2023785', 'Q574605', 'Q353451', 'Q1248105', 'Q289727', 'Q2637042', 'Q1384966', 'Q4400066', 'Q363560', 'Q4421420', 'Q65163420', 'Q451319', 'Q339581', 'Q4396201', 'Q450864', 'Q774872', 'Q1387629', 'Q83552', 'Q10132', 'Q481605', 'Q4494036', 'Q3918013', 'Q712412', 'Q3710055', 'Q81244', 'Q1667121', 'Q3918736', 'Q104668', 'Q4143171', 'Q7186', 'Q898722', 'Q4122907', 'Q621113', 'Q350778', 'Q4271346', 'Q929950', 'Q1232555', 'Q159876', 'Q44107', 'Q4261345', 'Q1174945', 'Q2450566', 'Q3960443', 'Q164425', 'Q159430', 'Q92998', 'Q1858557', 'Q907372', 'Q1996028', 'Q561752', 'Q316607', 'Q650171', 'Q4226284', 'Q155759', 'Q448592', 'Q7245023', 'Q901833', 'Q2133711', 'Q334054', 'Q570859', 'Q374205', 'Q183372', 'Q4068462', 'Q80596', 'Q34660', 'Q324968', 'Q4178491', 'Q3710046', 'Q710920', 'Q228584', 'Q152437', 'Q1418239', 'Q57164', 'Q4399120', 'Q709214', 'Q4111987', 'Q221723', 'Q15030', 'Q4214702', 'Q157235', 'Q381315', 'Q957661', 'Q80956']\n",
      "CPU times: user 4.93 s, sys: 252 ms, total: 5.18 s\n",
      "Wall time: 566 ms\n"
     ]
    }
   ],
   "source": [
    "%%time\n",
    "index.nprobe = 100\n",
    "distances, neighbors = index.search(embeddings[[ent_to_idx[\"Q259731\"]]],100)\n",
    "neighbors = [entities[n] for n in neighbors[0]]\n",
    "print(distances)\n",
    "print(neighbors)"
   ]
  }
 ],
 "metadata": {
  "kernelspec": {
   "display_name": "Python 3",
   "language": "python",
   "name": "python3"
  },
  "language_info": {
   "codemirror_mode": {
    "name": "ipython",
    "version": 3
   },
   "file_extension": ".py",
   "mimetype": "text/x-python",
   "name": "python",
   "nbconvert_exporter": "python",
   "pygments_lexer": "ipython3",
   "version": "3.8.5"
  }
 },
 "nbformat": 4,
 "nbformat_minor": 4
}
