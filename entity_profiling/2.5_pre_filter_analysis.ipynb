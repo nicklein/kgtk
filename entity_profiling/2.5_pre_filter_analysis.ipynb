{
 "cells": [
  {
   "cell_type": "markdown",
   "metadata": {},
   "source": [
    "# Pre-Filtering Analysis\n",
    "In this notebook, we will look at the distribution of labels we have, and how many labels we'll be left with for varying filter settings.\n",
    "\n",
    "We'll look at each type of label separately."
   ]
  },
  {
   "cell_type": "markdown",
   "metadata": {},
   "source": [
    "### Pre-requisite steps to run this notebook\n",
    "1. You need to run the candidate_label_creation notebook before this notebook."
   ]
  },
  {
   "cell_type": "code",
   "execution_count": 207,
   "metadata": {},
   "outputs": [
    {
     "name": "stdout",
     "output_type": "stream",
     "text": [
      "The autoreload extension is already loaded. To reload it, use:\n",
      "  %reload_ext autoreload\n"
     ]
    }
   ],
   "source": [
    "%load_ext autoreload\n",
    "%autoreload 2\n",
    "import pandas as pd\n",
    "import os\n",
    "import subprocess\n",
    "import matplotlib.pyplot as plt\n",
    "import numpy as np\n",
    "from utility import rename_cols_and_overwrite_id\n",
    "from utility import run_command\n",
    "from utility import kgtk_to_dataframe\n",
    "from tabulate import tabulate"
   ]
  },
  {
   "cell_type": "markdown",
   "metadata": {},
   "source": [
    "### Parameters\n",
    "**Required**  \n",
    "*work_dir*: path to work_dir that was specified in candidate_label_creation notebook. This should contain a folder called label_creation with files created by the label creation notebook which we will filter in this notebook.  \n",
    "*store_dir*: path to folder containing the sqlite3.db file that we will use for our queries. We will reuse an existing file if there is one in this folder. Otherwise we will create a new one."
   ]
  },
  {
   "cell_type": "code",
   "execution_count": 208,
   "metadata": {
    "tags": [
     "parameters"
    ]
   },
   "outputs": [],
   "source": [
    "# **REQUIRED**\n",
    "work_dir = \"./output/wikidata_humans_v3\"\n",
    "store_dir = \"./output/wikidata_humans_v3/temp\"\n",
    "item_file = \"./data/wikidata_humans/claims.wikibase-item.tsv.gz\"\n",
    "label_file = \"./data/wikidata_humans/labels.en.tsv.gz\""
   ]
  },
  {
   "cell_type": "markdown",
   "metadata": {},
   "source": [
    "### Process params / set up variables"
   ]
  },
  {
   "cell_type": "code",
   "execution_count": 209,
   "metadata": {},
   "outputs": [],
   "source": [
    "# Ensure paths are absolute\n",
    "work_dir = os.path.abspath(work_dir)\n",
    "store_dir = os.path.abspath(store_dir)\n",
    "item_file = os.path.abspath(item_file)\n",
    "label_file = os.path.abspath(label_file)\n",
    "\n",
    "label_creation_dir = \"{}/label_creation\".format(work_dir)\n",
    "    \n",
    "# Create output directory\n",
    "output_dir = \"{}/candidate_filter\".format(work_dir)\n",
    "if not os.path.exists(output_dir):\n",
    "    os.makedirs(output_dir)\n",
    "\n",
    "# adding some environment variables we'll be using frequently\n",
    "os.environ['STORE'] = \"{}/wikidata.sqlite3.db\".format(store_dir)\n",
    "os.environ['OUT'] = output_dir\n",
    "os.environ['IN'] = label_creation_dir\n",
    "os.environ[\"ITEM_FILE\"] = item_file\n",
    "os.environ['LABEL_FILE'] = label_file\n",
    "os.environ['kgtk'] = \"kgtk\" # Need to do this for kgtk to be recognized as a command when passing it through a subprocess call"
   ]
  },
  {
   "cell_type": "markdown",
   "metadata": {},
   "source": [
    "## Compute supports for each kind of label...\n",
    "\n",
    "**AVL - string labels**"
   ]
  },
  {
   "cell_type": "code",
   "execution_count": 210,
   "metadata": {},
   "outputs": [
    {
     "name": "stdout",
     "output_type": "stream",
     "text": [
      "No string labels file found, skipping this step.\n"
     ]
    }
   ],
   "source": [
    "if not os.path.isfile(\"{}/candidate_labels_avl_string.tsv\".format(label_creation_dir)):\n",
    "    print(\"No string labels file found, skipping this step.\")\n",
    "else:\n",
    "    # perform query\n",
    "    command = \"$kgtk query -i $IN/entity_counts_per_type.tsv -i $IN/candidate_labels_avl_string.tsv \\\n",
    "               -o $OUT/candidate_labels_avl_string_supports.tsv \\\n",
    "               --graph-cache $STORE \\\n",
    "               --match 'candidate: (type)-[l1 {label:prop, positives:pos, property_label:lab}]->(val), counts_per_type: (type)-[]->(count)' \\\n",
    "               --return 'type as type, prop as prop, lab as prop_label, val as val, pos as positives, kgtk_quantity_number_float(pos)/kgtk_quantity_number(count) as support, \\\"_\\\" as id' \\\n",
    "               --order-by 'kgtk_quantity_number_float(pos)/kgtk_quantity_number(count)'\"\n",
    "    run_command(command)\n",
    "    # reformat columns to be in KGTK format\n",
    "    rename_cols_and_overwrite_id(\"$OUT/candidate_labels_avl_string_supports\", \".tsv\", \"type prop val\", \"node1 label node2\")"
   ]
  },
  {
   "cell_type": "markdown",
   "metadata": {},
   "source": [
    "**AVL - time.year labels**"
   ]
  },
  {
   "cell_type": "code",
   "execution_count": 211,
   "metadata": {},
   "outputs": [],
   "source": [
    "!kgtk query -i $IN/entity_counts_per_type.tsv -i $IN/candidate_labels_avl_time.year.tsv \\\n",
    "-o $OUT/candidate_labels_avl_time.year_supports.tsv \\\n",
    "--graph-cache $STORE \\\n",
    "--match 'candidate: (type)-[l1 {label:prop, positives:pos, property_label:lab}]->(val), counts_per_type: (type)-[]->(count)' \\\n",
    "--return 'type as type, prop as prop, lab as prop_label, val as val, pos as positives, kgtk_quantity_number_float(pos)/kgtk_quantity_number(count) as support, \"_\" as id' \\\n",
    "--order-by 'kgtk_quantity_number_float(pos)/kgtk_quantity_number(count)'"
   ]
  },
  {
   "cell_type": "code",
   "execution_count": 212,
   "metadata": {},
   "outputs": [],
   "source": [
    "rename_cols_and_overwrite_id(\"$OUT/candidate_labels_avl_time.year_supports\", \".tsv\", \"type prop val\", \"node1 label node2\")"
   ]
  },
  {
   "cell_type": "markdown",
   "metadata": {},
   "source": [
    "**AVL - quantity labels**"
   ]
  },
  {
   "cell_type": "code",
   "execution_count": 213,
   "metadata": {},
   "outputs": [],
   "source": [
    "!kgtk query -i $IN/entity_counts_per_type.tsv -i $IN/candidate_labels_avl_quantity.tsv \\\n",
    "-o $OUT/candidate_labels_avl_quantity_supports.tsv \\\n",
    "--graph-cache $STORE \\\n",
    "--match 'candidate: (type)-[l1 {label:prop, positives:pos, property_label:lab, si_units:si, wd_units:wd}]->(val), counts_per_type: (type)-[]->(count)' \\\n",
    "--return 'type as type, prop as prop, lab as prop_label, val as val, pos as positives, kgtk_quantity_number_float(pos)/kgtk_quantity_number(count) as support, si as si_units, wd as wd_units, \"_\" as id' \\\n",
    "--order-by 'kgtk_quantity_number_float(pos)/kgtk_quantity_number(count)'"
   ]
  },
  {
   "cell_type": "code",
   "execution_count": 214,
   "metadata": {},
   "outputs": [],
   "source": [
    "rename_cols_and_overwrite_id(\"$OUT/candidate_labels_avl_quantity_supports\", \".tsv\", \"type prop val\", \"node1 label node2\")"
   ]
  },
  {
   "cell_type": "markdown",
   "metadata": {},
   "source": [
    "**RELs**"
   ]
  },
  {
   "cell_type": "code",
   "execution_count": 215,
   "metadata": {},
   "outputs": [],
   "source": [
    "!kgtk query -i $IN/entity_counts_per_type.tsv -i $IN/candidate_labels_rel_item.tsv -i $LABEL_FILE \\\n",
    "-o $OUT/candidate_labels_rel_item_supports.tsv \\\n",
    "--graph-cache $STORE \\\n",
    "--match 'candidate: (type)-[l1 {label:prop, positives:pos, property_label:lab}]->(val), counts_per_type: (type)-[]->(count), `'\"$LABEL_FILE\"'`: (val)-[:label]->(val_lab)' \\\n",
    "--return 'type as type, prop as prop, lab as prop_label, val as val, val_lab as val_label, pos as positives, kgtk_quantity_number_float(pos)/kgtk_quantity_number(count) as support, \"_\" as id' \\\n",
    "--order-by 'kgtk_quantity_number_float(pos)/kgtk_quantity_number(count)' \\\n",
    "--where 'val_lab.kgtk_lqstring_lang_suffix = \"en\"'"
   ]
  },
  {
   "cell_type": "code",
   "execution_count": 216,
   "metadata": {},
   "outputs": [],
   "source": [
    "rename_cols_and_overwrite_id(\"$OUT/candidate_labels_rel_item_supports\", \".tsv\", \"type prop val\", \"node1 label node2\")"
   ]
  },
  {
   "cell_type": "markdown",
   "metadata": {},
   "source": [
    "**RALs - non-bucketed**"
   ]
  },
  {
   "cell_type": "code",
   "execution_count": 217,
   "metadata": {},
   "outputs": [],
   "source": [
    "!kgtk query -i $IN/entity_counts_per_type.tsv -i $IN/candidate_labels_ravl.tsv -i $LABEL_FILE \\\n",
    "-o $OUT/candidate_labels_ravl_supports.tsv \\\n",
    "--graph-cache $STORE \\\n",
    "--match 'candidate: (type1)-[l1 {label:prop1, prop2:prop2, positives:pos, prop2_label:prop2_lab, value:val, si_units:si, wd_units:wd}]->(type2), counts_per_type: (type1)-[]->(count), `'\"$LABEL_FILE\"'`: (type1)-[:label]->(type1_lab), `'\"$LABEL_FILE\"'`: (prop1)-[:label]->(prop1_lab), `'\"$LABEL_FILE\"'`: (type2)-[:label]->(type2_lab)' \\\n",
    "--return 'type1 as type1, prop1 as prop1, prop1_lab as prop1_label, type2 as type2, type2_lab as type2_label, prop2 as prop2, prop2_lab as prop2_label, val as val, pos as positives, kgtk_quantity_number_float(pos)/kgtk_quantity_number(count) as support, si as si_units, wd as wd_units, \"_\" as id' \\\n",
    "--order-by 'kgtk_quantity_number_float(pos)/kgtk_quantity_number(count)' \\\n",
    "--where 'prop1_lab.kgtk_lqstring_lang_suffix = \"en\" AND type2_lab.kgtk_lqstring_lang_suffix = \"en\" AND prop2_lab.kgtk_lqstring_lang_suffix = \"en\"'"
   ]
  },
  {
   "cell_type": "code",
   "execution_count": 218,
   "metadata": {},
   "outputs": [],
   "source": [
    "rename_cols_and_overwrite_id(\"$OUT/candidate_labels_ravl_supports\", \".tsv\", \"type1 prop1 type2\", \"node1 label node2\")"
   ]
  },
  {
   "cell_type": "markdown",
   "metadata": {},
   "source": [
    "**RALs - bucketed**"
   ]
  },
  {
   "cell_type": "code",
   "execution_count": 219,
   "metadata": {},
   "outputs": [],
   "source": [
    "!kgtk query -i $IN/entity_counts_per_type.tsv -i $IN/candidate_labels_rail.tsv -i $LABEL_FILE\\\n",
    "-o $OUT/candidate_labels_rail_supports.tsv \\\n",
    "--graph-cache $STORE \\\n",
    "--match 'candidate: (type1)-[l1 {label:prop1, prop2:prop2, positives:pos, prop2_label:prop2_lab, lower_bound:lb, upper_bound:ub, si_units:si, wd_units:wd}]->(type2), counts_per_type: (type1)-[]->(count), `'\"$LABEL_FILE\"'`: (type1)-[:label]->(type1_lab), `'\"$LABEL_FILE\"'`: (prop1)-[:label]->(prop1_lab), `'\"$LABEL_FILE\"'`: (type2)-[:label]->(type2_lab)' \\\n",
    "--return 'type1 as type1, prop1 as prop1, prop1_lab as prop1_label, type2 as type2, type2_lab as type2_label, prop2 as prop2, prop2_lab as prop2_label, lb as lower_bound, ub as upper_bound, pos as positives, kgtk_quantity_number_float(pos)/kgtk_quantity_number(count) as support, si as si_units, wd as wd_units, \"_\" as id' \\\n",
    "--order-by 'kgtk_quantity_number_float(pos)/kgtk_quantity_number(count)' \\\n",
    "--where 'prop1_lab.kgtk_lqstring_lang_suffix = \"en\" AND type2_lab.kgtk_lqstring_lang_suffix = \"en\" AND prop2_lab.kgtk_lqstring_lang_suffix = \"en\"'"
   ]
  },
  {
   "cell_type": "code",
   "execution_count": 220,
   "metadata": {},
   "outputs": [],
   "source": [
    "rename_cols_and_overwrite_id(\"$OUT/candidate_labels_rail_supports\", \".tsv\", \"type1 prop1 type2\", \"node1 label node2\")"
   ]
  },
  {
   "cell_type": "markdown",
   "metadata": {},
   "source": [
    "**AIL - time.year**"
   ]
  },
  {
   "cell_type": "code",
   "execution_count": 221,
   "metadata": {},
   "outputs": [],
   "source": [
    "!kgtk query -i $IN/entity_counts_per_type.tsv -i $IN/candidate_labels_ail_time.year.tsv \\\n",
    "-o $OUT/candidate_labels_ail_time.year_supports.tsv \\\n",
    "--graph-cache $STORE \\\n",
    "--match 'candidate: (type)-[l1 {label:prop, upper_bound:ub, positives:pos, property_label:lab}]->(lb), counts_per_type: (type)-[]->(count)' \\\n",
    "--return 'type as type, prop as prop, lab as prop_label, lb as lower_bound, ub as upper_bound, pos as positives, kgtk_quantity_number_float(pos)/kgtk_quantity_number(count) as support, \"_\" as id' \\\n",
    "--order-by 'kgtk_quantity_number_float(pos)/kgtk_quantity_number(count)'"
   ]
  },
  {
   "cell_type": "code",
   "execution_count": 222,
   "metadata": {},
   "outputs": [],
   "source": [
    "rename_cols_and_overwrite_id(\"$OUT/candidate_labels_ail_time.year_supports\", \".tsv\", \"type prop lower_bound\", \"node1 label node2\")"
   ]
  },
  {
   "cell_type": "markdown",
   "metadata": {},
   "source": [
    "**AIL - Quantity**"
   ]
  },
  {
   "cell_type": "code",
   "execution_count": 223,
   "metadata": {},
   "outputs": [],
   "source": [
    "!kgtk query -i $IN/entity_counts_per_type.tsv -i $IN/candidate_labels_ail_quantity.tsv \\\n",
    "-o $OUT/candidate_labels_ail_quantity_supports.tsv \\\n",
    "--graph-cache $STORE \\\n",
    "--match 'candidate: (type)-[l1 {label:prop, si_units:si, wd_units:wd, upper_bound:ub, positives:pos, property_label:lab}]->(lb), counts_per_type: (type)-[]->(count)' \\\n",
    "--return 'type as type, prop as prop, lab as prop_label, si as si_units, wd as wd_units, lb as lower_bound, ub as upper_bound, pos as positives, kgtk_quantity_number_float(pos)/kgtk_quantity_number(count) as support, \"_\" as id' \\\n",
    "--order-by 'kgtk_quantity_number_float(pos)/kgtk_quantity_number(count)'"
   ]
  },
  {
   "cell_type": "code",
   "execution_count": 224,
   "metadata": {},
   "outputs": [],
   "source": [
    "rename_cols_and_overwrite_id(\"$OUT/candidate_labels_ail_quantity_supports\", \".tsv\", \"type prop lower_bound\", \"node1 label node2\")"
   ]
  },
  {
   "cell_type": "code",
   "execution_count": 225,
   "metadata": {},
   "outputs": [],
   "source": [
    "avl_string_supports_file = \"{}/candidate_labels_avl_string_supports.tsv\".format(output_dir)\n",
    "avl_year_supports_file = \"{}/candidate_labels_avl_time.year_supports.tsv\".format(output_dir)\n",
    "avl_quantity_supports_file = \"{}/candidate_labels_avl_quantity_supports.tsv\".format(output_dir)\n",
    "rel_supports_file = \"{}/candidate_labels_rel_item_supports.tsv\".format(output_dir)\n",
    "ral_supports_file = \"{}/candidate_labels_ravl_supports.tsv\".format(output_dir)\n",
    "rail_supports_file = \"{}/candidate_labels_rail_supports.tsv\".format(output_dir)\n",
    "ail_year_supports_file = \"{}/candidate_labels_ail_time.year_supports.tsv\".format(output_dir)\n",
    "ail_quantity_supports_file = \"{}/candidate_labels_ail_quantity_supports.tsv\".format(output_dir)"
   ]
  },
  {
   "cell_type": "markdown",
   "metadata": {},
   "source": [
    "## Investigate distribution of supports as well as number of labels for various filter bounds"
   ]
  },
  {
   "cell_type": "code",
   "execution_count": 226,
   "metadata": {},
   "outputs": [],
   "source": [
    "def print_num_labels_for_filter_bounds(support_file, ent_type=None, lbounds=[.1], ubounds=[.9],\n",
    "                                       custom_bins=None, logscale=False, entity_to_label_id_df=None,\n",
    "                                       inbound_file=None):\n",
    "    df = pd.read_csv(support_file, delimiter = '\\t')\n",
    "    if ent_type is not None:\n",
    "        df = df.loc[df.loc[:,\"node1\"] == ent_type]\n",
    "    \n",
    "    supports = df.loc[:,\"support\"]\n",
    "    \n",
    "    if custom_bins is not None:\n",
    "        bins = custom_bins\n",
    "    else:\n",
    "        bins = np.arange(0,1.01,.02)\n",
    "    plt.hist(supports, bins = bins)\n",
    "    plt.title(\"Distribution of Label Supports\")\n",
    "    plt.xlabel(\"Label Support\")\n",
    "    plt.ylabel(\"Number of Labels\")\n",
    "    if logscale:\n",
    "        plt.yscale('log')\n",
    "    plt.show()\n",
    "    \n",
    "    if ent_type is not None:\n",
    "        print(\"Looking at labels for type: {}\".format(ent_type))\n",
    "        num_ents = int(df.loc[df.index[0], \"positives\"] / df.loc[df.index[0], \"support\"])\n",
    "        print(\"Num ents of this type: {}\".format(num_ents))\n",
    "    print(\"Total labels: {}\".format(len(supports)))\n",
    "    if entity_to_label_id_df is not None:\n",
    "        print(\"Total num ents these labels are applicable to: {}\".format(len(set(entity_to_label_id_df.loc[:,\"entity\"]))))\n",
    "    \n",
    "    headers=[\"lower bounds:\"]\n",
    "    for lbound in lbounds:\n",
    "        headers.append(lbound)\n",
    "    for ubound in ubounds:\n",
    "        print(\"\\nFor upper bound = {}...\".format(ubound))\n",
    "        \n",
    "        count_inbound_row=[\"# labels in bounds:\"]\n",
    "        if \"prop2\" in df.columns:\n",
    "            count_1_props_row=[\"# unique 1st props:\"]\n",
    "            count_2_props_row=[\"# unique 2 prop paths:\"]\n",
    "        else:\n",
    "            count_1_props_row=[\"# unique props:\"]\n",
    "        if entity_to_label_id_df is not None:\n",
    "            applic_ents=[\"# applicable ents:\"]\n",
    "            mean_per_ent=[\"avg #labels/applic-ent:\"]\n",
    "            std_per_ent=[\"std #labels/applic-ent:\"]\n",
    "            min_per_ent=[\"min #labels/applic-ent:\"]\n",
    "            pct25_per_ent=[\"25% #labels/applic-ent:\"]\n",
    "            pct50_per_ent=[\"50% #labels/applic-ent:\"]\n",
    "            pct75_per_ent=[\"75% #labels/applic-ent:\"]\n",
    "            max_per_ent=[\"max #labels/applic-ent:\"]\n",
    "        \n",
    "        for lbound in lbounds:\n",
    "            inbound_mask = ((supports >= lbound) & (supports <= ubound))\n",
    "            inbound_df = df.loc[inbound_mask]\n",
    "            \n",
    "            if lbound == min(lbounds) and inbound_file is not None:\n",
    "                inbound_df.to_csv(path_or_buf = inbound_file, index = False, sep = '\\t')\n",
    "            \n",
    "            count_inbound_row.append(len(inbound_df))\n",
    "            \n",
    "            inbound_1_prop_counts = inbound_df.groupby([\"label\"]).agg(\"count\")\n",
    "            count_1_props_row.append(len(inbound_1_prop_counts))\n",
    "            if \"prop2\" in df.columns:\n",
    "                inbound_2_prop_counts = inbound_df.groupby([\"label\",\"prop2\"]).agg(\"count\")\n",
    "                count_2_props_row.append(len(inbound_2_prop_counts))\n",
    "            \n",
    "            if entity_to_label_id_df is not None:\n",
    "                inbound_ids = set(inbound_df.loc[:,\"id\"])\n",
    "                applic_ent_to_label = entity_to_label_id_df.loc[entity_to_label_id_df.loc[:,\"support_file_label_id\"].isin(inbound_ids),:]\n",
    "                ent_to_label_count_df = applic_ent_to_label.groupby([\"entity\"]).agg(\"count\")\n",
    "                stats = ent_to_label_count_df.describe()\n",
    "                applic_ents.append(stats.loc[\"count\",\"support_file_label_id\"])\n",
    "                mean_per_ent.append(stats.loc[\"mean\",\"support_file_label_id\"])\n",
    "                std_per_ent.append(stats.loc[\"std\",\"support_file_label_id\"])\n",
    "                min_per_ent.append(stats.loc[\"min\",\"support_file_label_id\"])\n",
    "                pct25_per_ent.append(stats.loc[\"25%\",\"support_file_label_id\"])\n",
    "                pct50_per_ent.append(stats.loc[\"50%\",\"support_file_label_id\"])\n",
    "                pct75_per_ent.append(stats.loc[\"75%\",\"support_file_label_id\"])\n",
    "                max_per_ent.append(stats.loc[\"max\",\"support_file_label_id\"])\n",
    "        rows=[count_inbound_row,\n",
    "              count_1_props_row]\n",
    "        if \"prop2\" in df.columns:\n",
    "            rows.append(count_2_props_row)\n",
    "        if entity_to_label_id_df is not None:\n",
    "            rows.extend([applic_ents,\n",
    "                          mean_per_ent,\n",
    "                          std_per_ent,\n",
    "                          min_per_ent,\n",
    "                          pct25_per_ent,\n",
    "                          pct50_per_ent,\n",
    "                          pct75_per_ent,\n",
    "                          max_per_ent])\n",
    "        print(tabulate(rows, headers=headers))"
   ]
  },
  {
   "cell_type": "markdown",
   "metadata": {},
   "source": [
    "**AVL - string labels**"
   ]
  },
  {
   "cell_type": "code",
   "execution_count": 227,
   "metadata": {},
   "outputs": [
    {
     "name": "stdout",
     "output_type": "stream",
     "text": [
      "No string labels file found, skipping this step.\n"
     ]
    }
   ],
   "source": [
    "if not os.path.isfile(avl_string_supports_file):\n",
    "    print(\"No string labels file found, skipping this step.\")\n",
    "else:\n",
    "    print_num_labels_for_filter_bounds(avl_string_supports_file, ent_type='Q5', lbounds=[.1,.03,.01])"
   ]
  },
  {
   "cell_type": "markdown",
   "metadata": {},
   "source": [
    "**AVL - time.year labels**"
   ]
  },
  {
   "cell_type": "code",
   "execution_count": 228,
   "metadata": {},
   "outputs": [],
   "source": [
    "os.environ[\"SUP_FILE\"] = avl_year_supports_file\n",
    "os.environ[\"TYPE\"] = \"Q5\"\n",
    "!kgtk query -i $SUP_FILE -o $OUT/temp_supp_file.tsv\\\n",
    "--graph-cache $STORE \\\n",
    "--match 'support: (t:`'\"$TYPE\"'`)-[l2 {label:p}]->(val)' \\\n",
    "--return 'distinct t as node1, p as label, val as node2, l2 as id'"
   ]
  },
  {
   "cell_type": "code",
   "execution_count": 229,
   "metadata": {},
   "outputs": [],
   "source": [
    "res = !kgtk query -i $OUT/temp_supp_file.tsv -i $IN/entity_attribute_labels_time.year.tsv \\\n",
    "--graph-cache $STORE \\\n",
    "--match 'entity: (t:`'\"$TYPE\"'`)-[l1 {label:p, property_label:lab, entity:e}]->(val), supp: ()-[l2 {label:p}]->(val)' \\\n",
    "--return 'distinct e as entity, l2 as support_file_label_id' \\\n",
    "--order-by 'e'\n",
    "res_df = kgtk_to_dataframe(res)"
   ]
  },
  {
   "cell_type": "code",
   "execution_count": 230,
   "metadata": {},
   "outputs": [
    {
     "data": {
      "image/png": "[encoded data removed]",
      "text/plain": [
       "<Figure size 432x288 with 1 Axes>"
      ]
     },
     "metadata": {
      "needs_background": "light"
     },
     "output_type": "display_data"
    },
    {
     "name": "stdout",
     "output_type": "stream",
     "text": [
      "Looking at labels for type: Q5\n",
      "Num ents of this type: 7958973\n",
      "Total labels: 10301\n",
      "Total num ents these labels are applicable to: 4419871\n",
      "\n",
      "For upper bound = 0.9...\n",
      "lower bounds:              0.1    0.03    0.01         0.003         0.001         0.0003         0.0001\n",
      "-----------------------  -----  ------  ------  ------------  ------------  -------------  -------------\n",
      "# labels in bounds:          0       0       0  71            249           479            854\n",
      "# unique props:              0       0       0   1              2             3              3\n",
      "# applicable ents:           0       0       0   2.29076e+06    3.5566e+06    4.03031e+06    4.26303e+06\n",
      "avg #labels/applic-ent:    nan     nan     nan   1.00371        1.34974       1.45008        1.47916\n",
      "std #labels/applic-ent:    nan     nan     nan   0.0612166      0.482819      0.507875       0.521426\n",
      "min #labels/applic-ent:    nan     nan     nan   1              1             1              1\n",
      "25% #labels/applic-ent:    nan     nan     nan   1              1             1              1\n",
      "50% #labels/applic-ent:    nan     nan     nan   1              1             1              1\n",
      "75% #labels/applic-ent:    nan     nan     nan   1              2             2              2\n",
      "max #labels/applic-ent:    nan     nan     nan   3             10            12             12\n"
     ]
    }
   ],
   "source": [
    "inbound_file=\"{}/inbound_label_analysis_Q5_avl_year.tsv\".format(output_dir)\n",
    "\n",
    "print_num_labels_for_filter_bounds(avl_year_supports_file, ent_type='Q5',\n",
    "                                   lbounds=[.1,.03,.01,.003, .001,.0003,.0001],\n",
    "                                   custom_bins=np.arange(0,.01,.0001), logscale=True,\n",
    "                                   entity_to_label_id_df=res_df,\n",
    "                                   inbound_file=inbound_file)\n"
   ]
  },
  {
   "cell_type": "markdown",
   "metadata": {},
   "source": [
    "**AVL - quantity labels**"
   ]
  },
  {
   "cell_type": "code",
   "execution_count": 231,
   "metadata": {},
   "outputs": [],
   "source": [
    "os.environ[\"SUP_FILE\"] = avl_quantity_supports_file\n",
    "os.environ[\"TYPE\"] = \"Q5\"\n",
    "!kgtk query -i $SUP_FILE -o $OUT/temp_supp_file.tsv\\\n",
    "--graph-cache $STORE \\\n",
    "--match 'support: (t:`'\"$TYPE\"'`)-[l2 {label:p, si_units:si, wd_units:wd}]->(val)' \\\n",
    "--return 'distinct t as node1, p as label, si as si_units, wd as wd_units, val as node2, l2 as id'"
   ]
  },
  {
   "cell_type": "code",
   "execution_count": 232,
   "metadata": {},
   "outputs": [],
   "source": [
    "res = !kgtk query -i $OUT/temp_supp_file.tsv -i $IN/entity_attribute_labels_quantity.tsv \\\n",
    "--graph-cache $STORE \\\n",
    "--match 'entity: (t:`'\"$TYPE\"'`)-[l1 {label:p, property_label:lab, entity:e, si_units:si, wd_units:wd}]->(val), supp: ()-[l2 {label:p, si_units:si, wd_units:wd}]->(val)' \\\n",
    "--return 'distinct e as entity, l2 as support_file_label_id' \\\n",
    "--order-by 'e'\n",
    "res_df = kgtk_to_dataframe(res)"
   ]
  },
  {
   "cell_type": "code",
   "execution_count": 233,
   "metadata": {
    "scrolled": false
   },
   "outputs": [
    {
     "data": {
      "image/png": "[encoded data removed]",
      "text/plain": [
       "<Figure size 432x288 with 1 Axes>"
      ]
     },
     "metadata": {
      "needs_background": "light"
     },
     "output_type": "display_data"
    },
    {
     "name": "stdout",
     "output_type": "stream",
     "text": [
      "Looking at labels for type: Q5\n",
      "Num ents of this type: 7958973\n",
      "Total labels: 11971\n",
      "Total num ents these labels are applicable to: 216994\n",
      "\n",
      "For upper bound = 0.9...\n",
      "lower bounds:              0.1    0.03    0.01    0.003    0.001         0.0003         0.0001\n",
      "-----------------------  -----  ------  ------  -------  -------  -------------  -------------\n",
      "# labels in bounds:          0       0       0        0        1      37            108\n",
      "# unique props:              0       0       0        0        1       3              7\n",
      "# applicable ents:           0       0       0        0     8646  112360         164780\n",
      "avg #labels/applic-ent:    nan     nan     nan      nan        1       1.27956        1.46241\n",
      "std #labels/applic-ent:    nan     nan     nan      nan        0       0.460857       0.541989\n",
      "min #labels/applic-ent:    nan     nan     nan      nan        1       1              1\n",
      "25% #labels/applic-ent:    nan     nan     nan      nan        1       1              1\n",
      "50% #labels/applic-ent:    nan     nan     nan      nan        1       1              1\n",
      "75% #labels/applic-ent:    nan     nan     nan      nan        1       2              2\n",
      "max #labels/applic-ent:    nan     nan     nan      nan        1       4              5\n"
     ]
    }
   ],
   "source": [
    "inbound_file=\"{}/inbound_label_analysis_Q5_avl_quantity.tsv\".format(output_dir)\n",
    "\n",
    "print_num_labels_for_filter_bounds(avl_quantity_supports_file, ent_type='Q5',\n",
    "                                   lbounds=[.1,.03,.01,.003, .001,.0003,.0001],\n",
    "                                   custom_bins=np.arange(0,.01,.0001), logscale=True,\n",
    "                                   entity_to_label_id_df=res_df,\n",
    "                                   inbound_file=inbound_file)"
   ]
  },
  {
   "cell_type": "markdown",
   "metadata": {},
   "source": [
    "**AIL - time.year**"
   ]
  },
  {
   "cell_type": "code",
   "execution_count": 234,
   "metadata": {},
   "outputs": [
    {
     "data": {
      "image/png": "[encoded data removed]",
      "text/plain": [
       "<Figure size 432x288 with 1 Axes>"
      ]
     },
     "metadata": {
      "needs_background": "light"
     },
     "output_type": "display_data"
    },
    {
     "name": "stdout",
     "output_type": "stream",
     "text": [
      "Looking at labels for type: Q5\n",
      "Num ents of this type: 7958973\n",
      "Total labels: 1915\n",
      "\n",
      "For upper bound = 0.9...\n",
      "lower bounds:          0.1    0.03    0.01    0.003    0.001    0.0003    0.0001\n",
      "-------------------  -----  ------  ------  -------  -------  --------  --------\n",
      "# labels in bounds:      0       7      25       48       87       123       183\n",
      "# unique props:          0       1       2        3        3         4         5\n"
     ]
    }
   ],
   "source": [
    "inbound_file=\"{}/inbound_label_analysis_Q5_ail_year.tsv\".format(output_dir)\n",
    "    \n",
    "print_num_labels_for_filter_bounds(ail_year_supports_file, ent_type='Q5',\n",
    "                                   lbounds=[.1,.03,.01,.003, .001,.0003,.0001],\n",
    "                                   custom_bins=np.arange(0,.01,.0001), logscale=True,\n",
    "                                   inbound_file=inbound_file)"
   ]
  },
  {
   "cell_type": "markdown",
   "metadata": {},
   "source": [
    "**AIL - Quantity**"
   ]
  },
  {
   "cell_type": "code",
   "execution_count": 235,
   "metadata": {},
   "outputs": [
    {
     "data": {
      "image/png": "[encoded data removed]",
      "text/plain": [
       "<Figure size 432x288 with 1 Axes>"
      ]
     },
     "metadata": {
      "needs_background": "light"
     },
     "output_type": "display_data"
    },
    {
     "name": "stdout",
     "output_type": "stream",
     "text": [
      "Looking at labels for type: Q5\n",
      "Num ents of this type: 7958973\n",
      "Total labels: 318\n",
      "\n",
      "For upper bound = 0.9...\n",
      "lower bounds:          0.1    0.03    0.01    0.003    0.001    0.0003    0.0001\n",
      "-------------------  -----  ------  ------  -------  -------  --------  --------\n",
      "# labels in bounds:      0       0       0        4       12        29        66\n",
      "# unique props:          0       0       0        1        3         4        12\n"
     ]
    }
   ],
   "source": [
    "inbound_file=\"{}/inbound_label_analysis_Q5_ail_quantity.tsv\".format(output_dir)\n",
    "\n",
    "print_num_labels_for_filter_bounds(ail_quantity_supports_file, ent_type='Q5',\n",
    "                                   lbounds=[.1,.03,.01,.003, .001,.0003,.0001],\n",
    "                                   custom_bins=np.arange(0,.01,.0001), logscale=True,\n",
    "                                   inbound_file=inbound_file)"
   ]
  },
  {
   "cell_type": "markdown",
   "metadata": {},
   "source": [
    "**RELs**"
   ]
  },
  {
   "cell_type": "code",
   "execution_count": 236,
   "metadata": {},
   "outputs": [],
   "source": [
    "os.environ[\"SUP_FILE\"] = rel_supports_file\n",
    "os.environ[\"TYPE\"] = \"Q5\"\n",
    "!kgtk query -i $SUP_FILE -o $OUT/temp_supp_file.tsv\\\n",
    "--graph-cache $STORE \\\n",
    "--match 'support: (t:`'\"$TYPE\"'`)-[l2 {label:p}]->(val)' \\\n",
    "--return 'distinct t as node1, p as label, val as node2, l2 as id'"
   ]
  },
  {
   "cell_type": "code",
   "execution_count": 237,
   "metadata": {},
   "outputs": [],
   "source": [
    "res = !kgtk query -i $OUT/temp_supp_file.tsv -i $ITEM_FILE -i $IN/type_mapping.tsv \\\n",
    "--graph-cache $STORE \\\n",
    "--match 'item: (e)-[l1 {label:p}]->(val), type_mapping: (e)-[]->(t:`'\"$TYPE\"'`), supp: ()-[l2 {label:p}]->(val)' \\\n",
    "--return 'distinct e as entity, l2 as support_file_label_id' \\\n",
    "--order-by 'e'\n",
    "res_df = kgtk_to_dataframe(res)"
   ]
  },
  {
   "cell_type": "code",
   "execution_count": 238,
   "metadata": {},
   "outputs": [
    {
     "data": {
      "image/png": "[encoded data removed]",
      "text/plain": [
       "<Figure size 432x288 with 1 Axes>"
      ]
     },
     "metadata": {
      "needs_background": "light"
     },
     "output_type": "display_data"
    },
    {
     "name": "stdout",
     "output_type": "stream",
     "text": [
      "Looking at labels for type: Q5\n",
      "Num ents of this type: 7958973\n",
      "Total labels: 3804856\n",
      "Total num ents these labels are applicable to: 7958973\n",
      "\n",
      "For upper bound = 0.9...\n",
      "lower bounds:                  0.1          0.03          0.01          0.003          0.001          0.0003\n",
      "-----------------------  ---------  ------------  ------------  -------------  -------------  --------------\n",
      "# labels in bounds:      3          10            33            141            449            1552\n",
      "# unique props:          2           4            10             24             42              60\n",
      "# applicable ents:       7.392e+06   7.41170e+06   7.45763e+06    7.54492e+06    7.61565e+06     7.70788e+06\n",
      "avg #labels/applic-ent:  1.03489     1.3341        1.70622        2.28887        2.79873         3.34169\n",
      "std #labels/applic-ent:  0.183512    0.595948      1.02313        1.48566        1.87746         2.33968\n",
      "min #labels/applic-ent:  1           1             1              1              1               1\n",
      "25% #labels/applic-ent:  1           1             1              1              1               2\n",
      "50% #labels/applic-ent:  1           1             1              2              2               3\n",
      "75% #labels/applic-ent:  1           2             2              3              4               5\n",
      "max #labels/applic-ent:  3           6            12             23             36              48\n"
     ]
    }
   ],
   "source": [
    "inbound_file=\"{}/inbound_label_analysis_Q5_rel.tsv\".format(output_dir)\n",
    "\n",
    "print_num_labels_for_filter_bounds(rel_supports_file, ent_type='Q5',\n",
    "                                   lbounds=[.1,.03,.01,.003, .001,.0003],\n",
    "                                   custom_bins=np.arange(0,.01,.0001), logscale=True,\n",
    "                                   entity_to_label_id_df=res_df,\n",
    "                                   inbound_file=inbound_file)"
   ]
  },
  {
   "cell_type": "markdown",
   "metadata": {},
   "source": [
    "**RALs - non-bucketed**"
   ]
  },
  {
   "cell_type": "code",
   "execution_count": 239,
   "metadata": {},
   "outputs": [
    {
     "data": {
      "image/png": "[encoded data removed]",
      "text/plain": [
       "<Figure size 432x288 with 1 Axes>"
      ]
     },
     "metadata": {
      "needs_background": "light"
     },
     "output_type": "display_data"
    },
    {
     "name": "stdout",
     "output_type": "stream",
     "text": [
      "Looking at labels for type: Q5\n",
      "Num ents of this type: 7958973\n",
      "Total labels: 1073927\n",
      "\n",
      "For upper bound = 0.9...\n",
      "lower bounds:             0.1    0.03    0.01    0.003    0.001    0.0003    0.0001\n",
      "----------------------  -----  ------  ------  -------  -------  --------  --------\n",
      "# labels in bounds:        10     348     873     2268     5460     13051     30054\n",
      "# unique 1st props:         1       2       3        9       28        43        61\n",
      "# unique 2 prop paths:      5      30      40       84      188       343       519\n"
     ]
    }
   ],
   "source": [
    "inbound_file=\"{}/inbound_label_analysis_Q5_ral.tsv\".format(output_dir)\n",
    "\n",
    "print_num_labels_for_filter_bounds(ral_supports_file, ent_type='Q5',\n",
    "                                   lbounds=[.1,.03,.01,.003, .001,.0003,.0001],\n",
    "                                   custom_bins=np.arange(0,.01,.0001), logscale=True,\n",
    "                                   inbound_file=inbound_file)"
   ]
  },
  {
   "cell_type": "markdown",
   "metadata": {},
   "source": [
    "**RALs - bucketed**"
   ]
  },
  {
   "cell_type": "code",
   "execution_count": 240,
   "metadata": {},
   "outputs": [
    {
     "data": {
      "image/png": "[encoded data removed]",
      "text/plain": [
       "<Figure size 432x288 with 1 Axes>"
      ]
     },
     "metadata": {
      "needs_background": "light"
     },
     "output_type": "display_data"
    },
    {
     "name": "stdout",
     "output_type": "stream",
     "text": [
      "Looking at labels for type: Q5\n",
      "Num ents of this type: 7958973\n",
      "Total labels: 339242\n",
      "\n",
      "For upper bound = 0.9...\n",
      "lower bounds:             0.1    0.03    0.01    0.003    0.001    0.0003    0.0001\n",
      "----------------------  -----  ------  ------  -------  -------  --------  --------\n",
      "# labels in bounds:        31     397     871     1984     4884     10149     19177\n",
      "# unique 1st props:         1       2       8       19       37        52        75\n",
      "# unique 2 prop paths:     14      34      56      124      242       408       591\n"
     ]
    }
   ],
   "source": [
    "inbound_file=\"{}/inbound_label_analysis_Q5_rail.tsv\".format(output_dir)\n",
    "\n",
    "print_num_labels_for_filter_bounds(rail_supports_file, ent_type='Q5',\n",
    "                                   lbounds=[.1,.03,.01,.003, .001,.0003,.0001],\n",
    "                                   custom_bins=np.arange(0,.01,.0001), logscale=True,\n",
    "                                   inbound_file=inbound_file)"
   ]
  },
  {
   "cell_type": "code",
   "execution_count": null,
   "metadata": {},
   "outputs": [],
   "source": []
  }
 ],
 "metadata": {
  "kernelspec": {
   "display_name": "Python 3",
   "language": "python",
   "name": "python3"
  },
  "language_info": {
   "codemirror_mode": {
    "name": "ipython",
    "version": 3
   },
   "file_extension": ".py",
   "mimetype": "text/x-python",
   "name": "python",
   "nbconvert_exporter": "python",
   "pygments_lexer": "ipython3",
   "version": "3.8.5"
  }
 },
 "nbformat": 4,
 "nbformat_minor": 4
}
