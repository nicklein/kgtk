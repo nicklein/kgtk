{
 "cells": [
  {
   "cell_type": "markdown",
   "metadata": {},
   "source": [
    "# Re-implementing procedure outlined in \"Entity Profiling in Knowledge Graphs\" (Zhang Et al.)\n",
    "# This notebook will implement the candidate label creation step"
   ]
  },
  {
   "cell_type": "markdown",
   "metadata": {},
   "source": [
    "### Pre-requisite steps to run this notebook\n",
    "1. If you do not have kgtk installed, or do not have the kgtk query command, first install this with `pip install -e <path to local kgtk repo>`\n",
    "2. kneed (https://pypi.org/project/kneed/) is a dependency. Install this either through Anaconda with `conda install -c conda-forge kneed`, or through pip with `pip install kneed`\n",
    "3. You'll need to have a subset of wikidata partitioned into different files on your machine. You can create this yourself by following the steps in the KGTK/Turotial noteboks, or if you have access to the Table_Linker google drive then you can download the Q44 example data here: https://drive.google.com/drive/folders/1U3Tc25rRwu6xy74mPDOG5LIjhUXpbD9A?usp=sharing\n",
    "4. (Optional) Consider running the trim_quantity_file notebook as a pre-processing step (see notebook for details)."
   ]
  },
  {
   "cell_type": "code",
   "execution_count": 1,
   "metadata": {},
   "outputs": [],
   "source": [
    "%load_ext autoreload\n",
    "%autoreload 2"
   ]
  },
  {
   "cell_type": "code",
   "execution_count": 4,
   "metadata": {},
   "outputs": [],
   "source": [
    "import os\n",
    "import pandas as pd\n",
    "from utility import run_command\n",
    "from utility import rename_cols_and_overwrite_id\n",
    "from label_discretization import discretize_labels_by_percentile, discretize_labels_fixed_width"
   ]
  },
  {
   "cell_type": "markdown",
   "metadata": {},
   "source": [
    "### Parameters\n",
    "**Required**  \n",
    "*item_file*: file path for the file that contains entity to entity relationships (e.g. wikibase-item)  \n",
    "*time_file*: file path for the file that contains entity to time-type values  \n",
    "*quantity_file*: file path for the file that contains entity to quantity-type values (remember to specify the trimmed file if you did the quantity file trimming pre-processing step).  \n",
    "*label_file*: file path for the file that contains wikidata labels  \n",
    "*work_dir*: path to folder where files created by this notebook should be stored  \n",
    "*store_dir*: path to folder containing the sqlite3.db file that we will use for our queries. We will reuse an existing file if there is one in this folder. Otherwise we will create a new one.\n",
    "\n",
    "**Optional**    \n",
    "*string_file*: file path for the file that contains entity to string-type values  "
   ]
  },
  {
   "cell_type": "code",
   "execution_count": 5,
   "metadata": {
    "tags": [
     "parameters"
    ]
   },
   "outputs": [],
   "source": [
    "data_dir = \"./data/wikidata-20210215-dwd\" # my data files are all in the same directory, so I'll reuse this path prefix\n",
    "\n",
    "# **REQUIRED**\n",
    "item_file = \"{}/claims.wikibase-item.tsv.gz\".format(data_dir)\n",
    "time_file = \"{}/claims.time.tsv.gz\".format(data_dir)\n",
    "quantity_file = \"{}/claims.quantity_trimmed.tsv.gz\".format(data_dir)\n",
    "label_file = \"{}/labels.en.tsv.gz\".format(data_dir)\n",
    "work_dir = \"./output/wikidata-20210215-dwd/\"\n",
    "store_dir = \"{}/temp\".format(work_dir)\n",
    "\n",
    "# **optional**\n",
    "string_file = None #\"{}/claims.string.tsv.gz\".format(data_dir)"
   ]
  },
  {
   "cell_type": "markdown",
   "metadata": {},
   "source": [
    "### Process parameters and set up variables / file names"
   ]
  },
  {
   "cell_type": "code",
   "execution_count": 6,
   "metadata": {},
   "outputs": [],
   "source": [
    "# Ensure paths are absolute\n",
    "item_file = os.path.abspath(item_file)\n",
    "time_file = os.path.abspath(time_file)\n",
    "quantity_file = os.path.abspath(quantity_file)\n",
    "label_file = os.path.abspath(label_file)\n",
    "work_dir = os.path.abspath(work_dir)\n",
    "store_dir = os.path.abspath(store_dir)\n",
    "if string_file:\n",
    "    string_file = os.path.abspath(string_file)\n",
    "    \n",
    "# Create directories\n",
    "if not os.path.exists(work_dir):\n",
    "    os.makedirs(work_dir)\n",
    "output_dir = \"{}/label_creation\".format(work_dir)\n",
    "if not os.path.exists(output_dir):\n",
    "    os.makedirs(output_dir)\n",
    "if not os.path.exists(store_dir):\n",
    "    os.makedirs(store_dir)\n",
    "\n",
    "# adding some environment variables we'll be using frequently\n",
    "os.environ['ITEM_FILE'] = item_file\n",
    "os.environ['TIME_FILE'] = time_file\n",
    "os.environ['QUANTITY_FILE'] = quantity_file\n",
    "os.environ['LABEL_FILE'] = label_file\n",
    "os.environ['STORE'] = \"{}/wikidata.sqlite3.db\".format(store_dir)\n",
    "os.environ['OUT'] = output_dir\n",
    "os.environ['kgtk'] = \"kgtk\" # Need to do this for kgtk to be recognized as a command when passing it through a subprocess call"
   ]
  },
  {
   "cell_type": "markdown",
   "metadata": {},
   "source": [
    "# Outline of procedure:\n",
    "**Goal**:<br>\n",
    "We want to create candidate label sets including\n",
    "- Attribute value labels (type, property, *attribute*)\n",
    "- Realtional entity labels (type, property, *entity*)\n",
    "- Attribute interval labels (type, property, *range of attribute values*)\n",
    "- Relational attribute labels (type, property, *attribute or attribute range of another entity*)\n",
    "\n",
    "To enable subsequent filtering of these labels, we also want to count:\n",
    "- The number of entities of each type\n",
    "- The number of entities that match each label (call these \"positives\")\n",
    "    \n",
    "**Steps**:\n",
    "\n",
    "0. Create type-mapping\n",
    "1. Count the number of entities of each type\n",
    "    - *optional future step*: define type with P279 transitive closure in addition to P31. \n",
    "2. Create AVLs trivially from attribute files along with counts of the positive entities for each label\n",
    "    - At this step, we should also contribute to a mapping of entities --> matching attribute labels to facilitate creating RALs in a later step  \n",
    "3. Create RELs trivially from entity relation files along with counts of positive entities for each label\n",
    "4. Create AILs by discretizing the AVLs we found, along with counts of positive entities for each label\n",
    "    - See label_discretization notebook for some exploration of discretization approach that led to the method that is implemented in this notebook\n",
    "    - At this step, we should also contribute to a mapping of entities --> matching attribute labels to facilitate creating RALs in a later step\n",
    "5. Create RALs by using the entities --> attribute labels table that we built in steps 2 and 4. Also keep track of counts of positive entities for each label\n",
    "    \n",
    "*Misc issues encountered*\n",
    "- kgtk rename-columns doesn't always work when input file == output file. Getting around this right now by creating temp files... "
   ]
  },
  {
   "cell_type": "markdown",
   "metadata": {},
   "source": [
    "## 0. Create type mapping\n",
    "Mapping is from entity (Q node) to the entity's type (another Q node). Using P31 only for now, but can add P279* as well later  "
   ]
  },
  {
   "cell_type": "code",
   "execution_count": 10,
   "metadata": {
    "scrolled": true
   },
   "outputs": [
    {
     "name": "stdout",
     "output_type": "stream",
     "text": [
      "^C\r\n",
      "\r\n",
      "Keyboard interrupt in query -i /data/profiling/kgtk/entity_profiling/data/wikidata_humans/claims.wikibase-item.tsv.gz -i /data/profiling/kgtk/entity_profiling/data/wikidata_humans/labels.en.tsv.gz -o /data/profiling/kgtk/entity_profiling/output/wikidata_humans_v2/label_creation/type_mapping.tsv --graph-cache /data/profiling/kgtk/entity_profiling/output/wikidata_humans_v2/temp/wikidata.sqlite3.db --match `/data/profiling/kgtk/entity_profiling/data/wikidata_humans/claims.wikibase-item.tsv.gz`: (e)-[l {label:\"P31\"}]->(type), `/data/profiling/kgtk/entity_profiling/data/wikidata_humans/labels.en.tsv.gz`: (e)-[:label]->(e_lab), `/data/profiling/kgtk/entity_profiling/data/wikidata_humans/labels.en.tsv.gz`: (type)-[:label]->(type_lab) --return distinct l as id, e as node1, l.label as label, type as node2, e_lab as entity_label, type_lab as type_label --where e_lab.kgtk_lqstring_lang_suffix = \"en\" AND type_lab.kgtk_lqstring_lang_suffix = \"en\".\r\n"
     ]
    }
   ],
   "source": [
    "!kgtk query -i $ITEM_FILE -i $LABEL_FILE \\\n",
    "-o $OUT/type_mapping.tsv --graph-cache $STORE \\\n",
    "--match '`'\"$ITEM_FILE\"'`: (e)-[l {label:\"P31\"}]->(type), `'\"$LABEL_FILE\"'`: (e)-[:label]->(e_lab), `'\"$LABEL_FILE\"'`: (type)-[:label]->(type_lab)' \\\n",
    "--return 'distinct l as id, e as node1, l.label as label, type as node2, e_lab as entity_label, type_lab as type_label' \\\n",
    "--where 'e_lab.kgtk_lqstring_lang_suffix = \"en\" AND type_lab.kgtk_lqstring_lang_suffix = \"en\"'"
   ]
  },
  {
   "cell_type": "code",
   "execution_count": 7,
   "metadata": {
    "scrolled": false
   },
   "outputs": [
    {
     "data": {
      "text/html": [
       "<div>\n",
       "<style scoped>\n",
       "    .dataframe tbody tr th:only-of-type {\n",
       "        vertical-align: middle;\n",
       "    }\n",
       "\n",
       "    .dataframe tbody tr th {\n",
       "        vertical-align: top;\n",
       "    }\n",
       "\n",
       "    .dataframe thead th {\n",
       "        text-align: right;\n",
       "    }\n",
       "</style>\n",
       "<table border=\"1\" class=\"dataframe\">\n",
       "  <thead>\n",
       "    <tr style=\"text-align: right;\">\n",
       "      <th></th>\n",
       "      <th>id</th>\n",
       "      <th>node1</th>\n",
       "      <th>label</th>\n",
       "      <th>node2</th>\n",
       "      <th>entity_label</th>\n",
       "      <th>type_label</th>\n",
       "    </tr>\n",
       "  </thead>\n",
       "  <tbody>\n",
       "    <tr>\n",
       "      <th>0</th>\n",
       "      <td>P10-P31-Q18610173-85ef4d24-0</td>\n",
       "      <td>P10</td>\n",
       "      <td>P31</td>\n",
       "      <td>Q18610173</td>\n",
       "      <td>'video'@en</td>\n",
       "      <td>'Wikidata property to link to Commons'@en</td>\n",
       "    </tr>\n",
       "    <tr>\n",
       "      <th>1</th>\n",
       "      <td>P1000-P31-Q18608871-093affb5-0</td>\n",
       "      <td>P1000</td>\n",
       "      <td>P31</td>\n",
       "      <td>Q18608871</td>\n",
       "      <td>'record held'@en</td>\n",
       "      <td>'Wikidata property for items about people'@en</td>\n",
       "    </tr>\n",
       "    <tr>\n",
       "      <th>2</th>\n",
       "      <td>P1001-P31-Q15720608-deeedec9-0</td>\n",
       "      <td>P1001</td>\n",
       "      <td>P31</td>\n",
       "      <td>Q15720608</td>\n",
       "      <td>'applies to jurisdiction'@en</td>\n",
       "      <td>'Wikidata qualifier'@en</td>\n",
       "    </tr>\n",
       "    <tr>\n",
       "      <th>3</th>\n",
       "      <td>P1001-P31-Q22984026-8beb0cfe-0</td>\n",
       "      <td>P1001</td>\n",
       "      <td>P31</td>\n",
       "      <td>Q22984026</td>\n",
       "      <td>'applies to jurisdiction'@en</td>\n",
       "      <td>'Wikidata property related to law and justice'@en</td>\n",
       "    </tr>\n",
       "    <tr>\n",
       "      <th>4</th>\n",
       "      <td>P1001-P31-Q22997934-1e5b1a96-0</td>\n",
       "      <td>P1001</td>\n",
       "      <td>P31</td>\n",
       "      <td>Q22997934</td>\n",
       "      <td>'applies to jurisdiction'@en</td>\n",
       "      <td>'Wikidata property related to government and s...</td>\n",
       "    </tr>\n",
       "  </tbody>\n",
       "</table>\n",
       "</div>"
      ],
      "text/plain": [
       "                               id  node1 label      node2  \\\n",
       "0    P10-P31-Q18610173-85ef4d24-0    P10   P31  Q18610173   \n",
       "1  P1000-P31-Q18608871-093affb5-0  P1000   P31  Q18608871   \n",
       "2  P1001-P31-Q15720608-deeedec9-0  P1001   P31  Q15720608   \n",
       "3  P1001-P31-Q22984026-8beb0cfe-0  P1001   P31  Q22984026   \n",
       "4  P1001-P31-Q22997934-1e5b1a96-0  P1001   P31  Q22997934   \n",
       "\n",
       "                   entity_label  \\\n",
       "0                    'video'@en   \n",
       "1              'record held'@en   \n",
       "2  'applies to jurisdiction'@en   \n",
       "3  'applies to jurisdiction'@en   \n",
       "4  'applies to jurisdiction'@en   \n",
       "\n",
       "                                          type_label  \n",
       "0          'Wikidata property to link to Commons'@en  \n",
       "1      'Wikidata property for items about people'@en  \n",
       "2                            'Wikidata qualifier'@en  \n",
       "3  'Wikidata property related to law and justice'@en  \n",
       "4  'Wikidata property related to government and s...  "
      ]
     },
     "metadata": {},
     "output_type": "display_data"
    }
   ],
   "source": [
    "display(pd.read_csv(\"{}/type_mapping.tsv\".format(os.environ[\"OUT\"]), delimiter = '\\t', nrows=5).fillna(\"\"))"
   ]
  },
  {
   "cell_type": "markdown",
   "metadata": {},
   "source": [
    "## 1. Count number of entities of each type:\n",
    "Use the entity --> type mapping we created in step 0 to do this"
   ]
  },
  {
   "cell_type": "code",
   "execution_count": 7,
   "metadata": {},
   "outputs": [],
   "source": [
    "!kgtk query -i $OUT/type_mapping.tsv -i $LABEL_FILE \\\n",
    "-o $OUT/entity_counts_per_type.tsv --graph-cache $STORE \\\n",
    "--match 'type: (n1)-[]->(type), `'\"$LABEL_FILE\"'`: (type)-[:label]->(lab)' \\\n",
    "--return 'distinct type as type, lab as type_label, count(distinct n1) as count, \"_\" as id' \\\n",
    "--where 'lab.kgtk_lqstring_lang_suffix = \"en\"' \\\n",
    "--order-by 'count(distinct n1) desc'"
   ]
  },
  {
   "cell_type": "code",
   "execution_count": 8,
   "metadata": {},
   "outputs": [],
   "source": [
    "rename_cols_and_overwrite_id(\"$OUT/entity_counts_per_type\", \".tsv\", \"type type_label count\", \"node1 label node2\")"
   ]
  },
  {
   "cell_type": "code",
   "execution_count": 8,
   "metadata": {},
   "outputs": [
    {
     "name": "stdout",
     "output_type": "stream",
     "text": [
      "node1     label                               node2    id\r\n",
      "Q5        'human'@en                          8187532  E1\r\n",
      "Q16521    'taxon'@en                          2809682  E2\r\n",
      "Q4167836  'Wikimedia category'@en             2482326  E3\r\n",
      "Q4167410  'Wikimedia disambiguation page'@en  705261   E4\r\n",
      "Q79007    'street'@en                         522060   E5\r\n",
      "Q8502     'mountain'@en                       443306   E6\r\n",
      "Q101352   'family name'@en                    376122   E7\r\n",
      "Q1931185  'astronomical radio source'@en      353206   E8\r\n",
      "Q30612    'clinical trial'@en                 351014   E9\r\n"
     ]
    }
   ],
   "source": [
    "!head -10 $OUT/entity_counts_per_type.tsv | column -t -s $'\\t'"
   ]
  },
  {
   "cell_type": "code",
   "execution_count": 204,
   "metadata": {},
   "outputs": [
    {
     "name": "stdout",
     "output_type": "stream",
     "text": [
      "63160 /data02/profiling/kgtk/entity_profiling/output/wikidata-20210215-dwd/label_creation/entity_counts_per_type.tsv\r\n"
     ]
    }
   ],
   "source": [
    "!wc -l $OUT/entity_counts_per_type.tsv"
   ]
  },
  {
   "cell_type": "markdown",
   "metadata": {},
   "source": [
    "## 2. Create AVLs with counts of positive entities\n",
    "At this step we also want to keep track of entities --> matching attribute labels for future use. This will help when we are creating RALs (step 5)\n",
    "\n",
    "To accomplish these goals, we will do the following:\n",
    "\n",
    "For each attribute type (string, time, quantity), we will 1. use the entity --> type mapping along with the attribute data file to create an entity_attribute_labels file that has a mapping of entity --> labels applicable to the entity, and 2. use the entity_attribute_labels file to aggregate labels with counts of matching entities which we will save in a candidate_labels file"
   ]
  },
  {
   "cell_type": "markdown",
   "metadata": {},
   "source": [
    "### 2.1 strings\n",
    "Creating mapping of entity --> string attribute labels"
   ]
  },
  {
   "cell_type": "code",
   "execution_count": 10,
   "metadata": {},
   "outputs": [
    {
     "name": "stdout",
     "output_type": "stream",
     "text": [
      "No string attribute file was provided in the parameters section, skipping this step.\n"
     ]
    }
   ],
   "source": [
    "if not string_file:\n",
    "    print(\"No string attribute file was provided in the parameters section, skipping this step.\")\n",
    "else:\n",
    "    # perform query\n",
    "    command = \"$kgtk query -i $OUT/type_mapping.tsv -i STRING_FILE -i LABEL_FILE \\\n",
    "               -o $OUT/entity_attribute_labels_string.tsv --graph-cache $STORE \\\n",
    "               --match '`STRING_FILE`: (n1)-[l {label:p}]->(n2), type: (n1)-[]->(type), `LABEL_FILE`: (p)-[:label]->(lab)' \\\n",
    "               --return 'distinct n1 as entity, type as type, p as prop, n2 as value, lab as property_label, \\\"_\\\" as id' \\\n",
    "               --where 'lab.kgtk_lqstring_lang_suffix = \\\"en\\\"' \\\n",
    "               --order-by 'n1'\"\n",
    "    run_command(command, {\"STRING_FILE\" : string_file, \"LABEL_FILE\" : label_file})\n",
    "    # reformat columns to be in KGTK format\n",
    "    rename_cols_and_overwrite_id(\"$OUT/entity_attribute_labels_string\", \".tsv\", \"type prop value\", \"node1 label node2\")\n",
    "    # view header of result\n",
    "    run_command(\"head -5 $OUT/entity_attribute_labels_string.tsv | column -t -s $'\\t'\")"
   ]
  },
  {
   "cell_type": "markdown",
   "metadata": {},
   "source": [
    "Aggregating distinct labels w/ positive entity counts"
   ]
  },
  {
   "cell_type": "code",
   "execution_count": 11,
   "metadata": {},
   "outputs": [
    {
     "name": "stdout",
     "output_type": "stream",
     "text": [
      "No string attribute file was provided in the parameters section, skipping this step.\n"
     ]
    }
   ],
   "source": [
    "if not string_file:\n",
    "    print(\"No string attribute file was provided in the parameters section, skipping this step.\")\n",
    "else:\n",
    "    # perform query\n",
    "    command = \"$kgtk query -i $OUT/entity_attribute_labels_string.tsv \\\n",
    "               -o $OUT/candidate_labels_avl_string.tsv --graph-cache $STORE \\\n",
    "               --match 'labels: (type)-[l {label:prop, property_label:lab, entity:e}]->(val)' \\\n",
    "               --return 'distinct type as type, prop as prop, val as value, count(distinct e) as positives, lab as property_label, \\\"_\\\" as id' \\\n",
    "               --order-by 'count(distinct e) desc'\"\n",
    "    run_command(command)\n",
    "    # reformat columns to be in KGTK format\n",
    "    rename_cols_and_overwrite_id(\"$OUT/candidate_labels_avl_string\", \".tsv\", \"type prop value\", \"node1 label node2\")\n",
    "    # view header of result\n",
    "    run_command(\"head -5 $OUT/candidate_labels_avl_string.tsv | column -t -s $'\\t'\")"
   ]
  },
  {
   "cell_type": "markdown",
   "metadata": {},
   "source": [
    "### 2.2 Times"
   ]
  },
  {
   "cell_type": "markdown",
   "metadata": {},
   "source": [
    "Looking at what precisions we need to deal with..."
   ]
  },
  {
   "cell_type": "code",
   "execution_count": 12,
   "metadata": {
    "scrolled": true
   },
   "outputs": [
    {
     "name": "stdout",
     "output_type": "stream",
     "text": [
      "precisions  count\r\n",
      "6           14\r\n",
      "7           218\r\n",
      "8           45\r\n",
      "9           6077\r\n",
      "10          212\r\n",
      "11          21214\r\n"
     ]
    }
   ],
   "source": [
    "!kgtk query -i $TIME_FILE $LABEL_FILE\\\n",
    "--graph-cache $STORE \\\n",
    "--match '`'\"$TIME_FILE\"'`: (n1)-[l {label:p}]->(n2), `'\"$LABEL_FILE\"'`: (p)-[:label]->(lab)' \\\n",
    "--return 'distinct kgtk_date_precision(n2) as precisions, count(n1) as count' \\\n",
    "--limit 10 \\\n",
    "| column -t -s $'\\t'"
   ]
  },
  {
   "cell_type": "markdown",
   "metadata": {},
   "source": [
    "From the above, we have several precisions below precision of year=9. We don't have kgtk type interpretation functions for these granularities, so for now we'll interpret them all as years. Furthermore, we will interpret all times at the year granularity for now.\n",
    "\n",
    "Additional work can be done later to create labels with finer time granularity if desired."
   ]
  },
  {
   "cell_type": "markdown",
   "metadata": {},
   "source": [
    "Creating mapping of entity --> year attribute labels"
   ]
  },
  {
   "cell_type": "code",
   "execution_count": 91,
   "metadata": {},
   "outputs": [
    {
     "name": "stdout",
     "output_type": "stream",
     "text": [
      "CPU times: user 4.27 s, sys: 977 ms, total: 5.25 s\n",
      "Wall time: 4min 47s\n"
     ]
    }
   ],
   "source": [
    "%%time\n",
    "!kgtk query -i $OUT/type_mapping.tsv -i $TIME_FILE -i $LABEL_FILE \\\n",
    "-o $OUT/entity_AVLs_time.year.tsv --graph-cache $STORE \\\n",
    "--match '`'\"$TIME_FILE\"'`: (n1)-[l {label:p}]->(n2), type: (n1)-[]->(type), `'\"$LABEL_FILE\"'`: (p)-[:label]->(p_lab), `'\"$LABEL_FILE\"'`: (type)-[:label]->(t_lab)' \\\n",
    "--return 'distinct n1 as node1, \"_\" as label, printf(\"%s_%s_%s\",type,p,kgtk_date_year(n2)) as node2, type as type, t_lab as type_label, p as prop, p_lab as property_label, kgtk_date_year(n2) as value, \"_\" as id' \\\n",
    "--where 't_lab.kgtk_lqstring_lang_suffix = \"en\" AND p_lab.kgtk_lqstring_lang_suffix = \"en\"' \\\n",
    "--order-by 'n1'"
   ]
  },
  {
   "cell_type": "code",
   "execution_count": 92,
   "metadata": {},
   "outputs": [],
   "source": [
    "!kgtk add-id -i $OUT/entity_AVLs_time.year.tsv \\\n",
    "-o $OUT/entity_AVLs_time.year.temp.tsv --overwrite-id \\\n",
    "&& mv $OUT/entity_AVLs_time.year.temp.tsv $OUT/entity_AVLs_time.year.tsv"
   ]
  },
  {
   "cell_type": "code",
   "execution_count": 93,
   "metadata": {},
   "outputs": [
    {
     "data": {
      "text/html": [
       "<div>\n",
       "<style scoped>\n",
       "    .dataframe tbody tr th:only-of-type {\n",
       "        vertical-align: middle;\n",
       "    }\n",
       "\n",
       "    .dataframe tbody tr th {\n",
       "        vertical-align: top;\n",
       "    }\n",
       "\n",
       "    .dataframe thead th {\n",
       "        text-align: right;\n",
       "    }\n",
       "</style>\n",
       "<table border=\"1\" class=\"dataframe\">\n",
       "  <thead>\n",
       "    <tr style=\"text-align: right;\">\n",
       "      <th></th>\n",
       "      <th>node1</th>\n",
       "      <th>label</th>\n",
       "      <th>node2</th>\n",
       "      <th>type</th>\n",
       "      <th>type_label</th>\n",
       "      <th>prop</th>\n",
       "      <th>property_label</th>\n",
       "      <th>value</th>\n",
       "      <th>id</th>\n",
       "    </tr>\n",
       "  </thead>\n",
       "  <tbody>\n",
       "    <tr>\n",
       "      <th>0</th>\n",
       "      <td>P1841</td>\n",
       "      <td>_</td>\n",
       "      <td>Q55977691_P580_2016</td>\n",
       "      <td>Q55977691</td>\n",
       "      <td>'Wikidata property for authority control for a...</td>\n",
       "      <td>P580</td>\n",
       "      <td>'start time'@en</td>\n",
       "      <td>2016</td>\n",
       "      <td>E1</td>\n",
       "    </tr>\n",
       "    <tr>\n",
       "      <th>1</th>\n",
       "      <td>P2847</td>\n",
       "      <td>_</td>\n",
       "      <td>Q18608871_P2669_2019</td>\n",
       "      <td>Q18608871</td>\n",
       "      <td>'Wikidata property for items about people'@en</td>\n",
       "      <td>P2669</td>\n",
       "      <td>'discontinued date'@en</td>\n",
       "      <td>2019</td>\n",
       "      <td>E2</td>\n",
       "    </tr>\n",
       "    <tr>\n",
       "      <th>2</th>\n",
       "      <td>P2847</td>\n",
       "      <td>_</td>\n",
       "      <td>Q24239898_P2669_2019</td>\n",
       "      <td>Q24239898</td>\n",
       "      <td>'Wikidata property for Wikivoyage listings'@en</td>\n",
       "      <td>P2669</td>\n",
       "      <td>'discontinued date'@en</td>\n",
       "      <td>2019</td>\n",
       "      <td>E3</td>\n",
       "    </tr>\n",
       "    <tr>\n",
       "      <th>3</th>\n",
       "      <td>P2847</td>\n",
       "      <td>_</td>\n",
       "      <td>Q30041186_P2669_2019</td>\n",
       "      <td>Q30041186</td>\n",
       "      <td>'Wikidata property related to online communiti...</td>\n",
       "      <td>P2669</td>\n",
       "      <td>'discontinued date'@en</td>\n",
       "      <td>2019</td>\n",
       "      <td>E4</td>\n",
       "    </tr>\n",
       "    <tr>\n",
       "      <th>4</th>\n",
       "      <td>P2847</td>\n",
       "      <td>_</td>\n",
       "      <td>Q60457486_P2669_2019</td>\n",
       "      <td>Q60457486</td>\n",
       "      <td>'Wikidata property for a discontinued website'@en</td>\n",
       "      <td>P2669</td>\n",
       "      <td>'discontinued date'@en</td>\n",
       "      <td>2019</td>\n",
       "      <td>E5</td>\n",
       "    </tr>\n",
       "  </tbody>\n",
       "</table>\n",
       "</div>"
      ],
      "text/plain": [
       "   node1 label                 node2       type  \\\n",
       "0  P1841     _   Q55977691_P580_2016  Q55977691   \n",
       "1  P2847     _  Q18608871_P2669_2019  Q18608871   \n",
       "2  P2847     _  Q24239898_P2669_2019  Q24239898   \n",
       "3  P2847     _  Q30041186_P2669_2019  Q30041186   \n",
       "4  P2847     _  Q60457486_P2669_2019  Q60457486   \n",
       "\n",
       "                                          type_label   prop  \\\n",
       "0  'Wikidata property for authority control for a...   P580   \n",
       "1      'Wikidata property for items about people'@en  P2669   \n",
       "2     'Wikidata property for Wikivoyage listings'@en  P2669   \n",
       "3  'Wikidata property related to online communiti...  P2669   \n",
       "4  'Wikidata property for a discontinued website'@en  P2669   \n",
       "\n",
       "           property_label  value  id  \n",
       "0         'start time'@en   2016  E1  \n",
       "1  'discontinued date'@en   2019  E2  \n",
       "2  'discontinued date'@en   2019  E3  \n",
       "3  'discontinued date'@en   2019  E4  \n",
       "4  'discontinued date'@en   2019  E5  "
      ]
     },
     "metadata": {},
     "output_type": "display_data"
    }
   ],
   "source": [
    "display(pd.read_csv(\"{}/entity_AVLs_time.year.tsv\".format(output_dir), delimiter = '\\t', nrows=5).fillna(\"\"))"
   ]
  },
  {
   "cell_type": "markdown",
   "metadata": {},
   "source": [
    "Aggregating distinct labels w/ positive entity counts"
   ]
  },
  {
   "cell_type": "code",
   "execution_count": 94,
   "metadata": {},
   "outputs": [
    {
     "name": "stdout",
     "output_type": "stream",
     "text": [
      "CPU times: user 1.81 s, sys: 392 ms, total: 2.2 s\n",
      "Wall time: 1min 46s\n"
     ]
    }
   ],
   "source": [
    "%%time\n",
    "!kgtk query -i $OUT/entity_AVLs_time.year.tsv \\\n",
    "-o $OUT/candidate_AVLs_time.year.tsv --graph-cache $STORE \\\n",
    "--match 'entity_AVLs: (e)-[l {type:t, type_label:t_lab, prop:p, property_label:p_lab,  value:val}]->(label_id)' \\\n",
    "--return 'distinct t as node1, t_lab as type_label, p as label, p_lab as property_label, val as node2, count(distinct e) as positives, label_id as id' \\\n",
    "--order-by 'count(distinct e) desc'"
   ]
  },
  {
   "cell_type": "code",
   "execution_count": 96,
   "metadata": {
    "scrolled": true
   },
   "outputs": [
    {
     "data": {
      "text/html": [
       "<div>\n",
       "<style scoped>\n",
       "    .dataframe tbody tr th:only-of-type {\n",
       "        vertical-align: middle;\n",
       "    }\n",
       "\n",
       "    .dataframe tbody tr th {\n",
       "        vertical-align: top;\n",
       "    }\n",
       "\n",
       "    .dataframe thead th {\n",
       "        text-align: right;\n",
       "    }\n",
       "</style>\n",
       "<table border=\"1\" class=\"dataframe\">\n",
       "  <thead>\n",
       "    <tr style=\"text-align: right;\">\n",
       "      <th></th>\n",
       "      <th>node1</th>\n",
       "      <th>type_label</th>\n",
       "      <th>label</th>\n",
       "      <th>property_label</th>\n",
       "      <th>node2</th>\n",
       "      <th>positives</th>\n",
       "      <th>id</th>\n",
       "    </tr>\n",
       "  </thead>\n",
       "  <tbody>\n",
       "    <tr>\n",
       "      <th>0</th>\n",
       "      <td>Q13433827</td>\n",
       "      <td>'encyclopedic article'@en</td>\n",
       "      <td>P577</td>\n",
       "      <td>'publication date'@en</td>\n",
       "      <td>2017</td>\n",
       "      <td>73623</td>\n",
       "      <td>Q13433827_P577_2017</td>\n",
       "    </tr>\n",
       "    <tr>\n",
       "      <th>1</th>\n",
       "      <td>Q5</td>\n",
       "      <td>'human'@en</td>\n",
       "      <td>P569</td>\n",
       "      <td>'date of birth'@en</td>\n",
       "      <td>1950</td>\n",
       "      <td>49166</td>\n",
       "      <td>Q5_P569_1950</td>\n",
       "    </tr>\n",
       "    <tr>\n",
       "      <th>2</th>\n",
       "      <td>Q5</td>\n",
       "      <td>'human'@en</td>\n",
       "      <td>P569</td>\n",
       "      <td>'date of birth'@en</td>\n",
       "      <td>2000</td>\n",
       "      <td>48204</td>\n",
       "      <td>Q5_P569_2000</td>\n",
       "    </tr>\n",
       "    <tr>\n",
       "      <th>3</th>\n",
       "      <td>Q5</td>\n",
       "      <td>'human'@en</td>\n",
       "      <td>P569</td>\n",
       "      <td>'date of birth'@en</td>\n",
       "      <td>1953</td>\n",
       "      <td>44922</td>\n",
       "      <td>Q5_P569_1953</td>\n",
       "    </tr>\n",
       "    <tr>\n",
       "      <th>4</th>\n",
       "      <td>Q5</td>\n",
       "      <td>'human'@en</td>\n",
       "      <td>P569</td>\n",
       "      <td>'date of birth'@en</td>\n",
       "      <td>1960</td>\n",
       "      <td>38937</td>\n",
       "      <td>Q5_P569_1960</td>\n",
       "    </tr>\n",
       "  </tbody>\n",
       "</table>\n",
       "</div>"
      ],
      "text/plain": [
       "       node1                 type_label label         property_label  node2  \\\n",
       "0  Q13433827  'encyclopedic article'@en  P577  'publication date'@en   2017   \n",
       "1         Q5                 'human'@en  P569     'date of birth'@en   1950   \n",
       "2         Q5                 'human'@en  P569     'date of birth'@en   2000   \n",
       "3         Q5                 'human'@en  P569     'date of birth'@en   1953   \n",
       "4         Q5                 'human'@en  P569     'date of birth'@en   1960   \n",
       "\n",
       "   positives                   id  \n",
       "0      73623  Q13433827_P577_2017  \n",
       "1      49166         Q5_P569_1950  \n",
       "2      48204         Q5_P569_2000  \n",
       "3      44922         Q5_P569_1953  \n",
       "4      38937         Q5_P569_1960  "
      ]
     },
     "metadata": {},
     "output_type": "display_data"
    }
   ],
   "source": [
    "display(pd.read_csv(\"{}/candidate_AVLs_time.year.tsv\".format(output_dir), delimiter = '\\t', nrows=5).fillna(\"\"))"
   ]
  },
  {
   "cell_type": "markdown",
   "metadata": {},
   "source": [
    "## 2.3 Quantities\n",
    "Creating mapping of entity --> quantity attribute labels\n",
    "\n",
    "Note, quantities may have units. We will separate out the quantity value and units into separate columns"
   ]
  },
  {
   "cell_type": "code",
   "execution_count": 97,
   "metadata": {},
   "outputs": [],
   "source": [
    "!kgtk query -i $OUT/type_mapping.tsv -i $QUANTITY_FILE -i $LABEL_FILE \\\n",
    "-o $OUT/entity_AVLs_quantity.tsv --graph-cache $STORE \\\n",
    "--match '`'\"$QUANTITY_FILE\"'`: (n1)-[l {label:p}]->(n2), type: (n1)-[]->(type), `'\"$LABEL_FILE\"'`: (p)-[:label]->(p_lab), `'\"$LABEL_FILE\"'`: (type)-[:label]->(t_lab)' \\\n",
    "--return 'distinct n1 as node1, \"_\" as label, printf(\"%s_%s_%s_%s_%s\",type,p,kgtk_quantity_numeral(n2),kgtk_quantity_si_units(n2),kgtk_quantity_wd_units(n2)) as node2, type as type, t_lab as type_label, p as prop, p_lab as property_label, kgtk_quantity_numeral(n2) as value, kgtk_quantity_si_units(n2) as si_units, kgtk_quantity_wd_units(n2) as wd_units, \"_\" as id' \\\n",
    "--where 't_lab.kgtk_lqstring_lang_suffix = \"en\" AND p_lab.kgtk_lqstring_lang_suffix = \"en\"' \\\n",
    "--order-by 'n1'"
   ]
  },
  {
   "cell_type": "code",
   "execution_count": 98,
   "metadata": {},
   "outputs": [],
   "source": [
    "!kgtk add-id -i $OUT/entity_AVLs_quantity.tsv \\\n",
    "-o $OUT/entity_AVLs_quantity.temp.tsv --overwrite-id \\\n",
    "&& mv $OUT/entity_AVLs_quantity.temp.tsv $OUT/entity_AVLs_quantity.tsv"
   ]
  },
  {
   "cell_type": "code",
   "execution_count": 99,
   "metadata": {},
   "outputs": [
    {
     "data": {
      "text/html": [
       "<div>\n",
       "<style scoped>\n",
       "    .dataframe tbody tr th:only-of-type {\n",
       "        vertical-align: middle;\n",
       "    }\n",
       "\n",
       "    .dataframe tbody tr th {\n",
       "        vertical-align: top;\n",
       "    }\n",
       "\n",
       "    .dataframe thead th {\n",
       "        text-align: right;\n",
       "    }\n",
       "</style>\n",
       "<table border=\"1\" class=\"dataframe\">\n",
       "  <thead>\n",
       "    <tr style=\"text-align: right;\">\n",
       "      <th></th>\n",
       "      <th>node1</th>\n",
       "      <th>label</th>\n",
       "      <th>node2</th>\n",
       "      <th>type</th>\n",
       "      <th>type_label</th>\n",
       "      <th>prop</th>\n",
       "      <th>property_label</th>\n",
       "      <th>value</th>\n",
       "      <th>si_units</th>\n",
       "      <th>wd_units</th>\n",
       "      <th>id</th>\n",
       "    </tr>\n",
       "  </thead>\n",
       "  <tbody>\n",
       "    <tr>\n",
       "      <th>0</th>\n",
       "      <td>P1004</td>\n",
       "      <td>_</td>\n",
       "      <td>Q19829908_P4876_+37427__</td>\n",
       "      <td>Q19829908</td>\n",
       "      <td>'Wikidata property for authority control for p...</td>\n",
       "      <td>P4876</td>\n",
       "      <td>'number of records'@en</td>\n",
       "      <td>37427</td>\n",
       "      <td></td>\n",
       "      <td></td>\n",
       "      <td>E1</td>\n",
       "    </tr>\n",
       "    <tr>\n",
       "      <th>1</th>\n",
       "      <td>P1004</td>\n",
       "      <td>_</td>\n",
       "      <td>Q24075706_P4876_+37427__</td>\n",
       "      <td>Q24075706</td>\n",
       "      <td>'Wikidata property for authority control, with...</td>\n",
       "      <td>P4876</td>\n",
       "      <td>'number of records'@en</td>\n",
       "      <td>37427</td>\n",
       "      <td></td>\n",
       "      <td></td>\n",
       "      <td>E2</td>\n",
       "    </tr>\n",
       "    <tr>\n",
       "      <th>2</th>\n",
       "      <td>P1004</td>\n",
       "      <td>_</td>\n",
       "      <td>Q27525351_P4876_+37427__</td>\n",
       "      <td>Q27525351</td>\n",
       "      <td>'Wikidata property related to music'@en</td>\n",
       "      <td>P4876</td>\n",
       "      <td>'number of records'@en</td>\n",
       "      <td>37427</td>\n",
       "      <td></td>\n",
       "      <td></td>\n",
       "      <td>E3</td>\n",
       "    </tr>\n",
       "    <tr>\n",
       "      <th>3</th>\n",
       "      <td>P1014</td>\n",
       "      <td>_</td>\n",
       "      <td>Q27918607_P4876_+53249__</td>\n",
       "      <td>Q27918607</td>\n",
       "      <td>'Wikidata property related to art'@en</td>\n",
       "      <td>P4876</td>\n",
       "      <td>'number of records'@en</td>\n",
       "      <td>53249</td>\n",
       "      <td></td>\n",
       "      <td></td>\n",
       "      <td>E4</td>\n",
       "    </tr>\n",
       "    <tr>\n",
       "      <th>4</th>\n",
       "      <td>P1014</td>\n",
       "      <td>_</td>\n",
       "      <td>Q43831109_P4876_+53249__</td>\n",
       "      <td>Q43831109</td>\n",
       "      <td>'Wikidata property related to architecture'@en</td>\n",
       "      <td>P4876</td>\n",
       "      <td>'number of records'@en</td>\n",
       "      <td>53249</td>\n",
       "      <td></td>\n",
       "      <td></td>\n",
       "      <td>E5</td>\n",
       "    </tr>\n",
       "  </tbody>\n",
       "</table>\n",
       "</div>"
      ],
      "text/plain": [
       "   node1 label                     node2       type  \\\n",
       "0  P1004     _  Q19829908_P4876_+37427__  Q19829908   \n",
       "1  P1004     _  Q24075706_P4876_+37427__  Q24075706   \n",
       "2  P1004     _  Q27525351_P4876_+37427__  Q27525351   \n",
       "3  P1014     _  Q27918607_P4876_+53249__  Q27918607   \n",
       "4  P1014     _  Q43831109_P4876_+53249__  Q43831109   \n",
       "\n",
       "                                          type_label   prop  \\\n",
       "0  'Wikidata property for authority control for p...  P4876   \n",
       "1  'Wikidata property for authority control, with...  P4876   \n",
       "2            'Wikidata property related to music'@en  P4876   \n",
       "3              'Wikidata property related to art'@en  P4876   \n",
       "4     'Wikidata property related to architecture'@en  P4876   \n",
       "\n",
       "           property_label  value si_units wd_units  id  \n",
       "0  'number of records'@en  37427                    E1  \n",
       "1  'number of records'@en  37427                    E2  \n",
       "2  'number of records'@en  37427                    E3  \n",
       "3  'number of records'@en  53249                    E4  \n",
       "4  'number of records'@en  53249                    E5  "
      ]
     },
     "metadata": {},
     "output_type": "display_data"
    }
   ],
   "source": [
    "display(pd.read_csv(\"{}/entity_AVLs_quantity.tsv\".format(os.environ[\"OUT\"]), delimiter = '\\t', nrows=5).fillna(\"\"))\n"
   ]
  },
  {
   "cell_type": "markdown",
   "metadata": {},
   "source": [
    "Aggregating distinct labels w/ positive entity counts"
   ]
  },
  {
   "cell_type": "code",
   "execution_count": 107,
   "metadata": {},
   "outputs": [],
   "source": [
    "!kgtk query -i $OUT/entity_AVLs_quantity.tsv \\\n",
    "-o $OUT/candidate_AVLs_quantity.tsv --graph-cache $STORE \\\n",
    "--match 'entity_AVLs: (e)-[l {prop:p, property_label:p_lab, type:t, type_label:t_lab, value:val, si_units:si, wd_units:wd}]->(label_id)' \\\n",
    "--return 'distinct t as node1, t_lab as type_label, p as label, p_lab as property_label, val as node2, si as si_units, wd as wd_units, count(distinct e) as positives, label_id as id' \\\n",
    "--order-by 'count(distinct e) desc'\n"
   ]
  },
  {
   "cell_type": "code",
   "execution_count": 108,
   "metadata": {},
   "outputs": [
    {
     "data": {
      "text/html": [
       "<div>\n",
       "<style scoped>\n",
       "    .dataframe tbody tr th:only-of-type {\n",
       "        vertical-align: middle;\n",
       "    }\n",
       "\n",
       "    .dataframe tbody tr th {\n",
       "        vertical-align: top;\n",
       "    }\n",
       "\n",
       "    .dataframe thead th {\n",
       "        text-align: right;\n",
       "    }\n",
       "</style>\n",
       "<table border=\"1\" class=\"dataframe\">\n",
       "  <thead>\n",
       "    <tr style=\"text-align: right;\">\n",
       "      <th></th>\n",
       "      <th>node1</th>\n",
       "      <th>type_label</th>\n",
       "      <th>label</th>\n",
       "      <th>property_label</th>\n",
       "      <th>node2</th>\n",
       "      <th>si_units</th>\n",
       "      <th>wd_units</th>\n",
       "      <th>positives</th>\n",
       "      <th>id</th>\n",
       "    </tr>\n",
       "  </thead>\n",
       "  <tbody>\n",
       "    <tr>\n",
       "      <th>0</th>\n",
       "      <td>Q2668072</td>\n",
       "      <td>'collection'@en</td>\n",
       "      <td>P1436</td>\n",
       "      <td>'collection or exhibition size'@en</td>\n",
       "      <td>0</td>\n",
       "      <td></td>\n",
       "      <td>Q11723795</td>\n",
       "      <td>229933</td>\n",
       "      <td>Q2668072_P1436_+0__Q11723795</td>\n",
       "    </tr>\n",
       "    <tr>\n",
       "      <th>1</th>\n",
       "      <td>Q30612</td>\n",
       "      <td>'clinical trial'@en</td>\n",
       "      <td>P2899</td>\n",
       "      <td>'minimum age'@en</td>\n",
       "      <td>18</td>\n",
       "      <td></td>\n",
       "      <td>Q577</td>\n",
       "      <td>213715</td>\n",
       "      <td>Q30612_P2899_+18__Q577</td>\n",
       "    </tr>\n",
       "    <tr>\n",
       "      <th>2</th>\n",
       "      <td>Q2668072</td>\n",
       "      <td>'collection'@en</td>\n",
       "      <td>P1436</td>\n",
       "      <td>'collection or exhibition size'@en</td>\n",
       "      <td>0</td>\n",
       "      <td></td>\n",
       "      <td>Q59221146</td>\n",
       "      <td>212568</td>\n",
       "      <td>Q2668072_P1436_+0__Q59221146</td>\n",
       "    </tr>\n",
       "    <tr>\n",
       "      <th>3</th>\n",
       "      <td>Q2668072</td>\n",
       "      <td>'collection'@en</td>\n",
       "      <td>P7328</td>\n",
       "      <td>'amount cataloged'@en</td>\n",
       "      <td>0</td>\n",
       "      <td></td>\n",
       "      <td>Q11723795</td>\n",
       "      <td>44981</td>\n",
       "      <td>Q2668072_P7328_+0__Q11723795</td>\n",
       "    </tr>\n",
       "    <tr>\n",
       "      <th>4</th>\n",
       "      <td>Q2668072</td>\n",
       "      <td>'collection'@en</td>\n",
       "      <td>P7328</td>\n",
       "      <td>'amount cataloged'@en</td>\n",
       "      <td>0</td>\n",
       "      <td></td>\n",
       "      <td>Q59221146</td>\n",
       "      <td>30580</td>\n",
       "      <td>Q2668072_P7328_+0__Q59221146</td>\n",
       "    </tr>\n",
       "  </tbody>\n",
       "</table>\n",
       "</div>"
      ],
      "text/plain": [
       "      node1           type_label  label                      property_label  \\\n",
       "0  Q2668072      'collection'@en  P1436  'collection or exhibition size'@en   \n",
       "1    Q30612  'clinical trial'@en  P2899                    'minimum age'@en   \n",
       "2  Q2668072      'collection'@en  P1436  'collection or exhibition size'@en   \n",
       "3  Q2668072      'collection'@en  P7328               'amount cataloged'@en   \n",
       "4  Q2668072      'collection'@en  P7328               'amount cataloged'@en   \n",
       "\n",
       "   node2 si_units   wd_units  positives                            id  \n",
       "0      0           Q11723795     229933  Q2668072_P1436_+0__Q11723795  \n",
       "1     18                Q577     213715        Q30612_P2899_+18__Q577  \n",
       "2      0           Q59221146     212568  Q2668072_P1436_+0__Q59221146  \n",
       "3      0           Q11723795      44981  Q2668072_P7328_+0__Q11723795  \n",
       "4      0           Q59221146      30580  Q2668072_P7328_+0__Q59221146  "
      ]
     },
     "metadata": {},
     "output_type": "display_data"
    }
   ],
   "source": [
    "display(pd.read_csv(\"{}/candidate_AVLs_quantity.tsv\".format(os.environ[\"OUT\"]), delimiter = '\\t', nrows=5).fillna(\"\"))\n"
   ]
  },
  {
   "cell_type": "markdown",
   "metadata": {},
   "source": [
    "### 2.4 Combining entity --> attribute label mappings to single table (for use in creating RALs)"
   ]
  },
  {
   "cell_type": "code",
   "execution_count": 102,
   "metadata": {},
   "outputs": [],
   "source": [
    "!kgtk cat \\\n",
    "-i $OUT/entity_AVLs_time.year.tsv \\\n",
    "-i $OUT/entity_AVLs_quantity.tsv \\\n",
    "-o $OUT/entity_AVLs_all.tsv"
   ]
  },
  {
   "cell_type": "markdown",
   "metadata": {},
   "source": [
    "## 3. Create RELs with counts of positive entities"
   ]
  },
  {
   "cell_type": "markdown",
   "metadata": {},
   "source": [
    "creating joined file of entity and labels"
   ]
  },
  {
   "cell_type": "code",
   "execution_count": 263,
   "metadata": {},
   "outputs": [
    {
     "name": "stdout",
     "output_type": "stream",
     "text": [
      "CPU times: user 55.7 s, sys: 11.6 s, total: 1min 7s\n",
      "Wall time: 42min 51s\n"
     ]
    }
   ],
   "source": [
    "%%time\n",
    "!kgtk query -i $ITEM_FILE -i $OUT/type_mapping.tsv -i $LABEL_FILE \\\n",
    "-o $OUT/entity_RELs.tsv --graph-cache $STORE \\\n",
    "--match '`'\"$ITEM_FILE\"'`: (n1)-[l {label:p}]->(n2), type: (n1)-[]->(type), `'\"$LABEL_FILE\"'`: (p)-[:label]->(p_lab), `'\"$LABEL_FILE\"'`: (type)-[:label]->(t_lab)' \\\n",
    "--return 'distinct n1 as node1, \"_\" as label, printf(\"%s_%s_%s\",type,p,n2) as node2, type as type, t_lab as type_label, p as prop, p_lab as property_label, n2 as value, \"_\" as id' \\\n",
    "--where 'p_lab.kgtk_lqstring_lang_suffix = \"en\" AND t_lab.kgtk_lqstring_lang_suffix = \"en\"' \\\n",
    "--order-by 'n1'\n"
   ]
  },
  {
   "cell_type": "code",
   "execution_count": null,
   "metadata": {},
   "outputs": [],
   "source": [
    "!kgtk add-id -i $OUT/entity_RELs.tsv -o $OUT/entity_RELs.temp.tsv --overwrite-id \\\n",
    "&& mv $OUT/entity_RELs.temp.tsv $OUT/entity_RELs.tsv"
   ]
  },
  {
   "cell_type": "code",
   "execution_count": null,
   "metadata": {},
   "outputs": [],
   "source": [
    "display(pd.read_csv(\"{}/entity_RELs.tsv\".format(output_dir), delimiter = '\\t', nrows=5).fillna(\"\"))\n"
   ]
  },
  {
   "cell_type": "markdown",
   "metadata": {},
   "source": [
    "Aggregating distinct labels with counts"
   ]
  },
  {
   "cell_type": "code",
   "execution_count": null,
   "metadata": {},
   "outputs": [],
   "source": [
    "%%time\n",
    "!kgtk query -i $OUT/entity_RELs.tsv \\\n",
    "-o $OUT/candidate_RELs.tsv --graph-cache $STORE \\\n",
    "--match 'entity_RELs: (e)-[l {type:t, type_label:t_lab, prop:p, property_label:p_lab, value:val}]->(label_id)' \\\n",
    "--return 'distinct t as node1, t_lab as type_label, p as label, p_lab as property_label, val as node2, count(distinct e) as positives, label_id as id' \\\n",
    "--order-by 'count(distinct e) desc'\n"
   ]
  },
  {
   "cell_type": "code",
   "execution_count": null,
   "metadata": {
    "scrolled": true
   },
   "outputs": [],
   "source": [
    "display(pd.read_csv(\"{}/candidate_RELs.tsv\".format(os.environ[\"OUT\"]), delimiter = '\\t', nrows=5).fillna(\"\"))\n"
   ]
  },
  {
   "cell_type": "markdown",
   "metadata": {},
   "source": [
    "## 4. Create AILs with counts of positive entities\n",
    "Similar to what we did for AVLs, we also want to keep track of entities --> matching attribute labels for future use in RAL creation (step 5)\n",
    "\n",
    "We will create attribute *interval* labels from our attribute *value* labels that we previously created. The code that does this is explored in the explore_label_discretization notebook, and implemented in label_discretization.py."
   ]
  },
  {
   "cell_type": "markdown",
   "metadata": {},
   "source": [
    "For each entity --> labels file that has a numeric value type (year or quantity) we will:\n",
    "1. Create a corresponding entity --> bucketed labels file. For example, a label in the input that looks like <country, population, 1,000,000> might get summarized (bucketed) in the output to look like <country, population, (500,000, 2,000,000)>.\n",
    "2. Use the resulting bucketed entity_attribute_labels file to once again aggregate labels with counts of matching entities. This will give us a candidate_labels_ail file.\n",
    "\n",
    "*Note on syntax we are using for ranges*: we will define ranges with lower and upper bounds. Ranges may have blank values for the lower and/or upper bounds. A range that only has an upper bound means the bin includes all values <= the upper bound. A range that has no lower or upper bound denotes a single bin that includes all values. Such ranges may be created for labels of a <type, property> have very few datapoints.\n",
    "\n",
    "Note, the code will create some output about labels that it may not be creating good buckets for. We'll silence this output so it doesn't take up too much space when viewing on github. If you would like to unsilence this output, comment out the `%%capture` lines"
   ]
  },
  {
   "cell_type": "markdown",
   "metadata": {},
   "source": [
    "### 4.1 Years\n",
    "Create entity --> bucketed labels file"
   ]
  },
  {
   "cell_type": "code",
   "execution_count": 114,
   "metadata": {},
   "outputs": [],
   "source": [
    "avl_file_in = \"{}/entity_AVLs_time.year.tsv\".format(output_dir)\n",
    "ail_file_out = \"{}/entity_AILs_time.year.tsv\".format(output_dir)\n",
    "discretize_labels_fixed_width(avl_file_in, ail_file_out, width=10)"
   ]
  },
  {
   "cell_type": "code",
   "execution_count": null,
   "metadata": {},
   "outputs": [],
   "source": [
    "!kgtk query -i $OUT/entity_AILs_time.year.tsv \\\n",
    "-o $OUT/entity_AILs_time.year.temp.tsv --graph-cache $STORE \\\n",
    "--match 'AILs: (e)-[l {type:t, type_label:t_lab, prop:p, property_label:p_lab, lower_bound:lb, upper_bound:ub}]->()' \\\n",
    "--return 'e as node1, \"_\" as label, printf(\"%s_%s_%s-%s\",t,p,lb,ub) as node2, t as type, t_lab as type_label, p as prop, p_lab as property_label, lb as lower_bound, ub as upper_bound, l as id' \\\n",
    "--order-by 'e'\\\n",
    "&& mv $OUT/entity_AILs_time.year.temp.tsv $OUT/entity_AILs_time.year.tsv"
   ]
  },
  {
   "cell_type": "code",
   "execution_count": 119,
   "metadata": {},
   "outputs": [],
   "source": [
    "# !kgtk query -i $OUT/entity_attribute_labels_time.year_bucketed.tsv \\\n",
    "# -o $OUT/entity_AILs_time.year.tsv --graph-cache $STORE \\\n",
    "# --match 'labels: (t)-[l {entity:e, type_label:t_lab, label:p, property_label:p_lab, lower_bound:lb, upper_bound:ub}]->(val)' \\\n",
    "# --return 'distinct e as node1, \"_\" as label, printf(\"%s_%s_%s-%s\",t,p,lb,ub) as node2, t as type, t_lab as type_label, p as prop, p_lab as property_label, lb as lower_bound, ub as upper_bound, \"_\" as id' \\\n",
    "# --order-by 'e'\\"
   ]
  },
  {
   "cell_type": "code",
   "execution_count": 120,
   "metadata": {},
   "outputs": [],
   "source": [
    "# !kgtk add-id -i $OUT/entity_AILs_time.year.tsv -o $OUT/entity_AILs_time.year.temp.tsv --overwrite-id \\\n",
    "# && mv $OUT/entity_AILs_time.year.temp.tsv $OUT/entity_AILs_time.year.tsv"
   ]
  },
  {
   "cell_type": "code",
   "execution_count": 127,
   "metadata": {},
   "outputs": [
    {
     "data": {
      "text/html": [
       "<div>\n",
       "<style scoped>\n",
       "    .dataframe tbody tr th:only-of-type {\n",
       "        vertical-align: middle;\n",
       "    }\n",
       "\n",
       "    .dataframe tbody tr th {\n",
       "        vertical-align: top;\n",
       "    }\n",
       "\n",
       "    .dataframe thead th {\n",
       "        text-align: right;\n",
       "    }\n",
       "</style>\n",
       "<table border=\"1\" class=\"dataframe\">\n",
       "  <thead>\n",
       "    <tr style=\"text-align: right;\">\n",
       "      <th></th>\n",
       "      <th>node1</th>\n",
       "      <th>label</th>\n",
       "      <th>node2</th>\n",
       "      <th>type</th>\n",
       "      <th>type_label</th>\n",
       "      <th>prop</th>\n",
       "      <th>property_label</th>\n",
       "      <th>lower_bound</th>\n",
       "      <th>upper_bound</th>\n",
       "      <th>id</th>\n",
       "    </tr>\n",
       "  </thead>\n",
       "  <tbody>\n",
       "    <tr>\n",
       "      <th>0</th>\n",
       "      <td>P1841</td>\n",
       "      <td>_</td>\n",
       "      <td>Q55977691_P580_2010-2020</td>\n",
       "      <td>Q55977691</td>\n",
       "      <td>'Wikidata property for authority control for a...</td>\n",
       "      <td>P580</td>\n",
       "      <td>'start time'@en</td>\n",
       "      <td>2010</td>\n",
       "      <td>2020</td>\n",
       "      <td>E1</td>\n",
       "    </tr>\n",
       "    <tr>\n",
       "      <th>1</th>\n",
       "      <td>P2847</td>\n",
       "      <td>_</td>\n",
       "      <td>Q18608871_P2669_2010-2020</td>\n",
       "      <td>Q18608871</td>\n",
       "      <td>'Wikidata property for items about people'@en</td>\n",
       "      <td>P2669</td>\n",
       "      <td>'discontinued date'@en</td>\n",
       "      <td>2010</td>\n",
       "      <td>2020</td>\n",
       "      <td>E2</td>\n",
       "    </tr>\n",
       "    <tr>\n",
       "      <th>2</th>\n",
       "      <td>P2847</td>\n",
       "      <td>_</td>\n",
       "      <td>Q24239898_P2669_2010-2020</td>\n",
       "      <td>Q24239898</td>\n",
       "      <td>'Wikidata property for Wikivoyage listings'@en</td>\n",
       "      <td>P2669</td>\n",
       "      <td>'discontinued date'@en</td>\n",
       "      <td>2010</td>\n",
       "      <td>2020</td>\n",
       "      <td>E3</td>\n",
       "    </tr>\n",
       "    <tr>\n",
       "      <th>3</th>\n",
       "      <td>P2847</td>\n",
       "      <td>_</td>\n",
       "      <td>Q30041186_P2669_2010-2020</td>\n",
       "      <td>Q30041186</td>\n",
       "      <td>'Wikidata property related to online communiti...</td>\n",
       "      <td>P2669</td>\n",
       "      <td>'discontinued date'@en</td>\n",
       "      <td>2010</td>\n",
       "      <td>2020</td>\n",
       "      <td>E4</td>\n",
       "    </tr>\n",
       "    <tr>\n",
       "      <th>4</th>\n",
       "      <td>P2847</td>\n",
       "      <td>_</td>\n",
       "      <td>Q60457486_P2669_2010-2020</td>\n",
       "      <td>Q60457486</td>\n",
       "      <td>'Wikidata property for a discontinued website'@en</td>\n",
       "      <td>P2669</td>\n",
       "      <td>'discontinued date'@en</td>\n",
       "      <td>2010</td>\n",
       "      <td>2020</td>\n",
       "      <td>E5</td>\n",
       "    </tr>\n",
       "  </tbody>\n",
       "</table>\n",
       "</div>"
      ],
      "text/plain": [
       "   node1 label                      node2       type  \\\n",
       "0  P1841     _   Q55977691_P580_2010-2020  Q55977691   \n",
       "1  P2847     _  Q18608871_P2669_2010-2020  Q18608871   \n",
       "2  P2847     _  Q24239898_P2669_2010-2020  Q24239898   \n",
       "3  P2847     _  Q30041186_P2669_2010-2020  Q30041186   \n",
       "4  P2847     _  Q60457486_P2669_2010-2020  Q60457486   \n",
       "\n",
       "                                          type_label   prop  \\\n",
       "0  'Wikidata property for authority control for a...   P580   \n",
       "1      'Wikidata property for items about people'@en  P2669   \n",
       "2     'Wikidata property for Wikivoyage listings'@en  P2669   \n",
       "3  'Wikidata property related to online communiti...  P2669   \n",
       "4  'Wikidata property for a discontinued website'@en  P2669   \n",
       "\n",
       "           property_label  lower_bound  upper_bound  id  \n",
       "0         'start time'@en         2010         2020  E1  \n",
       "1  'discontinued date'@en         2010         2020  E2  \n",
       "2  'discontinued date'@en         2010         2020  E3  \n",
       "3  'discontinued date'@en         2010         2020  E4  \n",
       "4  'discontinued date'@en         2010         2020  E5  "
      ]
     },
     "metadata": {},
     "output_type": "display_data"
    }
   ],
   "source": [
    "display(pd.read_csv(f\"{output_dir}/entity_AILs_time.year.tsv\", delimiter = '\\t', nrows=5).fillna(\"\"))"
   ]
  },
  {
   "cell_type": "markdown",
   "metadata": {},
   "source": [
    "Aggregating distinct interval labels with positive entity counts"
   ]
  },
  {
   "cell_type": "code",
   "execution_count": 124,
   "metadata": {},
   "outputs": [],
   "source": [
    "!kgtk query -i $OUT/entity_AILs_time.year.tsv \\\n",
    "-o $OUT/candidate_AILs_time.year.tsv --graph-cache $STORE \\\n",
    "--match 'AILs: (e)-[l {type:t, type_label:t_lab, prop:p, property_label:p_lab, lower_bound:lb, upper_bound:ub}]->(label_id)' \\\n",
    "--return 'distinct t as node1, t_lab as type_label, p as label, p_lab as property_label, \"\" as node2, lb as lower_bound, ub as upper_bound, count(e) as positives, label_id as id' \\\n",
    "--order-by 'count(e) desc'"
   ]
  },
  {
   "cell_type": "code",
   "execution_count": 126,
   "metadata": {},
   "outputs": [
    {
     "data": {
      "text/html": [
       "<div>\n",
       "<style scoped>\n",
       "    .dataframe tbody tr th:only-of-type {\n",
       "        vertical-align: middle;\n",
       "    }\n",
       "\n",
       "    .dataframe tbody tr th {\n",
       "        vertical-align: top;\n",
       "    }\n",
       "\n",
       "    .dataframe thead th {\n",
       "        text-align: right;\n",
       "    }\n",
       "</style>\n",
       "<table border=\"1\" class=\"dataframe\">\n",
       "  <thead>\n",
       "    <tr style=\"text-align: right;\">\n",
       "      <th></th>\n",
       "      <th>node1</th>\n",
       "      <th>type_label</th>\n",
       "      <th>label</th>\n",
       "      <th>property_label</th>\n",
       "      <th>node2</th>\n",
       "      <th>lower_bound</th>\n",
       "      <th>upper_bound</th>\n",
       "      <th>positives</th>\n",
       "      <th>id</th>\n",
       "    </tr>\n",
       "  </thead>\n",
       "  <tbody>\n",
       "    <tr>\n",
       "      <th>0</th>\n",
       "      <td>Q5</td>\n",
       "      <td>'human'@en</td>\n",
       "      <td>P569</td>\n",
       "      <td>'date of birth'@en</td>\n",
       "      <td></td>\n",
       "      <td>1950</td>\n",
       "      <td>1960</td>\n",
       "      <td>387577</td>\n",
       "      <td>Q5_P569_1950-1960</td>\n",
       "    </tr>\n",
       "    <tr>\n",
       "      <th>1</th>\n",
       "      <td>Q5</td>\n",
       "      <td>'human'@en</td>\n",
       "      <td>P569</td>\n",
       "      <td>'date of birth'@en</td>\n",
       "      <td></td>\n",
       "      <td>1960</td>\n",
       "      <td>1970</td>\n",
       "      <td>369605</td>\n",
       "      <td>Q5_P569_1960-1970</td>\n",
       "    </tr>\n",
       "    <tr>\n",
       "      <th>2</th>\n",
       "      <td>Q5</td>\n",
       "      <td>'human'@en</td>\n",
       "      <td>P569</td>\n",
       "      <td>'date of birth'@en</td>\n",
       "      <td></td>\n",
       "      <td>1970</td>\n",
       "      <td>1980</td>\n",
       "      <td>343421</td>\n",
       "      <td>Q5_P569_1970-1980</td>\n",
       "    </tr>\n",
       "    <tr>\n",
       "      <th>3</th>\n",
       "      <td>Q5</td>\n",
       "      <td>'human'@en</td>\n",
       "      <td>P569</td>\n",
       "      <td>'date of birth'@en</td>\n",
       "      <td></td>\n",
       "      <td>1940</td>\n",
       "      <td>1950</td>\n",
       "      <td>335242</td>\n",
       "      <td>Q5_P569_1940-1950</td>\n",
       "    </tr>\n",
       "    <tr>\n",
       "      <th>4</th>\n",
       "      <td>Q5</td>\n",
       "      <td>'human'@en</td>\n",
       "      <td>P569</td>\n",
       "      <td>'date of birth'@en</td>\n",
       "      <td></td>\n",
       "      <td>1980</td>\n",
       "      <td>1990</td>\n",
       "      <td>327021</td>\n",
       "      <td>Q5_P569_1980-1990</td>\n",
       "    </tr>\n",
       "  </tbody>\n",
       "</table>\n",
       "</div>"
      ],
      "text/plain": [
       "  node1  type_label label      property_label node2  lower_bound  upper_bound  \\\n",
       "0    Q5  'human'@en  P569  'date of birth'@en               1950         1960   \n",
       "1    Q5  'human'@en  P569  'date of birth'@en               1960         1970   \n",
       "2    Q5  'human'@en  P569  'date of birth'@en               1970         1980   \n",
       "3    Q5  'human'@en  P569  'date of birth'@en               1940         1950   \n",
       "4    Q5  'human'@en  P569  'date of birth'@en               1980         1990   \n",
       "\n",
       "   positives                 id  \n",
       "0     387577  Q5_P569_1950-1960  \n",
       "1     369605  Q5_P569_1960-1970  \n",
       "2     343421  Q5_P569_1970-1980  \n",
       "3     335242  Q5_P569_1940-1950  \n",
       "4     327021  Q5_P569_1980-1990  "
      ]
     },
     "metadata": {},
     "output_type": "display_data"
    }
   ],
   "source": [
    "display(pd.read_csv(\"{}/candidate_AILs_time.year.tsv\".format(output_dir), delimiter = '\\t', nrows=5).fillna(\"\"))"
   ]
  },
  {
   "cell_type": "markdown",
   "metadata": {},
   "source": [
    "### 4.2 Quantities\n",
    "Create entity --> bucketed labels file"
   ]
  },
  {
   "cell_type": "code",
   "execution_count": 4,
   "metadata": {
    "scrolled": true
   },
   "outputs": [],
   "source": [
    "avl_file_in = \"{}/entity_AVLs_quantity.tsv\".format(os.environ[\"OUT\"])\n",
    "ail_file_out = \"{}/entity_AILs_quantity.tsv\".format(os.environ[\"OUT\"])\n",
    "discretize_labels_by_percentile(avl_file_in, ail_file_out, num_bins=5)"
   ]
  },
  {
   "cell_type": "code",
   "execution_count": null,
   "metadata": {},
   "outputs": [],
   "source": [
    "!kgtk query -i $OUT/entity_AILs_quantity.tsv \\\n",
    "-o $OUT/entity_AILs_quantity.temp.tsv --graph-cache $STORE \\\n",
    "--match 'AILs: (e)-[l {type:t, type_label:t_lab, prop:p, property_label:p_lab, lower_bound:lb, upper_bound:ub, si_units:si, wd_units:wd}]->()' \\\n",
    "--return 'e as node1, \"_\" as label, printf(\"%s_%s_%s-%s_%s_%s\",t,p,lb,ub,si,wd) as node2, t as type, t_lab as type_label, p as prop, p_lab as property_label, lb as lower_bound, ub as upper_bound, si as si_units, wd as wd_units, l as id' \\\n",
    "--order-by 'e'\\\n",
    "&& mv $OUT/entity_AILs_quantity.temp.tsv $OUT/entity_AILs_quantity.tsv"
   ]
  },
  {
   "cell_type": "code",
   "execution_count": 128,
   "metadata": {},
   "outputs": [],
   "source": [
    "# !kgtk query -i $OUT/entity_attribute_labels_quantity_bucketed.tsv \\\n",
    "# -o $OUT/entity_AILs_quantity.tsv --graph-cache $STORE \\\n",
    "# --match 'labels: (t)-[l {entity:e, type_label:t_lab, label:p, property_label:p_lab, lower_bound:lb, upper_bound:ub, si_units:si, wd_units:wd}]->(val)' \\\n",
    "# --return 'distinct e as node1, \"_\" as label, printf(\"%s_%s_%s-%s_%s_%s\",t,p,lb,ub,si,wd) as node2, t as type, t_lab as type_label, p as prop, p_lab as property_label, lb as lower_bound, ub as upper_bound, si as si_units, wd as wd_units, l as id' \\\n",
    "# --order-by 'e'\\"
   ]
  },
  {
   "cell_type": "code",
   "execution_count": 129,
   "metadata": {},
   "outputs": [
    {
     "data": {
      "text/html": [
       "<div>\n",
       "<style scoped>\n",
       "    .dataframe tbody tr th:only-of-type {\n",
       "        vertical-align: middle;\n",
       "    }\n",
       "\n",
       "    .dataframe tbody tr th {\n",
       "        vertical-align: top;\n",
       "    }\n",
       "\n",
       "    .dataframe thead th {\n",
       "        text-align: right;\n",
       "    }\n",
       "</style>\n",
       "<table border=\"1\" class=\"dataframe\">\n",
       "  <thead>\n",
       "    <tr style=\"text-align: right;\">\n",
       "      <th></th>\n",
       "      <th>node1</th>\n",
       "      <th>label</th>\n",
       "      <th>node2</th>\n",
       "      <th>type</th>\n",
       "      <th>type_label</th>\n",
       "      <th>prop</th>\n",
       "      <th>property_label</th>\n",
       "      <th>lower_bound</th>\n",
       "      <th>upper_bound</th>\n",
       "      <th>si_units</th>\n",
       "      <th>wd_units</th>\n",
       "      <th>id</th>\n",
       "    </tr>\n",
       "  </thead>\n",
       "  <tbody>\n",
       "    <tr>\n",
       "      <th>0</th>\n",
       "      <td>P1004</td>\n",
       "      <td>_</td>\n",
       "      <td>Q19829908_P4876_7883.0-37427.0__</td>\n",
       "      <td>Q19829908</td>\n",
       "      <td>'Wikidata property for authority control for p...</td>\n",
       "      <td>P4876</td>\n",
       "      <td>'number of records'@en</td>\n",
       "      <td>7883.0</td>\n",
       "      <td>37427.0</td>\n",
       "      <td></td>\n",
       "      <td></td>\n",
       "      <td>E1</td>\n",
       "    </tr>\n",
       "    <tr>\n",
       "      <th>1</th>\n",
       "      <td>P1004</td>\n",
       "      <td>_</td>\n",
       "      <td>Q24075706_P4876_18000.0-95823.0__</td>\n",
       "      <td>Q24075706</td>\n",
       "      <td>'Wikidata property for authority control, with...</td>\n",
       "      <td>P4876</td>\n",
       "      <td>'number of records'@en</td>\n",
       "      <td>18000.0</td>\n",
       "      <td>95823.0</td>\n",
       "      <td></td>\n",
       "      <td></td>\n",
       "      <td>E2</td>\n",
       "    </tr>\n",
       "    <tr>\n",
       "      <th>2</th>\n",
       "      <td>P1004</td>\n",
       "      <td>_</td>\n",
       "      <td>Q27525351_P4876_37427.0-45000.0__</td>\n",
       "      <td>Q27525351</td>\n",
       "      <td>'Wikidata property related to music'@en</td>\n",
       "      <td>P4876</td>\n",
       "      <td>'number of records'@en</td>\n",
       "      <td>37427.0</td>\n",
       "      <td>45000.0</td>\n",
       "      <td></td>\n",
       "      <td></td>\n",
       "      <td>E3</td>\n",
       "    </tr>\n",
       "    <tr>\n",
       "      <th>3</th>\n",
       "      <td>P1014</td>\n",
       "      <td>_</td>\n",
       "      <td>Q27918607_P4876_38128.0-160203.0__</td>\n",
       "      <td>Q27918607</td>\n",
       "      <td>'Wikidata property related to art'@en</td>\n",
       "      <td>P4876</td>\n",
       "      <td>'number of records'@en</td>\n",
       "      <td>38128.0</td>\n",
       "      <td>160203.0</td>\n",
       "      <td></td>\n",
       "      <td></td>\n",
       "      <td>E4</td>\n",
       "    </tr>\n",
       "    <tr>\n",
       "      <th>4</th>\n",
       "      <td>P1014</td>\n",
       "      <td>_</td>\n",
       "      <td>Q43831109_P4876_53249.0-53249.0__</td>\n",
       "      <td>Q43831109</td>\n",
       "      <td>'Wikidata property related to architecture'@en</td>\n",
       "      <td>P4876</td>\n",
       "      <td>'number of records'@en</td>\n",
       "      <td>53249.0</td>\n",
       "      <td>53249.0</td>\n",
       "      <td></td>\n",
       "      <td></td>\n",
       "      <td>E5</td>\n",
       "    </tr>\n",
       "  </tbody>\n",
       "</table>\n",
       "</div>"
      ],
      "text/plain": [
       "   node1 label                               node2       type  \\\n",
       "0  P1004     _    Q19829908_P4876_7883.0-37427.0__  Q19829908   \n",
       "1  P1004     _   Q24075706_P4876_18000.0-95823.0__  Q24075706   \n",
       "2  P1004     _   Q27525351_P4876_37427.0-45000.0__  Q27525351   \n",
       "3  P1014     _  Q27918607_P4876_38128.0-160203.0__  Q27918607   \n",
       "4  P1014     _   Q43831109_P4876_53249.0-53249.0__  Q43831109   \n",
       "\n",
       "                                          type_label   prop  \\\n",
       "0  'Wikidata property for authority control for p...  P4876   \n",
       "1  'Wikidata property for authority control, with...  P4876   \n",
       "2            'Wikidata property related to music'@en  P4876   \n",
       "3              'Wikidata property related to art'@en  P4876   \n",
       "4     'Wikidata property related to architecture'@en  P4876   \n",
       "\n",
       "           property_label  lower_bound  upper_bound si_units wd_units  id  \n",
       "0  'number of records'@en       7883.0      37427.0                    E1  \n",
       "1  'number of records'@en      18000.0      95823.0                    E2  \n",
       "2  'number of records'@en      37427.0      45000.0                    E3  \n",
       "3  'number of records'@en      38128.0     160203.0                    E4  \n",
       "4  'number of records'@en      53249.0      53249.0                    E5  "
      ]
     },
     "metadata": {},
     "output_type": "display_data"
    }
   ],
   "source": [
    "display(pd.read_csv(f\"{output_dir}/entity_AILs_quantity.tsv\", delimiter = '\\t', nrows=5).fillna(\"\"))"
   ]
  },
  {
   "cell_type": "markdown",
   "metadata": {},
   "source": [
    "Aggregating distinct interval labels with positive entity counts"
   ]
  },
  {
   "cell_type": "code",
   "execution_count": 131,
   "metadata": {},
   "outputs": [],
   "source": [
    "!kgtk query -i $OUT/entity_AILs_quantity.tsv \\\n",
    "-o $OUT/candidate_AILs_quantity.tsv --graph-cache $STORE \\\n",
    "--match 'AILs: (e)-[l {type:t, type_label:t_lab, prop:p, property_label:p_lab, lower_bound:lb, upper_bound:ub, si_units:si, wd_units:wd}]->(label_id)' \\\n",
    "--return 'distinct t as node1, t_lab as type_label, p as label, p_lab as property_label, \"\" as node2, lb as lower_bound, ub as upper_bound, si as si_units, wd as wd_units, count(e) as positives, label_id as id' \\\n",
    "--order-by 'count(e) desc'"
   ]
  },
  {
   "cell_type": "code",
   "execution_count": 132,
   "metadata": {},
   "outputs": [
    {
     "data": {
      "text/html": [
       "<div>\n",
       "<style scoped>\n",
       "    .dataframe tbody tr th:only-of-type {\n",
       "        vertical-align: middle;\n",
       "    }\n",
       "\n",
       "    .dataframe tbody tr th {\n",
       "        vertical-align: top;\n",
       "    }\n",
       "\n",
       "    .dataframe thead th {\n",
       "        text-align: right;\n",
       "    }\n",
       "</style>\n",
       "<table border=\"1\" class=\"dataframe\">\n",
       "  <thead>\n",
       "    <tr style=\"text-align: right;\">\n",
       "      <th></th>\n",
       "      <th>node1</th>\n",
       "      <th>type_label</th>\n",
       "      <th>label</th>\n",
       "      <th>property_label</th>\n",
       "      <th>node2</th>\n",
       "      <th>lower_bound</th>\n",
       "      <th>upper_bound</th>\n",
       "      <th>si_units</th>\n",
       "      <th>wd_units</th>\n",
       "      <th>positives</th>\n",
       "      <th>id</th>\n",
       "    </tr>\n",
       "  </thead>\n",
       "  <tbody>\n",
       "    <tr>\n",
       "      <th>0</th>\n",
       "      <td>Q30612</td>\n",
       "      <td>'clinical trial'@en</td>\n",
       "      <td>P2899</td>\n",
       "      <td>'minimum age'@en</td>\n",
       "      <td></td>\n",
       "      <td>2.00000</td>\n",
       "      <td>18.0</td>\n",
       "      <td></td>\n",
       "      <td>Q577</td>\n",
       "      <td>246462</td>\n",
       "      <td>Q30612_P2899_2.0-18.0__Q577</td>\n",
       "    </tr>\n",
       "    <tr>\n",
       "      <th>1</th>\n",
       "      <td>Q2668072</td>\n",
       "      <td>'collection'@en</td>\n",
       "      <td>P1436</td>\n",
       "      <td>'collection or exhibition size'@en</td>\n",
       "      <td></td>\n",
       "      <td>0.00000</td>\n",
       "      <td>0.0</td>\n",
       "      <td></td>\n",
       "      <td>Q11723795</td>\n",
       "      <td>229933</td>\n",
       "      <td>Q2668072_P1436_0.0-0.0__Q11723795</td>\n",
       "    </tr>\n",
       "    <tr>\n",
       "      <th>2</th>\n",
       "      <td>Q2668072</td>\n",
       "      <td>'collection'@en</td>\n",
       "      <td>P1436</td>\n",
       "      <td>'collection or exhibition size'@en</td>\n",
       "      <td></td>\n",
       "      <td>0.00000</td>\n",
       "      <td>0.0</td>\n",
       "      <td></td>\n",
       "      <td>Q59221146</td>\n",
       "      <td>212568</td>\n",
       "      <td>Q2668072_P1436_0.0-0.0__Q59221146</td>\n",
       "    </tr>\n",
       "    <tr>\n",
       "      <th>3</th>\n",
       "      <td>Q30612</td>\n",
       "      <td>'clinical trial'@en</td>\n",
       "      <td>P1132</td>\n",
       "      <td>'number of participants'@en</td>\n",
       "      <td></td>\n",
       "      <td>0.00000</td>\n",
       "      <td>25.0</td>\n",
       "      <td></td>\n",
       "      <td></td>\n",
       "      <td>70937</td>\n",
       "      <td>Q30612_P1132_0.0-25.0__</td>\n",
       "    </tr>\n",
       "    <tr>\n",
       "      <th>4</th>\n",
       "      <td>Q1931185</td>\n",
       "      <td>'astronomical radio source'@en</td>\n",
       "      <td>P6257</td>\n",
       "      <td>'right ascension'@en</td>\n",
       "      <td></td>\n",
       "      <td>0.00042</td>\n",
       "      <td>111.4</td>\n",
       "      <td></td>\n",
       "      <td>Q28390</td>\n",
       "      <td>70371</td>\n",
       "      <td>Q1931185_P6257_0.00042-111.4__Q28390</td>\n",
       "    </tr>\n",
       "  </tbody>\n",
       "</table>\n",
       "</div>"
      ],
      "text/plain": [
       "      node1                      type_label  label  \\\n",
       "0    Q30612             'clinical trial'@en  P2899   \n",
       "1  Q2668072                 'collection'@en  P1436   \n",
       "2  Q2668072                 'collection'@en  P1436   \n",
       "3    Q30612             'clinical trial'@en  P1132   \n",
       "4  Q1931185  'astronomical radio source'@en  P6257   \n",
       "\n",
       "                       property_label node2  lower_bound  upper_bound  \\\n",
       "0                    'minimum age'@en            2.00000         18.0   \n",
       "1  'collection or exhibition size'@en            0.00000          0.0   \n",
       "2  'collection or exhibition size'@en            0.00000          0.0   \n",
       "3         'number of participants'@en            0.00000         25.0   \n",
       "4                'right ascension'@en            0.00042        111.4   \n",
       "\n",
       "  si_units   wd_units  positives                                    id  \n",
       "0                Q577     246462           Q30612_P2899_2.0-18.0__Q577  \n",
       "1           Q11723795     229933     Q2668072_P1436_0.0-0.0__Q11723795  \n",
       "2           Q59221146     212568     Q2668072_P1436_0.0-0.0__Q59221146  \n",
       "3                          70937               Q30612_P1132_0.0-25.0__  \n",
       "4              Q28390      70371  Q1931185_P6257_0.00042-111.4__Q28390  "
      ]
     },
     "metadata": {},
     "output_type": "display_data"
    }
   ],
   "source": [
    "display(pd.read_csv(\"{}/candidate_AILs_quantity.tsv\".format(output_dir), delimiter = '\\t', nrows=5).fillna(\"\"))"
   ]
  },
  {
   "cell_type": "markdown",
   "metadata": {},
   "source": [
    "### 4.3 Combining entity --> attribute interval label mappings to single table"
   ]
  },
  {
   "cell_type": "code",
   "execution_count": 133,
   "metadata": {},
   "outputs": [],
   "source": [
    "!kgtk cat \\\n",
    "-i $OUT/entity_AILs_quantity.tsv \\\n",
    "-i $OUT/entity_AILs_time.year.tsv \\\n",
    "-o $OUT/entity_AILs_all.tsv"
   ]
  },
  {
   "cell_type": "markdown",
   "metadata": {},
   "source": [
    "## 5. Create RALs with counts of positive entities"
   ]
  },
  {
   "cell_type": "markdown",
   "metadata": {},
   "source": [
    "### 5.1 RALs created from attribute *value* labels:"
   ]
  },
  {
   "cell_type": "code",
   "execution_count": null,
   "metadata": {},
   "outputs": [],
   "source": [
    "%%time\n",
    "!kgtk query --debug -i $ITEM_FILE -i $OUT/type_mapping.tsv -i $LABEL_FILE \\\n",
    "-i $OUT/entity_AVLs_all.tsv -o $OUT/entity_RAVLs.tsv --graph-cache $STORE \\\n",
    "--match '`'\"$ITEM_FILE\"'`: (e1)-[l1 {label:p1}]->(e2), type: (e1)-[]->(t1), entity_AVLs: (e2)-[l2]->(value_label_id), `'\"$LABEL_FILE\"'`: (p1)-[:label]->(p1_lab), `'\"$LABEL_FILE\"'`: (t1)-[:label]->(t1_lab)' \\\n",
    "--return 'distinct e1 as node1, \"_\" as label, printf(\"%s_%s_%s\",t1,p1,value_label_id) as node2, t1 as type, t1_lab as type_label, p1 as prop, p1_lab as property_label, value_label_id as value, \"_\" as id' \\\n",
    "--order-by 'e1' \\\n",
    "--where 'p1_lab.kgtk_lqstring_lang_suffix = \"en\" AND t1_lab.kgtk_lqstring_lang_suffix = \"en\"'"
   ]
  },
  {
   "cell_type": "code",
   "execution_count": null,
   "metadata": {},
   "outputs": [],
   "source": [
    "!kgtk add-id -i $OUT/entity_RAVLs.tsv -o $OUT/entity_RAVLs.temp.tsv --overwrite-id \\\n",
    "&& mv $OUT/entity_RAVLs.temp.tsv $OUT/entity_RAVLs.tsv"
   ]
  },
  {
   "cell_type": "code",
   "execution_count": null,
   "metadata": {},
   "outputs": [],
   "source": [
    "display(pd.read_csv(\"{}/entity_RAVLs.tsv\".format(output_dir), delimiter = '\\t', nrows=5).fillna(\"\"))\n"
   ]
  },
  {
   "cell_type": "markdown",
   "metadata": {},
   "source": [
    "Aggregating distinct labels with counts"
   ]
  },
  {
   "cell_type": "code",
   "execution_count": null,
   "metadata": {},
   "outputs": [],
   "source": [
    "%%time\n",
    "!kgtk query -i $OUT/entity_RAVLs.tsv \\\n",
    "-o $OUT/candidate_RAVLs.tsv --graph-cache $STORE \\\n",
    "--match 'entity_RAVLs: (e)-[l {type:t, type_label:t_lab, prop:p, property_label:p_lab, value:val}]->(label_id)' \\\n",
    "--return 'distinct t as node1, t_lab as type_label, p as label, p_lab as property_label, val as node2, count(distinct e) as positives, label_id as id' \\\n",
    "--order-by 'count(distinct e) desc'\n"
   ]
  },
  {
   "cell_type": "code",
   "execution_count": null,
   "metadata": {
    "scrolled": true
   },
   "outputs": [],
   "source": [
    "display(pd.read_csv(\"{}/candidate_RAVLs.tsv\".format(os.environ[\"OUT\"]), delimiter = '\\t', nrows=5).fillna(\"\"))\n"
   ]
  },
  {
   "cell_type": "markdown",
   "metadata": {},
   "source": [
    "### 5.2 RALs created from attribute *interval* labels:"
   ]
  },
  {
   "cell_type": "code",
   "execution_count": null,
   "metadata": {},
   "outputs": [],
   "source": [
    "%%time\n",
    "!kgtk query -i $ITEM_FILE -i $OUT/type_mapping.tsv -i $LABEL_FILE \\\n",
    "-i $OUT/entity_AILs_all.tsv -o $OUT/entity_RAILs.tsv --graph-cache $STORE \\\n",
    "--match '`'\"$ITEM_FILE\"'`: (e1)-[l1 {label:p1}]->(e2), type: (e1)-[]->(t1), entity_AILs: (e2)-[l2]->(value_label_id), `'\"$LABEL_FILE\"'`: (p1)-[:label]->(p1_lab), `'\"$LABEL_FILE\"'`: (t1)-[:label]->(t1_lab)' \\\n",
    "--return 'e1 as node1, \"_\" as label, printf(\"%s_%s_%s\",t1,p1,value_label_id) as node2, t1 as type, t1_lab as type_label, p1 as prop, p1_lab as property_label, value_label_id as value, \"_\" as id' \\\n",
    "--order-by \"e1\" \\\n",
    "--where 'p1_lab.kgtk_lqstring_lang_suffix = \"en\" AND t1_lab.kgtk_lqstring_lang_suffix = \"en\"'"
   ]
  },
  {
   "cell_type": "code",
   "execution_count": null,
   "metadata": {},
   "outputs": [],
   "source": [
    "!kgtk add-id -i $OUT/entity_RAILs.tsv -o $OUT/entity_RAILs.temp.tsv --overwrite-id \\\n",
    "&& mv $OUT/entity_RAILs.temp.tsv $OUT/entity_RAILs.tsv"
   ]
  },
  {
   "cell_type": "code",
   "execution_count": null,
   "metadata": {},
   "outputs": [],
   "source": [
    "display(pd.read_csv(\"{}/entity_RAILs.tsv\".format(output_dir), delimiter = '\\t', nrows=5).fillna(\"\"))\n"
   ]
  },
  {
   "cell_type": "markdown",
   "metadata": {},
   "source": [
    "Aggregating distinct labels with counts"
   ]
  },
  {
   "cell_type": "code",
   "execution_count": null,
   "metadata": {},
   "outputs": [],
   "source": [
    "!kgtk query -i $OUT/entity_RAILs.tsv \\\n",
    "-o $OUT/candidate_RAILs.tsv --graph-cache $STORE \\\n",
    "--match 'entity_RAILs: (e)-[l {type:t, type_label:t_lab, prop:p, property_label:p_lab, value:val}]->(label_id)' \\\n",
    "--return 'distinct t as node1, t_lab as type_label, p as label, p_lab as property_label, val as node2, count(distinct e) as positives, label_id as id' \\\n",
    "--order-by 'count(distinct e) desc'\n"
   ]
  },
  {
   "cell_type": "code",
   "execution_count": null,
   "metadata": {
    "scrolled": false
   },
   "outputs": [],
   "source": [
    "display(pd.read_csv(\"{}/candidate_RAILs.tsv\".format(os.environ[\"OUT\"]), delimiter = '\\t', nrows=5).fillna(\"\"))\n"
   ]
  },
  {
   "cell_type": "code",
   "execution_count": null,
   "metadata": {},
   "outputs": [],
   "source": []
  }
 ],
 "metadata": {
  "kernelspec": {
   "display_name": "Python 3",
   "language": "python",
   "name": "python3"
  },
  "language_info": {
   "codemirror_mode": {
    "name": "ipython",
    "version": 3
   },
   "file_extension": ".py",
   "mimetype": "text/x-python",
   "name": "python",
   "nbconvert_exporter": "python",
   "pygments_lexer": "ipython3",
   "version": "3.6.13"
  }
 },
 "nbformat": 4,
 "nbformat_minor": 4
}
