{
 "cells": [
  {
   "cell_type": "markdown",
   "metadata": {},
   "source": [
    "# Filtering candidate labels\n",
    "In this notebook, we will analyze the labels created in the candidate_label_creation notebook and then use a simple rule-based filter to remove labels that are trivially either unrepresentative or indistinctive.\n",
    "\n",
    "We'll look at each type of label separately."
   ]
  },
  {
   "cell_type": "markdown",
   "metadata": {},
   "source": [
    "### Pre-requisite steps to run this notebook\n",
    "1. You need to run the candidate_label_creation notebook before this notebook."
   ]
  },
  {
   "cell_type": "code",
   "execution_count": 72,
   "metadata": {},
   "outputs": [],
   "source": [
    "import pandas as pd\n",
    "import os\n",
    "import subprocess\n",
    "import matplotlib.pyplot as plt\n",
    "import numpy as np\n",
    "from utility import rename_cols_and_overwrite_id\n",
    "from utility import run_command\n",
    "from tqdm import tqdm"
   ]
  },
  {
   "cell_type": "markdown",
   "metadata": {},
   "source": [
    "### Parameters\n",
    "**Required**  \n",
    "*work_dir*: path to work_dir that was specified in candidate_label_creation notebook. This should contain a folder called label_creation with files created by the label creation notebook which we will filter in this notebook.  \n",
    "*store_dir*: path to folder containing the sqlite3.db file that we will use for our queries. We will reuse an existing file if there is one in this folder. Otherwise we will create a new one.  \n",
    "*lower_bound_avl*: lower filter bound to use for AVL type labels (filtering on % entities within type that label is applicable to)  \n",
    "*lower_bound_ail*: lower filter bound to use for AIL type labels  \n",
    "*lower_bound_rel*: lower filter bound to use for REL type labels  \n",
    "*lower_bound_ral*: lower filter bound to use for RAL and RAIL type labels  "
   ]
  },
  {
   "cell_type": "code",
   "execution_count": 2,
   "metadata": {
    "tags": [
     "parameters"
    ]
   },
   "outputs": [],
   "source": [
    "# **REQUIRED**\n",
    "work_dir = \"./output/wikidata-20210215-dwd\"\n",
    "store_dir = \"./output/wikidata-20210215-dwd/temp-filtering\"\n",
    "lower_bound_avl = .1\n",
    "lower_bound_ail = .1\n",
    "lower_bound_rel = .1\n",
    "lower_bound_ral = .1"
   ]
  },
  {
   "cell_type": "markdown",
   "metadata": {},
   "source": [
    "### Process params / set up variables"
   ]
  },
  {
   "cell_type": "code",
   "execution_count": 3,
   "metadata": {},
   "outputs": [],
   "source": [
    "# Ensure paths are absolute\n",
    "work_dir = os.path.abspath(work_dir)\n",
    "store_dir = os.path.abspath(store_dir)\n",
    "\n",
    "label_creation_dir = \"{}/label_creation\".format(work_dir)\n",
    "    \n",
    "# Create directories\n",
    "output_dir = \"{}/candidate_filter\".format(work_dir)\n",
    "if not os.path.exists(output_dir):\n",
    "    os.makedirs(output_dir)\n",
    "if not os.path.exists(store_dir):\n",
    "    os.makedirs(store_dir)\n",
    "    \n",
    "# adding some environment variables we'll be using frequently\n",
    "os.environ['STORE'] = \"{}/wikidata.sqlite3.db\".format(store_dir)\n",
    "os.environ['OUT'] = output_dir\n",
    "os.environ['IN'] = label_creation_dir\n",
    "os.environ['kgtk'] = \"kgtk\" # Need to do this for kgtk to be recognized as a command when passing it through a subprocess call"
   ]
  },
  {
   "cell_type": "markdown",
   "metadata": {},
   "source": [
    "helper for doing filtering and visualizing the results"
   ]
  },
  {
   "cell_type": "code",
   "execution_count": 105,
   "metadata": {},
   "outputs": [],
   "source": [
    "def filter_by_support_and_plot(support_file, filtered_out_file, filtered_file, lower_bound=.1, upper_bound=.9):\n",
    "    df = pd.read_csv(support_file, delimiter = '\\t')\n",
    "#     df = df.loc[df.loc[:,\"node1\"] == \"Q11424\"]\n",
    "    \n",
    "    supports = df.loc[:,\"support\"]\n",
    "    \n",
    "    mask_filtered_out = ((supports < lower_bound) | (supports > upper_bound))\n",
    "    filtered_out = supports.loc[mask_filtered_out]\n",
    "    not_filtered_out = supports.loc[~mask_filtered_out]\n",
    "    \n",
    "    print(\"Number of labels filtered out: {} / {} ({:.2f}%)\".format(len(filtered_out), len(supports), 100*(len(filtered_out) / len(supports))))\n",
    "    \n",
    "    bins = np.arange(0,1.01,.02)\n",
    "    plt.hist(filtered_out, label = \"filtered out\", bins = bins)\n",
    "    plt.hist(not_filtered_out, label = \"not filtered out\", bins = bins)\n",
    "    \n",
    "    plt.title(\"Distribution of Label Supports\")\n",
    "    plt.legend()\n",
    "    plt.show()\n",
    "    \n",
    "    df_filtered_out = df.loc[mask_filtered_out]\n",
    "    df_not_filtered_out = df.loc[~mask_filtered_out]\n",
    "    \n",
    "    df_filtered_out.to_csv(filtered_out_file, sep='\\t', index = False)\n",
    "    df_not_filtered_out.to_csv(filtered_file, sep='\\t', index = False)\n",
    "    \n",
    "# For each type, try several lower bound values and choose the one that gives the largest number of labels\n",
    "# without going over the max_labels_per_type. If none of the lower bound values stay within that limit, the\n",
    "# highest lower bound value given will be chosen.\n",
    "def dynamic_filter_by_support(support_file, filtered_out_file, filtered_in_file, filter_summary_file, lbs=[.1], ub=.9, max_labels_per_type=500):\n",
    "    df = pd.read_csv(support_file, delimiter = '\\t')\n",
    "    supports = df.loc[:,\"support\"]\n",
    "    types = df.loc[:,\"node1\"].unique()\n",
    "    type_labels = df.groupby(\"node1\")[\"type_label\"].first().to_dict()\n",
    "    num_labels_for_type_before_filtering = df.loc[:,\"node1\"].value_counts().to_dict()\n",
    "    \n",
    "    # If only one lb value to try, then don't need to do per-type filtering\n",
    "    if len(lbs) == 1:\n",
    "        lb = lbs[0]\n",
    "        mask_filtered_out = ((supports < lb) | (supports > ub))\n",
    "        df_filtered_out = df.loc[mask_filtered_out]\n",
    "        df_not_filtered_out = df.loc[~mask_filtered_out]\n",
    "        #record filter settings and num filtered labels for each type\n",
    "        num_labels_for_type_after_filtering = df_not_filtered_out.loc[:,\"node1\"].value_counts().to_dict()\n",
    "        filter_settings = []\n",
    "        for t in types:\n",
    "            filter_settings_for_type = [t, type_labels[t], lb]\n",
    "            if t in num_labels_for_type_after_filtering:\n",
    "                filter_settings_for_type.append(num_labels_for_type_after_filtering[t])\n",
    "            else:\n",
    "                filter_settings_for_type.append(0)\n",
    "            filter_settings_for_type.append(num_labels_for_type_before_filtering[t])\n",
    "            filter_settings.append(filter_settings_for_type)\n",
    "        filter_settings_df = pd.DataFrame(filter_settings, columns=[\"type\", \"type_label\", \"lb\", \"# labels in bounds\", \"# labels before filtering\"])\n",
    "        \n",
    "    else: \n",
    "        #way 1\n",
    "#         lbs = sorted(lbs) # starting with most relaxed lb and narrowing if needed\n",
    "        \n",
    "#         mask_filtered_in_overall = [False for i in range(len(df))] # we are going to gradually add to this\n",
    "#         filter_settings = []\n",
    "        \n",
    "#         for t in tqdm(types):\n",
    "#             print(\"getting rows for type\")\n",
    "#             supports_t = supports.loc[df.loc[:,\"node1\"] == t]\n",
    "#             num_labels_before_filtering = len(supports_t)\n",
    "#             print(\"finding lb\")\n",
    "#             for lb in lbs:\n",
    "#                 supports_t = supports_t.loc[((supports_t >= lb) & (supports_t <= ub))]\n",
    "#                 if len(supports_t) <= max_labels_per_type:\n",
    "#                     break\n",
    "#             print(\"adding to mask\")\n",
    "#             # add filtered-in labels to overall mask\n",
    "#             for i in supports_t.index:\n",
    "#                 mask_filtered_in_overall[i] = True\n",
    "#             print(\"adding to filter settings\")\n",
    "#             # save filter settings\n",
    "#             filter_settings.append([t, type_labels[t], lb, len(supports_t), num_labels_before_filtering])\n",
    "        \n",
    "#         filter_settings_df = pd.DataFrame(filter_settings, columns=[\"type\", \"type_label\", \"lb\", \"# labels in bounds\", \"# labels before filtering\"])\n",
    "#         df_filtered_out = df.loc[~mask_filtered_in_overall]\n",
    "#         df_not_filtered_out = df.loc[mask_filtered_in_overall]\n",
    "\n",
    "        #way2\n",
    "        lbs = sorted(lbs) # starting with most relaxed lb and narrowing if needed\n",
    "        \n",
    "        mask_filtered_in_overall = np.array([False for i in range(len(df))]) # we are going to gradually add to this\n",
    "        df_still_considering = df\n",
    "        filter_settings = []\n",
    "        \n",
    "        for lb in tqdm(lbs):\n",
    "            supports = df_still_considering.loc[:,\"support\"]\n",
    "            df_still_considering = df_still_considering.loc[(supports >= lb) & (supports <= ub)]\n",
    "            \n",
    "            label_counts_by_type = df_still_considering.loc[:,\"node1\"].value_counts().to_dict()\n",
    "#             for i, row in df_still_considering.iterrows():\n",
    "#                 t = row[\"node1\"]\n",
    "#                 if label_counts_by_type[t] <= max_labels_per_type:\n",
    "            finished_types = {t for t, count in label_counts_by_type.items() if count <= max_labels_per_type}\n",
    "            finished_mask = df_still_considering.loc[:,\"node1\"].isin(finished_types)\n",
    "            # add filtered-in labels to overall mask\n",
    "            for i in df_still_considering.loc[finished_mask].index:\n",
    "                mask_filtered_in_overall[i] = True\n",
    "            # reduce size of dataframe still being considered\n",
    "            df_still_considering = df_still_considering.loc[~finished_mask]\n",
    "            # save filter settings\n",
    "            for t in finished_types:\n",
    "                filter_settings.append([t, type_labels[t], lb, label_counts_by_type[t], num_labels_for_type_before_filtering[t]])\n",
    "            if df_still_considering.empty:\n",
    "                break\n",
    "        \n",
    "        filter_settings_df = pd.DataFrame(filter_settings, columns=[\"type\", \"type_label\", \"lb\", \"# labels in bounds\", \"# labels before filtering\"])\n",
    "        df_filtered_out = df.loc[~mask_filtered_in_overall]\n",
    "        df_not_filtered_out = df.loc[mask_filtered_in_overall]\n",
    "        \n",
    "    \n",
    "    df_filtered_out.to_csv(filtered_out_file, sep='\\t', index = False)\n",
    "    df_not_filtered_out.to_csv(filtered_in_file, sep='\\t', index = False)\n",
    "    filter_settings_df.to_csv(filter_summary_file, sep='\\t', index = False)"
   ]
  },
  {
   "cell_type": "code",
   "execution_count": 88,
   "metadata": {},
   "outputs": [
    {
     "name": "stdout",
     "output_type": "stream",
     "text": [
      "0\n",
      "Q100039327\n"
     ]
    }
   ],
   "source": [
    "df = pd.read_csv(\"{}/candidate_AVLs_time.year_supports.tsv\".format(output_dir), delimiter = '\\t')\n",
    "df.loc[:,\"node1\"].unique()\n",
    "df.loc[:,\"node1\"].value_counts().to_dict()\n",
    "(df.loc[:,\"support\"].loc[df.loc[:,\"node1\"]==\"Q5\"] >=.0001).index[0]\n",
    "df.groupby(\"node1\")[\"type_label\"].first().to_dict()\n",
    "for i, row in df.iterrows():\n",
    "    print(i)\n",
    "    print(row[\"node1\"])\n",
    "    break\n"
   ]
  },
  {
   "cell_type": "markdown",
   "metadata": {},
   "source": [
    "## AVL - time.year labels"
   ]
  },
  {
   "cell_type": "markdown",
   "metadata": {},
   "source": [
    "Adding support column"
   ]
  },
  {
   "cell_type": "code",
   "execution_count": 6,
   "metadata": {},
   "outputs": [],
   "source": [
    "!kgtk query -i $IN/entity_counts_per_type.tsv -i $IN/candidate_AVLs_time.year.tsv \\\n",
    "-o $OUT/candidate_AVLs_time.year_supports.tsv \\\n",
    "--graph-cache $STORE \\\n",
    "--match 'candidate: (type)-[lab_id {type_label:t_lab, label:prop, positives:pos, property_label:p_lab}]->(val), counts_per_type: (type)-[]->(count)' \\\n",
    "--return 'type as node1, t_lab as type_label, prop as label, p_lab as property_label, val as node2, pos as positives, kgtk_quantity_number_float(pos)/kgtk_quantity_number(count) as support, lab_id as id' \\\n",
    "--order-by 'type'"
   ]
  },
  {
   "cell_type": "code",
   "execution_count": 7,
   "metadata": {},
   "outputs": [
    {
     "data": {
      "text/html": [
       "<div>\n",
       "<style scoped>\n",
       "    .dataframe tbody tr th:only-of-type {\n",
       "        vertical-align: middle;\n",
       "    }\n",
       "\n",
       "    .dataframe tbody tr th {\n",
       "        vertical-align: top;\n",
       "    }\n",
       "\n",
       "    .dataframe thead th {\n",
       "        text-align: right;\n",
       "    }\n",
       "</style>\n",
       "<table border=\"1\" class=\"dataframe\">\n",
       "  <thead>\n",
       "    <tr style=\"text-align: right;\">\n",
       "      <th></th>\n",
       "      <th>node1</th>\n",
       "      <th>type_label</th>\n",
       "      <th>label</th>\n",
       "      <th>property_label</th>\n",
       "      <th>node2</th>\n",
       "      <th>positives</th>\n",
       "      <th>support</th>\n",
       "      <th>id</th>\n",
       "    </tr>\n",
       "  </thead>\n",
       "  <tbody>\n",
       "    <tr>\n",
       "      <th>0</th>\n",
       "      <td>Q100039327</td>\n",
       "      <td>'autonomous constitutional agency'@en</td>\n",
       "      <td>P571</td>\n",
       "      <td>'inception'@en</td>\n",
       "      <td>1993</td>\n",
       "      <td>3</td>\n",
       "      <td>0.428571</td>\n",
       "      <td>Q100039327_P571_1993</td>\n",
       "    </tr>\n",
       "    <tr>\n",
       "      <th>1</th>\n",
       "      <td>Q100039327</td>\n",
       "      <td>'autonomous constitutional agency'@en</td>\n",
       "      <td>P571</td>\n",
       "      <td>'inception'@en</td>\n",
       "      <td>1922</td>\n",
       "      <td>1</td>\n",
       "      <td>0.142857</td>\n",
       "      <td>Q100039327_P571_1922</td>\n",
       "    </tr>\n",
       "    <tr>\n",
       "      <th>2</th>\n",
       "      <td>Q100039327</td>\n",
       "      <td>'autonomous constitutional agency'@en</td>\n",
       "      <td>P571</td>\n",
       "      <td>'inception'@en</td>\n",
       "      <td>1929</td>\n",
       "      <td>1</td>\n",
       "      <td>0.142857</td>\n",
       "      <td>Q100039327_P571_1929</td>\n",
       "    </tr>\n",
       "    <tr>\n",
       "      <th>3</th>\n",
       "      <td>Q100039327</td>\n",
       "      <td>'autonomous constitutional agency'@en</td>\n",
       "      <td>P571</td>\n",
       "      <td>'inception'@en</td>\n",
       "      <td>1931</td>\n",
       "      <td>1</td>\n",
       "      <td>0.142857</td>\n",
       "      <td>Q100039327_P571_1931</td>\n",
       "    </tr>\n",
       "    <tr>\n",
       "      <th>4</th>\n",
       "      <td>Q100039327</td>\n",
       "      <td>'autonomous constitutional agency'@en</td>\n",
       "      <td>P571</td>\n",
       "      <td>'inception'@en</td>\n",
       "      <td>1979</td>\n",
       "      <td>1</td>\n",
       "      <td>0.142857</td>\n",
       "      <td>Q100039327_P571_1979</td>\n",
       "    </tr>\n",
       "  </tbody>\n",
       "</table>\n",
       "</div>"
      ],
      "text/plain": [
       "        node1                             type_label label  property_label  \\\n",
       "0  Q100039327  'autonomous constitutional agency'@en  P571  'inception'@en   \n",
       "1  Q100039327  'autonomous constitutional agency'@en  P571  'inception'@en   \n",
       "2  Q100039327  'autonomous constitutional agency'@en  P571  'inception'@en   \n",
       "3  Q100039327  'autonomous constitutional agency'@en  P571  'inception'@en   \n",
       "4  Q100039327  'autonomous constitutional agency'@en  P571  'inception'@en   \n",
       "\n",
       "   node2  positives   support                    id  \n",
       "0   1993          3  0.428571  Q100039327_P571_1993  \n",
       "1   1922          1  0.142857  Q100039327_P571_1922  \n",
       "2   1929          1  0.142857  Q100039327_P571_1929  \n",
       "3   1931          1  0.142857  Q100039327_P571_1931  \n",
       "4   1979          1  0.142857  Q100039327_P571_1979  "
      ]
     },
     "metadata": {},
     "output_type": "display_data"
    }
   ],
   "source": [
    "display(pd.read_csv(\"{}/candidate_AVLs_time.year_supports.tsv\".format(output_dir), delimiter = '\\t', nrows=5).fillna(\"\"))\n"
   ]
  },
  {
   "cell_type": "markdown",
   "metadata": {},
   "source": [
    "Filter labels based on support value, send to files."
   ]
  },
  {
   "cell_type": "code",
   "execution_count": 47,
   "metadata": {
    "scrolled": true
   },
   "outputs": [],
   "source": [
    "support_file = \"{}/candidate_AVLs_time.year_supports.tsv\".format(output_dir)\n",
    "filtered_out_file = \"{}/candidate_AVLs_time.year_filtered_out.tsv\".format(output_dir)\n",
    "filtered_in_file = \"{}/candidate_AVLs_time.year_filtered_in.tsv\".format(output_dir)\n",
    "filter_summary_file = \"{}/filter_summary_AVL_time.year.tsv\".format(output_dir)\n",
    "dynamic_filter_by_support(support_file, filtered_out_file, filtered_in_file, filter_summary_file, lbs=[.1], ub=.9, max_labels_per_type=500)"
   ]
  },
  {
   "cell_type": "code",
   "execution_count": 40,
   "metadata": {},
   "outputs": [
    {
     "data": {
      "text/html": [
       "<div>\n",
       "<style scoped>\n",
       "    .dataframe tbody tr th:only-of-type {\n",
       "        vertical-align: middle;\n",
       "    }\n",
       "\n",
       "    .dataframe tbody tr th {\n",
       "        vertical-align: top;\n",
       "    }\n",
       "\n",
       "    .dataframe thead th {\n",
       "        text-align: right;\n",
       "    }\n",
       "</style>\n",
       "<table border=\"1\" class=\"dataframe\">\n",
       "  <thead>\n",
       "    <tr style=\"text-align: right;\">\n",
       "      <th></th>\n",
       "      <th>type</th>\n",
       "      <th>type_label</th>\n",
       "      <th>lb</th>\n",
       "      <th># labels in bounds</th>\n",
       "      <th># labels before filtering</th>\n",
       "    </tr>\n",
       "  </thead>\n",
       "  <tbody>\n",
       "    <tr>\n",
       "      <th>0</th>\n",
       "      <td>Q100039327</td>\n",
       "      <td>'autonomous constitutional agency'@en</td>\n",
       "      <td>0.1</td>\n",
       "      <td>5</td>\n",
       "      <td>5</td>\n",
       "    </tr>\n",
       "    <tr>\n",
       "      <th>1</th>\n",
       "      <td>Q1000415</td>\n",
       "      <td>'Henry 180'@en</td>\n",
       "      <td>0.1</td>\n",
       "      <td>2</td>\n",
       "      <td>2</td>\n",
       "    </tr>\n",
       "    <tr>\n",
       "      <th>2</th>\n",
       "      <td>Q10007123</td>\n",
       "      <td>'Griqua state'@en</td>\n",
       "      <td>0.1</td>\n",
       "      <td>4</td>\n",
       "      <td>4</td>\n",
       "    </tr>\n",
       "    <tr>\n",
       "      <th>3</th>\n",
       "      <td>Q1000809</td>\n",
       "      <td>'Buddharupa'@en</td>\n",
       "      <td>0.1</td>\n",
       "      <td>0</td>\n",
       "      <td>4</td>\n",
       "    </tr>\n",
       "    <tr>\n",
       "      <th>4</th>\n",
       "      <td>Q1000923</td>\n",
       "      <td>'persecution of Buddhists'@en</td>\n",
       "      <td>0.1</td>\n",
       "      <td>0</td>\n",
       "      <td>1</td>\n",
       "    </tr>\n",
       "  </tbody>\n",
       "</table>\n",
       "</div>"
      ],
      "text/plain": [
       "         type                             type_label   lb  # labels in bounds  \\\n",
       "0  Q100039327  'autonomous constitutional agency'@en  0.1                   5   \n",
       "1    Q1000415                         'Henry 180'@en  0.1                   2   \n",
       "2   Q10007123                      'Griqua state'@en  0.1                   4   \n",
       "3    Q1000809                        'Buddharupa'@en  0.1                   0   \n",
       "4    Q1000923          'persecution of Buddhists'@en  0.1                   0   \n",
       "\n",
       "   # labels before filtering  \n",
       "0                          5  \n",
       "1                          2  \n",
       "2                          4  \n",
       "3                          4  \n",
       "4                          1  "
      ]
     },
     "metadata": {},
     "output_type": "display_data"
    }
   ],
   "source": [
    "display(pd.read_csv(\"{}/filter_summary_AVL_time.year.tsv\".format(output_dir), delimiter = '\\t', nrows=5).fillna(\"\"))\n"
   ]
  },
  {
   "cell_type": "markdown",
   "metadata": {},
   "source": [
    "## AVL - quantity labels"
   ]
  },
  {
   "cell_type": "markdown",
   "metadata": {},
   "source": [
    "Adding support column"
   ]
  },
  {
   "cell_type": "code",
   "execution_count": 46,
   "metadata": {},
   "outputs": [],
   "source": [
    "!kgtk query -i $IN/entity_counts_per_type.tsv -i $IN/candidate_AVLs_quantity.tsv \\\n",
    "-o $OUT/candidate_AVLs_quantity_supports.tsv \\\n",
    "--graph-cache $STORE \\\n",
    "--match 'candidate: (type)-[lab_id {type_label:t_lab, label:prop, property_label:p_lab, positives:pos, si_units:si, wd_units:wd}]->(val), counts_per_type: (type)-[]->(count)' \\\n",
    "--return 'type as node1, t_lab as type_label, prop as label, p_lab as property_label, val as node2, si as si_units, wd as wd_units, pos as positives, kgtk_quantity_number_float(pos)/kgtk_quantity_number(count) as support,  lab_id as id' \\\n",
    "--order-by 'type'"
   ]
  },
  {
   "cell_type": "code",
   "execution_count": 48,
   "metadata": {},
   "outputs": [
    {
     "data": {
      "text/html": [
       "<div>\n",
       "<style scoped>\n",
       "    .dataframe tbody tr th:only-of-type {\n",
       "        vertical-align: middle;\n",
       "    }\n",
       "\n",
       "    .dataframe tbody tr th {\n",
       "        vertical-align: top;\n",
       "    }\n",
       "\n",
       "    .dataframe thead th {\n",
       "        text-align: right;\n",
       "    }\n",
       "</style>\n",
       "<table border=\"1\" class=\"dataframe\">\n",
       "  <thead>\n",
       "    <tr style=\"text-align: right;\">\n",
       "      <th></th>\n",
       "      <th>node1</th>\n",
       "      <th>type_label</th>\n",
       "      <th>label</th>\n",
       "      <th>property_label</th>\n",
       "      <th>node2</th>\n",
       "      <th>si_units</th>\n",
       "      <th>wd_units</th>\n",
       "      <th>positives</th>\n",
       "      <th>support</th>\n",
       "      <th>id</th>\n",
       "    </tr>\n",
       "  </thead>\n",
       "  <tbody>\n",
       "    <tr>\n",
       "      <th>0</th>\n",
       "      <td>Q1000300</td>\n",
       "      <td>'Land Rover Series'@en</td>\n",
       "      <td>P2043</td>\n",
       "      <td>'length'@en</td>\n",
       "      <td>3345</td>\n",
       "      <td></td>\n",
       "      <td>Q174789</td>\n",
       "      <td>1</td>\n",
       "      <td>0.500000</td>\n",
       "      <td>Q1000300_P2043_+3345__Q174789</td>\n",
       "    </tr>\n",
       "    <tr>\n",
       "      <th>1</th>\n",
       "      <td>Q1000300</td>\n",
       "      <td>'Land Rover Series'@en</td>\n",
       "      <td>P2048</td>\n",
       "      <td>'height'@en</td>\n",
       "      <td>1867</td>\n",
       "      <td></td>\n",
       "      <td>Q174789</td>\n",
       "      <td>1</td>\n",
       "      <td>0.500000</td>\n",
       "      <td>Q1000300_P2048_+1867__Q174789</td>\n",
       "    </tr>\n",
       "    <tr>\n",
       "      <th>2</th>\n",
       "      <td>Q1000300</td>\n",
       "      <td>'Land Rover Series'@en</td>\n",
       "      <td>P2049</td>\n",
       "      <td>'width'@en</td>\n",
       "      <td>1549</td>\n",
       "      <td></td>\n",
       "      <td>Q174789</td>\n",
       "      <td>1</td>\n",
       "      <td>0.500000</td>\n",
       "      <td>Q1000300_P2049_+1549__Q174789</td>\n",
       "    </tr>\n",
       "    <tr>\n",
       "      <th>3</th>\n",
       "      <td>Q1000300</td>\n",
       "      <td>'Land Rover Series'@en</td>\n",
       "      <td>P2067</td>\n",
       "      <td>'mass'@en</td>\n",
       "      <td>1177</td>\n",
       "      <td></td>\n",
       "      <td>Q11570</td>\n",
       "      <td>1</td>\n",
       "      <td>0.500000</td>\n",
       "      <td>Q1000300_P2067_+1177__Q11570</td>\n",
       "    </tr>\n",
       "    <tr>\n",
       "      <th>4</th>\n",
       "      <td>Q1000415</td>\n",
       "      <td>'Henry 180'@en</td>\n",
       "      <td>P3157</td>\n",
       "      <td>'event distance'@en</td>\n",
       "      <td>45</td>\n",
       "      <td></td>\n",
       "      <td>Q26484625</td>\n",
       "      <td>2</td>\n",
       "      <td>0.666667</td>\n",
       "      <td>Q1000415_P3157_+45__Q26484625</td>\n",
       "    </tr>\n",
       "  </tbody>\n",
       "</table>\n",
       "</div>"
      ],
      "text/plain": [
       "      node1              type_label  label       property_label  node2  \\\n",
       "0  Q1000300  'Land Rover Series'@en  P2043          'length'@en   3345   \n",
       "1  Q1000300  'Land Rover Series'@en  P2048          'height'@en   1867   \n",
       "2  Q1000300  'Land Rover Series'@en  P2049           'width'@en   1549   \n",
       "3  Q1000300  'Land Rover Series'@en  P2067            'mass'@en   1177   \n",
       "4  Q1000415          'Henry 180'@en  P3157  'event distance'@en     45   \n",
       "\n",
       "  si_units   wd_units  positives   support                             id  \n",
       "0             Q174789          1  0.500000  Q1000300_P2043_+3345__Q174789  \n",
       "1             Q174789          1  0.500000  Q1000300_P2048_+1867__Q174789  \n",
       "2             Q174789          1  0.500000  Q1000300_P2049_+1549__Q174789  \n",
       "3              Q11570          1  0.500000   Q1000300_P2067_+1177__Q11570  \n",
       "4           Q26484625          2  0.666667  Q1000415_P3157_+45__Q26484625  "
      ]
     },
     "metadata": {},
     "output_type": "display_data"
    }
   ],
   "source": [
    "display(pd.read_csv(\"{}/candidate_AVLs_quantity_supports.tsv\".format(output_dir), delimiter = '\\t', nrows=5).fillna(\"\"))\n"
   ]
  },
  {
   "cell_type": "markdown",
   "metadata": {},
   "source": [
    "Filter labels based on support value, send to files."
   ]
  },
  {
   "cell_type": "code",
   "execution_count": 54,
   "metadata": {
    "scrolled": true
   },
   "outputs": [
    {
     "name": "stderr",
     "output_type": "stream",
     "text": [
      "/nas/home/nmklein/anaconda3/envs/kgtk-env2/lib/python3.6/site-packages/IPython/core/interactiveshell.py:3263: DtypeWarning: Columns (4) have mixed types.Specify dtype option on import or set low_memory=False.\n",
      "  if (await self.run_code(code, result,  async_=asy)):\n"
     ]
    }
   ],
   "source": [
    "support_file = \"{}/candidate_AVLs_quantity_supports.tsv\".format(output_dir)\n",
    "filtered_out_file = \"{}/candidate_AVLs_quantity_filtered_out.tsv\".format(output_dir)\n",
    "filtered_in_file = \"{}/candidate_AVLs_quantity_filtered_in.tsv\".format(output_dir)\n",
    "filter_summary_file = \"{}/filter_summary_AVL_quantity.tsv\".format(output_dir)\n",
    "dynamic_filter_by_support(support_file, filtered_out_file, filtered_in_file, filter_summary_file, lbs=[.1], ub=.9, max_labels_per_type=500)"
   ]
  },
  {
   "cell_type": "code",
   "execution_count": 55,
   "metadata": {},
   "outputs": [
    {
     "data": {
      "text/html": [
       "<div>\n",
       "<style scoped>\n",
       "    .dataframe tbody tr th:only-of-type {\n",
       "        vertical-align: middle;\n",
       "    }\n",
       "\n",
       "    .dataframe tbody tr th {\n",
       "        vertical-align: top;\n",
       "    }\n",
       "\n",
       "    .dataframe thead th {\n",
       "        text-align: right;\n",
       "    }\n",
       "</style>\n",
       "<table border=\"1\" class=\"dataframe\">\n",
       "  <thead>\n",
       "    <tr style=\"text-align: right;\">\n",
       "      <th></th>\n",
       "      <th>type</th>\n",
       "      <th>type_label</th>\n",
       "      <th>lb</th>\n",
       "      <th># labels in bounds</th>\n",
       "      <th># labels before filtering</th>\n",
       "    </tr>\n",
       "  </thead>\n",
       "  <tbody>\n",
       "    <tr>\n",
       "      <th>0</th>\n",
       "      <td>Q1000300</td>\n",
       "      <td>'Land Rover Series'@en</td>\n",
       "      <td>0.1</td>\n",
       "      <td>4</td>\n",
       "      <td>4</td>\n",
       "    </tr>\n",
       "    <tr>\n",
       "      <th>1</th>\n",
       "      <td>Q1000415</td>\n",
       "      <td>'Henry 180'@en</td>\n",
       "      <td>0.1</td>\n",
       "      <td>1</td>\n",
       "      <td>1</td>\n",
       "    </tr>\n",
       "    <tr>\n",
       "      <th>2</th>\n",
       "      <td>Q1000809</td>\n",
       "      <td>'Buddharupa'@en</td>\n",
       "      <td>0.1</td>\n",
       "      <td>0</td>\n",
       "      <td>5</td>\n",
       "    </tr>\n",
       "    <tr>\n",
       "      <th>3</th>\n",
       "      <td>Q1000858</td>\n",
       "      <td>'regions of the Faroe Islands'@en</td>\n",
       "      <td>0.1</td>\n",
       "      <td>4</td>\n",
       "      <td>4</td>\n",
       "    </tr>\n",
       "    <tr>\n",
       "      <th>4</th>\n",
       "      <td>Q1001059</td>\n",
       "      <td>'writ'@en</td>\n",
       "      <td>0.1</td>\n",
       "      <td>2</td>\n",
       "      <td>2</td>\n",
       "    </tr>\n",
       "  </tbody>\n",
       "</table>\n",
       "</div>"
      ],
      "text/plain": [
       "       type                         type_label   lb  # labels in bounds  \\\n",
       "0  Q1000300             'Land Rover Series'@en  0.1                   4   \n",
       "1  Q1000415                     'Henry 180'@en  0.1                   1   \n",
       "2  Q1000809                    'Buddharupa'@en  0.1                   0   \n",
       "3  Q1000858  'regions of the Faroe Islands'@en  0.1                   4   \n",
       "4  Q1001059                          'writ'@en  0.1                   2   \n",
       "\n",
       "   # labels before filtering  \n",
       "0                          4  \n",
       "1                          1  \n",
       "2                          5  \n",
       "3                          4  \n",
       "4                          2  "
      ]
     },
     "metadata": {},
     "output_type": "display_data"
    }
   ],
   "source": [
    "display(pd.read_csv(\"{}/filter_summary_AVL_quantity.tsv\".format(output_dir), delimiter = '\\t', nrows=5).fillna(\"\"))\n"
   ]
  },
  {
   "cell_type": "markdown",
   "metadata": {},
   "source": [
    "## RELs"
   ]
  },
  {
   "cell_type": "markdown",
   "metadata": {},
   "source": [
    "Adding support column"
   ]
  },
  {
   "cell_type": "code",
   "execution_count": 172,
   "metadata": {},
   "outputs": [
    {
     "name": "stdout",
     "output_type": "stream",
     "text": [
      "CPU times: user 7.61 s, sys: 1.44 s, total: 9.05 s\n",
      "Wall time: 5min 32s\n"
     ]
    }
   ],
   "source": [
    "%%time\n",
    "!kgtk query -i $IN/entity_counts_per_type.tsv -i $IN/candidate_RELs.tsv \\\n",
    "-o $OUT/candidate_RELs_supports.tsv \\\n",
    "--graph-cache $STORE \\\n",
    "--match 'candidate: (type)-[lab_id {type_label:t_lab, label:prop, positives:pos, property_label:p_lab}]->(val), counts_per_type: (type)-[]->(count)' \\\n",
    "--return 'type as node1, t_lab as type_label, prop as label, p_lab as property_label, val as node2, pos as positives, kgtk_quantity_number_float(pos)/kgtk_quantity_number(count) as support, lab_id as id' \\\n",
    "--order-by 'type'\n"
   ]
  },
  {
   "cell_type": "code",
   "execution_count": 173,
   "metadata": {},
   "outputs": [
    {
     "data": {
      "text/html": [
       "<div>\n",
       "<style scoped>\n",
       "    .dataframe tbody tr th:only-of-type {\n",
       "        vertical-align: middle;\n",
       "    }\n",
       "\n",
       "    .dataframe tbody tr th {\n",
       "        vertical-align: top;\n",
       "    }\n",
       "\n",
       "    .dataframe thead th {\n",
       "        text-align: right;\n",
       "    }\n",
       "</style>\n",
       "<table border=\"1\" class=\"dataframe\">\n",
       "  <thead>\n",
       "    <tr style=\"text-align: right;\">\n",
       "      <th></th>\n",
       "      <th>node1</th>\n",
       "      <th>type_label</th>\n",
       "      <th>label</th>\n",
       "      <th>property_label</th>\n",
       "      <th>node2</th>\n",
       "      <th>node2_label</th>\n",
       "      <th>positives</th>\n",
       "      <th>support</th>\n",
       "      <th>id</th>\n",
       "    </tr>\n",
       "  </thead>\n",
       "  <tbody>\n",
       "    <tr>\n",
       "      <th>0</th>\n",
       "      <td>Q1000017</td>\n",
       "      <td>'Brentidae'@en</td>\n",
       "      <td>P31</td>\n",
       "      <td>'instance of'@en</td>\n",
       "      <td>Q1000017</td>\n",
       "      <td>'Brentidae'@en</td>\n",
       "      <td>1</td>\n",
       "      <td>1.0</td>\n",
       "      <td>Q1000017_P31_Q1000017</td>\n",
       "    </tr>\n",
       "    <tr>\n",
       "      <th>1</th>\n",
       "      <td>Q1000017</td>\n",
       "      <td>'Brentidae'@en</td>\n",
       "      <td>P31</td>\n",
       "      <td>'instance of'@en</td>\n",
       "      <td>Q1040689</td>\n",
       "      <td>'synonym'@en</td>\n",
       "      <td>1</td>\n",
       "      <td>1.0</td>\n",
       "      <td>Q1000017_P31_Q1040689</td>\n",
       "    </tr>\n",
       "    <tr>\n",
       "      <th>2</th>\n",
       "      <td>Q1000017</td>\n",
       "      <td>'Brentidae'@en</td>\n",
       "      <td>P31</td>\n",
       "      <td>'instance of'@en</td>\n",
       "      <td>Q17276484</td>\n",
       "      <td>'later homonym'@en</td>\n",
       "      <td>1</td>\n",
       "      <td>1.0</td>\n",
       "      <td>Q1000017_P31_Q17276484</td>\n",
       "    </tr>\n",
       "    <tr>\n",
       "      <th>3</th>\n",
       "      <td>Q1000017</td>\n",
       "      <td>'Brentidae'@en</td>\n",
       "      <td>P910</td>\n",
       "      <td>'topic\\\\\\\\\\\\\\\\'s main category'@en</td>\n",
       "      <td>Q14967583</td>\n",
       "      <td>'Category:Euphenges'@en</td>\n",
       "      <td>1</td>\n",
       "      <td>1.0</td>\n",
       "      <td>Q1000017_P910_Q14967583</td>\n",
       "    </tr>\n",
       "    <tr>\n",
       "      <th>4</th>\n",
       "      <td>Q100023</td>\n",
       "      <td>'metasyntactic variable'@en</td>\n",
       "      <td>P1343</td>\n",
       "      <td>'described by source'@en</td>\n",
       "      <td>Q47463912</td>\n",
       "      <td>'RFC 3092: Etymology of \\\\\\\\\\\\\\\\\"Foo\\\\\\\\\\\\\\\\\"'@en</td>\n",
       "      <td>1</td>\n",
       "      <td>1.0</td>\n",
       "      <td>Q100023_P1343_Q47463912</td>\n",
       "    </tr>\n",
       "  </tbody>\n",
       "</table>\n",
       "</div>"
      ],
      "text/plain": [
       "      node1                   type_label  label  \\\n",
       "0  Q1000017               'Brentidae'@en    P31   \n",
       "1  Q1000017               'Brentidae'@en    P31   \n",
       "2  Q1000017               'Brentidae'@en    P31   \n",
       "3  Q1000017               'Brentidae'@en   P910   \n",
       "4   Q100023  'metasyntactic variable'@en  P1343   \n",
       "\n",
       "                       property_label      node2  \\\n",
       "0                    'instance of'@en   Q1000017   \n",
       "1                    'instance of'@en   Q1040689   \n",
       "2                    'instance of'@en  Q17276484   \n",
       "3  'topic\\\\\\\\\\\\\\\\'s main category'@en  Q14967583   \n",
       "4            'described by source'@en  Q47463912   \n",
       "\n",
       "                                         node2_label  positives  support  \\\n",
       "0                                     'Brentidae'@en          1      1.0   \n",
       "1                                       'synonym'@en          1      1.0   \n",
       "2                                 'later homonym'@en          1      1.0   \n",
       "3                            'Category:Euphenges'@en          1      1.0   \n",
       "4  'RFC 3092: Etymology of \\\\\\\\\\\\\\\\\"Foo\\\\\\\\\\\\\\\\\"'@en          1      1.0   \n",
       "\n",
       "                        id  \n",
       "0    Q1000017_P31_Q1000017  \n",
       "1    Q1000017_P31_Q1040689  \n",
       "2   Q1000017_P31_Q17276484  \n",
       "3  Q1000017_P910_Q14967583  \n",
       "4  Q100023_P1343_Q47463912  "
      ]
     },
     "metadata": {},
     "output_type": "display_data"
    }
   ],
   "source": [
    "display(pd.read_csv(\"{}/candidate_RELs_supports.tsv\".format(output_dir), delimiter = '\\t', nrows=5).fillna(\"\"))\n"
   ]
  },
  {
   "cell_type": "markdown",
   "metadata": {},
   "source": [
    "Filter labels based on support value, send to files."
   ]
  },
  {
   "cell_type": "code",
   "execution_count": 174,
   "metadata": {
    "scrolled": false
   },
   "outputs": [
    {
     "name": "stderr",
     "output_type": "stream",
     "text": [
      "100%|██████████| 6/6 [00:05<00:00,  1.08it/s]\n"
     ]
    }
   ],
   "source": [
    "support_file = \"{}/candidate_RELs_supports.tsv\".format(output_dir)\n",
    "filtered_out_file = \"{}/candidate_RELs_filtered_out.tsv\".format(output_dir)\n",
    "filtered_in_file = \"{}/candidate_RELs_filtered_in.tsv\".format(output_dir)\n",
    "filter_summary_file = \"{}/filter_summary_RELs.tsv\".format(output_dir)\n",
    "dynamic_filter_by_support(support_file, filtered_out_file, filtered_in_file, filter_summary_file, lbs=[.1,.03,.01,.003,.001,.0003], ub=.9, max_labels_per_type=500)"
   ]
  },
  {
   "cell_type": "code",
   "execution_count": 175,
   "metadata": {},
   "outputs": [
    {
     "data": {
      "text/html": [
       "<div>\n",
       "<style scoped>\n",
       "    .dataframe tbody tr th:only-of-type {\n",
       "        vertical-align: middle;\n",
       "    }\n",
       "\n",
       "    .dataframe tbody tr th {\n",
       "        vertical-align: top;\n",
       "    }\n",
       "\n",
       "    .dataframe thead th {\n",
       "        text-align: right;\n",
       "    }\n",
       "</style>\n",
       "<table border=\"1\" class=\"dataframe\">\n",
       "  <thead>\n",
       "    <tr style=\"text-align: right;\">\n",
       "      <th></th>\n",
       "      <th>type</th>\n",
       "      <th>type_label</th>\n",
       "      <th>lb</th>\n",
       "      <th># labels in bounds</th>\n",
       "      <th># labels before filtering</th>\n",
       "    </tr>\n",
       "  </thead>\n",
       "  <tbody>\n",
       "    <tr>\n",
       "      <th>0</th>\n",
       "      <td>Q1325650</td>\n",
       "      <td>'Malmö International Badminton Championships'@en</td>\n",
       "      <td>0.0003</td>\n",
       "      <td>12</td>\n",
       "      <td>18</td>\n",
       "    </tr>\n",
       "    <tr>\n",
       "      <th>1</th>\n",
       "      <td>Q20162172</td>\n",
       "      <td>'human language'@en</td>\n",
       "      <td>0.0003</td>\n",
       "      <td>4</td>\n",
       "      <td>5</td>\n",
       "    </tr>\n",
       "    <tr>\n",
       "      <th>2</th>\n",
       "      <td>Q47007890</td>\n",
       "      <td>'bicomplete category'@en</td>\n",
       "      <td>0.0003</td>\n",
       "      <td>15</td>\n",
       "      <td>17</td>\n",
       "    </tr>\n",
       "    <tr>\n",
       "      <th>3</th>\n",
       "      <td>Q18118092</td>\n",
       "      <td>'Aloe saponaria'@en</td>\n",
       "      <td>0.0003</td>\n",
       "      <td>4</td>\n",
       "      <td>6</td>\n",
       "    </tr>\n",
       "    <tr>\n",
       "      <th>4</th>\n",
       "      <td>Q4441564</td>\n",
       "      <td>'stack-oriented programming language'@en</td>\n",
       "      <td>0.0003</td>\n",
       "      <td>16</td>\n",
       "      <td>18</td>\n",
       "    </tr>\n",
       "  </tbody>\n",
       "</table>\n",
       "</div>"
      ],
      "text/plain": [
       "        type                                        type_label      lb  \\\n",
       "0   Q1325650  'Malmö International Badminton Championships'@en  0.0003   \n",
       "1  Q20162172                               'human language'@en  0.0003   \n",
       "2  Q47007890                          'bicomplete category'@en  0.0003   \n",
       "3  Q18118092                               'Aloe saponaria'@en  0.0003   \n",
       "4   Q4441564          'stack-oriented programming language'@en  0.0003   \n",
       "\n",
       "   # labels in bounds  # labels before filtering  \n",
       "0                  12                         18  \n",
       "1                   4                          5  \n",
       "2                  15                         17  \n",
       "3                   4                          6  \n",
       "4                  16                         18  "
      ]
     },
     "metadata": {},
     "output_type": "display_data"
    },
    {
     "data": {
      "text/html": [
       "<div>\n",
       "<style scoped>\n",
       "    .dataframe tbody tr th:only-of-type {\n",
       "        vertical-align: middle;\n",
       "    }\n",
       "\n",
       "    .dataframe tbody tr th {\n",
       "        vertical-align: top;\n",
       "    }\n",
       "\n",
       "    .dataframe thead th {\n",
       "        text-align: right;\n",
       "    }\n",
       "</style>\n",
       "<table border=\"1\" class=\"dataframe\">\n",
       "  <thead>\n",
       "    <tr style=\"text-align: right;\">\n",
       "      <th></th>\n",
       "      <th>type</th>\n",
       "      <th>type_label</th>\n",
       "      <th>lb</th>\n",
       "      <th># labels in bounds</th>\n",
       "      <th># labels before filtering</th>\n",
       "    </tr>\n",
       "  </thead>\n",
       "  <tbody>\n",
       "    <tr>\n",
       "      <th>37589</th>\n",
       "      <td>Q5</td>\n",
       "      <td>'human'@en</td>\n",
       "      <td>0.001</td>\n",
       "      <td>460</td>\n",
       "      <td>3919121</td>\n",
       "    </tr>\n",
       "  </tbody>\n",
       "</table>\n",
       "</div>"
      ],
      "text/plain": [
       "      type  type_label     lb  # labels in bounds  # labels before filtering\n",
       "37589   Q5  'human'@en  0.001                 460                    3919121"
      ]
     },
     "metadata": {},
     "output_type": "display_data"
    },
    {
     "data": {
      "text/html": [
       "<div>\n",
       "<style scoped>\n",
       "    .dataframe tbody tr th:only-of-type {\n",
       "        vertical-align: middle;\n",
       "    }\n",
       "\n",
       "    .dataframe tbody tr th {\n",
       "        vertical-align: top;\n",
       "    }\n",
       "\n",
       "    .dataframe thead th {\n",
       "        text-align: right;\n",
       "    }\n",
       "</style>\n",
       "<table border=\"1\" class=\"dataframe\">\n",
       "  <thead>\n",
       "    <tr style=\"text-align: right;\">\n",
       "      <th></th>\n",
       "      <th>type</th>\n",
       "      <th>type_label</th>\n",
       "      <th>lb</th>\n",
       "      <th># labels in bounds</th>\n",
       "      <th># labels before filtering</th>\n",
       "    </tr>\n",
       "  </thead>\n",
       "  <tbody>\n",
       "    <tr>\n",
       "      <th>38212</th>\n",
       "      <td>Q7889</td>\n",
       "      <td>'video game'@en</td>\n",
       "      <td>0.003</td>\n",
       "      <td>242</td>\n",
       "      <td>26262</td>\n",
       "    </tr>\n",
       "  </tbody>\n",
       "</table>\n",
       "</div>"
      ],
      "text/plain": [
       "        type       type_label     lb  # labels in bounds  \\\n",
       "38212  Q7889  'video game'@en  0.003                 242   \n",
       "\n",
       "       # labels before filtering  \n",
       "38212                      26262  "
      ]
     },
     "metadata": {},
     "output_type": "display_data"
    },
    {
     "data": {
      "text/html": [
       "<div>\n",
       "<style scoped>\n",
       "    .dataframe tbody tr th:only-of-type {\n",
       "        vertical-align: middle;\n",
       "    }\n",
       "\n",
       "    .dataframe tbody tr th {\n",
       "        vertical-align: top;\n",
       "    }\n",
       "\n",
       "    .dataframe thead th {\n",
       "        text-align: right;\n",
       "    }\n",
       "</style>\n",
       "<table border=\"1\" class=\"dataframe\">\n",
       "  <thead>\n",
       "    <tr style=\"text-align: right;\">\n",
       "      <th></th>\n",
       "      <th>type</th>\n",
       "      <th>type_label</th>\n",
       "      <th>lb</th>\n",
       "      <th># labels in bounds</th>\n",
       "      <th># labels before filtering</th>\n",
       "    </tr>\n",
       "  </thead>\n",
       "  <tbody>\n",
       "    <tr>\n",
       "      <th>39935</th>\n",
       "      <td>Q6256</td>\n",
       "      <td>'country'@en</td>\n",
       "      <td>0.03</td>\n",
       "      <td>438</td>\n",
       "      <td>22205</td>\n",
       "    </tr>\n",
       "  </tbody>\n",
       "</table>\n",
       "</div>"
      ],
      "text/plain": [
       "        type    type_label    lb  # labels in bounds  \\\n",
       "39935  Q6256  'country'@en  0.03                 438   \n",
       "\n",
       "       # labels before filtering  \n",
       "39935                      22205  "
      ]
     },
     "metadata": {},
     "output_type": "display_data"
    },
    {
     "data": {
      "text/html": [
       "<div>\n",
       "<style scoped>\n",
       "    .dataframe tbody tr th:only-of-type {\n",
       "        vertical-align: middle;\n",
       "    }\n",
       "\n",
       "    .dataframe tbody tr th {\n",
       "        vertical-align: top;\n",
       "    }\n",
       "\n",
       "    .dataframe thead th {\n",
       "        text-align: right;\n",
       "    }\n",
       "</style>\n",
       "<table border=\"1\" class=\"dataframe\">\n",
       "  <thead>\n",
       "    <tr style=\"text-align: right;\">\n",
       "      <th></th>\n",
       "      <th>type</th>\n",
       "      <th>type_label</th>\n",
       "      <th>lb</th>\n",
       "      <th># labels in bounds</th>\n",
       "      <th># labels before filtering</th>\n",
       "    </tr>\n",
       "  </thead>\n",
       "  <tbody>\n",
       "    <tr>\n",
       "      <th>37436</th>\n",
       "      <td>Q41298</td>\n",
       "      <td>'magazine'@en</td>\n",
       "      <td>0.001</td>\n",
       "      <td>255</td>\n",
       "      <td>9895</td>\n",
       "    </tr>\n",
       "  </tbody>\n",
       "</table>\n",
       "</div>"
      ],
      "text/plain": [
       "         type     type_label     lb  # labels in bounds  \\\n",
       "37436  Q41298  'magazine'@en  0.001                 255   \n",
       "\n",
       "       # labels before filtering  \n",
       "37436                       9895  "
      ]
     },
     "metadata": {},
     "output_type": "display_data"
    }
   ],
   "source": [
    "df = pd.read_csv(\"{}/filter_summary_RELs.tsv\".format(output_dir), delimiter = '\\t').fillna(\"\")\n",
    "display(df.head())\n",
    "display(df.loc[df.loc[:,\"type\"]==\"Q5\"])\n",
    "display(df.loc[df.loc[:,\"type\"]==\"Q7889\"])\n",
    "display(df.loc[df.loc[:,\"type\"]==\"Q6256\"])\n",
    "display(df.loc[df.loc[:,\"type\"]==\"Q41298\"])"
   ]
  },
  {
   "cell_type": "markdown",
   "metadata": {},
   "source": [
    "## RAVLs"
   ]
  },
  {
   "cell_type": "markdown",
   "metadata": {},
   "source": [
    "Adding support column"
   ]
  },
  {
   "cell_type": "code",
   "execution_count": 176,
   "metadata": {},
   "outputs": [],
   "source": [
    "!kgtk query -i $IN/entity_counts_per_type.tsv -i $IN/candidate_RAVLs.tsv \\\n",
    "-o $OUT/candidate_RAVLs_supports.tsv \\\n",
    "--graph-cache $STORE \\\n",
    "--match 'candidate: (type1)-[lab_id {type_label:t_lab, label:prop1, property_label:p1_lab, positives:pos}]->(val), counts_per_type: (type1)-[]->(count)' \\\n",
    "--return 'type1 as node1, t_lab as type_label, prop1 as label, p1_lab as property_label, val as node2, pos as positives, kgtk_quantity_number_float(pos)/kgtk_quantity_number(count) as support, lab_id as id' \\\n",
    "--order-by 'type1'\n"
   ]
  },
  {
   "cell_type": "code",
   "execution_count": 177,
   "metadata": {},
   "outputs": [
    {
     "data": {
      "text/html": [
       "<div>\n",
       "<style scoped>\n",
       "    .dataframe tbody tr th:only-of-type {\n",
       "        vertical-align: middle;\n",
       "    }\n",
       "\n",
       "    .dataframe tbody tr th {\n",
       "        vertical-align: top;\n",
       "    }\n",
       "\n",
       "    .dataframe thead th {\n",
       "        text-align: right;\n",
       "    }\n",
       "</style>\n",
       "<table border=\"1\" class=\"dataframe\">\n",
       "  <thead>\n",
       "    <tr style=\"text-align: right;\">\n",
       "      <th></th>\n",
       "      <th>node1</th>\n",
       "      <th>type_label</th>\n",
       "      <th>label</th>\n",
       "      <th>property_label</th>\n",
       "      <th>type2</th>\n",
       "      <th>type2_label</th>\n",
       "      <th>prop2</th>\n",
       "      <th>property2_label</th>\n",
       "      <th>node2</th>\n",
       "      <th>si_units</th>\n",
       "      <th>wd_units</th>\n",
       "      <th>positives</th>\n",
       "      <th>support</th>\n",
       "      <th>id</th>\n",
       "    </tr>\n",
       "  </thead>\n",
       "  <tbody>\n",
       "    <tr>\n",
       "      <th>0</th>\n",
       "      <td>Q100023</td>\n",
       "      <td>'metasyntactic variable'@en</td>\n",
       "      <td>P1343</td>\n",
       "      <td>'described by source'@en</td>\n",
       "      <td>Q1322187</td>\n",
       "      <td>'April Fools\\\\\\\\\\\\\\\\\\\\\\\\\\\\\\\\' Day Request for ...</td>\n",
       "      <td>P1104</td>\n",
       "      <td>'number of pages'@en</td>\n",
       "      <td>14.000</td>\n",
       "      <td></td>\n",
       "      <td></td>\n",
       "      <td>1</td>\n",
       "      <td>1.0</td>\n",
       "      <td>Q100023_P1343_Q1322187_P1104_+14__</td>\n",
       "    </tr>\n",
       "    <tr>\n",
       "      <th>1</th>\n",
       "      <td>Q100023</td>\n",
       "      <td>'metasyntactic variable'@en</td>\n",
       "      <td>P1343</td>\n",
       "      <td>'described by source'@en</td>\n",
       "      <td>Q1322187</td>\n",
       "      <td>'April Fools\\\\\\\\\\\\\\\\\\\\\\\\\\\\\\\\' Day Request for ...</td>\n",
       "      <td>P577</td>\n",
       "      <td>'publication date'@en</td>\n",
       "      <td>2001.000</td>\n",
       "      <td></td>\n",
       "      <td></td>\n",
       "      <td>1</td>\n",
       "      <td>1.0</td>\n",
       "      <td>Q100023_P1343_Q1322187_P577_2001__</td>\n",
       "    </tr>\n",
       "    <tr>\n",
       "      <th>2</th>\n",
       "      <td>Q100023</td>\n",
       "      <td>'metasyntactic variable'@en</td>\n",
       "      <td>P1343</td>\n",
       "      <td>'described by source'@en</td>\n",
       "      <td>Q212971</td>\n",
       "      <td>'Request for Comments'@en</td>\n",
       "      <td>P1104</td>\n",
       "      <td>'number of pages'@en</td>\n",
       "      <td>14.000</td>\n",
       "      <td></td>\n",
       "      <td></td>\n",
       "      <td>1</td>\n",
       "      <td>1.0</td>\n",
       "      <td>Q100023_P1343_Q212971_P1104_+14__</td>\n",
       "    </tr>\n",
       "    <tr>\n",
       "      <th>3</th>\n",
       "      <td>Q100023</td>\n",
       "      <td>'metasyntactic variable'@en</td>\n",
       "      <td>P1343</td>\n",
       "      <td>'described by source'@en</td>\n",
       "      <td>Q212971</td>\n",
       "      <td>'Request for Comments'@en</td>\n",
       "      <td>P577</td>\n",
       "      <td>'publication date'@en</td>\n",
       "      <td>2001.000</td>\n",
       "      <td></td>\n",
       "      <td></td>\n",
       "      <td>1</td>\n",
       "      <td>1.0</td>\n",
       "      <td>Q100023_P1343_Q212971_P577_2001__</td>\n",
       "    </tr>\n",
       "    <tr>\n",
       "      <th>4</th>\n",
       "      <td>Q100026</td>\n",
       "      <td>'F-16'@en</td>\n",
       "      <td>P17</td>\n",
       "      <td>'country'@en</td>\n",
       "      <td>Q3624078</td>\n",
       "      <td>'sovereign state'@en</td>\n",
       "      <td>P1081</td>\n",
       "      <td>'Human Development Index'@en</td>\n",
       "      <td>0.903</td>\n",
       "      <td></td>\n",
       "      <td></td>\n",
       "      <td>1</td>\n",
       "      <td>1.0</td>\n",
       "      <td>Q100026_P17_Q3624078_P1081_+0.903__</td>\n",
       "    </tr>\n",
       "  </tbody>\n",
       "</table>\n",
       "</div>"
      ],
      "text/plain": [
       "     node1                   type_label  label            property_label  \\\n",
       "0  Q100023  'metasyntactic variable'@en  P1343  'described by source'@en   \n",
       "1  Q100023  'metasyntactic variable'@en  P1343  'described by source'@en   \n",
       "2  Q100023  'metasyntactic variable'@en  P1343  'described by source'@en   \n",
       "3  Q100023  'metasyntactic variable'@en  P1343  'described by source'@en   \n",
       "4  Q100026                    'F-16'@en    P17              'country'@en   \n",
       "\n",
       "      type2                                        type2_label  prop2  \\\n",
       "0  Q1322187  'April Fools\\\\\\\\\\\\\\\\\\\\\\\\\\\\\\\\' Day Request for ...  P1104   \n",
       "1  Q1322187  'April Fools\\\\\\\\\\\\\\\\\\\\\\\\\\\\\\\\' Day Request for ...   P577   \n",
       "2   Q212971                          'Request for Comments'@en  P1104   \n",
       "3   Q212971                          'Request for Comments'@en   P577   \n",
       "4  Q3624078                               'sovereign state'@en  P1081   \n",
       "\n",
       "                property2_label     node2 si_units wd_units  positives  \\\n",
       "0          'number of pages'@en    14.000                            1   \n",
       "1         'publication date'@en  2001.000                            1   \n",
       "2          'number of pages'@en    14.000                            1   \n",
       "3         'publication date'@en  2001.000                            1   \n",
       "4  'Human Development Index'@en     0.903                            1   \n",
       "\n",
       "   support                                   id  \n",
       "0      1.0   Q100023_P1343_Q1322187_P1104_+14__  \n",
       "1      1.0   Q100023_P1343_Q1322187_P577_2001__  \n",
       "2      1.0    Q100023_P1343_Q212971_P1104_+14__  \n",
       "3      1.0    Q100023_P1343_Q212971_P577_2001__  \n",
       "4      1.0  Q100026_P17_Q3624078_P1081_+0.903__  "
      ]
     },
     "metadata": {},
     "output_type": "display_data"
    }
   ],
   "source": [
    "display(pd.read_csv(\"{}/candidate_RAVLs_supports.tsv\".format(output_dir), delimiter = '\\t', nrows=5).fillna(\"\"))\n"
   ]
  },
  {
   "cell_type": "markdown",
   "metadata": {},
   "source": [
    "Filter labels based on support value, send to files."
   ]
  },
  {
   "cell_type": "code",
   "execution_count": 178,
   "metadata": {
    "scrolled": true
   },
   "outputs": [],
   "source": [
    "support_file = \"{}/candidate_RAVLs_supports.tsv\".format(output_dir)\n",
    "filtered_out_file = \"{}/candidate_RAVLs_filtered_out.tsv\".format(output_dir)\n",
    "filtered_in_file = \"{}/candidate_RAVLs_filtered_in.tsv\".format(output_dir)\n",
    "filter_summary_file = \"{}/filter_summary_RAVLs.tsv\".format(output_dir)\n",
    "dynamic_filter_by_support(support_file, filtered_out_file, filtered_in_file, filter_summary_file, lbs=[.1], ub=.9, max_labels_per_type=500)"
   ]
  },
  {
   "cell_type": "code",
   "execution_count": 179,
   "metadata": {},
   "outputs": [
    {
     "data": {
      "text/html": [
       "<div>\n",
       "<style scoped>\n",
       "    .dataframe tbody tr th:only-of-type {\n",
       "        vertical-align: middle;\n",
       "    }\n",
       "\n",
       "    .dataframe tbody tr th {\n",
       "        vertical-align: top;\n",
       "    }\n",
       "\n",
       "    .dataframe thead th {\n",
       "        text-align: right;\n",
       "    }\n",
       "</style>\n",
       "<table border=\"1\" class=\"dataframe\">\n",
       "  <thead>\n",
       "    <tr style=\"text-align: right;\">\n",
       "      <th></th>\n",
       "      <th>type</th>\n",
       "      <th>type_label</th>\n",
       "      <th>lb</th>\n",
       "      <th># labels in bounds</th>\n",
       "      <th># labels before filtering</th>\n",
       "    </tr>\n",
       "  </thead>\n",
       "  <tbody>\n",
       "    <tr>\n",
       "      <th>0</th>\n",
       "      <td>Q100023</td>\n",
       "      <td>'metasyntactic variable'@en</td>\n",
       "      <td>0.1</td>\n",
       "      <td>0</td>\n",
       "      <td>4</td>\n",
       "    </tr>\n",
       "    <tr>\n",
       "      <th>1</th>\n",
       "      <td>Q100026</td>\n",
       "      <td>'F-16'@en</td>\n",
       "      <td>0.1</td>\n",
       "      <td>0</td>\n",
       "      <td>59</td>\n",
       "    </tr>\n",
       "    <tr>\n",
       "      <th>2</th>\n",
       "      <td>Q1000300</td>\n",
       "      <td>'Land Rover Series'@en</td>\n",
       "      <td>0.1</td>\n",
       "      <td>0</td>\n",
       "      <td>2</td>\n",
       "    </tr>\n",
       "    <tr>\n",
       "      <th>3</th>\n",
       "      <td>Q1000371</td>\n",
       "      <td>'personalization'@en</td>\n",
       "      <td>0.1</td>\n",
       "      <td>9</td>\n",
       "      <td>9</td>\n",
       "    </tr>\n",
       "    <tr>\n",
       "      <th>4</th>\n",
       "      <td>Q100039327</td>\n",
       "      <td>'autonomous constitutional agency'@en</td>\n",
       "      <td>0.1</td>\n",
       "      <td>17</td>\n",
       "      <td>56</td>\n",
       "    </tr>\n",
       "  </tbody>\n",
       "</table>\n",
       "</div>"
      ],
      "text/plain": [
       "         type                             type_label   lb  # labels in bounds  \\\n",
       "0     Q100023            'metasyntactic variable'@en  0.1                   0   \n",
       "1     Q100026                              'F-16'@en  0.1                   0   \n",
       "2    Q1000300                 'Land Rover Series'@en  0.1                   0   \n",
       "3    Q1000371                   'personalization'@en  0.1                   9   \n",
       "4  Q100039327  'autonomous constitutional agency'@en  0.1                  17   \n",
       "\n",
       "   # labels before filtering  \n",
       "0                          4  \n",
       "1                         59  \n",
       "2                          2  \n",
       "3                          9  \n",
       "4                         56  "
      ]
     },
     "metadata": {},
     "output_type": "display_data"
    }
   ],
   "source": [
    "display(pd.read_csv(\"{}/filter_summary_RAVLs.tsv\".format(output_dir), delimiter = '\\t', nrows=5).fillna(\"\"))\n"
   ]
  },
  {
   "cell_type": "markdown",
   "metadata": {},
   "source": [
    "## RAILs"
   ]
  },
  {
   "cell_type": "markdown",
   "metadata": {},
   "source": [
    "Adding support column"
   ]
  },
  {
   "cell_type": "code",
   "execution_count": 116,
   "metadata": {},
   "outputs": [],
   "source": [
    "!kgtk query -i $IN/entity_counts_per_type.tsv -i $IN/candidate_RAILs.tsv \\\n",
    "-o $OUT/candidate_RAILs_supports.tsv \\\n",
    "--graph-cache $STORE \\\n",
    "--match 'candidate: (type1)-[lab_id {type_label:t_lab, label:prop1, property_label:p1_lab, positives:pos}]->(val), counts_per_type: (type1)-[]->(count)' \\\n",
    "--return 'type1 as node1, t_lab as type_label, prop1 as label, p1_lab as property_label, val as node2, pos as positives, kgtk_quantity_number_float(pos)/kgtk_quantity_number(count) as support, lab_id as id' \\\n",
    "--order-by 'type1'\n"
   ]
  },
  {
   "cell_type": "code",
   "execution_count": 117,
   "metadata": {},
   "outputs": [
    {
     "data": {
      "text/html": [
       "<div>\n",
       "<style scoped>\n",
       "    .dataframe tbody tr th:only-of-type {\n",
       "        vertical-align: middle;\n",
       "    }\n",
       "\n",
       "    .dataframe tbody tr th {\n",
       "        vertical-align: top;\n",
       "    }\n",
       "\n",
       "    .dataframe thead th {\n",
       "        text-align: right;\n",
       "    }\n",
       "</style>\n",
       "<table border=\"1\" class=\"dataframe\">\n",
       "  <thead>\n",
       "    <tr style=\"text-align: right;\">\n",
       "      <th></th>\n",
       "      <th>node1</th>\n",
       "      <th>type_label</th>\n",
       "      <th>label</th>\n",
       "      <th>property_label</th>\n",
       "      <th>type2</th>\n",
       "      <th>type2_label</th>\n",
       "      <th>prop2</th>\n",
       "      <th>property2_label</th>\n",
       "      <th>node2</th>\n",
       "      <th>lower_bound</th>\n",
       "      <th>upper_bound</th>\n",
       "      <th>si_units</th>\n",
       "      <th>wd_units</th>\n",
       "      <th>positives</th>\n",
       "      <th>support</th>\n",
       "      <th>id</th>\n",
       "    </tr>\n",
       "  </thead>\n",
       "  <tbody>\n",
       "    <tr>\n",
       "      <th>0</th>\n",
       "      <td>Q100023</td>\n",
       "      <td>'metasyntactic variable'@en</td>\n",
       "      <td>P1343</td>\n",
       "      <td>'described by source'@en</td>\n",
       "      <td>Q1322187</td>\n",
       "      <td>'April Fools\\\\\\\\\\\\\\\\\\\\\\\\\\\\\\\\' Day Request for ...</td>\n",
       "      <td>P1104</td>\n",
       "      <td>'number of pages'@en</td>\n",
       "      <td></td>\n",
       "      <td>11.000</td>\n",
       "      <td>37.000</td>\n",
       "      <td></td>\n",
       "      <td></td>\n",
       "      <td>1</td>\n",
       "      <td>1.0</td>\n",
       "      <td>Q100023_P1343_Q1322187_P1104_11.0-37.0__</td>\n",
       "    </tr>\n",
       "    <tr>\n",
       "      <th>1</th>\n",
       "      <td>Q100023</td>\n",
       "      <td>'metasyntactic variable'@en</td>\n",
       "      <td>P1343</td>\n",
       "      <td>'described by source'@en</td>\n",
       "      <td>Q1322187</td>\n",
       "      <td>'April Fools\\\\\\\\\\\\\\\\\\\\\\\\\\\\\\\\' Day Request for ...</td>\n",
       "      <td>P577</td>\n",
       "      <td>'publication date'@en</td>\n",
       "      <td></td>\n",
       "      <td>2000.000</td>\n",
       "      <td>2010.000</td>\n",
       "      <td></td>\n",
       "      <td></td>\n",
       "      <td>1</td>\n",
       "      <td>1.0</td>\n",
       "      <td>Q100023_P1343_Q1322187_P577_2000-2010__</td>\n",
       "    </tr>\n",
       "    <tr>\n",
       "      <th>2</th>\n",
       "      <td>Q100023</td>\n",
       "      <td>'metasyntactic variable'@en</td>\n",
       "      <td>P1343</td>\n",
       "      <td>'described by source'@en</td>\n",
       "      <td>Q212971</td>\n",
       "      <td>'Request for Comments'@en</td>\n",
       "      <td>P1104</td>\n",
       "      <td>'number of pages'@en</td>\n",
       "      <td></td>\n",
       "      <td>13.000</td>\n",
       "      <td>20.000</td>\n",
       "      <td></td>\n",
       "      <td></td>\n",
       "      <td>1</td>\n",
       "      <td>1.0</td>\n",
       "      <td>Q100023_P1343_Q212971_P1104_13.0-20.0__</td>\n",
       "    </tr>\n",
       "    <tr>\n",
       "      <th>3</th>\n",
       "      <td>Q100023</td>\n",
       "      <td>'metasyntactic variable'@en</td>\n",
       "      <td>P1343</td>\n",
       "      <td>'described by source'@en</td>\n",
       "      <td>Q212971</td>\n",
       "      <td>'Request for Comments'@en</td>\n",
       "      <td>P577</td>\n",
       "      <td>'publication date'@en</td>\n",
       "      <td></td>\n",
       "      <td>2000.000</td>\n",
       "      <td>2010.000</td>\n",
       "      <td></td>\n",
       "      <td></td>\n",
       "      <td>1</td>\n",
       "      <td>1.0</td>\n",
       "      <td>Q100023_P1343_Q212971_P577_2000-2010__</td>\n",
       "    </tr>\n",
       "    <tr>\n",
       "      <th>4</th>\n",
       "      <td>Q100026</td>\n",
       "      <td>'F-16'@en</td>\n",
       "      <td>P17</td>\n",
       "      <td>'country'@en</td>\n",
       "      <td>Q3624078</td>\n",
       "      <td>'sovereign state'@en</td>\n",
       "      <td>P1081</td>\n",
       "      <td>'Human Development Index'@en</td>\n",
       "      <td></td>\n",
       "      <td>0.853</td>\n",
       "      <td>0.957</td>\n",
       "      <td></td>\n",
       "      <td></td>\n",
       "      <td>1</td>\n",
       "      <td>1.0</td>\n",
       "      <td>Q100026_P17_Q3624078_P1081_0.853-0.957__</td>\n",
       "    </tr>\n",
       "  </tbody>\n",
       "</table>\n",
       "</div>"
      ],
      "text/plain": [
       "     node1                   type_label  label            property_label  \\\n",
       "0  Q100023  'metasyntactic variable'@en  P1343  'described by source'@en   \n",
       "1  Q100023  'metasyntactic variable'@en  P1343  'described by source'@en   \n",
       "2  Q100023  'metasyntactic variable'@en  P1343  'described by source'@en   \n",
       "3  Q100023  'metasyntactic variable'@en  P1343  'described by source'@en   \n",
       "4  Q100026                    'F-16'@en    P17              'country'@en   \n",
       "\n",
       "      type2                                        type2_label  prop2  \\\n",
       "0  Q1322187  'April Fools\\\\\\\\\\\\\\\\\\\\\\\\\\\\\\\\' Day Request for ...  P1104   \n",
       "1  Q1322187  'April Fools\\\\\\\\\\\\\\\\\\\\\\\\\\\\\\\\' Day Request for ...   P577   \n",
       "2   Q212971                          'Request for Comments'@en  P1104   \n",
       "3   Q212971                          'Request for Comments'@en   P577   \n",
       "4  Q3624078                               'sovereign state'@en  P1081   \n",
       "\n",
       "                property2_label node2  lower_bound  upper_bound si_units  \\\n",
       "0          'number of pages'@en             11.000       37.000            \n",
       "1         'publication date'@en           2000.000     2010.000            \n",
       "2          'number of pages'@en             13.000       20.000            \n",
       "3         'publication date'@en           2000.000     2010.000            \n",
       "4  'Human Development Index'@en              0.853        0.957            \n",
       "\n",
       "  wd_units  positives  support                                        id  \n",
       "0                   1      1.0  Q100023_P1343_Q1322187_P1104_11.0-37.0__  \n",
       "1                   1      1.0   Q100023_P1343_Q1322187_P577_2000-2010__  \n",
       "2                   1      1.0   Q100023_P1343_Q212971_P1104_13.0-20.0__  \n",
       "3                   1      1.0    Q100023_P1343_Q212971_P577_2000-2010__  \n",
       "4                   1      1.0  Q100026_P17_Q3624078_P1081_0.853-0.957__  "
      ]
     },
     "metadata": {},
     "output_type": "display_data"
    }
   ],
   "source": [
    "display(pd.read_csv(\"{}/candidate_RAILs_supports.tsv\".format(output_dir), delimiter = '\\t', nrows=5).fillna(\"\"))\n"
   ]
  },
  {
   "cell_type": "markdown",
   "metadata": {},
   "source": [
    "Filter labels based on support value, send to files."
   ]
  },
  {
   "cell_type": "code",
   "execution_count": 118,
   "metadata": {
    "scrolled": true
   },
   "outputs": [],
   "source": [
    "support_file = \"{}/candidate_RAILs_supports.tsv\".format(output_dir)\n",
    "filtered_out_file = \"{}/candidate_RAILs_filtered_out.tsv\".format(output_dir)\n",
    "filtered_in_file = \"{}/candidate_RAILs_filtered_in.tsv\".format(output_dir)\n",
    "filter_summary_file = \"{}/filter_summary_RAILs.tsv\".format(output_dir)\n",
    "dynamic_filter_by_support(support_file, filtered_out_file, filtered_in_file, filter_summary_file, lbs=[.1], ub=.9, max_labels_per_type=500)"
   ]
  },
  {
   "cell_type": "code",
   "execution_count": 119,
   "metadata": {},
   "outputs": [
    {
     "data": {
      "text/html": [
       "<div>\n",
       "<style scoped>\n",
       "    .dataframe tbody tr th:only-of-type {\n",
       "        vertical-align: middle;\n",
       "    }\n",
       "\n",
       "    .dataframe tbody tr th {\n",
       "        vertical-align: top;\n",
       "    }\n",
       "\n",
       "    .dataframe thead th {\n",
       "        text-align: right;\n",
       "    }\n",
       "</style>\n",
       "<table border=\"1\" class=\"dataframe\">\n",
       "  <thead>\n",
       "    <tr style=\"text-align: right;\">\n",
       "      <th></th>\n",
       "      <th>type</th>\n",
       "      <th>type_label</th>\n",
       "      <th>lb</th>\n",
       "      <th># labels in bounds</th>\n",
       "      <th># labels before filtering</th>\n",
       "    </tr>\n",
       "  </thead>\n",
       "  <tbody>\n",
       "    <tr>\n",
       "      <th>0</th>\n",
       "      <td>Q100023</td>\n",
       "      <td>'metasyntactic variable'@en</td>\n",
       "      <td>0.1</td>\n",
       "      <td>0</td>\n",
       "      <td>4</td>\n",
       "    </tr>\n",
       "    <tr>\n",
       "      <th>1</th>\n",
       "      <td>Q100026</td>\n",
       "      <td>'F-16'@en</td>\n",
       "      <td>0.1</td>\n",
       "      <td>0</td>\n",
       "      <td>58</td>\n",
       "    </tr>\n",
       "    <tr>\n",
       "      <th>2</th>\n",
       "      <td>Q1000300</td>\n",
       "      <td>'Land Rover Series'@en</td>\n",
       "      <td>0.1</td>\n",
       "      <td>0</td>\n",
       "      <td>2</td>\n",
       "    </tr>\n",
       "    <tr>\n",
       "      <th>3</th>\n",
       "      <td>Q1000371</td>\n",
       "      <td>'personalization'@en</td>\n",
       "      <td>0.1</td>\n",
       "      <td>5</td>\n",
       "      <td>5</td>\n",
       "    </tr>\n",
       "    <tr>\n",
       "      <th>4</th>\n",
       "      <td>Q100039327</td>\n",
       "      <td>'autonomous constitutional agency'@en</td>\n",
       "      <td>0.1</td>\n",
       "      <td>17</td>\n",
       "      <td>56</td>\n",
       "    </tr>\n",
       "  </tbody>\n",
       "</table>\n",
       "</div>"
      ],
      "text/plain": [
       "         type                             type_label   lb  # labels in bounds  \\\n",
       "0     Q100023            'metasyntactic variable'@en  0.1                   0   \n",
       "1     Q100026                              'F-16'@en  0.1                   0   \n",
       "2    Q1000300                 'Land Rover Series'@en  0.1                   0   \n",
       "3    Q1000371                   'personalization'@en  0.1                   5   \n",
       "4  Q100039327  'autonomous constitutional agency'@en  0.1                  17   \n",
       "\n",
       "   # labels before filtering  \n",
       "0                          4  \n",
       "1                         58  \n",
       "2                          2  \n",
       "3                          5  \n",
       "4                         56  "
      ]
     },
     "metadata": {},
     "output_type": "display_data"
    }
   ],
   "source": [
    "display(pd.read_csv(\"{}/filter_summary_RAILs.tsv\".format(output_dir), delimiter = '\\t', nrows=5).fillna(\"\"))\n"
   ]
  },
  {
   "cell_type": "markdown",
   "metadata": {},
   "source": [
    "## AIL - time.year"
   ]
  },
  {
   "cell_type": "markdown",
   "metadata": {},
   "source": [
    "Adding support column"
   ]
  },
  {
   "cell_type": "code",
   "execution_count": 120,
   "metadata": {},
   "outputs": [],
   "source": [
    "!kgtk query -i $IN/entity_counts_per_type.tsv -i $IN/candidate_AILs_time.year.tsv \\\n",
    "-o $OUT/candidate_AILs_time.year_supports.tsv \\\n",
    "--graph-cache $STORE \\\n",
    "--match 'candidate: (type)-[lab_id {type_label:t_lab, label:prop, positives:pos, lower_bound:lb, upper_bound:ub, property_label:p_lab}]->(), counts_per_type: (type)-[]->(count)' \\\n",
    "--return 'type as node1, t_lab as type_label, prop as label, p_lab as property_label, \"\" as node2,lb as lower_bound, ub as upper_bound, pos as positives, kgtk_quantity_number_float(pos)/kgtk_quantity_number(count) as support, lab_id as id' \\\n",
    "--order-by 'type'"
   ]
  },
  {
   "cell_type": "code",
   "execution_count": 121,
   "metadata": {},
   "outputs": [
    {
     "data": {
      "text/html": [
       "<div>\n",
       "<style scoped>\n",
       "    .dataframe tbody tr th:only-of-type {\n",
       "        vertical-align: middle;\n",
       "    }\n",
       "\n",
       "    .dataframe tbody tr th {\n",
       "        vertical-align: top;\n",
       "    }\n",
       "\n",
       "    .dataframe thead th {\n",
       "        text-align: right;\n",
       "    }\n",
       "</style>\n",
       "<table border=\"1\" class=\"dataframe\">\n",
       "  <thead>\n",
       "    <tr style=\"text-align: right;\">\n",
       "      <th></th>\n",
       "      <th>node1</th>\n",
       "      <th>type_label</th>\n",
       "      <th>label</th>\n",
       "      <th>property_label</th>\n",
       "      <th>node2</th>\n",
       "      <th>lower_bound</th>\n",
       "      <th>upper_bound</th>\n",
       "      <th>positives</th>\n",
       "      <th>support</th>\n",
       "      <th>id</th>\n",
       "    </tr>\n",
       "  </thead>\n",
       "  <tbody>\n",
       "    <tr>\n",
       "      <th>0</th>\n",
       "      <td>Q100039327</td>\n",
       "      <td>'autonomous constitutional agency'@en</td>\n",
       "      <td>P571</td>\n",
       "      <td>'inception'@en</td>\n",
       "      <td></td>\n",
       "      <td>1990</td>\n",
       "      <td>2000</td>\n",
       "      <td>3</td>\n",
       "      <td>0.428571</td>\n",
       "      <td>Q100039327_P571_1990-2000</td>\n",
       "    </tr>\n",
       "    <tr>\n",
       "      <th>1</th>\n",
       "      <td>Q100039327</td>\n",
       "      <td>'autonomous constitutional agency'@en</td>\n",
       "      <td>P571</td>\n",
       "      <td>'inception'@en</td>\n",
       "      <td></td>\n",
       "      <td>1920</td>\n",
       "      <td>1930</td>\n",
       "      <td>2</td>\n",
       "      <td>0.285714</td>\n",
       "      <td>Q100039327_P571_1920-1930</td>\n",
       "    </tr>\n",
       "    <tr>\n",
       "      <th>2</th>\n",
       "      <td>Q100039327</td>\n",
       "      <td>'autonomous constitutional agency'@en</td>\n",
       "      <td>P571</td>\n",
       "      <td>'inception'@en</td>\n",
       "      <td></td>\n",
       "      <td>1930</td>\n",
       "      <td>1940</td>\n",
       "      <td>1</td>\n",
       "      <td>0.142857</td>\n",
       "      <td>Q100039327_P571_1930-1940</td>\n",
       "    </tr>\n",
       "    <tr>\n",
       "      <th>3</th>\n",
       "      <td>Q100039327</td>\n",
       "      <td>'autonomous constitutional agency'@en</td>\n",
       "      <td>P571</td>\n",
       "      <td>'inception'@en</td>\n",
       "      <td></td>\n",
       "      <td>1970</td>\n",
       "      <td>1980</td>\n",
       "      <td>1</td>\n",
       "      <td>0.142857</td>\n",
       "      <td>Q100039327_P571_1970-1980</td>\n",
       "    </tr>\n",
       "    <tr>\n",
       "      <th>4</th>\n",
       "      <td>Q1000415</td>\n",
       "      <td>'Henry 180'@en</td>\n",
       "      <td>P585</td>\n",
       "      <td>'point in time'@en</td>\n",
       "      <td></td>\n",
       "      <td>2010</td>\n",
       "      <td>2020</td>\n",
       "      <td>2</td>\n",
       "      <td>0.666667</td>\n",
       "      <td>Q1000415_P585_2010-2020</td>\n",
       "    </tr>\n",
       "  </tbody>\n",
       "</table>\n",
       "</div>"
      ],
      "text/plain": [
       "        node1                             type_label label  \\\n",
       "0  Q100039327  'autonomous constitutional agency'@en  P571   \n",
       "1  Q100039327  'autonomous constitutional agency'@en  P571   \n",
       "2  Q100039327  'autonomous constitutional agency'@en  P571   \n",
       "3  Q100039327  'autonomous constitutional agency'@en  P571   \n",
       "4    Q1000415                         'Henry 180'@en  P585   \n",
       "\n",
       "       property_label node2  lower_bound  upper_bound  positives   support  \\\n",
       "0      'inception'@en               1990         2000          3  0.428571   \n",
       "1      'inception'@en               1920         1930          2  0.285714   \n",
       "2      'inception'@en               1930         1940          1  0.142857   \n",
       "3      'inception'@en               1970         1980          1  0.142857   \n",
       "4  'point in time'@en               2010         2020          2  0.666667   \n",
       "\n",
       "                          id  \n",
       "0  Q100039327_P571_1990-2000  \n",
       "1  Q100039327_P571_1920-1930  \n",
       "2  Q100039327_P571_1930-1940  \n",
       "3  Q100039327_P571_1970-1980  \n",
       "4    Q1000415_P585_2010-2020  "
      ]
     },
     "metadata": {},
     "output_type": "display_data"
    }
   ],
   "source": [
    "display(pd.read_csv(\"{}/candidate_AILs_time.year_supports.tsv\".format(output_dir), delimiter = '\\t', nrows=5).fillna(\"\"))\n"
   ]
  },
  {
   "cell_type": "markdown",
   "metadata": {},
   "source": [
    "Filter labels based on support value, send to files."
   ]
  },
  {
   "cell_type": "code",
   "execution_count": 122,
   "metadata": {
    "scrolled": false
   },
   "outputs": [
    {
     "name": "stderr",
     "output_type": "stream",
     "text": [
      " 67%|██████▋   | 4/6 [00:00<00:00, 19.32it/s]\n"
     ]
    }
   ],
   "source": [
    "support_file = \"{}/candidate_AILs_time.year_supports.tsv\".format(output_dir)\n",
    "filtered_out_file = \"{}/candidate_AILs_time.year_filtered_out.tsv\".format(output_dir)\n",
    "filtered_in_file = \"{}/candidate_AILs_time.year_filtered_in.tsv\".format(output_dir)\n",
    "filter_summary_file = \"{}/filter_summary_AILs_time.year.tsv\".format(output_dir)\n",
    "dynamic_filter_by_support(support_file, filtered_out_file, filtered_in_file, filter_summary_file, lbs=[.1,.03,.01,.003,.001,.0003], ub=.9, max_labels_per_type=100)"
   ]
  },
  {
   "cell_type": "code",
   "execution_count": 123,
   "metadata": {},
   "outputs": [
    {
     "data": {
      "text/html": [
       "<div>\n",
       "<style scoped>\n",
       "    .dataframe tbody tr th:only-of-type {\n",
       "        vertical-align: middle;\n",
       "    }\n",
       "\n",
       "    .dataframe tbody tr th {\n",
       "        vertical-align: top;\n",
       "    }\n",
       "\n",
       "    .dataframe thead th {\n",
       "        text-align: right;\n",
       "    }\n",
       "</style>\n",
       "<table border=\"1\" class=\"dataframe\">\n",
       "  <thead>\n",
       "    <tr style=\"text-align: right;\">\n",
       "      <th></th>\n",
       "      <th>type</th>\n",
       "      <th>type_label</th>\n",
       "      <th>lb</th>\n",
       "      <th># labels in bounds</th>\n",
       "      <th># labels before filtering</th>\n",
       "    </tr>\n",
       "  </thead>\n",
       "  <tbody>\n",
       "    <tr>\n",
       "      <th>0</th>\n",
       "      <td>Q4441564</td>\n",
       "      <td>'stack-oriented programming language'@en</td>\n",
       "      <td>0.0003</td>\n",
       "      <td>2</td>\n",
       "      <td>2</td>\n",
       "    </tr>\n",
       "    <tr>\n",
       "      <th>1</th>\n",
       "      <td>Q1929383</td>\n",
       "      <td>'sneakers'@en</td>\n",
       "      <td>0.0003</td>\n",
       "      <td>2</td>\n",
       "      <td>2</td>\n",
       "    </tr>\n",
       "    <tr>\n",
       "      <th>2</th>\n",
       "      <td>Q26706</td>\n",
       "      <td>'International Youth Congress of Esperanto'@en</td>\n",
       "      <td>0.0003</td>\n",
       "      <td>24</td>\n",
       "      <td>24</td>\n",
       "    </tr>\n",
       "    <tr>\n",
       "      <th>3</th>\n",
       "      <td>Q1048525</td>\n",
       "      <td>'golf course'@en</td>\n",
       "      <td>0.0003</td>\n",
       "      <td>32</td>\n",
       "      <td>32</td>\n",
       "    </tr>\n",
       "    <tr>\n",
       "      <th>4</th>\n",
       "      <td>Q7307</td>\n",
       "      <td>'kiss'@en</td>\n",
       "      <td>0.0003</td>\n",
       "      <td>1</td>\n",
       "      <td>1</td>\n",
       "    </tr>\n",
       "  </tbody>\n",
       "</table>\n",
       "</div>"
      ],
      "text/plain": [
       "       type                                      type_label      lb  \\\n",
       "0  Q4441564        'stack-oriented programming language'@en  0.0003   \n",
       "1  Q1929383                                   'sneakers'@en  0.0003   \n",
       "2    Q26706  'International Youth Congress of Esperanto'@en  0.0003   \n",
       "3  Q1048525                                'golf course'@en  0.0003   \n",
       "4     Q7307                                       'kiss'@en  0.0003   \n",
       "\n",
       "   # labels in bounds  # labels before filtering  \n",
       "0                   2                          2  \n",
       "1                   2                          2  \n",
       "2                  24                         24  \n",
       "3                  32                         32  \n",
       "4                   1                          1  "
      ]
     },
     "metadata": {},
     "output_type": "display_data"
    },
    {
     "data": {
      "text/html": [
       "<div>\n",
       "<style scoped>\n",
       "    .dataframe tbody tr th:only-of-type {\n",
       "        vertical-align: middle;\n",
       "    }\n",
       "\n",
       "    .dataframe tbody tr th {\n",
       "        vertical-align: top;\n",
       "    }\n",
       "\n",
       "    .dataframe thead th {\n",
       "        text-align: right;\n",
       "    }\n",
       "</style>\n",
       "<table border=\"1\" class=\"dataframe\">\n",
       "  <thead>\n",
       "    <tr style=\"text-align: right;\">\n",
       "      <th></th>\n",
       "      <th>type</th>\n",
       "      <th>type_label</th>\n",
       "      <th>lb</th>\n",
       "      <th># labels in bounds</th>\n",
       "      <th># labels before filtering</th>\n",
       "    </tr>\n",
       "  </thead>\n",
       "  <tbody>\n",
       "    <tr>\n",
       "      <th>25879</th>\n",
       "      <td>Q5</td>\n",
       "      <td>'human'@en</td>\n",
       "      <td>0.001</td>\n",
       "      <td>86</td>\n",
       "      <td>1276</td>\n",
       "    </tr>\n",
       "  </tbody>\n",
       "</table>\n",
       "</div>"
      ],
      "text/plain": [
       "      type  type_label     lb  # labels in bounds  # labels before filtering\n",
       "25879   Q5  'human'@en  0.001                  86                       1276"
      ]
     },
     "metadata": {},
     "output_type": "display_data"
    },
    {
     "data": {
      "text/html": [
       "<div>\n",
       "<style scoped>\n",
       "    .dataframe tbody tr th:only-of-type {\n",
       "        vertical-align: middle;\n",
       "    }\n",
       "\n",
       "    .dataframe tbody tr th {\n",
       "        vertical-align: top;\n",
       "    }\n",
       "\n",
       "    .dataframe thead th {\n",
       "        text-align: right;\n",
       "    }\n",
       "</style>\n",
       "<table border=\"1\" class=\"dataframe\">\n",
       "  <thead>\n",
       "    <tr style=\"text-align: right;\">\n",
       "      <th></th>\n",
       "      <th>type</th>\n",
       "      <th>type_label</th>\n",
       "      <th>lb</th>\n",
       "      <th># labels in bounds</th>\n",
       "      <th># labels before filtering</th>\n",
       "    </tr>\n",
       "  </thead>\n",
       "  <tbody>\n",
       "    <tr>\n",
       "      <th>21212</th>\n",
       "      <td>Q7889</td>\n",
       "      <td>'video game'@en</td>\n",
       "      <td>0.0003</td>\n",
       "      <td>18</td>\n",
       "      <td>51</td>\n",
       "    </tr>\n",
       "  </tbody>\n",
       "</table>\n",
       "</div>"
      ],
      "text/plain": [
       "        type       type_label      lb  # labels in bounds  \\\n",
       "21212  Q7889  'video game'@en  0.0003                  18   \n",
       "\n",
       "       # labels before filtering  \n",
       "21212                         51  "
      ]
     },
     "metadata": {},
     "output_type": "display_data"
    },
    {
     "data": {
      "text/html": [
       "<div>\n",
       "<style scoped>\n",
       "    .dataframe tbody tr th:only-of-type {\n",
       "        vertical-align: middle;\n",
       "    }\n",
       "\n",
       "    .dataframe tbody tr th {\n",
       "        vertical-align: top;\n",
       "    }\n",
       "\n",
       "    .dataframe thead th {\n",
       "        text-align: right;\n",
       "    }\n",
       "</style>\n",
       "<table border=\"1\" class=\"dataframe\">\n",
       "  <thead>\n",
       "    <tr style=\"text-align: right;\">\n",
       "      <th></th>\n",
       "      <th>type</th>\n",
       "      <th>type_label</th>\n",
       "      <th>lb</th>\n",
       "      <th># labels in bounds</th>\n",
       "      <th># labels before filtering</th>\n",
       "    </tr>\n",
       "  </thead>\n",
       "  <tbody>\n",
       "    <tr>\n",
       "      <th>11453</th>\n",
       "      <td>Q6256</td>\n",
       "      <td>'country'@en</td>\n",
       "      <td>0.0003</td>\n",
       "      <td>92</td>\n",
       "      <td>92</td>\n",
       "    </tr>\n",
       "  </tbody>\n",
       "</table>\n",
       "</div>"
      ],
      "text/plain": [
       "        type    type_label      lb  # labels in bounds  \\\n",
       "11453  Q6256  'country'@en  0.0003                  92   \n",
       "\n",
       "       # labels before filtering  \n",
       "11453                         92  "
      ]
     },
     "metadata": {},
     "output_type": "display_data"
    },
    {
     "data": {
      "text/html": [
       "<div>\n",
       "<style scoped>\n",
       "    .dataframe tbody tr th:only-of-type {\n",
       "        vertical-align: middle;\n",
       "    }\n",
       "\n",
       "    .dataframe tbody tr th {\n",
       "        vertical-align: top;\n",
       "    }\n",
       "\n",
       "    .dataframe thead th {\n",
       "        text-align: right;\n",
       "    }\n",
       "</style>\n",
       "<table border=\"1\" class=\"dataframe\">\n",
       "  <thead>\n",
       "    <tr style=\"text-align: right;\">\n",
       "      <th></th>\n",
       "      <th>type</th>\n",
       "      <th>type_label</th>\n",
       "      <th>lb</th>\n",
       "      <th># labels in bounds</th>\n",
       "      <th># labels before filtering</th>\n",
       "    </tr>\n",
       "  </thead>\n",
       "  <tbody>\n",
       "    <tr>\n",
       "      <th>25880</th>\n",
       "      <td>Q41298</td>\n",
       "      <td>'magazine'@en</td>\n",
       "      <td>0.001</td>\n",
       "      <td>82</td>\n",
       "      <td>187</td>\n",
       "    </tr>\n",
       "  </tbody>\n",
       "</table>\n",
       "</div>"
      ],
      "text/plain": [
       "         type     type_label     lb  # labels in bounds  \\\n",
       "25880  Q41298  'magazine'@en  0.001                  82   \n",
       "\n",
       "       # labels before filtering  \n",
       "25880                        187  "
      ]
     },
     "metadata": {},
     "output_type": "display_data"
    }
   ],
   "source": [
    "df = pd.read_csv(\"{}/filter_summary_AILs_time.year.tsv\".format(output_dir), delimiter = '\\t').fillna(\"\")\n",
    "display(df.head())\n",
    "display(df.loc[df.loc[:,\"type\"]==\"Q5\"])\n",
    "display(df.loc[df.loc[:,\"type\"]==\"Q7889\"])\n",
    "display(df.loc[df.loc[:,\"type\"]==\"Q6256\"])\n",
    "display(df.loc[df.loc[:,\"type\"]==\"Q41298\"])"
   ]
  },
  {
   "cell_type": "markdown",
   "metadata": {},
   "source": [
    "## AIL - Quantity"
   ]
  },
  {
   "cell_type": "markdown",
   "metadata": {},
   "source": [
    "Adding support column"
   ]
  },
  {
   "cell_type": "code",
   "execution_count": 125,
   "metadata": {},
   "outputs": [],
   "source": [
    "!kgtk query -i $IN/entity_counts_per_type.tsv -i $IN/candidate_AILs_quantity.tsv \\\n",
    "-o $OUT/candidate_AILs_quantity_supports.tsv \\\n",
    "--graph-cache $STORE \\\n",
    "--match 'candidate: (type)-[lab_id {type_label:t_lab, label:prop, property_label:p_lab, positives:pos, lower_bound:lb, upper_bound:ub, si_units:si, wd_units:wd}]->(), counts_per_type: (type)-[]->(count)' \\\n",
    "--return 'type as node1, t_lab as type_label, prop as label, p_lab as property_label, \"\" as node2, lb as lower_bound, ub as upper_bound, si as si_units, wd as wd_units, pos as positives, kgtk_quantity_number_float(pos)/kgtk_quantity_number(count) as support,  lab_id as id' \\\n",
    "--order-by 'type'"
   ]
  },
  {
   "cell_type": "code",
   "execution_count": 126,
   "metadata": {
    "scrolled": true
   },
   "outputs": [
    {
     "data": {
      "text/html": [
       "<div>\n",
       "<style scoped>\n",
       "    .dataframe tbody tr th:only-of-type {\n",
       "        vertical-align: middle;\n",
       "    }\n",
       "\n",
       "    .dataframe tbody tr th {\n",
       "        vertical-align: top;\n",
       "    }\n",
       "\n",
       "    .dataframe thead th {\n",
       "        text-align: right;\n",
       "    }\n",
       "</style>\n",
       "<table border=\"1\" class=\"dataframe\">\n",
       "  <thead>\n",
       "    <tr style=\"text-align: right;\">\n",
       "      <th></th>\n",
       "      <th>node1</th>\n",
       "      <th>type_label</th>\n",
       "      <th>label</th>\n",
       "      <th>property_label</th>\n",
       "      <th>node2</th>\n",
       "      <th>lower_bound</th>\n",
       "      <th>upper_bound</th>\n",
       "      <th>si_units</th>\n",
       "      <th>wd_units</th>\n",
       "      <th>positives</th>\n",
       "      <th>support</th>\n",
       "      <th>id</th>\n",
       "    </tr>\n",
       "  </thead>\n",
       "  <tbody>\n",
       "    <tr>\n",
       "      <th>0</th>\n",
       "      <td>Q1000300</td>\n",
       "      <td>'Land Rover Series'@en</td>\n",
       "      <td>P2043</td>\n",
       "      <td>'length'@en</td>\n",
       "      <td></td>\n",
       "      <td>3345.0</td>\n",
       "      <td>3345.0</td>\n",
       "      <td></td>\n",
       "      <td>Q174789</td>\n",
       "      <td>1</td>\n",
       "      <td>0.500000</td>\n",
       "      <td>Q1000300_P2043_3345.0-3345.0__Q174789</td>\n",
       "    </tr>\n",
       "    <tr>\n",
       "      <th>1</th>\n",
       "      <td>Q1000300</td>\n",
       "      <td>'Land Rover Series'@en</td>\n",
       "      <td>P2048</td>\n",
       "      <td>'height'@en</td>\n",
       "      <td></td>\n",
       "      <td>1867.0</td>\n",
       "      <td>1867.0</td>\n",
       "      <td></td>\n",
       "      <td>Q174789</td>\n",
       "      <td>1</td>\n",
       "      <td>0.500000</td>\n",
       "      <td>Q1000300_P2048_1867.0-1867.0__Q174789</td>\n",
       "    </tr>\n",
       "    <tr>\n",
       "      <th>2</th>\n",
       "      <td>Q1000300</td>\n",
       "      <td>'Land Rover Series'@en</td>\n",
       "      <td>P2049</td>\n",
       "      <td>'width'@en</td>\n",
       "      <td></td>\n",
       "      <td>1549.0</td>\n",
       "      <td>1549.0</td>\n",
       "      <td></td>\n",
       "      <td>Q174789</td>\n",
       "      <td>1</td>\n",
       "      <td>0.500000</td>\n",
       "      <td>Q1000300_P2049_1549.0-1549.0__Q174789</td>\n",
       "    </tr>\n",
       "    <tr>\n",
       "      <th>3</th>\n",
       "      <td>Q1000300</td>\n",
       "      <td>'Land Rover Series'@en</td>\n",
       "      <td>P2067</td>\n",
       "      <td>'mass'@en</td>\n",
       "      <td></td>\n",
       "      <td>1177.0</td>\n",
       "      <td>1177.0</td>\n",
       "      <td></td>\n",
       "      <td>Q11570</td>\n",
       "      <td>1</td>\n",
       "      <td>0.500000</td>\n",
       "      <td>Q1000300_P2067_1177.0-1177.0__Q11570</td>\n",
       "    </tr>\n",
       "    <tr>\n",
       "      <th>4</th>\n",
       "      <td>Q1000415</td>\n",
       "      <td>'Henry 180'@en</td>\n",
       "      <td>P3157</td>\n",
       "      <td>'event distance'@en</td>\n",
       "      <td></td>\n",
       "      <td>45.0</td>\n",
       "      <td>45.0</td>\n",
       "      <td></td>\n",
       "      <td>Q26484625</td>\n",
       "      <td>2</td>\n",
       "      <td>0.666667</td>\n",
       "      <td>Q1000415_P3157_45.0-45.0__Q26484625</td>\n",
       "    </tr>\n",
       "  </tbody>\n",
       "</table>\n",
       "</div>"
      ],
      "text/plain": [
       "      node1              type_label  label       property_label node2  \\\n",
       "0  Q1000300  'Land Rover Series'@en  P2043          'length'@en         \n",
       "1  Q1000300  'Land Rover Series'@en  P2048          'height'@en         \n",
       "2  Q1000300  'Land Rover Series'@en  P2049           'width'@en         \n",
       "3  Q1000300  'Land Rover Series'@en  P2067            'mass'@en         \n",
       "4  Q1000415          'Henry 180'@en  P3157  'event distance'@en         \n",
       "\n",
       "   lower_bound  upper_bound si_units   wd_units  positives   support  \\\n",
       "0       3345.0       3345.0             Q174789          1  0.500000   \n",
       "1       1867.0       1867.0             Q174789          1  0.500000   \n",
       "2       1549.0       1549.0             Q174789          1  0.500000   \n",
       "3       1177.0       1177.0              Q11570          1  0.500000   \n",
       "4         45.0         45.0           Q26484625          2  0.666667   \n",
       "\n",
       "                                      id  \n",
       "0  Q1000300_P2043_3345.0-3345.0__Q174789  \n",
       "1  Q1000300_P2048_1867.0-1867.0__Q174789  \n",
       "2  Q1000300_P2049_1549.0-1549.0__Q174789  \n",
       "3   Q1000300_P2067_1177.0-1177.0__Q11570  \n",
       "4    Q1000415_P3157_45.0-45.0__Q26484625  "
      ]
     },
     "metadata": {},
     "output_type": "display_data"
    }
   ],
   "source": [
    "display(pd.read_csv(\"{}/candidate_AILs_quantity_supports.tsv\".format(output_dir), delimiter = '\\t', nrows=5).fillna(\"\"))\n"
   ]
  },
  {
   "cell_type": "markdown",
   "metadata": {},
   "source": [
    "Filter labels based on support value, send to files."
   ]
  },
  {
   "cell_type": "code",
   "execution_count": 127,
   "metadata": {
    "scrolled": false
   },
   "outputs": [
    {
     "name": "stderr",
     "output_type": "stream",
     "text": [
      " 50%|█████     | 3/6 [00:00<00:00, 27.95it/s]\n"
     ]
    }
   ],
   "source": [
    "support_file = \"{}/candidate_AILs_quantity_supports.tsv\".format(output_dir)\n",
    "filtered_out_file = \"{}/candidate_AILs_quantity_filtered_out.tsv\".format(output_dir)\n",
    "filtered_in_file = \"{}/candidate_AILs_quantity_filtered_in.tsv\".format(output_dir)\n",
    "filter_summary_file = \"{}/filter_summary_AILs_quantity.tsv\".format(output_dir)\n",
    "dynamic_filter_by_support(support_file, filtered_out_file, filtered_in_file, filter_summary_file, lbs=[.1,.03,.01,.003,.001,.0003], ub=.9, max_labels_per_type=100)"
   ]
  },
  {
   "cell_type": "code",
   "execution_count": 128,
   "metadata": {},
   "outputs": [
    {
     "data": {
      "text/html": [
       "<div>\n",
       "<style scoped>\n",
       "    .dataframe tbody tr th:only-of-type {\n",
       "        vertical-align: middle;\n",
       "    }\n",
       "\n",
       "    .dataframe tbody tr th {\n",
       "        vertical-align: top;\n",
       "    }\n",
       "\n",
       "    .dataframe thead th {\n",
       "        text-align: right;\n",
       "    }\n",
       "</style>\n",
       "<table border=\"1\" class=\"dataframe\">\n",
       "  <thead>\n",
       "    <tr style=\"text-align: right;\">\n",
       "      <th></th>\n",
       "      <th>type</th>\n",
       "      <th>type_label</th>\n",
       "      <th>lb</th>\n",
       "      <th># labels in bounds</th>\n",
       "      <th># labels before filtering</th>\n",
       "    </tr>\n",
       "  </thead>\n",
       "  <tbody>\n",
       "    <tr>\n",
       "      <th>0</th>\n",
       "      <td>Q35798</td>\n",
       "      <td>'executive branch'@en</td>\n",
       "      <td>0.0003</td>\n",
       "      <td>18</td>\n",
       "      <td>18</td>\n",
       "    </tr>\n",
       "    <tr>\n",
       "      <th>1</th>\n",
       "      <td>Q34442</td>\n",
       "      <td>'road'@en</td>\n",
       "      <td>0.0003</td>\n",
       "      <td>21</td>\n",
       "      <td>43</td>\n",
       "    </tr>\n",
       "    <tr>\n",
       "      <th>2</th>\n",
       "      <td>Q174713</td>\n",
       "      <td>'planet trail'@en</td>\n",
       "      <td>0.0003</td>\n",
       "      <td>5</td>\n",
       "      <td>5</td>\n",
       "    </tr>\n",
       "    <tr>\n",
       "      <th>3</th>\n",
       "      <td>Q30894535</td>\n",
       "      <td>'European Road Championships – Men\\\\\\\\\\\\\\\\'s e...</td>\n",
       "      <td>0.0003</td>\n",
       "      <td>2</td>\n",
       "      <td>4</td>\n",
       "    </tr>\n",
       "    <tr>\n",
       "      <th>4</th>\n",
       "      <td>Q945344</td>\n",
       "      <td>'rift zone'@en</td>\n",
       "      <td>0.0003</td>\n",
       "      <td>2</td>\n",
       "      <td>2</td>\n",
       "    </tr>\n",
       "  </tbody>\n",
       "</table>\n",
       "</div>"
      ],
      "text/plain": [
       "        type                                         type_label      lb  \\\n",
       "0     Q35798                              'executive branch'@en  0.0003   \n",
       "1     Q34442                                          'road'@en  0.0003   \n",
       "2    Q174713                                  'planet trail'@en  0.0003   \n",
       "3  Q30894535  'European Road Championships – Men\\\\\\\\\\\\\\\\'s e...  0.0003   \n",
       "4    Q945344                                     'rift zone'@en  0.0003   \n",
       "\n",
       "   # labels in bounds  # labels before filtering  \n",
       "0                  18                         18  \n",
       "1                  21                         43  \n",
       "2                   5                          5  \n",
       "3                   2                          4  \n",
       "4                   2                          2  "
      ]
     },
     "metadata": {},
     "output_type": "display_data"
    },
    {
     "data": {
      "text/html": [
       "<div>\n",
       "<style scoped>\n",
       "    .dataframe tbody tr th:only-of-type {\n",
       "        vertical-align: middle;\n",
       "    }\n",
       "\n",
       "    .dataframe tbody tr th {\n",
       "        vertical-align: top;\n",
       "    }\n",
       "\n",
       "    .dataframe thead th {\n",
       "        text-align: right;\n",
       "    }\n",
       "</style>\n",
       "<table border=\"1\" class=\"dataframe\">\n",
       "  <thead>\n",
       "    <tr style=\"text-align: right;\">\n",
       "      <th></th>\n",
       "      <th>type</th>\n",
       "      <th>type_label</th>\n",
       "      <th>lb</th>\n",
       "      <th># labels in bounds</th>\n",
       "      <th># labels before filtering</th>\n",
       "    </tr>\n",
       "  </thead>\n",
       "  <tbody>\n",
       "    <tr>\n",
       "      <th>11387</th>\n",
       "      <td>Q5</td>\n",
       "      <td>'human'@en</td>\n",
       "      <td>0.0003</td>\n",
       "      <td>28</td>\n",
       "      <td>336</td>\n",
       "    </tr>\n",
       "  </tbody>\n",
       "</table>\n",
       "</div>"
      ],
      "text/plain": [
       "      type  type_label      lb  # labels in bounds  # labels before filtering\n",
       "11387   Q5  'human'@en  0.0003                  28                        336"
      ]
     },
     "metadata": {},
     "output_type": "display_data"
    },
    {
     "data": {
      "text/html": [
       "<div>\n",
       "<style scoped>\n",
       "    .dataframe tbody tr th:only-of-type {\n",
       "        vertical-align: middle;\n",
       "    }\n",
       "\n",
       "    .dataframe tbody tr th {\n",
       "        vertical-align: top;\n",
       "    }\n",
       "\n",
       "    .dataframe thead th {\n",
       "        text-align: right;\n",
       "    }\n",
       "</style>\n",
       "<table border=\"1\" class=\"dataframe\">\n",
       "  <thead>\n",
       "    <tr style=\"text-align: right;\">\n",
       "      <th></th>\n",
       "      <th>type</th>\n",
       "      <th>type_label</th>\n",
       "      <th>lb</th>\n",
       "      <th># labels in bounds</th>\n",
       "      <th># labels before filtering</th>\n",
       "    </tr>\n",
       "  </thead>\n",
       "  <tbody>\n",
       "    <tr>\n",
       "      <th>4238</th>\n",
       "      <td>Q7889</td>\n",
       "      <td>'video game'@en</td>\n",
       "      <td>0.0003</td>\n",
       "      <td>9</td>\n",
       "      <td>129</td>\n",
       "    </tr>\n",
       "  </tbody>\n",
       "</table>\n",
       "</div>"
      ],
      "text/plain": [
       "       type       type_label      lb  # labels in bounds  \\\n",
       "4238  Q7889  'video game'@en  0.0003                   9   \n",
       "\n",
       "      # labels before filtering  \n",
       "4238                        129  "
      ]
     },
     "metadata": {},
     "output_type": "display_data"
    },
    {
     "data": {
      "text/html": [
       "<div>\n",
       "<style scoped>\n",
       "    .dataframe tbody tr th:only-of-type {\n",
       "        vertical-align: middle;\n",
       "    }\n",
       "\n",
       "    .dataframe tbody tr th {\n",
       "        vertical-align: top;\n",
       "    }\n",
       "\n",
       "    .dataframe thead th {\n",
       "        text-align: right;\n",
       "    }\n",
       "</style>\n",
       "<table border=\"1\" class=\"dataframe\">\n",
       "  <thead>\n",
       "    <tr style=\"text-align: right;\">\n",
       "      <th></th>\n",
       "      <th>type</th>\n",
       "      <th>type_label</th>\n",
       "      <th>lb</th>\n",
       "      <th># labels in bounds</th>\n",
       "      <th># labels before filtering</th>\n",
       "    </tr>\n",
       "  </thead>\n",
       "  <tbody>\n",
       "    <tr>\n",
       "      <th>15809</th>\n",
       "      <td>Q6256</td>\n",
       "      <td>'country'@en</td>\n",
       "      <td>0.01</td>\n",
       "      <td>99</td>\n",
       "      <td>139</td>\n",
       "    </tr>\n",
       "  </tbody>\n",
       "</table>\n",
       "</div>"
      ],
      "text/plain": [
       "        type    type_label    lb  # labels in bounds  \\\n",
       "15809  Q6256  'country'@en  0.01                  99   \n",
       "\n",
       "       # labels before filtering  \n",
       "15809                        139  "
      ]
     },
     "metadata": {},
     "output_type": "display_data"
    },
    {
     "data": {
      "text/html": [
       "<div>\n",
       "<style scoped>\n",
       "    .dataframe tbody tr th:only-of-type {\n",
       "        vertical-align: middle;\n",
       "    }\n",
       "\n",
       "    .dataframe tbody tr th {\n",
       "        vertical-align: top;\n",
       "    }\n",
       "\n",
       "    .dataframe thead th {\n",
       "        text-align: right;\n",
       "    }\n",
       "</style>\n",
       "<table border=\"1\" class=\"dataframe\">\n",
       "  <thead>\n",
       "    <tr style=\"text-align: right;\">\n",
       "      <th></th>\n",
       "      <th>type</th>\n",
       "      <th>type_label</th>\n",
       "      <th>lb</th>\n",
       "      <th># labels in bounds</th>\n",
       "      <th># labels before filtering</th>\n",
       "    </tr>\n",
       "  </thead>\n",
       "  <tbody>\n",
       "    <tr>\n",
       "      <th>15078</th>\n",
       "      <td>Q41298</td>\n",
       "      <td>'magazine'@en</td>\n",
       "      <td>0.0003</td>\n",
       "      <td>21</td>\n",
       "      <td>87</td>\n",
       "    </tr>\n",
       "  </tbody>\n",
       "</table>\n",
       "</div>"
      ],
      "text/plain": [
       "         type     type_label      lb  # labels in bounds  \\\n",
       "15078  Q41298  'magazine'@en  0.0003                  21   \n",
       "\n",
       "       # labels before filtering  \n",
       "15078                         87  "
      ]
     },
     "metadata": {},
     "output_type": "display_data"
    }
   ],
   "source": [
    "df = pd.read_csv(\"{}/filter_summary_AILs_quantity.tsv\".format(output_dir), delimiter = '\\t').fillna(\"\")\n",
    "display(df.head())\n",
    "display(df.loc[df.loc[:,\"type\"]==\"Q5\"])\n",
    "display(df.loc[df.loc[:,\"type\"]==\"Q7889\"])\n",
    "display(df.loc[df.loc[:,\"type\"]==\"Q6256\"])\n",
    "display(df.loc[df.loc[:,\"type\"]==\"Q41298\"])"
   ]
  },
  {
   "cell_type": "markdown",
   "metadata": {},
   "source": [
    "# Create table of entities and the labels that have passed filtering\n",
    "## First filter down tables of entities and labels for each kind of label separately\n",
    "We will drop label info cols here since they are saved separately"
   ]
  },
  {
   "cell_type": "markdown",
   "metadata": {},
   "source": [
    "## AVL - time.year labels"
   ]
  },
  {
   "cell_type": "code",
   "execution_count": 131,
   "metadata": {
    "scrolled": true
   },
   "outputs": [
    {
     "name": "stdout",
     "output_type": "stream",
     "text": [
      "CPU times: user 789 ms, sys: 272 ms, total: 1.06 s\n",
      "Wall time: 50.2 s\n"
     ]
    }
   ],
   "source": [
    "%%time\n",
    "!kgtk ifexists --input-file $IN/entity_AVLs_time.year.tsv --filter-file $OUT/candidate_AVLs_time.year_filtered_in.tsv \\\n",
    "--input-keys node2 --filter-keys id -o $OUT/entity_AVLs_time.year_filtered.tsv"
   ]
  },
  {
   "cell_type": "code",
   "execution_count": 135,
   "metadata": {},
   "outputs": [
    {
     "name": "stdout",
     "output_type": "stream",
     "text": [
      "12746968 /data02/profiling/kgtk/entity_profiling/output/wikidata-20210215-dwd/label_creation/entity_AVLs_time.year.tsv\r\n"
     ]
    }
   ],
   "source": [
    "!wc -l $IN/entity_AVLs_time.year.tsv"
   ]
  },
  {
   "cell_type": "code",
   "execution_count": 137,
   "metadata": {},
   "outputs": [
    {
     "name": "stdout",
     "output_type": "stream",
     "text": [
      "360456 /data02/profiling/kgtk/entity_profiling/output/wikidata-20210215-dwd/candidate_filter/entity_AVLs_time.year_filtered.tsv\r\n"
     ]
    }
   ],
   "source": [
    "!wc -l $OUT/entity_AVLs_time.year_filtered.tsv"
   ]
  },
  {
   "cell_type": "code",
   "execution_count": 180,
   "metadata": {},
   "outputs": [
    {
     "name": "stdout",
     "output_type": "stream",
     "text": [
      "CPU times: user 146 ms, sys: 216 ms, total: 362 ms\n",
      "Wall time: 6.86 s\n"
     ]
    }
   ],
   "source": [
    "%%time\n",
    "!kgtk remove-columns -i $OUT/entity_AVLs_time.year_filtered.tsv \\\n",
    "--columns type type_label prop property_label value -o $OUT/entity_AVLs_time.year_filtered_temp.tsv \\\n",
    "&& mv $OUT/entity_AVLs_time.year_filtered_temp.tsv $OUT/entity_AVLs_time.year_filtered.tsv"
   ]
  },
  {
   "cell_type": "code",
   "execution_count": 181,
   "metadata": {},
   "outputs": [
    {
     "data": {
      "text/html": [
       "<div>\n",
       "<style scoped>\n",
       "    .dataframe tbody tr th:only-of-type {\n",
       "        vertical-align: middle;\n",
       "    }\n",
       "\n",
       "    .dataframe tbody tr th {\n",
       "        vertical-align: top;\n",
       "    }\n",
       "\n",
       "    .dataframe thead th {\n",
       "        text-align: right;\n",
       "    }\n",
       "</style>\n",
       "<table border=\"1\" class=\"dataframe\">\n",
       "  <thead>\n",
       "    <tr style=\"text-align: right;\">\n",
       "      <th></th>\n",
       "      <th>node1</th>\n",
       "      <th>label</th>\n",
       "      <th>node2</th>\n",
       "      <th>id</th>\n",
       "    </tr>\n",
       "  </thead>\n",
       "  <tbody>\n",
       "    <tr>\n",
       "      <th>0</th>\n",
       "      <td>Q100004820</td>\n",
       "      <td>_</td>\n",
       "      <td>Q1477856_P577_2012</td>\n",
       "      <td>E144</td>\n",
       "    </tr>\n",
       "    <tr>\n",
       "      <th>1</th>\n",
       "      <td>Q100004823</td>\n",
       "      <td>_</td>\n",
       "      <td>Q1477856_P577_2012</td>\n",
       "      <td>E146</td>\n",
       "    </tr>\n",
       "    <tr>\n",
       "      <th>2</th>\n",
       "      <td>Q100004824</td>\n",
       "      <td>_</td>\n",
       "      <td>Q1477856_P577_2012</td>\n",
       "      <td>E148</td>\n",
       "    </tr>\n",
       "    <tr>\n",
       "      <th>3</th>\n",
       "      <td>Q100004829</td>\n",
       "      <td>_</td>\n",
       "      <td>Q1477856_P577_2012</td>\n",
       "      <td>E150</td>\n",
       "    </tr>\n",
       "    <tr>\n",
       "      <th>4</th>\n",
       "      <td>Q100004830</td>\n",
       "      <td>_</td>\n",
       "      <td>Q1477856_P577_2012</td>\n",
       "      <td>E152</td>\n",
       "    </tr>\n",
       "  </tbody>\n",
       "</table>\n",
       "</div>"
      ],
      "text/plain": [
       "        node1 label               node2    id\n",
       "0  Q100004820     _  Q1477856_P577_2012  E144\n",
       "1  Q100004823     _  Q1477856_P577_2012  E146\n",
       "2  Q100004824     _  Q1477856_P577_2012  E148\n",
       "3  Q100004829     _  Q1477856_P577_2012  E150\n",
       "4  Q100004830     _  Q1477856_P577_2012  E152"
      ]
     },
     "metadata": {},
     "output_type": "display_data"
    }
   ],
   "source": [
    "display(pd.read_csv(\"{}/entity_AVLs_time.year_filtered.tsv\".format(output_dir), delimiter = '\\t', nrows=5).fillna(\"\"))\n"
   ]
  },
  {
   "cell_type": "markdown",
   "metadata": {},
   "source": [
    "## AVL - quantity labels"
   ]
  },
  {
   "cell_type": "code",
   "execution_count": 139,
   "metadata": {
    "scrolled": true
   },
   "outputs": [
    {
     "name": "stdout",
     "output_type": "stream",
     "text": [
      "CPU times: user 617 ms, sys: 207 ms, total: 824 ms\n",
      "Wall time: 39.3 s\n"
     ]
    }
   ],
   "source": [
    "%%time\n",
    "!kgtk ifexists --input-file $IN/entity_AVLs_quantity.tsv --filter-file $OUT/candidate_AVLs_quantity_filtered_in.tsv \\\n",
    "--input-keys node2 --filter-keys id -o $OUT/entity_AVLs_quantity_filtered.tsv"
   ]
  },
  {
   "cell_type": "code",
   "execution_count": 140,
   "metadata": {},
   "outputs": [
    {
     "name": "stdout",
     "output_type": "stream",
     "text": [
      "9704175 /data02/profiling/kgtk/entity_profiling/output/wikidata-20210215-dwd/label_creation/entity_AVLs_quantity.tsv\r\n"
     ]
    }
   ],
   "source": [
    "!wc -l $IN/entity_AVLs_quantity.tsv"
   ]
  },
  {
   "cell_type": "code",
   "execution_count": 141,
   "metadata": {},
   "outputs": [
    {
     "name": "stdout",
     "output_type": "stream",
     "text": [
      "887929 /data02/profiling/kgtk/entity_profiling/output/wikidata-20210215-dwd/candidate_filter/entity_AVLs_quantity_filtered.tsv\r\n"
     ]
    }
   ],
   "source": [
    "!wc -l $OUT/entity_AVLs_quantity_filtered.tsv"
   ]
  },
  {
   "cell_type": "code",
   "execution_count": 182,
   "metadata": {},
   "outputs": [
    {
     "name": "stdout",
     "output_type": "stream",
     "text": [
      "CPU times: user 161 ms, sys: 166 ms, total: 327 ms\n",
      "Wall time: 7.61 s\n"
     ]
    }
   ],
   "source": [
    "%%time\n",
    "!kgtk remove-columns -i $OUT/entity_AVLs_quantity_filtered.tsv \\\n",
    "--columns type type_label prop property_label value si_units wd_units -o $OUT/entity_AVLs_quantity_filtered_temp.tsv \\\n",
    "&& mv $OUT/entity_AVLs_quantity_filtered_temp.tsv $OUT/entity_AVLs_quantity_filtered.tsv"
   ]
  },
  {
   "cell_type": "code",
   "execution_count": 183,
   "metadata": {},
   "outputs": [
    {
     "data": {
      "text/html": [
       "<div>\n",
       "<style scoped>\n",
       "    .dataframe tbody tr th:only-of-type {\n",
       "        vertical-align: middle;\n",
       "    }\n",
       "\n",
       "    .dataframe tbody tr th {\n",
       "        vertical-align: top;\n",
       "    }\n",
       "\n",
       "    .dataframe thead th {\n",
       "        text-align: right;\n",
       "    }\n",
       "</style>\n",
       "<table border=\"1\" class=\"dataframe\">\n",
       "  <thead>\n",
       "    <tr style=\"text-align: right;\">\n",
       "      <th></th>\n",
       "      <th>node1</th>\n",
       "      <th>label</th>\n",
       "      <th>node2</th>\n",
       "      <th>id</th>\n",
       "    </tr>\n",
       "  </thead>\n",
       "  <tbody>\n",
       "    <tr>\n",
       "      <th>0</th>\n",
       "      <td>P1187</td>\n",
       "      <td>_</td>\n",
       "      <td>Q64289010_P4876_+42496__</td>\n",
       "      <td>E21</td>\n",
       "    </tr>\n",
       "    <tr>\n",
       "      <th>1</th>\n",
       "      <td>P1188</td>\n",
       "      <td>_</td>\n",
       "      <td>Q64289010_P4876_+58916__</td>\n",
       "      <td>E23</td>\n",
       "    </tr>\n",
       "    <tr>\n",
       "      <th>2</th>\n",
       "      <td>P1803</td>\n",
       "      <td>_</td>\n",
       "      <td>Q27870307_P4876_+440000__</td>\n",
       "      <td>E69</td>\n",
       "    </tr>\n",
       "    <tr>\n",
       "      <th>3</th>\n",
       "      <td>P1937</td>\n",
       "      <td>_</td>\n",
       "      <td>Q29642812_P4876_+103034__</td>\n",
       "      <td>E83</td>\n",
       "    </tr>\n",
       "    <tr>\n",
       "      <th>4</th>\n",
       "      <td>P1948</td>\n",
       "      <td>_</td>\n",
       "      <td>Q29546563_P4876_+8865__</td>\n",
       "      <td>E85</td>\n",
       "    </tr>\n",
       "  </tbody>\n",
       "</table>\n",
       "</div>"
      ],
      "text/plain": [
       "   node1 label                      node2   id\n",
       "0  P1187     _   Q64289010_P4876_+42496__  E21\n",
       "1  P1188     _   Q64289010_P4876_+58916__  E23\n",
       "2  P1803     _  Q27870307_P4876_+440000__  E69\n",
       "3  P1937     _  Q29642812_P4876_+103034__  E83\n",
       "4  P1948     _    Q29546563_P4876_+8865__  E85"
      ]
     },
     "metadata": {},
     "output_type": "display_data"
    }
   ],
   "source": [
    "display(pd.read_csv(\"{}/entity_AVLs_quantity_filtered.tsv\".format(output_dir), delimiter = '\\t', nrows=5).fillna(\"\"))\n"
   ]
  },
  {
   "cell_type": "markdown",
   "metadata": {},
   "source": [
    "## RELs"
   ]
  },
  {
   "cell_type": "code",
   "execution_count": 143,
   "metadata": {
    "scrolled": true
   },
   "outputs": [
    {
     "name": "stdout",
     "output_type": "stream",
     "text": [
      "CPU times: user 10 s, sys: 2.21 s, total: 12.3 s\n",
      "Wall time: 10min 50s\n"
     ]
    }
   ],
   "source": [
    "%%time\n",
    "!kgtk ifexists --input-file $IN/entity_RELs.tsv --filter-file $OUT/candidate_RELs_filtered_in.tsv \\\n",
    "--input-keys node2 --filter-keys id -o $OUT/entity_RELs_filtered.tsv"
   ]
  },
  {
   "cell_type": "code",
   "execution_count": 144,
   "metadata": {},
   "outputs": [
    {
     "name": "stdout",
     "output_type": "stream",
     "text": [
      "155762523 /data02/profiling/kgtk/entity_profiling/output/wikidata-20210215-dwd/label_creation/entity_RELs.tsv\r\n"
     ]
    }
   ],
   "source": [
    "!wc -l $IN/entity_RELs.tsv"
   ]
  },
  {
   "cell_type": "code",
   "execution_count": 145,
   "metadata": {},
   "outputs": [
    {
     "name": "stdout",
     "output_type": "stream",
     "text": [
      "64546468 /data02/profiling/kgtk/entity_profiling/output/wikidata-20210215-dwd/candidate_filter/entity_RELs_filtered.tsv\r\n"
     ]
    }
   ],
   "source": [
    "!wc -l $OUT/entity_RELs_filtered.tsv"
   ]
  },
  {
   "cell_type": "code",
   "execution_count": 184,
   "metadata": {},
   "outputs": [
    {
     "name": "stdout",
     "output_type": "stream",
     "text": [
      "CPU times: user 7.77 s, sys: 1.73 s, total: 9.5 s\n",
      "Wall time: 5min 59s\n"
     ]
    }
   ],
   "source": [
    "%%time\n",
    "!kgtk remove-columns -i $OUT/entity_RELs_filtered.tsv \\\n",
    "--columns type type_label prop property_label value -o $OUT/entity_RELs_filtered_temp.tsv \\\n",
    "&& mv $OUT/entity_RELs_filtered_temp.tsv $OUT/entity_RELs_filtered.tsv"
   ]
  },
  {
   "cell_type": "code",
   "execution_count": 185,
   "metadata": {},
   "outputs": [
    {
     "data": {
      "text/html": [
       "<div>\n",
       "<style scoped>\n",
       "    .dataframe tbody tr th:only-of-type {\n",
       "        vertical-align: middle;\n",
       "    }\n",
       "\n",
       "    .dataframe tbody tr th {\n",
       "        vertical-align: top;\n",
       "    }\n",
       "\n",
       "    .dataframe thead th {\n",
       "        text-align: right;\n",
       "    }\n",
       "</style>\n",
       "<table border=\"1\" class=\"dataframe\">\n",
       "  <thead>\n",
       "    <tr style=\"text-align: right;\">\n",
       "      <th></th>\n",
       "      <th>node1</th>\n",
       "      <th>label</th>\n",
       "      <th>node2</th>\n",
       "      <th>id</th>\n",
       "    </tr>\n",
       "  </thead>\n",
       "  <tbody>\n",
       "    <tr>\n",
       "      <th>0</th>\n",
       "      <td>P10</td>\n",
       "      <td>_</td>\n",
       "      <td>Q18610173_P1629_Q34508</td>\n",
       "      <td>E1</td>\n",
       "    </tr>\n",
       "    <tr>\n",
       "      <th>1</th>\n",
       "      <td>P10</td>\n",
       "      <td>_</td>\n",
       "      <td>Q18610173_P1855_Q15075950</td>\n",
       "      <td>E2</td>\n",
       "    </tr>\n",
       "    <tr>\n",
       "      <th>2</th>\n",
       "      <td>P10</td>\n",
       "      <td>_</td>\n",
       "      <td>Q18610173_P1855_Q4504</td>\n",
       "      <td>E3</td>\n",
       "    </tr>\n",
       "    <tr>\n",
       "      <th>3</th>\n",
       "      <td>P10</td>\n",
       "      <td>_</td>\n",
       "      <td>Q18610173_P1855_Q69063653</td>\n",
       "      <td>E4</td>\n",
       "    </tr>\n",
       "    <tr>\n",
       "      <th>4</th>\n",
       "      <td>P10</td>\n",
       "      <td>_</td>\n",
       "      <td>Q18610173_P1855_Q7378</td>\n",
       "      <td>E5</td>\n",
       "    </tr>\n",
       "  </tbody>\n",
       "</table>\n",
       "</div>"
      ],
      "text/plain": [
       "  node1 label                      node2  id\n",
       "0   P10     _     Q18610173_P1629_Q34508  E1\n",
       "1   P10     _  Q18610173_P1855_Q15075950  E2\n",
       "2   P10     _      Q18610173_P1855_Q4504  E3\n",
       "3   P10     _  Q18610173_P1855_Q69063653  E4\n",
       "4   P10     _      Q18610173_P1855_Q7378  E5"
      ]
     },
     "metadata": {},
     "output_type": "display_data"
    }
   ],
   "source": [
    "display(pd.read_csv(\"{}/entity_RELs_filtered.tsv\".format(output_dir), delimiter = '\\t', nrows=5).fillna(\"\"))\n"
   ]
  },
  {
   "cell_type": "markdown",
   "metadata": {},
   "source": [
    "## RAVLs"
   ]
  },
  {
   "cell_type": "code",
   "execution_count": 147,
   "metadata": {
    "scrolled": true
   },
   "outputs": [
    {
     "name": "stdout",
     "output_type": "stream",
     "text": [
      "CPU times: user 1min 33s, sys: 20.5 s, total: 1min 53s\n",
      "Wall time: 1h 40min 43s\n"
     ]
    }
   ],
   "source": [
    "%%time\n",
    "!kgtk ifexists --input-file $IN/entity_RAVLs.tsv --filter-file $OUT/candidate_RAVLs_filtered_in.tsv \\\n",
    "--input-keys node2 --filter-keys id -o $OUT/entity_RAVLs_filtered.tsv"
   ]
  },
  {
   "cell_type": "code",
   "execution_count": 148,
   "metadata": {},
   "outputs": [
    {
     "name": "stdout",
     "output_type": "stream",
     "text": [
      "1382700851 /data02/profiling/kgtk/entity_profiling/output/wikidata-20210215-dwd/label_creation/entity_RAVLs.tsv\r\n"
     ]
    }
   ],
   "source": [
    "!wc -l $IN/entity_RAVLs.tsv"
   ]
  },
  {
   "cell_type": "code",
   "execution_count": 149,
   "metadata": {
    "scrolled": true
   },
   "outputs": [
    {
     "name": "stdout",
     "output_type": "stream",
     "text": [
      "418593915 /data02/profiling/kgtk/entity_profiling/output/wikidata-20210215-dwd/candidate_filter/entity_RAVLs_filtered.tsv\r\n"
     ]
    }
   ],
   "source": [
    "!wc -l $OUT/entity_RAVLs_filtered.tsv"
   ]
  },
  {
   "cell_type": "code",
   "execution_count": 186,
   "metadata": {},
   "outputs": [
    {
     "name": "stdout",
     "output_type": "stream",
     "text": [
      "CPU times: user 59.2 s, sys: 11.4 s, total: 1min 10s\n",
      "Wall time: 44min 51s\n"
     ]
    }
   ],
   "source": [
    "%%time\n",
    "!kgtk remove-columns -i $OUT/entity_RAVLs_filtered.tsv \\\n",
    "--columns type type_label prop property_label type2 type2_label prop2 property2_label value si_units wd_units -o $OUT/entity_RAVLs_filtered_temp.tsv \\\n",
    "&& mv $OUT/entity_RAVLs_filtered_temp.tsv $OUT/entity_RAVLs_filtered.tsv"
   ]
  },
  {
   "cell_type": "code",
   "execution_count": 187,
   "metadata": {},
   "outputs": [
    {
     "data": {
      "text/html": [
       "<div>\n",
       "<style scoped>\n",
       "    .dataframe tbody tr th:only-of-type {\n",
       "        vertical-align: middle;\n",
       "    }\n",
       "\n",
       "    .dataframe tbody tr th {\n",
       "        vertical-align: top;\n",
       "    }\n",
       "\n",
       "    .dataframe thead th {\n",
       "        text-align: right;\n",
       "    }\n",
       "</style>\n",
       "<table border=\"1\" class=\"dataframe\">\n",
       "  <thead>\n",
       "    <tr style=\"text-align: right;\">\n",
       "      <th></th>\n",
       "      <th>node1</th>\n",
       "      <th>label</th>\n",
       "      <th>node2</th>\n",
       "      <th>id</th>\n",
       "    </tr>\n",
       "  </thead>\n",
       "  <tbody>\n",
       "    <tr>\n",
       "      <th>0</th>\n",
       "      <td>P1003</td>\n",
       "      <td>_</td>\n",
       "      <td>Q19595382_P17_Q3624078_P2884_+230__Q25250</td>\n",
       "      <td>E103</td>\n",
       "    </tr>\n",
       "    <tr>\n",
       "      <th>1</th>\n",
       "      <td>P1003</td>\n",
       "      <td>_</td>\n",
       "      <td>Q19595382_P17_Q6256_P2884_+230__Q25250</td>\n",
       "      <td>E104</td>\n",
       "    </tr>\n",
       "    <tr>\n",
       "      <th>2</th>\n",
       "      <td>P1003</td>\n",
       "      <td>_</td>\n",
       "      <td>Q19595382_P17_Q3624078_P2997_+18__Q24564698</td>\n",
       "      <td>E105</td>\n",
       "    </tr>\n",
       "    <tr>\n",
       "      <th>3</th>\n",
       "      <td>P1003</td>\n",
       "      <td>_</td>\n",
       "      <td>Q19595382_P17_Q6256_P2997_+18__Q24564698</td>\n",
       "      <td>E106</td>\n",
       "    </tr>\n",
       "    <tr>\n",
       "      <th>4</th>\n",
       "      <td>P1003</td>\n",
       "      <td>_</td>\n",
       "      <td>Q19595382_P17_Q3624078_P3000_+18__Q24564698</td>\n",
       "      <td>E107</td>\n",
       "    </tr>\n",
       "  </tbody>\n",
       "</table>\n",
       "</div>"
      ],
      "text/plain": [
       "   node1 label                                        node2    id\n",
       "0  P1003     _    Q19595382_P17_Q3624078_P2884_+230__Q25250  E103\n",
       "1  P1003     _       Q19595382_P17_Q6256_P2884_+230__Q25250  E104\n",
       "2  P1003     _  Q19595382_P17_Q3624078_P2997_+18__Q24564698  E105\n",
       "3  P1003     _     Q19595382_P17_Q6256_P2997_+18__Q24564698  E106\n",
       "4  P1003     _  Q19595382_P17_Q3624078_P3000_+18__Q24564698  E107"
      ]
     },
     "metadata": {},
     "output_type": "display_data"
    }
   ],
   "source": [
    "display(pd.read_csv(\"{}/entity_RAVLs_filtered.tsv\".format(output_dir), delimiter = '\\t', nrows=5).fillna(\"\"))\n"
   ]
  },
  {
   "cell_type": "markdown",
   "metadata": {},
   "source": [
    "## RAILs"
   ]
  },
  {
   "cell_type": "code",
   "execution_count": 151,
   "metadata": {
    "scrolled": true
   },
   "outputs": [
    {
     "name": "stdout",
     "output_type": "stream",
     "text": [
      "CPU times: user 1min 32s, sys: 19.8 s, total: 1min 52s\n",
      "Wall time: 1h 40min 31s\n"
     ]
    }
   ],
   "source": [
    "%%time\n",
    "!kgtk ifexists --input-file $IN/entity_RAILs.tsv --filter-file $OUT/candidate_RAILs_filtered_in.tsv \\\n",
    "--input-keys node2 --filter-keys id -o $OUT/entity_RAILs_filtered.tsv"
   ]
  },
  {
   "cell_type": "code",
   "execution_count": 153,
   "metadata": {},
   "outputs": [
    {
     "name": "stdout",
     "output_type": "stream",
     "text": [
      "1387585809 /data02/profiling/kgtk/entity_profiling/output/wikidata-20210215-dwd/label_creation/entity_RAILs.tsv\r\n"
     ]
    }
   ],
   "source": [
    "!wc -l $IN/entity_RAILs.tsv"
   ]
  },
  {
   "cell_type": "code",
   "execution_count": 154,
   "metadata": {},
   "outputs": [
    {
     "name": "stdout",
     "output_type": "stream",
     "text": [
      "524088521 /data02/profiling/kgtk/entity_profiling/output/wikidata-20210215-dwd/candidate_filter/entity_RAILs_filtered.tsv\r\n"
     ]
    }
   ],
   "source": [
    "!wc -l $OUT/entity_RAILs_filtered.tsv"
   ]
  },
  {
   "cell_type": "code",
   "execution_count": 188,
   "metadata": {},
   "outputs": [
    {
     "name": "stdout",
     "output_type": "stream",
     "text": [
      "CPU times: user 1min 15s, sys: 14.4 s, total: 1min 29s\n",
      "Wall time: 57min 36s\n"
     ]
    }
   ],
   "source": [
    "%%time\n",
    "!kgtk remove-columns -i $OUT/entity_RAILs_filtered.tsv \\\n",
    "--columns type type_label prop property_label type2 type2_label prop2 property2_label lower_bound upper_bound si_units wd_units \\\n",
    "-o $OUT/entity_RAILs_filtered_temp.tsv \\\n",
    "&& mv $OUT/entity_RAILs_filtered_temp.tsv $OUT/entity_RAILs_filtered.tsv"
   ]
  },
  {
   "cell_type": "code",
   "execution_count": 189,
   "metadata": {},
   "outputs": [
    {
     "data": {
      "text/html": [
       "<div>\n",
       "<style scoped>\n",
       "    .dataframe tbody tr th:only-of-type {\n",
       "        vertical-align: middle;\n",
       "    }\n",
       "\n",
       "    .dataframe tbody tr th {\n",
       "        vertical-align: top;\n",
       "    }\n",
       "\n",
       "    .dataframe thead th {\n",
       "        text-align: right;\n",
       "    }\n",
       "</style>\n",
       "<table border=\"1\" class=\"dataframe\">\n",
       "  <thead>\n",
       "    <tr style=\"text-align: right;\">\n",
       "      <th></th>\n",
       "      <th>node1</th>\n",
       "      <th>label</th>\n",
       "      <th>node2</th>\n",
       "      <th>id</th>\n",
       "    </tr>\n",
       "  </thead>\n",
       "  <tbody>\n",
       "    <tr>\n",
       "      <th>0</th>\n",
       "      <td>P1000</td>\n",
       "      <td>_</td>\n",
       "      <td>Q18608871_P1855_Q5_P569_1980-1990__</td>\n",
       "      <td>E12</td>\n",
       "    </tr>\n",
       "    <tr>\n",
       "      <th>1</th>\n",
       "      <td>P1003</td>\n",
       "      <td>_</td>\n",
       "      <td>Q96776953_P17_Q3624078_P1081_0.768-0.847__</td>\n",
       "      <td>E95</td>\n",
       "    </tr>\n",
       "    <tr>\n",
       "      <th>2</th>\n",
       "      <td>P1003</td>\n",
       "      <td>_</td>\n",
       "      <td>Q96776953_P17_Q6256_P1081_0.774-0.855__</td>\n",
       "      <td>E99</td>\n",
       "    </tr>\n",
       "    <tr>\n",
       "      <th>3</th>\n",
       "      <td>P1003</td>\n",
       "      <td>_</td>\n",
       "      <td>Q19595382_P17_Q3624078_P1198_6.0-8.0__Q11229</td>\n",
       "      <td>E100</td>\n",
       "    </tr>\n",
       "    <tr>\n",
       "      <th>4</th>\n",
       "      <td>P1003</td>\n",
       "      <td>_</td>\n",
       "      <td>Q19833377_P17_Q3624078_P1198_6.0-8.0__Q11229</td>\n",
       "      <td>E101</td>\n",
       "    </tr>\n",
       "  </tbody>\n",
       "</table>\n",
       "</div>"
      ],
      "text/plain": [
       "   node1 label                                         node2    id\n",
       "0  P1000     _           Q18608871_P1855_Q5_P569_1980-1990__   E12\n",
       "1  P1003     _    Q96776953_P17_Q3624078_P1081_0.768-0.847__   E95\n",
       "2  P1003     _       Q96776953_P17_Q6256_P1081_0.774-0.855__   E99\n",
       "3  P1003     _  Q19595382_P17_Q3624078_P1198_6.0-8.0__Q11229  E100\n",
       "4  P1003     _  Q19833377_P17_Q3624078_P1198_6.0-8.0__Q11229  E101"
      ]
     },
     "metadata": {},
     "output_type": "display_data"
    }
   ],
   "source": [
    "display(pd.read_csv(\"{}/entity_RAILs_filtered.tsv\".format(output_dir), delimiter = '\\t', nrows=5).fillna(\"\"))\n"
   ]
  },
  {
   "cell_type": "markdown",
   "metadata": {},
   "source": [
    "## AIL - time.year"
   ]
  },
  {
   "cell_type": "code",
   "execution_count": 156,
   "metadata": {
    "scrolled": true
   },
   "outputs": [
    {
     "name": "stdout",
     "output_type": "stream",
     "text": [
      "CPU times: user 1.03 s, sys: 348 ms, total: 1.38 s\n",
      "Wall time: 1min 9s\n"
     ]
    }
   ],
   "source": [
    "%%time\n",
    "!kgtk ifexists --input-file $IN/entity_AILs_time.year.tsv --filter-file $OUT/candidate_AILs_time.year_filtered_in.tsv \\\n",
    "--input-keys node2 --filter-keys id -o $OUT/entity_AILs_time.year_filtered.tsv"
   ]
  },
  {
   "cell_type": "code",
   "execution_count": 157,
   "metadata": {},
   "outputs": [
    {
     "name": "stdout",
     "output_type": "stream",
     "text": [
      "12701962 /data02/profiling/kgtk/entity_profiling/output/wikidata-20210215-dwd/label_creation/entity_AILs_time.year.tsv\r\n"
     ]
    }
   ],
   "source": [
    "!wc -l $IN/entity_AILs_time.year.tsv"
   ]
  },
  {
   "cell_type": "code",
   "execution_count": 158,
   "metadata": {},
   "outputs": [
    {
     "name": "stdout",
     "output_type": "stream",
     "text": [
      "12184784 /data02/profiling/kgtk/entity_profiling/output/wikidata-20210215-dwd/candidate_filter/entity_AILs_time.year_filtered.tsv\r\n"
     ]
    }
   ],
   "source": [
    "!wc -l $OUT/entity_AILs_time.year_filtered.tsv"
   ]
  },
  {
   "cell_type": "code",
   "execution_count": 190,
   "metadata": {},
   "outputs": [
    {
     "name": "stdout",
     "output_type": "stream",
     "text": [
      "CPU times: user 1.59 s, sys: 436 ms, total: 2.02 s\n",
      "Wall time: 1min 8s\n"
     ]
    }
   ],
   "source": [
    "%%time\n",
    "!kgtk remove-columns -i $OUT/entity_AILs_time.year_filtered.tsv \\\n",
    "--columns type type_label prop property_label lower_bound upper_bound \\\n",
    "-o $OUT/entity_AILs_time.year_filtered_temp.tsv \\\n",
    "&& mv $OUT/entity_AILs_time.year_filtered_temp.tsv $OUT/entity_AILs_time.year_filtered.tsv"
   ]
  },
  {
   "cell_type": "code",
   "execution_count": 191,
   "metadata": {},
   "outputs": [
    {
     "data": {
      "text/html": [
       "<div>\n",
       "<style scoped>\n",
       "    .dataframe tbody tr th:only-of-type {\n",
       "        vertical-align: middle;\n",
       "    }\n",
       "\n",
       "    .dataframe tbody tr th {\n",
       "        vertical-align: top;\n",
       "    }\n",
       "\n",
       "    .dataframe thead th {\n",
       "        text-align: right;\n",
       "    }\n",
       "</style>\n",
       "<table border=\"1\" class=\"dataframe\">\n",
       "  <thead>\n",
       "    <tr style=\"text-align: right;\">\n",
       "      <th></th>\n",
       "      <th>node1</th>\n",
       "      <th>label</th>\n",
       "      <th>node2</th>\n",
       "      <th>id</th>\n",
       "    </tr>\n",
       "  </thead>\n",
       "  <tbody>\n",
       "    <tr>\n",
       "      <th>0</th>\n",
       "      <td>P1841</td>\n",
       "      <td>_</td>\n",
       "      <td>Q55977691_P580_2010-2020</td>\n",
       "      <td>E1</td>\n",
       "    </tr>\n",
       "    <tr>\n",
       "      <th>1</th>\n",
       "      <td>P2847</td>\n",
       "      <td>_</td>\n",
       "      <td>Q18608871_P2669_2010-2020</td>\n",
       "      <td>E2</td>\n",
       "    </tr>\n",
       "    <tr>\n",
       "      <th>2</th>\n",
       "      <td>P2847</td>\n",
       "      <td>_</td>\n",
       "      <td>Q24239898_P2669_2010-2020</td>\n",
       "      <td>E3</td>\n",
       "    </tr>\n",
       "    <tr>\n",
       "      <th>3</th>\n",
       "      <td>P2847</td>\n",
       "      <td>_</td>\n",
       "      <td>Q30041186_P2669_2010-2020</td>\n",
       "      <td>E4</td>\n",
       "    </tr>\n",
       "    <tr>\n",
       "      <th>4</th>\n",
       "      <td>P2847</td>\n",
       "      <td>_</td>\n",
       "      <td>Q60457486_P2669_2010-2020</td>\n",
       "      <td>E5</td>\n",
       "    </tr>\n",
       "  </tbody>\n",
       "</table>\n",
       "</div>"
      ],
      "text/plain": [
       "   node1 label                      node2  id\n",
       "0  P1841     _   Q55977691_P580_2010-2020  E1\n",
       "1  P2847     _  Q18608871_P2669_2010-2020  E2\n",
       "2  P2847     _  Q24239898_P2669_2010-2020  E3\n",
       "3  P2847     _  Q30041186_P2669_2010-2020  E4\n",
       "4  P2847     _  Q60457486_P2669_2010-2020  E5"
      ]
     },
     "metadata": {},
     "output_type": "display_data"
    }
   ],
   "source": [
    "display(pd.read_csv(\"{}/entity_AILs_time.year_filtered.tsv\".format(output_dir), delimiter = '\\t', nrows=5).fillna(\"\"))\n"
   ]
  },
  {
   "cell_type": "markdown",
   "metadata": {},
   "source": [
    "## AIL - Quantity"
   ]
  },
  {
   "cell_type": "code",
   "execution_count": 160,
   "metadata": {
    "scrolled": true
   },
   "outputs": [
    {
     "name": "stdout",
     "output_type": "stream",
     "text": [
      "CPU times: user 794 ms, sys: 241 ms, total: 1.04 s\n",
      "Wall time: 50.3 s\n"
     ]
    }
   ],
   "source": [
    "%%time\n",
    "!kgtk ifexists --input-file $IN/entity_AILs_quantity.tsv --filter-file $OUT/candidate_AILs_quantity_filtered_in.tsv \\\n",
    "--input-keys node2 --filter-keys id -o $OUT/entity_AILs_quantity_filtered.tsv"
   ]
  },
  {
   "cell_type": "code",
   "execution_count": 161,
   "metadata": {},
   "outputs": [
    {
     "name": "stdout",
     "output_type": "stream",
     "text": [
      "9704175 /data02/profiling/kgtk/entity_profiling/output/wikidata-20210215-dwd/label_creation/entity_AILs_quantity.tsv\r\n"
     ]
    }
   ],
   "source": [
    "!wc -l $IN/entity_AILs_quantity.tsv"
   ]
  },
  {
   "cell_type": "code",
   "execution_count": 162,
   "metadata": {},
   "outputs": [
    {
     "name": "stdout",
     "output_type": "stream",
     "text": [
      "9548943 /data02/profiling/kgtk/entity_profiling/output/wikidata-20210215-dwd/candidate_filter/entity_AILs_quantity_filtered.tsv\r\n"
     ]
    }
   ],
   "source": [
    "!wc -l $OUT/entity_AILs_quantity_filtered.tsv"
   ]
  },
  {
   "cell_type": "code",
   "execution_count": 192,
   "metadata": {},
   "outputs": [
    {
     "name": "stdout",
     "output_type": "stream",
     "text": [
      "CPU times: user 1.23 s, sys: 456 ms, total: 1.68 s\n",
      "Wall time: 58.1 s\n"
     ]
    }
   ],
   "source": [
    "%%time\n",
    "!kgtk remove-columns -i $OUT/entity_AILs_quantity_filtered.tsv \\\n",
    "--columns type type_label prop property_label lower_bound upper_bound si_units wd_units \\\n",
    "-o $OUT/entity_AILs_quantity_filtered_temp.tsv \\\n",
    "&& mv $OUT/entity_AILs_quantity_filtered_temp.tsv $OUT/entity_AILs_quantity_filtered.tsv"
   ]
  },
  {
   "cell_type": "code",
   "execution_count": 193,
   "metadata": {},
   "outputs": [
    {
     "data": {
      "text/html": [
       "<div>\n",
       "<style scoped>\n",
       "    .dataframe tbody tr th:only-of-type {\n",
       "        vertical-align: middle;\n",
       "    }\n",
       "\n",
       "    .dataframe tbody tr th {\n",
       "        vertical-align: top;\n",
       "    }\n",
       "\n",
       "    .dataframe thead th {\n",
       "        text-align: right;\n",
       "    }\n",
       "</style>\n",
       "<table border=\"1\" class=\"dataframe\">\n",
       "  <thead>\n",
       "    <tr style=\"text-align: right;\">\n",
       "      <th></th>\n",
       "      <th>node1</th>\n",
       "      <th>label</th>\n",
       "      <th>node2</th>\n",
       "      <th>id</th>\n",
       "    </tr>\n",
       "  </thead>\n",
       "  <tbody>\n",
       "    <tr>\n",
       "      <th>0</th>\n",
       "      <td>P1004</td>\n",
       "      <td>_</td>\n",
       "      <td>Q19829908_P4876_7883.0-37427.0__</td>\n",
       "      <td>E1</td>\n",
       "    </tr>\n",
       "    <tr>\n",
       "      <th>1</th>\n",
       "      <td>P1004</td>\n",
       "      <td>_</td>\n",
       "      <td>Q24075706_P4876_18000.0-95823.0__</td>\n",
       "      <td>E2</td>\n",
       "    </tr>\n",
       "    <tr>\n",
       "      <th>2</th>\n",
       "      <td>P1004</td>\n",
       "      <td>_</td>\n",
       "      <td>Q27525351_P4876_37427.0-45000.0__</td>\n",
       "      <td>E3</td>\n",
       "    </tr>\n",
       "    <tr>\n",
       "      <th>3</th>\n",
       "      <td>P1014</td>\n",
       "      <td>_</td>\n",
       "      <td>Q27918607_P4876_38128.0-160203.0__</td>\n",
       "      <td>E4</td>\n",
       "    </tr>\n",
       "    <tr>\n",
       "      <th>4</th>\n",
       "      <td>P1014</td>\n",
       "      <td>_</td>\n",
       "      <td>Q43831109_P4876_53249.0-53249.0__</td>\n",
       "      <td>E5</td>\n",
       "    </tr>\n",
       "  </tbody>\n",
       "</table>\n",
       "</div>"
      ],
      "text/plain": [
       "   node1 label                               node2  id\n",
       "0  P1004     _    Q19829908_P4876_7883.0-37427.0__  E1\n",
       "1  P1004     _   Q24075706_P4876_18000.0-95823.0__  E2\n",
       "2  P1004     _   Q27525351_P4876_37427.0-45000.0__  E3\n",
       "3  P1014     _  Q27918607_P4876_38128.0-160203.0__  E4\n",
       "4  P1014     _   Q43831109_P4876_53249.0-53249.0__  E5"
      ]
     },
     "metadata": {},
     "output_type": "display_data"
    }
   ],
   "source": [
    "display(pd.read_csv(\"{}/entity_AILs_quantity_filtered.tsv\".format(output_dir), delimiter = '\\t', nrows=5).fillna(\"\"))\n"
   ]
  },
  {
   "cell_type": "markdown",
   "metadata": {},
   "source": [
    "## Finally, combine tables of entities and their filtered labels"
   ]
  },
  {
   "cell_type": "code",
   "execution_count": 194,
   "metadata": {},
   "outputs": [
    {
     "name": "stdout",
     "output_type": "stream",
     "text": [
      "^C\r\n",
      "\r\n",
      "Keyboard interrupt in cat -i /data02/profiling/kgtk/entity_profiling/output/wikidata-20210215-dwd/candidate_filter/entity_RELs_filtered.tsv -i /data02/profiling/kgtk/entity_profiling/output/wikidata-20210215-dwd/candidate_filter/entity_AVLs_quantity_filtered.tsv -i /data02/profiling/kgtk/entity_profiling/output/wikidata-20210215-dwd/candidate_filter/entity_AVLs_time.year_filtered.tsv -i /data02/profiling/kgtk/entity_profiling/output/wikidata-20210215-dwd/candidate_filter/entity_AILs_quantity_filtered.tsv -i /data02/profiling/kgtk/entity_profiling/output/wikidata-20210215-dwd/candidate_filter/entity_AILs_time.year_filtered.tsv -i /data02/profiling/kgtk/entity_profiling/output/wikidata-20210215-dwd/candidate_filter/entity_RAVLs_filtered.tsv -i /data02/profiling/kgtk/entity_profiling/output/wikidata-20210215-dwd/candidate_filter/entity_RAILs_filtered.tsv -o /data02/profiling/kgtk/entity_profiling/output/wikidata-20210215-dwd/candidate_filter/all_entity_labels_filtered.tsv.\r\n"
     ]
    }
   ],
   "source": [
    "!kgtk cat -i $OUT/entity_RELs_filtered.tsv \\\n",
    "-i $OUT/entity_AVLs_quantity_filtered.tsv \\\n",
    "-i $OUT/entity_AVLs_time.year_filtered.tsv \\\n",
    "-i $OUT/entity_AILs_quantity_filtered.tsv \\\n",
    "-i $OUT/entity_AILs_time.year_filtered.tsv \\\n",
    "-i $OUT/entity_RAVLs_filtered.tsv \\\n",
    "-i $OUT/entity_RAILs_filtered.tsv \\\n",
    "-o $OUT/all_entity_labels_filtered.tsv \\\n",
    "&& kgtk add-id -i $OUT/all_entity_labels_filtered.tsv --overwrite-id -o $OUT/all_entity_labels_filtered_temp.tsv \\\n",
    "&& mv $OUT/all_entity_labels_filtered_temp.tsv $OUT/all_entity_labels_filtered.tsv"
   ]
  },
  {
   "cell_type": "code",
   "execution_count": 167,
   "metadata": {},
   "outputs": [
    {
     "name": "stdout",
     "output_type": "stream",
     "text": [
      "1030211010 /data02/profiling/kgtk/entity_profiling/output/wikidata-20210215-dwd/candidate_filter/all_entity_labels_filtered.tsv\r\n"
     ]
    }
   ],
   "source": [
    "!wc -l $OUT/all_entity_labels_filtered.tsv"
   ]
  },
  {
   "cell_type": "markdown",
   "metadata": {},
   "source": [
    "### Also combine label-info files"
   ]
  },
  {
   "cell_type": "code",
   "execution_count": 169,
   "metadata": {},
   "outputs": [],
   "source": [
    "!kgtk cat -i $OUT/candidate_RELs_filtered_in.tsv \\\n",
    "-i $OUT/candidate_AVLs_quantity_filtered_in.tsv \\\n",
    "-i $OUT/candidate_AVLs_time.year_filtered_in.tsv \\\n",
    "-i $OUT/candidate_AILs_quantity_filtered_in.tsv \\\n",
    "-i $OUT/candidate_AILs_time.year_filtered_in.tsv \\\n",
    "-i $OUT/candidate_RAVLs_filtered_in.tsv \\\n",
    "-i $OUT/candidate_RAILs_filtered_in.tsv \\\n",
    "-o $OUT/all_candidate_labels_filtered_in.tsv "
   ]
  },
  {
   "cell_type": "code",
   "execution_count": 170,
   "metadata": {},
   "outputs": [
    {
     "name": "stdout",
     "output_type": "stream",
     "text": [
      "9932712 /data02/profiling/kgtk/entity_profiling/output/wikidata-20210215-dwd/candidate_filter/all_candidate_labels_filtered_in.tsv\r\n"
     ]
    }
   ],
   "source": [
    "!wc -l $OUT/all_candidate_labels_filtered_in.tsv"
   ]
  },
  {
   "cell_type": "code",
   "execution_count": null,
   "metadata": {},
   "outputs": [],
   "source": []
  }
 ],
 "metadata": {
  "kernelspec": {
   "display_name": "Python 3",
   "language": "python",
   "name": "python3"
  },
  "language_info": {
   "codemirror_mode": {
    "name": "ipython",
    "version": 3
   },
   "file_extension": ".py",
   "mimetype": "text/x-python",
   "name": "python",
   "nbconvert_exporter": "python",
   "pygments_lexer": "ipython3",
   "version": "3.6.13"
  }
 },
 "nbformat": 4,
 "nbformat_minor": 4
}
