{
 "cells": [
  {
   "cell_type": "markdown",
   "metadata": {},
   "source": [
    "# Filtering candidate labels\n",
    "In this notebook, we will analyze the labels created in the candidate_label_creation notebook and then use a simple rule-based filter to remove labels that are trivially either unrepresentative or indistinctive.\n",
    "\n",
    "We'll look at each type of label separately."
   ]
  },
  {
   "cell_type": "markdown",
   "metadata": {},
   "source": [
    "### Pre-requisite steps to run this notebook\n",
    "1. You need to run the candidate_label_creation notebook before this notebook."
   ]
  },
  {
   "cell_type": "code",
   "execution_count": 32,
   "metadata": {},
   "outputs": [],
   "source": [
    "import pandas as pd\n",
    "import os\n",
    "import subprocess\n",
    "import matplotlib.pyplot as plt\n",
    "import numpy as np\n",
    "from utility import rename_cols_and_overwrite_id\n",
    "from utility import run_command"
   ]
  },
  {
   "cell_type": "markdown",
   "metadata": {},
   "source": [
    "### Parameters\n",
    "**Required**  \n",
    "*work_dir*: path to work_dir that was specified in candidate_label_creation notebook. This should contain a folder called label_creation with files created by the label creation notebook which we will filter in this notebook.  \n",
    "*store_dir*: path to folder containing the sqlite3.db file that we will use for our queries. We will reuse an existing file if there is one in this folder. Otherwise we will create a new one."
   ]
  },
  {
   "cell_type": "code",
   "execution_count": 33,
   "metadata": {
    "tags": [
     "parameters"
    ]
   },
   "outputs": [],
   "source": [
    "# **REQUIRED**\n",
    "work_dir = \"../../wikidata_politicians/profiler_work\"\n",
    "store_dir = \"../../wikidata_politicians\""
   ]
  },
  {
   "cell_type": "markdown",
   "metadata": {},
   "source": [
    "### Process params / set up variables"
   ]
  },
  {
   "cell_type": "code",
   "execution_count": 34,
   "metadata": {},
   "outputs": [],
   "source": [
    "# Ensure paths are absolute\n",
    "work_dir = os.path.abspath(work_dir)\n",
    "store_dir = os.path.abspath(store_dir)\n",
    "\n",
    "label_creation_dir = \"{}/label_creation\".format(work_dir)\n",
    "    \n",
    "# Create output directory\n",
    "output_dir = \"{}/candidate_filter\".format(work_dir)\n",
    "if not os.path.exists(output_dir):\n",
    "    os.makedirs(output_dir)\n",
    "\n",
    "# adding some environment variables we'll be using frequently\n",
    "os.environ['STORE'] = \"{}/wikidata.sqlite3.db\".format(store_dir)\n",
    "os.environ['OUT'] = output_dir\n",
    "os.environ['IN'] = label_creation_dir\n",
    "os.environ['kgtk'] = \"kgtk\" # Need to do this for kgtk to be recognized as a command when passing it through a subprocess call"
   ]
  },
  {
   "cell_type": "markdown",
   "metadata": {},
   "source": [
    "helper for doing filtering and visualizing the results"
   ]
  },
  {
   "cell_type": "code",
   "execution_count": 35,
   "metadata": {},
   "outputs": [],
   "source": [
    "def filter_by_support_and_plot(support_file, filtered_out_file, filtered_file, alpha = .1):\n",
    "    df = pd.read_csv(support_file, delimiter = '\\t')\n",
    "#     df = df.loc[df.loc[:,\"node1\"] == \"Q11424\"]\n",
    "    \n",
    "    supports = df.loc[:,\"support\"]\n",
    "    \n",
    "    mask_filtered_out = ((supports < alpha) | (supports > (1 - alpha)))\n",
    "    filtered_out = supports.loc[mask_filtered_out]\n",
    "    not_filtered_out = supports.loc[~mask_filtered_out]\n",
    "    \n",
    "    print(\"Number of labels filtered out: {} / {} ({:.2f}%)\".format(len(filtered_out), len(supports), 100*(len(filtered_out) / len(supports))))\n",
    "    \n",
    "    bins = np.arange(0,1.01,.02)\n",
    "    plt.hist(filtered_out, label = \"filtered out\", bins = bins)\n",
    "    plt.hist(not_filtered_out, label = \"not filtered out\", bins = bins)\n",
    "    \n",
    "    plt.title(\"Distribution of Label Supports\")\n",
    "    plt.legend()\n",
    "    plt.show()\n",
    "    \n",
    "    df_filtered_out = df.loc[mask_filtered_out]\n",
    "    df_not_filtered_out = df.loc[~mask_filtered_out]\n",
    "    \n",
    "    df_filtered_out.to_csv(filtered_out_file, sep='\\t', index = False)\n",
    "    df_not_filtered_out.to_csv(filtered_file, sep='\\t', index = False)"
   ]
  },
  {
   "cell_type": "markdown",
   "metadata": {},
   "source": [
    "## AVL - string labels"
   ]
  },
  {
   "cell_type": "markdown",
   "metadata": {},
   "source": [
    "Adding support column, filtering based on support, sending filtered labels to files, and plotting a distribution of supports"
   ]
  },
  {
   "cell_type": "code",
   "execution_count": 36,
   "metadata": {},
   "outputs": [
    {
     "name": "stdout",
     "output_type": "stream",
     "text": [
      "No string labels file found, skipping this step.\n"
     ]
    }
   ],
   "source": [
    "if not os.path.isfile(\"{}/candidate_labels_avl_string.tsv\".format(label_creation_dir)):\n",
    "    print(\"No string labels file found, skipping this step.\")\n",
    "else:\n",
    "    # perform query\n",
    "    command = \"$kgtk query -i $IN/entity_counts_per_type.tsv -i $IN/candidate_labels_avl_string.tsv \\\n",
    "               -o $OUT/candidate_labels_avl_string_supports.tsv \\\n",
    "               --graph-cache $STORE \\\n",
    "               --match 'candidate: (type)-[l1 {label:prop, positives:pos, property_label:lab}]->(val), counts_per_type: (type)-[]->(count)' \\\n",
    "               --return 'type as type, prop as prop, val as val, lab as prop_label, pos as positives, kgtk_quantity_number_float(pos)/kgtk_quantity_number(count) as support, \\\"_\\\" as id' \\\n",
    "               --order-by 'kgtk_quantity_number_float(pos)/kgtk_quantity_number(count)'\"\n",
    "    run_command(command)\n",
    "    # reformat columns to be in KGTK format\n",
    "    rename_cols_and_overwrite_id(\"$OUT/candidate_labels_avl_string_supports\", \".tsv\", \"type prop val\", \"node1 label node2\")\n",
    "    # Filter labels based on support value, send to files, and plot distribution of label support.\n",
    "    supports_file = \"{}/candidate_labels_avl_string_supports.tsv\".format(output_dir)\n",
    "    filtered_out_file = \"{}/candidate_labels_avl_string_filtered_out.tsv\".format(output_dir)\n",
    "    filtered_file = \"{}/candidate_labels_avl_string_filtered.tsv\".format(output_dir)\n",
    "    filter_by_support_and_plot(supports_file, filtered_out_file, filtered_file)"
   ]
  },
  {
   "cell_type": "markdown",
   "metadata": {},
   "source": [
    "## AVL - time.year labels"
   ]
  },
  {
   "cell_type": "markdown",
   "metadata": {},
   "source": [
    "Adding support column"
   ]
  },
  {
   "cell_type": "code",
   "execution_count": 37,
   "metadata": {},
   "outputs": [],
   "source": [
    "!kgtk query -i $IN/entity_counts_per_type.tsv -i $IN/candidate_labels_avl_time.year.tsv \\\n",
    "-o $OUT/candidate_labels_avl_time.year_supports.tsv \\\n",
    "--graph-cache $STORE \\\n",
    "--match 'candidate: (type)-[l1 {label:prop, positives:pos, property_label:lab}]->(val), counts_per_type: (type)-[]->(count)' \\\n",
    "--return 'type as type, prop as prop, val as val, lab as prop_label, pos as positives, kgtk_quantity_number_float(pos)/kgtk_quantity_number(count) as support, \"_\" as id' \\\n",
    "--order-by 'kgtk_quantity_number_float(pos)/kgtk_quantity_number(count)'"
   ]
  },
  {
   "cell_type": "code",
   "execution_count": 38,
   "metadata": {},
   "outputs": [],
   "source": [
    "rename_cols_and_overwrite_id(\"$OUT/candidate_labels_avl_time.year_supports\", \".tsv\", \"type prop val\", \"node1 label node2\")"
   ]
  },
  {
   "cell_type": "markdown",
   "metadata": {},
   "source": [
    "Filter labels based on support value, send to files, and plot distribution of label support."
   ]
  },
  {
   "cell_type": "code",
   "execution_count": 39,
   "metadata": {
    "scrolled": true
   },
   "outputs": [
    {
     "name": "stdout",
     "output_type": "stream",
     "text": [
      "Number of labels filtered out: 9523 / 11692 (81.45%)\n"
     ]
    },
    {
     "data": {
      "image/png": "[encoded data removed]",
      "text/plain": [
       "<Figure size 432x288 with 1 Axes>"
      ]
     },
     "metadata": {
      "needs_background": "light"
     },
     "output_type": "display_data"
    }
   ],
   "source": [
    "supports_file = \"{}/candidate_labels_avl_time.year_supports.tsv\".format(output_dir)\n",
    "filtered_out_file = \"{}/candidate_labels_avl_time.year_filtered_out.tsv\".format(output_dir)\n",
    "filtered_file = \"{}/candidate_labels_avl_time.year_filtered.tsv\".format(output_dir)\n",
    "filter_by_support_and_plot(supports_file, filtered_out_file, filtered_file)"
   ]
  },
  {
   "cell_type": "markdown",
   "metadata": {},
   "source": [
    "## AVL - quantity labels"
   ]
  },
  {
   "cell_type": "markdown",
   "metadata": {},
   "source": [
    "Adding support column"
   ]
  },
  {
   "cell_type": "code",
   "execution_count": 40,
   "metadata": {},
   "outputs": [],
   "source": [
    "!kgtk query -i $IN/entity_counts_per_type.tsv -i $IN/candidate_labels_avl_quantity.tsv \\\n",
    "-o $OUT/candidate_labels_avl_quantity_supports.tsv \\\n",
    "--graph-cache $STORE \\\n",
    "--match 'candidate: (type)-[l1 {label:prop, positives:pos, property_label:lab, si_units:si, wd_units:wd}]->(val), counts_per_type: (type)-[]->(count)' \\\n",
    "--return 'type as type, prop as prop, val as val, lab as prop_label, pos as positives, kgtk_quantity_number_float(pos)/kgtk_quantity_number(count) as support, si as si_units, wd as wd_units, \"_\" as id' \\\n",
    "--order-by 'kgtk_quantity_number_float(pos)/kgtk_quantity_number(count)'"
   ]
  },
  {
   "cell_type": "code",
   "execution_count": 41,
   "metadata": {},
   "outputs": [],
   "source": [
    "rename_cols_and_overwrite_id(\"$OUT/candidate_labels_avl_quantity_supports\", \".tsv\", \"type prop val\", \"node1 label node2\")"
   ]
  },
  {
   "cell_type": "markdown",
   "metadata": {},
   "source": [
    "Filter labels based on support value, send to files, and plot distribution of label support."
   ]
  },
  {
   "cell_type": "code",
   "execution_count": 42,
   "metadata": {
    "scrolled": true
   },
   "outputs": [
    {
     "name": "stdout",
     "output_type": "stream",
     "text": [
      "Number of labels filtered out: 47359 / 51472 (92.01%)\n"
     ]
    },
    {
     "data": {
      "image/png": "[encoded data removed]",
      "text/plain": [
       "<Figure size 432x288 with 1 Axes>"
      ]
     },
     "metadata": {
      "needs_background": "light"
     },
     "output_type": "display_data"
    }
   ],
   "source": [
    "supports_file = \"{}/candidate_labels_avl_quantity_supports.tsv\".format(output_dir)\n",
    "filtered_out_file = \"{}/candidate_labels_avl_quantity_filtered_out.tsv\".format(output_dir)\n",
    "filtered_file = \"{}/candidate_labels_avl_quantity_filtered.tsv\".format(output_dir)\n",
    "filter_by_support_and_plot(supports_file, filtered_out_file, filtered_file)"
   ]
  },
  {
   "cell_type": "markdown",
   "metadata": {},
   "source": [
    "## RELs"
   ]
  },
  {
   "cell_type": "markdown",
   "metadata": {},
   "source": [
    "Adding support column"
   ]
  },
  {
   "cell_type": "code",
   "execution_count": 43,
   "metadata": {},
   "outputs": [],
   "source": [
    "!kgtk query -i $IN/entity_counts_per_type.tsv -i $IN/candidate_labels_rel_item.tsv \\\n",
    "-o $OUT/candidate_labels_rel_item_supports.tsv \\\n",
    "--graph-cache $STORE \\\n",
    "--match 'candidate: (type)-[l1 {label:prop, positives:pos, property_label:lab}]->(val), counts_per_type: (type)-[]->(count)' \\\n",
    "--return 'type as type, prop as prop, val as val, lab as prop_label, pos as positives, kgtk_quantity_number_float(pos)/kgtk_quantity_number(count) as support, \"_\" as id' \\\n",
    "--order-by 'kgtk_quantity_number_float(pos)/kgtk_quantity_number(count)'"
   ]
  },
  {
   "cell_type": "code",
   "execution_count": 44,
   "metadata": {},
   "outputs": [],
   "source": [
    "rename_cols_and_overwrite_id(\"$OUT/candidate_labels_rel_item_supports\", \".tsv\", \"type prop val\", \"node1 label node2\")"
   ]
  },
  {
   "cell_type": "markdown",
   "metadata": {},
   "source": [
    "Filter labels based on support value, send to files, and plot distribution of label support."
   ]
  },
  {
   "cell_type": "code",
   "execution_count": 45,
   "metadata": {
    "scrolled": false
   },
   "outputs": [
    {
     "name": "stdout",
     "output_type": "stream",
     "text": [
      "Number of labels filtered out: 677233 / 770094 (87.94%)\n"
     ]
    },
    {
     "data": {
      "image/png": "[encoded data removed]",
      "text/plain": [
       "<Figure size 432x288 with 1 Axes>"
      ]
     },
     "metadata": {
      "needs_background": "light"
     },
     "output_type": "display_data"
    }
   ],
   "source": [
    "supports_file = \"{}/candidate_labels_rel_item_supports.tsv\".format(output_dir)\n",
    "filtered_out_file = \"{}/candidate_labels_rel_item_filtered_out.tsv\".format(output_dir)\n",
    "filtered_file = \"{}/candidate_labels_rel_item_filtered.tsv\".format(output_dir)\n",
    "filter_by_support_and_plot(supports_file, filtered_out_file, filtered_file)"
   ]
  },
  {
   "cell_type": "markdown",
   "metadata": {},
   "source": [
    "## RALs - non-bucketed"
   ]
  },
  {
   "cell_type": "markdown",
   "metadata": {},
   "source": [
    "Adding support column"
   ]
  },
  {
   "cell_type": "code",
   "execution_count": 46,
   "metadata": {},
   "outputs": [],
   "source": [
    "!kgtk query -i $IN/entity_counts_per_type.tsv -i $IN/candidate_labels_ravl.tsv \\\n",
    "-o $OUT/candidate_labels_ravl_supports.tsv \\\n",
    "--graph-cache $STORE \\\n",
    "--match 'candidate: (type1)-[l1 {label:prop1, prop2:prop2, positives:pos, prop2_label:lab, value:val, si_units:si, wd_units:wd}]->(type2), counts_per_type: (type1)-[]->(count)' \\\n",
    "--return 'type1 as type1, prop1 as prop1, type2 as type2, prop2 as prop2, val as val, lab as prop2_label, pos as positives, kgtk_quantity_number_float(pos)/kgtk_quantity_number(count) as support, si as si_units, wd as wd_units, \"_\" as id' \\\n",
    "--order-by 'kgtk_quantity_number_float(pos)/kgtk_quantity_number(count)'"
   ]
  },
  {
   "cell_type": "code",
   "execution_count": 47,
   "metadata": {},
   "outputs": [],
   "source": [
    "rename_cols_and_overwrite_id(\"$OUT/candidate_labels_ravl_supports\", \".tsv\", \"type1 prop1 type2\", \"node1 label node2\")"
   ]
  },
  {
   "cell_type": "markdown",
   "metadata": {},
   "source": [
    "Filter labels based on support value, send to files, and plot distribution of label support."
   ]
  },
  {
   "cell_type": "code",
   "execution_count": 48,
   "metadata": {},
   "outputs": [
    {
     "name": "stdout",
     "output_type": "stream",
     "text": [
      "Number of labels filtered out: 1082178 / 1623263 (66.67%)\n"
     ]
    },
    {
     "data": {
      "image/png": "[encoded data removed]",
      "text/plain": [
       "<Figure size 432x288 with 1 Axes>"
      ]
     },
     "metadata": {
      "needs_background": "light"
     },
     "output_type": "display_data"
    }
   ],
   "source": [
    "supports_file = \"{}/candidate_labels_ravl_supports.tsv\".format(output_dir)\n",
    "filtered_out_file = \"{}/candidate_labels_ravl_filtered_out.tsv\".format(output_dir)\n",
    "filtered_file = \"{}/candidate_labels_ravl_filtered.tsv\".format(output_dir)\n",
    "filter_by_support_and_plot(supports_file, filtered_out_file, filtered_file)"
   ]
  },
  {
   "cell_type": "markdown",
   "metadata": {},
   "source": [
    "## RALs - bucketed"
   ]
  },
  {
   "cell_type": "markdown",
   "metadata": {},
   "source": [
    "Adding support column"
   ]
  },
  {
   "cell_type": "code",
   "execution_count": 49,
   "metadata": {},
   "outputs": [],
   "source": [
    "!kgtk query -i $IN/entity_counts_per_type.tsv -i $IN/candidate_labels_rail.tsv \\\n",
    "-o $OUT/candidate_labels_rail_supports.tsv \\\n",
    "--graph-cache $STORE \\\n",
    "--match 'candidate: (type1)-[l1 {label:prop1, prop2:prop2, positives:pos, prop2_label:lab, lower_bound:lb, upper_bound:ub, si_units:si, wd_units:wd}]->(type2), counts_per_type: (type1)-[]->(count)' \\\n",
    "--return 'type1 as type1, prop1 as prop1, type2 as type2, prop2 as prop2, lab as prop2_label, lb as lower_bound, ub as upper_bound, pos as positives, kgtk_quantity_number_float(pos)/kgtk_quantity_number(count) as support, si as si_units, wd as wd_units, \"_\" as id' \\\n",
    "--order-by 'kgtk_quantity_number_float(pos)/kgtk_quantity_number(count)'"
   ]
  },
  {
   "cell_type": "code",
   "execution_count": 50,
   "metadata": {},
   "outputs": [],
   "source": [
    "rename_cols_and_overwrite_id(\"$OUT/candidate_labels_rail_supports\", \".tsv\", \"type1 prop1 type2\", \"node1 label node2\")"
   ]
  },
  {
   "cell_type": "markdown",
   "metadata": {},
   "source": [
    "Filter labels based on support value, send to files, and plot distribution of label support."
   ]
  },
  {
   "cell_type": "code",
   "execution_count": 51,
   "metadata": {
    "scrolled": true
   },
   "outputs": [
    {
     "name": "stdout",
     "output_type": "stream",
     "text": [
      "Number of labels filtered out: 508621 / 829020 (61.35%)\n"
     ]
    },
    {
     "data": {
      "image/png": "[encoded data removed]",
      "text/plain": [
       "<Figure size 432x288 with 1 Axes>"
      ]
     },
     "metadata": {
      "needs_background": "light"
     },
     "output_type": "display_data"
    }
   ],
   "source": [
    "supports_file = \"{}/candidate_labels_rail_supports.tsv\".format(output_dir)\n",
    "filtered_out_file = \"{}/candidate_labels_rail_filtered_out.tsv\".format(output_dir)\n",
    "filtered_file = \"{}/candidate_labels_rail_filtered.tsv\".format(output_dir)\n",
    "filter_by_support_and_plot(supports_file, filtered_out_file, filtered_file)"
   ]
  },
  {
   "cell_type": "markdown",
   "metadata": {},
   "source": [
    "## AIL - time.year\n",
    "Note for AILs - we see a big spike at support = 1... Support = 1 will happen if for a given kind of label (distinct <type, property> pair) only a single cluster is formed."
   ]
  },
  {
   "cell_type": "markdown",
   "metadata": {},
   "source": [
    "Adding support column"
   ]
  },
  {
   "cell_type": "code",
   "execution_count": 52,
   "metadata": {},
   "outputs": [],
   "source": [
    "!kgtk query -i $IN/entity_counts_per_type.tsv -i $IN/candidate_labels_ail_time.year.tsv \\\n",
    "-o $OUT/candidate_labels_ail_time.year_supports.tsv \\\n",
    "--graph-cache $STORE \\\n",
    "--match 'candidate: (type)-[l1 {label:prop, upper_bound:ub, positives:pos, property_label:lab}]->(lb), counts_per_type: (type)-[]->(count)' \\\n",
    "--return 'type as type, prop as prop, lb as lower_bound, ub as upper_bound, lab as prop_label, pos as positives, kgtk_quantity_number_float(pos)/kgtk_quantity_number(count) as support, \"_\" as id' \\\n",
    "--order-by 'kgtk_quantity_number_float(pos)/kgtk_quantity_number(count)'"
   ]
  },
  {
   "cell_type": "code",
   "execution_count": 53,
   "metadata": {},
   "outputs": [],
   "source": [
    "rename_cols_and_overwrite_id(\"$OUT/candidate_labels_ail_time.year_supports\", \".tsv\", \"type prop lower_bound\", \"node1 label node2\")"
   ]
  },
  {
   "cell_type": "markdown",
   "metadata": {},
   "source": [
    "Filter labels based on support value, send to files, and plot distribution of label support."
   ]
  },
  {
   "cell_type": "code",
   "execution_count": 54,
   "metadata": {
    "scrolled": false
   },
   "outputs": [
    {
     "name": "stdout",
     "output_type": "stream",
     "text": [
      "Number of labels filtered out: 1744 / 3279 (53.19%)\n"
     ]
    },
    {
     "data": {
      "image/png": "[encoded data removed]",
      "text/plain": [
       "<Figure size 432x288 with 1 Axes>"
      ]
     },
     "metadata": {
      "needs_background": "light"
     },
     "output_type": "display_data"
    }
   ],
   "source": [
    "supports_file = \"{}/candidate_labels_ail_time.year_supports.tsv\".format(output_dir)\n",
    "filtered_out_file = \"{}/candidate_labels_ail_time.year_filtered_out.tsv\".format(output_dir)\n",
    "filtered_file = \"{}/candidate_labels_ail_time.year_filtered.tsv\".format(output_dir)\n",
    "filter_by_support_and_plot(supports_file, filtered_out_file, filtered_file)"
   ]
  },
  {
   "cell_type": "markdown",
   "metadata": {},
   "source": [
    "## AIL - Quantity\n",
    "Note for AILs - we see a big spike at support = 1... Support = 1 will happen if for a given kind of label (distinct <type, property, units>) only a single cluster is formed."
   ]
  },
  {
   "cell_type": "markdown",
   "metadata": {},
   "source": [
    "Adding support column"
   ]
  },
  {
   "cell_type": "code",
   "execution_count": 55,
   "metadata": {},
   "outputs": [],
   "source": [
    "!kgtk query -i $IN/entity_counts_per_type.tsv -i $IN/candidate_labels_ail_quantity.tsv \\\n",
    "-o $OUT/candidate_labels_ail_quantity_supports.tsv \\\n",
    "--graph-cache $STORE \\\n",
    "--match 'candidate: (type)-[l1 {label:prop, si_units:si, wd_units:wd, upper_bound:ub, positives:pos, property_label:lab}]->(lb), counts_per_type: (type)-[]->(count)' \\\n",
    "--return 'type as type, prop as prop, si as si_units, wd as wd_units, lb as lower_bound, ub as upper_bound, lab as prop_label, pos as positives, kgtk_quantity_number_float(pos)/kgtk_quantity_number(count) as support, \"_\" as id' \\\n",
    "--order-by 'kgtk_quantity_number_float(pos)/kgtk_quantity_number(count)'"
   ]
  },
  {
   "cell_type": "code",
   "execution_count": 56,
   "metadata": {},
   "outputs": [],
   "source": [
    "rename_cols_and_overwrite_id(\"$OUT/candidate_labels_ail_quantity_supports\", \".tsv\", \"type prop lower_bound\", \"node1 label node2\")"
   ]
  },
  {
   "cell_type": "markdown",
   "metadata": {},
   "source": [
    "Filter labels based on support value, send to files, and plot distribution of label support."
   ]
  },
  {
   "cell_type": "code",
   "execution_count": 57,
   "metadata": {
    "scrolled": false
   },
   "outputs": [
    {
     "name": "stdout",
     "output_type": "stream",
     "text": [
      "Number of labels filtered out: 3613 / 6998 (51.63%)\n"
     ]
    },
    {
     "data": {
      "image/png": "[encoded data removed]",
      "text/plain": [
       "<Figure size 432x288 with 1 Axes>"
      ]
     },
     "metadata": {
      "needs_background": "light"
     },
     "output_type": "display_data"
    }
   ],
   "source": [
    "supports_file = \"{}/candidate_labels_ail_quantity_supports.tsv\".format(output_dir)\n",
    "filtered_out_file = \"{}/candidate_labels_ail_quantity_filtered_out.tsv\".format(output_dir)\n",
    "filtered_file = \"{}/candidate_labels_ail_quantity_filtered.tsv\".format(output_dir)\n",
    "filter_by_support_and_plot(supports_file, filtered_out_file, filtered_file)"
   ]
  },
  {
   "cell_type": "code",
   "execution_count": null,
   "metadata": {},
   "outputs": [],
   "source": []
  }
 ],
 "metadata": {
  "celltoolbar": "Tags",
  "kernelspec": {
   "display_name": "Python 3",
   "language": "python",
   "name": "python3"
  },
  "language_info": {
   "codemirror_mode": {
    "name": "ipython",
    "version": 3
   },
   "file_extension": ".py",
   "mimetype": "text/x-python",
   "name": "python",
   "nbconvert_exporter": "python",
   "pygments_lexer": "ipython3",
   "version": "3.8.5"
  }
 },
 "nbformat": 4,
 "nbformat_minor": 4
}
