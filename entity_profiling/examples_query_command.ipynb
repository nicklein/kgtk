{
 "cells": [
  {
   "cell_type": "markdown",
   "metadata": {},
   "source": [
    "# Some examples of using the KGTK query command"
   ]
  },
  {
   "cell_type": "markdown",
   "metadata": {},
   "source": [
    "specifying where data lives"
   ]
  },
  {
   "cell_type": "code",
   "execution_count": 1,
   "metadata": {},
   "outputs": [],
   "source": [
    "import os\n",
    "work_dir = \"../../data\"\n",
    "os.environ['STORE'] = \"{}/wikidata.sqlite3.db\".format(work_dir)\n",
    "os.environ['DATA'] = \"{}/Q44\".format(work_dir) \n",
    "os.environ['NAME'] = \"Q44\"\n",
    "os.environ[\"OUT\"] = \"{}/Q44_profiler_output\".format(work_dir)"
   ]
  },
  {
   "cell_type": "markdown",
   "metadata": {},
   "source": [
    "## Examples of using query command:\n",
    "### Ex - Counting instances of <type, property, value> along with the property label"
   ]
  },
  {
   "cell_type": "code",
   "execution_count": 2,
   "metadata": {},
   "outputs": [
    {
     "name": "stdout",
     "output_type": "stream",
     "text": [
      "type\tprop\tvalue\tcount\tproperty_label\r\n",
      "Q1066984\tP1343\tQ97879676\t3\t'described by source'@en\r\n",
      "Q1066984\tP1343\tQ316838\t2\t'described by source'@en\r\n",
      "Q1066984\tP17\tQ154195\t2\t'country'@en\r\n",
      "Q1066984\tP17\tQ183\t2\t'country'@en\r\n",
      "Q1066984\tP17\tQ2415901\t2\t'country'@en\r\n"
     ]
    }
   ],
   "source": [
    "!kgtk query -i $DATA/$NAME.part.wikibase-item.tsv -i $DATA/$NAME.label.en.tsv --graph-cache $STORE \\\n",
    "--match 'item: (n1)-[l {label: p}]->(n2), item: (n1)-[:P31]->(type), label: (p)-[:label]->(lab)' \\\n",
    "--return 'distinct type as type, l.label as prop, n2 as value, count(n1) as count, lab as property_label' \\\n",
    "--where 'lab.kgtk_lqstring_lang_suffix = \"en\"' \\\n",
    "--order-by 'type, count(n1) desc' \\\n",
    "--limit 5"
   ]
  },
  {
   "cell_type": "markdown",
   "metadata": {},
   "source": [
    "### Ex - Counting property, value pairs for time properties"
   ]
  },
  {
   "cell_type": "code",
   "execution_count": 3,
   "metadata": {},
   "outputs": [
    {
     "name": "stdout",
     "output_type": "stream",
     "text": [
      "prop\tproperty_label\tval\tcount\r\n",
      "P571\t'inception'@en\t1991\t20\r\n",
      "P571\t'inception'@en\t1918\t14\r\n",
      "P571\t'inception'@en\t1989\t8\r\n",
      "P571\t'inception'@en\t1996\t8\r\n",
      "P571\t'inception'@en\t1821\t6\r\n"
     ]
    }
   ],
   "source": [
    "!kgtk query -i $DATA/$NAME.part.time.tsv -i $DATA/$NAME.label.en.tsv --graph-cache $STORE \\\n",
    "--match 'time: (n1)-[l {label: p}]->(n2), label: (p)-[:label]->(lab)' \\\n",
    "--return 'distinct l.label as prop, lab as property_label, kgtk_date_year(n2) as val, count(n1) as count' \\\n",
    "--where 'lab.kgtk_lqstring_lang_suffix = \"en\"' \\\n",
    "--order-by 'count(n1) desc' \\\n",
    "--limit 5"
   ]
  },
  {
   "cell_type": "markdown",
   "metadata": {},
   "source": [
    "### Ex- Counting property, value pairs for quantity properties"
   ]
  },
  {
   "cell_type": "code",
   "execution_count": 4,
   "metadata": {},
   "outputs": [
    {
     "name": "stdout",
     "output_type": "stream",
     "text": [
      "prop\tproperty_label\tvalue\tcount\r\n",
      "P3000\t'marriageable age'@en\t+18Q24564698\t56\r\n",
      "P2997\t'age of majority'@en\t+18Q24564698\t52\r\n",
      "P1279\t'inflation rate'@en\t+1.7Q11229\t41\r\n",
      "P2884\t'mains voltage'@en\t+230Q25250\t40\r\n",
      "P1279\t'inflation rate'@en\t+1.8Q11229\t38\r\n"
     ]
    }
   ],
   "source": [
    "!kgtk query -i $DATA/$NAME.part.quantity.tsv -i $DATA/$NAME.label.en.tsv --graph-cache $STORE \\\n",
    "--match 'quantity: (n1)-[l {label: p}]->(n2), label: (p)-[:label]->(lab)' \\\n",
    "--return 'distinct l.label as prop, lab as property_label, n2 as value, count(n1) as count' \\\n",
    "--where 'lab.kgtk_lqstring_lang_suffix = \"en\"' \\\n",
    "--order-by 'count(n1) desc' \\\n",
    "--limit 5"
   ]
  }
 ],
 "metadata": {
  "kernelspec": {
   "display_name": "Python [conda env:kgtk-env] *",
   "language": "python",
   "name": "conda-env-kgtk-env-py"
  },
  "language_info": {
   "codemirror_mode": {
    "name": "ipython",
    "version": 3
   },
   "file_extension": ".py",
   "mimetype": "text/x-python",
   "name": "python",
   "nbconvert_exporter": "python",
   "pygments_lexer": "ipython3",
   "version": "3.7.8"
  }
 },
 "nbformat": 4,
 "nbformat_minor": 4
}
