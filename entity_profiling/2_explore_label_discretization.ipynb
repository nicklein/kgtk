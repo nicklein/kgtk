{
 "cells": [
  {
   "cell_type": "markdown",
   "metadata": {},
   "source": [
    "# Optional exploration of discretization methods used in the candidate_label_creation notebook\n",
    "In this notebook, we will explore how to discretize numeric-valued attribute labels.\n",
    "\n",
    "*What do we mean by \"discretize numeric-valued attribute labels\"?*  \n",
    "--> Example: If we look at the labels we have for \"beers that have an ABV of *X*\", we will get many labels that have different values that might be close together. By discretizing them, we will create bins of ABV values so that we can have labels that capture \"beers that have an ABV between *Y* and *Z*\". This should give us labels that are applicable to more entities and are hopefully more meaningful for profiling.\n",
    "\n",
    "*What methods will we explore?*  \n",
    "--> The paper that this entity profiling procedure is based on mentions using a fixed-width bin size for certain numeric types like years, and a density-based discretization method otherwise. We will look at using fixed-width bins, but we will primarily look at DBSCAN (Density-based spatial clustering of applications with noise). We will also see how we can automate selecting parameters for DBSCAN. Another tool that may be better suited for our task that we plan to explore in the future is KDE (Kernel Density Estimation).\n",
    "\n",
    "*What method is used in the candidate label creation notebook?*  \n",
    "--> DBSCAN + automated parameter selection to create clusters, then infer bin-ranges from the clusters.\n",
    "\n",
    "*Resources:*  \n",
    "- DBSCAN wikipedia page: https://en.wikipedia.org/wiki/DBSCAN, this has a more detailed explanation of how the clustering works, discussion of advantages/disadvantages, and a section on parameter selection/\n",
    "- Article explaining how to tune DBSCAN's parameters: https://towardsdatascience.com/how-to-use-dbscan-effectively-ed212c02e62\n",
    "- Stack overflow post with an answer explaining how KDE would be a better-suited tool for our clustering since we only have one dimensional data: https://stackoverflow.com/questions/11513484/1d-number-array-clustering"
   ]
  },
  {
   "cell_type": "markdown",
   "metadata": {},
   "source": [
    "### Pre-requisite steps to run this notebook\n",
    "1. kneed (https://pypi.org/project/kneed/) is a dependency. Install this either through Anaconda with `conda install -c conda-forge kneed`, or through pip with `pip install kneed`\n",
    "2. optionally run the 0_trim_quantity_file notebook first"
   ]
  },
  {
   "cell_type": "code",
   "execution_count": 27,
   "metadata": {},
   "outputs": [],
   "source": [
    "import matplotlib.pyplot as plt\n",
    "import numpy as np\n",
    "import os\n",
    "import pandas as pd\n",
    "from sklearn.cluster import DBSCAN\n",
    "from sklearn.neighbors import NearestNeighbors\n",
    "from kneed import KneeLocator\n",
    "from utility import rename_cols_and_overwrite_id"
   ]
  },
  {
   "cell_type": "markdown",
   "metadata": {},
   "source": [
    "### Parameters\n",
    "**Required**  \n",
    "*item_file*: file path for the file that contains entity to entity relationships (e.g. wikibase-item)  \n",
    "*time_file*: file path for the file that contains entity to time-type values  \n",
    "*quantity_file*: file path for the file that contains entity to quantity-type values (remember to specify the trimmed file if you did the quantity file trimming pre-processing step).  \n",
    "*label_file*: file path for the file that contains wikidata labels  \n",
    "*work_dir*: path to work_dir that was specified in the candidate_label_creation notebook. We will look for files in this folder that were created by the candidate_label_creation notebook.  \n",
    "*store_dir*: path to folder containing the sqlite3.db file that we will use for our queries. We will reuse an existing file if there is one in this folder. Otherwise we will create a new one."
   ]
  },
  {
   "cell_type": "code",
   "execution_count": 2,
   "metadata": {},
   "outputs": [],
   "source": [
    "data_dir = \"../../wikidata_films/data\" # my data files are all in the same directory, so I'll reuse this path prefix\n",
    "\n",
    "item_file = \"{}/claims.wikibase-item.tsv.gz\".format(data_dir)\n",
    "time_file = \"{}/claims.time.tsv.gz\".format(data_dir)\n",
    "quantity_file = \"{}/claims.quantity_trimmed.tsv.gz\".format(data_dir)\n",
    "label_file = \"{}/labels.en.tsv.gz\".format(data_dir)\n",
    "work_dir = \"../../wikidata_films/profiler_work\"\n",
    "store_dir = \"../../wikidata_films\""
   ]
  },
  {
   "cell_type": "markdown",
   "metadata": {},
   "source": [
    "### Process parameters and set up variables / file names"
   ]
  },
  {
   "cell_type": "code",
   "execution_count": 3,
   "metadata": {},
   "outputs": [],
   "source": [
    "# Ensure paths are absolute\n",
    "item_file = os.path.abspath(item_file)\n",
    "time_file = os.path.abspath(time_file)\n",
    "quantity_file = os.path.abspath(quantity_file)\n",
    "label_file = os.path.abspath(label_file)\n",
    "work_dir = os.path.abspath(work_dir)\n",
    "store_dir = os.path.abspath(store_dir)\n",
    "\n",
    "# Create subdirectory where files created by this notebook can go \n",
    "out_dir = \"{}/explore_label_disc\".format(work_dir)\n",
    "if not os.path.exists(out_dir):\n",
    "    os.makedirs(out_dir)\n",
    "\n",
    "# adding some environment variables we'll be using frequently\n",
    "os.environ['ITEM_FILE'] = item_file\n",
    "os.environ['TIME_FILE'] = time_file\n",
    "os.environ['QUANTITY_FILE'] = quantity_file\n",
    "os.environ['LABEL_FILE'] = label_file\n",
    "os.environ['STORE'] = \"{}/wikidata.sqlite3.db\".format(store_dir)\n",
    "os.environ['OUT'] = out_dir\n",
    "os.environ['kgtk'] = \"kgtk\""
   ]
  },
  {
   "cell_type": "markdown",
   "metadata": {},
   "source": [
    "### Helpers for using DBSCAN to create clusters and viewing them"
   ]
  },
  {
   "cell_type": "code",
   "execution_count": 80,
   "metadata": {},
   "outputs": [],
   "source": [
    "# Uses DBSCAN to assign labels of a particular type and property to clusters\n",
    "def DBSCAN_label_subset(filename, eps, min_samples, l_type, l_prop, l_si = None, l_wd = None):\n",
    "    df = pd.read_csv(filename, delimiter='\\t')\n",
    "    \n",
    "    # dbscan expects multiple dimensions\n",
    "    df[\"zeros\"]=0\n",
    "    \n",
    "    # filter by type and property, and units if given\n",
    "    df = df.loc[df[\"node1\"] == l_type]\n",
    "    df = df.loc[df[\"label\"] == l_prop]\n",
    "    if l_si is not None:\n",
    "        df = df.loc[df[\"si_units\"] == l_si]\n",
    "    if l_wd is not None:\n",
    "        df = df.loc[df[\"wd_units\"] == l_wd]\n",
    "        \n",
    "    values_w_0s = df.loc[:, [\"node2\", \"zeros\"]]\n",
    "    values = values_w_0s.loc[:,\"node2\"]\n",
    "    \n",
    "    db = DBSCAN(eps=eps, min_samples=min_samples).fit(values_w_0s)\n",
    "\n",
    "    return (db, values)\n",
    "\n",
    "\n",
    "# Chooses values for the epsilon and min_samples parameters of DBSCAN to be used for\n",
    "# clustering labels of a given type and property.\n",
    "def choose_DBSCAN_params(filename, l_type, l_prop, l_si = None, l_wd = None, min_samples=None):\n",
    "    df = pd.read_csv(filename, delimiter='\\t')\n",
    "    \n",
    "    # filter by type and property, and units if given\n",
    "    df = df.loc[df[\"node1\"] == l_type]\n",
    "    df = df.loc[df[\"label\"] == l_prop]\n",
    "    if l_si is not None:\n",
    "        df = df.loc[df[\"si_units\"] == l_si]\n",
    "    if l_wd is not None:\n",
    "        df = df.loc[df[\"wd_units\"] == l_wd]\n",
    "        \n",
    "    values = np.array(df.loc[:,\"node2\"]).reshape(-1, 1)\n",
    "    \n",
    "    # min_samples would ideally be set with some domain-insight.\n",
    "    # To make this automated, we'll use a heuristic - ln(number of data points)\n",
    "    if min_samples is not None:\n",
    "        print(\"min_samples = {}\".format(min_samples))\n",
    "    else:\n",
    "        min_samples = int(np.floor(np.log(len(values))))\n",
    "        min_samples = max(min_samples, 1) # don't choose a number less than 1\n",
    "        print(\"Choosing min_samples = floor(ln(# data points)) = {}\".format(min_samples))\n",
    "    \n",
    "    # epsilon can be chosen by plotting the distances of the k'th nearest neighbor from each point\n",
    "    # where k is min_samples. Points that belong to clusters should have smaller distances, whereas\n",
    "    # noise points can have distances that are much farther. We'll look for a knee in this graph to set epsilon.\n",
    "    print(\"Computing distances to k'th nearest neighbor for each point where k = min_samples...\")\n",
    "    \n",
    "    neigh = NearestNeighbors(n_neighbors = min_samples + 1) # +1 so we find k'th nearest neighbor not including the point iteslf.\n",
    "    values_neigh = neigh.fit(values)\n",
    "    distances, indices = values_neigh.kneighbors(values)\n",
    "    distances = np.sort(distances[:,min_samples], axis = 0)\n",
    "    \n",
    "    kneedle = KneeLocator(range(len(distances)), distances, S=1, curve='convex', direction='increasing', interp_method = 'polynomial')\n",
    "    kneedle.plot_knee()\n",
    "    plt.xlabel(\"Points\")\n",
    "    plt.ylabel(\"Distance\")\n",
    "\n",
    "    print(\"knee found at distance {}\".format(kneedle.knee_y))\n",
    "    epsilon = kneedle.knee_y\n",
    "    \n",
    "    return (min_samples, epsilon)\n",
    "\n",
    "\n",
    "# Given values that have been assigned to clusters,\n",
    "# return a list of intervals that are consistent with these clusters\n",
    "def infer_intervals_from_clusters(values, labels):\n",
    "    \n",
    "    values = np.array(values)\n",
    "    labels = np.array(labels)\n",
    "    \n",
    "    # sort values and corresponding labels in ascending order\n",
    "    labels = np.array([l for l, v in sorted(zip(labels, values), key=lambda pair: pair[1])])\n",
    "    values.sort()\n",
    "    \n",
    "    intervals = [(None, None)] # initially a single interval with no lower or upper bound\n",
    "    \n",
    "    cur_label = labels[0]\n",
    "    for i in range(len(labels)):\n",
    "        # if new label, set upper bound of previous interval,\n",
    "        # and start lower bound of a new interval.\n",
    "        if labels[i] != cur_label:\n",
    "            prev_interval_lb = (intervals[-1])[0]\n",
    "            new_interval_edge = values[i-1] + ((values[i] - values[i-1]) / 2)\n",
    "            intervals[-1] = (prev_interval_lb, new_interval_edge)\n",
    "            intervals.append((new_interval_edge, None))\n",
    "            cur_label = labels[i]\n",
    "    \n",
    "    return intervals\n",
    "    \n",
    "\n",
    "def fixed_width_partition(filename, width, l_type, l_prop):\n",
    "    df = pd.read_csv(filename, delimiter='\\t')\n",
    "    \n",
    "   # filter by type and property if given\n",
    "    if l_type is not None:\n",
    "        df = df.loc[df[\"node1\"] == l_type]\n",
    "    if l_prop is not None:\n",
    "        df = df.loc[df[\"label\"] == l_prop]\n",
    "        \n",
    "    values = df.loc[:,\"node2\"]\n",
    "    labels = values - (values % width)\n",
    "    \n",
    "    return (labels, values)\n",
    "\n",
    "def percentile_partition(filename, num_intervals, l_type, l_prop):\n",
    "    df = pd.read_csv(filename, delimiter='\\t')\n",
    "    \n",
    "   # filter by type and property if given\n",
    "    if l_type is not None:\n",
    "        df = df.loc[df[\"node1\"] == l_type]\n",
    "    if l_prop is not None:\n",
    "        df = df.loc[df[\"label\"] == l_prop]\n",
    "        \n",
    "    values = df.loc[:,\"node2\"].sort_values().reset_index(drop=True)\n",
    "    interval_upper_bounds = []\n",
    "    for i in range(num_intervals):\n",
    "        index_of_bound = int(((i+1)/num_intervals)*len(values)) - 1\n",
    "        interval_upper_bounds.append(values[index_of_bound])\n",
    "    labels=[]\n",
    "    cur_ub_idx=0\n",
    "    for i in range(len(values)):\n",
    "        while values[i] > interval_upper_bounds[cur_ub_idx]:\n",
    "            cur_ub_idx += 1\n",
    "        labels.append(interval_upper_bounds[cur_ub_idx])\n",
    "    #simpler way that ignores when boundary splits a group of same-valued samples\n",
    "#     interval_size = int(len(values) / num_intervals)\n",
    "#     labels = [i for i in range(num_intervals-1) for j in range(interval_size)]\n",
    "#     labels.extend([num_intervals-1 for i in range(len(values) - len(labels))])\n",
    "#     labels = pd.Series(labels)\n",
    "    \n",
    "    return (labels, values) \n",
    "\n",
    "def view_clustering(labels, values, min_hist_bin = None, max_hist_bin = None, bin_size = None):\n",
    "    if min_hist_bin is None:\n",
    "        min_hist_bin = values.min() - 1\n",
    "    if max_hist_bin is None:\n",
    "        max_hist_bin = values.max() + 1\n",
    "    if bin_size is None:\n",
    "        bin_size = (max_hist_bin - min_hist_bin) / 10 # default 10 bins\n",
    "\n",
    "    # Number of clusters in labels, ignoring noise if present.\n",
    "    n_clusters_ = len(set(labels)) - (1 if -1 in labels else 0)\n",
    "    n_noise_ = list(labels).count(-1)\n",
    "\n",
    "    print('Number of data points: {}'.format(len(labels)))\n",
    "    print('Estimated number of clusters: %d' % n_clusters_)\n",
    "    print('Estimated number of noise points: %d' % n_noise_)\n",
    "\n",
    "\n",
    "    unique_labels = set(labels)\n",
    "    colors = [plt.cm.Spectral(each)\n",
    "              for each in np.linspace(.05, .9, len(unique_labels))]\n",
    "    \n",
    "    ax = plt.gca()\n",
    "    ax.set_facecolor(\"xkcd:silver\")\n",
    "\n",
    "    for k, col in zip(unique_labels, colors):\n",
    "        #col = [0.3686274509803922, 0.30980392156862746, 0.6352941176470588, 1.0]\n",
    "        if k == -1:\n",
    "            # Black used for noise.\n",
    "            col = [0, 0, 0, 1]\n",
    "\n",
    "        class_member_mask = (labels == k)\n",
    "\n",
    "        xy = values.loc[class_member_mask]\n",
    "        plt.hist(xy, color=tuple(col), bins = np.arange(min_hist_bin, max_hist_bin, bin_size), histtype = 'stepfilled')\n",
    "\n",
    "    plt.xlabel(\"value\")\n",
    "    plt.ylabel(\"count\")\n",
    "    plt.title('Estimated number of clusters: %d' % n_clusters_)\n",
    "    plt.show()"
   ]
  },
  {
   "cell_type": "markdown",
   "metadata": {},
   "source": [
    "## Gather triples to discretize...\n",
    "### Start by creating a type mapping\n",
    "We will create intervals for properties of an entity that are specific to the entity's type.\n",
    "\n",
    "Mapping is from entity (Q node) to the entity's type (another Q node). Using P31 only for now, but can add P279* as well later."
   ]
  },
  {
   "cell_type": "code",
   "execution_count": 5,
   "metadata": {
    "scrolled": true
   },
   "outputs": [],
   "source": [
    "!kgtk query -i $ITEM_FILE -i $LABEL_FILE \\\n",
    "-o $OUT/type_mapping.tsv --graph-cache $STORE \\\n",
    "--match '`'\"$ITEM_FILE\"'`: (e)-[l {label:\"P31\"}]->(type), `'\"$LABEL_FILE\"'`: (e)-[:label]->(e_lab), `'\"$LABEL_FILE\"'`: (type)-[:label]->(type_lab)' \\\n",
    "--return 'distinct l as id, e as node1, l.label as label, type as node2, e_lab as entity_label, type_lab as type_label' \\\n",
    "--where 'e_lab.kgtk_lqstring_lang_suffix = \"en\" AND type_lab.kgtk_lqstring_lang_suffix = \"en\"'"
   ]
  },
  {
   "cell_type": "code",
   "execution_count": 28,
   "metadata": {
    "scrolled": false
   },
   "outputs": [
    {
     "data": {
      "text/html": [
       "<div>\n",
       "<style scoped>\n",
       "    .dataframe tbody tr th:only-of-type {\n",
       "        vertical-align: middle;\n",
       "    }\n",
       "\n",
       "    .dataframe tbody tr th {\n",
       "        vertical-align: top;\n",
       "    }\n",
       "\n",
       "    .dataframe thead th {\n",
       "        text-align: right;\n",
       "    }\n",
       "</style>\n",
       "<table border=\"1\" class=\"dataframe\">\n",
       "  <thead>\n",
       "    <tr style=\"text-align: right;\">\n",
       "      <th></th>\n",
       "      <th>id</th>\n",
       "      <th>node1</th>\n",
       "      <th>label</th>\n",
       "      <th>node2</th>\n",
       "      <th>entity_label</th>\n",
       "      <th>type_label</th>\n",
       "    </tr>\n",
       "  </thead>\n",
       "  <tbody>\n",
       "    <tr>\n",
       "      <th>0</th>\n",
       "      <td>P10-P31-Q18610173-85ef4d24-0</td>\n",
       "      <td>P10</td>\n",
       "      <td>P31</td>\n",
       "      <td>Q18610173</td>\n",
       "      <td>'video'@en</td>\n",
       "      <td>'Wikidata property to link to Commons'@en</td>\n",
       "    </tr>\n",
       "    <tr>\n",
       "      <th>1</th>\n",
       "      <td>P1000-P31-Q18608871-093affb5-0</td>\n",
       "      <td>P1000</td>\n",
       "      <td>P31</td>\n",
       "      <td>Q18608871</td>\n",
       "      <td>'record held'@en</td>\n",
       "      <td>'Wikidata property for items about people'@en</td>\n",
       "    </tr>\n",
       "    <tr>\n",
       "      <th>2</th>\n",
       "      <td>P1001-P31-Q15720608-deeedec9-0</td>\n",
       "      <td>P1001</td>\n",
       "      <td>P31</td>\n",
       "      <td>Q15720608</td>\n",
       "      <td>'applies to jurisdiction'@en</td>\n",
       "      <td>'Wikidata qualifier'@en</td>\n",
       "    </tr>\n",
       "    <tr>\n",
       "      <th>3</th>\n",
       "      <td>P1001-P31-Q22984026-8beb0cfe-0</td>\n",
       "      <td>P1001</td>\n",
       "      <td>P31</td>\n",
       "      <td>Q22984026</td>\n",
       "      <td>'applies to jurisdiction'@en</td>\n",
       "      <td>'Wikidata property related to law and justice'@en</td>\n",
       "    </tr>\n",
       "    <tr>\n",
       "      <th>4</th>\n",
       "      <td>P1001-P31-Q22997934-1e5b1a96-0</td>\n",
       "      <td>P1001</td>\n",
       "      <td>P31</td>\n",
       "      <td>Q22997934</td>\n",
       "      <td>'applies to jurisdiction'@en</td>\n",
       "      <td>'Wikidata property related to government and s...</td>\n",
       "    </tr>\n",
       "  </tbody>\n",
       "</table>\n",
       "</div>"
      ],
      "text/plain": [
       "                               id  node1 label      node2  \\\n",
       "0    P10-P31-Q18610173-85ef4d24-0    P10   P31  Q18610173   \n",
       "1  P1000-P31-Q18608871-093affb5-0  P1000   P31  Q18608871   \n",
       "2  P1001-P31-Q15720608-deeedec9-0  P1001   P31  Q15720608   \n",
       "3  P1001-P31-Q22984026-8beb0cfe-0  P1001   P31  Q22984026   \n",
       "4  P1001-P31-Q22997934-1e5b1a96-0  P1001   P31  Q22997934   \n",
       "\n",
       "                   entity_label  \\\n",
       "0                    'video'@en   \n",
       "1              'record held'@en   \n",
       "2  'applies to jurisdiction'@en   \n",
       "3  'applies to jurisdiction'@en   \n",
       "4  'applies to jurisdiction'@en   \n",
       "\n",
       "                                          type_label  \n",
       "0          'Wikidata property to link to Commons'@en  \n",
       "1      'Wikidata property for items about people'@en  \n",
       "2                            'Wikidata qualifier'@en  \n",
       "3  'Wikidata property related to law and justice'@en  \n",
       "4  'Wikidata property related to government and s...  "
      ]
     },
     "metadata": {},
     "output_type": "display_data"
    }
   ],
   "source": [
    "display(pd.read_csv(\"{}/type_mapping.tsv\".format(os.environ[\"OUT\"]), delimiter = '\\t', nrows=5).fillna(\"\"))"
   ]
  },
  {
   "cell_type": "markdown",
   "metadata": {},
   "source": [
    "### Gather table of <entity, type, property, value> for year attribute labels"
   ]
  },
  {
   "cell_type": "code",
   "execution_count": 7,
   "metadata": {
    "scrolled": true
   },
   "outputs": [],
   "source": [
    "!kgtk query -i $OUT/type_mapping.tsv -i $TIME_FILE -i $LABEL_FILE \\\n",
    "-o $OUT/entity_attribute_labels_time.year.tsv --graph-cache $STORE \\\n",
    "--match '`'\"$TIME_FILE\"'`: (n1)-[l {label:p}]->(n2), type: (n1)-[]->(type), `'\"$LABEL_FILE\"'`: (p)-[:label]->(p_lab), `'\"$LABEL_FILE\"'`: (type)-[:label]->(t_lab)' \\\n",
    "--return 'distinct n1 as entity, type as type, p as prop, kgtk_date_year(n2) as value, t_lab as type_label, p_lab as property_label, \"_\" as id' \\\n",
    "--where 't_lab.kgtk_lqstring_lang_suffix = \"en\" AND p_lab.kgtk_lqstring_lang_suffix = \"en\"' \\\n",
    "--order-by 'n1'"
   ]
  },
  {
   "cell_type": "code",
   "execution_count": 8,
   "metadata": {
    "scrolled": false
   },
   "outputs": [],
   "source": [
    "rename_cols_and_overwrite_id(\"$OUT/entity_attribute_labels_time.year\", \".tsv\", \"type prop value\", \"node1 label node2\")"
   ]
  },
  {
   "cell_type": "code",
   "execution_count": 6,
   "metadata": {
    "scrolled": true
   },
   "outputs": [
    {
     "name": "stdout",
     "output_type": "stream",
     "text": [
      "entity  node1      label  node2  type_label                                            property_label          id\r\n",
      "P2847   Q18608871  P2669  2019   'Wikidata property for items about people'@en         'discontinued date'@en  E1\r\n",
      "P2847   Q24239898  P2669  2019   'Wikidata property for Wikivoyage listings'@en        'discontinued date'@en  E2\r\n",
      "P2847   Q30041186  P2669  2019   'Wikidata property related to online communities'@en  'discontinued date'@en  E3\r\n",
      "P2847   Q60457486  P2669  2019   'Wikidata property for a discontinued website'@en     'discontinued date'@en  E4\r\n"
     ]
    }
   ],
   "source": [
    "!head -5 $OUT/entity_attribute_labels_time.year.tsv | column -t -s $'\\t'"
   ]
  },
  {
   "cell_type": "markdown",
   "metadata": {},
   "source": [
    "### Gather table of <entity, type, property, value, si_units, wd_units> for quantity attribute labels\n",
    "We don't do any unit conversions, instead we consider si_units, wd_units as part of the property."
   ]
  },
  {
   "cell_type": "code",
   "execution_count": 10,
   "metadata": {},
   "outputs": [],
   "source": [
    "!kgtk query -i $OUT/type_mapping.tsv -i $QUANTITY_FILE -i $LABEL_FILE \\\n",
    "-o $OUT/entity_attribute_labels_quantity.tsv --graph-cache $STORE \\\n",
    "--match '`'\"$QUANTITY_FILE\"'`: (n1)-[l {label:p}]->(n2), type: (n1)-[]->(type), `'\"$LABEL_FILE\"'`: (p)-[:label]->(p_lab), `'\"$LABEL_FILE\"'`: (type)-[:label]->(t_lab)' \\\n",
    "--return 'distinct n1 as entity, type as type, p as prop, kgtk_quantity_numeral(n2) as value, kgtk_quantity_si_units(n2) as si_units, kgtk_quantity_wd_units(n2) as wd_units, t_lab as type_label, p_lab as property_label, \"_\" as id' \\\n",
    "--where 't_lab.kgtk_lqstring_lang_suffix = \"en\" AND p_lab.kgtk_lqstring_lang_suffix = \"en\"' \\\n",
    "--order-by 'n1'"
   ]
  },
  {
   "cell_type": "code",
   "execution_count": 11,
   "metadata": {},
   "outputs": [],
   "source": [
    "rename_cols_and_overwrite_id(\"$OUT/entity_attribute_labels_quantity\", \".tsv\", \"type prop value\", \"node1 label node2\")"
   ]
  },
  {
   "cell_type": "code",
   "execution_count": 7,
   "metadata": {},
   "outputs": [
    {
     "data": {
      "text/html": [
       "<div>\n",
       "<style scoped>\n",
       "    .dataframe tbody tr th:only-of-type {\n",
       "        vertical-align: middle;\n",
       "    }\n",
       "\n",
       "    .dataframe tbody tr th {\n",
       "        vertical-align: top;\n",
       "    }\n",
       "\n",
       "    .dataframe thead th {\n",
       "        text-align: right;\n",
       "    }\n",
       "</style>\n",
       "<table border=\"1\" class=\"dataframe\">\n",
       "  <thead>\n",
       "    <tr style=\"text-align: right;\">\n",
       "      <th></th>\n",
       "      <th>entity</th>\n",
       "      <th>node1</th>\n",
       "      <th>label</th>\n",
       "      <th>node2</th>\n",
       "      <th>si_units</th>\n",
       "      <th>wd_units</th>\n",
       "      <th>type_label</th>\n",
       "      <th>property_label</th>\n",
       "      <th>id</th>\n",
       "    </tr>\n",
       "  </thead>\n",
       "  <tbody>\n",
       "    <tr>\n",
       "      <th>0</th>\n",
       "      <td>P1004</td>\n",
       "      <td>Q19829908</td>\n",
       "      <td>P4876</td>\n",
       "      <td>37427</td>\n",
       "      <td></td>\n",
       "      <td></td>\n",
       "      <td>'Wikidata property for authority control for p...</td>\n",
       "      <td>'number of records'@en</td>\n",
       "      <td>E1</td>\n",
       "    </tr>\n",
       "    <tr>\n",
       "      <th>1</th>\n",
       "      <td>P1004</td>\n",
       "      <td>Q24075706</td>\n",
       "      <td>P4876</td>\n",
       "      <td>37427</td>\n",
       "      <td></td>\n",
       "      <td></td>\n",
       "      <td>'Wikidata property for authority control, with...</td>\n",
       "      <td>'number of records'@en</td>\n",
       "      <td>E2</td>\n",
       "    </tr>\n",
       "    <tr>\n",
       "      <th>2</th>\n",
       "      <td>P1004</td>\n",
       "      <td>Q27525351</td>\n",
       "      <td>P4876</td>\n",
       "      <td>37427</td>\n",
       "      <td></td>\n",
       "      <td></td>\n",
       "      <td>'Wikidata property related to music'@en</td>\n",
       "      <td>'number of records'@en</td>\n",
       "      <td>E3</td>\n",
       "    </tr>\n",
       "    <tr>\n",
       "      <th>3</th>\n",
       "      <td>P1014</td>\n",
       "      <td>Q27918607</td>\n",
       "      <td>P4876</td>\n",
       "      <td>53249</td>\n",
       "      <td></td>\n",
       "      <td></td>\n",
       "      <td>'Wikidata property related to art'@en</td>\n",
       "      <td>'number of records'@en</td>\n",
       "      <td>E4</td>\n",
       "    </tr>\n",
       "    <tr>\n",
       "      <th>4</th>\n",
       "      <td>P1014</td>\n",
       "      <td>Q43831109</td>\n",
       "      <td>P4876</td>\n",
       "      <td>53249</td>\n",
       "      <td></td>\n",
       "      <td></td>\n",
       "      <td>'Wikidata property related to architecture'@en</td>\n",
       "      <td>'number of records'@en</td>\n",
       "      <td>E5</td>\n",
       "    </tr>\n",
       "  </tbody>\n",
       "</table>\n",
       "</div>"
      ],
      "text/plain": [
       "  entity      node1  label  node2 si_units wd_units  \\\n",
       "0  P1004  Q19829908  P4876  37427                     \n",
       "1  P1004  Q24075706  P4876  37427                     \n",
       "2  P1004  Q27525351  P4876  37427                     \n",
       "3  P1014  Q27918607  P4876  53249                     \n",
       "4  P1014  Q43831109  P4876  53249                     \n",
       "\n",
       "                                          type_label          property_label  \\\n",
       "0  'Wikidata property for authority control for p...  'number of records'@en   \n",
       "1  'Wikidata property for authority control, with...  'number of records'@en   \n",
       "2            'Wikidata property related to music'@en  'number of records'@en   \n",
       "3              'Wikidata property related to art'@en  'number of records'@en   \n",
       "4     'Wikidata property related to architecture'@en  'number of records'@en   \n",
       "\n",
       "   id  \n",
       "0  E1  \n",
       "1  E2  \n",
       "2  E3  \n",
       "3  E4  \n",
       "4  E5  "
      ]
     },
     "metadata": {},
     "output_type": "display_data"
    }
   ],
   "source": [
    "display(pd.read_csv(\"{}/entity_attribute_labels_quantity.tsv\".format(os.environ[\"OUT\"]), delimiter = '\\t', nrows=5).fillna(\"\"))\n"
   ]
  },
  {
   "cell_type": "markdown",
   "metadata": {},
   "source": [
    "## Now we will explore how we can discretize these labels"
   ]
  },
  {
   "cell_type": "code",
   "execution_count": 9,
   "metadata": {},
   "outputs": [],
   "source": [
    "# sorry this is hacky.\n",
    "time_labels_file = \"{}/entity_attribute_labels_time.year.tsv\".format(out_dir)\n",
    "quantity_labels_file = \"{}/entity_attribute_labels_quantity.tsv\".format(out_dir)"
   ]
  },
  {
   "cell_type": "markdown",
   "metadata": {},
   "source": [
    "We'll start by looking at year values as an example"
   ]
  },
  {
   "cell_type": "markdown",
   "metadata": {},
   "source": [
    "Taking a look at most prevalent type, property pairs within year-valued labels"
   ]
  },
  {
   "cell_type": "code",
   "execution_count": 23,
   "metadata": {
    "scrolled": true
   },
   "outputs": [
    {
     "name": "stdout",
     "output_type": "stream",
     "text": [
      "type       prop   count   type_label              property_label\r\n",
      "Q11424     P577   181080  'film'@en               'publication date'@en\r\n",
      "Q5         P569   180642  'human'@en              'date of birth'@en\r\n",
      "Q5         P570   63293   'human'@en              'date of death'@en\r\n",
      "Q5         P2031  55772   'human'@en              'work period (start)'@en\r\n",
      "Q20667187  P577   15284   'silent short film'@en  'publication date'@en\r\n"
     ]
    }
   ],
   "source": [
    "!kgtk query -i $OUT/entity_attribute_labels_time.year.tsv \\\n",
    "--graph-cache $STORE \\\n",
    "--match 'time: (type)-[l {label:p, entity:e, type_label:t_lab, property_label:p_lab}]->(val)' \\\n",
    "--return 'distinct type as type, p as prop, count(e) as count, t_lab as type_label, p_lab as property_label' \\\n",
    "--order-by 'count(e) desc' \\\n",
    "--limit 5 \\\n",
    "| column -t -s $'\\t'"
   ]
  },
  {
   "cell_type": "markdown",
   "metadata": {},
   "source": [
    "Let's look at year values for type = **film** prop = **publication date**"
   ]
  },
  {
   "cell_type": "markdown",
   "metadata": {},
   "source": [
    "First let's see what triples match these labels..."
   ]
  },
  {
   "cell_type": "code",
   "execution_count": 30,
   "metadata": {
    "scrolled": true
   },
   "outputs": [
    {
     "name": "stdout",
     "output_type": "stream",
     "text": [
      "entity     type    prop  year  entity_label                                                 type_label  property_label\r\n",
      "Q22694757  Q11424  P577  1895  'Discussion de Monsieur Janssen et de Monsieur Lagrange'@en  'film'@en   'publication date'@en\r\n",
      "Q25477658  Q11424  P577  1895  'Attilla No. 2'@en                                           'film'@en   'publication date'@en\r\n",
      "Q25477661  Q11424  P577  1895  'A Frontier Scene'@en                                        'film'@en   'publication date'@en\r\n",
      "Q25477665  Q11424  P577  1895  'Billy Edwards and the Unknown'@en                           'film'@en   'publication date'@en\r\n",
      "Q25477679  Q11424  P577  1895  'Charge of the Uhlans'@en                                    'film'@en   'publication date'@en\r\n",
      "Q25477707  Q11424  P577  1895  'Cricketer Jumping Over Garden Gate'@en                      'film'@en   'publication date'@en\r\n",
      "Q25477719  Q11424  P577  1895  'Cyclone Dance'@en                                           'film'@en   'publication date'@en\r\n",
      "Q25477757  Q11424  P577  1895  'Dance of Rejoicing'@en                                      'film'@en   'publication date'@en\r\n",
      "Q25477801  Q11424  P577  1895  'Dr. Colton or Dentist Scene'@en                             'film'@en   'publication date'@en\r\n",
      "Q25477813  Q11424  P577  1895  'Duel Between Two Historical Characters'@en                  'film'@en   'publication date'@en\r\n"
     ]
    }
   ],
   "source": [
    "!kgtk query -i $OUT/entity_attribute_labels_time.year.tsv -i $LABEL_FILE \\\n",
    "--graph-cache $STORE \\\n",
    "--match 'time: (type)-[l {label:p, entity:e, type_label:t_lab, property_label:p_lab}]->(val), `'\"$LABEL_FILE\"'`: (e)-[:label]->(e_lab)' \\\n",
    "--return 'distinct e as entity, type as type, p as prop, val as year, e_lab as entity_label, t_lab as type_label, p_lab as property_label' \\\n",
    "--where 'type = \"Q11424\" AND p = \"P577\" AND e_lab.kgtk_lqstring_lang_suffix = \"en\"' \\\n",
    "--order-by 'kgtk_quantity_number_int(val)' \\\n",
    "--limit 10 \\\n",
    "| column -t -s $'\\t'"
   ]
  },
  {
   "cell_type": "markdown",
   "metadata": {},
   "source": [
    "### Testing out DBSCAN with varying values for parameters epsilon and min_samples\n",
    "epsilon: distance away from a point that we consider \"in the neighborhood\" of that point\n",
    "\n",
    "min_samples: minimum number of points within a point's neighborhood (including the point itself) for us to consider these points as a core point\n",
    "\n",
    "core points and points within their neighborhoods form clusters"
   ]
  },
  {
   "cell_type": "markdown",
   "metadata": {},
   "source": [
    "**eps = 5, min_samples = 1**\n",
    "\n",
    "Note that with min_samples = 1, all points will belong to a cluster since a single point can constitute its own cluster."
   ]
  },
  {
   "cell_type": "code",
   "execution_count": 33,
   "metadata": {
    "scrolled": false
   },
   "outputs": [
    {
     "name": "stdout",
     "output_type": "stream",
     "text": [
      "Number of data points: 181080\n",
      "Estimated number of clusters: 2\n",
      "Estimated number of noise points: 0\n"
     ]
    },
    {
     "data": {
      "image/png": "[encoded data removed]",
      "text/plain": [
       "<Figure size 432x288 with 1 Axes>"
      ]
     },
     "metadata": {
      "needs_background": "light"
     },
     "output_type": "display_data"
    }
   ],
   "source": [
    "db, values = DBSCAN_label_subset(time_labels_file, l_type = \"Q11424\", l_prop = \"P577\", eps = 5, min_samples = 1)\n",
    "view_clustering(db.labels_, values, bin_size = 1)"
   ]
  },
  {
   "cell_type": "markdown",
   "metadata": {},
   "source": [
    "**eps = 3, min_samples = 10000**"
   ]
  },
  {
   "cell_type": "code",
   "execution_count": 34,
   "metadata": {
    "scrolled": true
   },
   "outputs": [
    {
     "name": "stdout",
     "output_type": "stream",
     "text": [
      "Number of data points: 181080\n",
      "Estimated number of clusters: 1\n",
      "Estimated number of noise points: 70175\n"
     ]
    },
    {
     "data": {
      "image/png": "[encoded data removed]",
      "text/plain": [
       "<Figure size 432x288 with 1 Axes>"
      ]
     },
     "metadata": {
      "needs_background": "light"
     },
     "output_type": "display_data"
    }
   ],
   "source": [
    "db, values = DBSCAN_label_subset(time_labels_file, l_type = \"Q11424\", l_prop = \"P577\", eps = 3, min_samples = 10000)\n",
    "view_clustering(db.labels_, values, bin_size = 1)"
   ]
  },
  {
   "cell_type": "markdown",
   "metadata": {},
   "source": [
    "**eps = 5, min_samples = 6000**"
   ]
  },
  {
   "cell_type": "code",
   "execution_count": 35,
   "metadata": {
    "scrolled": true
   },
   "outputs": [
    {
     "name": "stdout",
     "output_type": "stream",
     "text": [
      "Number of data points: 181080\n",
      "Estimated number of clusters: 1\n",
      "Estimated number of noise points: 458\n"
     ]
    },
    {
     "data": {
      "image/png": "[encoded data removed]",
      "text/plain": [
       "<Figure size 432x288 with 1 Axes>"
      ]
     },
     "metadata": {
      "needs_background": "light"
     },
     "output_type": "display_data"
    }
   ],
   "source": [
    "db, balues = DBSCAN_label_subset(time_labels_file, l_type = \"Q11424\", l_prop = \"P577\", eps = 5, min_samples = 6000)\n",
    "view_clustering(db.labels_, values, bin_size = 1)"
   ]
  },
  {
   "cell_type": "markdown",
   "metadata": {},
   "source": [
    "### If instead of DBSCAN we just use a fixed width of 5 years..."
   ]
  },
  {
   "cell_type": "code",
   "execution_count": 22,
   "metadata": {},
   "outputs": [],
   "source": [
    "labels, values = fixed_width_partition(time_labels_file, width = 1, l_type = \"Q11424\", l_prop = \"P577\")"
   ]
  },
  {
   "cell_type": "code",
   "execution_count": 24,
   "metadata": {},
   "outputs": [
    {
     "name": "stdout",
     "output_type": "stream",
     "text": [
      "Number of data points: 181080\n",
      "Estimated number of clusters: 130\n",
      "Estimated number of noise points: 0\n"
     ]
    },
    {
     "data": {
      "image/png": "[encoded data removed]",
      "text/plain": [
       "<Figure size 432x288 with 1 Axes>"
      ]
     },
     "metadata": {
      "needs_background": "light"
     },
     "output_type": "display_data"
    }
   ],
   "source": [
    "view_clustering(labels, values, max_hist_bin = 2025, bin_size = 1)"
   ]
  },
  {
   "cell_type": "code",
   "execution_count": 65,
   "metadata": {},
   "outputs": [],
   "source": [
    "labels, values = fixed_width_partition(time_labels_file, width = 5, l_type = \"Q11424\", l_prop = \"P577\")"
   ]
  },
  {
   "cell_type": "code",
   "execution_count": 66,
   "metadata": {},
   "outputs": [
    {
     "name": "stdout",
     "output_type": "stream",
     "text": [
      "Number of data points: 181080\n",
      "Estimated number of clusters: 27\n",
      "Estimated number of noise points: 0\n"
     ]
    },
    {
     "data": {
      "image/png": "[encoded data removed]",
      "text/plain": [
       "<Figure size 432x288 with 1 Axes>"
      ]
     },
     "metadata": {
      "needs_background": "light"
     },
     "output_type": "display_data"
    }
   ],
   "source": [
    "view_clustering(labels, values, max_hist_bin = 2025, bin_size = 1)"
   ]
  },
  {
   "cell_type": "markdown",
   "metadata": {},
   "source": [
    "## Or percentile-based binning:"
   ]
  },
  {
   "cell_type": "code",
   "execution_count": 88,
   "metadata": {
    "scrolled": true
   },
   "outputs": [
    {
     "name": "stdout",
     "output_type": "stream",
     "text": [
      "Number of data points: 181080\n",
      "Estimated number of clusters: 10\n",
      "Estimated number of noise points: 0\n"
     ]
    },
    {
     "data": {
      "image/png": "[encoded data removed]",
      "text/plain": [
       "<Figure size 432x288 with 1 Axes>"
      ]
     },
     "metadata": {
      "needs_background": "light"
     },
     "output_type": "display_data"
    }
   ],
   "source": [
    "labels, values = percentile_partition(time_labels_file, num_intervals = 10, l_type = \"Q11424\", l_prop = \"P577\")\n",
    "view_clustering(labels, values, max_hist_bin = 2025, bin_size=1)"
   ]
  },
  {
   "cell_type": "markdown",
   "metadata": {},
   "source": [
    "## Or KDE"
   ]
  },
  {
   "cell_type": "code",
   "execution_count": 121,
   "metadata": {},
   "outputs": [],
   "source": [
    "df = pd.read_csv(time_labels_file, delimiter='\\t')\n",
    "    \n",
    "# filter by type and property if given\n",
    "df = df.loc[df[\"node1\"] == \"Q11424\"]\n",
    "df = df.loc[df[\"label\"] == \"P577\"]\n",
    "a = np.array(df.loc[:,\"node2\"])"
   ]
  },
  {
   "cell_type": "code",
   "execution_count": 122,
   "metadata": {},
   "outputs": [],
   "source": [
    "from KDEpy import FFTKDE #pip install KDEpy"
   ]
  },
  {
   "cell_type": "code",
   "execution_count": 123,
   "metadata": {},
   "outputs": [
    {
     "name": "stdout",
     "output_type": "stream",
     "text": [
      "Minima: [1901.70917583 1922.34362291 1945.34984551 1957.68307825 1975.23421714]\n"
     ]
    },
    {
     "data": {
      "image/png": "[encoded data removed]",
      "text/plain": [
       "<Figure size 432x288 with 1 Axes>"
      ]
     },
     "metadata": {
      "needs_background": "light"
     },
     "output_type": "display_data"
    }
   ],
   "source": [
    "x, y = FFTKDE(bw=\"silverman\").fit(a).evaluate(2**10)\n",
    "plot(x, y)\n",
    "mi, ma = argrelextrema(y, np.less)[0], argrelextrema(y, np.greater)[0]\n",
    "print(\"Minima:\", x[mi])\n",
    "# print(\"Maxima:\", x[ma])"
   ]
  },
  {
   "cell_type": "code",
   "execution_count": 124,
   "metadata": {},
   "outputs": [
    {
     "name": "stdout",
     "output_type": "stream",
     "text": [
      "Minima: [1903.97959184 1921.93877551 1944.3877551  1957.85714286 1975.81632653\n",
      " 2070.10204082]\n"
     ]
    },
    {
     "data": {
      "image/png": "[encoded data removed]",
      "text/plain": [
       "<Figure size 432x288 with 1 Axes>"
      ]
     },
     "metadata": {
      "needs_background": "light"
     },
     "output_type": "display_data"
    }
   ],
   "source": [
    "from numpy import array, linspace\n",
    "from sklearn.neighbors import KernelDensity\n",
    "from matplotlib.pyplot import plot\n",
    "from scipy.signal import argrelextrema\n",
    "\n",
    "kde = KernelDensity(kernel='gaussian', bandwidth=2).fit(a.reshape(-1,1))\n",
    "s = linspace(0,50)\n",
    "s = linspace(min(a),max(a))\n",
    "e = kde.score_samples(s.reshape(-1,1))\n",
    "plot(s, e)\n",
    "\n",
    "mi, ma = argrelextrema(e, np.less)[0], argrelextrema(e, np.greater)[0]\n",
    "print(\"Minima:\", s[mi])\n",
    "# print(\"Maxima:\", s[ma])"
   ]
  },
  {
   "cell_type": "markdown",
   "metadata": {},
   "source": [
    "### Now using an automated approach to set DBSCAN parameters\n",
    "\n",
    "min_samples is chosen using a heuristic that is a function of number of data points\n",
    "\n",
    "epsilon will then be chosen based on the value for min_samples that was chosen. The distance you have to go from a given point to find min_samples number of points will be small and fairly similar for points that are in a more densley packed area, and larger for points in a more sparsely packed area. We want to set epsilon to some distance that will put the dense areas into clusters. To do this, we can plot the distances of the min_samples'th nearest neighbor from each point in increasing order of distance. If we look at where distance most sharply increases, this should correspond to the border between the distance for a point in a dense area and the distance for a point in a more sparse area. We'll choose this distance for epsilon."
   ]
  },
  {
   "cell_type": "code",
   "execution_count": 90,
   "metadata": {},
   "outputs": [
    {
     "name": "stdout",
     "output_type": "stream",
     "text": [
      "min_samples = 2000\n",
      "Computing distances to k'th nearest neighbor for each point where k = min_samples...\n",
      "knee found at distance 1.0\n",
      "CPU times: user 6min 10s, sys: 10.6 s, total: 6min 21s\n",
      "Wall time: 6min 16s\n"
     ]
    },
    {
     "data": {
      "image/png": "[encoded data removed]",
      "text/plain": [
       "<Figure size 432x432 with 1 Axes>"
      ]
     },
     "metadata": {
      "needs_background": "light"
     },
     "output_type": "display_data"
    }
   ],
   "source": [
    "%%time\n",
    "min_samples, epsilon = choose_DBSCAN_params(time_labels_file, l_type = \"Q11424\", l_prop = \"P577\", min_samples=2000)"
   ]
  },
  {
   "cell_type": "code",
   "execution_count": 125,
   "metadata": {
    "scrolled": false
   },
   "outputs": [
    {
     "name": "stdout",
     "output_type": "stream",
     "text": [
      "Number of data points: 181080\n",
      "Estimated number of clusters: 1\n",
      "Estimated number of noise points: 1651\n"
     ]
    },
    {
     "data": {
      "image/png": "[encoded data removed]",
      "text/plain": [
       "<Figure size 432x288 with 1 Axes>"
      ]
     },
     "metadata": {
      "needs_background": "light"
     },
     "output_type": "display_data"
    },
    {
     "name": "stdout",
     "output_type": "stream",
     "text": [
      "CPU times: user 12.9 s, sys: 9.88 s, total: 22.8 s\n",
      "Wall time: 22.8 s\n"
     ]
    }
   ],
   "source": [
    "%%time\n",
    "db, values = DBSCAN_label_subset(time_labels_file, l_type = \"Q11424\", l_prop = \"P577\", eps = epsilon, min_samples = min_samples)\n",
    "view_clustering(db.labels_, values, bin_size = 1)"
   ]
  },
  {
   "cell_type": "markdown",
   "metadata": {},
   "source": [
    "### We want explicit intervals, not just an assignment of the points we have to clusters.\n",
    "We can find intervals that are compatible with the clustering we have. Here is the result for the above clustering:"
   ]
  },
  {
   "cell_type": "code",
   "execution_count": 70,
   "metadata": {},
   "outputs": [
    {
     "data": {
      "text/plain": [
       "[(None, 1733.5), (1733.5, None)]"
      ]
     },
     "metadata": {},
     "output_type": "display_data"
    }
   ],
   "source": [
    "intervals = infer_intervals_from_clusters(values, db.labels_)\n",
    "display(intervals)"
   ]
  },
  {
   "cell_type": "markdown",
   "metadata": {},
   "source": [
    "### Next let's look at what the clustering looks like for another type that has more data samples\n",
    "We'll look at quantities now"
   ]
  },
  {
   "cell_type": "markdown",
   "metadata": {},
   "source": [
    "Taking a look at most prevalent type, property pairs within quantity-valued labels"
   ]
  },
  {
   "cell_type": "code",
   "execution_count": 41,
   "metadata": {
    "scrolled": true
   },
   "outputs": [],
   "source": [
    "!kgtk query -i $OUT/entity_attribute_labels_quantity.tsv -o $OUT/quantity_label_counts_by_type_prop.tsv \\\n",
    "--graph-cache $STORE \\\n",
    "--match 'quantity: (type)-[l {label:p, entity:e, type_label:t_lab, property_label:p_lab, si_units:si, wd_units:wd}]->(val)' \\\n",
    "--return 'distinct type as type, p as prop, si as si_units, wd as wd_units, count(e) as count, t_lab as type_label, p_lab as property_label' \\\n",
    "--order-by 'count(e) desc'"
   ]
  },
  {
   "cell_type": "code",
   "execution_count": 42,
   "metadata": {},
   "outputs": [
    {
     "data": {
      "text/html": [
       "<div>\n",
       "<style scoped>\n",
       "    .dataframe tbody tr th:only-of-type {\n",
       "        vertical-align: middle;\n",
       "    }\n",
       "\n",
       "    .dataframe tbody tr th {\n",
       "        vertical-align: top;\n",
       "    }\n",
       "\n",
       "    .dataframe thead th {\n",
       "        text-align: right;\n",
       "    }\n",
       "</style>\n",
       "<table border=\"1\" class=\"dataframe\">\n",
       "  <thead>\n",
       "    <tr style=\"text-align: right;\">\n",
       "      <th></th>\n",
       "      <th>type</th>\n",
       "      <th>prop</th>\n",
       "      <th>si_units</th>\n",
       "      <th>wd_units</th>\n",
       "      <th>count</th>\n",
       "      <th>type_label</th>\n",
       "      <th>property_label</th>\n",
       "    </tr>\n",
       "  </thead>\n",
       "  <tbody>\n",
       "    <tr>\n",
       "      <th>0</th>\n",
       "      <td>Q11424</td>\n",
       "      <td>P2047</td>\n",
       "      <td></td>\n",
       "      <td>Q7727</td>\n",
       "      <td>59448</td>\n",
       "      <td>'film'@en</td>\n",
       "      <td>'duration'@en</td>\n",
       "    </tr>\n",
       "    <tr>\n",
       "      <th>1</th>\n",
       "      <td>Q5</td>\n",
       "      <td>P2048</td>\n",
       "      <td></td>\n",
       "      <td>Q174728</td>\n",
       "      <td>5105</td>\n",
       "      <td>'human'@en</td>\n",
       "      <td>'height'@en</td>\n",
       "    </tr>\n",
       "    <tr>\n",
       "      <th>2</th>\n",
       "      <td>Q5</td>\n",
       "      <td>P1971</td>\n",
       "      <td></td>\n",
       "      <td></td>\n",
       "      <td>4500</td>\n",
       "      <td>'human'@en</td>\n",
       "      <td>'number of children'@en</td>\n",
       "    </tr>\n",
       "    <tr>\n",
       "      <th>3</th>\n",
       "      <td>Q24862</td>\n",
       "      <td>P2047</td>\n",
       "      <td></td>\n",
       "      <td>Q7727</td>\n",
       "      <td>3749</td>\n",
       "      <td>'short film'@en</td>\n",
       "      <td>'duration'@en</td>\n",
       "    </tr>\n",
       "    <tr>\n",
       "      <th>4</th>\n",
       "      <td>Q5</td>\n",
       "      <td>P2067</td>\n",
       "      <td></td>\n",
       "      <td>Q11570</td>\n",
       "      <td>3121</td>\n",
       "      <td>'human'@en</td>\n",
       "      <td>'mass'@en</td>\n",
       "    </tr>\n",
       "  </tbody>\n",
       "</table>\n",
       "</div>"
      ],
      "text/plain": [
       "     type   prop si_units wd_units  count       type_label  \\\n",
       "0  Q11424  P2047             Q7727  59448        'film'@en   \n",
       "1      Q5  P2048           Q174728   5105       'human'@en   \n",
       "2      Q5  P1971                     4500       'human'@en   \n",
       "3  Q24862  P2047             Q7727   3749  'short film'@en   \n",
       "4      Q5  P2067            Q11570   3121       'human'@en   \n",
       "\n",
       "            property_label  \n",
       "0            'duration'@en  \n",
       "1              'height'@en  \n",
       "2  'number of children'@en  \n",
       "3            'duration'@en  \n",
       "4                'mass'@en  "
      ]
     },
     "metadata": {},
     "output_type": "display_data"
    }
   ],
   "source": [
    "display(pd.read_csv(\"{}/quantity_label_counts_by_type_prop.tsv\".format(out_dir), delimiter = '\\t', nrows=5).fillna(\"\"))"
   ]
  },
  {
   "cell_type": "markdown",
   "metadata": {},
   "source": [
    "Let's look at values for type = **film** prop = **duration**"
   ]
  },
  {
   "cell_type": "code",
   "execution_count": 43,
   "metadata": {
    "scrolled": false
   },
   "outputs": [
    {
     "name": "stdout",
     "output_type": "stream",
     "text": [
      "Choosing min_samples = floor(ln(# data points)) = 10\n",
      "Computing distances to k'th nearest neighbor for each point where k = min_samples...\n",
      "knee found at distance 0.0\n"
     ]
    },
    {
     "data": {
      "image/png": "[encoded data removed]",
      "text/plain": [
       "<Figure size 432x432 with 1 Axes>"
      ]
     },
     "metadata": {
      "needs_background": "light"
     },
     "output_type": "display_data"
    }
   ],
   "source": [
    "min_samples, epsilon = choose_DBSCAN_params(quantity_labels_file, l_type = \"Q11424\", l_prop = \"P2047\")"
   ]
  },
  {
   "cell_type": "code",
   "execution_count": 44,
   "metadata": {
    "scrolled": false
   },
   "outputs": [
    {
     "ename": "ValueError",
     "evalue": "eps must be positive.",
     "output_type": "error",
     "traceback": [
      "\u001b[0;31m---------------------------------------------------------------------------\u001b[0m",
      "\u001b[0;31mValueError\u001b[0m                                Traceback (most recent call last)",
      "\u001b[0;32m<ipython-input-44-044feb23696d>\u001b[0m in \u001b[0;36m<module>\u001b[0;34m\u001b[0m\n\u001b[0;32m----> 1\u001b[0;31m \u001b[0mdb\u001b[0m\u001b[0;34m,\u001b[0m \u001b[0mvalues\u001b[0m \u001b[0;34m=\u001b[0m \u001b[0mDBSCAN_label_subset\u001b[0m\u001b[0;34m(\u001b[0m\u001b[0mquantity_labels_file\u001b[0m\u001b[0;34m,\u001b[0m \u001b[0ml_type\u001b[0m \u001b[0;34m=\u001b[0m \u001b[0;34m\"Q11424\"\u001b[0m\u001b[0;34m,\u001b[0m \u001b[0ml_prop\u001b[0m \u001b[0;34m=\u001b[0m \u001b[0;34m\"P2047\"\u001b[0m\u001b[0;34m,\u001b[0m \u001b[0meps\u001b[0m \u001b[0;34m=\u001b[0m \u001b[0mepsilon\u001b[0m\u001b[0;34m,\u001b[0m \u001b[0mmin_samples\u001b[0m \u001b[0;34m=\u001b[0m \u001b[0mmin_samples\u001b[0m\u001b[0;34m)\u001b[0m\u001b[0;34m\u001b[0m\u001b[0;34m\u001b[0m\u001b[0m\n\u001b[0m\u001b[1;32m      2\u001b[0m \u001b[0mview_clustering\u001b[0m\u001b[0;34m(\u001b[0m\u001b[0mdb\u001b[0m\u001b[0;34m.\u001b[0m\u001b[0mlabels_\u001b[0m\u001b[0;34m,\u001b[0m \u001b[0mvalues\u001b[0m\u001b[0;34m,\u001b[0m \u001b[0mbin_size\u001b[0m \u001b[0;34m=\u001b[0m \u001b[0;36m1000\u001b[0m\u001b[0;34m)\u001b[0m\u001b[0;34m\u001b[0m\u001b[0;34m\u001b[0m\u001b[0m\n",
      "\u001b[0;32m<ipython-input-32-a8fdcdfd661a>\u001b[0m in \u001b[0;36mDBSCAN_label_subset\u001b[0;34m(filename, eps, min_samples, l_type, l_prop, l_si, l_wd)\u001b[0m\n\u001b[1;32m     17\u001b[0m     \u001b[0mvalues\u001b[0m \u001b[0;34m=\u001b[0m \u001b[0mvalues_w_0s\u001b[0m\u001b[0;34m.\u001b[0m\u001b[0mloc\u001b[0m\u001b[0;34m[\u001b[0m\u001b[0;34m:\u001b[0m\u001b[0;34m,\u001b[0m\u001b[0;34m\"node2\"\u001b[0m\u001b[0;34m]\u001b[0m\u001b[0;34m\u001b[0m\u001b[0;34m\u001b[0m\u001b[0m\n\u001b[1;32m     18\u001b[0m \u001b[0;34m\u001b[0m\u001b[0m\n\u001b[0;32m---> 19\u001b[0;31m     \u001b[0mdb\u001b[0m \u001b[0;34m=\u001b[0m \u001b[0mDBSCAN\u001b[0m\u001b[0;34m(\u001b[0m\u001b[0meps\u001b[0m\u001b[0;34m=\u001b[0m\u001b[0meps\u001b[0m\u001b[0;34m,\u001b[0m \u001b[0mmin_samples\u001b[0m\u001b[0;34m=\u001b[0m\u001b[0mmin_samples\u001b[0m\u001b[0;34m)\u001b[0m\u001b[0;34m.\u001b[0m\u001b[0mfit\u001b[0m\u001b[0;34m(\u001b[0m\u001b[0mvalues_w_0s\u001b[0m\u001b[0;34m)\u001b[0m\u001b[0;34m\u001b[0m\u001b[0;34m\u001b[0m\u001b[0m\n\u001b[0m\u001b[1;32m     20\u001b[0m \u001b[0;34m\u001b[0m\u001b[0m\n\u001b[1;32m     21\u001b[0m     \u001b[0;32mreturn\u001b[0m \u001b[0;34m(\u001b[0m\u001b[0mdb\u001b[0m\u001b[0;34m,\u001b[0m \u001b[0mvalues\u001b[0m\u001b[0;34m)\u001b[0m\u001b[0;34m\u001b[0m\u001b[0;34m\u001b[0m\u001b[0m\n",
      "\u001b[0;32m~/anaconda3/envs/kgtk-env/lib/python3.8/site-packages/sklearn/cluster/_dbscan.py\u001b[0m in \u001b[0;36mfit\u001b[0;34m(self, X, y, sample_weight)\u001b[0m\n\u001b[1;32m    311\u001b[0m \u001b[0;34m\u001b[0m\u001b[0m\n\u001b[1;32m    312\u001b[0m         \u001b[0;32mif\u001b[0m \u001b[0;32mnot\u001b[0m \u001b[0mself\u001b[0m\u001b[0;34m.\u001b[0m\u001b[0meps\u001b[0m \u001b[0;34m>\u001b[0m \u001b[0;36m0.0\u001b[0m\u001b[0;34m:\u001b[0m\u001b[0;34m\u001b[0m\u001b[0;34m\u001b[0m\u001b[0m\n\u001b[0;32m--> 313\u001b[0;31m             \u001b[0;32mraise\u001b[0m \u001b[0mValueError\u001b[0m\u001b[0;34m(\u001b[0m\u001b[0;34m\"eps must be positive.\"\u001b[0m\u001b[0;34m)\u001b[0m\u001b[0;34m\u001b[0m\u001b[0;34m\u001b[0m\u001b[0m\n\u001b[0m\u001b[1;32m    314\u001b[0m \u001b[0;34m\u001b[0m\u001b[0m\n\u001b[1;32m    315\u001b[0m         \u001b[0;32mif\u001b[0m \u001b[0msample_weight\u001b[0m \u001b[0;32mis\u001b[0m \u001b[0;32mnot\u001b[0m \u001b[0;32mNone\u001b[0m\u001b[0;34m:\u001b[0m\u001b[0;34m\u001b[0m\u001b[0;34m\u001b[0m\u001b[0m\n",
      "\u001b[0;31mValueError\u001b[0m: eps must be positive."
     ]
    }
   ],
   "source": [
    "db, values = DBSCAN_label_subset(quantity_labels_file, l_type = \"Q11424\", l_prop = \"P2047\", eps = epsilon, min_samples = min_samples)\n",
    "view_clustering(db.labels_, values, bin_size = 1000)"
   ]
  },
  {
   "cell_type": "code",
   "execution_count": 77,
   "metadata": {},
   "outputs": [
    {
     "data": {
      "text/plain": [
       "[(None, 41699675.5),\n",
       " (41699675.5, 42070375.0),\n",
       " (42070375.0, 43152169.5),\n",
       " (43152169.5, 44616481.0),\n",
       " (44616481.0, 45753553.0),\n",
       " (45753553.0, 47679648.0),\n",
       " (47679648.0, 49304297.5),\n",
       " (49304297.5, 62309824.5),\n",
       " (62309824.5, 64595629.5),\n",
       " (64595629.5, 67584245.5),\n",
       " (67584245.5, 77075314.5),\n",
       " (77075314.5, 78851500.0),\n",
       " (78851500.0, 81415700.0),\n",
       " (81415700.0, 83064200.0),\n",
       " (83064200.0, None)]"
      ]
     },
     "metadata": {},
     "output_type": "display_data"
    }
   ],
   "source": [
    "intervals = infer_intervals_from_clusters(values, db.labels_)\n",
    "display(intervals)"
   ]
  },
  {
   "cell_type": "code",
   "execution_count": null,
   "metadata": {},
   "outputs": [],
   "source": []
  }
 ],
 "metadata": {
  "kernelspec": {
   "display_name": "Python 3",
   "language": "python",
   "name": "python3"
  },
  "language_info": {
   "codemirror_mode": {
    "name": "ipython",
    "version": 3
   },
   "file_extension": ".py",
   "mimetype": "text/x-python",
   "name": "python",
   "nbconvert_exporter": "python",
   "pygments_lexer": "ipython3",
   "version": "3.8.5"
  }
 },
 "nbformat": 4,
 "nbformat_minor": 4
}
