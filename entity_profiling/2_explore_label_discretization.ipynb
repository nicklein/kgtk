{
 "cells": [
  {
   "cell_type": "markdown",
   "metadata": {},
   "source": [
    "# Optional exploration of discretization methods used in the candidate_label_creation notebook\n",
    "In this notebook, we will explore how to discretize numeric-valued attribute labels.\n",
    "\n",
    "*What do we mean by \"discretize numeric-valued attribute labels\"?*  \n",
    "--> Example: If we look at the labels we have for \"beers that have an ABV of *X*\", we will get many labels that have different values that might be close together. By discretizing them, we will create bins of ABV values so that we can have labels that capture \"beers that have an ABV between *Y* and *Z*\". This should give us labels that are applicable to more entities and are hopefully more meaningful for profiling.\n",
    "\n",
    "*What methods will we explore?*  \n",
    "--> The paper that this entity profiling procedure is based on mentions using a fixed-width bin size for certain numeric types like years, and a density-based discretization method otherwise. We will look at using fixed-width bins, but we will primarily look at DBSCAN (Density-based spatial clustering of applications with noise). We will also see how we can automate selecting parameters for DBSCAN. Another tool that may be better suited for our task that we plan to explore in the future is KDE (Kernel Density Estimation).\n",
    "\n",
    "*What method is used in the candidate label creation notebook?*  \n",
    "--> DBSCAN + automated parameter selection to create clusters, then infer bin-ranges from the clusters."
   ]
  },
  {
   "cell_type": "markdown",
   "metadata": {},
   "source": [
    "### Pre-requisite steps to run this notebook\n",
    "1. You need to run the candidate_label_creation notebook before this notebook. Once you have completed step 2 of that notebook (AVL creation), then you can run this one.\n",
    "2. kneed (https://pypi.org/project/kneed/) is a dependency. Install this either through Anaconda with `conda install -c conda-forge kneed`, or through pip with `pip install kneed`"
   ]
  },
  {
   "cell_type": "code",
   "execution_count": 18,
   "metadata": {},
   "outputs": [],
   "source": [
    "import matplotlib.pyplot as plt\n",
    "import numpy as np\n",
    "import os\n",
    "import pandas as pd\n",
    "from sklearn.cluster import DBSCAN\n",
    "from sklearn.neighbors import NearestNeighbors\n",
    "from kneed import KneeLocator"
   ]
  },
  {
   "cell_type": "markdown",
   "metadata": {},
   "source": [
    "### Parameters\n",
    "**Required**  \n",
    "*label_file*: file path for the file that contains wikidata labels  \n",
    "*work_dir*: path to work_dir that was specified in the candidate_label_creation notebook. We will look for files in this folder that were created by the candidate_label_creation notebook.  \n",
    "*store_dir*: path to folder containing the sqlite3.db file that we will use for our queries. We will reuse an existing file if there is one in this folder. Otherwise we will create a new one."
   ]
  },
  {
   "cell_type": "code",
   "execution_count": 5,
   "metadata": {},
   "outputs": [],
   "source": [
    "# **REQUIRED**\n",
    "label_file = \"../../Q44/data/Q44.label.en.tsv\"\n",
    "work_dir = \"../../Q44/profiler_work\"\n",
    "store_dir = \"../../Q44\""
   ]
  },
  {
   "cell_type": "markdown",
   "metadata": {},
   "source": [
    "### Process parameters and set up variables / file names"
   ]
  },
  {
   "cell_type": "code",
   "execution_count": 41,
   "metadata": {},
   "outputs": [],
   "source": [
    "# Ensure paths are absolute\n",
    "label_file = os.path.abspath(label_file)\n",
    "work_dir = os.path.abspath(work_dir)\n",
    "store_dir = os.path.abspath(store_dir)\n",
    "\n",
    "# files that we assume were created by candidate_label_creation and intend to use in this notebook\n",
    "year_file = \"{}/label_creation/entity_attribute_labels_time.year.tsv\".format(work_dir)\n",
    "quantity_file = \"{}/label_creation/entity_attribute_labels_quantity.tsv\".format(work_dir)\n",
    "\n",
    "# Check that necessary files created by candidate_label_creation notebook exist where we think they do\n",
    "if not os.path.isfile(year_file):\n",
    "    print(\"Error - could not find file that should have been created by candidate label creation notebook: {}\".format(year_file))\n",
    "if not os.path.isfile(quantity_file):\n",
    "    print(\"Error - could not find file that should have been created by candidate label creation notebook: {}\".format(quantity_file))\n",
    "\n",
    "# Create subdirectory where files created by this notebook can go \n",
    "out_dir = \"{}/explore_label_disc\".format(work_dir)\n",
    "if not os.path.exists(out_dir):\n",
    "    os.makedirs(out_dir)\n",
    "\n",
    "# adding some environment variables we'll be using frequently\n",
    "os.environ['YEAR_FILE'] = year_file\n",
    "os.environ['QUANTITY_FILE'] = quantity_file\n",
    "os.environ['LABEL_FILE'] = label_file\n",
    "os.environ['STORE'] = \"{}/wikidata.sqlite3.db\".format(store_dir)\n",
    "os.environ['OUT'] = out_dir\n"
   ]
  },
  {
   "cell_type": "markdown",
   "metadata": {},
   "source": [
    "### Helpers for using DBSCAN to create clusters and viewing them"
   ]
  },
  {
   "cell_type": "code",
   "execution_count": 58,
   "metadata": {},
   "outputs": [],
   "source": [
    "# Uses DBSCAN to assign labels of a particular type and property to clusters\n",
    "def DBSCAN_label_subset(filename, eps, min_samples, l_type, l_prop, l_si = None, l_wd = None):\n",
    "    df = pd.read_csv(filename, delimiter='\\t')\n",
    "    \n",
    "    # dbscan expects multiple dimensions\n",
    "    df[\"zeros\"]=0\n",
    "    \n",
    "    # filter by type and property, and units if given\n",
    "    df = df.loc[df[\"node1\"] == l_type]\n",
    "    df = df.loc[df[\"label\"] == l_prop]\n",
    "    if l_si is not None:\n",
    "        df = df.loc[df[\"si_units\"] == l_si]\n",
    "    if l_wd is not None:\n",
    "        df = df.loc[df[\"wd_units\"] == l_wd]\n",
    "        \n",
    "    values_w_0s = df.loc[:, [\"node2\", \"zeros\"]]\n",
    "    values = values_w_0s.loc[:,\"node2\"]\n",
    "    \n",
    "    db = DBSCAN(eps=eps, min_samples=min_samples).fit(values_w_0s)\n",
    "\n",
    "    return (db, values)\n",
    "\n",
    "\n",
    "# Chooses values for the epsilon and min_samples parameters of DBSCAN to be used for\n",
    "# clustering labels of a given type and property.\n",
    "def choose_DBSCAN_params(filename, l_type, l_prop, l_si = None, l_wd = None):\n",
    "    df = pd.read_csv(filename, delimiter='\\t')\n",
    "    \n",
    "    # filter by type and property, and units if given\n",
    "    df = df.loc[df[\"node1\"] == l_type]\n",
    "    df = df.loc[df[\"label\"] == l_prop]\n",
    "    if l_si is not None:\n",
    "        df = df.loc[df[\"si_units\"] == l_si]\n",
    "    if l_wd is not None:\n",
    "        df = df.loc[df[\"wd_units\"] == l_wd]\n",
    "        \n",
    "    values = np.array(df.loc[:,\"node2\"]).reshape(-1, 1)\n",
    "    \n",
    "    # min_samples would ideally be set with some domain-insight.\n",
    "    # To make this automated, we'll use a heuristic - ln(number of data points)\n",
    "    min_samples = int(np.floor(np.log(len(values))))\n",
    "    min_samples = max(min_samples, 1) # don't choose a number less than 1\n",
    "    print(\"Choosing min_samples = floor(ln(# data points)) = {}\".format(min_samples))\n",
    "    \n",
    "    # epsilon can be chosen by plotting the distances of the k'th nearest neighbor from each point\n",
    "    # where k is min_samples. Points that belong to clusters should have smaller distances, whereas\n",
    "    # noise points can have distances that are much farther. We'll look for a knee in this graph to set epsilon.\n",
    "    print(\"Computing distances to k'th nearest neighbor for each point where k = min_samples...\")\n",
    "    \n",
    "    neigh = NearestNeighbors(n_neighbors = min_samples + 1) # +1 so we find k'th nearest neighbor not including the point iteslf.\n",
    "    values_neigh = neigh.fit(values)\n",
    "    distances, indices = values_neigh.kneighbors(values)\n",
    "    distances = np.sort(distances[:,min_samples], axis = 0)\n",
    "    \n",
    "    kneedle = KneeLocator(range(len(distances)), distances, S=1, curve='convex', direction='increasing', interp_method = 'polynomial')\n",
    "    kneedle.plot_knee()\n",
    "    plt.xlabel(\"Points\")\n",
    "    plt.ylabel(\"Distance\")\n",
    "\n",
    "    print(\"knee found at distance {}\".format(kneedle.knee_y))\n",
    "    epsilon = kneedle.knee_y\n",
    "    \n",
    "    return (min_samples, epsilon)\n",
    "\n",
    "\n",
    "# Given values that have been assigned to clusters,\n",
    "# return a list of intervals that are consistent with these clusters\n",
    "def infer_intervals_from_clusters(values, labels):\n",
    "    \n",
    "    values = np.array(values)\n",
    "    labels = np.array(labels)\n",
    "    \n",
    "    # sort values and corresponding labels in ascending order\n",
    "    labels = np.array([l for l, v in sorted(zip(labels, values), key=lambda pair: pair[1])])\n",
    "    values.sort()\n",
    "    \n",
    "    intervals = [(None, None)] # initially a single interval with no lower or upper bound\n",
    "    \n",
    "    cur_label = labels[0]\n",
    "    for i in range(len(labels)):\n",
    "        # if new label, set upper bound of previous interval,\n",
    "        # and start lower bound of a new interval.\n",
    "        if labels[i] != cur_label:\n",
    "            prev_interval_lb = (intervals[-1])[0]\n",
    "            new_interval_edge = values[i-1] + ((values[i] - values[i-1]) / 2)\n",
    "            intervals[-1] = (prev_interval_lb, new_interval_edge)\n",
    "            intervals.append((new_interval_edge, None))\n",
    "            cur_label = labels[i]\n",
    "    \n",
    "    return intervals\n",
    "    \n",
    "\n",
    "def fixed_width_partition(filename, width, l_type, l_prop):\n",
    "    df = pd.read_csv(filename, delimiter='\\t')\n",
    "    \n",
    "   # filter by type and property if given\n",
    "    if l_type is not None:\n",
    "        df = df.loc[df[\"node1\"] == l_type]\n",
    "    if l_prop is not None:\n",
    "        df = df.loc[df[\"label\"] == l_prop]\n",
    "        \n",
    "    values = df.loc[:,\"node2\"]\n",
    "    labels = values - (values % width)\n",
    "    \n",
    "    return (labels, values)\n",
    "    \n",
    "\n",
    "def view_clustering(labels, values, min_hist_bin = None, max_hist_bin = None, bin_size = None):\n",
    "    if min_hist_bin is None:\n",
    "        min_hist_bin = values.min() - 1\n",
    "    if max_hist_bin is None:\n",
    "        max_hist_bin = values.max() + 1\n",
    "    if bin_size is None:\n",
    "        bin_size = (max_hist_bin - min_hist_bin) / 10 # default 10 bins\n",
    "\n",
    "    # Number of clusters in labels, ignoring noise if present.\n",
    "    n_clusters_ = len(set(labels)) - (1 if -1 in labels else 0)\n",
    "    n_noise_ = list(labels).count(-1)\n",
    "\n",
    "    print('Number of data points: {}'.format(len(labels)))\n",
    "    print('Estimated number of clusters: %d' % n_clusters_)\n",
    "    print('Estimated number of noise points: %d' % n_noise_)\n",
    "\n",
    "\n",
    "    unique_labels = set(labels)\n",
    "    colors = [plt.cm.Spectral(each)\n",
    "              for each in np.linspace(.05, .9, len(unique_labels))]\n",
    "    \n",
    "    ax = plt.gca()\n",
    "    ax.set_facecolor(\"xkcd:silver\")\n",
    "\n",
    "    for k, col in zip(unique_labels, colors):\n",
    "        #col = [0.3686274509803922, 0.30980392156862746, 0.6352941176470588, 1.0]\n",
    "        if k == -1:\n",
    "            # Black used for noise.\n",
    "            col = [0, 0, 0, 1]\n",
    "\n",
    "        class_member_mask = (labels == k)\n",
    "\n",
    "        xy = values.loc[class_member_mask]\n",
    "        plt.hist(xy, color=tuple(col), bins = np.arange(min_hist_bin, max_hist_bin, bin_size), histtype = 'step')\n",
    "\n",
    "    plt.xlabel(\"value\")\n",
    "    plt.ylabel(\"count\")\n",
    "    plt.title('Estimated number of clusters: %d' % n_clusters_)\n",
    "    plt.show()"
   ]
  },
  {
   "cell_type": "markdown",
   "metadata": {},
   "source": [
    "## Exploring ways to discretize labels\n",
    "We'll start by looking at year values as an example"
   ]
  },
  {
   "cell_type": "markdown",
   "metadata": {},
   "source": [
    "Taking a look at most prevalent type, property pairs within year-valued labels"
   ]
  },
  {
   "cell_type": "code",
   "execution_count": 13,
   "metadata": {
    "scrolled": true
   },
   "outputs": [
    {
     "name": "stdout",
     "output_type": "stream",
     "text": [
      "entity  node1     label  node2  type_label            property_label  id\r\n",
      "Q1011   Q112099   P571   1975   'island nation'@en    'inception'@en  E1\r\n",
      "Q1011   Q3624078  P571   1975   'sovereign state'@en  'inception'@en  E2\r\n",
      "Q1019   Q112099   P571   1960   'island nation'@en    'inception'@en  E3\r\n",
      "Q1019   Q3624078  P571   1960   'sovereign state'@en  'inception'@en  E4\r\n"
     ]
    }
   ],
   "source": [
    "!head -5 $YEAR_FILE | column -t -s $'\\t'"
   ]
  },
  {
   "cell_type": "code",
   "execution_count": 14,
   "metadata": {
    "scrolled": true
   },
   "outputs": [
    {
     "name": "stdout",
     "output_type": "stream",
     "text": [
      "type      prop  count  type_label            property_label\r\n",
      "Q3624078  P571  88     'sovereign state'@en  'inception'@en\r\n",
      "Q4830453  P571  50     'business'@en         'inception'@en\r\n",
      "Q131734   P571  45     'brewery'@en          'inception'@en\r\n",
      "Q6256     P571  31     'country'@en          'inception'@en\r\n",
      "Q6881511  P571  24     'enterprise'@en       'inception'@en\r\n"
     ]
    }
   ],
   "source": [
    "!kgtk query -i $YEAR_FILE \\\n",
    "--graph-cache $STORE \\\n",
    "--match '`'\"$YEAR_FILE\"'`: (type)-[l {label:p, entity:e, type_label:t_lab, property_label:p_lab}]->(val)' \\\n",
    "--return 'distinct type as type, p as prop, count(e) as count, t_lab as type_label, p_lab as property_label' \\\n",
    "--order-by 'count(e) desc' \\\n",
    "--limit 5 \\\n",
    "| column -t -s $'\\t'"
   ]
  },
  {
   "cell_type": "markdown",
   "metadata": {},
   "source": [
    "Let's look at year values for type = **business** prop = **inception**"
   ]
  },
  {
   "cell_type": "markdown",
   "metadata": {},
   "source": [
    "First let's see what triples match these labels..."
   ]
  },
  {
   "cell_type": "code",
   "execution_count": 16,
   "metadata": {
    "scrolled": true
   },
   "outputs": [
    {
     "name": "stdout",
     "output_type": "stream",
     "text": [
      "entity     type      prop  year  entity_label                    type_label     property_label\r\n",
      "Q562552    Q4830453  P571  1333  'Oettinger Brewery'@en          'business'@en  'inception'@en\r\n",
      "Q153075    Q4830453  P571  1615  'Grolsch Brewery'@en            'business'@en  'inception'@en\r\n",
      "Q1397604   Q4830453  P571  1664  'Kronenbourg Brewery'@en        'business'@en  'inception'@en\r\n",
      "Q12002324  Q4830453  P571  1698  'Shepherd Neame Brewery'@en     'business'@en  'inception'@en\r\n",
      "Q1164954   Q4830453  P571  1769  'Dubuisson Brewery'@en          'business'@en  'inception'@en\r\n",
      "Q609966    Q4830453  P571  1795  'Budweiser Bier Bürgerbräu'@en  'business'@en  'inception'@en\r\n",
      "Q2601227   Q4830453  P571  1819  'Sinebrychoff'@en               'business'@en  'inception'@en\r\n",
      "Q3640368   Q4830453  P571  1846  'Peroni'@en                     'business'@en  'inception'@en\r\n",
      "Q865859    Q4830453  P571  1846  'Peroni Brewery'@en             'business'@en  'inception'@en\r\n",
      "Q113215    Q4830453  P571  1847  'Carlsberg Group'@en            'business'@en  'inception'@en\r\n"
     ]
    }
   ],
   "source": [
    "!kgtk query -i $YEAR_FILE -i $LABEL_FILE \\\n",
    "--graph-cache $STORE \\\n",
    "--match '`'\"$YEAR_FILE\"'`: (type)-[l {label:p, entity:e, type_label:t_lab, property_label:p_lab}]->(val), `'\"$LABEL_FILE\"'`: (e)-[:label]->(e_lab)' \\\n",
    "--return 'distinct e as entity, type as type, p as prop, val as year, e_lab as entity_label, t_lab as type_label, p_lab as property_label' \\\n",
    "--where 'type = \"Q4830453\" AND p = \"P571\" AND e_lab.kgtk_lqstring_lang_suffix = \"en\"' \\\n",
    "--order-by 'kgtk_quantity_number_int(val)' \\\n",
    "--limit 10 \\\n",
    "| column -t -s $'\\t'"
   ]
  },
  {
   "cell_type": "markdown",
   "metadata": {},
   "source": [
    "### Testing out DBSCAN with varying values for parameters epsilon and min_samples\n",
    "epsilon: distance away from a point that we consider \"in the neighborhood\" of that point\n",
    "\n",
    "min_samples: minimum number of points within a point's neighborhood (including the point itself) for us to consider these points as a core point\n",
    "\n",
    "core points and points within their neighborhoods form clusters"
   ]
  },
  {
   "cell_type": "markdown",
   "metadata": {},
   "source": [
    "**eps = 5, min_samples = 1**\n",
    "\n",
    "Note that with min_samples = 1, all points will belong to a cluster since a single point can constitute its own cluster."
   ]
  },
  {
   "cell_type": "code",
   "execution_count": 59,
   "metadata": {
    "scrolled": false
   },
   "outputs": [
    {
     "name": "stdout",
     "output_type": "stream",
     "text": [
      "Number of data points: 50\n",
      "Estimated number of clusters: 20\n",
      "Estimated number of noise points: 0\n"
     ]
    },
    {
     "data": {
      "image/png": "[encoded data removed]",
      "text/plain": [
       "<Figure size 432x288 with 1 Axes>"
      ]
     },
     "metadata": {
      "needs_background": "light"
     },
     "output_type": "display_data"
    }
   ],
   "source": [
    "db_bus_incep, values_bus_incep = DBSCAN_label_subset(year_file, l_type = \"Q4830453\", l_prop = \"P571\", eps = 5, min_samples = 1)\n",
    "view_clustering(db_bus_incep.labels_, values_bus_incep, bin_size = 1)"
   ]
  },
  {
   "cell_type": "markdown",
   "metadata": {},
   "source": [
    "zooming in..."
   ]
  },
  {
   "cell_type": "code",
   "execution_count": 60,
   "metadata": {
    "scrolled": true
   },
   "outputs": [
    {
     "name": "stdout",
     "output_type": "stream",
     "text": [
      "Number of data points: 50\n",
      "Estimated number of clusters: 20\n",
      "Estimated number of noise points: 0\n"
     ]
    },
    {
     "data": {
      "image/png": "[encoded data removed]",
      "text/plain": [
       "<Figure size 432x288 with 1 Axes>"
      ]
     },
     "metadata": {
      "needs_background": "light"
     },
     "output_type": "display_data"
    }
   ],
   "source": [
    "view_clustering(db_bus_incep.labels_, values_bus_incep, 1650, 2000, 1)"
   ]
  },
  {
   "cell_type": "markdown",
   "metadata": {},
   "source": [
    "**eps = 10, min_samples = 1**"
   ]
  },
  {
   "cell_type": "code",
   "execution_count": 61,
   "metadata": {
    "scrolled": true
   },
   "outputs": [
    {
     "name": "stdout",
     "output_type": "stream",
     "text": [
      "Number of data points: 50\n",
      "Estimated number of clusters: 11\n",
      "Estimated number of noise points: 0\n"
     ]
    },
    {
     "data": {
      "image/png": "[encoded data removed]",
      "text/plain": [
       "<Figure size 432x288 with 1 Axes>"
      ]
     },
     "metadata": {
      "needs_background": "light"
     },
     "output_type": "display_data"
    }
   ],
   "source": [
    "db_bus_incep, values_bus_incep = DBSCAN_label_subset(year_file, l_type = \"Q4830453\", l_prop = \"P571\", eps = 10, min_samples = 1)\n",
    "view_clustering(db_bus_incep.labels_, values_bus_incep, bin_size = 1)"
   ]
  },
  {
   "cell_type": "markdown",
   "metadata": {},
   "source": [
    "zooming in..."
   ]
  },
  {
   "cell_type": "code",
   "execution_count": 62,
   "metadata": {},
   "outputs": [
    {
     "name": "stdout",
     "output_type": "stream",
     "text": [
      "Number of data points: 50\n",
      "Estimated number of clusters: 11\n",
      "Estimated number of noise points: 0\n"
     ]
    },
    {
     "data": {
      "image/png": "[encoded data removed]",
      "text/plain": [
       "<Figure size 432x288 with 1 Axes>"
      ]
     },
     "metadata": {
      "needs_background": "light"
     },
     "output_type": "display_data"
    }
   ],
   "source": [
    "view_clustering(db_bus_incep.labels_, values_bus_incep, 1650, 2000, 1)"
   ]
  },
  {
   "cell_type": "markdown",
   "metadata": {},
   "source": [
    "**eps = 5, min_samples = 10**\n",
    "\n",
    "Note that since min_samples is now > 1, there will be some noise points - points that aren't assigned to a cluster. These are shown in black."
   ]
  },
  {
   "cell_type": "code",
   "execution_count": 63,
   "metadata": {
    "scrolled": true
   },
   "outputs": [
    {
     "name": "stdout",
     "output_type": "stream",
     "text": [
      "Number of data points: 50\n",
      "Estimated number of clusters: 8\n",
      "Estimated number of noise points: 12\n"
     ]
    },
    {
     "data": {
      "image/png": "[encoded data removed]",
      "text/plain": [
       "<Figure size 432x288 with 1 Axes>"
      ]
     },
     "metadata": {
      "needs_background": "light"
     },
     "output_type": "display_data"
    }
   ],
   "source": [
    "db_bus_incep, values_bus_incep = DBSCAN_label_subset(year_file, l_type = \"Q4830453\", l_prop = \"P571\", eps = 5, min_samples = 2)\n",
    "view_clustering(db_bus_incep.labels_, values_bus_incep, bin_size = 1)"
   ]
  },
  {
   "cell_type": "markdown",
   "metadata": {},
   "source": [
    "zooming in..."
   ]
  },
  {
   "cell_type": "code",
   "execution_count": 64,
   "metadata": {
    "scrolled": false
   },
   "outputs": [
    {
     "name": "stdout",
     "output_type": "stream",
     "text": [
      "Number of data points: 50\n",
      "Estimated number of clusters: 8\n",
      "Estimated number of noise points: 12\n"
     ]
    },
    {
     "data": {
      "image/png": "[encoded data removed]",
      "text/plain": [
       "<Figure size 432x288 with 1 Axes>"
      ]
     },
     "metadata": {
      "needs_background": "light"
     },
     "output_type": "display_data"
    }
   ],
   "source": [
    "view_clustering(db_bus_incep.labels_, values_bus_incep, 1650, 2000, 1)"
   ]
  },
  {
   "cell_type": "markdown",
   "metadata": {},
   "source": [
    "### If instead of DBSCAN we just use a fixed width of 5 years..."
   ]
  },
  {
   "cell_type": "code",
   "execution_count": 65,
   "metadata": {},
   "outputs": [],
   "source": [
    "labels_bus_incep, values_bus_incep = fixed_width_partition(year_file, width = 5, l_type = \"Q4830453\", l_prop = \"P571\")"
   ]
  },
  {
   "cell_type": "code",
   "execution_count": 66,
   "metadata": {},
   "outputs": [
    {
     "name": "stdout",
     "output_type": "stream",
     "text": [
      "Number of data points: 50\n",
      "Estimated number of clusters: 31\n",
      "Estimated number of noise points: 0\n"
     ]
    },
    {
     "data": {
      "image/png": "[encoded data removed]",
      "text/plain": [
       "<Figure size 432x288 with 1 Axes>"
      ]
     },
     "metadata": {
      "needs_background": "light"
     },
     "output_type": "display_data"
    }
   ],
   "source": [
    "view_clustering(labels_bus_incep, values_bus_incep, bin_size = 1)"
   ]
  },
  {
   "cell_type": "markdown",
   "metadata": {},
   "source": [
    "zooming in..."
   ]
  },
  {
   "cell_type": "code",
   "execution_count": 67,
   "metadata": {},
   "outputs": [
    {
     "name": "stdout",
     "output_type": "stream",
     "text": [
      "Number of data points: 50\n",
      "Estimated number of clusters: 31\n",
      "Estimated number of noise points: 0\n"
     ]
    },
    {
     "data": {
      "image/png": "[encoded data removed]",
      "text/plain": [
       "<Figure size 432x288 with 1 Axes>"
      ]
     },
     "metadata": {
      "needs_background": "light"
     },
     "output_type": "display_data"
    }
   ],
   "source": [
    "view_clustering(labels_bus_incep, values_bus_incep, 1650, 2000, 1)"
   ]
  },
  {
   "cell_type": "markdown",
   "metadata": {},
   "source": [
    "### Now using an automated approach to set DBSCAN parameters\n",
    "\n",
    "min_samples is chosen using a heuristic that is a function of number of data points\n",
    "\n",
    "epsilon will then be chosen based on the value for min_samples that was chosen. The distance you have to go from a given point to find min_samples number of points will be small and fairly similar for points that are in a more densley packed area, and larger for points in a more sparsely packed area. We want to set epsilon to some distance that will put the dense areas into clusters. To do this, we can plot the distances of the min_samples'th nearest neighbor from each point in increasing order of distance. If we look at where distance most sharply increases, this should correspond to the border between the distance for a point in a dense area and the distance for a point in a more sparse area. We'll choose this distance for epsilon."
   ]
  },
  {
   "cell_type": "code",
   "execution_count": 68,
   "metadata": {},
   "outputs": [
    {
     "name": "stdout",
     "output_type": "stream",
     "text": [
      "Choosing min_samples = floor(ln(# data points)) = 3\n",
      "Computing distances to k'th nearest neighbor for each point where k = min_samples...\n",
      "knee found at distance 27.0\n"
     ]
    },
    {
     "data": {
      "image/png": "[encoded data removed]",
      "text/plain": [
       "<Figure size 432x432 with 1 Axes>"
      ]
     },
     "metadata": {
      "needs_background": "light"
     },
     "output_type": "display_data"
    }
   ],
   "source": [
    "min_samples, epsilon = choose_DBSCAN_params(year_file, l_type = \"Q4830453\", l_prop = \"P571\")"
   ]
  },
  {
   "cell_type": "code",
   "execution_count": 69,
   "metadata": {
    "scrolled": true
   },
   "outputs": [
    {
     "name": "stdout",
     "output_type": "stream",
     "text": [
      "Number of data points: 50\n",
      "Estimated number of clusters: 1\n",
      "Estimated number of noise points: 4\n"
     ]
    },
    {
     "data": {
      "image/png": "[encoded data removed]",
      "text/plain": [
       "<Figure size 432x288 with 1 Axes>"
      ]
     },
     "metadata": {
      "needs_background": "light"
     },
     "output_type": "display_data"
    }
   ],
   "source": [
    "db_bus_incep, values_bus_incep = DBSCAN_label_subset(year_file, l_type = \"Q4830453\", l_prop = \"P571\", eps = epsilon, min_samples = min_samples)\n",
    "view_clustering(db_bus_incep.labels_, values_bus_incep, bin_size = 1)"
   ]
  },
  {
   "cell_type": "markdown",
   "metadata": {},
   "source": [
    "### We want explicit intervals, not just an assignment of the points we have to clusters.\n",
    "We can find intervals that are compatible with the clustering we have. Here is the result for the above clustering:"
   ]
  },
  {
   "cell_type": "code",
   "execution_count": 70,
   "metadata": {},
   "outputs": [
    {
     "data": {
      "text/plain": [
       "[(None, 1733.5), (1733.5, None)]"
      ]
     },
     "metadata": {},
     "output_type": "display_data"
    }
   ],
   "source": [
    "intervals = infer_intervals_from_clusters(values_bus_incep, db_bus_incep.labels_)\n",
    "display(intervals)"
   ]
  },
  {
   "cell_type": "markdown",
   "metadata": {},
   "source": [
    "### Next let's look at what the clustering looks like for another type that has more data samples\n",
    "We'll look at quantities now"
   ]
  },
  {
   "cell_type": "markdown",
   "metadata": {},
   "source": [
    "Taking a look at most prevalent type, property pairs within quantity-valued labels"
   ]
  },
  {
   "cell_type": "code",
   "execution_count": 71,
   "metadata": {},
   "outputs": [
    {
     "data": {
      "text/html": [
       "<div>\n",
       "<style scoped>\n",
       "    .dataframe tbody tr th:only-of-type {\n",
       "        vertical-align: middle;\n",
       "    }\n",
       "\n",
       "    .dataframe tbody tr th {\n",
       "        vertical-align: top;\n",
       "    }\n",
       "\n",
       "    .dataframe thead th {\n",
       "        text-align: right;\n",
       "    }\n",
       "</style>\n",
       "<table border=\"1\" class=\"dataframe\">\n",
       "  <thead>\n",
       "    <tr style=\"text-align: right;\">\n",
       "      <th></th>\n",
       "      <th>entity</th>\n",
       "      <th>node1</th>\n",
       "      <th>label</th>\n",
       "      <th>node2</th>\n",
       "      <th>si_units</th>\n",
       "      <th>wd_units</th>\n",
       "      <th>type_label</th>\n",
       "      <th>property_label</th>\n",
       "      <th>id</th>\n",
       "    </tr>\n",
       "  </thead>\n",
       "  <tbody>\n",
       "    <tr>\n",
       "      <th>0</th>\n",
       "      <td>Q1000597</td>\n",
       "      <td>Q3957</td>\n",
       "      <td>P1082</td>\n",
       "      <td>75074.000</td>\n",
       "      <td></td>\n",
       "      <td></td>\n",
       "      <td>'town'@en</td>\n",
       "      <td>'population'@en</td>\n",
       "      <td>E1</td>\n",
       "    </tr>\n",
       "    <tr>\n",
       "      <th>1</th>\n",
       "      <td>Q1011</td>\n",
       "      <td>Q112099</td>\n",
       "      <td>P1081</td>\n",
       "      <td>0.570</td>\n",
       "      <td></td>\n",
       "      <td></td>\n",
       "      <td>'island nation'@en</td>\n",
       "      <td>'Human Development Index'@en</td>\n",
       "      <td>E2</td>\n",
       "    </tr>\n",
       "    <tr>\n",
       "      <th>2</th>\n",
       "      <td>Q1011</td>\n",
       "      <td>Q3624078</td>\n",
       "      <td>P1081</td>\n",
       "      <td>0.570</td>\n",
       "      <td></td>\n",
       "      <td></td>\n",
       "      <td>'sovereign state'@en</td>\n",
       "      <td>'Human Development Index'@en</td>\n",
       "      <td>E3</td>\n",
       "    </tr>\n",
       "    <tr>\n",
       "      <th>3</th>\n",
       "      <td>Q1011</td>\n",
       "      <td>Q112099</td>\n",
       "      <td>P1081</td>\n",
       "      <td>0.572</td>\n",
       "      <td></td>\n",
       "      <td></td>\n",
       "      <td>'island nation'@en</td>\n",
       "      <td>'Human Development Index'@en</td>\n",
       "      <td>E4</td>\n",
       "    </tr>\n",
       "    <tr>\n",
       "      <th>4</th>\n",
       "      <td>Q1011</td>\n",
       "      <td>Q3624078</td>\n",
       "      <td>P1081</td>\n",
       "      <td>0.572</td>\n",
       "      <td></td>\n",
       "      <td></td>\n",
       "      <td>'sovereign state'@en</td>\n",
       "      <td>'Human Development Index'@en</td>\n",
       "      <td>E5</td>\n",
       "    </tr>\n",
       "  </tbody>\n",
       "</table>\n",
       "</div>"
      ],
      "text/plain": [
       "     entity     node1  label      node2 si_units wd_units  \\\n",
       "0  Q1000597     Q3957  P1082  75074.000                     \n",
       "1     Q1011   Q112099  P1081      0.570                     \n",
       "2     Q1011  Q3624078  P1081      0.570                     \n",
       "3     Q1011   Q112099  P1081      0.572                     \n",
       "4     Q1011  Q3624078  P1081      0.572                     \n",
       "\n",
       "             type_label                property_label  id  \n",
       "0             'town'@en               'population'@en  E1  \n",
       "1    'island nation'@en  'Human Development Index'@en  E2  \n",
       "2  'sovereign state'@en  'Human Development Index'@en  E3  \n",
       "3    'island nation'@en  'Human Development Index'@en  E4  \n",
       "4  'sovereign state'@en  'Human Development Index'@en  E5  "
      ]
     },
     "metadata": {},
     "output_type": "display_data"
    }
   ],
   "source": [
    "display(pd.read_csv(quantity_file, delimiter = '\\t', nrows=5).fillna(\"\"))"
   ]
  },
  {
   "cell_type": "code",
   "execution_count": 72,
   "metadata": {
    "scrolled": true
   },
   "outputs": [],
   "source": [
    "!kgtk query -i $QUANTITY_FILE -o $OUT/quantity_label_counts_by_type_prop.tsv \\\n",
    "--graph-cache $STORE \\\n",
    "--match '`'\"$QUANTITY_FILE\"'`: (type)-[l {label:p, entity:e, type_label:t_lab, property_label:p_lab, si_units:si, wd_units:wd}]->(val)' \\\n",
    "--return 'distinct type as type, p as prop, si as si_units, wd as wd_units, count(e) as count, t_lab as type_label, p_lab as property_label' \\\n",
    "--order-by 'count(e) desc'"
   ]
  },
  {
   "cell_type": "code",
   "execution_count": 73,
   "metadata": {},
   "outputs": [
    {
     "data": {
      "text/html": [
       "<div>\n",
       "<style scoped>\n",
       "    .dataframe tbody tr th:only-of-type {\n",
       "        vertical-align: middle;\n",
       "    }\n",
       "\n",
       "    .dataframe tbody tr th {\n",
       "        vertical-align: top;\n",
       "    }\n",
       "\n",
       "    .dataframe thead th {\n",
       "        text-align: right;\n",
       "    }\n",
       "</style>\n",
       "<table border=\"1\" class=\"dataframe\">\n",
       "  <thead>\n",
       "    <tr style=\"text-align: right;\">\n",
       "      <th></th>\n",
       "      <th>type</th>\n",
       "      <th>prop</th>\n",
       "      <th>si_units</th>\n",
       "      <th>wd_units</th>\n",
       "      <th>count</th>\n",
       "      <th>type_label</th>\n",
       "      <th>property_label</th>\n",
       "    </tr>\n",
       "  </thead>\n",
       "  <tbody>\n",
       "    <tr>\n",
       "      <th>0</th>\n",
       "      <td>Q3624078</td>\n",
       "      <td>P1082</td>\n",
       "      <td></td>\n",
       "      <td></td>\n",
       "      <td>3242</td>\n",
       "      <td>'sovereign state'@en</td>\n",
       "      <td>'population'@en</td>\n",
       "    </tr>\n",
       "    <tr>\n",
       "      <th>1</th>\n",
       "      <td>Q3624078</td>\n",
       "      <td>P2131</td>\n",
       "      <td></td>\n",
       "      <td>Q4917</td>\n",
       "      <td>3081</td>\n",
       "      <td>'sovereign state'@en</td>\n",
       "      <td>'nominal GDP'@en</td>\n",
       "    </tr>\n",
       "    <tr>\n",
       "      <th>2</th>\n",
       "      <td>Q3624078</td>\n",
       "      <td>P2132</td>\n",
       "      <td></td>\n",
       "      <td>Q4917</td>\n",
       "      <td>2953</td>\n",
       "      <td>'sovereign state'@en</td>\n",
       "      <td>'nominal GDP per capita'@en</td>\n",
       "    </tr>\n",
       "    <tr>\n",
       "      <th>3</th>\n",
       "      <td>Q3624078</td>\n",
       "      <td>P2134</td>\n",
       "      <td></td>\n",
       "      <td>Q4917</td>\n",
       "      <td>2823</td>\n",
       "      <td>'sovereign state'@en</td>\n",
       "      <td>'total reserves'@en</td>\n",
       "    </tr>\n",
       "    <tr>\n",
       "      <th>4</th>\n",
       "      <td>Q3624078</td>\n",
       "      <td>P1081</td>\n",
       "      <td></td>\n",
       "      <td></td>\n",
       "      <td>2175</td>\n",
       "      <td>'sovereign state'@en</td>\n",
       "      <td>'Human Development Index'@en</td>\n",
       "    </tr>\n",
       "  </tbody>\n",
       "</table>\n",
       "</div>"
      ],
      "text/plain": [
       "       type   prop si_units wd_units  count            type_label  \\\n",
       "0  Q3624078  P1082                     3242  'sovereign state'@en   \n",
       "1  Q3624078  P2131             Q4917   3081  'sovereign state'@en   \n",
       "2  Q3624078  P2132             Q4917   2953  'sovereign state'@en   \n",
       "3  Q3624078  P2134             Q4917   2823  'sovereign state'@en   \n",
       "4  Q3624078  P1081                     2175  'sovereign state'@en   \n",
       "\n",
       "                 property_label  \n",
       "0               'population'@en  \n",
       "1              'nominal GDP'@en  \n",
       "2   'nominal GDP per capita'@en  \n",
       "3           'total reserves'@en  \n",
       "4  'Human Development Index'@en  "
      ]
     },
     "metadata": {},
     "output_type": "display_data"
    }
   ],
   "source": [
    "display(pd.read_csv(\"{}/quantity_label_counts_by_type_prop.tsv\".format(out_dir), delimiter = '\\t', nrows=5).fillna(\"\"))"
   ]
  },
  {
   "cell_type": "markdown",
   "metadata": {},
   "source": [
    "Let's look at values for type = **sovereign state** prop = **population**"
   ]
  },
  {
   "cell_type": "code",
   "execution_count": 74,
   "metadata": {
    "scrolled": false
   },
   "outputs": [
    {
     "name": "stdout",
     "output_type": "stream",
     "text": [
      "Choosing min_samples = floor(ln(# data points)) = 8\n",
      "Computing distances to k'th nearest neighbor for each point where k = min_samples...\n",
      "knee found at distance 436200.0\n"
     ]
    },
    {
     "data": {
      "image/png": "[encoded data removed]",
      "text/plain": [
       "<Figure size 432x432 with 1 Axes>"
      ]
     },
     "metadata": {
      "needs_background": "light"
     },
     "output_type": "display_data"
    }
   ],
   "source": [
    "min_samples, epsilon = choose_DBSCAN_params(quantity_file, l_type = \"Q3624078\", l_prop = \"P1082\")"
   ]
  },
  {
   "cell_type": "code",
   "execution_count": 75,
   "metadata": {
    "scrolled": false
   },
   "outputs": [
    {
     "name": "stdout",
     "output_type": "stream",
     "text": [
      "Number of data points: 3242\n",
      "Estimated number of clusters: 9\n",
      "Estimated number of noise points: 229\n"
     ]
    },
    {
     "data": {
      "image/png": "[encoded data removed]",
      "text/plain": [
       "<Figure size 432x288 with 1 Axes>"
      ]
     },
     "metadata": {
      "needs_background": "light"
     },
     "output_type": "display_data"
    }
   ],
   "source": [
    "db, values = DBSCAN_label_subset(quantity_file, l_type = \"Q3624078\", l_prop = \"P1082\", eps = epsilon, min_samples = min_samples)\n",
    "view_clustering(db.labels_, values, bin_size = 1000)"
   ]
  },
  {
   "cell_type": "markdown",
   "metadata": {},
   "source": [
    "zooming in..."
   ]
  },
  {
   "cell_type": "code",
   "execution_count": 76,
   "metadata": {},
   "outputs": [
    {
     "name": "stdout",
     "output_type": "stream",
     "text": [
      "Number of data points: 3242\n",
      "Estimated number of clusters: 9\n",
      "Estimated number of noise points: 229\n"
     ]
    },
    {
     "data": {
      "image/png": "[encoded data removed]",
      "text/plain": [
       "<Figure size 432x288 with 1 Axes>"
      ]
     },
     "metadata": {
      "needs_background": "light"
     },
     "output_type": "display_data"
    }
   ],
   "source": [
    "view_clustering(db.labels_, values, max_hist_bin = .1e9, bin_size = 1000)"
   ]
  },
  {
   "cell_type": "code",
   "execution_count": 77,
   "metadata": {},
   "outputs": [
    {
     "data": {
      "text/plain": [
       "[(None, 41699675.5),\n",
       " (41699675.5, 42070375.0),\n",
       " (42070375.0, 43152169.5),\n",
       " (43152169.5, 44616481.0),\n",
       " (44616481.0, 45753553.0),\n",
       " (45753553.0, 47679648.0),\n",
       " (47679648.0, 49304297.5),\n",
       " (49304297.5, 62309824.5),\n",
       " (62309824.5, 64595629.5),\n",
       " (64595629.5, 67584245.5),\n",
       " (67584245.5, 77075314.5),\n",
       " (77075314.5, 78851500.0),\n",
       " (78851500.0, 81415700.0),\n",
       " (81415700.0, 83064200.0),\n",
       " (83064200.0, None)]"
      ]
     },
     "metadata": {},
     "output_type": "display_data"
    }
   ],
   "source": [
    "intervals = infer_intervals_from_clusters(values, db.labels_)\n",
    "display(intervals)"
   ]
  },
  {
   "cell_type": "markdown",
   "metadata": {},
   "source": [
    "Let's also try with values for type = **sovereign state** prop = **nominal GDP**"
   ]
  },
  {
   "cell_type": "code",
   "execution_count": 78,
   "metadata": {
    "scrolled": false
   },
   "outputs": [
    {
     "name": "stdout",
     "output_type": "stream",
     "text": [
      "Choosing min_samples = floor(ln(# data points)) = 8\n",
      "Computing distances to k'th nearest neighbor for each point where k = min_samples...\n",
      "knee found at distance 17904944666.281006\n"
     ]
    },
    {
     "data": {
      "image/png": "[encoded data removed]",
      "text/plain": [
       "<Figure size 432x432 with 1 Axes>"
      ]
     },
     "metadata": {
      "needs_background": "light"
     },
     "output_type": "display_data"
    }
   ],
   "source": [
    "min_samples, epsilon = choose_DBSCAN_params(quantity_file, l_type = \"Q3624078\", l_prop = \"P2131\")"
   ]
  },
  {
   "cell_type": "code",
   "execution_count": 79,
   "metadata": {
    "scrolled": false
   },
   "outputs": [
    {
     "name": "stdout",
     "output_type": "stream",
     "text": [
      "Number of data points: 3082\n",
      "Estimated number of clusters: 11\n",
      "Estimated number of noise points: 210\n"
     ]
    },
    {
     "data": {
      "image/png": "[encoded data removed]",
      "text/plain": [
       "<Figure size 432x288 with 1 Axes>"
      ]
     },
     "metadata": {
      "needs_background": "light"
     },
     "output_type": "display_data"
    }
   ],
   "source": [
    "db, values = DBSCAN_label_subset(quantity_file, l_type = \"Q3624078\", l_prop = \"P2131\", eps = epsilon, min_samples = min_samples)\n",
    "view_clustering(db.labels_, values, bin_size = 1e10)"
   ]
  },
  {
   "cell_type": "markdown",
   "metadata": {},
   "source": [
    "zooming in..."
   ]
  },
  {
   "cell_type": "code",
   "execution_count": 80,
   "metadata": {},
   "outputs": [
    {
     "name": "stdout",
     "output_type": "stream",
     "text": [
      "Number of data points: 3082\n",
      "Estimated number of clusters: 11\n",
      "Estimated number of noise points: 210\n"
     ]
    },
    {
     "data": {
      "image/png": "[encoded data removed]",
      "text/plain": [
       "<Figure size 432x288 with 1 Axes>"
      ]
     },
     "metadata": {
      "needs_background": "light"
     },
     "output_type": "display_data"
    }
   ],
   "source": [
    "view_clustering(db.labels_, values, min_hist_bin = .05e13, max_hist_bin = .3e13, bin_size = 1e9)"
   ]
  },
  {
   "cell_type": "code",
   "execution_count": 81,
   "metadata": {},
   "outputs": [
    {
     "data": {
      "text/plain": [
       "[(None, 800249412297.1975),\n",
       " (800249412297.1975, 823761840597.015),\n",
       " (823761840597.015, 917860400072.625),\n",
       " (917860400072.625, 956091683115.263),\n",
       " (956091683115.263, 1035671933673.0149),\n",
       " (1035671933673.0149, 1085040714447.8601),\n",
       " (1085040714447.8601, 1122253520111.71),\n",
       " (1122253520111.71, 1199439960689.01),\n",
       " (1199439960689.01, 1245943385630.9502),\n",
       " (1245943385630.9502, 1344214874159.335),\n",
       " (1344214874159.335, 1355444118001.38),\n",
       " (1355444118001.38, 1418665295631.825),\n",
       " (1418665295631.825, 1539589374763.045),\n",
       " (1539589374763.045, 1589309451086.46),\n",
       " (1589309451086.46, 2045028417050.3),\n",
       " (2045028417050.3, 2100846744102.31),\n",
       " (2100846744102.31, 2168446525813.74),\n",
       " (2168446525813.74, 2230957447379.3203),\n",
       " (2230957447379.3203, None)]"
      ]
     },
     "metadata": {},
     "output_type": "display_data"
    }
   ],
   "source": [
    "intervals = infer_intervals_from_clusters(values, db.labels_)\n",
    "display(intervals)"
   ]
  },
  {
   "cell_type": "markdown",
   "metadata": {},
   "source": [
    "Let's also try with values for type = **sovereign state** prop = **Human Development Index**"
   ]
  },
  {
   "cell_type": "code",
   "execution_count": 82,
   "metadata": {},
   "outputs": [
    {
     "name": "stdout",
     "output_type": "stream",
     "text": [
      "Choosing min_samples = floor(ln(# data points)) = 7\n",
      "Computing distances to k'th nearest neighbor for each point where k = min_samples...\n",
      "knee found at distance 0.0020000000000000018\n"
     ]
    },
    {
     "data": {
      "image/png": "[encoded data removed]",
      "text/plain": [
       "<Figure size 432x432 with 1 Axes>"
      ]
     },
     "metadata": {
      "needs_background": "light"
     },
     "output_type": "display_data"
    }
   ],
   "source": [
    "min_samples, epsilon = choose_DBSCAN_params(quantity_file, l_type = \"Q3624078\", l_prop = \"P1081\")"
   ]
  },
  {
   "cell_type": "code",
   "execution_count": 83,
   "metadata": {
    "scrolled": false
   },
   "outputs": [
    {
     "name": "stdout",
     "output_type": "stream",
     "text": [
      "Number of data points: 2175\n",
      "Estimated number of clusters: 14\n",
      "Estimated number of noise points: 93\n"
     ]
    },
    {
     "data": {
      "image/png": "[encoded data removed]",
      "text/plain": [
       "<Figure size 432x288 with 1 Axes>"
      ]
     },
     "metadata": {
      "needs_background": "light"
     },
     "output_type": "display_data"
    }
   ],
   "source": [
    "db, values = DBSCAN_label_subset(quantity_file, l_type = \"Q3624078\", l_prop = \"P1081\", eps = epsilon, min_samples = min_samples)\n",
    "view_clustering(db.labels_, values, bin_size = 1e-3)"
   ]
  },
  {
   "cell_type": "markdown",
   "metadata": {},
   "source": [
    "zooming in..."
   ]
  },
  {
   "cell_type": "code",
   "execution_count": 84,
   "metadata": {
    "scrolled": true
   },
   "outputs": [
    {
     "name": "stdout",
     "output_type": "stream",
     "text": [
      "Number of data points: 2175\n",
      "Estimated number of clusters: 14\n",
      "Estimated number of noise points: 93\n"
     ]
    },
    {
     "data": {
      "image/png": "[encoded data removed]",
      "text/plain": [
       "<Figure size 432x288 with 1 Axes>"
      ]
     },
     "metadata": {
      "needs_background": "light"
     },
     "output_type": "display_data"
    }
   ],
   "source": [
    "view_clustering(db.labels_, values, min_hist_bin = .45, max_hist_bin = 1, bin_size = 1e-3)"
   ]
  },
  {
   "cell_type": "code",
   "execution_count": 85,
   "metadata": {},
   "outputs": [
    {
     "data": {
      "text/plain": [
       "[(None, 0.45349999999999996),\n",
       " (0.45349999999999996, 0.4595),\n",
       " (0.4595, 0.4645),\n",
       " (0.4645, 0.47050000000000003),\n",
       " (0.47050000000000003, 0.4815),\n",
       " (0.4815, 0.497),\n",
       " (0.497, 0.506),\n",
       " (0.506, 0.5165),\n",
       " (0.5165, 0.5235000000000001),\n",
       " (0.5235000000000001, 0.5255000000000001),\n",
       " (0.5255000000000001, 0.534),\n",
       " (0.534, 0.538),\n",
       " (0.538, 0.544),\n",
       " (0.544, 0.5465),\n",
       " (0.5465, 0.5515),\n",
       " (0.5515, 0.565),\n",
       " (0.565, 0.5865),\n",
       " (0.5865, 0.593),\n",
       " (0.593, 0.595),\n",
       " (0.595, 0.9405000000000001),\n",
       " (0.9405000000000001, None)]"
      ]
     },
     "metadata": {},
     "output_type": "display_data"
    }
   ],
   "source": [
    "intervals = infer_intervals_from_clusters(values, db.labels_)\n",
    "display(intervals)"
   ]
  },
  {
   "cell_type": "code",
   "execution_count": null,
   "metadata": {},
   "outputs": [],
   "source": []
  }
 ],
 "metadata": {
  "kernelspec": {
   "display_name": "Python [conda env:kgtk-env] *",
   "language": "python",
   "name": "conda-env-kgtk-env-py"
  },
  "language_info": {
   "codemirror_mode": {
    "name": "ipython",
    "version": 3
   },
   "file_extension": ".py",
   "mimetype": "text/x-python",
   "name": "python",
   "nbconvert_exporter": "python",
   "pygments_lexer": "ipython3",
   "version": "3.7.8"
  }
 },
 "nbformat": 4,
 "nbformat_minor": 4
}
