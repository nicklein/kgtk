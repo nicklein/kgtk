{
 "cells": [
  {
   "cell_type": "markdown",
   "metadata": {},
   "source": [
    "# This notebook will implement an optional pre-processing step that can be done prior to candidate label creation.\n",
    "We will trim down a given quantity file by using associated qualifiers to keep only the most up-to-date value for time-series data. For example, if your quantity file includes the human development index (HDI) of various countries, you may find that there are many values of HDI for each country. Trimming these values by keeping only the most recent will mitigate confusing results (e.g. labeling all countries as having a small population since all countries at some point had a smaller population) and reduce the number of candidate labels we create in later steps."
   ]
  },
  {
   "cell_type": "code",
   "execution_count": 1,
   "metadata": {},
   "outputs": [],
   "source": [
    "import os\n",
    "import pandas as pd\n",
    "import numpy as np\n",
    "from utility import run_command\n",
    "from utility import rename_cols_and_overwrite_id"
   ]
  },
  {
   "cell_type": "markdown",
   "metadata": {},
   "source": [
    "### Parameters\n",
    "**Required**   \n",
    "*quantity_file*: file path for the file that contains entity to quantity-type values  \n",
    "*qualifiers_file*: file path for the file that contains wikidata labels  \n",
    "*out_file*: file path for the file that we will save the trimmed results in  \n",
    "*work_dir*: path to folder where intermediate files created by this notebook should be saved.  \n",
    "*store_dir*: path to folder containing the sqlite3.db file that we will use for our queries. We will reuse an existing file if there is one in this folder. Otherwise we will create a new one."
   ]
  },
  {
   "cell_type": "code",
   "execution_count": 2,
   "metadata": {
    "tags": [
     "parameters"
    ]
   },
   "outputs": [],
   "source": [
    "# **REQUIRED**\n",
    "quantity_file = \"../../wikidata_politicians/data/claims.quantity.tsv.gz\"\n",
    "qualifiers_file = \"../../wikidata_politicians/data/qualifiers.quantity.tsv.gz\"\n",
    "out_file = \"../../wikidata_politicians/data/claims.quantity_trimmed.tsv.gz\"\n",
    "work_dir = \"../../wikidata_politicians/profiler_work\"\n",
    "store_dir = \"../../wikidata_politicians\""
   ]
  },
  {
   "cell_type": "markdown",
   "metadata": {},
   "source": [
    "### Process parameters and set up variables / file names"
   ]
  },
  {
   "cell_type": "code",
   "execution_count": 3,
   "metadata": {},
   "outputs": [],
   "source": [
    "# Ensure paths are absolute\n",
    "quantity_file = os.path.abspath(quantity_file)\n",
    "qualifiers_file = os.path.abspath(qualifiers_file)\n",
    "out_file = os.path.abspath(out_file)\n",
    "work_dir = os.path.abspath(work_dir)\n",
    "store_dir = os.path.abspath(store_dir)\n",
    "    \n",
    "# Create directories\n",
    "if not os.path.exists(work_dir):\n",
    "    os.makedirs(work_dir)\n",
    "work_dir = \"{}/trim_quantity_work\".format(work_dir)\n",
    "if not os.path.exists(work_dir):\n",
    "    os.makedirs(work_dir)\n",
    "\n",
    "# Environment variables for kgtk commands\n",
    "os.environ['QUANTITY_FILE'] = quantity_file\n",
    "os.environ['QUALIFIERS_FILE'] = qualifiers_file\n",
    "os.environ['WORK'] = work_dir\n",
    "os.environ['STORE'] = \"{}/wikidata.sqlite3.db\".format(store_dir)\n",
    "os.environ['OUT_FILE'] = out_file\n",
    "os.environ['kgtk'] = \"kgtk\" # Need to do this for kgtk to be recognized as a command when passing it through a subprocess call"
   ]
  },
  {
   "cell_type": "markdown",
   "metadata": {},
   "source": [
    "See contents of qualifiers and quantity files below:"
   ]
  },
  {
   "cell_type": "code",
   "execution_count": 4,
   "metadata": {
    "scrolled": true
   },
   "outputs": [
    {
     "name": "stdout",
     "output_type": "stream",
     "text": [
      "id                                            node1                          label  node2\r\n",
      "P1004-P4876-b5e617-af81a4c5-0-P585-d93eb6-0   P1004-P4876-b5e617-af81a4c5-0  P585   ^2019-09-11T00:00:00Z/11\r\n",
      "P1014-P4876-605b34-fbb0b790-0-P585-cb055b-0   P1014-P4876-605b34-fbb0b790-0  P585   ^2020-09-11T00:00:00Z/11\r\n",
      "P1014-P4876-62c45c-db5d6620-0-P585-800764-0   P1014-P4876-62c45c-db5d6620-0  P585   ^2019-12-19T00:00:00Z/11\r\n",
      "P1014-P4876-62c45c-db5d6620-0-P642-Q151885-0  P1014-P4876-62c45c-db5d6620-0  P642   Q151885\r\n",
      "\r\n",
      "gzip: stdout: Broken pipe\r\n"
     ]
    }
   ],
   "source": [
    "!zcat $QUALIFIERS_FILE | head -5 | column -t -s $'\\t'"
   ]
  },
  {
   "cell_type": "code",
   "execution_count": 5,
   "metadata": {
    "scrolled": true
   },
   "outputs": [
    {
     "name": "stdout",
     "output_type": "stream",
     "text": [
      "id                             node1  label  node2   node2;wikidatatype\r\n",
      "P1004-P4876-b5e617-af81a4c5-0  P1004  P4876  +37427  quantity\r\n",
      "P1014-P4876-605b34-fbb0b790-0  P1014  P4876  +53249  quantity\r\n",
      "P1014-P4876-62c45c-db5d6620-0  P1014  P4876  +50825  quantity\r\n",
      "P1014-P4876-732e1a-9ea8b31a-0  P1014  P4876  +47267  quantity\r\n",
      "\r\n",
      "gzip: stdout: Broken pipe\r\n"
     ]
    }
   ],
   "source": [
    "!zcat $QUANTITY_FILE | head -5 | column -t -s $'\\t'"
   ]
  },
  {
   "cell_type": "markdown",
   "metadata": {},
   "source": [
    "Now using the quantity ID column and qualifiers node1 column to match quantity edges with P585 ('point in time') qualifiers."
   ]
  },
  {
   "cell_type": "code",
   "execution_count": 6,
   "metadata": {},
   "outputs": [],
   "source": [
    "!kgtk query --graph-cache $STORE \\\n",
    "-i $QUANTITY_FILE -i $QUALIFIERS_FILE -o $WORK/quantities_with_qualifiers.tsv.gz \\\n",
    "--match '`'\"$QUANTITY_FILE\"'`: (n1)-[l {label:prop}]->(n2), `'\"$QUALIFIERS_FILE\"'`: (l)-[q {label:P585}]->(t)' \\\n",
    "--return 'distinct n1, prop as label, n2 as node2, q.label as qualifier, kgtk_date_and_time(t) as time, l as id' \\\n",
    "--order-by 'n1, prop, q.label, time desc'"
   ]
  },
  {
   "cell_type": "code",
   "execution_count": 7,
   "metadata": {},
   "outputs": [
    {
     "name": "stdout",
     "output_type": "stream",
     "text": [
      "node1  label  node2      qualifier  time                   id\r\n",
      "P1004  P4876  +37427     P585       ^2019-09-11T00:00:00Z  P1004-P4876-b5e617-af81a4c5-0\r\n",
      "P1014  P4876  +53249     P585       ^2020-09-11T00:00:00Z  P1014-P4876-605b34-fbb0b790-0\r\n",
      "P1014  P4876  +50825     P585       ^2019-12-19T00:00:00Z  P1014-P4876-62c45c-db5d6620-0\r\n",
      "P1014  P4876  +46591     P585       ^2019-07-18T00:00:00Z  P1014-P4876-f7a212-293bd556-0\r\n",
      "P1014  P4876  +47267     P585       ^2018-06-17T00:00:00Z  P1014-P4876-732e1a-9ea8b31a-0\r\n",
      "P1014  P4876  +50825     P642                              P1014-P4876-62c45c-db5d6620-0\r\n",
      "P1022  P4876  +541       P585       ^2019-08-30T00:00:00Z  P1022-P4876-fa0ca8-40e422f8-0\r\n",
      "P1042  P1114  +1952404   P585       ^2020-02-13T00:00:00Z  P1042-P1114-27b781-00b6c31d-0\r\n",
      "P1044  P4876  +54300000  P585       ^2019-00-00T00:00:00Z  P1044-P4876-d72e5b-569d2ef4-0\r\n",
      "\r\n",
      "gzip: stdout: Broken pipe\r\n"
     ]
    }
   ],
   "source": [
    "!zcat $WORK/quantities_with_qualifiers.tsv.gz | head | column -t -s $'\\t'"
   ]
  },
  {
   "cell_type": "markdown",
   "metadata": {},
   "source": [
    "Next, remove the most recent edge for each <node1, label> pair"
   ]
  },
  {
   "cell_type": "code",
   "execution_count": 8,
   "metadata": {
    "scrolled": false
   },
   "outputs": [],
   "source": [
    "def mask_first(x):\n",
    "    result = np.ones_like(x)\n",
    "    result[0] = 0\n",
    "    return result\n",
    "df = pd.read_csv(\"{}/quantities_with_qualifiers.tsv.gz\".format(os.environ[\"WORK\"]), delimiter = '\\t').fillna(\"\")\n",
    "mask = df.groupby(['node1','label'])[\"node1\"].transform(mask_first).astype(bool)\n",
    "out_file = \"{}/quantity_edges_to_filter.tsv.gz\".format(os.environ[\"WORK\"])\n",
    "df.loc[mask].to_csv(out_file, sep='\\t', index = False)"
   ]
  },
  {
   "cell_type": "markdown",
   "metadata": {},
   "source": [
    "See that the first edge for node1=Q1000, label=P1081 has been removed in this new file:"
   ]
  },
  {
   "cell_type": "code",
   "execution_count": 9,
   "metadata": {},
   "outputs": [
    {
     "name": "stdout",
     "output_type": "stream",
     "text": [
      "node1  label  node2     qualifier  time                   id\r\n",
      "P1014  P4876  +50825    P585       ^2019-12-19T00:00:00Z  P1014-P4876-62c45c-db5d6620-0\r\n",
      "P1014  P4876  +46591    P585       ^2019-07-18T00:00:00Z  P1014-P4876-f7a212-293bd556-0\r\n",
      "P1014  P4876  +47267    P585       ^2018-06-17T00:00:00Z  P1014-P4876-732e1a-9ea8b31a-0\r\n",
      "P1014  P4876  +50825    P642                              P1014-P4876-62c45c-db5d6620-0\r\n",
      "P1185  P4876  +1251267  P585       ^2020-03-19T00:00:00Z  P1185-P4876-03ae44-80497f15-0\r\n",
      "P1278  P4876  +1217727  P585       ^2018-06-28T00:00:00Z  P1278-P4876-a0a477-23b4d7c5-0\r\n",
      "P1667  P4876  +2505678  P585       ^2018-10-05T00:00:00Z  P1667-P4876-fd5e17-6879f084-0\r\n",
      "P1667  P4876  +2505616  P585       ^2018-06-17T00:00:00Z  P1667-P4876-fecd0c-099cd46e-0\r\n",
      "P1838  P4876  +61158    P585       ^2019-04-19T00:00:00Z  P1838-P4876-12bbb7-aca29bf1-0\r\n",
      "\r\n",
      "gzip: stdout: Broken pipe\r\n"
     ]
    }
   ],
   "source": [
    "!zcat $WORK/quantity_edges_to_filter.tsv.gz | head | column -t -s $'\\t'"
   ]
  },
  {
   "cell_type": "markdown",
   "metadata": {},
   "source": [
    "Now remove edges from the original quantity file if they are present in the edges-to-filter file. This will give us the final trimmed quantity file."
   ]
  },
  {
   "cell_type": "code",
   "execution_count": 10,
   "metadata": {},
   "outputs": [],
   "source": [
    "!kgtk ifnotexists -i $QUANTITY_FILE --filter-on $WORK/quantity_edges_to_filter.tsv.gz -o $OUT_FILE \\\n",
    "--input-keys id --filter-keys id"
   ]
  },
  {
   "cell_type": "code",
   "execution_count": 11,
   "metadata": {},
   "outputs": [
    {
     "name": "stdout",
     "output_type": "stream",
     "text": [
      "id                             node1  label  node2      node2;wikidatatype\r\n",
      "P1004-P4876-b5e617-af81a4c5-0  P1004  P4876  +37427     quantity\r\n",
      "P1014-P4876-605b34-fbb0b790-0  P1014  P4876  +53249     quantity\r\n",
      "P1022-P4876-fa0ca8-40e422f8-0  P1022  P4876  +541       quantity\r\n",
      "P1042-P1114-27b781-00b6c31d-0  P1042  P1114  +1952404   quantity\r\n",
      "P1044-P4876-d72e5b-569d2ef4-0  P1044  P4876  +54300000  quantity\r\n",
      "P1051-P4876-32013b-1caeb73e-0  P1051  P4876  +14157     quantity\r\n",
      "P1182-P4876-d9b3ca-4cf79593-0  P1182  P4876  +6500000   quantity\r\n",
      "P1187-P4876-ba6287-1f8f2372-0  P1187  P4876  +42496     quantity\r\n",
      "P1188-P4876-3fd83d-fd17e76d-0  P1188  P4876  +58916     quantity\r\n",
      "\r\n",
      "gzip: stdout: Broken pipe\r\n"
     ]
    }
   ],
   "source": [
    "!zcat $OUT_FILE | head | column -t -s $'\\t'"
   ]
  },
  {
   "cell_type": "markdown",
   "metadata": {},
   "source": [
    "Number of edges in original file:"
   ]
  },
  {
   "cell_type": "code",
   "execution_count": 12,
   "metadata": {},
   "outputs": [
    {
     "name": "stdout",
     "output_type": "stream",
     "text": [
      "591274\r\n"
     ]
    }
   ],
   "source": [
    "!zcat $QUANTITY_FILE | wc -l"
   ]
  },
  {
   "cell_type": "markdown",
   "metadata": {},
   "source": [
    "Number of edges in trimmed file:"
   ]
  },
  {
   "cell_type": "code",
   "execution_count": 13,
   "metadata": {},
   "outputs": [
    {
     "name": "stdout",
     "output_type": "stream",
     "text": [
      "87874\r\n"
     ]
    }
   ],
   "source": [
    "!zcat $OUT_FILE | wc -l"
   ]
  },
  {
   "cell_type": "code",
   "execution_count": null,
   "metadata": {},
   "outputs": [],
   "source": []
  }
 ],
 "metadata": {
  "celltoolbar": "Tags",
  "kernelspec": {
   "display_name": "Python 3",
   "language": "python",
   "name": "python3"
  },
  "language_info": {
   "codemirror_mode": {
    "name": "ipython",
    "version": 3
   },
   "file_extension": ".py",
   "mimetype": "text/x-python",
   "name": "python",
   "nbconvert_exporter": "python",
   "pygments_lexer": "ipython3",
   "version": "3.8.5"
  }
 },
 "nbformat": 4,
 "nbformat_minor": 4
}
