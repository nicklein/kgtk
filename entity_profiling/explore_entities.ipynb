{
 "cells": [
  {
   "cell_type": "markdown",
   "metadata": {},
   "source": [
    "# Explore entities in input dataset\n",
    "In this notebook, we'll quickly take a look at the top attributes and relations amongst entities of a given type. This will help validate the input data and give a sense of what attributes we might expect to see being used to later profile entities of the given type."
   ]
  },
  {
   "cell_type": "code",
   "execution_count": 5,
   "metadata": {},
   "outputs": [],
   "source": [
    "import os\n",
    "import pandas as pd\n",
    "from utility import run_command\n",
    "from utility import rename_cols_and_overwrite_id"
   ]
  },
  {
   "cell_type": "markdown",
   "metadata": {},
   "source": [
    "### Parameters\n",
    "**Required**  \n",
    "*item_file*: file path for the file that contains entity to entity relationships (e.g. wikibase-item)  \n",
    "*time_file*: file path for the file that contains entity to time-type values  \n",
    "*quantity_file*: file path for the file that contains entity to quantity-type values (remember to specify the trimmed file if you did the quantity file trimming pre-processing step).  \n",
    "*label_file*: file path for the file that contains wikidata labels  \n",
    "*work_dir*: path to folder where files created by this notebook should be stored  \n",
    "*store_dir*: path to folder containing the sqlite3.db file that we will use for our queries. We will reuse an existing file if there is one in this folder. Otherwise we will create a new one.\n",
    "\n",
    "**Optional**    \n",
    "*string_file*: file path for the file that contains entity to string-type values  "
   ]
  },
  {
   "cell_type": "code",
   "execution_count": 6,
   "metadata": {
    "tags": [
     "parameters"
    ]
   },
   "outputs": [],
   "source": [
    "data_dir = \"../../wikidata_humans/data\" # my data files are all in the same directory, so I'll reuse this path prefix\n",
    "\n",
    "# **REQUIRED**\n",
    "item_file = \"{}/claims.wikibase-item.tsv.gz\".format(data_dir)\n",
    "time_file = \"{}/claims.time.tsv.gz\".format(data_dir)\n",
    "quantity_file = \"{}/claims.quantity.tsv.gz\".format(data_dir)\n",
    "label_file = \"{}/labels.en.tsv.gz\".format(data_dir)\n",
    "work_dir = \"../../wikidata_humans/profiler_work\"\n",
    "store_dir = \"../../wikidata_humans\"\n",
    "\n",
    "# **optional**\n",
    "string_file = \"{}/claims.string.tsv.gz\".format(data_dir)"
   ]
  },
  {
   "cell_type": "markdown",
   "metadata": {},
   "source": [
    "### Process parameters and set up variables / file names"
   ]
  },
  {
   "cell_type": "code",
   "execution_count": 7,
   "metadata": {},
   "outputs": [],
   "source": [
    "# Ensure paths are absolute\n",
    "item_file = os.path.abspath(item_file)\n",
    "time_file = os.path.abspath(time_file)\n",
    "quantity_file = os.path.abspath(quantity_file)\n",
    "label_file = os.path.abspath(label_file)\n",
    "work_dir = os.path.abspath(work_dir)\n",
    "store_dir = os.path.abspath(store_dir)\n",
    "if string_file:\n",
    "    string_file = os.path.abspath(string_file)\n",
    "    \n",
    "# Create directories\n",
    "if not os.path.exists(work_dir):\n",
    "    os.makedirs(work_dir)\n",
    "output_dir = \"{}/explore_entities\".format(work_dir)\n",
    "if not os.path.exists(output_dir):\n",
    "    os.makedirs(output_dir)\n",
    "\n",
    "# adding some environment variables we'll be using frequently\n",
    "os.environ['ITEM_FILE'] = item_file\n",
    "os.environ['TIME_FILE'] = time_file\n",
    "os.environ['QUANTITY_FILE'] = quantity_file\n",
    "os.environ['LABEL_FILE'] = label_file\n",
    "os.environ['STORE'] = \"{}/wikidata.sqlite3.db\".format(store_dir)\n",
    "os.environ['OUT'] = output_dir\n",
    "os.environ['kgtk'] = \"kgtk\" # Need to do this for kgtk to be recognized as a command when passing it through a subprocess call"
   ]
  },
  {
   "cell_type": "markdown",
   "metadata": {},
   "source": [
    "## Create type mapping\n",
    "Mapping is from entity (Q node) to the entity's type (another Q node).  \n",
    "To define type, we can use P31 or P279*. We may use other properties depending on what we want to profile (e.g. the property that defines whether an entity is a Politician is P106 - occupation)."
   ]
  },
  {
   "cell_type": "code",
   "execution_count": 8,
   "metadata": {},
   "outputs": [],
   "source": [
    "type_defining_property = \"P31\"\n",
    "os.environ[\"TYPE_PROP\"] = type_defining_property"
   ]
  },
  {
   "cell_type": "code",
   "execution_count": 9,
   "metadata": {
    "scrolled": true
   },
   "outputs": [],
   "source": [
    "!kgtk query -i $ITEM_FILE \\\n",
    "-o $OUT/type_mapping.tsv --graph-cache $STORE \\\n",
    "--match '`'\"$ITEM_FILE\"'`: (e)-[l {label:\"'\"$TYPE_PROP\"'\"}]->(type)' \\\n",
    "--return 'distinct l as id, e as node1, l.label as label, type as node2'"
   ]
  },
  {
   "cell_type": "code",
   "execution_count": 10,
   "metadata": {
    "scrolled": false
   },
   "outputs": [
    {
     "name": "stdout",
     "output_type": "stream",
     "text": [
      "id                              node1  label  node2\r\n",
      "P10-P31-Q18610173-85ef4d24-0    P10    P31    Q18610173\r\n",
      "P1000-P31-Q18608871-093affb5-0  P1000  P31    Q18608871\r\n",
      "P1001-P31-Q15720608-deeedec9-0  P1001  P31    Q15720608\r\n",
      "P1001-P31-Q22984026-8beb0cfe-0  P1001  P31    Q22984026\r\n"
     ]
    }
   ],
   "source": [
    "!head -5 $OUT/type_mapping.tsv | column -t -s $'\\t'"
   ]
  },
  {
   "cell_type": "markdown",
   "metadata": {},
   "source": [
    "## Look at top attributes amongst entities within a type"
   ]
  },
  {
   "cell_type": "code",
   "execution_count": 11,
   "metadata": {},
   "outputs": [],
   "source": [
    "# Change the Q-node type here to look at attributes of entities of a different type\n",
    "# type_to_profile = \"Q44\" # beer\n",
    "# type_to_profile = \"Q282\" # wine\n",
    "# type_to_profile = \"Q154\" # alcoholic beverage\n",
    "# type_to_profile = \"Q11424\" # film\n",
    "# type_to_profile = \"Q82955\" # politician\n",
    "type_to_profile = \"Q5\" # Human\n",
    "os.environ[\"TYPE\"] = type_to_profile"
   ]
  },
  {
   "cell_type": "markdown",
   "metadata": {},
   "source": [
    "Number of entities of this type:"
   ]
  },
  {
   "cell_type": "code",
   "execution_count": 12,
   "metadata": {},
   "outputs": [
    {
     "name": "stdout",
     "output_type": "stream",
     "text": [
      "7984232\r\n"
     ]
    }
   ],
   "source": [
    "!kgtk filter -p \" ; $TYPE_PROP ; $TYPE \" -i $OUT/type_mapping.tsv | wc -l | awk '{print $1-1}'"
   ]
  },
  {
   "cell_type": "markdown",
   "metadata": {},
   "source": [
    "Some examples:"
   ]
  },
  {
   "cell_type": "code",
   "execution_count": 13,
   "metadata": {},
   "outputs": [
    {
     "name": "stdout",
     "output_type": "stream",
     "text": [
      "id                            node1       label  node2\r\n",
      "Q10000001-P31-Q5-cc1c4199-0   Q10000001   P31    Q5\r\n",
      "Q1000002-P31-Q5-5c9914ea-0    Q1000002    P31    Q5\r\n",
      "Q1000005-P31-Q5-4d5e2a2b-0    Q1000005    P31    Q5\r\n",
      "Q1000006-P31-Q5-38728290-0    Q1000006    P31    Q5\r\n",
      "Q100000811-P31-Q5-ea39ff32-0  Q100000811  P31    Q5\r\n",
      "Q100000814-P31-Q5-183f7bff-0  Q100000814  P31    Q5\r\n",
      "Q100000817-P31-Q5-7b91c1ab-0  Q100000817  P31    Q5\r\n",
      "Q100000831-P31-Q5-e8c92610-0  Q100000831  P31    Q5\r\n",
      "Q100000832-P31-Q5-911e44ee-0  Q100000832  P31    Q5\r\n"
     ]
    }
   ],
   "source": [
    "!kgtk filter -p \" ; $TYPE_PROP ; $TYPE \" -i $OUT/type_mapping.tsv | head | column -t -s $'\\t'"
   ]
  },
  {
   "cell_type": "markdown",
   "metadata": {},
   "source": [
    "Number of these entities that have an english label:"
   ]
  },
  {
   "cell_type": "code",
   "execution_count": 14,
   "metadata": {},
   "outputs": [
    {
     "name": "stdout",
     "output_type": "stream",
     "text": [
      "7958993\r\n"
     ]
    }
   ],
   "source": [
    "!kgtk query -i $OUT/type_mapping.tsv -i $LABEL_FILE \\\n",
    "--graph-cache $STORE \\\n",
    "--match 'type: (e)-[]->(:`'\"$TYPE\"'`), `'\"$LABEL_FILE\"'`: (e)-[:label]->(e_lab)' \\\n",
    "--return 'e as entity, e_lab as entity_label' \\\n",
    "--where 'e_lab.kgtk_lqstring_lang_suffix = \"en\"' \\\n",
    "| wc -l | awk '{print $1-1}'"
   ]
  },
  {
   "cell_type": "markdown",
   "metadata": {},
   "source": [
    "Top quantity attributes amongst entities of this type:"
   ]
  },
  {
   "cell_type": "code",
   "execution_count": 15,
   "metadata": {},
   "outputs": [
    {
     "name": "stdout",
     "output_type": "stream",
     "text": [
      "prop   prop_label                                  ents_with_this_prop\r\n",
      "P2048  'height'@en                                 154831\r\n",
      "P2067  'mass'@en                                   126183\r\n",
      "P1971  'number of children'@en                     20348\r\n",
      "P1087  'Elo rating'@en                             16976\r\n",
      "P1350  'number of matches played/races/starts'@en  10705\r\n",
      "P6509  'total goals in career'@en                  10693\r\n",
      "P6544  'total points in career'@en                 7079\r\n",
      "P6546  'penalty minutes in career'@en              7078\r\n",
      "P6545  'total assists in career'@en                7077\r\n",
      "P6543  'total shots in career'@en                  6021\r\n"
     ]
    }
   ],
   "source": [
    "!kgtk query -i $QUANTITY_FILE -i $LABEL_FILE -i $OUT/type_mapping.tsv --graph-cache $STORE \\\n",
    "--limit 10 \\\n",
    "--match '`'\"$QUANTITY_FILE\"'`: (e)-[l {label:prop}]->(), type: (e)-[]->(:`'\"$TYPE\"'`), `'\"$LABEL_FILE\"'`: (prop)-[:label]->(prop_lab)' \\\n",
    "--return 'distinct prop as prop, prop_lab as prop_label, count(distinct e) as ents_with_this_prop' \\\n",
    "--where 'prop_lab.kgtk_lqstring_lang_suffix = \"en\"' \\\n",
    "--order-by 'ents_with_this_prop desc' \\\n",
    "| column -t -s $'\\t'"
   ]
  },
  {
   "cell_type": "markdown",
   "metadata": {},
   "source": [
    "Top time attributes amongst entities of this type:"
   ]
  },
  {
   "cell_type": "code",
   "execution_count": 16,
   "metadata": {},
   "outputs": [
    {
     "name": "stdout",
     "output_type": "stream",
     "text": [
      "prop   prop_label                               ents_with_this_prop\r\n",
      "P569   'date of birth'@en                       4255892\r\n",
      "P570   'date of death'@en                       2127385\r\n",
      "P2031  'work period (start)'@en                 218548\r\n",
      "P2032  'work period (end)'@en                   27567\r\n",
      "P1317  'floruit'@en                             20175\r\n",
      "P1636  'date of baptism in early childhood'@en  2679\r\n",
      "P4602  'date of burial or cremation'@en         1906\r\n",
      "P746   'date of disappearance'@en               874\r\n",
      "P585   'point in time'@en                       210\r\n",
      "P580   'start time'@en                          128\r\n"
     ]
    }
   ],
   "source": [
    "!kgtk query -i $TIME_FILE -i $LABEL_FILE -i $OUT/type_mapping.tsv --graph-cache $STORE \\\n",
    "--limit 10 \\\n",
    "--match '`'\"$TIME_FILE\"'`: (e)-[l {label:prop}]->(), type: (e)-[]->(:`'\"$TYPE\"'`), `'\"$LABEL_FILE\"'`: (prop)-[:label]->(prop_lab)' \\\n",
    "--return 'distinct prop as prop, prop_lab as prop_label, count(distinct e) as ents_with_this_prop' \\\n",
    "--where 'prop_lab.kgtk_lqstring_lang_suffix = \"en\"' \\\n",
    "--order-by 'ents_with_this_prop desc' \\\n",
    "| column -t -s $'\\t'"
   ]
  },
  {
   "cell_type": "markdown",
   "metadata": {},
   "source": [
    "Top relations amongst entities of this type:"
   ]
  },
  {
   "cell_type": "code",
   "execution_count": 17,
   "metadata": {},
   "outputs": [
    {
     "name": "stdout",
     "output_type": "stream",
     "text": [
      "prop  prop_label                   ents_with_this_prop\r\n",
      "P31   'instance of'@en             7984212\r\n",
      "P21   'sex or gender'@en           5984186\r\n",
      "P106  'occupation'@en              5767333\r\n",
      "P735  'given name'@en              4790117\r\n",
      "P27   'country of citizenship'@en  3293085\r\n",
      "P734  'family name'@en             2511540\r\n",
      "P19   'place of birth'@en          2431392\r\n",
      "P69   'educated at'@en             1307297\r\n",
      "P641  'sport'@en                   932865\r\n",
      "P20   'place of death'@en          928957\r\n"
     ]
    }
   ],
   "source": [
    "!kgtk query -i $ITEM_FILE -i $LABEL_FILE -i $OUT/type_mapping.tsv --graph-cache $STORE \\\n",
    "--limit 10 \\\n",
    "--match '`'\"$ITEM_FILE\"'`: (e)-[l {label:prop}]->(), type: (e)-[]->(:`'\"$TYPE\"'`), `'\"$LABEL_FILE\"'`: (prop)-[:label]->(prop_lab)' \\\n",
    "--return 'distinct prop as prop, prop_lab as prop_label, count(distinct e) as ents_with_this_prop' \\\n",
    "--where 'prop_lab.kgtk_lqstring_lang_suffix = \"en\"' \\\n",
    "--order-by 'ents_with_this_prop desc' \\\n",
    "| column -t -s $'\\t'"
   ]
  },
  {
   "cell_type": "markdown",
   "metadata": {},
   "source": [
    "Top string attributes amongst entities of this type:"
   ]
  },
  {
   "cell_type": "code",
   "execution_count": 18,
   "metadata": {},
   "outputs": [
    {
     "name": "stdout",
     "output_type": "stream",
     "text": [
      "prop   prop_label                           ents_with_this_prop\n",
      "P373   'Commons category'@en                515460\n",
      "P1814  'name in kana'@en                    127400\n",
      "P1472  'Commons Creator page'@en            45196\n",
      "P742   'pseudonym'@en                       33807\n",
      "P1618  'sport number'@en                    24795\n",
      "P935   'Commons gallery'@en                 15702\n",
      "P2001  'Revised Romanization'@en            6412\n",
      "P1942  'McCune-Reischauer romanization'@en  5888\n",
      "P528   'catalog code'@en                    5019\n",
      "P835   'author citation (zoology)'@en       4195\n",
      "\n"
     ]
    }
   ],
   "source": [
    "if not string_file:\n",
    "    print(\"No string attribute file was provided in the parameters section, skipping this step.\")\n",
    "else:\n",
    "    # perform query\n",
    "    command = \"$kgtk query -i STRING_FILE -i LABEL_FILE -i $OUT/type_mapping.tsv --graph-cache $STORE \\\n",
    "               --limit 10 \\\n",
    "               --match '`STRING_FILE`: (e)-[l {label:prop}]->(), type: (e)-[]->(:`TYPE`), `LABEL_FILE`: (prop)-[:label]->(prop_lab)' \\\n",
    "               --return 'distinct prop as prop, prop_lab as prop_label, count(distinct e) as ents_with_this_prop' \\\n",
    "               --where 'prop_lab.kgtk_lqstring_lang_suffix = \\\"en\\\"' \\\n",
    "               --order-by 'ents_with_this_prop desc' \\\n",
    "               | column -t -s $'\\t'\"\n",
    "    run_command(command, {\"STRING_FILE\" : string_file, \"LABEL_FILE\" : label_file, \"TYPE\" : type_to_profile})"
   ]
  },
  {
   "cell_type": "code",
   "execution_count": null,
   "metadata": {},
   "outputs": [],
   "source": []
  }
 ],
 "metadata": {
  "celltoolbar": "Tags",
  "kernelspec": {
   "display_name": "Python 3",
   "language": "python",
   "name": "python3"
  },
  "language_info": {
   "codemirror_mode": {
    "name": "ipython",
    "version": 3
   },
   "file_extension": ".py",
   "mimetype": "text/x-python",
   "name": "python",
   "nbconvert_exporter": "python",
   "pygments_lexer": "ipython3",
   "version": "3.8.5"
  }
 },
 "nbformat": 4,
 "nbformat_minor": 4
}
