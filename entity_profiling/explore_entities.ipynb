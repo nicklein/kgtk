{
 "cells": [
  {
   "cell_type": "markdown",
   "metadata": {},
   "source": [
    "# Explore entities in input dataset\n",
    "In this notebook, we'll quickly take a look at the top attributes and relations amongst entities of a given type. This will help validate the input data and give a sense of what attributes we might expect to see being used to later profile entities of the given type."
   ]
  },
  {
   "cell_type": "code",
   "execution_count": 2,
   "metadata": {},
   "outputs": [],
   "source": [
    "import os\n",
    "import pandas as pd\n",
    "from utility import run_command\n",
    "from utility import rename_cols_and_overwrite_id\n",
    "from label_discretization import discretize_labels"
   ]
  },
  {
   "cell_type": "markdown",
   "metadata": {},
   "source": [
    "### Parameters\n",
    "**Required**  \n",
    "*item_file*: file path for the file that contains entity to entity relationships (e.g. wikibase-item)  \n",
    "*time_file*: file path for the file that contains entity to time-type values  \n",
    "*quantity_file*: file path for the file that contains entity to quantity-type values (remember to specify the trimmed file if you did the quantity file trimming pre-processing step).  \n",
    "*label_file*: file path for the file that contains wikidata labels  \n",
    "*work_dir*: path to folder where files created by this notebook should be stored  \n",
    "*store_dir*: path to folder containing the sqlite3.db file that we will use for our queries. We will reuse an existing file if there is one in this folder. Otherwise we will create a new one.\n",
    "\n",
    "**Optional**    \n",
    "*string_file*: file path for the file that contains entity to string-type values  "
   ]
  },
  {
   "cell_type": "code",
   "execution_count": 84,
   "metadata": {},
   "outputs": [],
   "source": [
    "data_dir = \"../../wikidata_films/data\" # my data files are all in the same directory, so I'll reuse this path prefix\n",
    "\n",
    "# **REQUIRED**\n",
    "item_file = \"{}/claims.wikibase-item.tsv.gz\".format(data_dir)\n",
    "time_file = \"{}/claims.time.tsv.gz\".format(data_dir)\n",
    "quantity_file = \"{}/claims.quantity_trimmed.tsv.gz\".format(data_dir)\n",
    "label_file = \"{}/labels.en.tsv.gz\".format(data_dir)\n",
    "work_dir = \"../../wikidata_films/profiler_work\"\n",
    "store_dir = \"../../wikidata_films\"\n",
    "\n",
    "# **optional**\n",
    "string_file = None#\"{}/claims.string.tsv.gz\".format(data_dir)"
   ]
  },
  {
   "cell_type": "markdown",
   "metadata": {},
   "source": [
    "### Process parameters and set up variables / file names"
   ]
  },
  {
   "cell_type": "code",
   "execution_count": 85,
   "metadata": {},
   "outputs": [],
   "source": [
    "# Ensure paths are absolute\n",
    "item_file = os.path.abspath(item_file)\n",
    "time_file = os.path.abspath(time_file)\n",
    "quantity_file = os.path.abspath(quantity_file)\n",
    "label_file = os.path.abspath(label_file)\n",
    "work_dir = os.path.abspath(work_dir)\n",
    "store_dir = os.path.abspath(store_dir)\n",
    "if string_file:\n",
    "    string_file = os.path.abspath(string_file)\n",
    "    \n",
    "# Create directories\n",
    "if not os.path.exists(work_dir):\n",
    "    os.makedirs(work_dir)\n",
    "output_dir = \"{}/explore_entities\".format(work_dir)\n",
    "if not os.path.exists(output_dir):\n",
    "    os.makedirs(output_dir)\n",
    "\n",
    "# adding some environment variables we'll be using frequently\n",
    "os.environ['ITEM_FILE'] = item_file\n",
    "os.environ['TIME_FILE'] = time_file\n",
    "os.environ['QUANTITY_FILE'] = quantity_file\n",
    "os.environ['LABEL_FILE'] = label_file\n",
    "os.environ['STORE'] = \"{}/wikidata.sqlite3.db\".format(store_dir)\n",
    "os.environ['OUT'] = output_dir\n",
    "os.environ['kgtk'] = \"kgtk\" # Need to do this for kgtk to be recognized as a command when passing it through a subprocess call"
   ]
  },
  {
   "cell_type": "markdown",
   "metadata": {},
   "source": [
    "## Create type mapping\n",
    "Mapping is from entity (Q node) to the entity's type (another Q node). Using P31 only for now, but can add P279* as well later"
   ]
  },
  {
   "cell_type": "code",
   "execution_count": 86,
   "metadata": {
    "scrolled": true
   },
   "outputs": [
    {
     "name": "stdout",
     "output_type": "stream",
     "text": [
      "^C\r\n",
      "\r\n",
      "Keyboard interrupt in query -i /Users/nicklein/Documents/grad_school/Research.nosync/wikidata_films/data/claims.wikibase-item.tsv.gz -o /Users/nicklein/Documents/grad_school/Research.nosync/wikidata_films/profiler_work/explore_entities/type_mapping.tsv --graph-cache /Users/nicklein/Documents/grad_school/Research.nosync/wikidata_films/wikidata.sqlite3.db --match `/Users/nicklein/Documents/grad_school/Research.nosync/wikidata_films/data/claims.wikibase-item.tsv.gz`: (e)-[l {label:\"P31\"}]->(type) --return distinct l as id, e as node1, l.label as label, type as node2.\r\n"
     ]
    }
   ],
   "source": [
    "!kgtk query -i $ITEM_FILE \\\n",
    "-o $OUT/type_mapping.tsv --graph-cache $STORE \\\n",
    "--match '`'\"$ITEM_FILE\"'`: (e)-[l {label:\"P31\"}]->(type)' \\\n",
    "--return 'distinct l as id, e as node1, l.label as label, type as node2'"
   ]
  },
  {
   "cell_type": "code",
   "execution_count": 6,
   "metadata": {
    "scrolled": false
   },
   "outputs": [
    {
     "name": "stdout",
     "output_type": "stream",
     "text": [
      "id                              node1  label  node2\r\n",
      "P10-P31-Q18610173-85ef4d24-0    P10    P31    Q18610173\r\n",
      "P1001-P31-Q15720608-deeedec9-0  P1001  P31    Q15720608\r\n",
      "P1001-P31-Q22984026-8beb0cfe-0  P1001  P31    Q22984026\r\n",
      "P1001-P31-Q22997934-1e5b1a96-0  P1001  P31    Q22997934\r\n"
     ]
    }
   ],
   "source": [
    "!head -5 $OUT/type_mapping.tsv | column -t -s $'\\t'"
   ]
  },
  {
   "cell_type": "markdown",
   "metadata": {},
   "source": [
    "## Look at top attributes amongst entities within a type"
   ]
  },
  {
   "cell_type": "code",
   "execution_count": 77,
   "metadata": {},
   "outputs": [],
   "source": [
    "# Change the Q-node type here to look at attributes of entities of a different type\n",
    "# type_to_profile = \"Q44\" # beer\n",
    "# type_to_profile = \"Q282\" # wine\n",
    "# type_to_profile = \"Q154\" # alcoholic beverage\n",
    "type_to_profile = \"Q11424\" # film\n",
    "os.environ[\"TYPE\"] = type_to_profile"
   ]
  },
  {
   "cell_type": "markdown",
   "metadata": {},
   "source": [
    "Number of entities of this type:"
   ]
  },
  {
   "cell_type": "code",
   "execution_count": 78,
   "metadata": {},
   "outputs": [
    {
     "name": "stdout",
     "output_type": "stream",
     "text": [
      "2276\r\n"
     ]
    }
   ],
   "source": [
    "!kgtk filter -p \" ; P31 ; $TYPE \" -i $OUT/type_mapping.tsv | wc -l | awk '{print $1-1}'"
   ]
  },
  {
   "cell_type": "markdown",
   "metadata": {},
   "source": [
    "Some examples:"
   ]
  },
  {
   "cell_type": "code",
   "execution_count": 79,
   "metadata": {},
   "outputs": [
    {
     "name": "stdout",
     "output_type": "stream",
     "text": [
      "id                              node1       label  node2\r\n",
      "Q100722103-P31-Q282-e63e3347-0  Q100722103  P31    Q282\r\n",
      "Q1032955-P31-Q282-2eca911b-0    Q1032955    P31    Q282\r\n",
      "Q1054633-P31-Q282-00df35b1-0    Q1054633    P31    Q282\r\n",
      "Q1055673-P31-Q282-c2c5de60-0    Q1055673    P31    Q282\r\n",
      "Q1056600-P31-Q282-84f232f2-0    Q1056600    P31    Q282\r\n",
      "Q1056603-P31-Q282-e878da1c-0    Q1056603    P31    Q282\r\n",
      "Q10728966-P31-Q282-df0316eb-0   Q10728966   P31    Q282\r\n",
      "Q1109383-P31-Q282-1d872982-0    Q1109383    P31    Q282\r\n",
      "Q1109394-P31-Q282-d6f71779-0    Q1109394    P31    Q282\r\n"
     ]
    }
   ],
   "source": [
    "!kgtk filter -p \" ; P31 ; $TYPE \" -i $OUT/type_mapping.tsv | head | column -t -s $'\\t'"
   ]
  },
  {
   "cell_type": "markdown",
   "metadata": {},
   "source": [
    "Number of these entities that have an english label:"
   ]
  },
  {
   "cell_type": "code",
   "execution_count": 80,
   "metadata": {},
   "outputs": [
    {
     "name": "stdout",
     "output_type": "stream",
     "text": [
      "205\r\n"
     ]
    }
   ],
   "source": [
    "!kgtk query -i $OUT/type_mapping.tsv -i $LABEL_FILE \\\n",
    "--graph-cache $STORE \\\n",
    "--match 'type: (e)-[]->(:`'\"$TYPE\"'`), `'\"$LABEL_FILE\"'`: (e)-[:label]->(e_lab)' \\\n",
    "--return 'e as entity, e_lab as entity_label' \\\n",
    "--where 'e_lab.kgtk_lqstring_lang_suffix = \"en\"' \\\n",
    "| wc -l | awk '{print $1-1}'"
   ]
  },
  {
   "cell_type": "markdown",
   "metadata": {},
   "source": [
    "Top quantity attributes amongst entities of this type:"
   ]
  },
  {
   "cell_type": "code",
   "execution_count": 81,
   "metadata": {},
   "outputs": [
    {
     "name": "stdout",
     "output_type": "stream",
     "text": [
      "prop   prop_label              ents_with_this_prop\r\n",
      "P2665  'alcohol by volume'@en  13\r\n",
      "P2046  'area'@en               1\r\n"
     ]
    }
   ],
   "source": [
    "!kgtk query -i $QUANTITY_FILE -i $LABEL_FILE -i $OUT/type_mapping.tsv --graph-cache $STORE \\\n",
    "--limit 10 \\\n",
    "--match '`'\"$QUANTITY_FILE\"'`: (e)-[l {label:prop}]->(), type: (e)-[]->(:`'\"$TYPE\"'`), `'\"$LABEL_FILE\"'`: (prop)-[:label]->(prop_lab)' \\\n",
    "--return 'distinct prop as prop, prop_lab as prop_label, count(distinct e) as ents_with_this_prop' \\\n",
    "--where 'prop_lab.kgtk_lqstring_lang_suffix = \"en\"' \\\n",
    "--order-by 'ents_with_this_prop desc' \\\n",
    "| column -t -s $'\\t'"
   ]
  },
  {
   "cell_type": "markdown",
   "metadata": {},
   "source": [
    "Top time attributes amongst entities of this type:"
   ]
  },
  {
   "cell_type": "code",
   "execution_count": 82,
   "metadata": {},
   "outputs": [
    {
     "name": "stdout",
     "output_type": "stream",
     "text": [
      "prop  prop_label      ents_with_this_prop\r\n",
      "P571  'inception'@en  74\r\n"
     ]
    }
   ],
   "source": [
    "!kgtk query -i $TIME_FILE -i $LABEL_FILE -i $OUT/type_mapping.tsv --graph-cache $STORE \\\n",
    "--limit 10 \\\n",
    "--match '`'\"$TIME_FILE\"'`: (e)-[l {label:prop}]->(), type: (e)-[]->(:`'\"$TYPE\"'`), `'\"$LABEL_FILE\"'`: (prop)-[:label]->(prop_lab)' \\\n",
    "--return 'distinct prop as prop, prop_lab as prop_label, count(distinct e) as ents_with_this_prop' \\\n",
    "--where 'prop_lab.kgtk_lqstring_lang_suffix = \"en\"' \\\n",
    "--order-by 'ents_with_this_prop desc' \\\n",
    "| column -t -s $'\\t'"
   ]
  },
  {
   "cell_type": "markdown",
   "metadata": {},
   "source": [
    "Top relations amongst entities of this type:"
   ]
  },
  {
   "cell_type": "code",
   "execution_count": 83,
   "metadata": {},
   "outputs": [
    {
     "name": "stdout",
     "output_type": "stream",
     "text": [
      "prop   prop_label                                             ents_with_this_prop\r\n",
      "P31    'instance of'@en                                       2276\r\n",
      "P279   'subclass of'@en                                       2144\r\n",
      "P17    'country'@en                                           184\r\n",
      "P1389  'product certification'@en                             159\r\n",
      "P131   'located in the administrative territorial entity'@en  50\r\n",
      "P1071  'location of creation'@en                              17\r\n",
      "P462   'color'@en                                             17\r\n",
      "P176   'manufacturer'@en                                      12\r\n",
      "P495   'country of origin'@en                                 11\r\n",
      "P366   'use'@en                                               8\r\n"
     ]
    }
   ],
   "source": [
    "!kgtk query -i $ITEM_FILE -i $LABEL_FILE -i $OUT/type_mapping.tsv --graph-cache $STORE \\\n",
    "--limit 10 \\\n",
    "--match '`'\"$ITEM_FILE\"'`: (e)-[l {label:prop}]->(), type: (e)-[]->(:`'\"$TYPE\"'`), `'\"$LABEL_FILE\"'`: (prop)-[:label]->(prop_lab)' \\\n",
    "--return 'distinct prop as prop, prop_lab as prop_label, count(distinct e) as ents_with_this_prop' \\\n",
    "--where 'prop_lab.kgtk_lqstring_lang_suffix = \"en\"' \\\n",
    "--order-by 'ents_with_this_prop desc' \\\n",
    "| column -t -s $'\\t'"
   ]
  },
  {
   "cell_type": "code",
   "execution_count": null,
   "metadata": {},
   "outputs": [],
   "source": []
  }
 ],
 "metadata": {
  "kernelspec": {
   "display_name": "Python [conda env:kgtk-env] *",
   "language": "python",
   "name": "conda-env-kgtk-env-py"
  },
  "language_info": {
   "codemirror_mode": {
    "name": "ipython",
    "version": 3
   },
   "file_extension": ".py",
   "mimetype": "text/x-python",
   "name": "python",
   "nbconvert_exporter": "python",
   "pygments_lexer": "ipython3",
   "version": "3.7.8"
  }
 },
 "nbformat": 4,
 "nbformat_minor": 4
}
