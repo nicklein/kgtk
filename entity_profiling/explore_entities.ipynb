{
 "cells": [
  {
   "cell_type": "markdown",
   "metadata": {},
   "source": [
    "# Explore entities in input dataset\n",
    "In this notebook, we'll quickly take a look at the top attributes and relations amongst entities of a given type. This will help validate the input data and give a sense of what attributes we might expect to see being used to later profile entities of the given type."
   ]
  },
  {
   "cell_type": "code",
   "execution_count": 2,
   "metadata": {},
   "outputs": [],
   "source": [
    "import os\n",
    "import pandas as pd\n",
    "from utility import run_command\n",
    "from utility import rename_cols_and_overwrite_id\n",
    "from label_discretization import discretize_labels"
   ]
  },
  {
   "cell_type": "markdown",
   "metadata": {},
   "source": [
    "### Parameters\n",
    "**Required**  \n",
    "*item_file*: file path for the file that contains entity to entity relationships (e.g. wikibase-item)  \n",
    "*time_file*: file path for the file that contains entity to time-type values  \n",
    "*quantity_file*: file path for the file that contains entity to quantity-type values (remember to specify the trimmed file if you did the quantity file trimming pre-processing step).  \n",
    "*label_file*: file path for the file that contains wikidata labels  \n",
    "*work_dir*: path to folder where files created by this notebook should be stored  \n",
    "*store_dir*: path to folder containing the sqlite3.db file that we will use for our queries. We will reuse an existing file if there is one in this folder. Otherwise we will create a new one.\n",
    "\n",
    "**Optional**    \n",
    "*string_file*: file path for the file that contains entity to string-type values  "
   ]
  },
  {
   "cell_type": "code",
   "execution_count": 18,
   "metadata": {},
   "outputs": [],
   "source": [
    "data_dir = \"../../wikidata_films/data\" # my data files are all in the same directory, so I'll reuse this path prefix\n",
    "\n",
    "# **REQUIRED**\n",
    "item_file = \"{}/claims.wikibase-item.tsv.gz\".format(data_dir)\n",
    "time_file = \"{}/claims.time.tsv.gz\".format(data_dir)\n",
    "quantity_file = \"{}/claims.quantity_trimmed.tsv.gz\".format(data_dir)\n",
    "label_file = \"{}/labels.en.tsv.gz\".format(data_dir)\n",
    "work_dir = \"../../wikidata_films/profiler_work\"\n",
    "store_dir = \"../../wikidata_films\"\n",
    "\n",
    "# **optional**\n",
    "string_file = \"{}/claims.string.tsv.gz\".format(data_dir)"
   ]
  },
  {
   "cell_type": "markdown",
   "metadata": {},
   "source": [
    "### Process parameters and set up variables / file names"
   ]
  },
  {
   "cell_type": "code",
   "execution_count": 19,
   "metadata": {},
   "outputs": [],
   "source": [
    "# Ensure paths are absolute\n",
    "item_file = os.path.abspath(item_file)\n",
    "time_file = os.path.abspath(time_file)\n",
    "quantity_file = os.path.abspath(quantity_file)\n",
    "label_file = os.path.abspath(label_file)\n",
    "work_dir = os.path.abspath(work_dir)\n",
    "store_dir = os.path.abspath(store_dir)\n",
    "if string_file:\n",
    "    string_file = os.path.abspath(string_file)\n",
    "    \n",
    "# Create directories\n",
    "if not os.path.exists(work_dir):\n",
    "    os.makedirs(work_dir)\n",
    "output_dir = \"{}/explore_entities\".format(work_dir)\n",
    "if not os.path.exists(output_dir):\n",
    "    os.makedirs(output_dir)\n",
    "\n",
    "# adding some environment variables we'll be using frequently\n",
    "os.environ['ITEM_FILE'] = item_file\n",
    "os.environ['TIME_FILE'] = time_file\n",
    "os.environ['QUANTITY_FILE'] = quantity_file\n",
    "os.environ['LABEL_FILE'] = label_file\n",
    "os.environ['STORE'] = \"{}/wikidata.sqlite3.db\".format(store_dir)\n",
    "os.environ['OUT'] = output_dir\n",
    "os.environ['kgtk'] = \"kgtk\" # Need to do this for kgtk to be recognized as a command when passing it through a subprocess call"
   ]
  },
  {
   "cell_type": "markdown",
   "metadata": {},
   "source": [
    "## Create type mapping\n",
    "Mapping is from entity (Q node) to the entity's type (another Q node). Using P31 only for now, but can add P279* as well later"
   ]
  },
  {
   "cell_type": "code",
   "execution_count": 5,
   "metadata": {
    "scrolled": true
   },
   "outputs": [],
   "source": [
    "!kgtk query -i $ITEM_FILE \\\n",
    "-o $OUT/type_mapping.tsv --graph-cache $STORE \\\n",
    "--match '`'\"$ITEM_FILE\"'`: (e)-[l {label:\"P31\"}]->(type)' \\\n",
    "--return 'distinct l as id, e as node1, l.label as label, type as node2'"
   ]
  },
  {
   "cell_type": "code",
   "execution_count": 6,
   "metadata": {
    "scrolled": false
   },
   "outputs": [
    {
     "name": "stdout",
     "output_type": "stream",
     "text": [
      "id                              node1  label  node2\r\n",
      "P10-P31-Q18610173-85ef4d24-0    P10    P31    Q18610173\r\n",
      "P1000-P31-Q18608871-093affb5-0  P1000  P31    Q18608871\r\n",
      "P1001-P31-Q15720608-deeedec9-0  P1001  P31    Q15720608\r\n",
      "P1001-P31-Q22984026-8beb0cfe-0  P1001  P31    Q22984026\r\n"
     ]
    }
   ],
   "source": [
    "!head -5 $OUT/type_mapping.tsv | column -t -s $'\\t'"
   ]
  },
  {
   "cell_type": "markdown",
   "metadata": {},
   "source": [
    "## Look at top attributes amongst entities within a type"
   ]
  },
  {
   "cell_type": "code",
   "execution_count": 7,
   "metadata": {},
   "outputs": [],
   "source": [
    "# Change the Q-node type here to look at attributes of entities of a different type\n",
    "# type_to_profile = \"Q44\" # beer\n",
    "# type_to_profile = \"Q282\" # wine\n",
    "# type_to_profile = \"Q154\" # alcoholic beverage\n",
    "type_to_profile = \"Q11424\" # film\n",
    "os.environ[\"TYPE\"] = type_to_profile"
   ]
  },
  {
   "cell_type": "markdown",
   "metadata": {},
   "source": [
    "Number of entities of this type:"
   ]
  },
  {
   "cell_type": "code",
   "execution_count": 8,
   "metadata": {},
   "outputs": [
    {
     "name": "stdout",
     "output_type": "stream",
     "text": [
      "176668\r\n"
     ]
    }
   ],
   "source": [
    "!kgtk filter -p \" ; P31 ; $TYPE \" -i $OUT/type_mapping.tsv | wc -l | awk '{print $1-1}'"
   ]
  },
  {
   "cell_type": "markdown",
   "metadata": {},
   "source": [
    "Some examples:"
   ]
  },
  {
   "cell_type": "code",
   "execution_count": 9,
   "metadata": {},
   "outputs": [
    {
     "name": "stdout",
     "output_type": "stream",
     "text": [
      "id                                node1       label  node2\r\n",
      "Q1000094-P31-Q11424-63dc6868-0    Q1000094    P31    Q11424\r\n",
      "Q1000174-P31-Q11424-43e4b2fb-0    Q1000174    P31    Q11424\r\n",
      "Q1000394-P31-Q11424-2b44b6cc-0    Q1000394    P31    Q11424\r\n",
      "Q10005695-P31-Q11424-d652d3ab-0   Q10005695   P31    Q11424\r\n",
      "Q100057542-P31-Q11424-5f3fc57c-0  Q100057542  P31    Q11424\r\n",
      "Q10007277-P31-Q11424-2a961c75-0   Q10007277   P31    Q11424\r\n",
      "Q1000825-P31-Q11424-a932e4d2-0    Q1000825    P31    Q11424\r\n",
      "Q1000826-P31-Q11424-8c07b338-0    Q1000826    P31    Q11424\r\n",
      "Q100097551-P31-Q11424-0d5dad84-0  Q100097551  P31    Q11424\r\n"
     ]
    }
   ],
   "source": [
    "!kgtk filter -p \" ; P31 ; $TYPE \" -i $OUT/type_mapping.tsv | head | column -t -s $'\\t'"
   ]
  },
  {
   "cell_type": "markdown",
   "metadata": {},
   "source": [
    "Number of these entities that have an english label:"
   ]
  },
  {
   "cell_type": "code",
   "execution_count": 10,
   "metadata": {},
   "outputs": [
    {
     "name": "stdout",
     "output_type": "stream",
     "text": [
      "176406\r\n"
     ]
    }
   ],
   "source": [
    "!kgtk query -i $OUT/type_mapping.tsv -i $LABEL_FILE \\\n",
    "--graph-cache $STORE \\\n",
    "--match 'type: (e)-[]->(:`'\"$TYPE\"'`), `'\"$LABEL_FILE\"'`: (e)-[:label]->(e_lab)' \\\n",
    "--return 'e as entity, e_lab as entity_label' \\\n",
    "--where 'e_lab.kgtk_lqstring_lang_suffix = \"en\"' \\\n",
    "| wc -l | awk '{print $1-1}'"
   ]
  },
  {
   "cell_type": "markdown",
   "metadata": {},
   "source": [
    "Top quantity attributes amongst entities of this type:"
   ]
  },
  {
   "cell_type": "code",
   "execution_count": 13,
   "metadata": {},
   "outputs": [
    {
     "name": "stdout",
     "output_type": "stream",
     "text": [
      "prop   prop_label                         ents_with_this_prop\r\n",
      "P2047  'duration'@en                      59289\r\n",
      "P2130  'cost'@en                          2465\r\n",
      "P2142  'box office'@en                    1692\r\n",
      "P1113  'number of episodes'@en            376\r\n",
      "P2769  'budget'@en                        181\r\n",
      "P1110  'attendance'@en                    104\r\n",
      "P2437  'number of seasons'@en             73\r\n",
      "P1104  'number of pages'@en               63\r\n",
      "P2635  'number of parts of this work'@en  17\r\n",
      "P2043  'length'@en                        8\r\n"
     ]
    }
   ],
   "source": [
    "!kgtk query -i $QUANTITY_FILE -i $LABEL_FILE -i $OUT/type_mapping.tsv --graph-cache $STORE \\\n",
    "--limit 10 \\\n",
    "--match '`'\"$QUANTITY_FILE\"'`: (e)-[l {label:prop}]->(), type: (e)-[]->(:`'\"$TYPE\"'`), `'\"$LABEL_FILE\"'`: (prop)-[:label]->(prop_lab)' \\\n",
    "--return 'distinct prop as prop, prop_lab as prop_label, count(distinct e) as ents_with_this_prop' \\\n",
    "--where 'prop_lab.kgtk_lqstring_lang_suffix = \"en\"' \\\n",
    "--order-by 'ents_with_this_prop desc' \\\n",
    "| column -t -s $'\\t'"
   ]
  },
  {
   "cell_type": "markdown",
   "metadata": {},
   "source": [
    "Top time attributes amongst entities of this type:"
   ]
  },
  {
   "cell_type": "code",
   "execution_count": 14,
   "metadata": {},
   "outputs": [
    {
     "name": "stdout",
     "output_type": "stream",
     "text": [
      "prop   prop_label                      ents_with_this_prop\r\n",
      "P577   'publication date'@en           172408\r\n",
      "P1191  'date of first performance'@en  537\r\n",
      "P580   'start time'@en                 343\r\n",
      "P585   'point in time'@en              233\r\n",
      "P571   'inception'@en                  223\r\n",
      "P582   'end time'@en                   207\r\n",
      "P2754  'production date'@en            90\r\n",
      "P2913  'date depicted'@en              22\r\n",
      "P3893  'public domain date'@en         11\r\n",
      "P2031  'work period (start)'@en        7\r\n"
     ]
    }
   ],
   "source": [
    "!kgtk query -i $TIME_FILE -i $LABEL_FILE -i $OUT/type_mapping.tsv --graph-cache $STORE \\\n",
    "--limit 10 \\\n",
    "--match '`'\"$TIME_FILE\"'`: (e)-[l {label:prop}]->(), type: (e)-[]->(:`'\"$TYPE\"'`), `'\"$LABEL_FILE\"'`: (prop)-[:label]->(prop_lab)' \\\n",
    "--return 'distinct prop as prop, prop_lab as prop_label, count(distinct e) as ents_with_this_prop' \\\n",
    "--where 'prop_lab.kgtk_lqstring_lang_suffix = \"en\"' \\\n",
    "--order-by 'ents_with_this_prop desc' \\\n",
    "| column -t -s $'\\t'"
   ]
  },
  {
   "cell_type": "markdown",
   "metadata": {},
   "source": [
    "Top relations amongst entities of this type:"
   ]
  },
  {
   "cell_type": "code",
   "execution_count": 15,
   "metadata": {},
   "outputs": [
    {
     "name": "stdout",
     "output_type": "stream",
     "text": [
      "prop  prop_label                                 ents_with_this_prop\r\n",
      "P31   'instance of'@en                           176667\r\n",
      "P495  'country of origin'@en                     166166\r\n",
      "P364  'original language of film or TV show'@en  143025\r\n",
      "P136  'genre'@en                                 140307\r\n",
      "P57   'director'@en                              136285\r\n",
      "P161  'cast member'@en                           118539\r\n",
      "P462  'color'@en                                 107132\r\n",
      "P58   'screenwriter'@en                          77204\r\n",
      "P86   'composer'@en                              70155\r\n",
      "P344  'director of photography'@en               52926\r\n"
     ]
    }
   ],
   "source": [
    "!kgtk query -i $ITEM_FILE -i $LABEL_FILE -i $OUT/type_mapping.tsv --graph-cache $STORE \\\n",
    "--limit 10 \\\n",
    "--match '`'\"$ITEM_FILE\"'`: (e)-[l {label:prop}]->(), type: (e)-[]->(:`'\"$TYPE\"'`), `'\"$LABEL_FILE\"'`: (prop)-[:label]->(prop_lab)' \\\n",
    "--return 'distinct prop as prop, prop_lab as prop_label, count(distinct e) as ents_with_this_prop' \\\n",
    "--where 'prop_lab.kgtk_lqstring_lang_suffix = \"en\"' \\\n",
    "--order-by 'ents_with_this_prop desc' \\\n",
    "| column -t -s $'\\t'"
   ]
  },
  {
   "cell_type": "markdown",
   "metadata": {},
   "source": [
    "Top string attributes amongst entities of this type:"
   ]
  },
  {
   "cell_type": "code",
   "execution_count": 20,
   "metadata": {},
   "outputs": [
    {
     "name": "stdout",
     "output_type": "stream",
     "text": [
      "prop   prop_label                           ents_with_this_prop\n",
      "P373   'Commons category'@en                7064\n",
      "P217   'inventory number'@en                108\n",
      "P444   'review score'@en                    90\n",
      "P935   'Commons gallery'@en                 71\n",
      "P1814  'name in kana'@en                    59\n",
      "P2572  'hashtag'@en                         39\n",
      "P2093  'author name string'@en              32\n",
      "P2364  'production code'@en                 28\n",
      "P2001  'Revised Romanization'@en            26\n",
      "P1942  'McCune-Reischauer romanization'@en  13\n",
      "\n"
     ]
    }
   ],
   "source": [
    "if not string_file:\n",
    "    print(\"No string attribute file was provided in the parameters section, skipping this step.\")\n",
    "else:\n",
    "    # perform query\n",
    "    command = \"$kgtk query -i STRING_FILE -i LABEL_FILE -i $OUT/type_mapping.tsv --graph-cache $STORE \\\n",
    "               --limit 10 \\\n",
    "               --match '`STRING_FILE`: (e)-[l {label:prop}]->(), type: (e)-[]->(:`TYPE`), `LABEL_FILE`: (prop)-[:label]->(prop_lab)' \\\n",
    "               --return 'distinct prop as prop, prop_lab as prop_label, count(distinct e) as ents_with_this_prop' \\\n",
    "               --where 'prop_lab.kgtk_lqstring_lang_suffix = \\\"en\\\"' \\\n",
    "               --order-by 'ents_with_this_prop desc' \\\n",
    "               | column -t -s $'\\t'\"\n",
    "    run_command(command, {\"STRING_FILE\" : string_file, \"LABEL_FILE\" : label_file, \"TYPE\" : type_to_profile})"
   ]
  },
  {
   "cell_type": "code",
   "execution_count": null,
   "metadata": {},
   "outputs": [],
   "source": []
  }
 ],
 "metadata": {
  "kernelspec": {
   "display_name": "Python 3",
   "language": "python",
   "name": "python3"
  },
  "language_info": {
   "codemirror_mode": {
    "name": "ipython",
    "version": 3
   },
   "file_extension": ".py",
   "mimetype": "text/x-python",
   "name": "python",
   "nbconvert_exporter": "python",
   "pygments_lexer": "ipython3",
   "version": "3.8.5"
  }
 },
 "nbformat": 4,
 "nbformat_minor": 4
}
