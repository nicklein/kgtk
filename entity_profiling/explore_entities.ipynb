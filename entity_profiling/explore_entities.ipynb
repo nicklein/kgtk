{
 "cells": [
  {
   "cell_type": "markdown",
   "metadata": {},
   "source": [
    "# Explore entities in input dataset\n",
    "In this notebook, we'll quickly take a look at the top attributes and relations amongst entities of a given type. This will help validate the input data and give a sense of what attributes we might expect to see being used to later profile entities of the given type."
   ]
  },
  {
   "cell_type": "code",
   "execution_count": 1,
   "metadata": {},
   "outputs": [],
   "source": [
    "import os\n",
    "import pandas as pd\n",
    "from utility import run_command\n",
    "from utility import rename_cols_and_overwrite_id"
   ]
  },
  {
   "cell_type": "markdown",
   "metadata": {},
   "source": [
    "### Parameters\n",
    "**Required**  \n",
    "*item_file*: file path for the file that contains entity to entity relationships (e.g. wikibase-item)  \n",
    "*time_file*: file path for the file that contains entity to time-type values  \n",
    "*quantity_file*: file path for the file that contains entity to quantity-type values (remember to specify the trimmed file if you did the quantity file trimming pre-processing step).  \n",
    "*label_file*: file path for the file that contains wikidata labels  \n",
    "*work_dir*: path to folder where files created by this notebook should be stored  \n",
    "*store_dir*: path to folder containing the sqlite3.db file that we will use for our queries. We will reuse an existing file if there is one in this folder. Otherwise we will create a new one.\n",
    "\n",
    "**Optional**    \n",
    "*string_file*: file path for the file that contains entity to string-type values  "
   ]
  },
  {
   "cell_type": "code",
   "execution_count": 36,
   "metadata": {},
   "outputs": [],
   "source": [
    "data_dir = \"../../wikidata_politicians/data\" # my data files are all in the same directory, so I'll reuse this path prefix\n",
    "\n",
    "# **REQUIRED**\n",
    "item_file = \"{}/claims.wikibase-item.tsv.gz\".format(data_dir)\n",
    "time_file = \"{}/claims.time.tsv.gz\".format(data_dir)\n",
    "quantity_file = \"{}/claims.quantity.tsv.gz\".format(data_dir)\n",
    "label_file = \"{}/labels.en.tsv.gz\".format(data_dir)\n",
    "work_dir = \"../../wikidata_films/profiler_work\"\n",
    "store_dir = \"../../wikidata_films\"\n",
    "\n",
    "# **optional**\n",
    "string_file = \"{}/claims.string.tsv.gz\".format(data_dir)"
   ]
  },
  {
   "cell_type": "markdown",
   "metadata": {},
   "source": [
    "### Process parameters and set up variables / file names"
   ]
  },
  {
   "cell_type": "code",
   "execution_count": 37,
   "metadata": {},
   "outputs": [],
   "source": [
    "# Ensure paths are absolute\n",
    "item_file = os.path.abspath(item_file)\n",
    "time_file = os.path.abspath(time_file)\n",
    "quantity_file = os.path.abspath(quantity_file)\n",
    "label_file = os.path.abspath(label_file)\n",
    "work_dir = os.path.abspath(work_dir)\n",
    "store_dir = os.path.abspath(store_dir)\n",
    "if string_file:\n",
    "    string_file = os.path.abspath(string_file)\n",
    "    \n",
    "# Create directories\n",
    "if not os.path.exists(work_dir):\n",
    "    os.makedirs(work_dir)\n",
    "output_dir = \"{}/explore_entities\".format(work_dir)\n",
    "if not os.path.exists(output_dir):\n",
    "    os.makedirs(output_dir)\n",
    "\n",
    "# adding some environment variables we'll be using frequently\n",
    "os.environ['ITEM_FILE'] = item_file\n",
    "os.environ['TIME_FILE'] = time_file\n",
    "os.environ['QUANTITY_FILE'] = quantity_file\n",
    "os.environ['LABEL_FILE'] = label_file\n",
    "os.environ['STORE'] = \"{}/wikidata.sqlite3.db\".format(store_dir)\n",
    "os.environ['OUT'] = output_dir\n",
    "os.environ['kgtk'] = \"kgtk\" # Need to do this for kgtk to be recognized as a command when passing it through a subprocess call"
   ]
  },
  {
   "cell_type": "markdown",
   "metadata": {},
   "source": [
    "## Create type mapping\n",
    "Mapping is from entity (Q node) to the entity's type (another Q node).  \n",
    "To define type, we can use P31 or P279*. We may use other properties depending on what we want to profile (e.g. the property that defines whether an entity is a Politician is P106 - occupation)."
   ]
  },
  {
   "cell_type": "code",
   "execution_count": 20,
   "metadata": {},
   "outputs": [],
   "source": [
    "type_defining_property = \"P106\"\n",
    "os.environ[\"TYPE_PROP\"] = type_defining_property"
   ]
  },
  {
   "cell_type": "code",
   "execution_count": 29,
   "metadata": {
    "scrolled": true
   },
   "outputs": [],
   "source": [
    "!kgtk query -i $ITEM_FILE \\\n",
    "-o $OUT/type_mapping.tsv --graph-cache $STORE \\\n",
    "--match '`'\"$ITEM_FILE\"'`: (e)-[l {label:\"'\"$TYPE_PROP\"'\"}]->(type)' \\\n",
    "--return 'distinct l as id, e as node1, l.label as label, type as node2'"
   ]
  },
  {
   "cell_type": "code",
   "execution_count": 30,
   "metadata": {
    "scrolled": false
   },
   "outputs": [
    {
     "name": "stdout",
     "output_type": "stream",
     "text": [
      "id                                   node1       label  node2\r\n",
      "Q10007-P106-Q1097498-71127567-0      Q10007      P106   Q1097498\r\n",
      "Q1000926-P106-Q372436-773c1779-0     Q1000926    P106   Q372436\r\n",
      "Q100109193-P106-Q2478141-24bc7030-0  Q100109193  P106   Q2478141\r\n",
      "Q10011-P106-Q1097498-2778ac1a-0      Q10011      P106   Q1097498\r\n"
     ]
    }
   ],
   "source": [
    "!head -5 $OUT/type_mapping.tsv | column -t -s $'\\t'"
   ]
  },
  {
   "cell_type": "markdown",
   "metadata": {},
   "source": [
    "## Look at top attributes amongst entities within a type"
   ]
  },
  {
   "cell_type": "code",
   "execution_count": 31,
   "metadata": {},
   "outputs": [],
   "source": [
    "# Change the Q-node type here to look at attributes of entities of a different type\n",
    "# type_to_profile = \"Q44\" # beer\n",
    "# type_to_profile = \"Q282\" # wine\n",
    "# type_to_profile = \"Q154\" # alcoholic beverage\n",
    "# type_to_profile = \"Q11424\" # film\n",
    "type_to_profile = \"Q82955\" # politician\n",
    "os.environ[\"TYPE\"] = type_to_profile"
   ]
  },
  {
   "cell_type": "markdown",
   "metadata": {},
   "source": [
    "Number of entities of this type:"
   ]
  },
  {
   "cell_type": "code",
   "execution_count": 32,
   "metadata": {},
   "outputs": [
    {
     "name": "stdout",
     "output_type": "stream",
     "text": [
      "2657\r\n"
     ]
    }
   ],
   "source": [
    "!kgtk filter -p \" ; $TYPE_PROP ; $TYPE \" -i $OUT/type_mapping.tsv | wc -l | awk '{print $1-1}'"
   ]
  },
  {
   "cell_type": "markdown",
   "metadata": {},
   "source": [
    "Some examples:"
   ]
  },
  {
   "cell_type": "code",
   "execution_count": 33,
   "metadata": {},
   "outputs": [
    {
     "name": "stdout",
     "output_type": "stream",
     "text": [
      "id                                 node1       label  node2\r\n",
      "Q1001159-P106-Q82955-047f990a-0    Q1001159    P106   Q82955\r\n",
      "Q100487161-P106-Q82955-1ac1ed0d-0  Q100487161  P106   Q82955\r\n",
      "Q100605214-P106-Q82955-ce9366a2-0  Q100605214  P106   Q82955\r\n",
      "Q100729152-P106-Q82955-712a5b0b-0  Q100729152  P106   Q82955\r\n",
      "Q100731488-P106-Q82955-3a49c4dc-0  Q100731488  P106   Q82955\r\n",
      "Q100737619-P106-Q82955-35480579-0  Q100737619  P106   Q82955\r\n",
      "Q101092015-P106-Q82955-81e5834b-0  Q101092015  P106   Q82955\r\n",
      "Q101436380-P106-Q82955-2654a973-0  Q101436380  P106   Q82955\r\n",
      "Q1015710-P106-Q82955-f438772b-0    Q1015710    P106   Q82955\r\n"
     ]
    }
   ],
   "source": [
    "!kgtk filter -p \" ; $TYPE_PROP ; $TYPE \" -i $OUT/type_mapping.tsv | head | column -t -s $'\\t'"
   ]
  },
  {
   "cell_type": "markdown",
   "metadata": {},
   "source": [
    "Number of these entities that have an english label:"
   ]
  },
  {
   "cell_type": "code",
   "execution_count": 34,
   "metadata": {},
   "outputs": [
    {
     "name": "stdout",
     "output_type": "stream",
     "text": [
      "2635\r\n"
     ]
    }
   ],
   "source": [
    "!kgtk query -i $OUT/type_mapping.tsv -i $LABEL_FILE \\\n",
    "--graph-cache $STORE \\\n",
    "--match 'type: (e)-[]->(:`'\"$TYPE\"'`), `'\"$LABEL_FILE\"'`: (e)-[:label]->(e_lab)' \\\n",
    "--return 'e as entity, e_lab as entity_label' \\\n",
    "--where 'e_lab.kgtk_lqstring_lang_suffix = \"en\"' \\\n",
    "| wc -l | awk '{print $1-1}'"
   ]
  },
  {
   "cell_type": "markdown",
   "metadata": {},
   "source": [
    "Top quantity attributes amongst entities of this type:"
   ]
  },
  {
   "cell_type": "code",
   "execution_count": 38,
   "metadata": {},
   "outputs": [
    {
     "name": "stdout",
     "output_type": "stream",
     "text": [
      "prop   prop_label                  ents_with_this_prop\r\n",
      "P1971  'number of children'@en     290\r\n",
      "P2048  'height'@en                 27\r\n",
      "P2067  'mass'@en                   8\r\n",
      "P2218  'net worth'@en              5\r\n",
      "P1352  'ranking'@en                1\r\n",
      "P2021  'Erdős number'@en           1\r\n",
      "P2097  'term length of office'@en  1\r\n",
      "P2138  'total liabilities'@en      1\r\n",
      "P2139  'total revenue'@en          1\r\n",
      "P2295  'net profit'@en             1\r\n"
     ]
    }
   ],
   "source": [
    "!kgtk query -i $QUANTITY_FILE -i $LABEL_FILE -i $OUT/type_mapping.tsv --graph-cache $STORE \\\n",
    "--limit 10 \\\n",
    "--match '`'\"$QUANTITY_FILE\"'`: (e)-[l {label:prop}]->(), type: (e)-[]->(:`'\"$TYPE\"'`), `'\"$LABEL_FILE\"'`: (prop)-[:label]->(prop_lab)' \\\n",
    "--return 'distinct prop as prop, prop_lab as prop_label, count(distinct e) as ents_with_this_prop' \\\n",
    "--where 'prop_lab.kgtk_lqstring_lang_suffix = \"en\"' \\\n",
    "--order-by 'ents_with_this_prop desc' \\\n",
    "| column -t -s $'\\t'"
   ]
  },
  {
   "cell_type": "markdown",
   "metadata": {},
   "source": [
    "Top time attributes amongst entities of this type:"
   ]
  },
  {
   "cell_type": "code",
   "execution_count": 39,
   "metadata": {},
   "outputs": [
    {
     "name": "stdout",
     "output_type": "stream",
     "text": [
      "prop   prop_label                               ents_with_this_prop\r\n",
      "P569   'date of birth'@en                       2529\r\n",
      "P570   'date of death'@en                       1001\r\n",
      "P2031  'work period (start)'@en                 52\r\n",
      "P4602  'date of burial or cremation'@en         19\r\n",
      "P1636  'date of baptism in early childhood'@en  6\r\n",
      "P2032  'work period (end)'@en                   4\r\n",
      "P1317  'floruit'@en                             3\r\n",
      "P571   'inception'@en                           2\r\n",
      "P580   'start time'@en                          1\r\n",
      "P582   'end time'@en                            1\r\n"
     ]
    }
   ],
   "source": [
    "!kgtk query -i $TIME_FILE -i $LABEL_FILE -i $OUT/type_mapping.tsv --graph-cache $STORE \\\n",
    "--limit 10 \\\n",
    "--match '`'\"$TIME_FILE\"'`: (e)-[l {label:prop}]->(), type: (e)-[]->(:`'\"$TYPE\"'`), `'\"$LABEL_FILE\"'`: (prop)-[:label]->(prop_lab)' \\\n",
    "--return 'distinct prop as prop, prop_lab as prop_label, count(distinct e) as ents_with_this_prop' \\\n",
    "--where 'prop_lab.kgtk_lqstring_lang_suffix = \"en\"' \\\n",
    "--order-by 'ents_with_this_prop desc' \\\n",
    "| column -t -s $'\\t'"
   ]
  },
  {
   "cell_type": "markdown",
   "metadata": {},
   "source": [
    "Top relations amongst entities of this type:"
   ]
  },
  {
   "cell_type": "code",
   "execution_count": 40,
   "metadata": {},
   "outputs": [
    {
     "name": "stdout",
     "output_type": "stream",
     "text": [
      "prop  prop_label                   ents_with_this_prop\r\n",
      "P106  'occupation'@en              2657\r\n",
      "P31   'instance of'@en             2657\r\n",
      "P21   'sex or gender'@en           2618\r\n",
      "P39   'position held'@en           2572\r\n",
      "P27   'country of citizenship'@en  2469\r\n",
      "P19   'place of birth'@en          2309\r\n",
      "P735  'given name'@en              2094\r\n",
      "P102  'political party'@en         1946\r\n",
      "P734  'family name'@en             1879\r\n",
      "P69   'educated at'@en             1688\r\n"
     ]
    }
   ],
   "source": [
    "!kgtk query -i $ITEM_FILE -i $LABEL_FILE -i $OUT/type_mapping.tsv --graph-cache $STORE \\\n",
    "--limit 10 \\\n",
    "--match '`'\"$ITEM_FILE\"'`: (e)-[l {label:prop}]->(), type: (e)-[]->(:`'\"$TYPE\"'`), `'\"$LABEL_FILE\"'`: (prop)-[:label]->(prop_lab)' \\\n",
    "--return 'distinct prop as prop, prop_lab as prop_label, count(distinct e) as ents_with_this_prop' \\\n",
    "--where 'prop_lab.kgtk_lqstring_lang_suffix = \"en\"' \\\n",
    "--order-by 'ents_with_this_prop desc' \\\n",
    "| column -t -s $'\\t'"
   ]
  },
  {
   "cell_type": "markdown",
   "metadata": {},
   "source": [
    "Top string attributes amongst entities of this type:"
   ]
  },
  {
   "cell_type": "code",
   "execution_count": 41,
   "metadata": {},
   "outputs": [
    {
     "name": "stdout",
     "output_type": "stream",
     "text": [
      "prop   prop_label                             ents_with_this_prop\n",
      "P373   'Commons category'@en                  1480\n",
      "P935   'Commons gallery'@en                   162\n",
      "P528   'catalog code'@en                      68\n",
      "P898   'IPA transcription'@en                 32\n",
      "P1472  'Commons Creator page'@en              31\n",
      "P1814  'name in kana'@en                      30\n",
      "P742   'pseudonym'@en                         12\n",
      "P1942  'McCune-Reischauer romanization'@en    8\n",
      "P2001  'Revised Romanization'@en              8\n",
      "P1438  'Jewish Encyclopedia ID (Russian)'@en  7\n",
      "\n"
     ]
    }
   ],
   "source": [
    "if not string_file:\n",
    "    print(\"No string attribute file was provided in the parameters section, skipping this step.\")\n",
    "else:\n",
    "    # perform query\n",
    "    command = \"$kgtk query -i STRING_FILE -i LABEL_FILE -i $OUT/type_mapping.tsv --graph-cache $STORE \\\n",
    "               --limit 10 \\\n",
    "               --match '`STRING_FILE`: (e)-[l {label:prop}]->(), type: (e)-[]->(:`TYPE`), `LABEL_FILE`: (prop)-[:label]->(prop_lab)' \\\n",
    "               --return 'distinct prop as prop, prop_lab as prop_label, count(distinct e) as ents_with_this_prop' \\\n",
    "               --where 'prop_lab.kgtk_lqstring_lang_suffix = \\\"en\\\"' \\\n",
    "               --order-by 'ents_with_this_prop desc' \\\n",
    "               | column -t -s $'\\t'\"\n",
    "    run_command(command, {\"STRING_FILE\" : string_file, \"LABEL_FILE\" : label_file, \"TYPE\" : type_to_profile})"
   ]
  },
  {
   "cell_type": "code",
   "execution_count": null,
   "metadata": {},
   "outputs": [],
   "source": []
  }
 ],
 "metadata": {
  "kernelspec": {
   "display_name": "Python 3",
   "language": "python",
   "name": "python3"
  },
  "language_info": {
   "codemirror_mode": {
    "name": "ipython",
    "version": 3
   },
   "file_extension": ".py",
   "mimetype": "text/x-python",
   "name": "python",
   "nbconvert_exporter": "python",
   "pygments_lexer": "ipython3",
   "version": "3.8.5"
  }
 },
 "nbformat": 4,
 "nbformat_minor": 4
}
