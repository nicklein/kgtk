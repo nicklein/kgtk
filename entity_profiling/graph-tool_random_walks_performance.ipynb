{
 "cells": [
  {
   "cell_type": "code",
   "execution_count": 179,
   "metadata": {},
   "outputs": [],
   "source": [
    "import numpy as np\n",
    "import matplotlib.pyplot as plt\n",
    "import graph_tool.all as gt\n",
    "from numpy.random import *\n",
    "from time import perf_counter\n",
    "import matplotlib.gridspec as gridspec"
   ]
  },
  {
   "cell_type": "markdown",
   "metadata": {},
   "source": [
    "Helpers for creating random graphs"
   ]
  },
  {
   "cell_type": "code",
   "execution_count": 84,
   "metadata": {},
   "outputs": [],
   "source": [
    "def sample_k(max):\n",
    "    accept = False\n",
    "    while not accept:\n",
    "        k = np.random.randint(1,max+1)\n",
    "        accept = np.random.random() < 1.0/k\n",
    "    return k\n",
    "\n",
    "def get_random_graph_of_size(nodes):\n",
    "    # g = gt.random_graph(1000, lambda: sample_k(40), model=\"probabilistic-configuration\",\n",
    "    #                     edge_probs=lambda i, k: 1.0 / (1 + abs(i - k)), directed=False,\n",
    "    #                     n_iter=100)\n",
    "    return gt.random_graph(nodes, lambda: (sample_k(40), sample_k(40)), directed=True, n_iter=100)"
   ]
  },
  {
   "cell_type": "markdown",
   "metadata": {},
   "source": [
    "Code for performing random walks on a graph, as we would do to compute the H-path feature in the HAS-embedding model.  \n",
    "Including a couple iterations of trying to make performance improvements."
   ]
  },
  {
   "cell_type": "code",
   "execution_count": 177,
   "metadata": {},
   "outputs": [],
   "source": [
    "# Random walk\n",
    "def random_walk1(g, start_node, walk_length=10):\n",
    "    v = g.vertex(start_node)\n",
    "    walk = [int(v)]\n",
    "    while len(walk) < walk_length:\n",
    "        if v.out_degree() == 0:\n",
    "            break\n",
    "        n_list = []\n",
    "        for w in v.out_neighbors():\n",
    "            n_list.append(w)\n",
    "        v = n_list[randint(0, len(n_list))]\n",
    "        walk.append(int(v))\n",
    "    return walk\n",
    "\n",
    "def random_walk2(g, start_node, walk_length=10):\n",
    "    v = start_node\n",
    "    walk = [int(v)]\n",
    "    while len(walk) < walk_length:\n",
    "        if g.get_out_degrees([v]) == 0:\n",
    "            break\n",
    "        n_list = g.get_out_neighbors(v)\n",
    "        v = n_list[randint(0, len(n_list))]\n",
    "        walk.append(int(v))\n",
    "    return walk\n",
    "\n",
    "def random_walk3(g, start_nodes, walk_length=10):\n",
    "    # pre-allocate walks array with initial values of -1\n",
    "    walks = np.ones((len(start_nodes),walk_length), dtype=int) * -1\n",
    "    \n",
    "    walks[:,0] = start_nodes\n",
    "    cur_length = 1\n",
    "    while cur_length < walk_length:\n",
    "        cur_nodes = walks[:,cur_length - 1]\n",
    "        # if we've previously hit a dead end, then we could have -1 as a \n",
    "        # current node valuein this case, we want to continue filling in -1.\n",
    "        neighbors = [np.array([-1]) if v < 0 else g.get_out_neighbors(v) for v in cur_nodes]\n",
    "        # if there are no outbound edges we can take for \n",
    "        # some vertex, we'll make the nextvertex we visit = -1\n",
    "        neighbors = [np.arrray([-1]) if len(arr) < 0 else arr for arr in neighbors]\n",
    "        next_nodes = [np.random.choice(arr) for arr in neighbors]\n",
    "        walks[:,cur_length] = next_nodes\n",
    "        cur_length += 1\n",
    "    return walks\n",
    "\n",
    "# Performs num_walks random walks at each node in the graph\n",
    "# i.e. if there are 10 nodes in the gaph and num_walks=10, then we'll do 10*10 = 100 random walks.\n",
    "# Returns a list of walks\n",
    "def build_corpus1(g, walk_length=10, num_walks=10):\n",
    "    walks = [random_walk1(g, start) for start in g.get_vertices() for i in range(num_walks)]\n",
    "    return walks\n",
    "def build_corpus2(g, walk_length=10, num_walks=10):\n",
    "    walks = [random_walk2(g, start) for start in g.get_vertices() for i in range(num_walks)]\n",
    "    return walks\n",
    "def build_corpus3(g, walk_length=10, num_walks=10):\n",
    "    start_nodes = np.repeat(g.get_vertices(), num_walks)\n",
    "    walks = random_walk3(g, start_nodes)\n",
    "    return walks"
   ]
  },
  {
   "cell_type": "markdown",
   "metadata": {},
   "source": [
    "Seeing if DFS can be made to do random walk by customizing the search events...  \n",
    "See below that running the cell that does the DFS gives the same path every time - there doesn't seem to be a way to make it choose which neighbor to go to in a non-deterministic fashion."
   ]
  },
  {
   "cell_type": "code",
   "execution_count": 165,
   "metadata": {},
   "outputs": [],
   "source": [
    "g = get_random_graph_of_size(5)"
   ]
  },
  {
   "cell_type": "code",
   "execution_count": 166,
   "metadata": {},
   "outputs": [
    {
     "name": "stdout",
     "output_type": "stream",
     "text": [
      "--> 0 has been discovered!\n",
      "--> 2 has been discovered!\n",
      "--> 1 has been discovered!\n",
      "--> 3 has been discovered!\n",
      "[0 2 1 3 0]\n"
     ]
    }
   ],
   "source": [
    "class Visitor(gt.DFSVisitor):\n",
    "\n",
    "    def __init__(self, step_num, max_step):\n",
    "        self.step_num = step_num\n",
    "        self.cur_step = 0\n",
    "        self.max_step = max_step\n",
    "\n",
    "    def discover_vertex(self, u):\n",
    "        print(\"-->\", int(u), \"has been discovered!\")\n",
    "        self.step_num[u] = self.cur_step\n",
    "        self.cur_step += 1\n",
    "        if self.cur_step >= self.max_step:\n",
    "            raise gt.StopSearch()\n",
    "step_num = g.new_vertex_property(\"int\")\n",
    "gt.dfs_search(g, g.vertex(0), Visitor(step_num, 4))\n",
    "print(step_num.a)"
   ]
  },
  {
   "cell_type": "markdown",
   "metadata": {},
   "source": [
    "Let's look at how the time to perform the random walks scales with the size of the graph"
   ]
  },
  {
   "cell_type": "code",
   "execution_count": 186,
   "metadata": {},
   "outputs": [
    {
     "data": {
      "image/png": "[encoded data removed]",
      "text/plain": [
       "<Figure size 432x288 with 1 Axes>"
      ]
     },
     "metadata": {
      "needs_background": "light"
     },
     "output_type": "display_data"
    }
   ],
   "source": [
    "sizes = [100, 300, 1000, 3000, 10000]\n",
    "times1 = []\n",
    "times2 = []\n",
    "times3 = []\n",
    "for size in sizes:\n",
    "    g = get_random_graph_of_size(size)\n",
    "    \n",
    "    start = perf_counter()\n",
    "    walks = build_corpus1(g)\n",
    "    stop = perf_counter()\n",
    "    times1.append(stop-start)\n",
    "    \n",
    "    start = perf_counter()\n",
    "    walks = build_corpus2(g)\n",
    "    stop = perf_counter()\n",
    "    times2.append(stop-start)\n",
    "    \n",
    "    start = perf_counter()\n",
    "    walks = build_corpus3(g)\n",
    "    stop = perf_counter()\n",
    "    times3.append(stop-start)\n",
    "    \n",
    "fig, ax = plt.subplots() #figsize = (14,5)\n",
    "ax.plot(sizes, times1, 'o', label=\"method 1\")\n",
    "ax.plot(sizes, times2, 'o', label=\"method 2\")\n",
    "ax.plot(sizes, times3, 'o', label=\"method 3\")\n",
    "\n",
    "ax.set(xlabel='number of vertices', ylabel='time (s)',\n",
    "       title='Time to perform random walks as a function of graph size (1)')\n",
    "ax.grid()\n",
    "ax.legend()\n",
    "\n",
    "plt.show()"
   ]
  },
  {
   "cell_type": "code",
   "execution_count": null,
   "metadata": {},
   "outputs": [],
   "source": []
  }
 ],
 "metadata": {
  "kernelspec": {
   "display_name": "Python [conda env:kgtk-env] *",
   "language": "python",
   "name": "conda-env-kgtk-env-py"
  },
  "language_info": {
   "codemirror_mode": {
    "name": "ipython",
    "version": 3
   },
   "file_extension": ".py",
   "mimetype": "text/x-python",
   "name": "python",
   "nbconvert_exporter": "python",
   "pygments_lexer": "ipython3",
   "version": "3.7.8"
  }
 },
 "nbformat": 4,
 "nbformat_minor": 4
}
