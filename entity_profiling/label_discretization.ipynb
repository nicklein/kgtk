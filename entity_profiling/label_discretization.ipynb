{
 "cells": [
  {
   "cell_type": "code",
   "execution_count": 136,
   "metadata": {},
   "outputs": [],
   "source": [
    "import pandas as pd\n",
    "import matplotlib.pyplot as plt\n",
    "import numpy as np\n",
    "import os\n",
    "from sklearn.cluster import DBSCAN\n",
    "from sklearn.neighbors import NearestNeighbors\n",
    "from kneed import KneeLocator"
   ]
  },
  {
   "cell_type": "markdown",
   "metadata": {},
   "source": [
    "### Helpers for using DBSCAN to create clusters and viewing them"
   ]
  },
  {
   "cell_type": "code",
   "execution_count": 165,
   "metadata": {},
   "outputs": [],
   "source": [
    "# Uses DBSCAN to assign labels of a particular type and property to clusters\n",
    "def DBSCAN_label_subset(filename, eps, min_samples, l_type, l_prop):\n",
    "    df = pd.read_csv(filename, delimiter='\\t')\n",
    "    \n",
    "    # dbscan expects multiple dimensions\n",
    "    df[\"zeros\"]=0\n",
    "    \n",
    "    # filter by type and property if given\n",
    "    if l_type is not None:\n",
    "        df = df.loc[df[\"node1\"] == l_type]\n",
    "    if l_prop is not None:\n",
    "        df = df.loc[df[\"label\"] == l_prop]\n",
    "        \n",
    "    values_w_0s = df.loc[:, [\"node2\", \"zeros\"]]\n",
    "    values = values_w_0s.loc[:,\"node2\"]\n",
    "    \n",
    "    db = DBSCAN(eps=eps, min_samples=min_samples).fit(values_w_0s)\n",
    "\n",
    "    return (db, values)\n",
    "\n",
    "\n",
    "# Chooses values for the epsilon and min_samples parameters of DBSCAN to be used for\n",
    "# clustering labels of a given type and property.\n",
    "def choose_DBSCAN_params(filename, l_type, l_prop):\n",
    "    df = pd.read_csv(filename, delimiter='\\t')\n",
    "    \n",
    "    # filter by type and property if given\n",
    "    if l_type is not None:\n",
    "        df = df.loc[df[\"node1\"] == l_type]\n",
    "    if l_prop is not None:\n",
    "        df = df.loc[df[\"label\"] == l_prop]\n",
    "        \n",
    "    values = np.array(df.loc[:,\"node2\"]).reshape(-1, 1)\n",
    "    \n",
    "    # min_samples would ideally be set with some domain-insight.\n",
    "    # To make this automated, we'll use a heuristic - ln(number of data points)\n",
    "    min_samples = int(np.floor(np.log(len(values))))\n",
    "    min_samples = max(min_samples, 1) # don't choose a number less than 1\n",
    "    print(\"Choosing min_samples = floor(ln(# data points)) = {}\".format(min_samples))\n",
    "    \n",
    "    # epsilon can be chosen by plotting the distances of the k'th nearest neighbor from each point\n",
    "    # where k is min_samples. Points that belong to clusters should have smaller distances, whereas\n",
    "    # noise points can have distances that are much farther. We'll look for a knee in this graph to set epsilon.\n",
    "    print(\"Computing distances to k'th nearest neighbor for each point where k = min_samples...\")\n",
    "    \n",
    "    neigh = NearestNeighbors(n_neighbors = min_samples + 1) # +1 so we find k'th nearest neighbor not including the point iteslf.\n",
    "    values_neigh = neigh.fit(values)\n",
    "    distances, indices = values_neigh.kneighbors(values)\n",
    "    distances = np.sort(distances[:,min_samples], axis = 0)\n",
    "    \n",
    "#     plt.plot(distances)\n",
    "#     plt.xlabel(\"points in increasing order of distance to k'th nearest neighbor\")\n",
    "#     plt.ylabel(\"distance to k'th nearest neighbor\")\n",
    "    \n",
    "    kneedle = KneeLocator(range(len(distances)), distances, S=1, curve='convex', direction='increasing', interp_method='polynomial')\n",
    "    kneedle.plot_knee()\n",
    "    plt.xlabel(\"Points\")\n",
    "    plt.ylabel(\"Distance\")\n",
    "\n",
    "    print(\"knee found at distance {}\".format(kneedle.knee_y))\n",
    "    epsilon = kneedle.knee_y\n",
    "    \n",
    "    return (min_samples, epsilon)\n",
    "\n",
    "\n",
    "# Given values that have been assigned to clusters,\n",
    "# return a list of intervals that are consistent with these clusters\n",
    "def infer_intervals_from_clusters(values, labels):\n",
    "    \n",
    "    values = np.array(values)\n",
    "    labels = np.array(labels)\n",
    "    \n",
    "    # sort values and corresponding labels in ascending order\n",
    "    labels = np.array([l for l, v in sorted(zip(labels, values), key=lambda pair: pair[1])])\n",
    "    values.sort()\n",
    "    \n",
    "    intervals = [(None, None)] # initially a single interval with no lower or upper bound\n",
    "    \n",
    "    cur_label = labels[0]\n",
    "    for i in range(len(labels)):\n",
    "        # if new label, set upper bound of previous interval,\n",
    "        # and start lower bound of a new interval.\n",
    "        if labels[i] != cur_label:\n",
    "            prev_interval_lb = (intervals[-1])[0]\n",
    "            new_interval_edge = values[i-1] + ((values[i] - values[i-1]) / 2)\n",
    "            intervals[-1] = (prev_interval_lb, new_interval_edge)\n",
    "            intervals.append((new_interval_edge, None))\n",
    "            cur_label = labels[i]\n",
    "    \n",
    "    return intervals\n",
    "    \n",
    "\n",
    "def fixed_width_partition(filename, width, l_type, l_prop):\n",
    "    df = pd.read_csv(filename, delimiter='\\t')\n",
    "    \n",
    "   # filter by type and property if given\n",
    "    if l_type is not None:\n",
    "        df = df.loc[df[\"node1\"] == l_type]\n",
    "    if l_prop is not None:\n",
    "        df = df.loc[df[\"label\"] == l_prop]\n",
    "        \n",
    "    values = df.loc[:,\"node2\"]\n",
    "    labels = values - (values % width)\n",
    "    \n",
    "    return (labels, values)\n",
    "    \n",
    "\n",
    "def view_clustering(labels, values, min_hist_bin = None, max_hist_bin = None):\n",
    "    if min_hist_bin is None:\n",
    "        min_hist_bin = values.min() - 1\n",
    "    if max_hist_bin is None:\n",
    "        max_hist_bin = values.max() + 1\n",
    "    \n",
    "#     labels = db.labels_\n",
    "\n",
    "    # Number of clusters in labels, ignoring noise if present.\n",
    "    n_clusters_ = len(set(labels)) - (1 if -1 in labels else 0)\n",
    "    n_noise_ = list(labels).count(-1)\n",
    "\n",
    "    print('Estimated number of clusters: %d' % n_clusters_)\n",
    "    print('Estimated number of noise points: %d' % n_noise_)\n",
    "\n",
    "\n",
    "    unique_labels = set(labels)\n",
    "    colors = [plt.cm.Spectral(each)\n",
    "              for each in np.linspace(0, 1, len(unique_labels))]\n",
    "    \n",
    "    ax = plt.gca()\n",
    "    ax.set_facecolor(\"xkcd:silver\")\n",
    "\n",
    "    for k, col in zip(unique_labels, colors):\n",
    "        if k == -1:\n",
    "            # Black used for noise.\n",
    "            col = [0, 0, 0, 1]\n",
    "\n",
    "        class_member_mask = (labels == k)\n",
    "\n",
    "        xy = values.loc[class_member_mask]\n",
    "        plt.hist(xy, color=tuple(col), bins = range(min_hist_bin, max_hist_bin, 1))\n",
    "\n",
    "    plt.title('Estimated number of clusters: %d' % n_clusters_)\n",
    "    plt.show()"
   ]
  },
  {
   "cell_type": "markdown",
   "metadata": {},
   "source": [
    "File paths for passing in python"
   ]
  },
  {
   "cell_type": "code",
   "execution_count": 20,
   "metadata": {},
   "outputs": [],
   "source": [
    "path = \"/Users/nicklein/Documents/grad_school/Research/data/Q44_profiler_output/\"\n",
    "year_file = \"{}Q44.entity_attribute_labels_time.year.tsv\".format(path)\n"
   ]
  },
  {
   "cell_type": "markdown",
   "metadata": {},
   "source": [
    "File paths for using in kgtk commands"
   ]
  },
  {
   "cell_type": "code",
   "execution_count": 21,
   "metadata": {},
   "outputs": [],
   "source": [
    "work_dir = \"/Users/nicklein/Documents/grad_school/Research/data\""
   ]
  },
  {
   "cell_type": "code",
   "execution_count": 26,
   "metadata": {},
   "outputs": [],
   "source": [
    "os.environ['STORE'] = \"{}/wikidata.sqlite3.db\".format(work_dir)\n",
    "os.environ['DATA'] = \"{}/Q44\".format(work_dir)\n",
    "os.environ['NAME'] = \"Q44\"\n",
    "os.environ[\"OUT\"] = \"{}/Q44_profiler_output\".format(work_dir)"
   ]
  },
  {
   "cell_type": "markdown",
   "metadata": {},
   "source": [
    "## year values"
   ]
  },
  {
   "cell_type": "markdown",
   "metadata": {},
   "source": [
    "Taking a look at most prevalent type, property pairs"
   ]
  },
  {
   "cell_type": "code",
   "execution_count": 102,
   "metadata": {
    "scrolled": true
   },
   "outputs": [
    {
     "name": "stdout",
     "output_type": "stream",
     "text": [
      "entity  node1     label  node2  type_label            property_label  id\r\n",
      "Q1011   Q112099   P571   1975   'island nation'@en    'inception'@en  E1\r\n",
      "Q1011   Q3624078  P571   1975   'sovereign state'@en  'inception'@en  E2\r\n",
      "Q1019   Q112099   P571   1960   'island nation'@en    'inception'@en  E3\r\n",
      "Q1019   Q3624078  P571   1960   'sovereign state'@en  'inception'@en  E4\r\n"
     ]
    }
   ],
   "source": [
    "!head -5 $OUT/$NAME.entity_attribute_labels_time.year.tsv | column -t -s $'\\t'"
   ]
  },
  {
   "cell_type": "code",
   "execution_count": 103,
   "metadata": {
    "scrolled": true
   },
   "outputs": [
    {
     "name": "stdout",
     "output_type": "stream",
     "text": [
      "type      prop  count  type_label            property_label\r\n",
      "Q3624078  P571  88     'sovereign state'@en  'inception'@en\r\n",
      "Q4830453  P571  50     'business'@en         'inception'@en\r\n",
      "Q131734   P571  45     'brewery'@en          'inception'@en\r\n",
      "Q6256     P571  31     'country'@en          'inception'@en\r\n",
      "Q6881511  P571  24     'enterprise'@en       'inception'@en\r\n"
     ]
    }
   ],
   "source": [
    "!kgtk query -i $OUT/$NAME.entity_attribute_labels_time.year.tsv \\\n",
    "--graph-cache $STORE \\\n",
    "--match 'year: (type)-[l {label:p, entity:e, type_label:t_lab, property_label:p_lab}]->(val)' \\\n",
    "--return 'type as type, p as prop, count(e) as count, t_lab as type_label, p_lab as property_label' \\\n",
    "--order-by 'count(e) desc' \\\n",
    "--limit 5 \\\n",
    "| column -t -s $'\\t'"
   ]
  },
  {
   "cell_type": "markdown",
   "metadata": {},
   "source": [
    "Let's start by looking at year values for type = **business** prop = **inception**"
   ]
  },
  {
   "cell_type": "markdown",
   "metadata": {},
   "source": [
    "First let's take a look at what triples match these labels..."
   ]
  },
  {
   "cell_type": "code",
   "execution_count": 104,
   "metadata": {
    "scrolled": true
   },
   "outputs": [
    {
     "name": "stdout",
     "output_type": "stream",
     "text": [
      "entity     type      prop  year  entity_label                    type_label     property_label\r\n",
      "Q562552    Q4830453  P571  1333  'Oettinger Brewery'@en          'business'@en  'inception'@en\r\n",
      "Q153075    Q4830453  P571  1615  'Grolsch Brewery'@en            'business'@en  'inception'@en\r\n",
      "Q1397604   Q4830453  P571  1664  'Kronenbourg Brewery'@en        'business'@en  'inception'@en\r\n",
      "Q12002324  Q4830453  P571  1698  'Shepherd Neame Brewery'@en     'business'@en  'inception'@en\r\n",
      "Q1164954   Q4830453  P571  1769  'Dubuisson Brewery'@en          'business'@en  'inception'@en\r\n",
      "Q609966    Q4830453  P571  1795  'Budweiser Bier Bürgerbräu'@en  'business'@en  'inception'@en\r\n",
      "Q2601227   Q4830453  P571  1819  'Sinebrychoff'@en               'business'@en  'inception'@en\r\n",
      "Q3640368   Q4830453  P571  1846  'Peroni'@en                     'business'@en  'inception'@en\r\n",
      "Q865859    Q4830453  P571  1846  'Peroni Brewery'@en             'business'@en  'inception'@en\r\n",
      "Q113215    Q4830453  P571  1847  'Carlsberg Group'@en            'business'@en  'inception'@en\r\n"
     ]
    }
   ],
   "source": [
    "!kgtk query -i $OUT/$NAME.entity_attribute_labels_time.year.tsv -i $DATA/$NAME.label.en.tsv \\\n",
    "--graph-cache $STORE \\\n",
    "--match 'year: (type)-[l {label:p, entity:e, type_label:t_lab, property_label:p_lab}]->(val), label: (e)-[:label]->(e_lab)' \\\n",
    "--return 'distinct e as entity, type as type, p as prop, val as year, e_lab as entity_label, t_lab as type_label, p_lab as property_label' \\\n",
    "--where 'type = \"Q4830453\" AND p = \"P571\" AND e_lab.kgtk_lqstring_lang_suffix = \"en\"' \\\n",
    "--order-by 'kgtk_quantity_number_int(val)' \\\n",
    "--limit 10 \\\n",
    "| column -t -s $'\\t'"
   ]
  },
  {
   "cell_type": "markdown",
   "metadata": {},
   "source": [
    "eps = 5, minpts = 1"
   ]
  },
  {
   "cell_type": "code",
   "execution_count": 118,
   "metadata": {
    "scrolled": true
   },
   "outputs": [
    {
     "name": "stdout",
     "output_type": "stream",
     "text": [
      "Estimated number of clusters: 20\n",
      "Estimated number of noise points: 0\n"
     ]
    },
    {
     "data": {
      "image/png": "[encoded data removed]",
      "text/plain": [
       "<Figure size 432x288 with 1 Axes>"
      ]
     },
     "metadata": {
      "needs_background": "light"
     },
     "output_type": "display_data"
    }
   ],
   "source": [
    "db_bus_incep, values_bus_incep = DBSCAN_label_subset(year_file, l_type = \"Q4830453\", l_prop = \"P571\", eps = 5, min_samples = 1)\n",
    "view_clustering(db_bus_incep.labels_, values_bus_incep)"
   ]
  },
  {
   "cell_type": "markdown",
   "metadata": {},
   "source": [
    "zooming in..."
   ]
  },
  {
   "cell_type": "code",
   "execution_count": 106,
   "metadata": {},
   "outputs": [
    {
     "name": "stdout",
     "output_type": "stream",
     "text": [
      "Estimated number of clusters: 20\n",
      "Estimated number of noise points: 0\n"
     ]
    },
    {
     "data": {
      "image/png": "[encoded data removed]",
      "text/plain": [
       "<Figure size 432x288 with 1 Axes>"
      ]
     },
     "metadata": {
      "needs_background": "light"
     },
     "output_type": "display_data"
    }
   ],
   "source": [
    "view_clustering(db_bus_incep.labels_, values_bus_incep, 1650, 2000)"
   ]
  },
  {
   "cell_type": "markdown",
   "metadata": {},
   "source": [
    "eps = 10, minpts = 1"
   ]
  },
  {
   "cell_type": "code",
   "execution_count": 107,
   "metadata": {
    "scrolled": true
   },
   "outputs": [
    {
     "name": "stdout",
     "output_type": "stream",
     "text": [
      "Estimated number of clusters: 11\n",
      "Estimated number of noise points: 0\n"
     ]
    },
    {
     "data": {
      "image/png": "[encoded data removed]",
      "text/plain": [
       "<Figure size 432x288 with 1 Axes>"
      ]
     },
     "metadata": {
      "needs_background": "light"
     },
     "output_type": "display_data"
    }
   ],
   "source": [
    "db_bus_incep, values_bus_incep = DBSCAN_label_subset(year_file, l_type = \"Q4830453\", l_prop = \"P571\", eps = 10, min_samples = 1)\n",
    "view_clustering(db_bus_incep.labels_, values_bus_incep)"
   ]
  },
  {
   "cell_type": "markdown",
   "metadata": {},
   "source": [
    "zooming in..."
   ]
  },
  {
   "cell_type": "code",
   "execution_count": 108,
   "metadata": {},
   "outputs": [
    {
     "name": "stdout",
     "output_type": "stream",
     "text": [
      "Estimated number of clusters: 11\n",
      "Estimated number of noise points: 0\n"
     ]
    },
    {
     "data": {
      "image/png": "[encoded data removed]",
      "text/plain": [
       "<Figure size 432x288 with 1 Axes>"
      ]
     },
     "metadata": {
      "needs_background": "light"
     },
     "output_type": "display_data"
    }
   ],
   "source": [
    "view_clustering(db_bus_incep.labels, values_bus_incep, 1650, 2000)"
   ]
  },
  {
   "cell_type": "markdown",
   "metadata": {},
   "source": [
    "eps = 5, minpts = 10"
   ]
  },
  {
   "cell_type": "code",
   "execution_count": 109,
   "metadata": {
    "scrolled": true
   },
   "outputs": [
    {
     "name": "stdout",
     "output_type": "stream",
     "text": [
      "Estimated number of clusters: 8\n",
      "Estimated number of noise points: 12\n"
     ]
    },
    {
     "data": {
      "image/png": "[encoded data removed]",
      "text/plain": [
       "<Figure size 432x288 with 1 Axes>"
      ]
     },
     "metadata": {
      "needs_background": "light"
     },
     "output_type": "display_data"
    }
   ],
   "source": [
    "db_bus_incep, values_bus_incep = DBSCAN_label_subset(year_file, l_type = \"Q4830453\", l_prop = \"P571\", eps = 5, min_samples = 2)\n",
    "view_clustering(db_bus_incep.labels_, values_bus_incep)"
   ]
  },
  {
   "cell_type": "markdown",
   "metadata": {},
   "source": [
    "zooming in..."
   ]
  },
  {
   "cell_type": "code",
   "execution_count": 110,
   "metadata": {
    "scrolled": false
   },
   "outputs": [
    {
     "name": "stdout",
     "output_type": "stream",
     "text": [
      "Estimated number of clusters: 8\n",
      "Estimated number of noise points: 12\n"
     ]
    },
    {
     "data": {
      "image/png": "[encoded data removed]",
      "text/plain": [
       "<Figure size 432x288 with 1 Axes>"
      ]
     },
     "metadata": {
      "needs_background": "light"
     },
     "output_type": "display_data"
    }
   ],
   "source": [
    "view_clustering(db_bus_incep.labels, values_bus_incep, 1650, 2000)"
   ]
  },
  {
   "cell_type": "markdown",
   "metadata": {},
   "source": [
    "If instead we just use a fixed width of 5 years..."
   ]
  },
  {
   "cell_type": "code",
   "execution_count": 130,
   "metadata": {},
   "outputs": [],
   "source": [
    "labels_bus_incep, values_bus_incep = fixed_width_partition(year_file, width = 5, l_type = \"Q4830453\", l_prop = \"P571\")"
   ]
  },
  {
   "cell_type": "code",
   "execution_count": 131,
   "metadata": {},
   "outputs": [
    {
     "name": "stdout",
     "output_type": "stream",
     "text": [
      "Estimated number of clusters: 31\n",
      "Estimated number of noise points: 0\n"
     ]
    },
    {
     "data": {
      "image/png": "[encoded data removed]",
      "text/plain": [
       "<Figure size 432x288 with 1 Axes>"
      ]
     },
     "metadata": {
      "needs_background": "light"
     },
     "output_type": "display_data"
    }
   ],
   "source": [
    "view_clustering(labels_bus_incep, values_bus_incep)"
   ]
  },
  {
   "cell_type": "markdown",
   "metadata": {},
   "source": [
    "zooming in..."
   ]
  },
  {
   "cell_type": "code",
   "execution_count": 133,
   "metadata": {},
   "outputs": [
    {
     "name": "stdout",
     "output_type": "stream",
     "text": [
      "Estimated number of clusters: 31\n",
      "Estimated number of noise points: 0\n"
     ]
    },
    {
     "data": {
      "image/png": "[encoded data removed]",
      "text/plain": [
       "<Figure size 432x288 with 1 Axes>"
      ]
     },
     "metadata": {
      "needs_background": "light"
     },
     "output_type": "display_data"
    }
   ],
   "source": [
    "view_clustering(labels_bus_incep, values_bus_incep, 1650, 2000)"
   ]
  },
  {
   "cell_type": "markdown",
   "metadata": {},
   "source": [
    "Now using an automated approach to set parameters"
   ]
  },
  {
   "cell_type": "code",
   "execution_count": 166,
   "metadata": {},
   "outputs": [
    {
     "name": "stdout",
     "output_type": "stream",
     "text": [
      "Choosing min_samples = floor(ln(# data points)) = 3\n",
      "Computing distances to k'th nearest neighbor for each point where k = min_samples...\n",
      "knee found at distance 27.0\n"
     ]
    },
    {
     "data": {
      "image/png": "[encoded data removed]",
      "text/plain": [
       "<Figure size 432x432 with 1 Axes>"
      ]
     },
     "metadata": {
      "needs_background": "light"
     },
     "output_type": "display_data"
    }
   ],
   "source": [
    "min_samples, epsilon = choose_DBSCAN_params(year_file, l_type = \"Q4830453\", l_prop = \"P571\")"
   ]
  },
  {
   "cell_type": "code",
   "execution_count": 155,
   "metadata": {
    "scrolled": true
   },
   "outputs": [
    {
     "name": "stdout",
     "output_type": "stream",
     "text": [
      "Estimated number of clusters: 1\n",
      "Estimated number of noise points: 4\n"
     ]
    },
    {
     "data": {
      "image/png": "[encoded data removed]",
      "text/plain": [
       "<Figure size 432x288 with 1 Axes>"
      ]
     },
     "metadata": {
      "needs_background": "light"
     },
     "output_type": "display_data"
    }
   ],
   "source": [
    "db_bus_incep, values_bus_incep = DBSCAN_label_subset(year_file, l_type = \"Q4830453\", l_prop = \"P571\", eps = epsilon, min_samples = min_samples)\n",
    "view_clustering(db_bus_incep.labels_, values_bus_incep)"
   ]
  },
  {
   "cell_type": "markdown",
   "metadata": {},
   "source": [
    "Now we'll find intervals that are compatible with the clustering we have"
   ]
  },
  {
   "cell_type": "code",
   "execution_count": 164,
   "metadata": {},
   "outputs": [
    {
     "name": "stdout",
     "output_type": "stream",
     "text": [
      "[(None, 1733.5), (1733.5, None)]\n"
     ]
    }
   ],
   "source": [
    "intervals = infer_intervals_from_clusters(values_bus_incep, db_bus_incep.labels_)\n",
    "print(intervals)"
   ]
  },
  {
   "cell_type": "markdown",
   "metadata": {},
   "source": [
    "Let's also look at year values for type = **brewery** prop = **inception**"
   ]
  },
  {
   "cell_type": "markdown",
   "metadata": {},
   "source": [
    "triples that match this type and property:"
   ]
  },
  {
   "cell_type": "code",
   "execution_count": 111,
   "metadata": {},
   "outputs": [
    {
     "name": "stdout",
     "output_type": "stream",
     "text": [
      "entity     type     prop  year  entity_label                 type_label    property_label\r\n",
      "Q153546    Q131734  P571  1328  'Augustiner Bräu'@en         'brewery'@en  'inception'@en\r\n",
      "Q562552    Q131734  P571  1333  'Oettinger Brewery'@en       'brewery'@en  'inception'@en\r\n",
      "Q566990    Q131734  P571  1405  'Schlenkerla'@en             'brewery'@en  'inception'@en\r\n",
      "Q3508302   Q131734  P571  1564  'Svijany Brewery'@en         'brewery'@en  'inception'@en\r\n",
      "Q153075    Q131734  P571  1615  'Grolsch Brewery'@en         'brewery'@en  'inception'@en\r\n",
      "Q1397604   Q131734  P571  1664  'Kronenbourg Brewery'@en     'brewery'@en  'inception'@en\r\n",
      "Q12002324  Q131734  P571  1698  'Shepherd Neame Brewery'@en  'brewery'@en  'inception'@en\r\n",
      "Q2319266   Q131734  P571  1759  'Guinness Brewery'@en        'brewery'@en  'inception'@en\r\n",
      "Q1164954   Q131734  P571  1769  'Dubuisson Brewery'@en       'brewery'@en  'inception'@en\r\n",
      "Q2754546   Q131734  P571  1825  'Gulpener Brewery'@en        'brewery'@en  'inception'@en\r\n"
     ]
    }
   ],
   "source": [
    "!kgtk query -i $OUT/$NAME.entity_attribute_labels_time.year.tsv -i $DATA/$NAME.label.en.tsv \\\n",
    "--graph-cache $STORE \\\n",
    "--match 'year: (type)-[l {label:p, entity:e, type_label:t_lab, property_label:p_lab}]->(val), label: (e)-[:label]->(e_lab)' \\\n",
    "--return 'distinct e as entity, type as type, p as prop, val as year, e_lab as entity_label, t_lab as type_label, p_lab as property_label' \\\n",
    "--where 'type = \"Q131734\" AND p = \"P571\" AND e_lab.kgtk_lqstring_lang_suffix = \"en\"' \\\n",
    "--order-by 'kgtk_quantity_number_int(val)' \\\n",
    "--limit 10 \\\n",
    "| column -t -s $'\\t'"
   ]
  },
  {
   "cell_type": "code",
   "execution_count": 112,
   "metadata": {},
   "outputs": [],
   "source": [
    "db_brew_incep, values_brew_incep = DBSCAN_label_subset(year_file, l_type = \"Q131734\", l_prop = \"P571\", eps = 8, min_samples = 1)"
   ]
  },
  {
   "cell_type": "code",
   "execution_count": 113,
   "metadata": {},
   "outputs": [
    {
     "name": "stdout",
     "output_type": "stream",
     "text": [
      "Estimated number of clusters: 15\n",
      "Estimated number of noise points: 0\n"
     ]
    },
    {
     "data": {
      "image/png": "[encoded data removed]",
      "text/plain": [
       "<Figure size 432x288 with 1 Axes>"
      ]
     },
     "metadata": {
      "needs_background": "light"
     },
     "output_type": "display_data"
    }
   ],
   "source": [
    "view_clustering(db_brew_incep.labels, values_brew_incep)"
   ]
  },
  {
   "cell_type": "code",
   "execution_count": 114,
   "metadata": {
    "scrolled": true
   },
   "outputs": [
    {
     "name": "stdout",
     "output_type": "stream",
     "text": [
      "Estimated number of clusters: 15\n",
      "Estimated number of noise points: 0\n"
     ]
    },
    {
     "data": {
      "image/png": "[encoded data removed]",
      "text/plain": [
       "<Figure size 432x288 with 1 Axes>"
      ]
     },
     "metadata": {
      "needs_background": "light"
     },
     "output_type": "display_data"
    }
   ],
   "source": [
    "view_clustering(db_brew_incep.labels, values_brew_incep, 1300, 1650)"
   ]
  },
  {
   "cell_type": "code",
   "execution_count": 115,
   "metadata": {},
   "outputs": [
    {
     "name": "stdout",
     "output_type": "stream",
     "text": [
      "Estimated number of clusters: 15\n",
      "Estimated number of noise points: 0\n"
     ]
    },
    {
     "data": {
      "image/png": "[encoded data removed]",
      "text/plain": [
       "<Figure size 432x288 with 1 Axes>"
      ]
     },
     "metadata": {
      "needs_background": "light"
     },
     "output_type": "display_data"
    }
   ],
   "source": [
    "view_clustering(db_brew_incep.labels, values_brew_incep, 1650, 2000)"
   ]
  }
 ],
 "metadata": {
  "kernelspec": {
   "display_name": "Python [conda env:kgtk-env] *",
   "language": "python",
   "name": "conda-env-kgtk-env-py"
  },
  "language_info": {
   "codemirror_mode": {
    "name": "ipython",
    "version": 3
   },
   "file_extension": ".py",
   "mimetype": "text/x-python",
   "name": "python",
   "nbconvert_exporter": "python",
   "pygments_lexer": "ipython3",
   "version": "3.7.8"
  }
 },
 "nbformat": 4,
 "nbformat_minor": 4
}
