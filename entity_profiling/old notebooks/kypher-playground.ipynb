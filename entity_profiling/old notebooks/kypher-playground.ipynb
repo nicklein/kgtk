{
 "cells": [
  {
   "cell_type": "code",
   "execution_count": 91,
   "metadata": {},
   "outputs": [],
   "source": [
    "import numpy as np\n",
    "import pandas as pd\n",
    "import os\n",
    "import io\n",
    "from IPython.display import display, HTML, Image\n",
    "from pandas_profiling import ProfileReport"
   ]
  },
  {
   "cell_type": "code",
   "execution_count": 2,
   "metadata": {},
   "outputs": [
    {
     "name": "stdout",
     "output_type": "stream",
     "text": [
      "env: DATA_HOME=/Users/pedroszekely/Documents/GitHub/kgtk/kgtk/tests/data/kypher\n",
      "env: GRAPH=/Users/pedroszekely/Documents/GitHub/kgtk/kgtk/tests/data/kypher/graph.tsv\n",
      "env: WORKS=/Users/pedroszekely/Documents/GitHub/kgtk/kgtk/tests/data/kypher/works.tsv\n",
      "env: QUALS=/Users/pedroszekely/Documents/GitHub/kgtk/kgtk/tests/data/kypher/quals.tsv\n",
      "env: PROPS=/Users/pedroszekely/Documents/GitHub/kgtk/kgtk/tests/data/kypher/props.tsv\n"
     ]
    }
   ],
   "source": [
    "home = %env HOME\n",
    "%env DATA_HOME=$home/Documents/GitHub/kgtk/kgtk/tests/data/kypher\n",
    "data_home = %env DATA_HOME\n",
    "\n",
    "%env GRAPH=$data_home/graph.tsv\n",
    "%env WORKS=$data_home/works.tsv\n",
    "%env QUALS=$data_home/quals.tsv\n",
    "%env PROPS=$data_home/props.tsv"
   ]
  },
  {
   "cell_type": "code",
   "execution_count": 3,
   "metadata": {},
   "outputs": [
    {
     "name": "stdout",
     "output_type": "stream",
     "text": [
      "id\tnode1\tlabel\tnode2\n",
      "e11\tHans\tloves\tMolly\n",
      "e12\tOtto\tloves\tSusi\n",
      "e13\tJoe\tfriend\tOtto\n",
      "e14\tJoe\tloves\tJoe\n",
      "e21\tHans\tname\t'Hans'@de\n",
      "e22\tOtto\tname\t'Otto'@de\n",
      "e23\tJoe\tname\t\"Joe\"\n",
      "e24\tMolly\tname\t\"Molly\"\n",
      "e25\tSusi\tname\t\"Susi\"\n"
     ]
    }
   ],
   "source": [
    "!cat $GRAPH"
   ]
  },
  {
   "cell_type": "code",
   "execution_count": 4,
   "metadata": {},
   "outputs": [
    {
     "name": "stdout",
     "output_type": "stream",
     "text": [
      "id\tnode1\tlabel\tnode2\tnode1;salary\tgraph\n",
      "w11\tHans\tworks\tACME\t10000\temploy\n",
      "w12\tOtto\tworks\tKaiser\t8000\temploy\n",
      "w13\tJoe\tworks\tKaiser\t20000\temploy\n",
      "w14\tMolly\tworks\tRenal\t11000\temploy\n",
      "w15\tSusi\tworks\tCakes\t9900\temploy\n",
      "w21\tHans\tdepartment\tR&D\t\temploy\n",
      "w22\tOtto\tdepartment\tPharm\t\temploy\n",
      "w23\tJoe\tdepartment\tMedic\t\temploy\n",
      "w24\tMolly\tdepartment\tSales\t\temploy\n",
      "w25\tSusi\tdepartment\tSales\t\temploy\n"
     ]
    }
   ],
   "source": [
    "!cat $WORKS"
   ]
  },
  {
   "cell_type": "code",
   "execution_count": 5,
   "metadata": {},
   "outputs": [
    {
     "name": "stdout",
     "output_type": "stream",
     "text": [
      "id\tnode1\tlabel\tnode2\tgraph\n",
      "m11\tw11\tstarts\t^1984-12-17T00:03:12Z/11\tquals\n",
      "m12\tw12\tends\t^1987-11-08T04:56:34Z/10\tquals\n",
      "m13\tw13\tstarts\t^1996-02-23T08:02:56Z/09\tquals\n",
      "m14\tw14\tends\t^2001-04-09T06:16:27Z/08\tquals\n",
      "m15\tw15\tstarts\t^2008-10-01T12:49:18Z/07\tquals\n"
     ]
    }
   ],
   "source": [
    "!cat $QUALS"
   ]
  },
  {
   "cell_type": "code",
   "execution_count": 6,
   "metadata": {},
   "outputs": [
    {
     "name": "stdout",
     "output_type": "stream",
     "text": [
      "id\tnode1\tlabel\tnode2\tgraph\n",
      "p11\tstarts\tmember\tset1\tprops\n",
      "p12\tends\tmember\tset1\tprops\n"
     ]
    }
   ],
   "source": [
    "!cat $PROPS"
   ]
  },
  {
   "cell_type": "code",
   "execution_count": 7,
   "metadata": {},
   "outputs": [
    {
     "name": "stdout",
     "output_type": "stream",
     "text": [
      "usage: kgtk query [-h] [--input INPUT] [--query QUERY] [--match PATTERN]\n",
      "                  [--where CLAUSE] [--return CLAUSE] [--order-by CLAUSE]\n",
      "                  [--skip CLAUSE] [--limit CLAUSE] [--para NAME=VAL]\n",
      "                  [--spara NAME=VAL] [--lqpara NAME=VAL]\n",
      "                  [--graph-cache GRAPH_CACHE_FILE] [-o OUTPUT]\n",
      "\n",
      "Query one or more KGTK files with Kypher.\n",
      "\n",
      "optional arguments:\n",
      "  -h, --help            show this help message and exit\n",
      "  --input INPUT, -i INPUT\n",
      "                        one or more named input files to query (maybe\n",
      "                        compressed)\n",
      "  --query QUERY         complete Kypher query combining all clauses, if\n",
      "                        supplied, all other specialized clause arguments will\n",
      "                        be ignored\n",
      "  --match PATTERN       MATCH pattern of a Kypher query, defaults to universal\n",
      "                        node pattern `()'\n",
      "  --where CLAUSE        WHERE clause of a Kypher query\n",
      "  --return CLAUSE       RETURN clause of a Kypher query (defaults to *)\n",
      "  --order-by CLAUSE     ORDER BY clause of a Kypher query\n",
      "  --skip CLAUSE         SKIP clause of a Kypher query\n",
      "  --limit CLAUSE        LIMIT clause of a Kypher query\n",
      "  --para NAME=VAL       zero or more named value parameters to be passed to\n",
      "                        the query\n",
      "  --spara NAME=VAL      zero or more named string parameters to be passed to\n",
      "                        the query\n",
      "  --lqpara NAME=VAL     zero or more named LQ-string parameters to be passed\n",
      "                        to the query\n",
      "  --graph-cache GRAPH_CACHE_FILE\n",
      "                        database cache where graphs will be imported before\n",
      "                        they are queried (defaults to per-user temporary file)\n",
      "  -o OUTPUT, --out OUTPUT\n",
      "                        output file to write to, if `-' (the default) output\n",
      "                        goes to stdout\n"
     ]
    }
   ],
   "source": [
    "!kgtk query --help"
   ]
  },
  {
   "cell_type": "code",
   "execution_count": 8,
   "metadata": {},
   "outputs": [
    {
     "name": "stdout",
     "output_type": "stream",
     "text": [
      "id\tnode1\tlabel\tnode2\tgraph\n",
      "m11\tw11\tstarts\t^1984-12-17T00:03:12Z/11\tquals\n",
      "m12\tw12\tends\t^1987-11-08T04:56:34Z/10\tquals\n",
      "m13\tw13\tstarts\t^1996-02-23T08:02:56Z/09\tquals\n",
      "m14\tw14\tends\t^2001-04-09T06:16:27Z/08\tquals\n",
      "m15\tw15\tstarts\t^2008-10-01T12:49:18Z/07\tquals\n"
     ]
    }
   ],
   "source": [
    "!kgtk query -i $QUALS --match '()'"
   ]
  },
  {
   "cell_type": "code",
   "execution_count": 9,
   "metadata": {},
   "outputs": [
    {
     "name": "stdout",
     "output_type": "stream",
     "text": [
      "id\tnode1\tlabel\tnode2\tgraph\n",
      "m11\tw11\tstarts\t^1984-12-17T00:03:12Z/11\tquals\n",
      "m12\tw12\tends\t^1987-11-08T04:56:34Z/10\tquals\n",
      "m13\tw13\tstarts\t^1996-02-23T08:02:56Z/09\tquals\n",
      "m14\tw14\tends\t^2001-04-09T06:16:27Z/08\tquals\n",
      "m15\tw15\tstarts\t^2008-10-01T12:49:18Z/07\tquals\n"
     ]
    }
   ],
   "source": [
    "!kgtk query -i $QUALS"
   ]
  },
  {
   "cell_type": "code",
   "execution_count": null,
   "metadata": {},
   "outputs": [],
   "source": [
    "!kgtk query -i $QUALS --match '()-[]->()' "
   ]
  },
  {
   "cell_type": "code",
   "execution_count": null,
   "metadata": {},
   "outputs": [],
   "source": [
    "!kgtk query -i $GRAPH"
   ]
  },
  {
   "cell_type": "code",
   "execution_count": null,
   "metadata": {},
   "outputs": [],
   "source": [
    "!kgtk query -i $GRAPH --limit 3 "
   ]
  },
  {
   "cell_type": "code",
   "execution_count": null,
   "metadata": {},
   "outputs": [],
   "source": [
    "!kgtk query -i $GRAPH --skip 2 --limit 3"
   ]
  },
  {
   "cell_type": "code",
   "execution_count": null,
   "metadata": {},
   "outputs": [],
   "source": [
    "!kgtk query -i $GRAPH --match '(:Hans)-[]->()'"
   ]
  },
  {
   "cell_type": "code",
   "execution_count": null,
   "metadata": {},
   "outputs": [],
   "source": [
    "!kgtk query -i $GRAPH --match '()-[:name]->()' "
   ]
  },
  {
   "cell_type": "code",
   "execution_count": null,
   "metadata": {},
   "outputs": [],
   "source": [
    "!kgtk query -i $GRAPH --match '(:Otto)-[:name]->()' "
   ]
  },
  {
   "cell_type": "code",
   "execution_count": null,
   "metadata": {},
   "outputs": [],
   "source": [
    "! kgtk query -i $GRAPH \\\n",
    "  --match '(p)-[:name]->(n)' \\\n",
    "  --where 'n =~\".*(.)\\\\1.*\"' "
   ]
  },
  {
   "cell_type": "code",
   "execution_count": null,
   "metadata": {},
   "outputs": [],
   "source": [
    "!kgtk query -i $GRAPH \\\n",
    "  --match '(p)-[:name]->(n)' \\\n",
    "  --where 'p IN [\"Hans\", \"Susi\"]'"
   ]
  },
  {
   "cell_type": "code",
   "execution_count": null,
   "metadata": {},
   "outputs": [],
   "source": [
    "!kgtk query -i $GRAPH \\\n",
    "  --match '(p)-[:name]->(n)' \\\n",
    "  --where \"upper(substr(n,2,1)) >= 'J'\""
   ]
  },
  {
   "cell_type": "code",
   "execution_count": null,
   "metadata": {},
   "outputs": [],
   "source": [
    "!kgtk query -i $GRAPH \\\n",
    "  --match '(p)-[:name]->(n)' \\\n",
    "  --where \"upper(substr(n,2,1)) >= 'J'\" \\\n",
    "  --order-by 'n desc'"
   ]
  },
  {
   "cell_type": "code",
   "execution_count": null,
   "metadata": {},
   "outputs": [],
   "source": [
    "!kgtk query -i $GRAPH \\\n",
    "  --match '(p)-[:name]->(n)' \\\n",
    "  --where 'n =~\".*(.)\\\\1.*\"' \\\n",
    "  --return 'p, n' "
   ]
  },
  {
   "cell_type": "code",
   "execution_count": null,
   "metadata": {},
   "outputs": [],
   "source": [
    "!kgtk query -i $GRAPH \\\n",
    "  --match '(p)-[r:name]->(n)' \\\n",
    "  --where 'n =~\".*(.)\\\\1.*\"' \\\n",
    "  --return 'p, n, r, r.label'"
   ]
  },
  {
   "cell_type": "code",
   "execution_count": null,
   "metadata": {},
   "outputs": [],
   "source": [
    "!kgtk query -i $GRAPH \\\n",
    "  --match '(p)-[r:name]->(n)' \\\n",
    "  --where 'n =~\".*(.)\\\\1.*\"' \\\n",
    "  --return 'p, r.label, lower(n), r' "
   ]
  },
  {
   "cell_type": "code",
   "execution_count": null,
   "metadata": {},
   "outputs": [],
   "source": [
    "!kgtk query -i $GRAPH \\\n",
    "  --match '(p)-[r:name]->(n)' \\\n",
    "  --where 'n =~\".*(.)\\\\1.*\"' \\\n",
    "  --return 'p, r.label, kgtk_unstringify(n), r'"
   ]
  },
  {
   "cell_type": "code",
   "execution_count": 25,
   "metadata": {},
   "outputs": [
    {
     "name": "stdout",
     "output_type": "stream",
     "text": [
      "node1\tlabel\tnode2\tid\n",
      "\"Otto\"\tname\t'Otto'@de\te22\n",
      "\"Molly\"\tname\tMolly\te24\n"
     ]
    }
   ],
   "source": [
    "!kgtk query -i $GRAPH \\\n",
    "  --match '(p)-[r:name]->(n)' \\\n",
    "  --where 'n =~\".*(.)\\\\1.*\"' \\\n",
    "  --return 'kgtk_stringify(p) as node1, r.label, kgtk_unstringify(n) as node2, r'"
   ]
  },
  {
   "cell_type": "code",
   "execution_count": 26,
   "metadata": {},
   "outputs": [
    {
     "name": "stdout",
     "output_type": "stream",
     "text": [
      "[2020-09-15 13:20:10 query]: SQL Translation:\n",
      "---------------------------------------------\n",
      "  SELECT *\n",
      "     FROM graph_2 graph_2_c1\n",
      "     WHERE graph_2_c1.\"label\"=?\n",
      "     AND ((graph_2_c1.\"node2\" = ?) OR ((graph_2_c1.\"node2\" = ?) OR (graph_2_c1.\"node2\" = ?)))\n",
      "  PARAS: ['name', \"'Hans'@de\", '\"Susi\"', \"'Otto'@de\"]\n",
      "---------------------------------------------\n",
      "id\tnode1\tlabel\tnode2\n",
      "e21\tHans\tname\t'Hans'@de\n",
      "e22\tOtto\tname\t'Otto'@de\n",
      "e25\tSusi\tname\t\"Susi\"\n"
     ]
    }
   ],
   "source": [
    "!kgtk --debug query -i $GRAPH \\\n",
    "  --match '()-[:name]->(n)' \\\n",
    "  --where 'n = $name OR n = $name2 OR n = $name3 ' \\\n",
    "  --para name=\"'Hans'@de\" --spara name2=Susi --lqpara name3=Otto@de"
   ]
  },
  {
   "cell_type": "code",
   "execution_count": 27,
   "metadata": {},
   "outputs": [
    {
     "name": "stdout",
     "output_type": "stream",
     "text": [
      "id\tnode1\tlabel\tnode2\tgraph\n",
      "m11\tw11\tstarts\t^1984-12-17T00:03:12Z/11\tquals\n",
      "m12\tw12\tends\t^1987-11-08T04:56:34Z/10\tquals\n",
      "m13\tw13\tstarts\t^1996-02-23T08:02:56Z/09\tquals\n",
      "m14\tw14\tends\t^2001-04-09T06:16:27Z/08\tquals\n"
     ]
    }
   ],
   "source": [
    "!kgtk query -i $QUALS \\\n",
    "  --match '(eid)-[q]->(time)' \\\n",
    "  --where 'time.kgtk_date_year < 2005'"
   ]
  },
  {
   "cell_type": "code",
   "execution_count": 28,
   "metadata": {},
   "outputs": [
    {
     "name": "stdout",
     "output_type": "stream",
     "text": [
      "[2020-09-15 13:20:12 query]: SQL Translation:\n",
      "---------------------------------------------\n",
      "  SELECT *\n",
      "     FROM graph_2 graph_2_c1\n",
      "     WHERE graph_2_c1.\"label\"=?\n",
      "     AND (kgtk_lqstring_lang(graph_2_c1.\"node2\") = ?)\n",
      "  PARAS: ['name', 'de']\n",
      "---------------------------------------------\n",
      "id\tnode1\tlabel\tnode2\n",
      "e21\tHans\tname\t'Hans'@de\n",
      "e22\tOtto\tname\t'Otto'@de\n"
     ]
    }
   ],
   "source": [
    "!kgtk --debug query -i $GRAPH \\\n",
    "  --match '(p)-[r:name]->(n)' \\\n",
    "  --where 'n.kgtk_lqstring_lang = \"de\"'"
   ]
  },
  {
   "cell_type": "code",
   "execution_count": 29,
   "metadata": {},
   "outputs": [
    {
     "name": "stdout",
     "output_type": "stream",
     "text": [
      "[2020-09-15 13:20:12 query]: SQL Translation:\n",
      "---------------------------------------------\n",
      "  SELECT *\n",
      "     FROM graph_2 graph_2_c1\n",
      "     WHERE graph_2_c1.\"node1\"=graph_2_c1.\"node2\"\n",
      "  PARAS: []\n",
      "---------------------------------------------\n",
      "id\tnode1\tlabel\tnode2\n",
      "e14\tJoe\tloves\tJoe\n"
     ]
    }
   ],
   "source": [
    "!kgtk --debug query -i $GRAPH \\\n",
    "  --match '(a)-[]->(a)'"
   ]
  },
  {
   "cell_type": "code",
   "execution_count": 30,
   "metadata": {},
   "outputs": [
    {
     "name": "stdout",
     "output_type": "stream",
     "text": [
      "id\tnode2\tlabel\tnode2\n",
      "e11\t'Hans'@de\tloves\t\"Molly\"\n",
      "e12\t'Otto'@de\tloves\t\"Susi\"\n",
      "e14\t\"Joe\"\tloves\t\"Joe\"\n"
     ]
    }
   ],
   "source": [
    "!kgtk query -i $GRAPH \\\n",
    "  --match '(na)<-[:name]-(a)-[r:loves]->(b)-[:name]->(nb)' \\\n",
    "  --return 'r, na, r.label, nb'"
   ]
  },
  {
   "cell_type": "code",
   "execution_count": 31,
   "metadata": {},
   "outputs": [
    {
     "name": "stdout",
     "output_type": "stream",
     "text": [
      "id\tnode2\tlabel\tnode2\n",
      "e11\t'Hans'@de\tloves\t\"Molly\"\n",
      "e12\t'Otto'@de\tloves\t\"Susi\"\n"
     ]
    }
   ],
   "source": [
    "!kgtk query -i $GRAPH \\\n",
    "  --match '(na)<-[:name]-(a)-[r:loves]->(b)-[:name]->(nb)' \\\n",
    "  --where 'na.kgtk_lqstring_lang = \"de\" OR nb.kgtk_lqstring_lang = \"de\"' \\\n",
    "  --return 'r, na, r.label, nb'"
   ]
  },
  {
   "cell_type": "code",
   "execution_count": 32,
   "metadata": {},
   "outputs": [
    {
     "name": "stdout",
     "output_type": "stream",
     "text": [
      "id\tnode1\tlabel\tnode2\tid\tnode1\tlabel\tnode2\tnode1;salary\tgraph\n",
      "e14\tJoe\tloves\tJoe\tw13\tJoe\tworks\tKaiser\t20000\temploy\n",
      "e11\tHans\tloves\tMolly\tw14\tMolly\tworks\tRenal\t11000\temploy\n",
      "e12\tOtto\tloves\tSusi\tw15\tSusi\tworks\tCakes\t9900\temploy\n"
     ]
    }
   ],
   "source": [
    "!kgtk query -i $GRAPH -i $WORKS \\\n",
    "  --match 'g: (x)-[:loves]->(y), w: (y)-[:works]-(c)'"
   ]
  },
  {
   "cell_type": "code",
   "execution_count": 33,
   "metadata": {},
   "outputs": [
    {
     "name": "stdout",
     "output_type": "stream",
     "text": [
      "node1\tlabel\tnode2\n",
      "Joe\tloves/works\tKaiser\n",
      "Hans\tloves/works\tRenal\n",
      "Otto\tloves/works\tCakes\n"
     ]
    }
   ],
   "source": [
    "!kgtk query -i $GRAPH -i $WORKS \\\n",
    "  --match 'g: (x)-[:loves]->(y), w: (y)-[:works]-(c)' \\\n",
    "  --return 'x, \"loves/works\" as label, c'"
   ]
  },
  {
   "cell_type": "code",
   "execution_count": 34,
   "metadata": {},
   "outputs": [
    {
     "name": "stdout",
     "output_type": "stream",
     "text": [
      "id\tnode1\tlabel\tnode2\tnode2;work\n",
      "e14\tJoe\tloves\tJoe\tKaiser\n",
      "e11\tHans\tloves\tMolly\tRenal\n",
      "e12\tOtto\tloves\tSusi\tCakes\n"
     ]
    }
   ],
   "source": [
    "!kgtk query -i $GRAPH -i $WORKS \\\n",
    "  --match 'g: (x)-[r:loves]->(y), w: (y)-[:works]-(c)' \\\n",
    "  --return 'r, x, r.label, y as node2, c as `node2;work`'"
   ]
  },
  {
   "cell_type": "code",
   "execution_count": 35,
   "metadata": {},
   "outputs": [
    {
     "name": "stdout",
     "output_type": "stream",
     "text": [
      "[2020-09-15 13:20:17 query]: SQL Translation:\n",
      "---------------------------------------------\n",
      "  SELECT graph_2_c1.\"id\", graph_2_c1.\"node1\", graph_2_c1.\"label\", graph_3_c2.\"node1\" \"node2\", graph_3_c2.\"node2\" \"node2;work\", graph_3_c2.\"node1;salary\" \"node2;salary\"\n",
      "     FROM graph_2 graph_2_c1, graph_3 graph_3_c2\n",
      "     WHERE graph_2_c1.\"label\"=?\n",
      "     AND graph_3_c2.\"label\"=?\n",
      "     AND graph_3_c2.\"node1;salary\"=graph_3_c2.\"node1;salary\"\n",
      "     AND graph_2_c1.\"node2\"=graph_3_c2.\"node1\"\n",
      "     AND (graph_3_c2.\"node1;salary\" >= ?)\n",
      "  PARAS: ['loves', 'works', 10000]\n",
      "---------------------------------------------\n",
      "id\tnode1\tlabel\tnode2\tnode2;work\tnode2;salary\n",
      "e14\tJoe\tloves\tJoe\tKaiser\t20000\n",
      "e11\tHans\tloves\tMolly\tRenal\t11000\n",
      "e12\tOtto\tloves\tSusi\tCakes\t9900\n"
     ]
    }
   ],
   "source": [
    "!kgtk --debug query -i $GRAPH -i $WORKS \\\n",
    "  --match 'g: (x)-[r:loves]->(y), w: (y {salary: s})-[:works]-(c)' \\\n",
    "  --where 's >= 10000' \\\n",
    "  --return 'r, x, r.label, y as node2, c as `node2;work`, s as `node2;salary`'"
   ]
  },
  {
   "cell_type": "code",
   "execution_count": 36,
   "metadata": {},
   "outputs": [
    {
     "name": "stdout",
     "output_type": "stream",
     "text": [
      "id\tnode1\tlabel\tnode2\tnode2;work\tnode2;salary\n",
      "e14\tJoe\tloves\tJoe\tKaiser\t20000\n",
      "e11\tHans\tloves\tMolly\tRenal\t11000\n"
     ]
    }
   ],
   "source": [
    "!kgtk query -i $GRAPH -i $WORKS \\\n",
    "  --match 'g: (x)-[r:loves]->(y), w: (y {salary: s})-[:works]-(c)' \\\n",
    "  --where 'cast(s, integer) >= 10000' \\\n",
    "  --return 'r, x, r.label, y as node2, c as `node2;work`, s as `node2;salary`'"
   ]
  },
  {
   "cell_type": "code",
   "execution_count": 37,
   "metadata": {},
   "outputs": [
    {
     "name": "stdout",
     "output_type": "stream",
     "text": [
      "[2020-09-15 13:20:19 query]: SQL Translation:\n",
      "---------------------------------------------\n",
      "  SELECT max(graph_2_c1.\"node1\") \"node1\", graph_2_c1.\"label\", graph_2_c1.\"node2\", graph_2_c1.\"id\"\n",
      "     FROM graph_2 graph_2_c1\n",
      "  PARAS: []\n",
      "---------------------------------------------\n",
      "node1\tlabel\tnode2\tid\n",
      "Susi\tname\t\"Susi\"\te25\n"
     ]
    }
   ],
   "source": [
    "!kgtk --debug query -i $GRAPH \\\n",
    "  --match 'g: (x)-[r]->(y)' \\\n",
    "  --return 'max(x) as node1, r.label, y, r'"
   ]
  },
  {
   "cell_type": "code",
   "execution_count": 38,
   "metadata": {},
   "outputs": [
    {
     "name": "stdout",
     "output_type": "stream",
     "text": [
      "id\tmax(graph_2_c1.\"node1\")\tlabel\tnode2\n",
      "e11\tHans\tloves\tMolly\n",
      "e12\tOtto\tloves\tSusi\n",
      "e13\tJoe\tfriend\tOtto\n",
      "e14\tJoe\tloves\tJoe\n",
      "e21\tHans\tname\t'Hans'@de\n"
     ]
    }
   ],
   "source": [
    "!kgtk query -i $GRAPH \\\n",
    "  --match 'g: (x)-[r]->(y)' \\\n",
    "  --return 'r, max(x), r.label, y' \\\n",
    "  --limit 5"
   ]
  },
  {
   "cell_type": "code",
   "execution_count": 39,
   "metadata": {},
   "outputs": [
    {
     "name": "stdout",
     "output_type": "stream",
     "text": [
      "N\n",
      "3\n"
     ]
    }
   ],
   "source": [
    "!kgtk query -i $GRAPH \\\n",
    "  --match 'g: (x)-[r]->(y)' \\\n",
    "  --where 'x = \"Joe\"' \\\n",
    "  --return 'count(x) as N'"
   ]
  },
  {
   "cell_type": "code",
   "execution_count": 40,
   "metadata": {},
   "outputs": [
    {
     "name": "stdout",
     "output_type": "stream",
     "text": [
      "N\n",
      "1\n"
     ]
    }
   ],
   "source": [
    "!kgtk query -i $GRAPH \\\n",
    "  --match 'g: (x)-[r]->(y)' \\\n",
    "  --where 'x = \"Joe\"' \\\n",
    "  --return 'count(distinct x) as N'"
   ]
  },
  {
   "cell_type": "code",
   "execution_count": null,
   "metadata": {},
   "outputs": [],
   "source": []
  },
  {
   "cell_type": "code",
   "execution_count": null,
   "metadata": {},
   "outputs": [],
   "source": []
  },
  {
   "cell_type": "code",
   "execution_count": null,
   "metadata": {},
   "outputs": [],
   "source": []
  },
  {
   "cell_type": "code",
   "execution_count": null,
   "metadata": {},
   "outputs": [],
   "source": []
  },
  {
   "cell_type": "code",
   "execution_count": 9,
   "metadata": {},
   "outputs": [
    {
     "name": "stdout",
     "output_type": "stream",
     "text": [
      "env: WIKIDATA_HOME=/Users/pedroszekely/data/wikidata-20200803\n",
      "env: EDGES=/Users/pedroszekely/data/wikidata-20200803/wikidata-20200803-all-edges.tsv.gz\n",
      "env: QUALS=/Users/pedroszekely/data/wikidata-20200803/wikidata-20200803-all-qualifiers.tsv.gz\n",
      "env: LABELS=/Users/pedroszekely/data/wikidata-20200803/wikidata-20200803-all-labels-en-sorted.tsv.gz\n",
      "env: STORE=/Users/pedroszekely/data/wikidata-20200803/wikidata-20200803.sqlite3.db\n"
     ]
    }
   ],
   "source": [
    "home = %env HOME\n",
    "%env WIKIDATA_HOME=$home/data/wikidata-20200803\n",
    "wikidata_home = %env WIKIDATA_HOME\n",
    "\n",
    "%env EDGES=$wikidata_home/wikidata-20200803-all-edges.tsv.gz\n",
    "%env QUALS=$wikidata_home/wikidata-20200803-all-qualifiers.tsv.gz\n",
    "%env LABELS=$wikidata_home/wikidata-20200803-all-labels-en-sorted.tsv.gz\n",
    "\n",
    "%env STORE=$wikidata_home/wikidata-20200803.sqlite3.db"
   ]
  },
  {
   "cell_type": "code",
   "execution_count": 87,
   "metadata": {},
   "outputs": [
    {
     "name": "stdout",
     "output_type": "stream",
     "text": [
      "env: K=/Users/pedroszekely/Downloads/kypher\n"
     ]
    }
   ],
   "source": [
    "%env K=/Users/pedroszekely/Downloads/kypher"
   ]
  },
  {
   "cell_type": "code",
   "execution_count": 126,
   "metadata": {},
   "outputs": [
    {
     "name": "stdout",
     "output_type": "stream",
     "text": [
      "env: TS_STORE=/Users/pedroszekely/Downloads/kypher/test.sqlite3.db\n",
      "env: TS_STORE=/Users/pedroszekely/Downloads/kypher/full.sqlite3.db\n"
     ]
    }
   ],
   "source": [
    "%env TS_STORE=/Users/pedroszekely/Downloads/kypher/test.sqlite3.db\n",
    "%env TS_STORE=/Users/pedroszekely/Downloads/kypher/full.sqlite3.db"
   ]
  },
  {
   "cell_type": "code",
   "execution_count": 143,
   "metadata": {},
   "outputs": [
    {
     "name": "stdout",
     "output_type": "stream",
     "text": [
      "env: ALL=/Users/pedroszekely/Downloads/kypher/all.10.tsv\n"
     ]
    }
   ],
   "source": [
    "%env ALL=/Users/pedroszekely/Downloads/kypher/all.10.tsv\n",
    "#%env ALL=/Volumes/GoogleDrive/Shared drives/KGTK/datasets/wikidata-20200803-v2/wikidata-20200803-all-edges.tsv.gz"
   ]
  },
  {
   "cell_type": "code",
   "execution_count": 42,
   "metadata": {},
   "outputs": [
    {
     "name": "stdout",
     "output_type": "stream",
     "text": [
      "[2020-09-15 13:20:23 query]: SQL Translation:\n",
      "---------------------------------------------\n",
      "  SELECT *\n",
      "     FROM graph_1 graph_1_c1\n",
      "     LIMIT ?\n",
      "  PARAS: [10]\n",
      "---------------------------------------------\n",
      "id\tnode1\tlabel\tnode2\trank\n",
      "Q183-P2924-1\tQ183\tP2924\t\"2354371\"\tnormal\n",
      "Q183-P1333-1\tQ183\tP1333\t@47.2700279/10.17844677\tnormal\n",
      "Q183-P3221-1\tQ183\tP3221\t\"destination/germany\"\tnormal\n",
      "Q183-P227-1\tQ183\tP227\t\"4011882-4\"\tnormal\n",
      "Q183-P1792-1\tQ183\tP1792\tQ3919754\tnormal\n",
      "Q183-P2852-1\tQ183\tP2852\tQ1061257\tnormal\n",
      "Q183-P2852-2\tQ183\tP2852\tQ25648823\tnormal\n",
      "Q183-P2853-1\tQ183\tP2853\tQ1123613\tnormal\n",
      "Q183-P2853-2\tQ183\tP2853\tQ1378312\tnormal\n",
      "Q183-P395-1\tQ183\tP395\t\"D\"\tnormal\n",
      "\n",
      "real\t0m0.743s\n",
      "user\t0m0.587s\n",
      "sys\t0m0.136s\n"
     ]
    }
   ],
   "source": [
    "!time kgtk --debug query -i $EDGES --limit 10 --graph-cache $STORE"
   ]
  },
  {
   "cell_type": "code",
   "execution_count": 44,
   "metadata": {},
   "outputs": [
    {
     "name": "stdout",
     "output_type": "stream",
     "text": [
      "count\n",
      "1155208003\n",
      "\n",
      "real\t6m4.858s\n",
      "user\t1m11.702s\n",
      "sys\t0m59.296s\n"
     ]
    }
   ],
   "source": [
    "!time kgtk --debug query -i $EDGES --graph-cache $STORE \\\n",
    "    --match 'edge: ()-[r]->()' \\\n",
    "    --return 'count(r) as count' \\\n",
    "    --limit 10"
   ]
  },
  {
   "cell_type": "code",
   "execution_count": 45,
   "metadata": {},
   "outputs": [
    {
     "name": "stdout",
     "output_type": "stream",
     "text": [
      "[2020-09-15 13:28:21 query]: SQL Translation:\n",
      "---------------------------------------------\n",
      "  SELECT *\n",
      "     FROM graph_1 graph_1_c1\n",
      "     WHERE graph_1_c1.\"label\"=?\n",
      "     LIMIT ?\n",
      "  PARAS: ['P3345', 10]\n",
      "---------------------------------------------\n",
      "id\tnode1\tlabel\tnode2\trank\n",
      "Q716-P3345-1\tQ716\tP3345\t\"1305547\"\tnormal\n",
      "Q181619-P3345-1\tQ181619\tP3345\t\"4885\"\tnormal\n",
      "Q191831-P3345-1\tQ191831\tP3345\t\"1362695\"\tnormal\n",
      "Q412845-P3345-1\tQ412845\tP3345\t\"155021\"\tnormal\n",
      "Q418767-P3345-1\tQ418767\tP3345\t\"314718\"\tnormal\n",
      "Q420035-P3345-1\tQ420035\tP3345\t\"9524\"\tnormal\n",
      "Q420454-P3345-1\tQ420454\tP3345\t\"8723\"\tnormal\n",
      "Q421465-P3345-1\tQ421465\tP3345\t\"1311072\"\tnormal\n",
      "Q423842-P3345-1\tQ423842\tP3345\t\"23247\"\tnormal\n",
      "Q424412-P3345-1\tQ424412\tP3345\t\"1373\"\tnormal\n",
      "\n",
      "real\t0m1.055s\n",
      "user\t0m0.622s\n",
      "sys\t0m0.195s\n"
     ]
    }
   ],
   "source": [
    "!time kgtk --debug query -i $EDGES --graph-cache $STORE \\\n",
    "    --match 'e: ()-[r:P3345]->(x)' \\\n",
    "    --limit 10"
   ]
  },
  {
   "cell_type": "code",
   "execution_count": 53,
   "metadata": {},
   "outputs": [
    {
     "name": "stdout",
     "output_type": "stream",
     "text": [
      "[2020-09-15 13:49:06 query]: SQL Translation:\n",
      "---------------------------------------------\n",
      "  SELECT graph_1_c2.\"node1\", graph_1_c2.\"label\", graph_1_c2.\"node2\", graph_1_c2.\"id\"\n",
      "     FROM graph_1 graph_1_c1, graph_1 graph_1_c2\n",
      "     WHERE graph_1_c1.\"label\"=?\n",
      "     AND graph_1_c1.\"node1\"=graph_1_c2.\"node1\"\n",
      "  PARAS: ['P3345']\n",
      "---------------------------------------------\n",
      "\n",
      "real\t0m5.154s\n",
      "user\t0m2.254s\n",
      "sys\t0m0.703s\n"
     ]
    }
   ],
   "source": [
    "!time kgtk --debug query -i $EDGES --graph-cache $STORE -o - \\\n",
    "    --match '(n)-[r:P3345]->(), (n)-[t]->(o) ' \\\n",
    "    --return 'n, t.label, o, t' \\\n",
    "    | gzip > $WIKIDATA_HOME/P3345.edges.tsv.gz"
   ]
  },
  {
   "cell_type": "code",
   "execution_count": 54,
   "metadata": {},
   "outputs": [
    {
     "name": "stdout",
     "output_type": "stream",
     "text": [
      "env: STORE_LACIE=/Volumes/LaCie/kgtk/wikidata-20200803.sqlite3.db\n"
     ]
    }
   ],
   "source": [
    "%env STORE_LACIE=/Volumes/LaCie/kgtk/wikidata-20200803.sqlite3.db"
   ]
  },
  {
   "cell_type": "code",
   "execution_count": 55,
   "metadata": {},
   "outputs": [
    {
     "name": "stdout",
     "output_type": "stream",
     "text": [
      "[2020-09-15 15:22:43 query]: SQL Translation:\n",
      "---------------------------------------------\n",
      "  SELECT graph_1_c2.\"node1\", graph_1_c2.\"label\", graph_1_c2.\"node2\", graph_1_c2.\"id\"\n",
      "     FROM graph_1 graph_1_c1, graph_1 graph_1_c2\n",
      "     WHERE graph_1_c1.\"label\"=?\n",
      "     AND graph_1_c1.\"node1\"=graph_1_c2.\"node1\"\n",
      "  PARAS: ['P3345']\n",
      "---------------------------------------------\n",
      "\n",
      "real\t1m42.515s\n",
      "user\t0m4.361s\n",
      "sys\t0m2.667s\n"
     ]
    }
   ],
   "source": [
    "!time kgtk --debug query -i $EDGES --graph-cache $STORE_LACIE -o - \\\n",
    "    --match '(n)-[r:P3345]->(), (n)-[t]->(o) ' \\\n",
    "    --return 'n, t.label, o, t' \\\n",
    "    | gzip > $WIKIDATA_HOME/P3345.edges.tsv.gz"
   ]
  },
  {
   "cell_type": "code",
   "execution_count": 56,
   "metadata": {},
   "outputs": [
    {
     "name": "stdout",
     "output_type": "stream",
     "text": [
      "[2020-09-15 15:26:05 query]: SQL Translation:\n",
      "---------------------------------------------\n",
      "  SELECT graph_1_c1.\"node1\", graph_1_c2.\"label\", graph_1_c2.\"node2\", graph_1_c2.\"id\"\n",
      "     FROM graph_1 graph_1_c1, graph_1 graph_1_c2\n",
      "     WHERE graph_1_c1.\"label\"=?\n",
      "     AND graph_1_c1.\"node1\"=graph_1_c2.\"node1\"\n",
      "  PARAS: ['P1082']\n",
      "---------------------------------------------\n",
      "\n",
      "real\t57m31.529s\n",
      "user\t8m15.635s\n",
      "sys\t1m42.635s\n"
     ]
    }
   ],
   "source": [
    "!time kgtk --debug query -i $EDGES --graph-cache $STORE_LACIE -o - \\\n",
    "    --match '(n)-[r:P1082]->(), (n)-[t]->(o) ' \\\n",
    "    --return 'n, t.label, o, t' \\\n",
    "    | gzip > $WIKIDATA_HOME/P1082.edges.tsv.gz"
   ]
  },
  {
   "cell_type": "code",
   "execution_count": 57,
   "metadata": {},
   "outputs": [
    {
     "name": "stdout",
     "output_type": "stream",
     "text": [
      "[2020-09-15 16:24:02 query]: SQL Translation:\n",
      "---------------------------------------------\n",
      "  SELECT graph_1_c1.\"node1\", graph_1_c2.\"label\", graph_1_c2.\"node2\", graph_1_c2.\"id\"\n",
      "     FROM graph_1 graph_1_c1, graph_1 graph_1_c2\n",
      "     WHERE graph_1_c1.\"label\"=?\n",
      "     AND graph_1_c1.\"node2\"=?\n",
      "     AND graph_1_c1.\"node1\"=graph_1_c2.\"node1\"\n",
      "  PARAS: ['P31', 'Q11173']\n",
      "---------------------------------------------\n",
      "\n",
      "real\t1m22.502s\n",
      "user\t0m47.686s\n",
      "sys\t0m10.724s\n"
     ]
    }
   ],
   "source": [
    "!time kgtk --debug query -i $EDGES --graph-cache $STORE -o - \\\n",
    "    --match '(n)-[:P31]->(:Q11173), (n)-[t]->(o) ' \\\n",
    "    --return 'n, t.label, o, t' \\\n",
    "    | gzip > $WIKIDATA_HOME/Q11173.edges.tsv.gz"
   ]
  },
  {
   "cell_type": "code",
   "execution_count": 12,
   "metadata": {},
   "outputs": [
    {
     "name": "stdout",
     "output_type": "stream",
     "text": [
      "[2020-09-16 09:13:17 query]: SQL Translation:\n",
      "---------------------------------------------\n",
      "  SELECT graph_1_c1.\"node2\", graph_1_c2.\"label\", graph_1_c2.\"node2\", graph_1_c2.\"id\"\n",
      "     FROM graph_1 graph_1_c1, graph_1 graph_1_c2\n",
      "     WHERE graph_1_c1.\"label\"=?\n",
      "     AND graph_1_c2.\"label\"=?\n",
      "     AND graph_1_c1.\"node2\"=graph_1_c2.\"node1\"\n",
      "  PARAS: ['P31', 'P279']\n",
      "---------------------------------------------\n",
      "\n",
      "real\t156m18.125s\n",
      "user\t18m14.466s\n",
      "sys\t36m11.001s\n"
     ]
    }
   ],
   "source": [
    "!time kgtk --debug query -i $EDGES --graph-cache $STORE -o - \\\n",
    "    --match '(i)-[:P31]->(c), (c)-[r:P279]->(sc) ' \\\n",
    "    --return 'c, r.label, sc, r' \\\n",
    "    | gzip > $WIKIDATA_HOME/P31.P279.tsv.gz"
   ]
  },
  {
   "cell_type": "code",
   "execution_count": 14,
   "metadata": {},
   "outputs": [
    {
     "name": "stdout",
     "output_type": "stream",
     "text": [
      "[2020-09-16 12:36:07 query]: SQL Translation:\n",
      "---------------------------------------------\n",
      "  SELECT DISTINCT graph_1_c2.\"node1\", graph_1_c2.\"label\", graph_1_c2.\"node2\", graph_1_c2.\"id\"\n",
      "     FROM graph_1 graph_1_c1, graph_1 graph_1_c2\n",
      "     WHERE graph_1_c1.\"label\"=?\n",
      "     AND graph_1_c2.\"label\"=?\n",
      "     AND graph_1_c1.\"node2\"=graph_1_c2.\"node1\"\n",
      "  PARAS: ['P31', 'P279']\n",
      "---------------------------------------------\n",
      "\n",
      "real\t141m27.924s\n",
      "user\t9m7.937s\n",
      "sys\t33m58.074s\n"
     ]
    }
   ],
   "source": [
    "!time kgtk --debug query -i $EDGES --graph-cache $STORE -o - \\\n",
    "    --match '(i)-[:P31]->(c), (c)-[r:P279]->(sc) ' \\\n",
    "    --return 'distinct c, r.label, sc, r' \\\n",
    "    | gzip > $WIKIDATA_HOME/P31.P279.unique.tsv.gz"
   ]
  },
  {
   "cell_type": "code",
   "execution_count": 10,
   "metadata": {},
   "outputs": [
    {
     "name": "stdout",
     "output_type": "stream",
     "text": [
      "[2020-09-16 16:02:30 query]: SQL Translation:\n",
      "---------------------------------------------\n",
      "  SELECT DISTINCT graph_1_c1.\"node1\", graph_1_c1.\"label\", graph_1_c1.\"node2\", graph_1_c1.\"id\"\n",
      "     FROM graph_1 graph_1_c1, graph_1 graph_1_c2\n",
      "     WHERE graph_1_c1.\"label\"=?\n",
      "     AND graph_1_c2.\"label\"=?\n",
      "     AND graph_1_c1.\"node1\"=graph_1_c2.\"node2\"\n",
      "  PARAS: ['P279', 'P31']\n",
      "---------------------------------------------\n",
      "\n",
      "real\t152m21.287s\n",
      "user\t9m42.442s\n",
      "sys\t34m50.383s\n"
     ]
    }
   ],
   "source": [
    "!time kgtk --debug query -i $EDGES --graph-cache $STORE -o - \\\n",
    "    --match '(c)-[r:P279]->(sc), (i)-[:P31]->(c)' \\\n",
    "    --return 'distinct c, r.label, sc, r' \\\n",
    "    | gzip > $WIKIDATA_HOME/P31.P279.unique.2.tsv.gz"
   ]
  },
  {
   "cell_type": "code",
   "execution_count": 124,
   "metadata": {},
   "outputs": [
    {
     "name": "stdout",
     "output_type": "stream",
     "text": [
      "env: TS_STORE=/Users/pedroszekely/Downloads/kypher/full.sqlite3.db\n"
     ]
    }
   ],
   "source": []
  },
  {
   "cell_type": "code",
   "execution_count": 142,
   "metadata": {},
   "outputs": [
    {
     "name": "stdout",
     "output_type": "stream",
     "text": [
      "[2020-09-18 23:18:37 sqlstore]: IMPORT graph directly into table graph_1 from /Volumes/GoogleDrive/Shared drives/KGTK/datasets/wikidata-20200803-v2/wikidata-20200803-all-edges.tsv.gz ...\n",
      "Exception in thread background thread for pid 45014:\n",
      "Traceback (most recent call last):\n",
      "  File \"/Users/pedroszekely/opt/anaconda3/envs/kgtk/lib/python3.7/threading.py\", line 926, in _bootstrap_inner\n",
      "    self.run()\n",
      "  File \"/Users/pedroszekely/opt/anaconda3/envs/kgtk/lib/python3.7/threading.py\", line 870, in run\n",
      "    self._target(*self._args, **self._kwargs)\n",
      "  File \"/Users/pedroszekely/opt/anaconda3/envs/kgtk/lib/python3.7/site-packages/sh-1.13.1-py3.7.egg/sh.py\", line 1662, in wrap\n",
      "    fn(*args, **kwargs)\n",
      "  File \"/Users/pedroszekely/opt/anaconda3/envs/kgtk/lib/python3.7/site-packages/sh-1.13.1-py3.7.egg/sh.py\", line 2606, in background_thread\n",
      "    handle_exit_code(exit_code)\n",
      "  File \"/Users/pedroszekely/opt/anaconda3/envs/kgtk/lib/python3.7/site-packages/sh-1.13.1-py3.7.egg/sh.py\", line 2304, in fn\n",
      "    return self.command.handle_command_exit_code(exit_code)\n",
      "  File \"/Users/pedroszekely/opt/anaconda3/envs/kgtk/lib/python3.7/site-packages/sh-1.13.1-py3.7.egg/sh.py\", line 877, in handle_command_exit_code\n",
      "    raise exc\n",
      "sh.ErrorReturnCode_1: \n",
      "\n",
      "  RAN: /usr/bin/zcat '/Volumes/GoogleDrive/Shared drives/KGTK/datasets/wikidata-20200803-v2/wikidata-20200803-all-edges.tsv.gz'\n",
      "\n",
      "  STDOUT:\n",
      "\n",
      "\n",
      "  STDERR:\n",
      "zcat: can't stat: /Volumes/GoogleDrive/Shared drives/KGTK/datasets/wikidata-20200803-v2/wikidata-20200803-all-edges.tsv.gz (/Volumes/GoogleDrive/Shared drives/KGTK/datasets/wikidata-20200803-v2/wikidata-20200803-all-edges.tsv.gz.Z): No such file or directory\n",
      "\n",
      "\n",
      "Traceback (most recent call last):\n",
      "  File \"/Users/pedroszekely/opt/anaconda3/envs/kgtk/lib/python3.7/site-packages/kgtk-0.4.0-py3.7.egg/kgtk/cli/query.py\", line 129, in run\n",
      "    parameters=parameters)\n",
      "  File \"/Users/pedroszekely/opt/anaconda3/envs/kgtk/lib/python3.7/site-packages/kgtk-0.4.0-py3.7.egg/kgtk/kypher/query.py\", line 177, in __init__\n",
      "    store.add_graph(file)\n",
      "  File \"/Users/pedroszekely/opt/anaconda3/envs/kgtk/lib/python3.7/site-packages/kgtk-0.4.0-py3.7.egg/kgtk/kypher/sqlstore.py\", line 490, in add_graph\n",
      "    self.import_graph_data_via_import(table, file)\n",
      "  File \"/Users/pedroszekely/opt/anaconda3/envs/kgtk/lib/python3.7/site-packages/kgtk-0.4.0-py3.7.egg/kgtk/kypher/sqlstore.py\", line 577, in import_graph_data_via_import\n",
      "    sqlproc.wait()\n",
      "  File \"/Users/pedroszekely/opt/anaconda3/envs/kgtk/lib/python3.7/site-packages/sh-1.13.1-py3.7.egg/sh.py\", line 856, in wait\n",
      "    self.process._stdin_process.command.wait()\n",
      "  File \"/Users/pedroszekely/opt/anaconda3/envs/kgtk/lib/python3.7/site-packages/sh-1.13.1-py3.7.egg/sh.py\", line 856, in wait\n",
      "    self.process._stdin_process.command.wait()\n",
      "  File \"/Users/pedroszekely/opt/anaconda3/envs/kgtk/lib/python3.7/site-packages/sh-1.13.1-py3.7.egg/sh.py\", line 849, in wait\n",
      "    self.handle_command_exit_code(exit_code)\n",
      "  File \"/Users/pedroszekely/opt/anaconda3/envs/kgtk/lib/python3.7/site-packages/sh-1.13.1-py3.7.egg/sh.py\", line 877, in handle_command_exit_code\n",
      "    raise exc\n",
      "sh.ErrorReturnCode_1: \n",
      "\n",
      "  RAN: /usr/bin/zcat '/Volumes/GoogleDrive/Shared drives/KGTK/datasets/wikidata-20200803-v2/wikidata-20200803-all-edges.tsv.gz'\n",
      "\n",
      "  STDOUT:\n",
      "\n",
      "\n",
      "  STDERR:\n",
      "zcat: can't stat: /Volumes/GoogleDrive/Shared drives/KGTK/datasets/wikidata-20200803-v2/wikidata-20200803-all-edges.tsv.gz (/Volumes/GoogleDrive/Shared drives/KGTK/datasets/wikidata-20200803-v2/wikidata-20200803-all-edges.tsv.gz.Z): No such file or directory\n",
      "\n",
      "\n",
      "During handling of the above exception, another exception occurred:\n",
      "\n",
      "Traceback (most recent call last):\n",
      "  File \"/Users/pedroszekely/opt/anaconda3/envs/kgtk/lib/python3.7/site-packages/kgtk-0.4.0-py3.7.egg/kgtk/exceptions.py\", line 42, in __call__\n",
      "    return_code = func(*args, **kwargs) or 0\n",
      "  File \"/Users/pedroszekely/opt/anaconda3/envs/kgtk/lib/python3.7/site-packages/kgtk-0.4.0-py3.7.egg/kgtk/cli/query.py\", line 154, in run\n",
      "    raise KGTKException(str(e) + '\\n')\n",
      "kgtk.exceptions.KGTKException: \n",
      "\n",
      "  RAN: /usr/bin/zcat '/Volumes/GoogleDrive/Shared drives/KGTK/datasets/wikidata-20200803-v2/wikidata-20200803-all-edges.tsv.gz'\n",
      "\n",
      "  STDOUT:\n",
      "\n",
      "\n",
      "  STDERR:\n",
      "zcat: can't stat: /Volumes/GoogleDrive/Shared drives/KGTK/datasets/wikidata-20200803-v2/wikidata-20200803-all-edges.tsv.gz (/Volumes/GoogleDrive/Shared drives/KGTK/datasets/wikidata-20200803-v2/wikidata-20200803-all-edges.tsv.gz.Z): No such file or directory\n",
      "\n",
      "\n",
      "\n",
      "\n",
      "  RAN: /usr/bin/zcat '/Volumes/GoogleDrive/Shared drives/KGTK/datasets/wikidata-20200803-v2/wikidata-20200803-all-edges.tsv.gz'\n",
      "\n",
      "  STDOUT:\n",
      "\n",
      "\n",
      "  STDERR:\n",
      "zcat: can't stat: /Volumes/GoogleDrive/Shared drives/KGTK/datasets/wikidata-20200803-v2/wikidata-20200803-all-edges.tsv.gz (/Volumes/GoogleDrive/Shared drives/KGTK/datasets/wikidata-20200803-v2/wikidata-20200803-all-edges.tsv.gz.Z): No such file or directory\n",
      "\n",
      "\n",
      "\n",
      "real\t0m1.145s\n",
      "user\t0m0.597s\n",
      "sys\t0m0.241s\n"
     ]
    }
   ],
   "source": [
    "!time kgtk --debug query -i \"$ALL\" --limit 10 --graph-cache $TS_STORE"
   ]
  },
  {
   "cell_type": "code",
   "execution_count": 49,
   "metadata": {},
   "outputs": [
    {
     "name": "stdout",
     "output_type": "stream",
     "text": [
      "[2020-09-18 21:47:24 query]: SQL Translation:\n",
      "---------------------------------------------\n",
      "  SELECT *\n",
      "     FROM graph_1 graph_1_c1\n",
      "     WHERE graph_1_c1.\"label\"=?\n",
      "     LIMIT ?\n",
      "  PARAS: ['P31', 10]\n",
      "---------------------------------------------\n",
      "[2020-09-18 21:47:24 sqlstore]: CREATE INDEX on table graph_1 column label ...\n",
      "[2020-09-18 21:47:30 sqlstore]: ANALYZE INDEX on table graph_1 column label ...\n",
      "id\tnode1\tlabel\tnode2\trank\tnode2;magnitude\tnode2;unit\tnode2;date\tnode2;item\tnode2;lower\tnode2;upper\tnode2;latitude\tnode2;longitude\tnode2;precision\tnode2;calendar\tnode2;entity-type\tnode2;wikidatatype\n",
      "Q45-P31-1\tQ45\tP31\tQ3624078\tnormal\t\t\t\tQ3624078\t\t\t\t\t\t\titem\twikibase-item\n",
      "Q45-P31-2\tQ45\tP31\tQ6256\tnormal\t\t\t\tQ6256\t\t\t\t\t\t\titem\twikibase-item\n",
      "Q45-P31-3\tQ45\tP31\tQ20181813\tnormal\t\t\t\tQ20181813\t\t\t\t\t\t\titem\twikibase-item\n",
      "Q140-P31-1\tQ140\tP31\tQ16521\tnormal\t\t\t\tQ16521\t\t\t\t\t\t\titem\twikibase-item\n",
      "Q183-P31-1\tQ183\tP31\tQ3624078\tpreferred\t\t\t\tQ3624078\t\t\t\t\t\t\titem\twikibase-item\n",
      "Q183-P31-2\tQ183\tP31\tQ43702\tpreferred\t\t\t\tQ43702\t\t\t\t\t\t\titem\twikibase-item\n",
      "Q183-P31-3\tQ183\tP31\tQ7270\tnormal\t\t\t\tQ7270\t\t\t\t\t\t\titem\twikibase-item\n",
      "Q183-P31-4\tQ183\tP31\tQ619610\tnormal\t\t\t\tQ619610\t\t\t\t\t\t\titem\twikibase-item\n",
      "Q183-P31-5\tQ183\tP31\tQ4209223\tnormal\t\t\t\tQ4209223\t\t\t\t\t\t\titem\twikibase-item\n",
      "Q183-P31-6\tQ183\tP31\tQ63791824\tpreferred\t\t\t\tQ63791824\t\t\t\t\t\t\titem\twikibase-item\n",
      "\n",
      "real\t0m7.679s\n",
      "user\t0m6.238s\n",
      "sys\t0m1.200s\n"
     ]
    }
   ],
   "source": [
    "!time kgtk --debug query -i $ALL --graph-cache $TS_STORE -o - \\\n",
    "    --match '(i)-[:P31]->(c)' \\\n",
    "    --limit 10"
   ]
  },
  {
   "cell_type": "code",
   "execution_count": 94,
   "metadata": {},
   "outputs": [
    {
     "name": "stdout",
     "output_type": "stream",
     "text": [
      "[2020-09-18 22:24:05 query]: SQL Translation:\n",
      "---------------------------------------------\n",
      "  SELECT *\n",
      "     FROM graph_1 graph_1_c1\n",
      "     WHERE graph_1_c1.\"node2;wikidatatype\"=graph_1_c1.\"node2;wikidatatype\"\n",
      "     AND (graph_1_c1.\"node2;wikidatatype\" = ?)\n",
      "  PARAS: ['wikibase-item']\n",
      "---------------------------------------------\n",
      "\n",
      "real\t0m7.306s\n",
      "user\t0m6.404s\n",
      "sys\t0m0.585s\n"
     ]
    }
   ],
   "source": [
    "!time kgtk --debug query -i $ALL --graph-cache $TS_STORE -o all.wikibase-item.tsv \\\n",
    "    --match '(n1)-[l]->(n2 {wikidatatype: type})' \\\n",
    "    --where 'type = \"wikibase-item\"' "
   ]
  },
  {
   "cell_type": "code",
   "execution_count": 95,
   "metadata": {},
   "outputs": [],
   "source": [
    "items = pd.read_csv(os.getenv(\"K\")+\"/all.wikibase-item.tsv\", delimiter='\\t')"
   ]
  },
  {
   "cell_type": "code",
   "execution_count": 99,
   "metadata": {},
   "outputs": [],
   "source": [
    "items_profile = ProfileReport(items, title='wikibase-item', explorative = True)"
   ]
  },
  {
   "cell_type": "code",
   "execution_count": 97,
   "metadata": {},
   "outputs": [
    {
     "data": {
      "application/vnd.jupyter.widget-view+json": {
       "model_id": "6087f5f49ce2409da2b0418622217fde",
       "version_major": 2,
       "version_minor": 0
      },
      "text/plain": [
       "HBox(children=(FloatProgress(value=0.0, description='Summarize dataset', max=31.0, style=ProgressStyle(descrip…"
      ]
     },
     "metadata": {},
     "output_type": "display_data"
    },
    {
     "name": "stdout",
     "output_type": "stream",
     "text": [
      "\n"
     ]
    },
    {
     "data": {
      "application/vnd.jupyter.widget-view+json": {
       "model_id": "40bbebcc3e96413196dcc961f91ddd99",
       "version_major": 2,
       "version_minor": 0
      },
      "text/plain": [
       "HBox(children=(FloatProgress(value=0.0, description='Generate report structure', max=1.0, style=ProgressStyle(…"
      ]
     },
     "metadata": {},
     "output_type": "display_data"
    },
    {
     "name": "stdout",
     "output_type": "stream",
     "text": [
      "\n"
     ]
    },
    {
     "data": {
      "application/vnd.jupyter.widget-view+json": {
       "model_id": "2a57d11281c84b6e8dc74a1b831a06b8",
       "version_major": 2,
       "version_minor": 0
      },
      "text/plain": [
       "HBox(children=(FloatProgress(value=0.0, description='Render HTML', max=1.0, style=ProgressStyle(description_wi…"
      ]
     },
     "metadata": {},
     "output_type": "display_data"
    },
    {
     "name": "stdout",
     "output_type": "stream",
     "text": [
      "\n"
     ]
    },
    {
     "data": {
      "application/vnd.jupyter.widget-view+json": {
       "model_id": "ad9cbca2189c4b97b0f5bd06faea817d",
       "version_major": 2,
       "version_minor": 0
      },
      "text/plain": [
       "HBox(children=(FloatProgress(value=0.0, description='Export report to file', max=1.0, style=ProgressStyle(desc…"
      ]
     },
     "metadata": {},
     "output_type": "display_data"
    },
    {
     "name": "stdout",
     "output_type": "stream",
     "text": [
      "\n"
     ]
    }
   ],
   "source": [
    "items_profile.to_file(\"wikibase-item.html\")b"
   ]
  },
  {
   "cell_type": "code",
   "execution_count": 98,
   "metadata": {},
   "outputs": [
    {
     "name": "stdout",
     "output_type": "stream",
     "text": [
      "[2020-09-18 22:26:26 query]: SQL Translation:\n",
      "---------------------------------------------\n",
      "  SELECT *\n",
      "     FROM graph_1 graph_1_c1\n",
      "     WHERE graph_1_c1.\"node2;wikidatatype\"=graph_1_c1.\"node2;wikidatatype\"\n",
      "     AND (graph_1_c1.\"node2;wikidatatype\" = ?)\n",
      "  PARAS: ['quantity']\n",
      "---------------------------------------------\n",
      "\n",
      "real\t0m2.995s\n",
      "user\t0m2.323s\n",
      "sys\t0m0.468s\n"
     ]
    }
   ],
   "source": [
    "!time kgtk --debug query -i $ALL --graph-cache $TS_STORE -o all.quantity.tsv \\\n",
    "    --match '(n1)-[l]->(n2 {wikidatatype: type})' \\\n",
    "    --where 'type = \"quantity\"' "
   ]
  },
  {
   "cell_type": "code",
   "execution_count": 100,
   "metadata": {},
   "outputs": [],
   "source": [
    "quantities = pd.read_csv(os.getenv(\"K\")+\"/all.quantity.tsv\", delimiter='\\t')"
   ]
  },
  {
   "cell_type": "code",
   "execution_count": 103,
   "metadata": {},
   "outputs": [
    {
     "data": {
      "text/html": [
       "<div>\n",
       "<style scoped>\n",
       "    .dataframe tbody tr th:only-of-type {\n",
       "        vertical-align: middle;\n",
       "    }\n",
       "\n",
       "    .dataframe tbody tr th {\n",
       "        vertical-align: top;\n",
       "    }\n",
       "\n",
       "    .dataframe thead th {\n",
       "        text-align: right;\n",
       "    }\n",
       "</style>\n",
       "<table border=\"1\" class=\"dataframe\">\n",
       "  <thead>\n",
       "    <tr style=\"text-align: right;\">\n",
       "      <th></th>\n",
       "      <th>id</th>\n",
       "      <th>node1</th>\n",
       "      <th>label</th>\n",
       "      <th>node2</th>\n",
       "      <th>rank</th>\n",
       "      <th>node2;magnitude</th>\n",
       "      <th>node2;unit</th>\n",
       "      <th>node2;date</th>\n",
       "      <th>node2;item</th>\n",
       "      <th>node2;lower</th>\n",
       "      <th>node2;upper</th>\n",
       "      <th>node2;latitude</th>\n",
       "      <th>node2;longitude</th>\n",
       "      <th>node2;precision</th>\n",
       "      <th>node2;calendar</th>\n",
       "      <th>node2;entity-type</th>\n",
       "      <th>node2;wikidatatype</th>\n",
       "    </tr>\n",
       "  </thead>\n",
       "  <tbody>\n",
       "    <tr>\n",
       "      <th>0</th>\n",
       "      <td>Q45-P1082-1</td>\n",
       "      <td>Q45</td>\n",
       "      <td>P1082</td>\n",
       "      <td>+8857716</td>\n",
       "      <td>normal</td>\n",
       "      <td>8857716.0</td>\n",
       "      <td>NaN</td>\n",
       "      <td>NaN</td>\n",
       "      <td>NaN</td>\n",
       "      <td>NaN</td>\n",
       "      <td>NaN</td>\n",
       "      <td>NaN</td>\n",
       "      <td>NaN</td>\n",
       "      <td>NaN</td>\n",
       "      <td>NaN</td>\n",
       "      <td>NaN</td>\n",
       "      <td>quantity</td>\n",
       "    </tr>\n",
       "    <tr>\n",
       "      <th>1</th>\n",
       "      <td>Q45-P1082-2</td>\n",
       "      <td>Q45</td>\n",
       "      <td>P1082</td>\n",
       "      <td>+8929316</td>\n",
       "      <td>normal</td>\n",
       "      <td>8929316.0</td>\n",
       "      <td>NaN</td>\n",
       "      <td>NaN</td>\n",
       "      <td>NaN</td>\n",
       "      <td>NaN</td>\n",
       "      <td>NaN</td>\n",
       "      <td>NaN</td>\n",
       "      <td>NaN</td>\n",
       "      <td>NaN</td>\n",
       "      <td>NaN</td>\n",
       "      <td>NaN</td>\n",
       "      <td>quantity</td>\n",
       "    </tr>\n",
       "    <tr>\n",
       "      <th>2</th>\n",
       "      <td>Q45-P1082-3</td>\n",
       "      <td>Q45</td>\n",
       "      <td>P1082</td>\n",
       "      <td>+8993985</td>\n",
       "      <td>normal</td>\n",
       "      <td>8993985.0</td>\n",
       "      <td>NaN</td>\n",
       "      <td>NaN</td>\n",
       "      <td>NaN</td>\n",
       "      <td>NaN</td>\n",
       "      <td>NaN</td>\n",
       "      <td>NaN</td>\n",
       "      <td>NaN</td>\n",
       "      <td>NaN</td>\n",
       "      <td>NaN</td>\n",
       "      <td>NaN</td>\n",
       "      <td>quantity</td>\n",
       "    </tr>\n",
       "    <tr>\n",
       "      <th>3</th>\n",
       "      <td>Q45-P1082-4</td>\n",
       "      <td>Q45</td>\n",
       "      <td>P1082</td>\n",
       "      <td>+9030355</td>\n",
       "      <td>normal</td>\n",
       "      <td>9030355.0</td>\n",
       "      <td>NaN</td>\n",
       "      <td>NaN</td>\n",
       "      <td>NaN</td>\n",
       "      <td>NaN</td>\n",
       "      <td>NaN</td>\n",
       "      <td>NaN</td>\n",
       "      <td>NaN</td>\n",
       "      <td>NaN</td>\n",
       "      <td>NaN</td>\n",
       "      <td>NaN</td>\n",
       "      <td>quantity</td>\n",
       "    </tr>\n",
       "    <tr>\n",
       "      <th>4</th>\n",
       "      <td>Q45-P1082-5</td>\n",
       "      <td>Q45</td>\n",
       "      <td>P1082</td>\n",
       "      <td>+9035365</td>\n",
       "      <td>normal</td>\n",
       "      <td>9035365.0</td>\n",
       "      <td>NaN</td>\n",
       "      <td>NaN</td>\n",
       "      <td>NaN</td>\n",
       "      <td>NaN</td>\n",
       "      <td>NaN</td>\n",
       "      <td>NaN</td>\n",
       "      <td>NaN</td>\n",
       "      <td>NaN</td>\n",
       "      <td>NaN</td>\n",
       "      <td>NaN</td>\n",
       "      <td>quantity</td>\n",
       "    </tr>\n",
       "    <tr>\n",
       "      <th>...</th>\n",
       "      <td>...</td>\n",
       "      <td>...</td>\n",
       "      <td>...</td>\n",
       "      <td>...</td>\n",
       "      <td>...</td>\n",
       "      <td>...</td>\n",
       "      <td>...</td>\n",
       "      <td>...</td>\n",
       "      <td>...</td>\n",
       "      <td>...</td>\n",
       "      <td>...</td>\n",
       "      <td>...</td>\n",
       "      <td>...</td>\n",
       "      <td>...</td>\n",
       "      <td>...</td>\n",
       "      <td>...</td>\n",
       "      <td>...</td>\n",
       "    </tr>\n",
       "    <tr>\n",
       "      <th>69818</th>\n",
       "      <td>Q11789827-P2044-1</td>\n",
       "      <td>Q11789827</td>\n",
       "      <td>P2044</td>\n",
       "      <td>+1225Q11573</td>\n",
       "      <td>normal</td>\n",
       "      <td>1225.0</td>\n",
       "      <td>Q11573</td>\n",
       "      <td>NaN</td>\n",
       "      <td>NaN</td>\n",
       "      <td>NaN</td>\n",
       "      <td>NaN</td>\n",
       "      <td>NaN</td>\n",
       "      <td>NaN</td>\n",
       "      <td>NaN</td>\n",
       "      <td>NaN</td>\n",
       "      <td>NaN</td>\n",
       "      <td>quantity</td>\n",
       "    </tr>\n",
       "    <tr>\n",
       "      <th>69819</th>\n",
       "      <td>Q11789827-P1082-1</td>\n",
       "      <td>Q11789827</td>\n",
       "      <td>P1082</td>\n",
       "      <td>+6</td>\n",
       "      <td>normal</td>\n",
       "      <td>6.0</td>\n",
       "      <td>NaN</td>\n",
       "      <td>NaN</td>\n",
       "      <td>NaN</td>\n",
       "      <td>NaN</td>\n",
       "      <td>NaN</td>\n",
       "      <td>NaN</td>\n",
       "      <td>NaN</td>\n",
       "      <td>NaN</td>\n",
       "      <td>NaN</td>\n",
       "      <td>NaN</td>\n",
       "      <td>quantity</td>\n",
       "    </tr>\n",
       "    <tr>\n",
       "      <th>69820</th>\n",
       "      <td>Q11792441-P2044-1</td>\n",
       "      <td>Q11792441</td>\n",
       "      <td>P2044</td>\n",
       "      <td>+170[+169,+171]Q11573</td>\n",
       "      <td>normal</td>\n",
       "      <td>170.0</td>\n",
       "      <td>Q11573</td>\n",
       "      <td>NaN</td>\n",
       "      <td>NaN</td>\n",
       "      <td>169.0</td>\n",
       "      <td>171.0</td>\n",
       "      <td>NaN</td>\n",
       "      <td>NaN</td>\n",
       "      <td>NaN</td>\n",
       "      <td>NaN</td>\n",
       "      <td>NaN</td>\n",
       "      <td>quantity</td>\n",
       "    </tr>\n",
       "    <tr>\n",
       "      <th>69821</th>\n",
       "      <td>Q11792510-P4511-1</td>\n",
       "      <td>Q11792510</td>\n",
       "      <td>P4511</td>\n",
       "      <td>+0.5Q11573</td>\n",
       "      <td>normal</td>\n",
       "      <td>0.5</td>\n",
       "      <td>Q11573</td>\n",
       "      <td>NaN</td>\n",
       "      <td>NaN</td>\n",
       "      <td>NaN</td>\n",
       "      <td>NaN</td>\n",
       "      <td>NaN</td>\n",
       "      <td>NaN</td>\n",
       "      <td>NaN</td>\n",
       "      <td>NaN</td>\n",
       "      <td>NaN</td>\n",
       "      <td>quantity</td>\n",
       "    </tr>\n",
       "    <tr>\n",
       "      <th>69822</th>\n",
       "      <td>Q11792510-P2044-1</td>\n",
       "      <td>Q11792510</td>\n",
       "      <td>P2044</td>\n",
       "      <td>+1837Q11573</td>\n",
       "      <td>normal</td>\n",
       "      <td>1837.0</td>\n",
       "      <td>Q11573</td>\n",
       "      <td>NaN</td>\n",
       "      <td>NaN</td>\n",
       "      <td>NaN</td>\n",
       "      <td>NaN</td>\n",
       "      <td>NaN</td>\n",
       "      <td>NaN</td>\n",
       "      <td>NaN</td>\n",
       "      <td>NaN</td>\n",
       "      <td>NaN</td>\n",
       "      <td>quantity</td>\n",
       "    </tr>\n",
       "  </tbody>\n",
       "</table>\n",
       "<p>69823 rows × 17 columns</p>\n",
       "</div>"
      ],
      "text/plain": [
       "                      id      node1  label                  node2    rank  \\\n",
       "0            Q45-P1082-1        Q45  P1082               +8857716  normal   \n",
       "1            Q45-P1082-2        Q45  P1082               +8929316  normal   \n",
       "2            Q45-P1082-3        Q45  P1082               +8993985  normal   \n",
       "3            Q45-P1082-4        Q45  P1082               +9030355  normal   \n",
       "4            Q45-P1082-5        Q45  P1082               +9035365  normal   \n",
       "...                  ...        ...    ...                    ...     ...   \n",
       "69818  Q11789827-P2044-1  Q11789827  P2044            +1225Q11573  normal   \n",
       "69819  Q11789827-P1082-1  Q11789827  P1082                     +6  normal   \n",
       "69820  Q11792441-P2044-1  Q11792441  P2044  +170[+169,+171]Q11573  normal   \n",
       "69821  Q11792510-P4511-1  Q11792510  P4511             +0.5Q11573  normal   \n",
       "69822  Q11792510-P2044-1  Q11792510  P2044            +1837Q11573  normal   \n",
       "\n",
       "       node2;magnitude node2;unit  node2;date  node2;item  node2;lower  \\\n",
       "0            8857716.0        NaN         NaN         NaN          NaN   \n",
       "1            8929316.0        NaN         NaN         NaN          NaN   \n",
       "2            8993985.0        NaN         NaN         NaN          NaN   \n",
       "3            9030355.0        NaN         NaN         NaN          NaN   \n",
       "4            9035365.0        NaN         NaN         NaN          NaN   \n",
       "...                ...        ...         ...         ...          ...   \n",
       "69818           1225.0     Q11573         NaN         NaN          NaN   \n",
       "69819              6.0        NaN         NaN         NaN          NaN   \n",
       "69820            170.0     Q11573         NaN         NaN        169.0   \n",
       "69821              0.5     Q11573         NaN         NaN          NaN   \n",
       "69822           1837.0     Q11573         NaN         NaN          NaN   \n",
       "\n",
       "       node2;upper  node2;latitude  node2;longitude  node2;precision  \\\n",
       "0              NaN             NaN              NaN              NaN   \n",
       "1              NaN             NaN              NaN              NaN   \n",
       "2              NaN             NaN              NaN              NaN   \n",
       "3              NaN             NaN              NaN              NaN   \n",
       "4              NaN             NaN              NaN              NaN   \n",
       "...            ...             ...              ...              ...   \n",
       "69818          NaN             NaN              NaN              NaN   \n",
       "69819          NaN             NaN              NaN              NaN   \n",
       "69820        171.0             NaN              NaN              NaN   \n",
       "69821          NaN             NaN              NaN              NaN   \n",
       "69822          NaN             NaN              NaN              NaN   \n",
       "\n",
       "       node2;calendar  node2;entity-type node2;wikidatatype  \n",
       "0                 NaN                NaN           quantity  \n",
       "1                 NaN                NaN           quantity  \n",
       "2                 NaN                NaN           quantity  \n",
       "3                 NaN                NaN           quantity  \n",
       "4                 NaN                NaN           quantity  \n",
       "...               ...                ...                ...  \n",
       "69818             NaN                NaN           quantity  \n",
       "69819             NaN                NaN           quantity  \n",
       "69820             NaN                NaN           quantity  \n",
       "69821             NaN                NaN           quantity  \n",
       "69822             NaN                NaN           quantity  \n",
       "\n",
       "[69823 rows x 17 columns]"
      ]
     },
     "execution_count": 103,
     "metadata": {},
     "output_type": "execute_result"
    }
   ],
   "source": [
    "quantities"
   ]
  },
  {
   "cell_type": "code",
   "execution_count": 104,
   "metadata": {},
   "outputs": [
    {
     "data": {
      "text/plain": [
       "P1082    16720\n",
       "P1087     9696\n",
       "P2044     5225\n",
       "P2046     5198\n",
       "P1215     2179\n",
       "         ...  \n",
       "P2231        1\n",
       "P1436        1\n",
       "P5630        1\n",
       "P7462        1\n",
       "P2118        1\n",
       "Name: label, Length: 301, dtype: int64"
      ]
     },
     "execution_count": 104,
     "metadata": {},
     "output_type": "execute_result"
    }
   ],
   "source": [
    "quantities['label'].value_counts()"
   ]
  },
  {
   "cell_type": "code",
   "execution_count": 101,
   "metadata": {},
   "outputs": [],
   "source": [
    "quantities_profile = ProfileReport(quantities, title='wikibase-item', explorative = True)"
   ]
  },
  {
   "cell_type": "code",
   "execution_count": 106,
   "metadata": {},
   "outputs": [
    {
     "name": "stderr",
     "output_type": "stream",
     "text": [
      "/Users/pedroszekely/opt/anaconda3/envs/kgtk/lib/python3.7/site-packages/IPython/core/interactiveshell.py:3072: DtypeWarning: Columns (4,6,7,8,14,15,16) have mixed types.Specify dtype option on import or set low_memory=False.\n",
      "  interactivity=interactivity, compiler=compiler, result=result)\n"
     ]
    }
   ],
   "source": [
    "all = pd.read_csv(os.getenv(\"K\")+\"/all.10.tsv\", delimiter='\\t')"
   ]
  },
  {
   "cell_type": "code",
   "execution_count": 107,
   "metadata": {},
   "outputs": [
    {
     "data": {
      "text/plain": [
       "wikibase-item        729535\n",
       "external-id          416408\n",
       "time                  76936\n",
       "quantity              69823\n",
       "string                68283\n",
       "commonsMedia          36794\n",
       "globe-coordinate      26063\n",
       "monolingualtext       24131\n",
       "url                   12874\n",
       "geo-shape               183\n",
       "wikibase-property       148\n",
       "math                     70\n",
       "wikibase-form             7\n",
       "musical-notation          2\n",
       "Name: node2;wikidatatype, dtype: int64"
      ]
     },
     "execution_count": 107,
     "metadata": {},
     "output_type": "execute_result"
    }
   ],
   "source": [
    "all['node2;wikidatatype'].value_counts()"
   ]
  },
  {
   "cell_type": "code",
   "execution_count": 75,
   "metadata": {},
   "outputs": [
    {
     "name": "stdout",
     "output_type": "stream",
     "text": [
      "[2020-09-18 22:03:00 query]: SQL Translation:\n",
      "---------------------------------------------\n",
      "  SELECT *\n",
      "     FROM graph_1 graph_1_c1\n",
      "     WHERE graph_1_c1.\"node2;wikidatatype\"=graph_1_c1.\"node2;wikidatatype\"\n",
      "     AND (graph_1_c1.\"node2;wikidatatype\" = ?)\n",
      "  PARAS: ['external-id']\n",
      "---------------------------------------------\n",
      "\n",
      "real\t0m5.317s\n",
      "user\t0m4.549s\n",
      "sys\t0m0.542s\n"
     ]
    }
   ],
   "source": [
    "!time kgtk --debug query -i $ALL --graph-cache $TS_STORE -o all.external-id.tsv \\\n",
    "    --match '(n1)-[l]->(n2 {wikidatatype: type})' \\\n",
    "    --where 'type = \"external-id\"' "
   ]
  },
  {
   "cell_type": "code",
   "execution_count": 76,
   "metadata": {},
   "outputs": [
    {
     "name": "stdout",
     "output_type": "stream",
     "text": [
      "[2020-09-18 22:04:27 query]: SQL Translation:\n",
      "---------------------------------------------\n",
      "  SELECT *\n",
      "     FROM graph_1 graph_1_c1\n",
      "     WHERE graph_1_c1.\"label\"=?\n",
      "  PARAS: ['label']\n",
      "---------------------------------------------\n",
      "\n",
      "real\t0m13.692s\n",
      "user\t0m12.579s\n",
      "sys\t0m0.729s\n"
     ]
    }
   ],
   "source": [
    "!time kgtk --debug query -i $ALL --graph-cache $TS_STORE -o all.label.tsv \\\n",
    "    --match '(n1)-[l:label]->(n2)' "
   ]
  },
  {
   "cell_type": "code",
   "execution_count": 151,
   "metadata": {},
   "outputs": [
    {
     "name": "stdout",
     "output_type": "stream",
     "text": [
      "[2020-09-19 08:31:56 query]: SQL Translation:\n",
      "---------------------------------------------\n",
      "  SELECT kgtk_lqstring_lang(graph_4_c1.\"node2\") \"language\", count(kgtk_lqstring_lang(graph_4_c1.\"node2\")) \"count\"\n",
      "     FROM graph_4 graph_4_c1\n",
      "     GROUP BY language\n",
      "     ORDER BY count(kgtk_lqstring_lang(graph_4_c1.\"node2\")) DESC\n",
      "  PARAS: []\n",
      "---------------------------------------------\n",
      "\n",
      "real\t0m6.623s\n",
      "user\t0m5.955s\n",
      "sys\t0m0.369s\n"
     ]
    }
   ],
   "source": [
    "!time kgtk --debug query -i $K/all.label.tsv --graph-cache $TS_STORE \\\n",
    "    --match '(n1)-[l]->(n2)' \\\n",
    "    --return 'n2.kgtk_lqstring_lang as language, count(n2.kgtk_lqstring_lang) as count' \\\n",
    "    --order-by 'count(n2.kgtk_lqstring_lang) desc' \\\n",
    "    > $K/label.count.tsv"
   ]
  },
  {
   "cell_type": "code",
   "execution_count": 108,
   "metadata": {},
   "outputs": [],
   "source": [
    "!kgtk explode  -i $K/all.label.tsv > $K/all.label.x.tsv"
   ]
  },
  {
   "cell_type": "code",
   "execution_count": 115,
   "metadata": {},
   "outputs": [
    {
     "name": "stdout",
     "output_type": "stream",
     "text": [
      "[2020-09-18 22:50:01 query]: SQL Translation:\n",
      "---------------------------------------------\n",
      "  SELECT *\n",
      "     FROM graph_3 graph_3_c1\n",
      "     WHERE (kgtk_lqstring_lang(graph_3_c1.\"node2\") = ?)\n",
      "  PARAS: ['en']\n",
      "---------------------------------------------\n",
      "\n",
      "real\t0m4.151s\n",
      "user\t0m3.723s\n",
      "sys\t0m0.255s\n"
     ]
    }
   ],
   "source": [
    "!time kgtk --debug query -i $K/all.label.tsv --graph-cache $TS_STORE -o $K/all.label.en.tsv  \\\n",
    "    --match '(n1)-[l]->(n2)' \\\n",
    "    --where 'n2.kgtk_lqstring_lang = \"en\"' "
   ]
  },
  {
   "cell_type": "code",
   "execution_count": 77,
   "metadata": {},
   "outputs": [
    {
     "name": "stdout",
     "output_type": "stream",
     "text": [
      "[2020-09-18 22:05:35 query]: SQL Translation:\n",
      "---------------------------------------------\n",
      "  SELECT *\n",
      "     FROM graph_1 graph_1_c1\n",
      "     WHERE graph_1_c1.\"label\"=?\n",
      "  PARAS: ['alias']\n",
      "---------------------------------------------\n",
      "\n",
      "real\t0m2.568s\n",
      "user\t0m2.116s\n",
      "sys\t0m0.281s\n"
     ]
    }
   ],
   "source": [
    "!time kgtk --debug query -i $ALL --graph-cache $TS_STORE -o all.alias.tsv \\\n",
    "    --match '(n1)-[l:alias]->(n2)' "
   ]
  },
  {
   "cell_type": "code",
   "execution_count": 78,
   "metadata": {},
   "outputs": [
    {
     "name": "stdout",
     "output_type": "stream",
     "text": [
      "[2020-09-18 22:05:51 query]: SQL Translation:\n",
      "---------------------------------------------\n",
      "  SELECT *\n",
      "     FROM graph_1 graph_1_c1\n",
      "     WHERE graph_1_c1.\"label\"=?\n",
      "  PARAS: ['description']\n",
      "---------------------------------------------\n",
      "\n",
      "real\t0m41.699s\n",
      "user\t0m39.319s\n",
      "sys\t0m1.669s\n"
     ]
    }
   ],
   "source": [
    "!time kgtk --debug query -i $ALL --graph-cache $TS_STORE -o all.description.tsv \\\n",
    "    --match '(n1)-[l:description]->(n2)' "
   ]
  },
  {
   "cell_type": "code",
   "execution_count": 84,
   "metadata": {},
   "outputs": [
    {
     "name": "stdout",
     "output_type": "stream",
     "text": [
      "[2020-09-18 22:10:53 query]: SQL Translation:\n",
      "---------------------------------------------\n",
      "  SELECT *\n",
      "     FROM graph_1 graph_1_c1\n",
      "     WHERE graph_1_c1.\"label\"=?\n",
      "  PARAS: ['type']\n",
      "---------------------------------------------\n",
      "\n",
      "real\t0m2.290s\n",
      "user\t0m1.702s\n",
      "sys\t0m0.363s\n"
     ]
    }
   ],
   "source": [
    "!time kgtk --debug query -i $ALL --graph-cache $TS_STORE -o all.type.tsv \\\n",
    "    --match '(n1)-[l:type]->(n2)' "
   ]
  },
  {
   "cell_type": "code",
   "execution_count": 86,
   "metadata": {},
   "outputs": [
    {
     "name": "stdout",
     "output_type": "stream",
     "text": [
      "[2020-09-18 22:11:35 query]: SQL Translation:\n",
      "---------------------------------------------\n",
      "  SELECT DISTINCT graph_1_c1.\"label\", graph_1_c1.\"node2\"\n",
      "     FROM graph_1 graph_1_c1\n",
      "     WHERE graph_1_c1.\"label\"=?\n",
      "  PARAS: ['type']\n",
      "---------------------------------------------\n",
      "label\tnode2\n",
      "type\titem\n",
      "type\tproperty\n",
      "\n",
      "real\t0m1.091s\n",
      "user\t0m0.768s\n",
      "sys\t0m0.297s\n"
     ]
    }
   ],
   "source": [
    "!time kgtk --debug query -i $ALL --graph-cache $TS_STORE \\\n",
    "    --match '(n1)-[l:type]->(n2)' \\\n",
    "    --return 'distinct l.label, n2'"
   ]
  },
  {
   "cell_type": "raw",
   "metadata": {},
   "source": [
    "commonsMedia\tcount\t36794\n",
    "external-id\tcount\t416408\n",
    "geo-shape\tcount\t183\n",
    "globe-coordinate\tcount\t26063\n",
    "math\tcount\t70\n",
    "monolingualtext\tcount\t24131\n",
    "musical-notation\tcount\t2\n",
    "quantity\tcount\t69823\n",
    "string\tcount\t68283\n",
    "time\tcount\t76936\n",
    "url\tcount\t12874\n",
    "wikibase-form\tcount\t7\n",
    "wikibase-item\tcount\t729535\n",
    "wikibase-property\tcount\t148"
   ]
  },
  {
   "cell_type": "code",
   "execution_count": 117,
   "metadata": {},
   "outputs": [
    {
     "name": "stdout",
     "output_type": "stream",
     "text": [
      "[2020-09-18 23:01:05 query]: SQL Translation:\n",
      "---------------------------------------------\n",
      "  SELECT *\n",
      "     FROM graph_1 graph_1_c1\n",
      "     WHERE graph_1_c1.\"label\"=?\n",
      "  PARAS: ['type']\n",
      "---------------------------------------------\n",
      "\n",
      "real\t0m1.872s\n",
      "user\t0m1.473s\n",
      "sys\t0m0.289s\n",
      "[2020-09-18 23:01:07 query]: SQL Translation:\n",
      "---------------------------------------------\n",
      "  SELECT *\n",
      "     FROM graph_1 graph_1_c1\n",
      "     WHERE graph_1_c1.\"node2;wikidatatype\"=graph_1_c1.\"node2;wikidatatype\"\n",
      "     AND (graph_1_c1.\"node2;wikidatatype\" = ?)\n",
      "  PARAS: ['commonsMedia']\n",
      "---------------------------------------------\n",
      "\n",
      "real\t0m2.294s\n",
      "user\t0m1.932s\n",
      "sys\t0m0.354s\n",
      "[2020-09-18 23:01:10 query]: SQL Translation:\n",
      "---------------------------------------------\n",
      "  SELECT *\n",
      "     FROM graph_1 graph_1_c1\n",
      "     WHERE graph_1_c1.\"node2;wikidatatype\"=graph_1_c1.\"node2;wikidatatype\"\n",
      "     AND (graph_1_c1.\"node2;wikidatatype\" = ?)\n",
      "  PARAS: ['external-id']\n",
      "---------------------------------------------\n",
      "\n",
      "real\t0m4.517s\n",
      "user\t0m4.101s\n",
      "sys\t0m0.394s\n",
      "[2020-09-18 23:01:15 query]: SQL Translation:\n",
      "---------------------------------------------\n",
      "  SELECT *\n",
      "     FROM graph_1 graph_1_c1\n",
      "     WHERE graph_1_c1.\"node2;wikidatatype\"=graph_1_c1.\"node2;wikidatatype\"\n",
      "     AND (graph_1_c1.\"node2;wikidatatype\" = ?)\n",
      "  PARAS: ['geo-shape']\n",
      "---------------------------------------------\n",
      "\n",
      "real\t0m2.035s\n",
      "user\t0m1.686s\n",
      "sys\t0m0.341s\n",
      "[2020-09-18 23:01:17 query]: SQL Translation:\n",
      "---------------------------------------------\n",
      "  SELECT *\n",
      "     FROM graph_1 graph_1_c1\n",
      "     WHERE graph_1_c1.\"node2;wikidatatype\"=graph_1_c1.\"node2;wikidatatype\"\n",
      "     AND (graph_1_c1.\"node2;wikidatatype\" = ?)\n",
      "  PARAS: ['globe-coordinate']\n",
      "---------------------------------------------\n",
      "\n",
      "real\t0m2.207s\n",
      "user\t0m1.850s\n",
      "sys\t0m0.344s\n",
      "[2020-09-18 23:01:20 query]: SQL Translation:\n",
      "---------------------------------------------\n",
      "  SELECT *\n",
      "     FROM graph_1 graph_1_c1\n",
      "     WHERE graph_1_c1.\"node2;wikidatatype\"=graph_1_c1.\"node2;wikidatatype\"\n",
      "     AND (graph_1_c1.\"node2;wikidatatype\" = ?)\n",
      "  PARAS: ['math']\n",
      "---------------------------------------------\n",
      "\n",
      "real\t0m2.012s\n",
      "user\t0m1.668s\n",
      "sys\t0m0.337s\n",
      "[2020-09-18 23:01:22 query]: SQL Translation:\n",
      "---------------------------------------------\n",
      "  SELECT *\n",
      "     FROM graph_1 graph_1_c1\n",
      "     WHERE graph_1_c1.\"node2;wikidatatype\"=graph_1_c1.\"node2;wikidatatype\"\n",
      "     AND (graph_1_c1.\"node2;wikidatatype\" = ?)\n",
      "  PARAS: ['monolingualtext']\n",
      "---------------------------------------------\n",
      "\n",
      "real\t0m2.208s\n",
      "user\t0m1.851s\n",
      "sys\t0m0.348s\n",
      "[2020-09-18 23:01:25 query]: SQL Translation:\n",
      "---------------------------------------------\n",
      "  SELECT *\n",
      "     FROM graph_1 graph_1_c1\n",
      "     WHERE graph_1_c1.\"node2;wikidatatype\"=graph_1_c1.\"node2;wikidatatype\"\n",
      "     AND (graph_1_c1.\"node2;wikidatatype\" = ?)\n",
      "  PARAS: ['musical-notation']\n",
      "---------------------------------------------\n",
      "\n",
      "real\t0m2.107s\n",
      "user\t0m1.728s\n",
      "sys\t0m0.363s\n",
      "[2020-09-18 23:01:27 query]: SQL Translation:\n",
      "---------------------------------------------\n",
      "  SELECT *\n",
      "     FROM graph_1 graph_1_c1\n",
      "     WHERE graph_1_c1.\"node2;wikidatatype\"=graph_1_c1.\"node2;wikidatatype\"\n",
      "     AND (graph_1_c1.\"node2;wikidatatype\" = ?)\n",
      "  PARAS: ['quantity']\n",
      "---------------------------------------------\n",
      "\n",
      "real\t0m2.741s\n",
      "user\t0m2.269s\n",
      "sys\t0m0.420s\n",
      "[2020-09-18 23:01:30 query]: SQL Translation:\n",
      "---------------------------------------------\n",
      "  SELECT *\n",
      "     FROM graph_1 graph_1_c1\n",
      "     WHERE graph_1_c1.\"node2;wikidatatype\"=graph_1_c1.\"node2;wikidatatype\"\n",
      "     AND (graph_1_c1.\"node2;wikidatatype\" = ?)\n",
      "  PARAS: ['string']\n",
      "---------------------------------------------\n",
      "\n",
      "real\t0m2.856s\n",
      "user\t0m2.289s\n",
      "sys\t0m0.436s\n",
      "[2020-09-18 23:01:34 query]: SQL Translation:\n",
      "---------------------------------------------\n",
      "  SELECT *\n",
      "     FROM graph_1 graph_1_c1\n",
      "     WHERE graph_1_c1.\"node2;wikidatatype\"=graph_1_c1.\"node2;wikidatatype\"\n",
      "     AND (graph_1_c1.\"node2;wikidatatype\" = ?)\n",
      "  PARAS: ['time']\n",
      "---------------------------------------------\n",
      "\n",
      "real\t0m2.739s\n",
      "user\t0m2.300s\n",
      "sys\t0m0.403s\n",
      "[2020-09-18 23:01:37 query]: SQL Translation:\n",
      "---------------------------------------------\n",
      "  SELECT *\n",
      "     FROM graph_1 graph_1_c1\n",
      "     WHERE graph_1_c1.\"node2;wikidatatype\"=graph_1_c1.\"node2;wikidatatype\"\n",
      "     AND (graph_1_c1.\"node2;wikidatatype\" = ?)\n",
      "  PARAS: ['url']\n",
      "---------------------------------------------\n",
      "\n",
      "real\t0m2.179s\n",
      "user\t0m1.803s\n",
      "sys\t0m0.365s\n",
      "[2020-09-18 23:01:39 query]: SQL Translation:\n",
      "---------------------------------------------\n",
      "  SELECT *\n",
      "     FROM graph_1 graph_1_c1\n",
      "     WHERE graph_1_c1.\"node2;wikidatatype\"=graph_1_c1.\"node2;wikidatatype\"\n",
      "     AND (graph_1_c1.\"node2;wikidatatype\" = ?)\n",
      "  PARAS: ['wikibase-form']\n",
      "---------------------------------------------\n",
      "\n",
      "real\t0m2.029s\n",
      "user\t0m1.655s\n",
      "sys\t0m0.350s\n",
      "[2020-09-18 23:01:42 query]: SQL Translation:\n",
      "---------------------------------------------\n",
      "  SELECT *\n",
      "     FROM graph_1 graph_1_c1\n",
      "     WHERE graph_1_c1.\"node2;wikidatatype\"=graph_1_c1.\"node2;wikidatatype\"\n",
      "     AND (graph_1_c1.\"node2;wikidatatype\" = ?)\n",
      "  PARAS: ['wikibase-item']\n",
      "---------------------------------------------\n",
      "\n",
      "real\t0m6.723s\n",
      "user\t0m6.151s\n",
      "sys\t0m0.469s\n",
      "[2020-09-18 23:01:49 query]: SQL Translation:\n",
      "---------------------------------------------\n",
      "  SELECT *\n",
      "     FROM graph_1 graph_1_c1\n",
      "     WHERE graph_1_c1.\"node2;wikidatatype\"=graph_1_c1.\"node2;wikidatatype\"\n",
      "     AND (graph_1_c1.\"node2;wikidatatype\" = ?)\n",
      "  PARAS: ['wikibase-property']\n",
      "---------------------------------------------\n",
      "\n",
      "real\t0m2.245s\n",
      "user\t0m1.747s\n",
      "sys\t0m0.388s\n"
     ]
    }
   ],
   "source": [
    "!time kgtk --debug query -i $ALL --graph-cache $TS_STORE -o all.type.tsv --match '(n1)-[l:type]->(n2)' \n",
    "\n",
    "!time kgtk --debug query -i $ALL --graph-cache $TS_STORE -o all.commonsMedia.tsv \\\n",
    "    --match '(n1)-[l]->(n2 {wikidatatype: type})' \\\n",
    "    --where 'type = \"commonsMedia\"' \n",
    "\n",
    "!time kgtk --debug query -i $ALL --graph-cache $TS_STORE -o all.external-id.tsv \\\n",
    "    --match '(n1)-[l]->(n2 {wikidatatype: type})' \\\n",
    "    --where 'type = \"external-id\"' \n",
    "\n",
    "!time kgtk --debug query -i $ALL --graph-cache $TS_STORE -o all.geo-shape.tsv \\\n",
    "    --match '(n1)-[l]->(n2 {wikidatatype: type})' \\\n",
    "    --where 'type = \"geo-shape\"' \n",
    "\n",
    "!time kgtk --debug query -i $ALL --graph-cache $TS_STORE -o all.globe-coordinate.tsv \\\n",
    "    --match '(n1)-[l]->(n2 {wikidatatype: type})' \\\n",
    "    --where 'type = \"globe-coordinate\"' \n",
    "\n",
    "!time kgtk --debug query -i $ALL --graph-cache $TS_STORE -o all.math.tsv \\\n",
    "    --match '(n1)-[l]->(n2 {wikidatatype: type})' \\\n",
    "    --where 'type = \"math\"' \n",
    "\n",
    "!time kgtk --debug query -i $ALL --graph-cache $TS_STORE -o all.monolingualtext.tsv \\\n",
    "    --match '(n1)-[l]->(n2 {wikidatatype: type})' \\\n",
    "    --where 'type = \"monolingualtext\"' \n",
    "\n",
    "!time kgtk --debug query -i $ALL --graph-cache $TS_STORE -o all.musical-notation.tsv \\\n",
    "    --match '(n1)-[l]->(n2 {wikidatatype: type})' \\\n",
    "    --where 'type = \"musical-notation\"' \n",
    "\n",
    "!time kgtk --debug query -i $ALL --graph-cache $TS_STORE -o all.quantity.tsv \\\n",
    "    --match '(n1)-[l]->(n2 {wikidatatype: type})' \\\n",
    "    --where 'type = \"quantity\"' \n",
    "\n",
    "!time kgtk --debug query -i $ALL --graph-cache $TS_STORE -o all.string.tsv \\\n",
    "    --match '(n1)-[l]->(n2 {wikidatatype: type})' \\\n",
    "    --where 'type = \"string\"' \n",
    "\n",
    "!time kgtk --debug query -i $ALL --graph-cache $TS_STORE -o all.time.tsv \\\n",
    "    --match '(n1)-[l]->(n2 {wikidatatype: type})' \\\n",
    "    --where 'type = \"time\"' \n",
    "\n",
    "!time kgtk --debug query -i $ALL --graph-cache $TS_STORE -o all.url.tsv \\\n",
    "    --match '(n1)-[l]->(n2 {wikidatatype: type})' \\\n",
    "    --where 'type = \"url\"' \n",
    "\n",
    "!time kgtk --debug query -i $ALL --graph-cache $TS_STORE -o all.wikibase-form.tsv \\\n",
    "    --match '(n1)-[l]->(n2 {wikidatatype: type})' \\\n",
    "    --where 'type = \"wikibase-form\"' \n",
    "\n",
    "!time kgtk --debug query -i $ALL --graph-cache $TS_STORE -o all.wikibase-item.tsv \\\n",
    "    --match '(n1)-[l]->(n2 {wikidatatype: type})' \\\n",
    "    --where 'type = \"wikibase-item\"' \n",
    "\n",
    "!time kgtk --debug query -i $ALL --graph-cache $TS_STORE -o all.wikibase-property.tsv \\\n",
    "    --match '(n1)-[l]->(n2 {wikidatatype: type})' \\\n",
    "    --where 'type = \"wikibase-property\"' \n",
    "\n"
   ]
  },
  {
   "cell_type": "code",
   "execution_count": 119,
   "metadata": {},
   "outputs": [
    {
     "name": "stdout",
     "output_type": "stream",
     "text": [
      "[2020-09-18 23:05:03 query]: SQL Translation:\n",
      "---------------------------------------------\n",
      "  SELECT *\n",
      "     FROM graph_1 graph_1_c1\n",
      "     WHERE graph_1_c1.\"node2;wikidatatype\"=graph_1_c1.\"node2;wikidatatype\"\n",
      "     AND (graph_1_c1.\"node2;wikidatatype\" = ?)\n",
      "  PARAS: ['wikibase-property']\n",
      "---------------------------------------------\n",
      "\n",
      "real\t0m2.295s\n",
      "user\t0m1.812s\n",
      "sys\t0m0.399s\n"
     ]
    }
   ],
   "source": [
    "!time kgtk --debug query -i $ALL --graph-cache $TS_STORE -o - \\\n",
    "    --match '(n1)-[l]->(n2 {wikidatatype: type})' \\\n",
    "    --where 'type = \"wikibase-property\"' \\\n",
    "    | gzip > $K/all.wikibase-property.tsv.gz "
   ]
  },
  {
   "cell_type": "code",
   "execution_count": 123,
   "metadata": {},
   "outputs": [
    {
     "name": "stdout",
     "output_type": "stream",
     "text": [
      "usage: kgtk [options] command [ / command]*\n",
      "kgtk: error: argument command: invalid choice: 'gzip' (choose from 'add-id', 'calc', 'cat', 'clean-data', 'compact', 'connected-components', 'expand', 'explode', 'denormalize_node2', 'export-gt', 'export-neo4j', 'export-wikidata', 'filter', 'generate-mediawiki-jsons', 'generate-wikidata-triples', 'graph-statistics', 'ifempty', 'ifexists', 'ifnotempty', 'ifnotexists', 'implode', 'import-atomic', 'import-concept-pairs', 'import-conceptnet', 'import-framenet', 'import-ntriples', 'import-visualgenome', 'import-wikidata', 'import-wordnet', 'join', 'lift', 'lower', 'md', 'merge-identical-nodes', 'normalize-nodes', 'paths', 'query', 'reachable-nodes', 'remove-columns', 'rename-columns', 'reorder-columns', 'sort', 'sort2', 'text-embedding', 'unique', 'unreify-rdf-statements', 'unreify-values', 'validate-properties', 'validate', 'zconcat')\n",
      "\n",
      "real\t0m0.793s\n",
      "user\t0m0.556s\n",
      "sys\t0m0.141s\n"
     ]
    }
   ],
   "source": [
    "!time kgtk --debug --compression-type gzip query -i $ALL --graph-cache $TS_STORE -o all.wikibase-property.tsv  \\\n",
    "    --match '(n1)-[l]->(n2 {wikidatatype: type})' \\\n",
    "    --where 'type = \"wikibase-property\"' "
   ]
  },
  {
   "cell_type": "code",
   "execution_count": null,
   "metadata": {},
   "outputs": [],
   "source": []
  }
 ],
 "metadata": {
  "kernelspec": {
   "display_name": "Python 3",
   "language": "python",
   "name": "python3"
  },
  "language_info": {
   "codemirror_mode": {
    "name": "ipython",
    "version": 3
   },
   "file_extension": ".py",
   "mimetype": "text/x-python",
   "name": "python",
   "nbconvert_exporter": "python",
   "pygments_lexer": "ipython3",
   "version": "3.7.8"
  }
 },
 "nbformat": 4,
 "nbformat_minor": 4
}
