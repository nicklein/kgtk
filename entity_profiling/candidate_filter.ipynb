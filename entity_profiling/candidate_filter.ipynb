{
 "cells": [
  {
   "cell_type": "markdown",
   "metadata": {},
   "source": [
    "# Filtering candidate labels\n",
    "In this notebook, we will analyze the labels created in the candidate_label_creation notebook and then use a simple rule-based filter to remove labels that are trivially either unrepresentative or indistinctive.\n",
    "\n",
    "We'll look at each type of label separately."
   ]
  },
  {
   "cell_type": "code",
   "execution_count": 52,
   "metadata": {},
   "outputs": [],
   "source": [
    "import os\n",
    "import pandas as pd\n",
    "import subprocess\n",
    "import matplotlib.pyplot as plt\n",
    "import numpy as np"
   ]
  },
  {
   "cell_type": "code",
   "execution_count": 26,
   "metadata": {},
   "outputs": [],
   "source": [
    "work_dir = \"/Users/nicklein/Documents/grad_school/Research/data\"\n",
    "\n",
    "os.environ['STORE'] = \"{}/wikidata.sqlite3.db\".format(work_dir)\n",
    "os.environ['DATA'] = \"{}/Q44\".format(work_dir)\n",
    "os.environ['NAME'] = \"Q44\"\n",
    "os.environ[\"OUT\"] = \"{}/Q44_profiler_output\".format(work_dir)\n",
    "\n",
    "label_file_prefix = \"{}/Q44_profiler_output/Q44.\".format(work_dir)"
   ]
  },
  {
   "cell_type": "code",
   "execution_count": 68,
   "metadata": {},
   "outputs": [],
   "source": [
    "def filter_by_support_and_plot(support_file, filtered_out_file, filtered_file, alpha = .1):\n",
    "    df = pd.read_csv(support_file, delimiter = '\\t')\n",
    "    \n",
    "    supports = df.loc[:,\"support\"]\n",
    "    \n",
    "    mask_filtered_out = ((supports < alpha) | (supports > (1 - alpha)))\n",
    "    filtered_out = supports.loc[mask_filtered_out]\n",
    "    not_filtered_out = supports.loc[~mask_filtered_out]\n",
    "    \n",
    "    print(\"Number of labels filtered out: {} / {} ({:.2f}%)\".format(len(filtered_out), len(supports), 100*(len(filtered_out) / len(supports))))\n",
    "    \n",
    "    bins = np.arange(0,1.01,.02)\n",
    "    plt.hist(filtered_out, label = \"filtered out\", bins = bins)\n",
    "    plt.hist(not_filtered_out, label = \"not filtered out\", bins = bins)\n",
    "    \n",
    "    plt.title(\"Distribution of Label Supports\")\n",
    "    plt.legend()\n",
    "    plt.show()\n",
    "    \n",
    "    df_filtered_out = df.loc[mask_filtered_out]\n",
    "    df_not_filtered_out = df.loc[~mask_filtered_out]\n",
    "    \n",
    "    df_filtered_out.to_csv(filtered_out_file, sep='\\t')\n",
    "    df_not_filtered_out.to_csv(filtered_file, sep='\\t')"
   ]
  },
  {
   "cell_type": "markdown",
   "metadata": {},
   "source": [
    "## AVL - string labels"
   ]
  },
  {
   "cell_type": "markdown",
   "metadata": {},
   "source": [
    "Adding support column"
   ]
  },
  {
   "cell_type": "code",
   "execution_count": 71,
   "metadata": {},
   "outputs": [],
   "source": [
    "!kgtk query -i $OUT/$NAME.entity_counts_per_type.tsv -i $OUT/$NAME.candidate_labels_avl_string.tsv \\\n",
    "-o $OUT/$NAME.candidate_labels_avl_string_supports_temp.tsv \\\n",
    "--graph-cache $STORE \\\n",
    "--match 'candidate: (type)-[l1 {label:prop, positives:pos, property_label:lab}]->(val), counts_per_type: (type)-[]->(count)' \\\n",
    "--return 'type as type, prop as prop, val as val, lab as prop_label, kgtk_quantity_number_float(pos)/kgtk_quantity_number(count) as support, \"_\" as id' \\\n",
    "--order-by 'kgtk_quantity_number_float(pos)/kgtk_quantity_number(count)'"
   ]
  },
  {
   "cell_type": "code",
   "execution_count": 72,
   "metadata": {},
   "outputs": [],
   "source": [
    "!kgtk rename-columns -i $OUT/$NAME.candidate_labels_avl_string_supports_temp.tsv -o $OUT/$NAME.candidate_labels_avl_string_supports_temp1.tsv \\\n",
    "--old-columns type prop val --new-columns node1 label node2 "
   ]
  },
  {
   "cell_type": "code",
   "execution_count": 73,
   "metadata": {},
   "outputs": [],
   "source": [
    "!kgtk add-id -i $OUT/$NAME.candidate_labels_avl_string_supports_temp1.tsv \\\n",
    "-o $OUT/$NAME.candidate_labels_avl_string_supports.tsv --overwrite-id"
   ]
  },
  {
   "cell_type": "markdown",
   "metadata": {},
   "source": [
    "Filter labels based on support value, send to files, and plot distribution of label support."
   ]
  },
  {
   "cell_type": "code",
   "execution_count": 74,
   "metadata": {
    "scrolled": true
   },
   "outputs": [
    {
     "name": "stdout",
     "output_type": "stream",
     "text": [
      "Number of labels filtered out: 2530 / 3682 (68.71%)\n"
     ]
    },
    {
     "data": {
      "image/png": "[encoded data removed]",
      "text/plain": [
       "<Figure size 432x288 with 1 Axes>"
      ]
     },
     "metadata": {
      "needs_background": "light"
     },
     "output_type": "display_data"
    }
   ],
   "source": [
    "avl_str_supports_file = \"{}candidate_labels_avl_string_supports.tsv\".format(label_file_prefix)\n",
    "filtered_out_file = \"{}candidate_labels_avl_string_filtered_out.tsv\".format(label_file_prefix)\n",
    "filtered_file = \"{}candidate_labels_avl_string_filtered.tsv\".format(label_file_prefix)\n",
    "filter_by_support_and_plot(avl_str_supports_file, filtered_out_file, filtered_file)"
   ]
  },
  {
   "cell_type": "markdown",
   "metadata": {},
   "source": [
    "## AVL - time.year labels"
   ]
  },
  {
   "cell_type": "markdown",
   "metadata": {},
   "source": [
    "Adding support column"
   ]
  },
  {
   "cell_type": "code",
   "execution_count": 75,
   "metadata": {},
   "outputs": [],
   "source": [
    "!kgtk query -i $OUT/$NAME.entity_counts_per_type.tsv -i $OUT/$NAME.candidate_labels_avl_time.year.tsv \\\n",
    "-o $OUT/$NAME.candidate_labels_avl_time.year_supports_temp.tsv \\\n",
    "--graph-cache $STORE \\\n",
    "--match 'candidate: (type)-[l1 {label:prop, positives:pos, property_label:lab}]->(val), counts_per_type: (type)-[]->(count)' \\\n",
    "--return 'type as type, prop as prop, val as val, lab as prop_label, kgtk_quantity_number_float(pos)/kgtk_quantity_number(count) as support, \"_\" as id' \\\n",
    "--order-by 'kgtk_quantity_number_float(pos)/kgtk_quantity_number(count)'"
   ]
  },
  {
   "cell_type": "code",
   "execution_count": 76,
   "metadata": {},
   "outputs": [],
   "source": [
    "!kgtk rename-columns -i $OUT/$NAME.candidate_labels_avl_time.year_supports_temp.tsv -o $OUT/$NAME.candidate_labels_avl_time.year_supports_temp1.tsv \\\n",
    "--old-columns type prop val --new-columns node1 label node2 "
   ]
  },
  {
   "cell_type": "code",
   "execution_count": 77,
   "metadata": {},
   "outputs": [],
   "source": [
    "!kgtk add-id -i $OUT/$NAME.candidate_labels_avl_time.year_supports_temp1.tsv \\\n",
    "-o $OUT/$NAME.candidate_labels_avl_time.year_supports.tsv --overwrite-id"
   ]
  },
  {
   "cell_type": "markdown",
   "metadata": {},
   "source": [
    "Filter labels based on support value, send to files, and plot distribution of label support."
   ]
  },
  {
   "cell_type": "code",
   "execution_count": 78,
   "metadata": {
    "scrolled": true
   },
   "outputs": [
    {
     "name": "stdout",
     "output_type": "stream",
     "text": [
      "Number of labels filtered out: 378 / 538 (70.26%)\n"
     ]
    },
    {
     "data": {
      "image/png": "[encoded data removed]",
      "text/plain": [
       "<Figure size 432x288 with 1 Axes>"
      ]
     },
     "metadata": {
      "needs_background": "light"
     },
     "output_type": "display_data"
    }
   ],
   "source": [
    "avl_str_supports_file = \"{}candidate_labels_avl_time.year_supports.tsv\".format(label_file_prefix)\n",
    "filtered_out_file = \"{}candidate_labels_avl_time.year_filtered_out.tsv\".format(label_file_prefix)\n",
    "filtered_file = \"{}candidate_labels_avl_time.year_filtered.tsv\".format(label_file_prefix)\n",
    "filter_by_support_and_plot(avl_str_supports_file, filtered_out_file, filtered_file)"
   ]
  },
  {
   "cell_type": "markdown",
   "metadata": {},
   "source": [
    "## AVL - quantity labels"
   ]
  },
  {
   "cell_type": "markdown",
   "metadata": {},
   "source": [
    "Adding support column"
   ]
  },
  {
   "cell_type": "code",
   "execution_count": 79,
   "metadata": {},
   "outputs": [],
   "source": [
    "!kgtk query -i $OUT/$NAME.entity_counts_per_type.tsv -i $OUT/$NAME.candidate_labels_avl_quantity.tsv \\\n",
    "-o $OUT/$NAME.candidate_labels_avl_quantity_supports_temp.tsv \\\n",
    "--graph-cache $STORE \\\n",
    "--match 'candidate: (type)-[l1 {label:prop, positives:pos, property_label:lab}]->(val), counts_per_type: (type)-[]->(count)' \\\n",
    "--return 'type as type, prop as prop, val as val, lab as prop_label, kgtk_quantity_number_float(pos)/kgtk_quantity_number(count) as support, \"_\" as id' \\\n",
    "--order-by 'kgtk_quantity_number_float(pos)/kgtk_quantity_number(count)'"
   ]
  },
  {
   "cell_type": "code",
   "execution_count": 80,
   "metadata": {},
   "outputs": [],
   "source": [
    "!kgtk rename-columns -i $OUT/$NAME.candidate_labels_avl_quantity_supports_temp.tsv -o $OUT/$NAME.candidate_labels_avl_quantity_supports_temp1.tsv \\\n",
    "--old-columns type prop val --new-columns node1 label node2 "
   ]
  },
  {
   "cell_type": "code",
   "execution_count": 81,
   "metadata": {},
   "outputs": [],
   "source": [
    "!kgtk add-id -i $OUT/$NAME.candidate_labels_avl_quantity_supports_temp1.tsv \\\n",
    "-o $OUT/$NAME.candidate_labels_avl_quantity_supports.tsv --overwrite-id"
   ]
  },
  {
   "cell_type": "markdown",
   "metadata": {},
   "source": [
    "Filter labels based on support value, send to files, and plot distribution of label support."
   ]
  },
  {
   "cell_type": "code",
   "execution_count": 82,
   "metadata": {
    "scrolled": true
   },
   "outputs": [
    {
     "name": "stdout",
     "output_type": "stream",
     "text": [
      "Number of labels filtered out: 53579 / 73886 (72.52%)\n"
     ]
    },
    {
     "data": {
      "image/png": "[encoded data removed]",
      "text/plain": [
       "<Figure size 432x288 with 1 Axes>"
      ]
     },
     "metadata": {
      "needs_background": "light"
     },
     "output_type": "display_data"
    }
   ],
   "source": [
    "avl_str_supports_file = \"{}candidate_labels_avl_quantity_supports.tsv\".format(label_file_prefix)\n",
    "filtered_out_file = \"{}candidate_labels_avl_quantity_filtered_out.tsv\".format(label_file_prefix)\n",
    "filtered_file = \"{}candidate_labels_avl_quantity_filtered.tsv\".format(label_file_prefix)\n",
    "filter_by_support_and_plot(avl_str_supports_file, filtered_out_file, filtered_file)"
   ]
  },
  {
   "cell_type": "markdown",
   "metadata": {},
   "source": [
    "## RELs"
   ]
  },
  {
   "cell_type": "markdown",
   "metadata": {},
   "source": [
    "Adding support column"
   ]
  },
  {
   "cell_type": "code",
   "execution_count": 83,
   "metadata": {},
   "outputs": [],
   "source": [
    "!kgtk query -i $OUT/$NAME.entity_counts_per_type.tsv -i $OUT/$NAME.candidate_labels_rel_item.tsv \\\n",
    "-o $OUT/$NAME.candidate_labels_rel_item_supports_temp.tsv \\\n",
    "--graph-cache $STORE \\\n",
    "--match 'candidate: (type)-[l1 {label:prop, positives:pos, property_label:lab}]->(val), counts_per_type: (type)-[]->(count)' \\\n",
    "--return 'type as type, prop as prop, val as val, lab as prop_label, kgtk_quantity_number_float(pos)/kgtk_quantity_number(count) as support, \"_\" as id' \\\n",
    "--order-by 'kgtk_quantity_number_float(pos)/kgtk_quantity_number(count)'"
   ]
  },
  {
   "cell_type": "code",
   "execution_count": 84,
   "metadata": {},
   "outputs": [],
   "source": [
    "!kgtk rename-columns -i $OUT/$NAME.candidate_labels_rel_item_supports_temp.tsv -o $OUT/$NAME.candidate_labels_rel_item_supports_temp1.tsv \\\n",
    "--old-columns type prop val --new-columns node1 label node2 "
   ]
  },
  {
   "cell_type": "code",
   "execution_count": 92,
   "metadata": {},
   "outputs": [],
   "source": [
    "!kgtk add-id -i $OUT/$NAME.candidate_labels_rel_item_supports_temp1.tsv \\\n",
    "-o $OUT/$NAME.candidate_labels_rel_item_supports.tsv --overwrite-id"
   ]
  },
  {
   "cell_type": "markdown",
   "metadata": {},
   "source": [
    "Filter labels based on support value, send to files, and plot distribution of label support."
   ]
  },
  {
   "cell_type": "code",
   "execution_count": 86,
   "metadata": {
    "scrolled": false
   },
   "outputs": [
    {
     "name": "stdout",
     "output_type": "stream",
     "text": [
      "Number of labels filtered out: 27715 / 46774 (59.25%)\n"
     ]
    },
    {
     "data": {
      "image/png": "[encoded data removed]",
      "text/plain": [
       "<Figure size 432x288 with 1 Axes>"
      ]
     },
     "metadata": {
      "needs_background": "light"
     },
     "output_type": "display_data"
    }
   ],
   "source": [
    "avl_str_supports_file = \"{}candidate_labels_rel_item_supports.tsv\".format(label_file_prefix)\n",
    "filtered_out_file = \"{}candidate_labels_rel_item_filtered_out.tsv\".format(label_file_prefix)\n",
    "filtered_file = \"{}candidate_labels_rel_item_filtered.tsv\".format(label_file_prefix)\n",
    "filter_by_support_and_plot(avl_str_supports_file, filtered_out_file, filtered_file)"
   ]
  },
  {
   "cell_type": "markdown",
   "metadata": {},
   "source": [
    "## RALs"
   ]
  },
  {
   "cell_type": "markdown",
   "metadata": {},
   "source": [
    "Adding support column"
   ]
  },
  {
   "cell_type": "code",
   "execution_count": 88,
   "metadata": {},
   "outputs": [],
   "source": [
    "!kgtk query -i $OUT/$NAME.entity_counts_per_type.tsv -i $OUT/$NAME.candidate_labels_ral.tsv \\\n",
    "-o $OUT/$NAME.candidate_labels_ral_supports_temp.tsv \\\n",
    "--graph-cache $STORE \\\n",
    "--match 'candidate: (type1)-[l1 {label:prop1, prop2:prop2, positives:pos, prop2_label:lab, value:val}]->(type2), counts_per_type: (type1)-[]->(count)' \\\n",
    "--return 'type1 as type1, prop1 as prop1, type2 as type2, prop2 as prop2, val as val, lab as prop2_label, kgtk_quantity_number_float(pos)/kgtk_quantity_number(count) as support, \"_\" as id' \\\n",
    "--order-by 'kgtk_quantity_number_float(pos)/kgtk_quantity_number(count)'"
   ]
  },
  {
   "cell_type": "code",
   "execution_count": 89,
   "metadata": {},
   "outputs": [],
   "source": [
    "!kgtk rename-columns -i $OUT/$NAME.candidate_labels_ral_supports_temp.tsv -o $OUT/$NAME.candidate_labels_ral_supports_temp1.tsv \\\n",
    "--old-columns type1 prop1 type2 --new-columns node1 label node2 "
   ]
  },
  {
   "cell_type": "code",
   "execution_count": 91,
   "metadata": {
    "scrolled": false
   },
   "outputs": [],
   "source": [
    "!kgtk add-id -i $OUT/$NAME.candidate_labels_ral_supports_temp1.tsv \\\n",
    "-o $OUT/$NAME.candidate_labels_ral_supports.tsv --overwrite-id"
   ]
  },
  {
   "cell_type": "markdown",
   "metadata": {},
   "source": [
    "Filter labels based on support value, send to files, and plot distribution of label support."
   ]
  },
  {
   "cell_type": "code",
   "execution_count": 93,
   "metadata": {
    "scrolled": true
   },
   "outputs": [
    {
     "name": "stdout",
     "output_type": "stream",
     "text": [
      "Number of labels filtered out: 1629630 / 3357076 (48.54%)\n"
     ]
    },
    {
     "data": {
      "image/png": "[encoded data removed]",
      "text/plain": [
       "<Figure size 432x288 with 1 Axes>"
      ]
     },
     "metadata": {
      "needs_background": "light"
     },
     "output_type": "display_data"
    }
   ],
   "source": [
    "avl_str_supports_file = \"{}candidate_labels_ral_supports.tsv\".format(label_file_prefix)\n",
    "filtered_out_file = \"{}candidate_labels_ral_filtered_out.tsv\".format(label_file_prefix)\n",
    "filtered_file = \"{}candidate_labels_ral_filtered.tsv\".format(label_file_prefix)\n",
    "filter_by_support_and_plot(avl_str_supports_file, filtered_out_file, filtered_file)"
   ]
  },
  {
   "cell_type": "markdown",
   "metadata": {},
   "source": [
    "## AIL - years bucketed to fixed interval of 5 years"
   ]
  },
  {
   "cell_type": "markdown",
   "metadata": {},
   "source": [
    "Adding support column"
   ]
  },
  {
   "cell_type": "code",
   "execution_count": 94,
   "metadata": {},
   "outputs": [],
   "source": [
    "!kgtk query -i $OUT/$NAME.entity_counts_per_type.tsv -i $OUT/$NAME.candidate_labels_ail_time.year.tsv \\\n",
    "-o $OUT/$NAME.candidate_labels_ail_time.year_supports_temp.tsv \\\n",
    "--graph-cache $STORE \\\n",
    "--match 'candidate: (type)-[l1 {label:prop, upper_bound:ub, positives:pos, property_label:lab}]->(lb), counts_per_type: (type)-[]->(count)' \\\n",
    "--return 'type as type, prop as prop, lb as lower_bound, ub as upper_bound, lab as prop_label, kgtk_quantity_number_float(pos)/kgtk_quantity_number(count) as support, \"_\" as id' \\\n",
    "--order-by 'kgtk_quantity_number_float(pos)/kgtk_quantity_number(count)'"
   ]
  },
  {
   "cell_type": "code",
   "execution_count": 95,
   "metadata": {},
   "outputs": [],
   "source": [
    "!kgtk rename-columns -i $OUT/$NAME.candidate_labels_ail_time.year_supports_temp.tsv -o $OUT/$NAME.candidate_labels_ail_time.year_supports_temp1.tsv \\\n",
    "--old-columns type prop lower_bound --new-columns node1 label node2 "
   ]
  },
  {
   "cell_type": "code",
   "execution_count": 96,
   "metadata": {
    "scrolled": false
   },
   "outputs": [],
   "source": [
    "!kgtk add-id -i $OUT/$NAME.candidate_labels_ail_time.year_supports_temp1.tsv \\\n",
    "-o $OUT/$NAME.candidate_labels_ail_time.year_supports.tsv --overwrite-id"
   ]
  },
  {
   "cell_type": "markdown",
   "metadata": {},
   "source": [
    "Filter labels based on support value, send to files, and plot distribution of label support."
   ]
  },
  {
   "cell_type": "code",
   "execution_count": 97,
   "metadata": {
    "scrolled": true
   },
   "outputs": [
    {
     "name": "stdout",
     "output_type": "stream",
     "text": [
      "Number of labels filtered out: 302 / 458 (65.94%)\n"
     ]
    },
    {
     "data": {
      "image/png": "[encoded data removed]",
      "text/plain": [
       "<Figure size 432x288 with 1 Axes>"
      ]
     },
     "metadata": {
      "needs_background": "light"
     },
     "output_type": "display_data"
    }
   ],
   "source": [
    "avl_str_supports_file = \"{}candidate_labels_ail_time.year_supports.tsv\".format(label_file_prefix)\n",
    "filtered_out_file = \"{}candidate_labels_ail_time.year_filtered_out.tsv\".format(label_file_prefix)\n",
    "filtered_file = \"{}candidate_labels_ail_time.year_filtered.tsv\".format(label_file_prefix)\n",
    "filter_by_support_and_plot(avl_str_supports_file, filtered_out_file, filtered_file)"
   ]
  },
  {
   "cell_type": "code",
   "execution_count": null,
   "metadata": {},
   "outputs": [],
   "source": []
  }
 ],
 "metadata": {
  "kernelspec": {
   "display_name": "Python [conda env:kgtk-env] *",
   "language": "python",
   "name": "conda-env-kgtk-env-py"
  },
  "language_info": {
   "codemirror_mode": {
    "name": "ipython",
    "version": 3
   },
   "file_extension": ".py",
   "mimetype": "text/x-python",
   "name": "python",
   "nbconvert_exporter": "python",
   "pygments_lexer": "ipython3",
   "version": "3.7.8"
  }
 },
 "nbformat": 4,
 "nbformat_minor": 4
}
