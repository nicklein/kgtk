{
 "cells": [
  {
   "cell_type": "markdown",
   "metadata": {},
   "source": [
    "# Creating HAS-model embeddings for entities in a KG\n",
    "The purpose of these will be for assessing entities' similarities to one another. This measure of similarity between entities will in turn be used to assess the distinctiveness of labels that have previously been created and filtered for this KG."
   ]
  },
  {
   "cell_type": "markdown",
   "metadata": {},
   "source": [
    "## Pre-requisite steps to run this notebook\n",
    "1. gensim is a dependency. You can install it with `pip install --upgrade gensim`, or if you want to use Anaconda, `conda install -c conda-forge gensim`"
   ]
  },
  {
   "cell_type": "code",
   "execution_count": 408,
   "metadata": {},
   "outputs": [],
   "source": [
    "import os\n",
    "import random\n",
    "import numpy as np\n",
    "from gensim.models import Word2Vec\n",
    "import graph_tool.all as gt\n",
    "from kgtk.gt.gt_load import load_graph_from_kgtk\n",
    "from kgtk.io.kgtkreader import KgtkReader\n",
    "import pathlib\n",
    "import matplotlib.pyplot as plt\n",
    "from collections import Counter\n",
    "from h_path_walks import build_corpus\n",
    "import seaborn as sns"
   ]
  },
  {
   "cell_type": "markdown",
   "metadata": {},
   "source": [
    "## parameters\n",
    "\n",
    "**Embedding model parameters**  \n",
    "*undirected*: Treat graph as undirected *(In-progress, this param is currently not used)*  \n",
    "*num_walks*: Number of random walks to start at each node  \n",
    "*walk_length*: Length of random walk started at each node  \n",
    "*representation_size*: Number of latent dimensions to learn from each node  \n",
    "*window_size*: Window size of skipgram model  \n",
    "*workers*: Number of parallel processes  \n",
    "\n",
    "**File/Directory parameters**  \n",
    "*output_filename*: Name for output representation file.  \n",
    "*item_file*: File path for the file that contains entity to entity relationships (e.g. wikibase-item).  \n",
    "*label_file*: File path for the file that contains wikidata labels.  \n",
    "*work_dir*: Folder where files created by this notebook should be saved.  \n",
    "*store_dir*: Path to folder containing the sqlite3.db file that we will use for our queries. We will reuse an existing file if there is one in this folder. Otherwise we will create a new one."
   ]
  },
  {
   "cell_type": "code",
   "execution_count": 373,
   "metadata": {},
   "outputs": [],
   "source": [
    "# Embedding model params\n",
    "#undirected = True TODO - choose either directed or undirected and delete this param, or make this a param that we pay attention to in later code.\n",
    "num_walks = 10\n",
    "walk_length = 10\n",
    "representation_size = 64\n",
    "window_size = 5\n",
    "workers = 32\n",
    "\n",
    "# File/Directory params\n",
    "output_filename = \"HAS_model\"\n",
    "item_file = \"../../Q44/data/Q44.part.wikibase-item.tsv\"\n",
    "label_file = \"../../Q44/data/Q44.label.en.tsv\"\n",
    "work_dir = \"../../Q44/profiler_work_string_and_untrimmed_quantity\"\n",
    "store_dir = \"../../Q44\"\n",
    "\n",
    "# output_filename = \"HAS_model\"\n",
    "# item_file = \"../../Q154/data/parts/claims.wikibase-item.tsv.gz\"\n",
    "# label_file = \"../../Q154/data/parts/labels.en.tsv.gz\"\n",
    "# work_dir = \"../../Q154/profiler_work\"\n",
    "# store_dir = \"../../Q154\""
   ]
  },
  {
   "cell_type": "markdown",
   "metadata": {},
   "source": [
    "### Process parameters and set up variables / file names"
   ]
  },
  {
   "cell_type": "code",
   "execution_count": 374,
   "metadata": {},
   "outputs": [],
   "source": [
    "# Ensure paths are absolute\n",
    "item_file = os.path.abspath(item_file)\n",
    "label_file = os.path.abspath(label_file)\n",
    "work_dir = os.path.abspath(work_dir)\n",
    "store_dir = os.path.abspath(store_dir)\n",
    "    \n",
    "# Create directories\n",
    "if not os.path.exists(work_dir):\n",
    "    os.makedirs(work_dir)\n",
    "output_dir = \"{}/HAS_embeddings\".format(work_dir)\n",
    "if not os.path.exists(output_dir):\n",
    "    os.makedirs(output_dir)\n",
    "    \n",
    "output_file = \"{}/{}\".format(output_dir, output_filename)\n",
    "\n",
    "# Setting up environment variables \n",
    "os.environ['ITEM_FILE'] = item_file\n",
    "os.environ['LABEL_FILE'] = label_file\n",
    "os.environ['STORE'] = \"{}/wikidata.sqlite3.db\".format(store_dir)\n",
    "os.environ['OUT'] = output_dir\n",
    "os.environ['kgtk'] = \"kgtk\" # Need to do this for kgtk to be recognized as a command when passing it through a subprocess call"
   ]
  },
  {
   "cell_type": "markdown",
   "metadata": {},
   "source": [
    "### Helpers"
   ]
  },
  {
   "cell_type": "code",
   "execution_count": 375,
   "metadata": {},
   "outputs": [],
   "source": [
    "def plot_walk_length_dist(walks):\n",
    "    print(\"Number of walks: {}\".format(len(walks)))\n",
    "    walk_lengths = [len(arr) for arr in walks]\n",
    "    print(\"Number of walks of each length:\")\n",
    "    counts_str = \", \".join([\"{} : {}\".format(key,value) for key,value in sorted(Counter(walk_lengths).items())])\n",
    "    print(counts_str)\n",
    "    fig, ax = plt.subplots()\n",
    "    ax.hist(walk_lengths,bins=np.arange(12)-.5)\n",
    "    ax.set_ylabel('Number of walks')\n",
    "    ax.set_xlabel('Walk length')\n",
    "    plt.show()\n",
    "    \n",
    "def plot_distinct_nodes_in_walks(walks):\n",
    "    print(\"Number of walks: {}\".format(len(walks)))\n",
    "    count_distinct_nodes = [len(set(arr)) for arr in walks]\n",
    "    print(\"Number of walks by number of unique nodes visited:\")\n",
    "    counts_str = \", \".join([\"{} : {}\".format(key,value) for key,value in sorted(Counter(count_distinct_nodes).items())])\n",
    "    print(counts_str)\n",
    "    fig, ax = plt.subplots()\n",
    "    ax.hist(count_distinct_nodes,bins=np.arange(12)-.5)\n",
    "    ax.set_ylabel('Number of walks')\n",
    "    ax.set_xlabel('Number of unique nodes visited')\n",
    "    plt.show()"
   ]
  },
  {
   "cell_type": "markdown",
   "metadata": {},
   "source": [
    "Start with empty corpus of walks. We'll add to this in the following steps."
   ]
  },
  {
   "cell_type": "code",
   "execution_count": 376,
   "metadata": {},
   "outputs": [],
   "source": [
    "walks = []"
   ]
  },
  {
   "cell_type": "markdown",
   "metadata": {},
   "source": [
    "### 1. H-Paths\n",
    "These random walks are intended to detect similarity due to homophily. Random walks are performed in a DFS manner\n",
    "\n",
    "#### 1.1 H-Paths - loading entity to entity edges into a Graph-Tool graph\n",
    "loading two versions to look at - one with directed edges and one with undirected edges. The default in the authors' code is undirected, though they do not mention if this is what they used for the results that they presented in the paper."
   ]
  },
  {
   "cell_type": "code",
   "execution_count": 377,
   "metadata": {
    "scrolled": true
   },
   "outputs": [],
   "source": [
    "kr = KgtkReader.open(pathlib.Path(item_file))\n",
    "g_directed = load_graph_from_kgtk(kr, directed=True, hashed=True)\n",
    "kr = KgtkReader.open(pathlib.Path(item_file))\n",
    "g_undirected = load_graph_from_kgtk(kr, directed=False, hashed=True)"
   ]
  },
  {
   "cell_type": "code",
   "execution_count": 378,
   "metadata": {},
   "outputs": [
    {
     "name": "stdout",
     "output_type": "stream",
     "text": [
      "This graph has 11294 vertices and 20516 edges\n"
     ]
    }
   ],
   "source": [
    "print(\"This graph has {} vertices and {} edges\".format(len(g_directed.get_vertices()), len(g_directed.get_edges())))"
   ]
  },
  {
   "cell_type": "markdown",
   "metadata": {},
   "source": [
    "#### 1.2 H-Paths - Build corpus of random walks"
   ]
  },
  {
   "cell_type": "markdown",
   "metadata": {},
   "source": [
    "**First for directed representation**"
   ]
  },
  {
   "cell_type": "code",
   "execution_count": 379,
   "metadata": {
    "scrolled": true
   },
   "outputs": [
    {
     "name": "stdout",
     "output_type": "stream",
     "text": [
      "CPU times: user 6.54 s, sys: 1.85 s, total: 8.4 s\n",
      "Wall time: 9.67 s\n"
     ]
    }
   ],
   "source": [
    "%%time\n",
    "h_walks_directed = build_corpus(g_directed, walk_length, num_walks)"
   ]
  },
  {
   "cell_type": "markdown",
   "metadata": {},
   "source": [
    "Let's look at how many walks we have and how long they are (max walk length is 10)."
   ]
  },
  {
   "cell_type": "code",
   "execution_count": 380,
   "metadata": {
    "scrolled": false
   },
   "outputs": [
    {
     "name": "stdout",
     "output_type": "stream",
     "text": [
      "Number of walks: 112940\n",
      "Number of walks of each length:\n",
      "1 : 109640, 2 : 2105, 3 : 924, 4 : 191, 5 : 61, 6 : 14, 7 : 4, 8 : 1\n"
     ]
    },
    {
     "data": {
      "image/png": "[encoded data removed]",
      "text/plain": [
       "<Figure size 432x288 with 1 Axes>"
      ]
     },
     "metadata": {
      "needs_background": "light"
     },
     "output_type": "display_data"
    }
   ],
   "source": [
    "plot_walk_length_dist(h_walks_directed)"
   ]
  },
  {
   "cell_type": "markdown",
   "metadata": {},
   "source": [
    "Checking that this makes sense...  \n",
    "Let's look at an example of a walk of length 1 and verify that it has no outbound edges in the graph."
   ]
  },
  {
   "cell_type": "code",
   "execution_count": 381,
   "metadata": {},
   "outputs": [
    {
     "name": "stdout",
     "output_type": "stream",
     "text": [
      "Q1278032 has a walk length of 1\n"
     ]
    }
   ],
   "source": [
    "index = walk_lengths.index(1)\n",
    "print(\"{} has a walk length of {}\".format(h_walks[index][0], walk_lengths[index]))"
   ]
  },
  {
   "cell_type": "code",
   "execution_count": 382,
   "metadata": {},
   "outputs": [
    {
     "name": "stdout",
     "output_type": "stream",
     "text": [
      "n1\tprop\tn2\r\n"
     ]
    }
   ],
   "source": [
    "!kgtk query -i $ITEM_FILE --graph-cache $STORE \\\n",
    "--match '`'\"$ITEM_FILE\"'`: (n1)-[l {label:p}]->(n2)' \\\n",
    "--return 'n1 as n1, p as prop, n2 as n2' \\\n",
    "--where 'n1 = \"Q1278032\"'"
   ]
  },
  {
   "cell_type": "markdown",
   "metadata": {},
   "source": [
    "And as we can see above, there is no outbound edge from Q1278032 ('East Staffordshire') in the graph"
   ]
  },
  {
   "cell_type": "markdown",
   "metadata": {},
   "source": [
    "**Now for undirected representation**"
   ]
  },
  {
   "cell_type": "code",
   "execution_count": 383,
   "metadata": {},
   "outputs": [
    {
     "name": "stdout",
     "output_type": "stream",
     "text": [
      "CPU times: user 10.1 s, sys: 1 s, total: 11.1 s\n",
      "Wall time: 11.3 s\n"
     ]
    }
   ],
   "source": [
    "%%time\n",
    "h_walks_undirected = build_corpus(g_undirected, walk_length, num_walks)"
   ]
  },
  {
   "cell_type": "code",
   "execution_count": 384,
   "metadata": {},
   "outputs": [
    {
     "name": "stdout",
     "output_type": "stream",
     "text": [
      "Number of walks: 112940\n",
      "Number of walks of each length:\n",
      "10 : 112940\n"
     ]
    },
    {
     "data": {
      "image/png": "[encoded data removed]",
      "text/plain": [
       "<Figure size 432x288 with 1 Axes>"
      ]
     },
     "metadata": {
      "needs_background": "light"
     },
     "output_type": "display_data"
    }
   ],
   "source": [
    "plot_walk_length_dist(h_walks_undirected)"
   ]
  },
  {
   "cell_type": "markdown",
   "metadata": {},
   "source": [
    "Since these walks are on an undirected graph, it might be informative to look at how many unique vertexes we visit in each walk."
   ]
  },
  {
   "cell_type": "code",
   "execution_count": 385,
   "metadata": {},
   "outputs": [
    {
     "name": "stdout",
     "output_type": "stream",
     "text": [
      "Number of walks: 112940\n",
      "Number of walks by number of unique nodes visited:\n",
      "2 : 29, 3 : 141, 4 : 564, 5 : 2264, 6 : 18399, 7 : 30013, 8 : 36300, 9 : 20916, 10 : 4314\n"
     ]
    },
    {
     "data": {
      "image/png": "[encoded data removed]",
      "text/plain": [
       "<Figure size 432x288 with 1 Axes>"
      ]
     },
     "metadata": {
      "needs_background": "light"
     },
     "output_type": "display_data"
    }
   ],
   "source": [
    "plot_distinct_nodes_in_walks(h_walks_undirected)"
   ]
  },
  {
   "cell_type": "markdown",
   "metadata": {},
   "source": [
    "We'll use the undirected representation's h-path walks. Adding them to the list of paths that will later be fed to a skip-gram model."
   ]
  },
  {
   "cell_type": "code",
   "execution_count": 386,
   "metadata": {},
   "outputs": [],
   "source": [
    "walks.extend(h_walks_undirected)"
   ]
  },
  {
   "cell_type": "code",
   "execution_count": 387,
   "metadata": {},
   "outputs": [
    {
     "data": {
      "text/plain": [
       "'Q1000597, Q3181656, Q241, Q230, Q40, Q43210, Q40, Q28, Q736, Q419'"
      ]
     },
     "execution_count": 387,
     "metadata": {},
     "output_type": "execute_result"
    }
   ],
   "source": [
    "\", \".join(walks[0])"
   ]
  },
  {
   "cell_type": "markdown",
   "metadata": {},
   "source": [
    "### 2. A-Paths (TODO)"
   ]
  },
  {
   "cell_type": "markdown",
   "metadata": {},
   "source": [
    "### 3. S-Paths (TODO)"
   ]
  },
  {
   "cell_type": "markdown",
   "metadata": {},
   "source": [
    "### 4. Use Skip-Gram model on the combined set of random walks to learn representations for the entities\n",
    "Code is currently using the walks created by the undirected graph representation"
   ]
  },
  {
   "cell_type": "code",
   "execution_count": 388,
   "metadata": {},
   "outputs": [],
   "source": [
    "model = Word2Vec(walks, size=representation_size, window=window_size, min_count=0, sg=1, hs=1,\n",
    "                 workers=workers)\n",
    "model.wv.save_word2vec_format(output_file)"
   ]
  },
  {
   "cell_type": "markdown",
   "metadata": {},
   "source": [
    "Now we have embeddings for the entities. Here is what Beer looks like:"
   ]
  },
  {
   "cell_type": "code",
   "execution_count": 389,
   "metadata": {},
   "outputs": [
    {
     "data": {
      "text/plain": [
       "array([ 0.49894035, -0.6145598 ,  0.10550971,  0.4242498 , -0.02050197,\n",
       "        0.11190409, -0.0766741 , -0.33517927, -0.13857685, -0.01952949,\n",
       "        0.02726167,  0.7193819 ,  0.29454097, -0.48709044,  0.29093796,\n",
       "        0.22203936, -0.51152694,  0.7802134 ,  0.94360393,  0.94861877,\n",
       "        0.5780128 ,  0.16045007, -0.25550655,  0.37815365, -0.3842947 ,\n",
       "       -0.17361347, -0.34303036, -0.6024277 , -0.01147417, -0.26354375,\n",
       "        0.1007092 , -0.23146892, -0.50852406,  0.14864106,  0.949905  ,\n",
       "        0.9498078 ,  0.52162963, -0.6400473 , -0.36012983, -0.21354482,\n",
       "       -0.562822  ,  0.08421862,  0.18101473, -0.5930495 ,  0.9034969 ,\n",
       "       -1.1107852 , -0.89263093, -0.35076988, -0.05931244, -0.04746128,\n",
       "       -0.1636704 ,  0.8775328 ,  0.4842377 ,  0.42926204, -0.4290115 ,\n",
       "        0.03958129,  0.4502353 , -0.20789666,  0.30880696,  0.51421726,\n",
       "        0.47395554,  0.8069605 ,  0.5213046 , -0.47644332], dtype=float32)"
      ]
     },
     "execution_count": 389,
     "metadata": {},
     "output_type": "execute_result"
    }
   ],
   "source": [
    "model.wv[\"Q44\"]"
   ]
  },
  {
   "cell_type": "markdown",
   "metadata": {},
   "source": [
    "### Evaluate the embeddings\n",
    "We want similar entities to have more similar embeddings. For the purpose of profiling entities of a desired type, we are specifically interested in similar entities *within a type* having more similar embeddings. I.e. if we look at the embeddings of the various beers we have, do the ones with more similar embeddings have more in common? We'll investigate using cosine similarity."
   ]
  },
  {
   "cell_type": "markdown",
   "metadata": {},
   "source": [
    "Let's compare entities of different types. We would expect a sovereign state and a beer to be less similar than two sovereign states."
   ]
  },
  {
   "cell_type": "code",
   "execution_count": 390,
   "metadata": {},
   "outputs": [
    {
     "name": "stdout",
     "output_type": "stream",
     "text": [
      "Vergina Weiss and Cape Verde: 0.182481050491333\n"
     ]
    }
   ],
   "source": [
    "print(\"Vergina Weiss and Cape Verde: {}\".format(model.wv.similarity('Q93559285','Q1011')))"
   ]
  },
  {
   "cell_type": "code",
   "execution_count": 391,
   "metadata": {},
   "outputs": [
    {
     "name": "stdout",
     "output_type": "stream",
     "text": [
      "Ireland and United Kingdom: 0.474314421415329\n"
     ]
    }
   ],
   "source": [
    "print(\"Ireland and United Kingdom: {}\".format(model.wv.similarity('Q27','Q145')))"
   ]
  },
  {
   "cell_type": "markdown",
   "metadata": {},
   "source": [
    "See below, Cape Verde and Ireland seem less similar than Ireland and United Kingdom, but such a low similarity is a little surprising as they are close in similarity to a beer and Cape Verde."
   ]
  },
  {
   "cell_type": "code",
   "execution_count": 392,
   "metadata": {},
   "outputs": [
    {
     "name": "stdout",
     "output_type": "stream",
     "text": [
      "Ireland and Cape Verde: 0.17841745913028717\n"
     ]
    }
   ],
   "source": [
    "print(\"Ireland and Cape Verde: {}\".format(model.wv.similarity('Q27','Q1011')))"
   ]
  },
  {
   "cell_type": "markdown",
   "metadata": {},
   "source": [
    "Now let's compare various things that are more directly related to beer"
   ]
  },
  {
   "cell_type": "code",
   "execution_count": 393,
   "metadata": {},
   "outputs": [
    {
     "name": "stdout",
     "output_type": "stream",
     "text": [
      "beer and alcoholic beverage: 0.6177515983581543\n"
     ]
    }
   ],
   "source": [
    "print(\"beer and alcoholic beverage: {}\".format(model.wv.similarity('Q44','Q154')))"
   ]
  },
  {
   "cell_type": "code",
   "execution_count": 394,
   "metadata": {},
   "outputs": [
    {
     "name": "stdout",
     "output_type": "stream",
     "text": [
      "beer and Macedonian Thrace Brewery (an instance of beer that is also an instance of brewery): 0.6609401106834412\n"
     ]
    }
   ],
   "source": [
    "print(\"beer and Macedonian Thrace Brewery (an instance of beer that is also an instance of brewery): {}\".format(model.wv.similarity('Q44','Q12877510')))"
   ]
  },
  {
   "cell_type": "code",
   "execution_count": 395,
   "metadata": {},
   "outputs": [
    {
     "name": "stdout",
     "output_type": "stream",
     "text": [
      "beer and Vergina Alcohol Free (an instance of beer): 0.737003743648529\n"
     ]
    }
   ],
   "source": [
    "print(\"beer and Vergina Alcohol Free (an instance of beer): {}\".format(model.wv.similarity('Q44','Q97412285')))"
   ]
  },
  {
   "cell_type": "code",
   "execution_count": 396,
   "metadata": {},
   "outputs": [
    {
     "name": "stdout",
     "output_type": "stream",
     "text": [
      "beer and Vergina Weiss (an instance of beer): 0.6987746953964233\n"
     ]
    }
   ],
   "source": [
    "print(\"beer and Vergina Weiss (an instance of beer): {}\".format(model.wv.similarity('Q44','Q93559285')))"
   ]
  },
  {
   "cell_type": "code",
   "execution_count": 397,
   "metadata": {},
   "outputs": [
    {
     "name": "stdout",
     "output_type": "stream",
     "text": [
      "Vergina Alcohol Free and Vergina Weiss: 0.8934153318405151\n"
     ]
    }
   ],
   "source": [
    "print(\"Vergina Alcohol Free and Vergina Weiss: {}\".format(model.wv.similarity('Q97412285','Q93559285')))"
   ]
  },
  {
   "cell_type": "markdown",
   "metadata": {},
   "source": [
    "Finally, we can look at how similar each beer is to eachother (since we have very few of them)"
   ]
  },
  {
   "cell_type": "code",
   "execution_count": 430,
   "metadata": {},
   "outputs": [
    {
     "data": {
      "image/png": "[encoded data removed]",
      "text/plain": [
       "<Figure size 432x288 with 2 Axes>"
      ]
     },
     "metadata": {
      "needs_background": "light"
     },
     "output_type": "display_data"
    }
   ],
   "source": [
    "beer_vecs = model.wv['Q12877510', 'Q93552342', 'Q93557205', 'Q93559285', 'Q93558270', 'Q93560567', 'Q97412285']\n",
    "similarity_mat = [model.wv.cosine_similarities(beer, beer_vecs) for beer in beer_vecs]\n",
    "mask = np.zeros_like(similarity_mat)\n",
    "mask[np.triu_indices_from(mask)] = True\n",
    "labels = ['Macedonian Thrace Brewery', 'Vergina Lager', 'Vergina Red', 'Vergina Weiss', 'Vergina Porfyra', 'Vergina Black', 'Vergina Alcohol Free']\n",
    "# Could mask to only show the lower triangle, but I think this is actually easier to read without the mask\n",
    "sns.heatmap(similarity_mat, xticklabels=labels, yticklabels=labels, annot=True)\n",
    "plt.xticks(rotation=30, horizontalalignment='right')\n",
    "plt.show()"
   ]
  },
  {
   "cell_type": "code",
   "execution_count": null,
   "metadata": {},
   "outputs": [],
   "source": []
  }
 ],
 "metadata": {
  "kernelspec": {
   "display_name": "Python [conda env:kgtk-env] *",
   "language": "python",
   "name": "conda-env-kgtk-env-py"
  },
  "language_info": {
   "codemirror_mode": {
    "name": "ipython",
    "version": 3
   },
   "file_extension": ".py",
   "mimetype": "text/x-python",
   "name": "python",
   "nbconvert_exporter": "python",
   "pygments_lexer": "ipython3",
   "version": "3.7.8"
  }
 },
 "nbformat": 4,
 "nbformat_minor": 4
}
