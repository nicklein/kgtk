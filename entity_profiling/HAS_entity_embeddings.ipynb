{
 "cells": [
  {
   "cell_type": "markdown",
   "metadata": {},
   "source": [
    "# Creating HAS-model embeddings for entities in a KG\n",
    "The purpose of these will be for assessing entities' similarities to one another. This measure of similarity between entities will in turn be used to assess the distinctiveness of labels that have previously been created and filtered for this KG."
   ]
  },
  {
   "cell_type": "markdown",
   "metadata": {},
   "source": [
    "## Pre-requisite steps to run this notebook\n",
    "1. You have already created a type_mapping.tsv file (this is done in the candidate label creation notebook\n",
    "2. gensim is a dependency. You can install it with `pip install --upgrade gensim`, or if you want to use Anaconda, `conda install -c conda-forge gensim`"
   ]
  },
  {
   "cell_type": "code",
   "execution_count": 232,
   "metadata": {},
   "outputs": [],
   "source": [
    "import os\n",
    "import random\n",
    "import numpy as np\n",
    "from gensim.models import Word2Vec\n",
    "import graph_tool.all as gt\n",
    "from kgtk.gt.gt_load import load_graph_from_kgtk\n",
    "from kgtk.io.kgtkreader import KgtkReader\n",
    "import pathlib\n",
    "import matplotlib.pyplot as plt\n",
    "from collections import Counter\n",
    "from h_path_walks import build_corpus"
   ]
  },
  {
   "cell_type": "markdown",
   "metadata": {},
   "source": [
    "## parameters\n",
    "\n",
    "**Embedding model parameters**  \n",
    "*undirected*: Treat graph as undirected *(In-progress, this param is currently not used)*  \n",
    "*num_walks*: Number of random walks to start at each node  \n",
    "*walk_length*: Length of random walk started at each node  \n",
    "*representation_size*: Number of latent dimensions to learn from each node  \n",
    "*window_size*: Window size of skipgram model  \n",
    "*workers*: Number of parallel processes  \n",
    "\n",
    "**File/Directory parameters**  \n",
    "*output_filename*: Name for output representation file.  \n",
    "*item_file*: File path for the file that contains entity to entity relationships (e.g. wikibase-item).  \n",
    "*label_file*: File path for the file that contains wikidata labels.  \n",
    "*work_dir*: Folder where files created by this notebook should be saved.  \n",
    "*store_dir*: Path to folder containing the sqlite3.db file that we will use for our queries. We will reuse an existing file if there is one in this folder. Otherwise we will create a new one."
   ]
  },
  {
   "cell_type": "code",
   "execution_count": 272,
   "metadata": {},
   "outputs": [],
   "source": [
    "# Embedding model params\n",
    "#undirected = True TODO - choose either directed or undirected and delete this param, or make this a param that we pay attention to in later code.\n",
    "num_walks = 10\n",
    "walk_length = 10\n",
    "representation_size = 64\n",
    "window_size = 5\n",
    "workers = 32\n",
    "\n",
    "# File/Directory params\n",
    "output_filename = \"HAS_model\"\n",
    "item_file = \"../../Q44/data/Q44.part.wikibase-item.tsv\"\n",
    "label_file = \"../../Q44/data/Q44.label.en.tsv\"\n",
    "work_dir = \"../../Q44/profiler_work_string_and_untrimmed_quantity\"\n",
    "store_dir = \"../../Q44\"\n",
    "\n",
    "# output_filename = \"HAS_model\"\n",
    "# item_file = \"../../Q154/data/parts/claims.wikibase-item.tsv.gz\"\n",
    "# label_file = \"../../Q154/data/parts/labels.en.tsv.gz\"\n",
    "# work_dir = \"../../Q154/profiler_work\"\n",
    "# store_dir = \"../../Q154\""
   ]
  },
  {
   "cell_type": "markdown",
   "metadata": {},
   "source": [
    "### Process parameters and set up variables / file names"
   ]
  },
  {
   "cell_type": "code",
   "execution_count": 273,
   "metadata": {},
   "outputs": [],
   "source": [
    "# Ensure paths are absolute\n",
    "item_file = os.path.abspath(item_file)\n",
    "label_file = os.path.abspath(label_file)\n",
    "work_dir = os.path.abspath(work_dir)\n",
    "store_dir = os.path.abspath(store_dir)\n",
    "    \n",
    "# Create directories\n",
    "if not os.path.exists(work_dir):\n",
    "    os.makedirs(work_dir)\n",
    "output_dir = \"{}/HAS_embeddings\".format(work_dir)\n",
    "if not os.path.exists(output_dir):\n",
    "    os.makedirs(output_dir)\n",
    "    \n",
    "output_file = \"{}/{}\".format(output_dir, output_filename)\n",
    "\n",
    "# Setting up environment variables \n",
    "os.environ['ITEM_FILE'] = item_file\n",
    "os.environ['LABEL_FILE'] = label_file\n",
    "os.environ['STORE'] = \"{}/wikidata.sqlite3.db\".format(store_dir)\n",
    "os.environ['OUT'] = output_dir\n",
    "os.environ['kgtk'] = \"kgtk\" # Need to do this for kgtk to be recognized as a command when passing it through a subprocess call"
   ]
  },
  {
   "cell_type": "markdown",
   "metadata": {},
   "source": [
    "### Helpers"
   ]
  },
  {
   "cell_type": "code",
   "execution_count": 274,
   "metadata": {},
   "outputs": [],
   "source": [
    "def plot_walk_length_dist(walks):\n",
    "    print(\"Number of walks: {}\".format(len(walks)))\n",
    "    walk_lengths = [len(arr) for arr in walks]\n",
    "    print(\"Number of walks of each length:\")\n",
    "    counts_str = \", \".join([\"{} : {}\".format(key,value) for key,value in sorted(Counter(walk_lengths).items())])\n",
    "    print(counts_str)\n",
    "    fig, ax = plt.subplots()\n",
    "    ax.hist(walk_lengths,bins=np.arange(12)-.5)\n",
    "    ax.set_ylabel('Number of walks')\n",
    "    ax.set_xlabel('Walk length')\n",
    "    plt.show()\n",
    "    \n",
    "def plot_distinct_nodes_in_walks(walks):\n",
    "    print(\"Number of walks: {}\".format(len(walks)))\n",
    "    count_distinct_nodes = [len(set(arr)) for arr in walks]\n",
    "    print(\"Number of walks by number of unique nodes visited:\")\n",
    "    counts_str = \", \".join([\"{} : {}\".format(key,value) for key,value in sorted(Counter(count_distinct_nodes).items())])\n",
    "    print(counts_str)\n",
    "    fig, ax = plt.subplots()\n",
    "    ax.hist(count_distinct_nodes,bins=np.arange(12)-.5)\n",
    "    ax.set_ylabel('Number of walks')\n",
    "    ax.set_xlabel('Number of unique nodes visited')\n",
    "    plt.show()"
   ]
  },
  {
   "cell_type": "markdown",
   "metadata": {},
   "source": [
    "Start with empty corpus of walks. We'll add to this in the following steps."
   ]
  },
  {
   "cell_type": "code",
   "execution_count": 300,
   "metadata": {},
   "outputs": [],
   "source": [
    "walks = []"
   ]
  },
  {
   "cell_type": "markdown",
   "metadata": {},
   "source": [
    "### 1. H-Paths\n",
    "These random walks are intended to detect similarity due to homophily. Random walks are performed in a DFS manner\n",
    "\n",
    "#### 1.1 H-Paths - loading entity to entity edges into a Graph-Tool graph\n",
    "loading two versions to look at - one with directed edges and one with undirected edges. The default in the authors' code is undirected, though they do not mention if this is what they used for the results that they presented in the paper."
   ]
  },
  {
   "cell_type": "code",
   "execution_count": 276,
   "metadata": {
    "scrolled": true
   },
   "outputs": [],
   "source": [
    "kr = KgtkReader.open(pathlib.Path(item_file))\n",
    "g_directed = load_graph_from_kgtk(kr, directed=True, hashed=True)\n",
    "kr = KgtkReader.open(pathlib.Path(item_file))\n",
    "g_undirected = load_graph_from_kgtk(kr, directed=False, hashed=True)"
   ]
  },
  {
   "cell_type": "code",
   "execution_count": 277,
   "metadata": {},
   "outputs": [
    {
     "name": "stdout",
     "output_type": "stream",
     "text": [
      "This graph has 11294 vertices and 20516 edges\n"
     ]
    }
   ],
   "source": [
    "print(\"This graph has {} vertices and {} edges\".format(len(g_directed.get_vertices()), len(g_directed.get_edges())))"
   ]
  },
  {
   "cell_type": "markdown",
   "metadata": {},
   "source": [
    "#### 1.2 H-Paths - Build corpus of random walks"
   ]
  },
  {
   "cell_type": "markdown",
   "metadata": {},
   "source": [
    "**First for directed representation**"
   ]
  },
  {
   "cell_type": "code",
   "execution_count": 278,
   "metadata": {
    "scrolled": true
   },
   "outputs": [
    {
     "name": "stdout",
     "output_type": "stream",
     "text": [
      "CPU times: user 5.97 s, sys: 206 ms, total: 6.18 s\n",
      "Wall time: 6.27 s\n"
     ]
    }
   ],
   "source": [
    "%%time\n",
    "h_walks_directed = build_corpus(g_directed, walk_length, num_walks)"
   ]
  },
  {
   "cell_type": "markdown",
   "metadata": {},
   "source": [
    "Let's look at how many walks we have and how long they are (max walk length is 10)."
   ]
  },
  {
   "cell_type": "code",
   "execution_count": 279,
   "metadata": {
    "scrolled": false
   },
   "outputs": [
    {
     "name": "stdout",
     "output_type": "stream",
     "text": [
      "Number of walks: 112940\n",
      "Number of walks of each length:\n",
      "1 : 109640, 2 : 2031, 3 : 985, 4 : 206, 5 : 62, 6 : 13, 7 : 2, 8 : 1\n"
     ]
    },
    {
     "data": {
      "image/png": "[encoded data removed]",
      "text/plain": [
       "<Figure size 432x288 with 1 Axes>"
      ]
     },
     "metadata": {
      "needs_background": "light"
     },
     "output_type": "display_data"
    }
   ],
   "source": [
    "plot_walk_length_dist(h_walks_directed)"
   ]
  },
  {
   "cell_type": "markdown",
   "metadata": {},
   "source": [
    "Checking that this makes sense...  \n",
    "Let's look at an example of a walk of length 1 and verify that it has no outbound edges in the graph."
   ]
  },
  {
   "cell_type": "code",
   "execution_count": 280,
   "metadata": {},
   "outputs": [
    {
     "name": "stdout",
     "output_type": "stream",
     "text": [
      "Q1278032 has a walk length of 1\n"
     ]
    }
   ],
   "source": [
    "index = walk_lengths.index(1)\n",
    "print(\"{} has a walk length of {}\".format(h_walks[index][0], walk_lengths[index]))"
   ]
  },
  {
   "cell_type": "code",
   "execution_count": 281,
   "metadata": {},
   "outputs": [
    {
     "name": "stdout",
     "output_type": "stream",
     "text": [
      "n1\tprop\tn2\r\n"
     ]
    }
   ],
   "source": [
    "!kgtk query -i $ITEM_FILE --graph-cache $STORE \\\n",
    "--match '`'\"$ITEM_FILE\"'`: (n1)-[l {label:p}]->(n2)' \\\n",
    "--return 'n1 as n1, p as prop, n2 as n2' \\\n",
    "--where 'n1 = \"Q1278032\"'"
   ]
  },
  {
   "cell_type": "markdown",
   "metadata": {},
   "source": [
    "And as we can see above, there is no outbound edge from Q1278032 ('East Staffordshire') in the graph"
   ]
  },
  {
   "cell_type": "markdown",
   "metadata": {},
   "source": [
    "**Now for undirected representation**"
   ]
  },
  {
   "cell_type": "code",
   "execution_count": 282,
   "metadata": {},
   "outputs": [
    {
     "name": "stdout",
     "output_type": "stream",
     "text": [
      "CPU times: user 9.6 s, sys: 1.07 s, total: 10.7 s\n",
      "Wall time: 10.8 s\n"
     ]
    }
   ],
   "source": [
    "%%time\n",
    "h_walks_undirected = build_corpus(g_undirected, walk_length, num_walks)"
   ]
  },
  {
   "cell_type": "code",
   "execution_count": 283,
   "metadata": {},
   "outputs": [
    {
     "name": "stdout",
     "output_type": "stream",
     "text": [
      "Number of walks: 112940\n",
      "Number of walks of each length:\n",
      "10 : 112940\n"
     ]
    },
    {
     "data": {
      "image/png": "[encoded data removed]",
      "text/plain": [
       "<Figure size 432x288 with 1 Axes>"
      ]
     },
     "metadata": {
      "needs_background": "light"
     },
     "output_type": "display_data"
    }
   ],
   "source": [
    "plot_walk_length_dist(h_walks_undirected)"
   ]
  },
  {
   "cell_type": "markdown",
   "metadata": {},
   "source": [
    "Since these walks are on an undirected graph, it might be informative to look at how many unique vertexes we visit in each walk."
   ]
  },
  {
   "cell_type": "code",
   "execution_count": 284,
   "metadata": {},
   "outputs": [
    {
     "name": "stdout",
     "output_type": "stream",
     "text": [
      "Number of walks: 112940\n",
      "Number of walks by number of unique nodes visited:\n",
      "2 : 28, 3 : 150, 4 : 532, 5 : 2382, 6 : 18180, 7 : 29919, 8 : 36810, 9 : 20678, 10 : 4261\n"
     ]
    },
    {
     "data": {
      "image/png": "[encoded data removed]",
      "text/plain": [
       "<Figure size 432x288 with 1 Axes>"
      ]
     },
     "metadata": {
      "needs_background": "light"
     },
     "output_type": "display_data"
    }
   ],
   "source": [
    "plot_distinct_nodes_in_walks(h_walks_undirected)"
   ]
  },
  {
   "cell_type": "markdown",
   "metadata": {},
   "source": [
    "We'll use the undirected representation's h-path walks. Adding them to the list of paths that will later be fed to a skip-gram model."
   ]
  },
  {
   "cell_type": "code",
   "execution_count": 301,
   "metadata": {},
   "outputs": [],
   "source": [
    "walks.extend(h_walks_undirected)"
   ]
  },
  {
   "cell_type": "markdown",
   "metadata": {},
   "source": [
    "### 2. A-Paths (TODO)"
   ]
  },
  {
   "cell_type": "markdown",
   "metadata": {},
   "source": [
    "### 3. S-Paths (TODO)"
   ]
  },
  {
   "cell_type": "markdown",
   "metadata": {},
   "source": [
    "### 4. Use Skip-Gram model on the combined set of random walks to learn representations for the entities\n",
    "Code is currently using the walks created by the undirected graph representation"
   ]
  },
  {
   "cell_type": "code",
   "execution_count": 302,
   "metadata": {},
   "outputs": [],
   "source": [
    "model = Word2Vec(walks, size=representation_size, window=window_size, min_count=0, sg=1, hs=1,\n",
    "                 workers=workers)\n",
    "model.wv.save_word2vec_format(output_file)"
   ]
  },
  {
   "cell_type": "markdown",
   "metadata": {},
   "source": [
    "Now we have embeddings for the entities. Here is what Beer looks like:"
   ]
  },
  {
   "cell_type": "code",
   "execution_count": 304,
   "metadata": {},
   "outputs": [
    {
     "data": {
      "text/plain": [
       "array([-0.10504546, -0.5197131 ,  0.63982505,  0.1441161 ,  0.60569906,\n",
       "       -0.69399446,  0.4205355 , -0.18196362,  0.24686256, -0.8131254 ,\n",
       "       -0.01032642,  0.5521092 ,  0.289288  ,  0.24916527, -0.01905111,\n",
       "        0.5654449 , -0.6118205 ,  0.80521184,  0.8276056 ,  0.7351372 ,\n",
       "        0.87236065,  0.18068133, -0.10869325,  0.8826329 ,  0.16151546,\n",
       "       -0.39793345, -0.00493379, -0.30667162, -0.2636516 , -0.5383527 ,\n",
       "        0.6018666 , -0.01954279, -1.0817765 , -0.01720298,  0.8762579 ,\n",
       "        0.65152025, -0.31066707, -0.56997454, -0.51779675, -0.12303738,\n",
       "       -0.5793813 ,  0.55956376, -0.39791596, -0.77485216,  0.03920611,\n",
       "       -0.27818367, -0.02001944, -0.5404001 ,  0.07983732, -0.0445268 ,\n",
       "        0.13702728,  0.19984083,  0.87586343, -0.00944167,  0.08037495,\n",
       "        0.48493955, -0.6510796 ,  0.22250324,  0.33588412, -0.16469076,\n",
       "        0.07030386,  0.5429082 ,  0.35188052, -0.7162532 ], dtype=float32)"
      ]
     },
     "execution_count": 304,
     "metadata": {},
     "output_type": "execute_result"
    }
   ],
   "source": [
    "model.wv[\"Q44\"]"
   ]
  }
 ],
 "metadata": {
  "kernelspec": {
   "display_name": "Python [conda env:kgtk-env] *",
   "language": "python",
   "name": "conda-env-kgtk-env-py"
  },
  "language_info": {
   "codemirror_mode": {
    "name": "ipython",
    "version": 3
   },
   "file_extension": ".py",
   "mimetype": "text/x-python",
   "name": "python",
   "nbconvert_exporter": "python",
   "pygments_lexer": "ipython3",
   "version": "3.7.8"
  }
 },
 "nbformat": 4,
 "nbformat_minor": 4
}
