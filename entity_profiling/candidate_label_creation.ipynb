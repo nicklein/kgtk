{
 "cells": [
  {
   "cell_type": "markdown",
   "metadata": {},
   "source": [
    "# Re-implementing procedure outlined in \"Entity Profiling in Knowledge Graphs\" (Zhang Et al.)\n",
    "# This notebook will implement the candidate label creation step\n",
    "Using a subset of wikidata related to Q44 (\"beer\")"
   ]
  },
  {
   "cell_type": "code",
   "execution_count": 68,
   "metadata": {},
   "outputs": [],
   "source": [
    "import os"
   ]
  },
  {
   "cell_type": "code",
   "execution_count": 69,
   "metadata": {},
   "outputs": [],
   "source": [
    "work_dir = \"/Users/nicklein/Documents/grad_school/Research/data\""
   ]
  },
  {
   "cell_type": "code",
   "execution_count": 70,
   "metadata": {},
   "outputs": [],
   "source": [
    "os.environ['STORE'] = \"{}/wikidata.sqlite3.db\".format(work_dir)\n",
    "os.environ['DATA'] = \"{}/Q44\".format(work_dir)\n",
    "os.environ['NAME'] = \"Q44\"\n",
    "os.environ[\"OUT\"] = \"{}/Q44_profiler_output\".format(work_dir)"
   ]
  },
  {
   "cell_type": "markdown",
   "metadata": {},
   "source": [
    "Helper function for executing commands"
   ]
  },
  {
   "cell_type": "code",
   "execution_count": 71,
   "metadata": {},
   "outputs": [],
   "source": [
    "def run_command(command, substitution_dictionary = {}):\n",
    "    \"\"\"Run a templetized command.\"\"\"\n",
    "    #cmd = command.replace(\"NAME\", subset_name)\n",
    "    for k, v in substitution_dictionary.items():\n",
    "        cmd = cmd.replace(k, v)\n",
    "    \n",
    "    print(cmd)\n",
    "    output = subprocess.run([cmd], shell=True, universal_newlines=True, stdout=subprocess.PIPE, stderr=subprocess.PIPE)\n",
    "    print(output.stdout)\n",
    "    print(output.stderr)"
   ]
  },
  {
   "cell_type": "markdown",
   "metadata": {},
   "source": [
    "## Examples of using query command:\n",
    "### Ex - Counting instances of <type, property, value> along with the property label"
   ]
  },
  {
   "cell_type": "code",
   "execution_count": 131,
   "metadata": {},
   "outputs": [
    {
     "name": "stdout",
     "output_type": "stream",
     "text": [
      "type\tprop\tvalue\tcount\tproperty_label\r\n",
      "Q1066984\tP1343\tQ97879676\t3\t'described by source'@en\r\n",
      "Q1066984\tP1343\tQ316838\t2\t'described by source'@en\r\n",
      "Q1066984\tP17\tQ154195\t2\t'country'@en\r\n",
      "Q1066984\tP17\tQ183\t2\t'country'@en\r\n",
      "Q1066984\tP17\tQ2415901\t2\t'country'@en\r\n"
     ]
    }
   ],
   "source": [
    "!kgtk query -i $DATA/$NAME.part.wikibase-item.tsv -i $DATA/$NAME.label.en.tsv --graph-cache $STORE \\\n",
    "--match 'item: (n1)-[l {label: p}]->(n2), item: (n1)-[:P31]->(type), label: (p)-[:label]->(lab)' \\\n",
    "--return 'distinct type as type, l.label as prop, n2 as value, count(n1) as count, lab as property_label' \\\n",
    "--where 'lab.kgtk_lqstring_lang_suffix = \"en\"' \\\n",
    "--order-by 'type, count(n1) desc' \\\n",
    "--limit 5"
   ]
  },
  {
   "cell_type": "markdown",
   "metadata": {},
   "source": [
    "### Ex - Counting property, value pairs for time properties"
   ]
  },
  {
   "cell_type": "code",
   "execution_count": 165,
   "metadata": {},
   "outputs": [
    {
     "name": "stdout",
     "output_type": "stream",
     "text": [
      "prop\tproperty_label\tval\tcount\r\n",
      "P571\t'inception'@en\t1991\t20\r\n",
      "P571\t'inception'@en\t1918\t14\r\n",
      "P571\t'inception'@en\t1989\t8\r\n",
      "P571\t'inception'@en\t1996\t8\r\n",
      "P571\t'inception'@en\t1821\t6\r\n"
     ]
    }
   ],
   "source": [
    "!kgtk query -i $DATA/$NAME.part.time.tsv -i $DATA/$NAME.label.en.tsv --graph-cache $STORE \\\n",
    "--match 'time: (n1)-[l {label: p}]->(n2), label: (p)-[:label]->(lab)' \\\n",
    "--return 'distinct l.label as prop, lab as property_label, kgtk_date_year(n2) as val, count(n1) as count' \\\n",
    "--where 'lab.kgtk_lqstring_lang_suffix = \"en\"' \\\n",
    "--order-by 'count(n1) desc' \\\n",
    "--limit 5"
   ]
  },
  {
   "cell_type": "markdown",
   "metadata": {},
   "source": [
    "### Ex- Counting property, value pairs for quantity properties"
   ]
  },
  {
   "cell_type": "code",
   "execution_count": 133,
   "metadata": {},
   "outputs": [
    {
     "name": "stdout",
     "output_type": "stream",
     "text": [
      "prop\tproperty_label\tvalue\tcount\r\n",
      "P3000\t'marriageable age'@en\t+18Q24564698\t56\r\n",
      "P2997\t'age of majority'@en\t+18Q24564698\t52\r\n",
      "P1279\t'inflation rate'@en\t+1.7Q11229\t41\r\n",
      "P2884\t'mains voltage'@en\t+230Q25250\t40\r\n",
      "P1279\t'inflation rate'@en\t+1.8Q11229\t38\r\n"
     ]
    }
   ],
   "source": [
    "!kgtk query -i $DATA/$NAME.part.quantity.tsv -i $DATA/$NAME.label.en.tsv --graph-cache $STORE \\\n",
    "--match 'quantity: (n1)-[l {label: p}]->(n2), label: (p)-[:label]->(lab)' \\\n",
    "--return 'distinct l.label as prop, lab as property_label, n2 as value, count(n1) as count' \\\n",
    "--where 'lab.kgtk_lqstring_lang_suffix = \"en\"' \\\n",
    "--order-by 'count(n1) desc' \\\n",
    "--limit 5"
   ]
  },
  {
   "cell_type": "markdown",
   "metadata": {},
   "source": [
    "# Outline of procedure:\n",
    "**Goal**:<br>\n",
    "We want to create candidate label sets including\n",
    "- Attribute value labels (type, property, *attribute*)\n",
    "- Realtional entity labels (type, property, *entity*)\n",
    "- Attribute interval labels (type, property, *range of attribute values*)\n",
    "- Relational attribute labels (type, property, *attribute or attribute range of another entity*)\n",
    "\n",
    "To enable subsequent filtering of these labels, we also want to count:\n",
    "- The number of entities of each type\n",
    "- The number of entities that match each label (call these \"positives\")\n",
    "    \n",
    "**Steps**:\n",
    "\n",
    "0. Create type-mapping\n",
    "1. Count the number of entities of each type\n",
    "    - *optional future step*: define type with P279 transitive closure in addition to P31. \n",
    "2. Create AVLs trivially from attribute files along with counts of the positive entities for each label\n",
    "    - At this step, we should also contribute to a mapping of entities --> matching attribute labels to facilitate creating RALs in a later step  \n",
    "3. Create RELs trivially from entity relation files along with counts of positive entities for each label\n",
    "4. Create AILs by discretizing the AVLs we found, along with counts of positive entities for each label\n",
    "    - This can be done using the counts that we already have\n",
    "    - We'll likely try a naive approach at first such as hardcoding a bucket size for each numeric type we care about\n",
    "    - At this step, we should also contribute to a mapping of entities --> matching attribute labels to facilitate creating RALs in a later step\n",
    "5. Create RALs by using the REL table and the entities --> attribute labels table that built in steps 2 and 4. Also keep track of counts of positive entities for each label\n",
    "    \n",
    "*Misc issues encountered*\n",
    "- kgtk rename-columns doesn't always work when input file == output file. Getting around this right now by creating extra temp files... "
   ]
  },
  {
   "cell_type": "markdown",
   "metadata": {},
   "source": [
    "## 0. Create type mapping\n",
    "Using P31 only for now, but can add P279* as well later"
   ]
  },
  {
   "cell_type": "code",
   "execution_count": 361,
   "metadata": {},
   "outputs": [],
   "source": [
    "!kgtk filter -p ' ; P31 ; ' -i $DATA/$NAME.part.wikibase-item.tsv -o $OUT/$NAME.type_mapping.tsv"
   ]
  },
  {
   "cell_type": "code",
   "execution_count": 638,
   "metadata": {
    "scrolled": true
   },
   "outputs": [
    {
     "name": "stdout",
     "output_type": "stream",
     "text": [
      "id              node1     label  node2\r\n",
      "Q1000597-P31-1  Q1000597  P31    Q3957\r\n",
      "Q1011-P31-2     Q1011     P31    Q112099\r\n",
      "Q1011-P31-1     Q1011     P31    Q3624078\r\n",
      "Q1019-P31-2     Q1019     P31    Q112099\r\n"
     ]
    }
   ],
   "source": [
    "!head -5 $OUT/$NAME.type_mapping.tsv | column -t -s $'\\t'"
   ]
  },
  {
   "cell_type": "markdown",
   "metadata": {},
   "source": [
    "## 1. Count number of entities of each type:"
   ]
  },
  {
   "cell_type": "code",
   "execution_count": 589,
   "metadata": {},
   "outputs": [],
   "source": [
    "!kgtk query -i $OUT/$NAME.type_mapping.tsv -i $DATA/$NAME.label.en.tsv -o $OUT/$NAME.entity_counts_per_type_temp.tsv --graph-cache $STORE \\\n",
    "--match 'type: (n1)-[]->(type), label: (type)-[:label]->(lab)' \\\n",
    "--return 'distinct type as type, lab as type_label, count(distinct n1) as count, \"_\" as id' \\\n",
    "--where 'lab.kgtk_lqstring_lang_suffix = \"en\"' \\\n",
    "--order-by 'count(distinct n1) desc' \\"
   ]
  },
  {
   "cell_type": "code",
   "execution_count": 590,
   "metadata": {},
   "outputs": [],
   "source": [
    "!kgtk rename-columns -i $OUT/$NAME.entity_counts_per_type_temp.tsv -o $OUT/$NAME.entity_counts_per_type_temp1.tsv \\\n",
    "--old-columns type type_label count --new-columns node1 label node2 "
   ]
  },
  {
   "cell_type": "code",
   "execution_count": 591,
   "metadata": {},
   "outputs": [],
   "source": [
    "!kgtk add-id -i $OUT/$NAME.entity_counts_per_type_temp1.tsv \\\n",
    "-o $OUT/$NAME.entity_counts_per_type.tsv --overwrite-id"
   ]
  },
  {
   "cell_type": "code",
   "execution_count": 637,
   "metadata": {},
   "outputs": [
    {
     "name": "stdout",
     "output_type": "stream",
     "text": [
      "node1     label                 node2  id\r\n",
      "Q131734   'brewery'@en          87     E1\r\n",
      "Q3624078  'sovereign state'@en  69     E2\r\n",
      "Q4830453  'business'@en         50     E3\r\n",
      "Q6256     'country'@en          26     E4\r\n"
     ]
    }
   ],
   "source": [
    "!head -5 $OUT/$NAME.entity_counts_per_type.tsv | column -t -s $'\\t'"
   ]
  },
  {
   "cell_type": "markdown",
   "metadata": {},
   "source": [
    "## 2. Create AVLs with counts of positive entities\n",
    "At this step we also want to keep track of entities --> matching attribute labels for future use. This will help when we are creating RALs (step 5)\n",
    "\n",
    "We should also keep numeric valued labels and non-numeric valued labels separate to help with discretization at a later step"
   ]
  },
  {
   "cell_type": "markdown",
   "metadata": {},
   "source": [
    "### strings\n",
    "Creating mapping of entity --> string attribute labels"
   ]
  },
  {
   "cell_type": "code",
   "execution_count": 728,
   "metadata": {},
   "outputs": [],
   "source": [
    "!kgtk query -i $OUT/$NAME.type_mapping.tsv -i $DATA/$NAME.part.string.tsv -i $DATA/$NAME.label.en.tsv \\\n",
    "-o $OUT/$NAME.entity_attribute_labels_string_temp.tsv --graph-cache $STORE \\\n",
    "--match 'string: (n1)-[l {label:p}]->(n2), type: (n1)-[]->(type), label: (p)-[:label]->(lab)' \\\n",
    "--return 'distinct n1 as entity, type as type, p as prop, n2 as value, lab as property_label, \"_\" as id' \\\n",
    "--where 'lab.kgtk_lqstring_lang_suffix = \"en\"' \\\n",
    "--order-by 'n1'"
   ]
  },
  {
   "cell_type": "code",
   "execution_count": 729,
   "metadata": {},
   "outputs": [],
   "source": [
    "!kgtk rename-columns -i $OUT/$NAME.entity_attribute_labels_string_temp.tsv \\\n",
    "-o $OUT/$NAME.entity_attribute_labels_string_temp1.tsv \\\n",
    "--old-columns type prop value --new-columns node1 label node2"
   ]
  },
  {
   "cell_type": "code",
   "execution_count": 730,
   "metadata": {
    "scrolled": true
   },
   "outputs": [],
   "source": [
    "!kgtk add-id -i $OUT/$NAME.entity_attribute_labels_string_temp1.tsv \\\n",
    "-o $OUT/$NAME.entity_attribute_labels_string.tsv --overwrite-id"
   ]
  },
  {
   "cell_type": "code",
   "execution_count": 731,
   "metadata": {},
   "outputs": [
    {
     "name": "stdout",
     "output_type": "stream",
     "text": [
      "entity    node1  label  node2                property_label           id\r\n",
      "Q1000597  Q3957  P281   \"DE14\"               'postal code'@en         E1\r\n",
      "Q1000597  Q3957  P373   \"Burton upon Trent\"  'Commons category'@en    E2\r\n",
      "Q1000597  Q3957  P473   \"01283\"              'local dialing code'@en  E3\r\n",
      "Q1000597  Q3957  P613   \"SK245225\"           'OS grid reference'@en   E4\r\n"
     ]
    }
   ],
   "source": [
    "!head -5 $OUT/$NAME.entity_attribute_labels_string.tsv | column -t -s $'\\t'"
   ]
  },
  {
   "cell_type": "markdown",
   "metadata": {},
   "source": [
    "Aggregating distinct labels w/ positive entity counts"
   ]
  },
  {
   "cell_type": "code",
   "execution_count": 732,
   "metadata": {},
   "outputs": [],
   "source": [
    "!kgtk query -i $OUT/$NAME.entity_attribute_labels_string.tsv \\\n",
    "-o $OUT/$NAME.candidate_labels_avl_string_temp.tsv --graph-cache $STORE \\\n",
    "--match 'labels: (type)-[l {label:prop, property_label:lab, entity:e}]->(val)' \\\n",
    "--return 'distinct type as type, prop as prop, val as value, count(distinct e) as positives, lab as property_label, \"_\" as id' \\\n",
    "--order-by 'count(distinct e) desc'"
   ]
  },
  {
   "cell_type": "code",
   "execution_count": 733,
   "metadata": {},
   "outputs": [],
   "source": [
    "!kgtk rename-columns -i $OUT/$NAME.candidate_labels_avl_string_temp.tsv \\\n",
    "-o $OUT/$NAME.candidate_labels_avl_string_temp1.tsv \\\n",
    "--old-columns type prop value --new-columns node1 label node2"
   ]
  },
  {
   "cell_type": "code",
   "execution_count": 734,
   "metadata": {},
   "outputs": [],
   "source": [
    "!kgtk remove-columns -c \"id\" -i $OUT/$NAME.candidate_labels_avl_string_temp1.tsv \\\n",
    "-o $OUT/$NAME.candidate_labels_avl_string_temp2.tsv"
   ]
  },
  {
   "cell_type": "code",
   "execution_count": 735,
   "metadata": {
    "scrolled": true
   },
   "outputs": [],
   "source": [
    "!kgtk add-id -i $OUT/$NAME.candidate_labels_avl_string_temp2.tsv -o $OUT/$NAME.candidate_labels_avl_string.tsv"
   ]
  },
  {
   "cell_type": "code",
   "execution_count": 736,
   "metadata": {
    "scrolled": true
   },
   "outputs": [
    {
     "name": "stdout",
     "output_type": "stream",
     "text": [
      "node1     label  node2    positives  property_label     id\r\n",
      "Q3624078  P3238  \"0\"      34         'trunk prefix'@en  E1\r\n",
      "Q3624078  P3238  novalue  14         'trunk prefix'@en  E2\r\n",
      "Q6256     P3238  \"0\"      12         'trunk prefix'@en  E3\r\n",
      "Q179164   P3238  \"0\"      9          'trunk prefix'@en  E4\r\n"
     ]
    }
   ],
   "source": [
    "!head -5 $OUT/$NAME.candidate_labels_avl_string.tsv | column -t -s $'\\t'"
   ]
  },
  {
   "cell_type": "markdown",
   "metadata": {},
   "source": [
    "### Times"
   ]
  },
  {
   "cell_type": "markdown",
   "metadata": {},
   "source": [
    "Looking at what precisions we need to deal with..."
   ]
  },
  {
   "cell_type": "code",
   "execution_count": 634,
   "metadata": {},
   "outputs": [
    {
     "name": "stdout",
     "output_type": "stream",
     "text": [
      "precisions  count\r\n",
      "6           12\r\n",
      "7           40\r\n",
      "8           12\r\n",
      "9           697\r\n",
      "10          48\r\n",
      "11          469\r\n"
     ]
    }
   ],
   "source": [
    "!kgtk query -i $DATA/$NAME.part.time.tsv $DATA/$NAME.label.en.tsv\\\n",
    "--graph-cache $STORE \\\n",
    "--match 'time: (n1)-[l {label:p}]->(n2), label: (p)-[:label]->(lab)' \\\n",
    "--return 'distinct kgtk_date_precision(n2) as precisions, count(n1) as count' \\\n",
    "--limit 10 \\\n",
    "| column -t -s $'\\t'"
   ]
  },
  {
   "cell_type": "markdown",
   "metadata": {},
   "source": [
    "From the above, we have several precisions below precision of year=9. We don't have kgtk type interpretation functions for these granularities, so for now we'll interpret them all as years. Furthermore, we will interpret all times at the year granularity for now.\n",
    "\n",
    "Additional work can be done later to create labels with finer time granularity if desired."
   ]
  },
  {
   "cell_type": "markdown",
   "metadata": {},
   "source": [
    "#### precision = year or broader\n",
    "#### note - at this time we will include values that have precision finer than a year here as well\n",
    "We interpret these as years"
   ]
  },
  {
   "cell_type": "code",
   "execution_count": 874,
   "metadata": {},
   "outputs": [],
   "source": [
    "!kgtk query -i $OUT/$NAME.type_mapping.tsv -i $DATA/$NAME.part.time.tsv -i $DATA/$NAME.label.en.tsv \\\n",
    "-o $OUT/$NAME.entity_attribute_labels_time.year_temp.tsv --graph-cache $STORE \\\n",
    "--match 'time: (n1)-[l {label:p}]->(n2), type: (n1)-[]->(type), label: (p)-[:label]->(p_lab), label: (type)-[:label]->(t_lab)' \\\n",
    "--return 'distinct n1 as entity, type as type, p as prop, kgtk_date_year(n2) as value, t_lab as type_label, p_lab as property_label, \"_\" as id' \\\n",
    "--where 't_lab.kgtk_lqstring_lang_suffix = \"en\" AND p_lab.kgtk_lqstring_lang_suffix = \"en\"' \\\n",
    "--order-by 'n1'"
   ]
  },
  {
   "cell_type": "code",
   "execution_count": 875,
   "metadata": {},
   "outputs": [],
   "source": [
    "!kgtk rename-columns -i $OUT/$NAME.entity_attribute_labels_time.year_temp.tsv \\\n",
    "-o $OUT/$NAME.entity_attribute_labels_time.year_temp1.tsv \\\n",
    "--old-columns type prop value --new-columns node1 label node2"
   ]
  },
  {
   "cell_type": "code",
   "execution_count": 876,
   "metadata": {},
   "outputs": [],
   "source": [
    "!kgtk remove-columns -c \"id\" -i $OUT/$NAME.entity_attribute_labels_time.year_temp1.tsv \\\n",
    "-o $OUT/$NAME.entity_attribute_labels_time.year_temp2.tsv"
   ]
  },
  {
   "cell_type": "code",
   "execution_count": 877,
   "metadata": {
    "scrolled": true
   },
   "outputs": [],
   "source": [
    "!kgtk add-id -i $OUT/$NAME.entity_attribute_labels_time.year_temp2.tsv \\\n",
    "-o $OUT/$NAME.entity_attribute_labels_time.year.tsv"
   ]
  },
  {
   "cell_type": "code",
   "execution_count": 878,
   "metadata": {},
   "outputs": [
    {
     "name": "stdout",
     "output_type": "stream",
     "text": [
      "entity  node1     label  node2  type_label            property_label  id\r\n",
      "Q1011   Q112099   P571   1975   'island nation'@en    'inception'@en  E1\r\n",
      "Q1011   Q3624078  P571   1975   'sovereign state'@en  'inception'@en  E2\r\n",
      "Q1019   Q112099   P571   1960   'island nation'@en    'inception'@en  E3\r\n",
      "Q1019   Q3624078  P571   1960   'sovereign state'@en  'inception'@en  E4\r\n"
     ]
    }
   ],
   "source": [
    "!head -5 $OUT/$NAME.entity_attribute_labels_time.year.tsv | column -t -s $'\\t'"
   ]
  },
  {
   "cell_type": "markdown",
   "metadata": {},
   "source": [
    "Aggregating distinct labels w/ positive entity counts"
   ]
  },
  {
   "cell_type": "code",
   "execution_count": 879,
   "metadata": {},
   "outputs": [],
   "source": [
    "!kgtk query -i $OUT/$NAME.entity_attribute_labels_time.year.tsv \\\n",
    "-o $OUT/$NAME.candidate_labels_avl_time.year_temp.tsv --graph-cache $STORE \\\n",
    "--match 'labels: (n1)-[l {label:p, property_label:lab, entity:e}]->(val)' \\\n",
    "--return 'distinct n1 as type, p as prop, val as value, count(distinct e) as positives, lab as property_label, \"_\" as id' \\\n",
    "--order-by 'count(distinct e) desc'"
   ]
  },
  {
   "cell_type": "code",
   "execution_count": 880,
   "metadata": {},
   "outputs": [],
   "source": [
    "!kgtk rename-columns -i $OUT/$NAME.candidate_labels_avl_time.year_temp.tsv \\\n",
    "-o $OUT/$NAME.candidate_labels_avl_time.year_temp1.tsv \\\n",
    "--old-columns type prop value --new-columns node1 label node2"
   ]
  },
  {
   "cell_type": "code",
   "execution_count": 881,
   "metadata": {},
   "outputs": [],
   "source": [
    "!kgtk remove-columns -c \"id\" -i $OUT/$NAME.candidate_labels_avl_time.year_temp1.tsv \\\n",
    "-o $OUT/$NAME.candidate_labels_avl_time.year_temp2.tsv"
   ]
  },
  {
   "cell_type": "code",
   "execution_count": 882,
   "metadata": {
    "scrolled": true
   },
   "outputs": [],
   "source": [
    "!kgtk add-id -i $OUT/$NAME.candidate_labels_avl_time.year_temp2.tsv \\\n",
    "-o $OUT/$NAME.candidate_labels_avl_time.year.tsv"
   ]
  },
  {
   "cell_type": "code",
   "execution_count": 883,
   "metadata": {
    "scrolled": false
   },
   "outputs": [
    {
     "name": "stdout",
     "output_type": "stream",
     "text": [
      "node1     label  node2  positives  property_label  id\r\n",
      "Q3624078  P571   1991   8          'inception'@en  E1\r\n",
      "Q3624078  P571   1918   7          'inception'@en  E2\r\n",
      "Q6256     P571   1918   5          'inception'@en  E3\r\n",
      "Q6256     P571   1991   5          'inception'@en  E4\r\n"
     ]
    }
   ],
   "source": [
    "!head -5 $OUT/$NAME.candidate_labels_avl_time.year.tsv | column -t -s $'\\t'"
   ]
  },
  {
   "cell_type": "markdown",
   "metadata": {},
   "source": [
    "#### ~~precision finer than a year~~\n",
    "~~we interpret these as dates with day, month, year~~\n",
    "\n",
    "Note, at this time we will give all time values a granularity of year. The results of the below code are currently not used."
   ]
  },
  {
   "cell_type": "code",
   "execution_count": 737,
   "metadata": {},
   "outputs": [],
   "source": [
    "!kgtk query -i $OUT/$NAME.type_mapping.tsv -i $DATA/$NAME.part.time.tsv -i $DATA/$NAME.label.en.tsv \\\n",
    "-o $OUT/$NAME.entity_attribute_labels_time.date_temp.tsv --graph-cache $STORE \\\n",
    "--match 'time: (n1)-[l {label:p}]->(n2), type: (n1)-[]->(type), label: (p)-[:label]->(lab)' \\\n",
    "--return 'distinct n1 as entity, type as type, p as prop, kgtk_date_date(n2) as value, lab as property_label, \"_\" as id' \\\n",
    "--where 'lab.kgtk_lqstring_lang_suffix = \"en\" AND kgtk_date_precision(n2) > 9' \\\n",
    "--order-by 'n1'"
   ]
  },
  {
   "cell_type": "code",
   "execution_count": 738,
   "metadata": {},
   "outputs": [],
   "source": [
    "!kgtk rename-columns -i $OUT/$NAME.entity_attribute_labels_time.date_temp.tsv \\\n",
    "-o $OUT/$NAME.entity_attribute_labels_time.date_temp1.tsv \\\n",
    "--old-columns type prop value --new-columns node1 label node2"
   ]
  },
  {
   "cell_type": "code",
   "execution_count": 739,
   "metadata": {},
   "outputs": [],
   "source": [
    "!kgtk remove-columns -c \"id\" -i $OUT/$NAME.entity_attribute_labels_time.date_temp1.tsv \\\n",
    "-o $OUT/$NAME.entity_attribute_labels_time.date_temp2.tsv"
   ]
  },
  {
   "cell_type": "code",
   "execution_count": 740,
   "metadata": {
    "scrolled": true
   },
   "outputs": [],
   "source": [
    "!kgtk add-id -i $OUT/$NAME.entity_attribute_labels_time.date_temp2.tsv \\\n",
    "-o $OUT/$NAME.entity_attribute_labels_time.date.tsv"
   ]
  },
  {
   "cell_type": "code",
   "execution_count": 741,
   "metadata": {},
   "outputs": [
    {
     "name": "stdout",
     "output_type": "stream",
     "text": [
      "entity    node1     label  node2        property_label  id\r\n",
      "Q1011     Q112099   P571   ^1975-07-05  'inception'@en  E1\r\n",
      "Q1011     Q3624078  P571   ^1975-07-05  'inception'@en  E2\r\n",
      "Q1020773  Q3957     P571   ^1892-10-12  'inception'@en  E3\r\n",
      "Q1020773  Q902814   P571   ^1892-10-12  'inception'@en  E4\r\n"
     ]
    }
   ],
   "source": [
    "!head -5 $OUT/$NAME.entity_attribute_labels_time.date.tsv | column -t -s $'\\t'"
   ]
  },
  {
   "cell_type": "markdown",
   "metadata": {},
   "source": [
    "Aggregating distinct labels w/ positive entity counts"
   ]
  },
  {
   "cell_type": "code",
   "execution_count": 742,
   "metadata": {},
   "outputs": [],
   "source": [
    "!kgtk query -i $OUT/$NAME.entity_attribute_labels_time.date.tsv \\\n",
    "-o $OUT/$NAME.candidate_labels_avl_time.date_temp.tsv --graph-cache $STORE \\\n",
    "--match 'labels: (n1)-[l {label:p, property_label:lab, entity:e}]->(val)' \\\n",
    "--return 'distinct n1 as type, p as prop, val as value, count(distinct e) as positives, lab as property_label, \"_\" as id' \\\n",
    "--order-by 'count(distinct e) desc'"
   ]
  },
  {
   "cell_type": "code",
   "execution_count": 743,
   "metadata": {},
   "outputs": [],
   "source": [
    "!kgtk rename-columns -i $OUT/$NAME.candidate_labels_avl_time.date_temp.tsv \\\n",
    "-o $OUT/$NAME.candidate_labels_avl_time.date_temp1.tsv \\\n",
    "--old-columns type prop value --new-columns node1 label node2"
   ]
  },
  {
   "cell_type": "code",
   "execution_count": 744,
   "metadata": {},
   "outputs": [],
   "source": [
    "!kgtk remove-columns -c \"id\" -i $OUT/$NAME.candidate_labels_avl_time.date_temp1.tsv \\\n",
    "-o $OUT/$NAME.candidate_labels_avl_time.date_temp2.tsv"
   ]
  },
  {
   "cell_type": "code",
   "execution_count": 745,
   "metadata": {
    "scrolled": true
   },
   "outputs": [],
   "source": [
    "!kgtk add-id -i $OUT/$NAME.candidate_labels_avl_time.date_temp2.tsv \\\n",
    "-o $OUT/$NAME.candidate_labels_avl_time.date.tsv"
   ]
  },
  {
   "cell_type": "code",
   "execution_count": 746,
   "metadata": {
    "scrolled": true
   },
   "outputs": [
    {
     "name": "stdout",
     "output_type": "stream",
     "text": [
      "node1     label  node2         positives  property_label                        id\r\n",
      "Q1066984  P1249  ^1158-06-14   1          'time of earliest written record'@en  E1\r\n",
      "Q1093829  P571   ^1790-07-16   1          'inception'@en                        E2\r\n",
      "Q112099   P571   ^-0660-02-11  1          'inception'@en                        E3\r\n",
      "Q112099   P571   ^1898-12-10   1          'inception'@en                        E4\r\n"
     ]
    }
   ],
   "source": [
    "!head -5 $OUT/$NAME.candidate_labels_avl_time.date.tsv | column -t -s $'\\t'"
   ]
  },
  {
   "cell_type": "markdown",
   "metadata": {},
   "source": [
    "## Quantities\n",
    "Not using a kgtk literal function for now so we can keep the units attached to the values. Otherwise, could interpret everything as a number and drop the units. Seems like we need the units though."
   ]
  },
  {
   "cell_type": "code",
   "execution_count": 918,
   "metadata": {},
   "outputs": [],
   "source": [
    "!kgtk query -i $OUT/$NAME.type_mapping.tsv -i $DATA/$NAME.part.quantity.tsv -i $DATA/$NAME.label.en.tsv \\\n",
    "-o $OUT/$NAME.entity_attribute_labels_quantity_temp.tsv --graph-cache $STORE \\\n",
    "--match 'quantity: (n1)-[l {label:p}]->(n2), type: (n1)-[]->(type), label: (p)-[:label]->(p_lab), label: (type)-[:label]->(t_lab)' \\\n",
    "--return 'distinct n1 as entity, type as type, p as prop, kgtk_quantity_number(n2) as value, kgtk_quantity_si_units(n2) as si_units, kgtk_quantity_wd_units(n2) as wd_units, t_lab as type_label, p_lab as property_label, \"_\" as id' \\\n",
    "--where 't_lab.kgtk_lqstring_lang_suffix = \"en\" AND p_lab.kgtk_lqstring_lang_suffix = \"en\"' \\\n",
    "--order-by 'n1'"
   ]
  },
  {
   "cell_type": "code",
   "execution_count": 919,
   "metadata": {},
   "outputs": [],
   "source": [
    "!kgtk rename-columns -i $OUT/$NAME.entity_attribute_labels_quantity_temp.tsv \\\n",
    "-o $OUT/$NAME.entity_attribute_labels_quantity_temp1.tsv \\\n",
    "--old-columns type prop value --new-columns node1 label node2"
   ]
  },
  {
   "cell_type": "code",
   "execution_count": 920,
   "metadata": {},
   "outputs": [],
   "source": [
    "!kgtk remove-columns -c \"id\" -i $OUT/$NAME.entity_attribute_labels_quantity_temp1.tsv \\\n",
    "-o $OUT/$NAME.entity_attribute_labels_quantity_temp2.tsv"
   ]
  },
  {
   "cell_type": "code",
   "execution_count": 921,
   "metadata": {
    "scrolled": true
   },
   "outputs": [],
   "source": [
    "!kgtk add-id -i $OUT/$NAME.entity_attribute_labels_quantity_temp2.tsv \\\n",
    "-o $OUT/$NAME.entity_attribute_labels_quantity.tsv"
   ]
  },
  {
   "cell_type": "code",
   "execution_count": 922,
   "metadata": {},
   "outputs": [
    {
     "name": "stdout",
     "output_type": "stream",
     "text": [
      "entity    node1    label  node2  si_units            wd_units                      type_label  property_label  id\r\n",
      "Q1000597  Q3957    P1082  75074  'town'@en           'population'@en               E1\r\n",
      "Q1011     Q112099  P1081  0.57   'island nation'@en  'Human Development Index'@en  E2\r\n",
      "Q1011     Q112099  P1081  0.572  'island nation'@en  'Human Development Index'@en  E3\r\n",
      "Q1011     Q112099  P1081  0.575  'island nation'@en  'Human Development Index'@en  E4\r\n"
     ]
    }
   ],
   "source": [
    "!head -5 $OUT/$NAME.entity_attribute_labels_quantity.tsv | column -t -s $'\\t'"
   ]
  },
  {
   "cell_type": "markdown",
   "metadata": {},
   "source": [
    "Aggregating distinct labels w/ positive entity counts"
   ]
  },
  {
   "cell_type": "code",
   "execution_count": 752,
   "metadata": {},
   "outputs": [],
   "source": [
    "!kgtk query -i $OUT/$NAME.entity_attribute_labels_quantity.tsv \\\n",
    "-o $OUT/$NAME.candidate_labels_avl_quantity_temp.tsv --graph-cache $STORE \\\n",
    "--match 'labels: (n1)-[l {label:p, property_label:lab, entity:e}]->(val)' \\\n",
    "--return 'distinct n1 as type, p as prop, val as value, count(distinct e) as positives, lab as property_label, \"_\" as id' \\\n",
    "--order-by 'count(distinct e) desc'"
   ]
  },
  {
   "cell_type": "code",
   "execution_count": 753,
   "metadata": {},
   "outputs": [],
   "source": [
    "!kgtk rename-columns -i $OUT/$NAME.candidate_labels_avl_quantity_temp.tsv \\\n",
    "-o $OUT/$NAME.candidate_labels_avl_quantity_temp1.tsv \\\n",
    "--old-columns type prop value --new-columns node1 label node2"
   ]
  },
  {
   "cell_type": "code",
   "execution_count": 754,
   "metadata": {},
   "outputs": [],
   "source": [
    "!kgtk remove-columns -c \"id\" -i $OUT/$NAME.candidate_labels_avl_quantity_temp1.tsv \\\n",
    "-o $OUT/$NAME.candidate_labels_avl_quantity_temp2.tsv"
   ]
  },
  {
   "cell_type": "code",
   "execution_count": 755,
   "metadata": {
    "scrolled": true
   },
   "outputs": [],
   "source": [
    "!kgtk add-id -i $OUT/$NAME.candidate_labels_avl_quantity_temp2.tsv \\\n",
    "-o $OUT/$NAME.candidate_labels_avl_quantity.tsv"
   ]
  },
  {
   "cell_type": "code",
   "execution_count": 756,
   "metadata": {
    "scrolled": true
   },
   "outputs": [
    {
     "name": "stdout",
     "output_type": "stream",
     "text": [
      "node1     label  node2         positives  property_label         id\r\n",
      "Q3624078  P3000  +18Q24564698  54         'marriageable age'@en  E1\r\n",
      "Q3624078  P2997  +18Q24564698  51         'age of majority'@en   E2\r\n",
      "Q3624078  P2884  +230Q25250    38         'mains voltage'@en     E3\r\n",
      "Q3624078  P1279  +1.7Q11229    25         'inflation rate'@en    E4\r\n"
     ]
    }
   ],
   "source": [
    "!head -5 $OUT/$NAME.candidate_labels_avl_quantity.tsv | column -t -s $'\\t'"
   ]
  },
  {
   "cell_type": "markdown",
   "metadata": {},
   "source": [
    "### Combining entity --> attribute label mappings to single table"
   ]
  },
  {
   "cell_type": "markdown",
   "metadata": {},
   "source": [
    "Note, currently omitting OUT/NAME.entity_attribute_labels_time.date.tsv from below"
   ]
  },
  {
   "cell_type": "code",
   "execution_count": 884,
   "metadata": {},
   "outputs": [],
   "source": [
    "!kgtk cat \\\n",
    "-i $OUT/$NAME.entity_attribute_labels_string.tsv \\\n",
    "-i $OUT/$NAME.entity_attribute_labels_time.year.tsv \\\n",
    "-i $OUT/$NAME.entity_attribute_labels_quantity.tsv \\\n",
    "-o $OUT/$NAME.entity_attribute_labels_all.tsv"
   ]
  },
  {
   "cell_type": "markdown",
   "metadata": {},
   "source": [
    "## 3. Create RELs with counts of positive entities"
   ]
  },
  {
   "cell_type": "code",
   "execution_count": 478,
   "metadata": {},
   "outputs": [],
   "source": [
    "!kgtk query -i $DATA/$NAME.part.wikibase-item.tsv -i $OUT/$NAME.type_mapping.tsv -i $DATA/$NAME.label.en.tsv \\\n",
    "-o $OUT/$NAME.candidate_labels_rel_item_temp.tsv --graph-cache $STORE \\\n",
    "--match 'item: (n1)-[l {label:p}]->(n2), type: (n1)-[]->(type), label: (p)-[:label]->(lab)' \\\n",
    "--return 'distinct type as type, p as prop, n2 as value, count(distinct n1) as positives, lab as property_label, \"_\" as id' \\\n",
    "--where 'lab.kgtk_lqstring_lang_suffix = \"en\"' \\\n",
    "--order-by 'count(distinct n1) desc'"
   ]
  },
  {
   "cell_type": "code",
   "execution_count": 479,
   "metadata": {},
   "outputs": [],
   "source": [
    "!kgtk rename-columns -i $OUT/$NAME.candidate_labels_rel_item_temp.tsv \\\n",
    "-o $OUT/$NAME.candidate_labels_rel_item_temp1.tsv \\\n",
    "--old-columns type prop value --new-columns node1 label node2"
   ]
  },
  {
   "cell_type": "code",
   "execution_count": 480,
   "metadata": {},
   "outputs": [],
   "source": [
    "!kgtk remove-columns -c \"id\" -i $OUT/$NAME.candidate_labels_rel_item_temp1.tsv \\\n",
    "-o $OUT/$NAME.candidate_labels_rel_item_temp2.tsv"
   ]
  },
  {
   "cell_type": "code",
   "execution_count": 481,
   "metadata": {
    "scrolled": true
   },
   "outputs": [],
   "source": [
    "!kgtk add-id -i $OUT/$NAME.candidate_labels_rel_item_temp2.tsv \\\n",
    "-o $OUT/$NAME.candidate_labels_rel_item.tsv"
   ]
  },
  {
   "cell_type": "code",
   "execution_count": 627,
   "metadata": {},
   "outputs": [
    {
     "name": "stdout",
     "output_type": "stream",
     "text": [
      "node1     label  node2    positives  property_label            id\r\n",
      "Q131734   P452   Q869095  77         'industry'@en             E1\r\n",
      "Q3624078  P463   Q1065    68         'member of'@en            E2\r\n",
      "Q3624078  P463   Q7817    67         'member of'@en            E3\r\n",
      "Q3624078  P530   Q183     67         'diplomatic relation'@en  E4\r\n"
     ]
    }
   ],
   "source": [
    "!head -5 $OUT/$NAME.candidate_labels_rel_item.tsv | column -t -s $'\\t'"
   ]
  },
  {
   "cell_type": "markdown",
   "metadata": {},
   "source": [
    "## 4. Create AILs with counts of positive entities\n",
    "### 4.a. Keep track of entities --> matching attribute labels for future use\n"
   ]
  },
  {
   "cell_type": "markdown",
   "metadata": {},
   "source": [
    "Just implementing a naive hard-coded bucket-size at first for time.date attribute labels\n",
    "\n",
    "**issue:** mod operator doesn't seem to be supported here..\n",
    "\n",
    "**TODO:** make table of type/property --> low_bound/up_bound buckets to be used below instead.\n",
    "\n",
    "**issue:** to do the above it would be nice to have some -/+ infinity value. Otherwise, need logic like \"WHERE low_bound is null OR low_bound < value\" - this might work?"
   ]
  },
  {
   "cell_type": "code",
   "execution_count": 639,
   "metadata": {},
   "outputs": [
    {
     "name": "stdout",
     "output_type": "stream",
     "text": [
      "/Users/nicklein/Documents/grad_school/Research/data/Q44_profiler_output/Q44.entity_attribute_labels_time.year.tsv\r\n"
     ]
    }
   ],
   "source": [
    "!echo $OUT/$NAME.entity_attribute_labels_time.year.tsv"
   ]
  },
  {
   "cell_type": "code",
   "execution_count": 890,
   "metadata": {
    "scrolled": false
   },
   "outputs": [
    {
     "name": "stdout",
     "output_type": "stream",
     "text": [
      "    node2  zeros\n",
      "12   1872      0\n",
      "19   1988      0\n",
      "21   1847      0\n",
      "24   1916      0\n",
      "26   1769      0\n",
      "(50, 2)\n"
     ]
    },
    {
     "data": {
      "image/png": "[encoded data removed]",
      "text/plain": [
       "<Figure size 432x288 with 1 Axes>"
      ]
     },
     "metadata": {
      "needs_background": "light"
     },
     "output_type": "display_data"
    },
    {
     "name": "stdout",
     "output_type": "stream",
     "text": [
      "[ 0  1  2  3  4  5  6  7  8  9 10 11 12 13 14 15 16 17 18 19 20 21 22 23\n",
      " 24 25 26 27 28 29 30 31 32 33 34 35 36 37 38 39 40 41 42 43 44 45 46 47\n",
      " 48 49]\n",
      "     node2  zeros\n",
      "12    1872      0\n",
      "19    1988      0\n",
      "21    1847      0\n",
      "24    1916      0\n",
      "26    1769      0\n",
      "..     ...    ...\n",
      "516   2000      0\n",
      "521   1989      0\n",
      "523   1889      0\n",
      "535   1990      0\n",
      "542   1846      0\n",
      "\n",
      "[50 rows x 2 columns]\n",
      "Estimated number of clusters: 13\n",
      "Estimated number of noise points: 0\n"
     ]
    },
    {
     "data": {
      "image/png": "[encoded data removed]",
      "text/plain": [
       "<Figure size 432x288 with 1 Axes>"
      ]
     },
     "metadata": {
      "needs_background": "light"
     },
     "output_type": "display_data"
    }
   ],
   "source": [
    "import pandas as pd\n",
    "import matplotlib.pyplot as plt\n",
    "import numpy as np\n",
    "from sklearn.cluster import DBSCAN\n",
    "\n",
    "df = pd.read_csv(\"/Users/nicklein/Documents/grad_school/Research/data/Q44_profiler_output/Q44.entity_attribute_labels_time.year.tsv\", delimiter='\\t')\n",
    "l_type = \"Q4830453\"\n",
    "l_prop = \"P571\"\n",
    "df[\"zeros\"]=0\n",
    "\n",
    "values_w_0s = df.loc[(df[\"node1\"] == l_type) & (df[\"label\"] == l_prop), [\"node2\", \"zeros\"]]\n",
    "values = values_w_0s.loc[:,\"node2\"]\n",
    "print(values_w_0s.head())\n",
    "print(values_w_0s.shape)\n",
    "plt.hist(values, bins = range(values.min()-1, values.max() + 1, 1))\n",
    "plt.show()\n",
    "\n",
    "db = DBSCAN(eps=8, min_samples=1).fit(values_w_0s)\n",
    "core_samples_mask = np.zeros_like(db.labels_, dtype=bool)\n",
    "core_samples_mask[db.core_sample_indices_] = True\n",
    "print(db.core_sample_indices_)\n",
    "print(values_w_0s.iloc[db.core_sample_indices_])\n",
    "labels = db.labels_\n",
    "\n",
    "# Number of clusters in labels, ignoring noise if present.\n",
    "n_clusters_ = len(set(labels)) - (1 if -1 in labels else 0)\n",
    "n_noise_ = list(labels).count(-1)\n",
    "\n",
    "print('Estimated number of clusters: %d' % n_clusters_)\n",
    "print('Estimated number of noise points: %d' % n_noise_)\n",
    "\n",
    "\n",
    "unique_labels = set(labels)\n",
    "colors = [plt.cm.Spectral(each)\n",
    "          for each in np.linspace(0, 1, len(unique_labels))]\n",
    "\n",
    "for k, col in zip(unique_labels, colors):\n",
    "    if k == -1:\n",
    "        # Black used for noise.\n",
    "        col = [0, 0, 0, 1]\n",
    "\n",
    "    class_member_mask = (labels == k)\n",
    "\n",
    "    xy = values.loc[class_member_mask]\n",
    "    plt.hist(xy, color=tuple(col), bins = range(1825, 2000, 1))\n",
    "\n",
    "plt.title('Estimated number of clusters: %d' % n_clusters_)\n",
    "plt.show()"
   ]
  },
  {
   "cell_type": "markdown",
   "metadata": {},
   "source": [
    "Bucketing all year attributes to 5 year ranges"
   ]
  },
  {
   "cell_type": "code",
   "execution_count": 891,
   "metadata": {},
   "outputs": [],
   "source": [
    "import pandas as pd\n",
    "import matplotlib.pyplot as plt\n",
    "import numpy as np\n",
    "\n",
    "#TODO - either make this a function with filename and bucket_size params, or get the filename using environment variables that are already defined\n",
    "in_file = \"/Users/nicklein/Documents/grad_school/Research/data/Q44_profiler_output/Q44.entity_attribute_labels_time.year.tsv\"\n",
    "out_file = \"/Users/nicklein/Documents/grad_school/Research/data/Q44_profiler_output/Q44.entity_attribute_labels_time.year_bucketed.tsv\"\n",
    "\n",
    "df = pd.read_csv(in_file, delimiter='\\t')\n",
    "bucket_size = 5\n",
    "\n",
    "vals = df.loc[:,\"node2\"]\n",
    "\n",
    "low_ends = vals - (vals % bucket_size)\n",
    "high_ends = low_ends + bucket_size - 1\n",
    "\n",
    "# TODO - if we want to have open-ended ranges at the min and max buckets, need to do this per distinct type, property\n",
    "#        i.e. loop through each distinct type, property combination\n",
    "# min_val = vals.min()\n",
    "# max_val = vals.max()\n",
    "# min_low_end = min_val - (min_val % bucket_size)\n",
    "# max_high_end = max_val - (max_val % bucket_size) + bucket_size - 1\n",
    "\n",
    "# low_ends = [\"\" if v == min_low_end else v for v in low_ends]\n",
    "# high_ends = [\"\" if v == max_high_end else v for v in high_ends]\n",
    "\n",
    "df.insert(loc = df.columns.get_loc(\"node2\") + 1, column = \"lower_bound\", value = low_ends)\n",
    "df.insert(loc = df.columns.get_loc(\"lower_bound\") + 1, column = \"upper_bound\", value = high_ends)\n",
    "\n",
    "df.to_csv(path_or_buf = out_file, sep = '\\t')\n"
   ]
  },
  {
   "cell_type": "markdown",
   "metadata": {},
   "source": [
    "Aggregating distinct interval labels with positive entity counts"
   ]
  },
  {
   "cell_type": "code",
   "execution_count": 894,
   "metadata": {},
   "outputs": [],
   "source": [
    "!kgtk query -i $OUT/$NAME.entity_attribute_labels_time.year_bucketed.tsv \\\n",
    "-o $OUT/$NAME.candidate_labels_ail_time.year_temp.tsv \\\n",
    "--graph-cache $STORE \\\n",
    "--match 'labels: (type)-[l {label:prop, property_label:lab, entity:e, lower_bound:lb, upper_bound:ub}]->(val)' \\\n",
    "--return 'type as type, prop as prop, lb as lower_bound, ub as upper_bound, count(e) as positives, lab as property_label, \"_\" as id' \\\n",
    "--order-by 'count(e) desc'"
   ]
  },
  {
   "cell_type": "code",
   "execution_count": 895,
   "metadata": {},
   "outputs": [],
   "source": [
    "!kgtk rename-columns -i $OUT/$NAME.candidate_labels_ail_time.year_temp.tsv -o $OUT/$NAME.candidate_labels_ail_time.year_temp1.tsv \\\n",
    "--old-columns type prop lower_bound --new-columns node1 label node2 "
   ]
  },
  {
   "cell_type": "code",
   "execution_count": 896,
   "metadata": {
    "scrolled": false
   },
   "outputs": [],
   "source": [
    "!kgtk add-id -i $OUT/$NAME.candidate_labels_ail_time.year_temp1.tsv \\\n",
    "-o $OUT/$NAME.candidate_labels_ail_time.year.tsv --overwrite-id"
   ]
  },
  {
   "cell_type": "code",
   "execution_count": 909,
   "metadata": {},
   "outputs": [
    {
     "name": "stdout",
     "output_type": "stream",
     "text": [
      "node1     label  node2  upper_bound  positives  property_label  id\r\n",
      "Q3624078  P571   1990   1994         12         'inception'@en  E1\r\n",
      "Q3624078  P571   1915   1919         9          'inception'@en  E2\r\n",
      "Q6256     P571   1915   1919         7          'inception'@en  E3\r\n",
      "Q131734   P571   1985   1989         6          'inception'@en  E4\r\n"
     ]
    }
   ],
   "source": [
    "!head -5 $OUT/$NAME.candidate_labels_ail_time.year.tsv | column -t -s $'\\t'"
   ]
  },
  {
   "cell_type": "markdown",
   "metadata": {},
   "source": [
    "## 5. Create RALs with counts of positive entities"
   ]
  },
  {
   "cell_type": "markdown",
   "metadata": {},
   "source": [
    "Here is an idea of what kind of values we should find (creating RALs from scratch for string attributes only)"
   ]
  },
  {
   "cell_type": "code",
   "execution_count": 626,
   "metadata": {},
   "outputs": [
    {
     "name": "stdout",
     "output_type": "stream",
     "text": [
      "type1     prop1  type2     prop2  value           positives  prop1_label               prop2_label\r\n",
      "Q131734   P452   Q8148     P373   \"Beer brewing\"  77         'industry'@en             'Commons category'@en\r\n",
      "Q3624078  P530   Q3624078  P3238  \"0\"             68         'diplomatic relation'@en  'trunk prefix'@en\r\n",
      "Q3624078  P530   Q4209223  P3238  \"0\"             68         'diplomatic relation'@en  'trunk prefix'@en\r\n",
      "Q3624078  P530   Q43702    P3238  \"0\"             68         'diplomatic relation'@en  'trunk prefix'@en\r\n",
      "Q3624078  P530   Q619610   P3238  \"0\"             68         'diplomatic relation'@en  'trunk prefix'@en\r\n"
     ]
    }
   ],
   "source": [
    "!kgtk query -i $DATA/$NAME.part.wikibase-item.tsv -i $DATA/$NAME.part.string.tsv \\\n",
    "-i $OUT/$NAME.type_mapping.tsv -i $DATA/$NAME.label.en.tsv --graph-cache $STORE \\\n",
    "--match 'item: (n1)-[l1 {label:p1}]->(n2), type: (n1)-[]->(type1), label: (p1)-[:label]->(lab1), string: (n2)-[l2 {label:p2}]->(n3), type: (n2)-[]->(type2), label: (p2)-[:label]->(lab2)' \\\n",
    "--return 'distinct type1 as type1, p1 as prop1, type2 as type2, p2 as prop2, n3 as value, count(distinct n1) as positives, lab1 as prop1_label, lab2 as prop2_label' \\\n",
    "--where 'lab1.kgtk_lqstring_lang_suffix = \"en\"' \\\n",
    "--where 'lab2.kgtk_lqstring_lang_suffix = \"en\"' \\\n",
    "--order-by 'count(distinct n1) desc' \\\n",
    "--limit 5 \\\n",
    "| column -t -s $'\\t'"
   ]
  },
  {
   "cell_type": "markdown",
   "metadata": {},
   "source": [
    "**NOTE:** It looks like having all of the entity --> labels mappings together in one file would be nice here. I don't think there is a need to keep these separate? Maybe keep AVL and AIL separate."
   ]
  },
  {
   "cell_type": "markdown",
   "metadata": {},
   "source": [
    "Now using the REL table and the entities --> attribute labels table that we built in steps 2 and 4. Also keep track of counts of positive entities for each label"
   ]
  },
  {
   "cell_type": "markdown",
   "metadata": {},
   "source": [
    "Trying to reuse RELs, however, when counting positives, we would need to sum each num_pos that matches the line - not sure how to do this, so the below won't capture when type1 --> x1 and type1 --> x2 resolve to be the same label: i.e. type1 --> typex --> val. See further down for alternate solution."
   ]
  },
  {
   "cell_type": "code",
   "execution_count": 624,
   "metadata": {},
   "outputs": [
    {
     "name": "stdout",
     "output_type": "stream",
     "text": [
      "type      prop  value_type  value_prop  value_val       positives  id\r\n",
      "Q131734   P452  Q8148       P373        \"Beer brewing\"  77         _\r\n",
      "Q3624078  P530  Q3624078    P2258       \"262\"           67         _\r\n",
      "Q3624078  P530  Q3624078    P2572       \"Deutschland\"   67         _\r\n",
      "Q3624078  P530  Q3624078    P2979       \"211\"           67         _\r\n",
      "Q3624078  P530  Q3624078    P2979       \"218\"           67         _\r\n"
     ]
    }
   ],
   "source": [
    "!kgtk query -i $OUT/$NAME.candidate_labels_rel_item.tsv -i $OUT/$NAME.entity_attribute_labels_string.tsv \\\n",
    "--graph-cache $STORE \\\n",
    "--match 'rel: (t1)-[l1 {label:p1, positives:num_pos}]->(v1), entity_attribute: (t2)-[l {entity:v1, label:p2}]->(v2)' \\\n",
    "--return 't1 as type, p1 as prop, t2 as value_type, p2 as value_prop, v2 as value_val, num_pos as positives, \"_\" as id' \\\n",
    "--order-by \"kgtk_quantity_number_int(num_pos) desc\" \\\n",
    "--limit 5 \\\n",
    "| column -t -s $'\\t'"
   ]
  },
  {
   "cell_type": "markdown",
   "metadata": {},
   "source": [
    "This way should work."
   ]
  },
  {
   "cell_type": "code",
   "execution_count": 625,
   "metadata": {},
   "outputs": [
    {
     "name": "stdout",
     "output_type": "stream",
     "text": [
      "type1     prop1  type2     prop2  value           positives  id\r\n",
      "Q131734   P452   Q8148     P373   \"Beer brewing\"  77         _\r\n",
      "Q3624078  P530   Q3624078  P3238  \"0\"             68         _\r\n",
      "Q3624078  P530   Q4209223  P3238  \"0\"             68         _\r\n",
      "Q3624078  P530   Q43702    P3238  \"0\"             68         _\r\n",
      "Q3624078  P530   Q619610   P3238  \"0\"             68         _\r\n"
     ]
    }
   ],
   "source": [
    "!kgtk query -i $DATA/$NAME.part.wikibase-item.tsv -i $OUT/$NAME.type_mapping.tsv \\\n",
    "-i $OUT/$NAME.entity_attribute_labels_string.tsv --graph-cache $STORE \\\n",
    "--match 'item: (n1)-[l1 {label:p1}]->(n2), type: (n1)-[]->(t1), entity_attribute: (t2)-[l2 {label:p2, entity:n2}]->(val)' \\\n",
    "--return 't1 as type1, p1 as prop1, t2 as type2, p2 as prop2, val as value, count(distinct n1) as positives, \"_\" as id' \\\n",
    "--order-by \"count(distinct n1) desc\" \\\n",
    "--limit 5 \\\n",
    "| column -t -s $'\\t'"
   ]
  },
  {
   "cell_type": "markdown",
   "metadata": {},
   "source": [
    "And now doing this for all attribute types:"
   ]
  },
  {
   "cell_type": "code",
   "execution_count": 886,
   "metadata": {},
   "outputs": [],
   "source": [
    "!kgtk query -i $DATA/$NAME.part.wikibase-item.tsv -i $OUT/$NAME.type_mapping.tsv -i $DATA/$NAME.label.en.tsv \\\n",
    "-i $OUT/$NAME.entity_attribute_labels_all.tsv -o $OUT/$NAME.candidate_labels_ral_temp.tsv --graph-cache $STORE \\\n",
    "--match 'item: (n1)-[l1 {label:p1}]->(n2), type: (n1)-[]->(t1), entity_attribute: (t2)-[l2 {label:p2, entity:n2}]->(val), label: (p2)-[:label]->(lab2)' \\\n",
    "--return 't1 as type1, p1 as prop1, t2 as type2, p2 as prop2, lab2 as prop2_label, val as value, count(distinct n1) as positives, \"_\" as id' \\\n",
    "--order-by \"count(distinct n1) desc\" \\\n",
    "--where 'lab2.kgtk_lqstring_lang_suffix = \"en\"'"
   ]
  },
  {
   "cell_type": "code",
   "execution_count": 887,
   "metadata": {},
   "outputs": [],
   "source": [
    "!kgtk rename-columns -i $OUT/$NAME.candidate_labels_ral_temp.tsv -o $OUT/$NAME.candidate_labels_ral_temp1.tsv \\\n",
    "--old-columns type1 prop1 type2 --new-columns node1 label node2 "
   ]
  },
  {
   "cell_type": "code",
   "execution_count": 888,
   "metadata": {},
   "outputs": [],
   "source": [
    "!kgtk add-id -i $OUT/$NAME.candidate_labels_ral_temp1.tsv \\\n",
    "-o $OUT/$NAME.candidate_labels_ral.tsv --overwrite-id"
   ]
  },
  {
   "cell_type": "code",
   "execution_count": 910,
   "metadata": {},
   "outputs": [
    {
     "name": "stdout",
     "output_type": "stream",
     "text": [
      "node1     label  node2     prop2  prop2_label                   value           positives  id\r\n",
      "Q131734   P452   Q8148     P373   'Commons category'@en         \"Beer brewing\"  77         E1\r\n",
      "Q131734   P452   Q8148     P580   'start time'@en               -3500           77         E2\r\n",
      "Q3624078  P530   Q3624078  P1081  'Human Development Index'@en  +0.801          68         E3\r\n",
      "Q3624078  P530   Q3624078  P1081  'Human Development Index'@en  +0.809          68         E4\r\n",
      "Q3624078  P530   Q3624078  P1081  'Human Development Index'@en  +0.814          68         E5\r\n",
      "Q3624078  P530   Q3624078  P1081  'Human Development Index'@en  +0.824          68         E6\r\n",
      "Q3624078  P530   Q3624078  P1081  'Human Development Index'@en  +0.829          68         E7\r\n",
      "Q3624078  P530   Q3624078  P1081  'Human Development Index'@en  +0.830          68         E8\r\n",
      "Q3624078  P530   Q3624078  P1081  'Human Development Index'@en  +0.834          68         E9\r\n"
     ]
    }
   ],
   "source": [
    "!head $OUT/$NAME.candidate_labels_ral.tsv | column -t -s $'\\t'"
   ]
  },
  {
   "cell_type": "code",
   "execution_count": null,
   "metadata": {},
   "outputs": [],
   "source": []
  }
 ],
 "metadata": {
  "kernelspec": {
   "display_name": "Python [conda env:kgtk-env] *",
   "language": "python",
   "name": "conda-env-kgtk-env-py"
  },
  "language_info": {
   "codemirror_mode": {
    "name": "ipython",
    "version": 3
   },
   "file_extension": ".py",
   "mimetype": "text/x-python",
   "name": "python",
   "nbconvert_exporter": "python",
   "pygments_lexer": "ipython3",
   "version": "3.7.8"
  }
 },
 "nbformat": 4,
 "nbformat_minor": 4
}
