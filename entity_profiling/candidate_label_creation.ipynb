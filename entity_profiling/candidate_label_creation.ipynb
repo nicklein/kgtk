{
 "cells": [
  {
   "cell_type": "markdown",
   "metadata": {},
   "source": [
    "# Re-implementing procedure outlined in \"Entity Profiling in Knowledge Graphs\" (Zhang Et al.)\n",
    "# This notebook will implement the candidate label creation step\n",
    "Using a subset of wikidata related to Q44 (\"beer\")"
   ]
  },
  {
   "cell_type": "code",
   "execution_count": 1,
   "metadata": {},
   "outputs": [],
   "source": [
    "import os"
   ]
  },
  {
   "cell_type": "code",
   "execution_count": 2,
   "metadata": {},
   "outputs": [],
   "source": [
    "os.environ['STORE'] = \"wikidata.sqlite3.db\"\n",
    "os.environ['DATA'] = \"Q44\"\n",
    "os.environ['NAME'] = \"Q44\"\n",
    "os.environ[\"OUT\"] = \"output\""
   ]
  },
  {
   "cell_type": "markdown",
   "metadata": {},
   "source": [
    "Helper function for executing commands"
   ]
  },
  {
   "cell_type": "code",
   "execution_count": 4,
   "metadata": {},
   "outputs": [],
   "source": [
    "def run_command(command, substitution_dictionary = {}):\n",
    "    \"\"\"Run a templetized command.\"\"\"\n",
    "    #cmd = command.replace(\"NAME\", subset_name)\n",
    "    for k, v in substitution_dictionary.items():\n",
    "        cmd = cmd.replace(k, v)\n",
    "    \n",
    "    print(cmd)\n",
    "    output = subprocess.run([cmd], shell=True, universal_newlines=True, stdout=subprocess.PIPE, stderr=subprocess.PIPE)\n",
    "    print(output.stdout)\n",
    "    print(output.stderr)"
   ]
  },
  {
   "cell_type": "markdown",
   "metadata": {},
   "source": [
    "## Examples of using query command:\n",
    "### Ex - Counting instances of <type, property, value> along with the property label"
   ]
  },
  {
   "cell_type": "code",
   "execution_count": 3,
   "metadata": {},
   "outputs": [
    {
     "name": "stdout",
     "output_type": "stream",
     "text": [
      "type\tprop\tvalue\tcount\tproperty_label\r\n",
      "Q1066984\tP1343\tQ97879676\t3\t'described by source'@en\r\n",
      "Q1066984\tP1343\tQ316838\t2\t'described by source'@en\r\n",
      "Q1066984\tP17\tQ154195\t2\t'country'@en\r\n",
      "Q1066984\tP17\tQ183\t2\t'country'@en\r\n",
      "Q1066984\tP17\tQ2415901\t2\t'country'@en\r\n",
      "Q1066984\tP17\tQ256961\t2\t'country'@en\r\n",
      "Q1066984\tP17\tQ41304\t2\t'country'@en\r\n",
      "Q1066984\tP17\tQ43287\t2\t'country'@en\r\n",
      "Q1066984\tP17\tQ713750\t2\t'country'@en\r\n",
      "Q1066984\tP17\tQ7318\t2\t'country'@en\r\n"
     ]
    }
   ],
   "source": [
    "!kgtk query -i $DATA/$NAME.part.wikibase-item.tsv -i $DATA/$NAME.label.en.tsv --graph-cache $STORE \\\n",
    "--match 'item: (n1)-[l {label: p}]->(n2), item: (n1)-[:P31]->(type), label: (p)-[:label]->(lab)' \\\n",
    "--return 'distinct type as type, l.label as prop, n2 as value, count(n1) as count, lab as property_label' \\\n",
    "--where 'lab.kgtk_lqstring_lang_suffix = \"en\"' \\\n",
    "--order-by 'type, count(n1) desc' \\\n",
    "--limit 10"
   ]
  },
  {
   "cell_type": "markdown",
   "metadata": {},
   "source": [
    "### Ex - Counting property, value pairs for time properties"
   ]
  },
  {
   "cell_type": "code",
   "execution_count": 31,
   "metadata": {},
   "outputs": [
    {
     "name": "stdout",
     "output_type": "stream",
     "text": [
      "prop\tproperty_label\tyear\tcount\r\n",
      "P571\t'inception'@en\t1991\t20\r\n",
      "P571\t'inception'@en\t1918\t14\r\n",
      "P571\t'inception'@en\t1989\t8\r\n",
      "P571\t'inception'@en\t1996\t8\r\n",
      "P571\t'inception'@en\t1821\t6\r\n",
      "P571\t'inception'@en\t1825\t6\r\n",
      "P571\t'inception'@en\t1960\t6\r\n",
      "P571\t'inception'@en\t1975\t6\r\n",
      "P571\t'inception'@en\t1994\t6\r\n",
      "P571\t'inception'@en\t800\t4\r\n"
     ]
    }
   ],
   "source": [
    "!kgtk query -i $DATA/$NAME.part.time.tsv -i $DATA/$NAME.label.en.tsv --graph-cache $STORE \\\n",
    "--match 'time: (n1)-[l {label: p}]->(n2), label: (p)-[:label]->(lab)' \\\n",
    "--return 'distinct l.label as prop, lab as property_label, kgtk_date_year(n2) as year, count(n1) as count' \\\n",
    "--where 'lab.kgtk_lqstring_lang_suffix = \"en\"' \\\n",
    "--order-by 'count(n1) desc' \\\n",
    "--limit 10"
   ]
  },
  {
   "cell_type": "markdown",
   "metadata": {},
   "source": [
    "### Ex- Counting property, value pairs for quantity properties"
   ]
  },
  {
   "cell_type": "code",
   "execution_count": 32,
   "metadata": {},
   "outputs": [
    {
     "name": "stdout",
     "output_type": "stream",
     "text": [
      "prop\tproperty_label\tvalue\tcount\r\n",
      "P3000\t'marriageable age'@en\t+18Q24564698\t56\r\n",
      "P2997\t'age of majority'@en\t+18Q24564698\t52\r\n",
      "P1279\t'inflation rate'@en\t+1.7Q11229\t41\r\n",
      "P2884\t'mains voltage'@en\t+230Q25250\t40\r\n",
      "P1279\t'inflation rate'@en\t+1.8Q11229\t38\r\n",
      "P1279\t'inflation rate'@en\t+2.1Q11229\t35\r\n",
      "P1279\t'inflation rate'@en\t+1.5Q11229\t31\r\n",
      "P1279\t'inflation rate'@en\t+2.8Q11229\t31\r\n",
      "P1279\t'inflation rate'@en\t+2Q11229\t29\r\n",
      "P1279\t'inflation rate'@en\t+3.5Q11229\t28\r\n"
     ]
    }
   ],
   "source": [
    "!kgtk query -i $DATA/$NAME.part.quantity.tsv -i $DATA/$NAME.label.en.tsv --graph-cache $STORE \\\n",
    "--match 'quantity: (n1)-[l {label: p}]->(n2), label: (p)-[:label]->(lab)' \\\n",
    "--return 'distinct l.label as prop, lab as property_label, n2 as value, count(n1) as count' \\\n",
    "--where 'lab.kgtk_lqstring_lang_suffix = \"en\"' \\\n",
    "--order-by 'count(n1) desc' \\\n",
    "--limit 10"
   ]
  },
  {
   "cell_type": "markdown",
   "metadata": {},
   "source": [
    "# We want to create candidate label sets along with counts of:\n",
    "## 1. number of entities of each type\n",
    "## 2. number of positive entities for each label "
   ]
  },
  {
   "cell_type": "markdown",
   "metadata": {},
   "source": [
    "## 1. Count number of entities of each type:"
   ]
  },
  {
   "cell_type": "code",
   "execution_count": 23,
   "metadata": {},
   "outputs": [],
   "source": [
    "!kgtk query -i $DATA/$NAME.part.wikibase-item.tsv -i $DATA/$NAME.label.en.tsv -o $OUT/$NAME.entity_counts_per_type.tsv --graph-cache $STORE \\\n",
    "--match 'item: (n1)-[:P31]->(type), label: (type)-[:label]->(lab)' \\\n",
    "--return 'distinct type as type, count(distinct n1) as count' \\\n",
    "--where 'lab.kgtk_lqstring_lang_suffix = \"en\"' \\\n",
    "--order-by 'count(distinct n1) desc' \\"
   ]
  },
  {
   "cell_type": "code",
   "execution_count": 24,
   "metadata": {},
   "outputs": [
    {
     "name": "stdout",
     "output_type": "stream",
     "text": [
      "type\tcount\r\n",
      "Q131734\t87\r\n",
      "Q3624078\t69\r\n",
      "Q4830453\t50\r\n",
      "Q6256\t26\r\n",
      "Q6881511\t23\r\n",
      "Q7270\t18\r\n",
      "Q1998962\t16\r\n",
      "Q179164\t16\r\n",
      "Q123480\t15\r\n"
     ]
    }
   ],
   "source": [
    "!head $OUT/$NAME.entity_counts_per_type.tsv"
   ]
  },
  {
   "cell_type": "markdown",
   "metadata": {},
   "source": [
    "## TODO - how can I use these counts in future queries? Attempting to figure out correct syntax below"
   ]
  },
  {
   "cell_type": "code",
   "execution_count": 25,
   "metadata": {},
   "outputs": [
    {
     "name": "stdout",
     "output_type": "stream",
     "text": [
      "'node1'\r\n",
      "\r\n"
     ]
    }
   ],
   "source": [
    "!kgtk query -i $OUT/$NAME.entity_counts_per_type.tsv --graph-cache $STORE \\\n",
    "--match 'counts: (t:type)-[]->(c:count)' \\\n",
    "--return 't as type, c as count' \\\n",
    "--order-by 'c desc' \\\n",
    "--limit 10"
   ]
  },
  {
   "cell_type": "markdown",
   "metadata": {},
   "source": [
    "## 2. Create labels with counts of positive entities \n",
    "A label is defined by <Type, Property, Value>.\n",
    "A positive entity for a label is an entity that matches that label.\n",
    "### 2.a. First creating AVLs and RELs...\n",
    "Note - I am counting _distinct_ n1s for the positives column. This is to ignore any duplicate triplets in the edge file (which it seems like there are since using distinct changes some of the counts).\n",
    "# TODO: Need to use kgtk type functions to interpret values as the correct type\n",
    "I am unsure of how this can be done automatically... Of course I could pass in the file that has time properties and interpret the values as kgtk_date_year(), but how do we know that year is the best granularity for each property in there? Furthermore, don't we want to be able to feed in all of the edge files (perhaps concatenated), and have labels created without manually determining what types each file holds?"
   ]
  },
  {
   "cell_type": "code",
   "execution_count": 26,
   "metadata": {},
   "outputs": [],
   "source": [
    "!kgtk query -i $DATA/$NAME.part.wikibase-item.tsv -i $DATA/$NAME.part.string.tsv -i $DATA/$NAME.label.en.tsv \\\n",
    "-o $OUT/$NAME.candidate_labels_avl_rel.tsv --graph-cache $STORE \\\n",
    "--match 'string: (n1)-[l {label:p}]->(n2), item: (n1)-[:P31]->(type), label: (p)-[:label]->(lab)' \\\n",
    "--return 'distinct type as type, p as prop, n2 as value, count(distinct n1) as positives, lab as property_label' \\\n",
    "--where 'lab.kgtk_lqstring_lang_suffix = \"en\"' \\\n",
    "--order-by 'type, count(distinct n1) desc'"
   ]
  },
  {
   "cell_type": "code",
   "execution_count": 28,
   "metadata": {},
   "outputs": [
    {
     "name": "stdout",
     "output_type": "stream",
     "text": [
      "type\tprop\tvalue\tpositives\tproperty_label\r\n",
      "Q1066984\tP1438\t\"15521\"\t1\t'Jewish Encyclopedia ID (Russian)'@en\r\n",
      "Q1066984\tP281\t\"80331\"\t1\t'postal code'@en\r\n",
      "Q1066984\tP281\t\"80802\"\t1\t'postal code'@en\r\n",
      "Q1066984\tP281\t\"80805\"\t1\t'postal code'@en\r\n",
      "Q1066984\tP281\t\"81377\"\t1\t'postal code'@en\r\n",
      "Q1066984\tP281\t\"81379\"\t1\t'postal code'@en\r\n",
      "Q1066984\tP281\t\"81730\"\t1\t'postal code'@en\r\n",
      "Q1066984\tP281\t\"81735\"\t1\t'postal code'@en\r\n",
      "Q1066984\tP281\t\"81737\"\t1\t'postal code'@en\r\n"
     ]
    }
   ],
   "source": [
    "!head $OUT/$NAME.candidate_labels_avl_rel.tsv"
   ]
  },
  {
   "cell_type": "markdown",
   "metadata": {},
   "source": [
    "### 2.b. Now creating AILs\n",
    "# TODO - need to determine how to discretize values"
   ]
  },
  {
   "cell_type": "code",
   "execution_count": null,
   "metadata": {},
   "outputs": [],
   "source": []
  },
  {
   "cell_type": "markdown",
   "metadata": {},
   "source": [
    "### 2.c. Now creating RALs"
   ]
  },
  {
   "cell_type": "code",
   "execution_count": null,
   "metadata": {},
   "outputs": [],
   "source": []
  },
  {
   "cell_type": "markdown",
   "metadata": {},
   "source": [
    "# Combining generated labels into a single file"
   ]
  },
  {
   "cell_type": "code",
   "execution_count": null,
   "metadata": {},
   "outputs": [],
   "source": []
  },
  {
   "cell_type": "markdown",
   "metadata": {},
   "source": [
    "## Filtering candidate labels - This can go in a separate notebook\n",
    "Simple rule-based filter to remove labels that are trivially either unrepresentative or indistinctive"
   ]
  },
  {
   "cell_type": "code",
   "execution_count": null,
   "metadata": {},
   "outputs": [],
   "source": []
  }
 ],
 "metadata": {
  "kernelspec": {
   "display_name": "Python [conda env:kgtk-env] *",
   "language": "python",
   "name": "conda-env-kgtk-env-py"
  },
  "language_info": {
   "codemirror_mode": {
    "name": "ipython",
    "version": 3
   },
   "file_extension": ".py",
   "mimetype": "text/x-python",
   "name": "python",
   "nbconvert_exporter": "python",
   "pygments_lexer": "ipython3",
   "version": "3.7.8"
  }
 },
 "nbformat": 4,
 "nbformat_minor": 4
}
