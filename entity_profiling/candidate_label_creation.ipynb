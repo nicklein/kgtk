{
 "cells": [
  {
   "cell_type": "markdown",
   "metadata": {},
   "source": [
    "# Re-implementing procedure outlined in \"Entity Profiling in Knowledge Graphs\" (Zhang Et al.)\n",
    "# This notebook will implement the candidate label creation step\n",
    "Using a subset of wikidata related to Q44 (\"beer\")"
   ]
  },
  {
   "cell_type": "code",
   "execution_count": 68,
   "metadata": {},
   "outputs": [],
   "source": [
    "import os"
   ]
  },
  {
   "cell_type": "code",
   "execution_count": 69,
   "metadata": {},
   "outputs": [],
   "source": [
    "work_dir = \"/Users/nicklein/Documents/grad_school/Research/data\""
   ]
  },
  {
   "cell_type": "code",
   "execution_count": 70,
   "metadata": {},
   "outputs": [],
   "source": [
    "os.environ['STORE'] = \"{}/wikidata.sqlite3.db\".format(work_dir)\n",
    "os.environ['DATA'] = \"{}/Q44\".format(work_dir)\n",
    "os.environ['NAME'] = \"Q44\"\n",
    "os.environ[\"OUT\"] = \"{}/Q44_profiler_output\".format(work_dir)"
   ]
  },
  {
   "cell_type": "markdown",
   "metadata": {},
   "source": [
    "Helper function for executing commands"
   ]
  },
  {
   "cell_type": "code",
   "execution_count": 71,
   "metadata": {},
   "outputs": [],
   "source": [
    "def run_command(command, substitution_dictionary = {}):\n",
    "    \"\"\"Run a templetized command.\"\"\"\n",
    "    #cmd = command.replace(\"NAME\", subset_name)\n",
    "    for k, v in substitution_dictionary.items():\n",
    "        cmd = cmd.replace(k, v)\n",
    "    \n",
    "    print(cmd)\n",
    "    output = subprocess.run([cmd], shell=True, universal_newlines=True, stdout=subprocess.PIPE, stderr=subprocess.PIPE)\n",
    "    print(output.stdout)\n",
    "    print(output.stderr)"
   ]
  },
  {
   "cell_type": "markdown",
   "metadata": {},
   "source": [
    "## Examples of using query command:\n",
    "### Ex - Counting instances of <type, property, value> along with the property label"
   ]
  },
  {
   "cell_type": "code",
   "execution_count": 131,
   "metadata": {},
   "outputs": [
    {
     "name": "stdout",
     "output_type": "stream",
     "text": [
      "type\tprop\tvalue\tcount\tproperty_label\r\n",
      "Q1066984\tP1343\tQ97879676\t3\t'described by source'@en\r\n",
      "Q1066984\tP1343\tQ316838\t2\t'described by source'@en\r\n",
      "Q1066984\tP17\tQ154195\t2\t'country'@en\r\n",
      "Q1066984\tP17\tQ183\t2\t'country'@en\r\n",
      "Q1066984\tP17\tQ2415901\t2\t'country'@en\r\n"
     ]
    }
   ],
   "source": [
    "!kgtk query -i $DATA/$NAME.part.wikibase-item.tsv -i $DATA/$NAME.label.en.tsv --graph-cache $STORE \\\n",
    "--match 'item: (n1)-[l {label: p}]->(n2), item: (n1)-[:P31]->(type), label: (p)-[:label]->(lab)' \\\n",
    "--return 'distinct type as type, l.label as prop, n2 as value, count(n1) as count, lab as property_label' \\\n",
    "--where 'lab.kgtk_lqstring_lang_suffix = \"en\"' \\\n",
    "--order-by 'type, count(n1) desc' \\\n",
    "--limit 5"
   ]
  },
  {
   "cell_type": "markdown",
   "metadata": {},
   "source": [
    "### Ex - Counting property, value pairs for time properties"
   ]
  },
  {
   "cell_type": "code",
   "execution_count": 165,
   "metadata": {},
   "outputs": [
    {
     "name": "stdout",
     "output_type": "stream",
     "text": [
      "prop\tproperty_label\tval\tcount\r\n",
      "P571\t'inception'@en\t1991\t20\r\n",
      "P571\t'inception'@en\t1918\t14\r\n",
      "P571\t'inception'@en\t1989\t8\r\n",
      "P571\t'inception'@en\t1996\t8\r\n",
      "P571\t'inception'@en\t1821\t6\r\n"
     ]
    }
   ],
   "source": [
    "!kgtk query -i $DATA/$NAME.part.time.tsv -i $DATA/$NAME.label.en.tsv --graph-cache $STORE \\\n",
    "--match 'time: (n1)-[l {label: p}]->(n2), label: (p)-[:label]->(lab)' \\\n",
    "--return 'distinct l.label as prop, lab as property_label, kgtk_date_year(n2) as val, count(n1) as count' \\\n",
    "--where 'lab.kgtk_lqstring_lang_suffix = \"en\"' \\\n",
    "--order-by 'count(n1) desc' \\\n",
    "--limit 5"
   ]
  },
  {
   "cell_type": "markdown",
   "metadata": {},
   "source": [
    "### Ex- Counting property, value pairs for quantity properties"
   ]
  },
  {
   "cell_type": "code",
   "execution_count": 133,
   "metadata": {},
   "outputs": [
    {
     "name": "stdout",
     "output_type": "stream",
     "text": [
      "prop\tproperty_label\tvalue\tcount\r\n",
      "P3000\t'marriageable age'@en\t+18Q24564698\t56\r\n",
      "P2997\t'age of majority'@en\t+18Q24564698\t52\r\n",
      "P1279\t'inflation rate'@en\t+1.7Q11229\t41\r\n",
      "P2884\t'mains voltage'@en\t+230Q25250\t40\r\n",
      "P1279\t'inflation rate'@en\t+1.8Q11229\t38\r\n"
     ]
    }
   ],
   "source": [
    "!kgtk query -i $DATA/$NAME.part.quantity.tsv -i $DATA/$NAME.label.en.tsv --graph-cache $STORE \\\n",
    "--match 'quantity: (n1)-[l {label: p}]->(n2), label: (p)-[:label]->(lab)' \\\n",
    "--return 'distinct l.label as prop, lab as property_label, n2 as value, count(n1) as count' \\\n",
    "--where 'lab.kgtk_lqstring_lang_suffix = \"en\"' \\\n",
    "--order-by 'count(n1) desc' \\\n",
    "--limit 5"
   ]
  },
  {
   "cell_type": "markdown",
   "metadata": {},
   "source": [
    "# Outline of procedure:\n",
    "**Goal**:<br>\n",
    "We want to create candidate label sets including\n",
    "- Attribute value labels (type, property, *attribute*)\n",
    "- Realtional entity labels (type, property, *entity*)\n",
    "- Attribute interval labels (type, property, *range of attribute values*)\n",
    "- Relational attribute labels (type, property, *attribute or attribute range of another entity*)\n",
    "\n",
    "To enable subsequent filtering of these labels, we also want to count:\n",
    "- The number of entities of each type\n",
    "- The number of entities that match each label (call these \"positives\")\n",
    "    \n",
    "**Steps**:\n",
    "1. Count the number of entities of each type\n",
    "    - *optional future step*: define type with P279 transitive closure in addition to P31. \n",
    "2. Create AVLs trivially from attribute files along with counts of the positive entities for each label\n",
    "    - **TODO:** create labels for all types that we care about. Currently just string and time.date. Should have the other time precisions, and also quantities\n",
    "    - At this step, we should also contribute to a mapping of entities --> matching attribute labels to facilitate creating RALs in a later step  \n",
    "3. Create RELs trivially from entity relation files along with counts of positive entities for each label\n",
    "4. Create AILs by discretizing the AVLs we found, along with counts of positive entities for each label\n",
    "    - This can be done using the counts that we already have\n",
    "    - We'll likely try a naive approach at first such as hardcoding a bucket size for each numeric type we care about\n",
    "    - At this step, we should also contribute to a mapping of entities --> matching attribute labels to facilitate creating RALs in a later step\n",
    "    - **kind-of Issue:** in naive bucketing method, run into mod operator doesn't seem to be supported in query\n",
    "    - **TODO:** make table of type/property --> low_bound/up_bound buckets to be used instead of using mod operator.\n",
    "    - to do the above it would be nice to have some -/+ infinity value. Otherwise, need logic like \"WHERE low_bound is null OR low_bound < value\" - this might work?\n",
    "5. Create RALs by using the REL table and the entities --> attribute labels table that built in steps 2 and 4. Also keep track of counts of positive entities for each label\n",
    "    - **Progress:** I've implemented a query that can create RALs from scratch (ie not using tables built in previous steps).\n",
    "    - Also now implemented RALs by using tables made in previous steps. Comparing results to the from-scratch query, they do not seem to match. Looking into where the problem is.\n",
    "6. Combine the 4 label tables\n",
    "    - **TODO**\n",
    "7. Filter the labels using a simple heuristic based on counts\n",
    "    - **TODO**\n",
    "    \n",
    "*Misc issues encountered*\n",
    "- Finding that some of the kgtk type interpretation functions aren't recognized (e.g. I can use kgtk_date_year no problem, but kgtk_quantity_number_int not recognized)\n",
    "- Is there a way to make an id by concatenating multiple values in the row? I found stringify, but not sure how to concatenate strings.\n",
    "    - could be useful for giving labels ids and then we could look up what labels an entity had by their id rather than type prop and value\n",
    "    - --> yes. kgtk add-id\n",
    "- kgtk rename-columns doesn't always work when input file == output file. Getting around this right now by creating extra temp files... \n",
    "- mod operator not supported in a query?\n",
    "- is there a notion of infinity/-infinity that I can put in a kgtk file?"
   ]
  },
  {
   "cell_type": "markdown",
   "metadata": {},
   "source": [
    "## 1. Count number of entities of each type:"
   ]
  },
  {
   "cell_type": "code",
   "execution_count": 213,
   "metadata": {},
   "outputs": [],
   "source": [
    "!kgtk query -i $DATA/$NAME.part.wikibase-item.tsv -i $DATA/$NAME.label.en.tsv -o $OUT/$NAME.entity_counts_per_type.tsv --graph-cache $STORE \\\n",
    "--match 'item: (n1)-[:P31]->(type), label: (type)-[:label]->(lab)' \\\n",
    "--return 'distinct type as node1_x, count(distinct n1) as node2_x, lab as entity_label, \"_\" as id' \\\n",
    "--where 'lab.kgtk_lqstring_lang_suffix = \"en\"' \\\n",
    "--order-by 'count(distinct n1) desc' \\"
   ]
  },
  {
   "cell_type": "code",
   "execution_count": 214,
   "metadata": {},
   "outputs": [],
   "source": [
    "!kgtk rename-columns -i $OUT/$NAME.entity_counts_per_type.tsv -o $OUT/$NAME.entity_counts_per_type.tsv \\\n",
    "--old-columns node1_x node2_x --new-columns node1 node2 "
   ]
  },
  {
   "cell_type": "code",
   "execution_count": 160,
   "metadata": {},
   "outputs": [
    {
     "name": "stdout",
     "output_type": "stream",
     "text": [
      "node1\tnode2\tentity_label\tid\r\n",
      "Q131734\t87\t'brewery'@en\t_\r\n",
      "Q3624078\t69\t'sovereign state'@en\t_\r\n",
      "Q4830453\t50\t'business'@en\t_\r\n",
      "Q6256\t26\t'country'@en\t_\r\n"
     ]
    }
   ],
   "source": [
    "!head -5 $OUT/$NAME.entity_counts_per_type.tsv"
   ]
  },
  {
   "cell_type": "markdown",
   "metadata": {},
   "source": [
    "kgtk_quantity_number_int not recognized below, but otherwise, can use the above tabel like so:"
   ]
  },
  {
   "cell_type": "code",
   "execution_count": 171,
   "metadata": {},
   "outputs": [
    {
     "name": "stdout",
     "output_type": "stream",
     "text": [
      "no such function: kgtk_number\r\n",
      "\r\n"
     ]
    }
   ],
   "source": [
    "!kgtk query -i $OUT/$NAME.entity_counts_per_type.tsv --graph-cache $STORE \\\n",
    "--match 'counts: (t)-[]->(c)' \\\n",
    "--return 't as type, c as count' \\\n",
    "--order-by 'kgtk_quantity_number_int(c) desc' \\\n",
    "--limit 5"
   ]
  },
  {
   "cell_type": "markdown",
   "metadata": {},
   "source": [
    "## 2. Create AVLs with counts of positive entities\n",
    "### Keep numeric valued labels and non-numeric valued labels separate to help with discretization at a later step\n",
    "### 2.a. Keep track of entities --> matching attribute labels for future use\n",
    "\n",
    "\n",
    "### todo - use a loop to do this for all types we care about (e.g. day / month / year) currently just doing this for years"
   ]
  },
  {
   "cell_type": "markdown",
   "metadata": {},
   "source": [
    "Creating mapping of entity --> string attribute labels"
   ]
  },
  {
   "cell_type": "code",
   "execution_count": 241,
   "metadata": {},
   "outputs": [],
   "source": [
    "!kgtk query -i $DATA/$NAME.part.wikibase-item.tsv -i $DATA/$NAME.part.string.tsv -i $DATA/$NAME.label.en.tsv \\\n",
    "-o $OUT/$NAME.entity_attribute_labels_string_temp.tsv --graph-cache $STORE \\\n",
    "--match 'string: (n1)-[l {label:p}]->(n2), item: (n1)-[:P31]->(type), label: (p)-[:label]->(lab)' \\\n",
    "--return 'n1 as entity, type as type, p as prop, n2 as value, lab as property_label, \"_\" as id' \\\n",
    "--where 'lab.kgtk_lqstring_lang_suffix = \"en\"' \\\n",
    "--order-by 'n1'"
   ]
  },
  {
   "cell_type": "code",
   "execution_count": 242,
   "metadata": {},
   "outputs": [],
   "source": [
    "!kgtk rename-columns -i $OUT/$NAME.entity_attribute_labels_string_temp.tsv \\\n",
    "-o $OUT/$NAME.entity_attribute_labels_string.tsv \\\n",
    "--old-columns type prop --new-columns node1 node2"
   ]
  },
  {
   "cell_type": "code",
   "execution_count": 243,
   "metadata": {},
   "outputs": [
    {
     "name": "stdout",
     "output_type": "stream",
     "text": [
      "entity\tnode1\tnode2\tvalue\tproperty_label\tid\r\n",
      "Q1000597\tQ3957\tP281\t\"DE14\"\t'postal code'@en\t_\r\n",
      "Q1000597\tQ3957\tP373\t\"Burton upon Trent\"\t'Commons category'@en\t_\r\n",
      "Q1000597\tQ3957\tP473\t\"01283\"\t'local dialing code'@en\t_\r\n",
      "Q1000597\tQ3957\tP613\t\"SK245225\"\t'OS grid reference'@en\t_\r\n"
     ]
    }
   ],
   "source": [
    "!head -5 $OUT/$NAME.entity_attribute_labels_string.tsv"
   ]
  },
  {
   "cell_type": "markdown",
   "metadata": {},
   "source": [
    "Aggregating distinct labels w/ positive entity counts"
   ]
  },
  {
   "cell_type": "code",
   "execution_count": 249,
   "metadata": {},
   "outputs": [],
   "source": [
    "!kgtk query -i $OUT/$NAME.entity_attribute_labels_string.tsv \\\n",
    "-o $OUT/$NAME.candidate_labels_avl_string_temp.tsv --graph-cache $STORE \\\n",
    "--match 'labels: (n1)-[l {value:val, property_label:lab, entity:e}]->(n2)' \\\n",
    "--return 'distinct n1 as type, n2 as prop, val as value, count(distinct e) as positives, lab as property_label, \"_\" as id' \\\n",
    "--order-by 'count(distinct e) desc'"
   ]
  },
  {
   "cell_type": "code",
   "execution_count": 250,
   "metadata": {},
   "outputs": [],
   "source": [
    "!kgtk rename-columns -i $OUT/$NAME.candidate_labels_avl_string_temp.tsv \\\n",
    "-o $OUT/$NAME.candidate_labels_avl_string.tsv \\\n",
    "--old-columns type prop --new-columns node1 node2"
   ]
  },
  {
   "cell_type": "code",
   "execution_count": 251,
   "metadata": {
    "scrolled": true
   },
   "outputs": [
    {
     "name": "stdout",
     "output_type": "stream",
     "text": [
      "node1\tnode2\tvalue\tpositives\tproperty_label\tid\r\n",
      "Q3624078\tP3238\t\"0\"\t34\t'trunk prefix'@en\t_\r\n",
      "Q3624078\tP3238\tnovalue\t14\t'trunk prefix'@en\t_\r\n",
      "Q6256\tP3238\t\"0\"\t12\t'trunk prefix'@en\t_\r\n",
      "Q179164\tP3238\t\"0\"\t9\t'trunk prefix'@en\t_\r\n"
     ]
    }
   ],
   "source": [
    "!head -5 $OUT/$NAME.candidate_labels_avl_string.tsv"
   ]
  },
  {
   "cell_type": "markdown",
   "metadata": {},
   "source": [
    "Creating mapping of entity --> attribute labels of type time (precision = year)"
   ]
  },
  {
   "cell_type": "code",
   "execution_count": 257,
   "metadata": {},
   "outputs": [],
   "source": [
    "!kgtk query -i $DATA/$NAME.part.wikibase-item.tsv -i $DATA/$NAME.part.time.tsv -i $DATA/$NAME.label.en.tsv \\\n",
    "-o $OUT/$NAME.entity_attribute_labels_time.year_temp.tsv --graph-cache $STORE \\\n",
    "--match 'time: (n1)-[l {label:p}]->(n2), item: (n1)-[:P31]->(type), label: (p)-[:label]->(lab)' \\\n",
    "--return 'n1 as entity, type as type, p as prop, kgtk_date_year(n2) as value, lab as property_label, \"_\" as id' \\\n",
    "--where 'lab.kgtk_lqstring_lang_suffix = \"en\" AND kgtk_date_precision(n2) = 9' \\\n",
    "--order-by 'n1'"
   ]
  },
  {
   "cell_type": "code",
   "execution_count": 258,
   "metadata": {},
   "outputs": [],
   "source": [
    "!kgtk rename-columns -i $OUT/$NAME.entity_attribute_labels_time.year_temp.tsv \\\n",
    "-o $OUT/$NAME.entity_attribute_labels_time.year.tsv \\\n",
    "--old-columns type prop --new-columns node1 node2"
   ]
  },
  {
   "cell_type": "code",
   "execution_count": 259,
   "metadata": {},
   "outputs": [
    {
     "name": "stdout",
     "output_type": "stream",
     "text": [
      "entity\tnode1\tnode2\tvalue\tproperty_label\tid\r\n",
      "Q1019\tQ112099\tP571\t1960\t'inception'@en\t_\r\n",
      "Q1019\tQ112099\tP571\t1960\t'inception'@en\t_\r\n",
      "Q1019\tQ3624078\tP571\t1960\t'inception'@en\t_\r\n",
      "Q1019\tQ3624078\tP571\t1960\t'inception'@en\t_\r\n"
     ]
    }
   ],
   "source": [
    "!head -5 $OUT/$NAME.entity_attribute_labels_time.year.tsv"
   ]
  },
  {
   "cell_type": "markdown",
   "metadata": {},
   "source": [
    "Aggregating distinct labels w/ positive entity counts"
   ]
  },
  {
   "cell_type": "code",
   "execution_count": 260,
   "metadata": {},
   "outputs": [],
   "source": [
    "!kgtk query -i $OUT/$NAME.entity_attribute_labels_time.year.tsv \\\n",
    "-o $OUT/$NAME.candidate_labels_avl_time.year_temp.tsv --graph-cache $STORE \\\n",
    "--match 'labels: (n1)-[l {value:val, property_label:lab, entity:e}]->(n2)' \\\n",
    "--return 'distinct n1 as type, n2 as prop, val as value, count(distinct e) as positives, lab as property_label, \"_\" as id' \\\n",
    "--order-by 'count(distinct e) desc'"
   ]
  },
  {
   "cell_type": "code",
   "execution_count": 261,
   "metadata": {},
   "outputs": [],
   "source": [
    "!kgtk rename-columns -i $OUT/$NAME.candidate_labels_avl_time.year_temp.tsv \\\n",
    "-o $OUT/$NAME.candidate_labels_avl_time.year.tsv \\\n",
    "--old-columns type prop --new-columns node1 node2"
   ]
  },
  {
   "cell_type": "code",
   "execution_count": 262,
   "metadata": {
    "scrolled": true
   },
   "outputs": [
    {
     "name": "stdout",
     "output_type": "stream",
     "text": [
      "node1\tnode2\tvalue\tpositives\tproperty_label\tid\r\n",
      "Q3624078\tP571\t1991\t3\t'inception'@en\t_\r\n",
      "Q123480\tP571\t1991\t2\t'inception'@en\t_\r\n",
      "Q131734\tP571\t1985\t2\t'inception'@en\t_\r\n",
      "Q131734\tP571\t1996\t2\t'inception'@en\t_\r\n"
     ]
    }
   ],
   "source": [
    "!head -5 $OUT/$NAME.candidate_labels_avl_time.year.tsv"
   ]
  },
  {
   "cell_type": "markdown",
   "metadata": {},
   "source": [
    "## 3. Create RELs with counts of positive entities"
   ]
  },
  {
   "cell_type": "code",
   "execution_count": 272,
   "metadata": {},
   "outputs": [],
   "source": [
    "!kgtk query -i $DATA/$NAME.part.wikibase-item.tsv -i $DATA/$NAME.label.en.tsv \\\n",
    "-o $OUT/$NAME.candidate_labels_rel_item_temp.tsv --graph-cache $STORE \\\n",
    "--match 'item: (n1)-[l {label:p}]->(n2), item: (n1)-[:P31]->(type), label: (p)-[:label]->(lab)' \\\n",
    "--return 'distinct type as type, p as prop, n2 as value, count(distinct n1) as positives, lab as property_label, \"_\" as id' \\\n",
    "--where 'lab.kgtk_lqstring_lang_suffix = \"en\"' \\\n",
    "--order-by 'count(distinct n1) desc'"
   ]
  },
  {
   "cell_type": "code",
   "execution_count": 273,
   "metadata": {},
   "outputs": [],
   "source": [
    "!kgtk rename-columns -i $OUT/$NAME.candidate_labels_rel_item_temp.tsv \\\n",
    "-o $OUT/$NAME.candidate_labels_rel_item.tsv \\\n",
    "--old-columns type prop --new-columns node1 node2"
   ]
  },
  {
   "cell_type": "code",
   "execution_count": 275,
   "metadata": {},
   "outputs": [
    {
     "name": "stdout",
     "output_type": "stream",
     "text": [
      "node1\tnode2\tvalue\tpositives\tproperty_label\tid\r\n",
      "Q131734\tP452\tQ869095\t77\t'industry'@en\t_\r\n",
      "Q3624078\tP463\tQ1065\t68\t'member of'@en\t_\r\n",
      "Q3624078\tP463\tQ7817\t67\t'member of'@en\t_\r\n",
      "Q3624078\tP530\tQ183\t67\t'diplomatic relation'@en\t_\r\n"
     ]
    }
   ],
   "source": [
    "!head -5 $OUT/$NAME.candidate_labels_rel_item.tsv"
   ]
  },
  {
   "cell_type": "markdown",
   "metadata": {},
   "source": [
    "## 4. Create AILs with counts of positive entities\n",
    "### 4.a. Keep track of entities --> matching attribute labels for future use\n"
   ]
  },
  {
   "cell_type": "markdown",
   "metadata": {},
   "source": [
    "Just implementing a naive hard-coded bucket-size at first for time.date attribute labels\n",
    "\n",
    "**issue:** mod operator doesn't seem to be supported here..\n",
    "\n",
    "**TODO:** make table of type/property --> low_bound/up_bound buckets to be used below instead.\n",
    "\n",
    "**issue:** to do the above it would be nice to have some -/+ infinity value. Otherwise, need logic like \"WHERE low_bound is null OR low_bound < value\" - this might work?"
   ]
  },
  {
   "cell_type": "code",
   "execution_count": 284,
   "metadata": {},
   "outputs": [
    {
     "name": "stdout",
     "output_type": "stream",
     "text": [
      "Unhandled expression type: ('Mod', {'arg1': ('Variable', {'name': 'val'}), 'arg2': ('Literal', {'value': 5})})\r\n",
      "\r\n"
     ]
    }
   ],
   "source": [
    "!kgtk query -i $OUT/$NAME.entity_attribute_labels_time.year.tsv \\\n",
    "--graph-cache $STORE \\\n",
    "--match 'labels: (n1)-[l {value:val, property_label:lab, entity:e}]->(n2)' \\\n",
    "--return 'e as entity, n1 as type, n2 as prop, (val - (val % 5)) as low_bound, lab as property_label, \"_\" as id' \\\n",
    "--order-by 'e' \\\n",
    "--limit 5"
   ]
  },
  {
   "cell_type": "markdown",
   "metadata": {},
   "source": [
    "## 5. Create RALs with counts of positive entities"
   ]
  },
  {
   "cell_type": "markdown",
   "metadata": {},
   "source": [
    "Here is an idea of what kind of values we should find (creating RALs from scratch for string attributes only)"
   ]
  },
  {
   "cell_type": "code",
   "execution_count": 130,
   "metadata": {},
   "outputs": [
    {
     "name": "stdout",
     "output_type": "stream",
     "text": [
      "type1\tprop1\ttype2\tprop2\tvalue\tpositives\tprop1_label\tprop2_label\n",
      "Q131734\tP452\tQ8148\tP1056\tQ44\t77\t'industry'@en\t'product or material produced'@en\n",
      "Q131734\tP452\tQ8148\tP1343\tQ2041543\t77\t'industry'@en\t'described by source'@en\n",
      "Q131734\tP452\tQ8148\tP361\tQ26705422\t77\t'industry'@en\t'part of'@en\n",
      "Q131734\tP452\tQ8148\tP452\tQ1365365\t77\t'industry'@en\t'industry'@en\n",
      "Q131734\tP452\tQ8148\tP910\tQ8311121\t77\t'industry'@en\t'topic\\\\\\\\\\\\\\\\'s main category'@en\n",
      "Q131734\tP17\tQ3624078\tP1343\tQ19180675\t70\t'country'@en\t'described by source'@en\n",
      "Q131734\tP17\tQ3624078\tP463\tQ1043527\t70\t'country'@en\t'member of'@en\n",
      "Q131734\tP17\tQ3624078\tP463\tQ1065\t70\t'country'@en\t'member of'@en\n",
      "Q131734\tP17\tQ3624078\tP463\tQ170424\t70\t'country'@en\t'member of'@en\n",
      "Q131734\tP17\tQ3624078\tP463\tQ17495\t70\t'country'@en\t'member of'@en\n"
     ]
    }
   ],
   "source": [
    "!kgtk query -i $DATA/$NAME.part.wikibase-item.tsv -i $DATA/$NAME.part.string.tsv -i $DATA/$NAME.label.en.tsv \\\n",
    "--graph-cache $STORE \\\n",
    "--match 'item: (n1)-[l1 {label:p1}]->(n2), item: (n1)-[:P31]->(type1), label: (p1)-[:label]->(lab1), item: (n2)-[l2 {label:p2}]->(n3), item: (n2)-[:P31]->(type2), label: (p2)-[:label]->(lab2)' \\\n",
    "--return 'distinct type1 as type1, p1 as prop1, type2 as type2, p2 as prop2, n3 as value, count(distinct n1) as positives, lab1 as prop1_label, lab2 as prop2_label' \\\n",
    "--where 'lab1.kgtk_lqstring_lang_suffix = \"en\"' \\\n",
    "--where 'lab2.kgtk_lqstring_lang_suffix = \"en\"' \\\n",
    "--order-by 'count(distinct n1) desc' \\\n",
    "--limit 10"
   ]
  },
  {
   "cell_type": "markdown",
   "metadata": {},
   "source": [
    "Now using the REL table and the entities --> attribute labels table that we built in steps 2 and 4. Also keep track of counts of positive entities for each label"
   ]
  },
  {
   "cell_type": "markdown",
   "metadata": {},
   "source": [
    "**NOTE:** It looks like having all of the entity --> labels mappings together in one file would be nice here. I don't think there is a need to keep these separate? Maybe keep AVL and AIL separate."
   ]
  },
  {
   "cell_type": "markdown",
   "metadata": {},
   "source": [
    "**TODO:** Create RALs for all of the attribute labels (currently done for only one of the two attribute types that we have AVLs for, and will need to do for additional AVLs and AILs once they are created)"
   ]
  },
  {
   "cell_type": "code",
   "execution_count": 294,
   "metadata": {},
   "outputs": [
    {
     "name": "stdout",
     "output_type": "stream",
     "text": [
      "no such function: int\r\n",
      "\r\n"
     ]
    }
   ],
   "source": [
    "!kgtk query -i $OUT/$NAME.candidate_labels_rel_item.tsv -i $OUT/$NAME.entity_attribute_labels_string.tsv \\\n",
    "--graph-cache $STORE \\\n",
    "--match 'rel: (t1)-[l1 {value:v1, positives:num_pos}]->(p1), entity_attribute: (t2)-[l {entity:v1, value:v2}]->(p2)' \\\n",
    "--return 't1 as type, p1 as prop, t2 as value_type, p2 as value_prop, v2 as value_val, int(num_pos) as positives, \"_\" as id' \\\n",
    "--where 't1 = \"Q131734\" AND p1 = \"P452\"' \\\n",
    "--limit 10"
   ]
  },
  {
   "cell_type": "markdown",
   "metadata": {},
   "source": [
    "## 6. Combining generated labels into a single file"
   ]
  },
  {
   "cell_type": "code",
   "execution_count": null,
   "metadata": {},
   "outputs": [],
   "source": []
  },
  {
   "cell_type": "markdown",
   "metadata": {},
   "source": [
    "## 7. Filtering candidate labels - This can go in a separate notebook\n",
    "Simple rule-based filter to remove labels that are trivially either unrepresentative or indistinctive"
   ]
  },
  {
   "cell_type": "code",
   "execution_count": null,
   "metadata": {},
   "outputs": [],
   "source": []
  }
 ],
 "metadata": {
  "kernelspec": {
   "display_name": "Python [conda env:kgtk-env] *",
   "language": "python",
   "name": "conda-env-kgtk-env-py"
  },
  "language_info": {
   "codemirror_mode": {
    "name": "ipython",
    "version": 3
   },
   "file_extension": ".py",
   "mimetype": "text/x-python",
   "name": "python",
   "nbconvert_exporter": "python",
   "pygments_lexer": "ipython3",
   "version": "3.7.8"
  }
 },
 "nbformat": 4,
 "nbformat_minor": 4
}
