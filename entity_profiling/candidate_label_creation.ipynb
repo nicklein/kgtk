{
 "cells": [
  {
   "cell_type": "markdown",
   "metadata": {},
   "source": [
    "# Re-implementing procedure outlined in \"Entity Profiling in Knowledge Graphs\" (Zhang Et al.)\n",
    "# This notebook will implement the candidate label creation step\n",
    "Using a subset of wikidata related to Q44 (\"beer\")"
   ]
  },
  {
   "cell_type": "code",
   "execution_count": 68,
   "metadata": {},
   "outputs": [],
   "source": [
    "import os"
   ]
  },
  {
   "cell_type": "code",
   "execution_count": 69,
   "metadata": {},
   "outputs": [],
   "source": [
    "work_dir = \"/Users/nicklein/Documents/grad_school/Research/data\""
   ]
  },
  {
   "cell_type": "code",
   "execution_count": 70,
   "metadata": {},
   "outputs": [],
   "source": [
    "os.environ['STORE'] = \"{}/wikidata.sqlite3.db\".format(work_dir)\n",
    "os.environ['DATA'] = \"{}/Q44\".format(work_dir)\n",
    "os.environ['NAME'] = \"Q44\"\n",
    "os.environ[\"OUT\"] = \"{}/Q44_profiler_output\".format(work_dir)"
   ]
  },
  {
   "cell_type": "markdown",
   "metadata": {},
   "source": [
    "Helper function for executing commands"
   ]
  },
  {
   "cell_type": "code",
   "execution_count": 71,
   "metadata": {},
   "outputs": [],
   "source": [
    "def run_command(command, substitution_dictionary = {}):\n",
    "    \"\"\"Run a templetized command.\"\"\"\n",
    "    #cmd = command.replace(\"NAME\", subset_name)\n",
    "    for k, v in substitution_dictionary.items():\n",
    "        cmd = cmd.replace(k, v)\n",
    "    \n",
    "    print(cmd)\n",
    "    output = subprocess.run([cmd], shell=True, universal_newlines=True, stdout=subprocess.PIPE, stderr=subprocess.PIPE)\n",
    "    print(output.stdout)\n",
    "    print(output.stderr)"
   ]
  },
  {
   "cell_type": "markdown",
   "metadata": {},
   "source": [
    "## Examples of using query command:\n",
    "### Ex - Counting instances of <type, property, value> along with the property label"
   ]
  },
  {
   "cell_type": "code",
   "execution_count": 131,
   "metadata": {},
   "outputs": [
    {
     "name": "stdout",
     "output_type": "stream",
     "text": [
      "type\tprop\tvalue\tcount\tproperty_label\r\n",
      "Q1066984\tP1343\tQ97879676\t3\t'described by source'@en\r\n",
      "Q1066984\tP1343\tQ316838\t2\t'described by source'@en\r\n",
      "Q1066984\tP17\tQ154195\t2\t'country'@en\r\n",
      "Q1066984\tP17\tQ183\t2\t'country'@en\r\n",
      "Q1066984\tP17\tQ2415901\t2\t'country'@en\r\n"
     ]
    }
   ],
   "source": [
    "!kgtk query -i $DATA/$NAME.part.wikibase-item.tsv -i $DATA/$NAME.label.en.tsv --graph-cache $STORE \\\n",
    "--match 'item: (n1)-[l {label: p}]->(n2), item: (n1)-[:P31]->(type), label: (p)-[:label]->(lab)' \\\n",
    "--return 'distinct type as type, l.label as prop, n2 as value, count(n1) as count, lab as property_label' \\\n",
    "--where 'lab.kgtk_lqstring_lang_suffix = \"en\"' \\\n",
    "--order-by 'type, count(n1) desc' \\\n",
    "--limit 5"
   ]
  },
  {
   "cell_type": "markdown",
   "metadata": {},
   "source": [
    "### Ex - Counting property, value pairs for time properties"
   ]
  },
  {
   "cell_type": "code",
   "execution_count": 132,
   "metadata": {},
   "outputs": [
    {
     "name": "stdout",
     "output_type": "stream",
     "text": [
      "prop\tproperty_label\tval\tcount\r\n",
      "P571\t'inception'@en\t^1991-00-00T00:00:00Z/9\t8\r\n",
      "P571\t'inception'@en\t^1989-00-00T00:00:00Z/9\t6\r\n",
      "P571\t'inception'@en\t^1994-00-00T00:00:00Z/9\t6\r\n",
      "P571\t'inception'@en\t^1996-00-00T00:00:00Z/9\t6\r\n",
      "P571\t'inception'@en\t^1825-01-01T00:00:00Z/9\t4\r\n"
     ]
    }
   ],
   "source": [
    "!kgtk query -i $DATA/$NAME.part.time.tsv -i $DATA/$NAME.label.en.tsv --graph-cache $STORE \\\n",
    "--match 'time: (n1)-[l {label: p}]->(n2), label: (p)-[:label]->(lab)' \\\n",
    "--return 'distinct l.label as prop, lab as property_label, n2 as val, count(n1) as count' \\\n",
    "--where 'lab.kgtk_lqstring_lang_suffix = \"en\"' \\\n",
    "--order-by 'count(n1) desc' \\\n",
    "--limit 5"
   ]
  },
  {
   "cell_type": "markdown",
   "metadata": {},
   "source": [
    "### Ex- Counting property, value pairs for quantity properties"
   ]
  },
  {
   "cell_type": "code",
   "execution_count": 133,
   "metadata": {},
   "outputs": [
    {
     "name": "stdout",
     "output_type": "stream",
     "text": [
      "prop\tproperty_label\tvalue\tcount\r\n",
      "P3000\t'marriageable age'@en\t+18Q24564698\t56\r\n",
      "P2997\t'age of majority'@en\t+18Q24564698\t52\r\n",
      "P1279\t'inflation rate'@en\t+1.7Q11229\t41\r\n",
      "P2884\t'mains voltage'@en\t+230Q25250\t40\r\n",
      "P1279\t'inflation rate'@en\t+1.8Q11229\t38\r\n"
     ]
    }
   ],
   "source": [
    "!kgtk query -i $DATA/$NAME.part.quantity.tsv -i $DATA/$NAME.label.en.tsv --graph-cache $STORE \\\n",
    "--match 'quantity: (n1)-[l {label: p}]->(n2), label: (p)-[:label]->(lab)' \\\n",
    "--return 'distinct l.label as prop, lab as property_label, n2 as value, count(n1) as count' \\\n",
    "--where 'lab.kgtk_lqstring_lang_suffix = \"en\"' \\\n",
    "--order-by 'count(n1) desc' \\\n",
    "--limit 5"
   ]
  },
  {
   "cell_type": "markdown",
   "metadata": {},
   "source": [
    "# Outline of procedure:\n",
    "**Goal**:<br>\n",
    "We want to create candidate label sets including\n",
    "- Attribute value labels (type, property, *attribute*)\n",
    "- Realtional entity labels (type, property, *entity*)\n",
    "- Attribute interval labels (type, property, *range of attribute values*)\n",
    "- Relational attribute labels (type, property, *attribute or attribute range of another entity*)\n",
    "\n",
    "To enable subsequent filtering of these labels, we also want to count:\n",
    "- The number of entities of each type\n",
    "- The number of entities that match each label (call these \"positives\")\n",
    "    \n",
    "**Steps**:\n",
    "1. Count the number of entities of each type\n",
    "    - **ISSUE:** cannot figure out how to format resulting table so I can use it in later kgtk commands\n",
    "2. Create AVLs trivially from attribute files along with counts of the positive entities for each label\n",
    "    - **ISSUE:** need to figure out how to call the right kgtk type-conversion function for each value. Pedro says there is a precision tag that I can make use of, but not sure how to do that.\n",
    "    - At this step, we should also contribute to a mapping of entities --> matching attribute labels to facilitate creating RALs in a later step\n",
    "        - **TODO**   \n",
    "3. Create RELs trivially from entity relation files along with counts of positive entities for each label\n",
    "    - **TODO** though should be very simple.\n",
    "4. Create AILs by discretizing the AVLs we found, along with counts of positive entities for each label\n",
    "    - This can be done using the counts that we already have\n",
    "    - We'll likely try a naive approach at first such as hardcoding a bucket size for each numeric type we care about\n",
    "    - At this step, we should also contribute to a mapping of entities --> matching attribute labels to facilitate creating RALs in a later step\n",
    "    - **TODO**\n",
    "5. Create RALs by using the REL table and the entities --> attribute labels table that built in steps 2 and 4. Also keep track of counts of positive entities for each label\n",
    "    - **Progress:** I've implemented a query that can create RALs from scratch (ie not using tables built in previous steps), but still need to implement this making use of the tables we built in previous steps.\n",
    "6. Combine the 4 label tables\n",
    "    - **TODO**\n",
    "7. Filter the labels using a simple heuristic based on counts\n",
    "    - **TODO**"
   ]
  },
  {
   "cell_type": "markdown",
   "metadata": {},
   "source": [
    "## 1. Count number of entities of each type:"
   ]
  },
  {
   "cell_type": "code",
   "execution_count": 98,
   "metadata": {},
   "outputs": [],
   "source": [
    "!kgtk query -i $DATA/$NAME.part.wikibase-item.tsv -i $DATA/$NAME.label.en.tsv -o $OUT/$NAME.entity_counts_per_type.tsv --graph-cache $STORE \\\n",
    "--match 'item: (n1)-[:P31]->(type), label: (type)-[:label]->(lab)' \\\n",
    "--return 'distinct type as type, count(distinct n1) as count, lab as entity_label' \\\n",
    "--where 'lab.kgtk_lqstring_lang_suffix = \"en\"' \\\n",
    "--order-by 'count(distinct n1) desc' \\"
   ]
  },
  {
   "cell_type": "code",
   "execution_count": 81,
   "metadata": {},
   "outputs": [
    {
     "name": "stdout",
     "output_type": "stream",
     "text": [
      "type\tcount\tentity_label\r\n",
      "Q131734\t87\t'brewery'@en\r\n",
      "Q3624078\t69\t'sovereign state'@en\r\n",
      "Q4830453\t50\t'business'@en\r\n",
      "Q6256\t26\t'country'@en\r\n"
     ]
    }
   ],
   "source": [
    "!head -5 $OUT/$NAME.entity_counts_per_type.tsv"
   ]
  },
  {
   "cell_type": "markdown",
   "metadata": {},
   "source": [
    "### Issue - how can I use these counts in future queries? Attempting to figure out correct syntax below"
   ]
  },
  {
   "cell_type": "code",
   "execution_count": 78,
   "metadata": {},
   "outputs": [
    {
     "name": "stdout",
     "output_type": "stream",
     "text": [
      "'node2'\r\n",
      "\r\n"
     ]
    }
   ],
   "source": [
    "!kgtk query -i $OUT/$NAME.entity_counts_per_type.tsv --graph-cache $STORE \\\n",
    "--match 'counts: (t:type)-[]->(c:count)' \\\n",
    "--return 't as type, c as count' \\\n",
    "--order-by 'c desc' \\\n",
    "--limit 10"
   ]
  },
  {
   "cell_type": "markdown",
   "metadata": {},
   "source": [
    "## 2. Create AVLs with counts of positive entities\n",
    "### 2.a. Keep track of entities --> matching attribute labels for future use (TODO)\n",
    "\n",
    "\n",
    "### Issue: Need to use kgtk type functions to interpret values as the correct type\n",
    "How do I determine if I am dealing with a time or with a year? Pedro says there is a precision tag that I can make use of, but not sure how to do that."
   ]
  },
  {
   "cell_type": "code",
   "execution_count": 134,
   "metadata": {},
   "outputs": [],
   "source": [
    "!kgtk query -i $DATA/$NAME.part.wikibase-item.tsv -i $DATA/$NAME.part.string.tsv -i $DATA/$NAME.label.en.tsv \\\n",
    "-o $OUT/$NAME.candidate_labels_avl_string.tsv --graph-cache $STORE \\\n",
    "--match 'string: (n1)-[l {label:p}]->(n2), item: (n1)-[:P31]->(type), label: (p)-[:label]->(lab)' \\\n",
    "--return 'distinct type as type, p as prop, n2 as value, count(distinct n1) as positives, lab as property_label' \\\n",
    "--where 'lab.kgtk_lqstring_lang_suffix = \"en\"' \\\n",
    "--order-by 'count(distinct n1) desc'"
   ]
  },
  {
   "cell_type": "code",
   "execution_count": 135,
   "metadata": {},
   "outputs": [
    {
     "name": "stdout",
     "output_type": "stream",
     "text": [
      "type\tprop\tvalue\tpositives\tproperty_label\r\n",
      "Q3624078\tP3238\t\"0\"\t34\t'trunk prefix'@en\r\n",
      "Q3624078\tP3238\tnovalue\t14\t'trunk prefix'@en\r\n",
      "Q6256\tP3238\t\"0\"\t12\t'trunk prefix'@en\r\n",
      "Q179164\tP3238\t\"0\"\t9\t'trunk prefix'@en\r\n"
     ]
    }
   ],
   "source": [
    "!head -5 $OUT/$NAME.candidate_labels_avl_string.tsv"
   ]
  },
  {
   "cell_type": "code",
   "execution_count": 136,
   "metadata": {},
   "outputs": [],
   "source": [
    "!kgtk query -i $DATA/$NAME.part.wikibase-item.tsv -i $DATA/$NAME.part.time.tsv -i $DATA/$NAME.label.en.tsv \\\n",
    "-o $OUT/$NAME.candidate_labels_avl_time.tsv --graph-cache $STORE \\\n",
    "--match 'time: (n1)-[l {label:p}]->(n2), item: (n1)-[:P31]->(type), label: (p)-[:label]->(lab)' \\\n",
    "--return 'distinct type as type, p as prop, n2 as value, count(distinct n1) as positives, lab as property_label' \\\n",
    "--where 'lab.kgtk_lqstring_lang_suffix = \"en\"' \\\n",
    "--order-by 'count(distinct n1) desc'"
   ]
  },
  {
   "cell_type": "code",
   "execution_count": 137,
   "metadata": {},
   "outputs": [
    {
     "name": "stdout",
     "output_type": "stream",
     "text": [
      "type\tprop\tvalue\tpositives\tproperty_label\r\n",
      "Q3624078\tP571\t^1991-00-00T00:00:00Z/9\t3\t'inception'@en\r\n",
      "Q123480\tP571\t^1991-00-00T00:00:00Z/9\t2\t'inception'@en\r\n",
      "Q131734\tP571\t^1985-01-01T00:00:00Z/9\t2\t'inception'@en\r\n",
      "Q131734\tP571\t^1996-00-00T00:00:00Z/9\t2\t'inception'@en\r\n"
     ]
    }
   ],
   "source": [
    "!head -5 $OUT/$NAME.candidate_labels_avl_time.tsv"
   ]
  },
  {
   "cell_type": "markdown",
   "metadata": {},
   "source": [
    "## 3. Create RELs with counts of positive entities"
   ]
  },
  {
   "cell_type": "code",
   "execution_count": null,
   "metadata": {},
   "outputs": [],
   "source": []
  },
  {
   "cell_type": "markdown",
   "metadata": {},
   "source": [
    "## 4. Create AILs with counts of positive entities\n",
    "### 4.a. Keep track of entities --> matching attribute labels for future use\n"
   ]
  },
  {
   "cell_type": "code",
   "execution_count": null,
   "metadata": {},
   "outputs": [],
   "source": []
  },
  {
   "cell_type": "markdown",
   "metadata": {},
   "source": [
    "## 5. Create RALs with counts of positive entities"
   ]
  },
  {
   "cell_type": "code",
   "execution_count": 130,
   "metadata": {},
   "outputs": [
    {
     "name": "stdout",
     "output_type": "stream",
     "text": [
      "type1\tprop1\ttype2\tprop2\tvalue\tpositives\tprop1_label\tprop2_label\n",
      "Q131734\tP452\tQ8148\tP1056\tQ44\t77\t'industry'@en\t'product or material produced'@en\n",
      "Q131734\tP452\tQ8148\tP1343\tQ2041543\t77\t'industry'@en\t'described by source'@en\n",
      "Q131734\tP452\tQ8148\tP361\tQ26705422\t77\t'industry'@en\t'part of'@en\n",
      "Q131734\tP452\tQ8148\tP452\tQ1365365\t77\t'industry'@en\t'industry'@en\n",
      "Q131734\tP452\tQ8148\tP910\tQ8311121\t77\t'industry'@en\t'topic\\\\\\\\\\\\\\\\'s main category'@en\n",
      "Q131734\tP17\tQ3624078\tP1343\tQ19180675\t70\t'country'@en\t'described by source'@en\n",
      "Q131734\tP17\tQ3624078\tP463\tQ1043527\t70\t'country'@en\t'member of'@en\n",
      "Q131734\tP17\tQ3624078\tP463\tQ1065\t70\t'country'@en\t'member of'@en\n",
      "Q131734\tP17\tQ3624078\tP463\tQ170424\t70\t'country'@en\t'member of'@en\n",
      "Q131734\tP17\tQ3624078\tP463\tQ17495\t70\t'country'@en\t'member of'@en\n"
     ]
    }
   ],
   "source": [
    "!kgtk query -i $DATA/$NAME.part.wikibase-item.tsv -i $DATA/$NAME.part.string.tsv -i $DATA/$NAME.label.en.tsv \\\n",
    "--graph-cache $STORE \\\n",
    "--match 'item: (n1)-[l1 {label:p1}]->(n2), item: (n1)-[:P31]->(type1), label: (p1)-[:label]->(lab1), item: (n2)-[l2 {label:p2}]->(n3), item: (n2)-[:P31]->(type2), label: (p2)-[:label]->(lab2)' \\\n",
    "--return 'distinct type1 as type1, p1 as prop1, type2 as type2, p2 as prop2, n3 as value, count(distinct n1) as positives, lab1 as prop1_label, lab2 as prop2_label' \\\n",
    "--where 'lab1.kgtk_lqstring_lang_suffix = \"en\"' \\\n",
    "--where 'lab2.kgtk_lqstring_lang_suffix = \"en\"' \\\n",
    "--order-by 'count(distinct n1) desc' \\\n",
    "--limit 10"
   ]
  },
  {
   "cell_type": "markdown",
   "metadata": {},
   "source": [
    "## 6. Combining generated labels into a single file"
   ]
  },
  {
   "cell_type": "code",
   "execution_count": null,
   "metadata": {},
   "outputs": [],
   "source": []
  },
  {
   "cell_type": "markdown",
   "metadata": {},
   "source": [
    "## 7. Filtering candidate labels - This can go in a separate notebook\n",
    "Simple rule-based filter to remove labels that are trivially either unrepresentative or indistinctive"
   ]
  },
  {
   "cell_type": "code",
   "execution_count": null,
   "metadata": {},
   "outputs": [],
   "source": []
  }
 ],
 "metadata": {
  "kernelspec": {
   "display_name": "Python [conda env:kgtk-env] *",
   "language": "python",
   "name": "conda-env-kgtk-env-py"
  },
  "language_info": {
   "codemirror_mode": {
    "name": "ipython",
    "version": 3
   },
   "file_extension": ".py",
   "mimetype": "text/x-python",
   "name": "python",
   "nbconvert_exporter": "python",
   "pygments_lexer": "ipython3",
   "version": "3.7.8"
  }
 },
 "nbformat": 4,
 "nbformat_minor": 4
}
