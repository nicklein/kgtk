{
 "cells": [
  {
   "cell_type": "markdown",
   "metadata": {},
   "source": [
    "# Select the final label set that can be used to generate profiles for entities of a desired type\n",
    "In this notebook, we will utilize the embeddings we created for the entities to further narrow down the labels that we previously created and filtered. This will give us a final set of labels that can be used to generate \"profiles\" for entities of a desired type by selecting labels from the final label set that a given entity matches. In this notebook, we will now ask for a desired type to profile on so that we don't create label sets for all types in the knowledge graph."
   ]
  },
  {
   "cell_type": "markdown",
   "metadata": {},
   "source": [
    "### Pre-requisite steps to run this notebook\n",
    "1. Run the candidate_label_creation, candidate_filter, and HAS_entity_embeddings notebooks first (these have their own pre-reqs). We will use files that were created by those notebooks in this notebook."
   ]
  },
  {
   "cell_type": "code",
   "execution_count": 1,
   "metadata": {},
   "outputs": [],
   "source": [
    "import os\n",
    "import pandas as pd\n",
    "import numpy as np\n",
    "import itertools\n",
    "import seaborn as sns\n",
    "import matplotlib.pyplot as plt\n",
    "from utility import run_command\n",
    "from utility import rename_cols_and_overwrite_id\n",
    "from label_discretization import discretize_labels\n",
    "from gensim.models import KeyedVectors"
   ]
  },
  {
   "cell_type": "markdown",
   "metadata": {},
   "source": [
    "### Parameters\n",
    "**REQUIRED**  \n",
    "**type_to_profile**: The type that we will create a label set for, and therefore be able to create entity profiles for. This should be a string denoting a Q-node. e.g. if we want to create profiles for beers, we would set type_to_profile=\"Q44\" (Q44=beer).  \n",
    "**work_dir**: path to work dir that was specified in the candidate_label_creation, candidate_filter, and HAS_embeddings notebooks. We will utilize files that were saved by those previous notebooks, and also save files created by this notebook here.  \n",
    "**item_file**: file path for the file that contains entity to entity relationships (e.g. wikibase-item)  \n",
    "**time_file**: file path for the file that contains entity to time-type values  \n",
    "**quantity_file**: file path for the file that contains entity to quantity-type values (remember to specify your trimmed quantity file if you ran the optional pre-processing trim_quantity_file notebook) \n",
    "**label_file**: file path for the file that contains wikidata labels  \n",
    "**store_dir**: path to folder containing the sqlite3.db file that we will use for our queries. We will reuse an existing file if there is one in this folder. Otherwise we will create a new one.\n",
    "\n",
    "**OPTIONAL**  \n",
    "**In-progress... this is currently not used.**  \n",
    "*string_file*: file path for the file that contains entity to string-type values  "
   ]
  },
  {
   "cell_type": "code",
   "execution_count": 2,
   "metadata": {},
   "outputs": [],
   "source": [
    "# data_dir = \"../../Q44/data\" # my data files are all in the same directory, so I'll reuse this path prefix\n",
    "\n",
    "# # **REQUIRED**\n",
    "# type_to_profile = \"Q44\"\n",
    "# work_dir = \"../../Q44/profiler_work\"\n",
    "# item_file = \"{}/Q44.part.wikibase-item.tsv\".format(data_dir)\n",
    "# time_file = \"{}/Q44.part.time.tsv\".format(data_dir)\n",
    "# quantity_file = \"{}/Q44.part.quantity.tsv\".format(data_dir)\n",
    "# label_file = \"{}/Q44.label.en.tsv\".format(data_dir)\n",
    "# store_dir = \"../../Q44\"\n",
    "\n",
    "# # **optional**\n",
    "# string_file = None #\"{}/Q44.part.string.tsv\".format(data_dir)\n",
    "\n",
    "data_dir = \"../../wikidata_films/data\" # my data files are all in the same directory, so I'll reuse this path prefix\n",
    "\n",
    "# **REQUIRED**\n",
    "type_to_profile = \"Q11424\" # Film\n",
    "work_dir = \"../../wikidata_films/profiler_work\"\n",
    "item_file = \"{}/claims.wikibase-item.tsv.gz\".format(data_dir)\n",
    "time_file = \"{}/claims.time.tsv.gz\".format(data_dir)\n",
    "quantity_file = \"{}/claims.quantity_trimmed.tsv.gz\".format(data_dir)\n",
    "label_file = \"{}/labels.en.tsv.gz\".format(data_dir)\n",
    "store_dir = \"../../wikidata_films\"\n",
    "\n",
    "# **optional**\n",
    "string_file = None #\"{}/claims.string.tsv.gz\".format(data_dir)"
   ]
  },
  {
   "cell_type": "markdown",
   "metadata": {},
   "source": [
    "### Process parameters and set up variables / file names"
   ]
  },
  {
   "cell_type": "code",
   "execution_count": 3,
   "metadata": {},
   "outputs": [],
   "source": [
    "# Ensure paths are absolute\n",
    "item_file = os.path.abspath(item_file)\n",
    "time_file = os.path.abspath(time_file)\n",
    "quantity_file = os.path.abspath(quantity_file)\n",
    "label_file = os.path.abspath(label_file)\n",
    "work_dir = os.path.abspath(work_dir)\n",
    "store_dir = os.path.abspath(store_dir)\n",
    "if string_file:\n",
    "    string_file = os.path.abspath(string_file)\n",
    "    \n",
    "# Create directories\n",
    "output_dir = \"{}/final_label_sets/{}\".format(work_dir, type_to_profile)\n",
    "if not os.path.exists(output_dir):\n",
    "    os.makedirs(output_dir)\n",
    "label_set_work_dir = \"{}/work\".format(output_dir)\n",
    "if not os.path.exists(label_set_work_dir):\n",
    "    os.makedirs(label_set_work_dir)\n",
    "label_set_final_dir = \"{}/final\".format(output_dir)\n",
    "if not os.path.exists(label_set_final_dir):\n",
    "    os.makedirs(label_set_final_dir)\n",
    "    \n",
    "# adding some environment variables we'll be using frequently\n",
    "os.environ['ITEM_FILE'] = item_file\n",
    "os.environ['TIME_FILE'] = time_file\n",
    "os.environ['QUANTITY_FILE'] = quantity_file\n",
    "os.environ['LABEL_FILE'] = label_file\n",
    "os.environ['STORE'] = \"{}/wikidata.sqlite3.db\".format(store_dir)\n",
    "os.environ['FILTERED_LABELS'] = \"{}/candidate_filter\".format(work_dir)\n",
    "os.environ['LABEL_CREATION_DIR'] = \"{}/label_creation\".format(work_dir)\n",
    "os.environ['TYPE'] = type_to_profile\n",
    "os.environ['WORK'] = label_set_work_dir\n",
    "os.environ['OUT'] = label_set_final_dir\n",
    "os.environ['kgtk'] = \"kgtk\" # Need to do this for kgtk to be recognized as a command when passing it through a subprocess call"
   ]
  },
  {
   "cell_type": "markdown",
   "metadata": {},
   "source": [
    "## 1. Get labels that abstract entities of the type we want to profile and find the entities that match each of those labels\n",
    "\n",
    "**this could possibly be a separate notebook or just code moved out of notebook.**\n",
    "\n",
    "**Actually we could do this in earlier steps along the way - like in label creation... For scalability, if we did this we might need to move the type_to_profile decision to there so we don't enumerate all labels and their entities (this would blow up when we get to RALs).** \n",
    "\n",
    "**since we didn't keep quantities and times separate for ravls and rails, the final label set won't be able to disambiguate whether the value for these is a time or quantity - this actually isn't much of a problem since the property will be able to disambiguate time versus quantity, however it means that we'll have to look in a concatenated quantities/times file when creating a profile for an entity.**\n",
    "\n",
    "We will later choose from these labels to form the final label set, and we will do this based off of several formulas that take into account the entities that match each label.\n",
    "\n",
    "Also, we need each label to have a unique identifier (again this is something that we could have done along the way in earlier notebooks - would simplify some queries). We'll add a column for this here as well."
   ]
  },
  {
   "cell_type": "markdown",
   "metadata": {},
   "source": [
    "### 1.1 RELs"
   ]
  },
  {
   "cell_type": "code",
   "execution_count": 19,
   "metadata": {},
   "outputs": [],
   "source": [
    "!kgtk query -i $FILTERED_LABELS/candidate_labels_rel_item_filtered.tsv \\\n",
    "-i $ITEM_FILE -i $LABEL_CREATION_DIR/type_mapping.tsv -i $LABEL_FILE \\\n",
    "-o $WORK/candidate_RELs_and_their_entities.tsv --graph-cache $STORE \\\n",
    "--match 'filtered: (type:`'\"$TYPE\"'`)-[l1 {label:p, prop_label:p_lab, id:label_id}]->(val), `'\"$ITEM_FILE\"'`: (e)-[l2 {label:p}]->(val), type: (e)-[]->(type), `'\"$LABEL_FILE\"'`: (type)-[:label]->(type_lab), `'\"$LABEL_FILE\"'`: (val)-[:label]->(val_lab)' \\\n",
    "--return 'distinct printf(\"REL-%s\", label_id) as node1, \"pos_entity\" as label, e as node2, type as type, type_lab as type_label, p as prop, p_lab as prop_label, val as value, val_lab as value_label, \"_\" as id' \\\n",
    "--where 'type_lab.kgtk_lqstring_lang_suffix = \"en\" AND val_lab.kgtk_lqstring_lang_suffix = \"en\"' \\\n",
    "--order-by 'type, p, value, e'"
   ]
  },
  {
   "cell_type": "code",
   "execution_count": 20,
   "metadata": {},
   "outputs": [],
   "source": [
    "!kgtk add-id -i $WORK/candidate_RELs_and_their_entities.tsv -o $WORK/candidate_RELs_and_their_entities_temp.tsv --overwrite-id \\\n",
    "&& mv $WORK/candidate_RELs_and_their_entities_temp.tsv $WORK/candidate_RELs_and_their_entities.tsv\n"
   ]
  },
  {
   "cell_type": "code",
   "execution_count": 21,
   "metadata": {},
   "outputs": [
    {
     "name": "stdout",
     "output_type": "stream",
     "text": [
      "number of distinct labels: 7\n",
      "number of rows (labels can have multiple matching entities): 316974\n"
     ]
    },
    {
     "data": {
      "text/html": [
       "<div>\n",
       "<style scoped>\n",
       "    .dataframe tbody tr th:only-of-type {\n",
       "        vertical-align: middle;\n",
       "    }\n",
       "\n",
       "    .dataframe tbody tr th {\n",
       "        vertical-align: top;\n",
       "    }\n",
       "\n",
       "    .dataframe thead th {\n",
       "        text-align: right;\n",
       "    }\n",
       "</style>\n",
       "<table border=\"1\" class=\"dataframe\">\n",
       "  <thead>\n",
       "    <tr style=\"text-align: right;\">\n",
       "      <th></th>\n",
       "      <th>node1</th>\n",
       "      <th>label</th>\n",
       "      <th>node2</th>\n",
       "      <th>type</th>\n",
       "      <th>type_label</th>\n",
       "      <th>prop</th>\n",
       "      <th>prop_label</th>\n",
       "      <th>value</th>\n",
       "      <th>value_label</th>\n",
       "      <th>id</th>\n",
       "    </tr>\n",
       "  </thead>\n",
       "  <tbody>\n",
       "    <tr>\n",
       "      <th>0</th>\n",
       "      <td>REL-E1297987</td>\n",
       "      <td>pos_entity</td>\n",
       "      <td>Q1000394</td>\n",
       "      <td>Q11424</td>\n",
       "      <td>'film'@en</td>\n",
       "      <td>P136</td>\n",
       "      <td>'genre'@en</td>\n",
       "      <td>Q130232</td>\n",
       "      <td>'drama'@en</td>\n",
       "      <td>E1</td>\n",
       "    </tr>\n",
       "    <tr>\n",
       "      <th>1</th>\n",
       "      <td>REL-E1297987</td>\n",
       "      <td>pos_entity</td>\n",
       "      <td>Q10005695</td>\n",
       "      <td>Q11424</td>\n",
       "      <td>'film'@en</td>\n",
       "      <td>P136</td>\n",
       "      <td>'genre'@en</td>\n",
       "      <td>Q130232</td>\n",
       "      <td>'drama'@en</td>\n",
       "      <td>E2</td>\n",
       "    </tr>\n",
       "    <tr>\n",
       "      <th>2</th>\n",
       "      <td>REL-E1297987</td>\n",
       "      <td>pos_entity</td>\n",
       "      <td>Q100136948</td>\n",
       "      <td>Q11424</td>\n",
       "      <td>'film'@en</td>\n",
       "      <td>P136</td>\n",
       "      <td>'genre'@en</td>\n",
       "      <td>Q130232</td>\n",
       "      <td>'drama'@en</td>\n",
       "      <td>E3</td>\n",
       "    </tr>\n",
       "    <tr>\n",
       "      <th>3</th>\n",
       "      <td>REL-E1297987</td>\n",
       "      <td>pos_entity</td>\n",
       "      <td>Q100136995</td>\n",
       "      <td>Q11424</td>\n",
       "      <td>'film'@en</td>\n",
       "      <td>P136</td>\n",
       "      <td>'genre'@en</td>\n",
       "      <td>Q130232</td>\n",
       "      <td>'drama'@en</td>\n",
       "      <td>E4</td>\n",
       "    </tr>\n",
       "    <tr>\n",
       "      <th>4</th>\n",
       "      <td>REL-E1297987</td>\n",
       "      <td>pos_entity</td>\n",
       "      <td>Q100137285</td>\n",
       "      <td>Q11424</td>\n",
       "      <td>'film'@en</td>\n",
       "      <td>P136</td>\n",
       "      <td>'genre'@en</td>\n",
       "      <td>Q130232</td>\n",
       "      <td>'drama'@en</td>\n",
       "      <td>E5</td>\n",
       "    </tr>\n",
       "    <tr>\n",
       "      <th>5</th>\n",
       "      <td>REL-E1297987</td>\n",
       "      <td>pos_entity</td>\n",
       "      <td>Q100139868</td>\n",
       "      <td>Q11424</td>\n",
       "      <td>'film'@en</td>\n",
       "      <td>P136</td>\n",
       "      <td>'genre'@en</td>\n",
       "      <td>Q130232</td>\n",
       "      <td>'drama'@en</td>\n",
       "      <td>E6</td>\n",
       "    </tr>\n",
       "    <tr>\n",
       "      <th>6</th>\n",
       "      <td>REL-E1297987</td>\n",
       "      <td>pos_entity</td>\n",
       "      <td>Q100152089</td>\n",
       "      <td>Q11424</td>\n",
       "      <td>'film'@en</td>\n",
       "      <td>P136</td>\n",
       "      <td>'genre'@en</td>\n",
       "      <td>Q130232</td>\n",
       "      <td>'drama'@en</td>\n",
       "      <td>E7</td>\n",
       "    </tr>\n",
       "    <tr>\n",
       "      <th>7</th>\n",
       "      <td>REL-E1297987</td>\n",
       "      <td>pos_entity</td>\n",
       "      <td>Q100152173</td>\n",
       "      <td>Q11424</td>\n",
       "      <td>'film'@en</td>\n",
       "      <td>P136</td>\n",
       "      <td>'genre'@en</td>\n",
       "      <td>Q130232</td>\n",
       "      <td>'drama'@en</td>\n",
       "      <td>E8</td>\n",
       "    </tr>\n",
       "    <tr>\n",
       "      <th>8</th>\n",
       "      <td>REL-E1297987</td>\n",
       "      <td>pos_entity</td>\n",
       "      <td>Q100152200</td>\n",
       "      <td>Q11424</td>\n",
       "      <td>'film'@en</td>\n",
       "      <td>P136</td>\n",
       "      <td>'genre'@en</td>\n",
       "      <td>Q130232</td>\n",
       "      <td>'drama'@en</td>\n",
       "      <td>E9</td>\n",
       "    </tr>\n",
       "    <tr>\n",
       "      <th>9</th>\n",
       "      <td>REL-E1297987</td>\n",
       "      <td>pos_entity</td>\n",
       "      <td>Q100152226</td>\n",
       "      <td>Q11424</td>\n",
       "      <td>'film'@en</td>\n",
       "      <td>P136</td>\n",
       "      <td>'genre'@en</td>\n",
       "      <td>Q130232</td>\n",
       "      <td>'drama'@en</td>\n",
       "      <td>E10</td>\n",
       "    </tr>\n",
       "    <tr>\n",
       "      <th>10</th>\n",
       "      <td>REL-E1297987</td>\n",
       "      <td>pos_entity</td>\n",
       "      <td>Q100152272</td>\n",
       "      <td>Q11424</td>\n",
       "      <td>'film'@en</td>\n",
       "      <td>P136</td>\n",
       "      <td>'genre'@en</td>\n",
       "      <td>Q130232</td>\n",
       "      <td>'drama'@en</td>\n",
       "      <td>E11</td>\n",
       "    </tr>\n",
       "  </tbody>\n",
       "</table>\n",
       "</div>"
      ],
      "text/plain": [
       "           node1       label       node2    type type_label  prop  prop_label  \\\n",
       "0   REL-E1297987  pos_entity    Q1000394  Q11424  'film'@en  P136  'genre'@en   \n",
       "1   REL-E1297987  pos_entity   Q10005695  Q11424  'film'@en  P136  'genre'@en   \n",
       "2   REL-E1297987  pos_entity  Q100136948  Q11424  'film'@en  P136  'genre'@en   \n",
       "3   REL-E1297987  pos_entity  Q100136995  Q11424  'film'@en  P136  'genre'@en   \n",
       "4   REL-E1297987  pos_entity  Q100137285  Q11424  'film'@en  P136  'genre'@en   \n",
       "5   REL-E1297987  pos_entity  Q100139868  Q11424  'film'@en  P136  'genre'@en   \n",
       "6   REL-E1297987  pos_entity  Q100152089  Q11424  'film'@en  P136  'genre'@en   \n",
       "7   REL-E1297987  pos_entity  Q100152173  Q11424  'film'@en  P136  'genre'@en   \n",
       "8   REL-E1297987  pos_entity  Q100152200  Q11424  'film'@en  P136  'genre'@en   \n",
       "9   REL-E1297987  pos_entity  Q100152226  Q11424  'film'@en  P136  'genre'@en   \n",
       "10  REL-E1297987  pos_entity  Q100152272  Q11424  'film'@en  P136  'genre'@en   \n",
       "\n",
       "      value value_label   id  \n",
       "0   Q130232  'drama'@en   E1  \n",
       "1   Q130232  'drama'@en   E2  \n",
       "2   Q130232  'drama'@en   E3  \n",
       "3   Q130232  'drama'@en   E4  \n",
       "4   Q130232  'drama'@en   E5  \n",
       "5   Q130232  'drama'@en   E6  \n",
       "6   Q130232  'drama'@en   E7  \n",
       "7   Q130232  'drama'@en   E8  \n",
       "8   Q130232  'drama'@en   E9  \n",
       "9   Q130232  'drama'@en  E10  \n",
       "10  Q130232  'drama'@en  E11  "
      ]
     },
     "metadata": {},
     "output_type": "display_data"
    }
   ],
   "source": [
    "labels_df = pd.read_csv(\"{}/candidate_RELs_and_their_entities.tsv\".format(os.environ[\"WORK\"]), delimiter = '\\t')\n",
    "print(\"number of distinct labels: {}\".format(len(labels_df.node1.unique())))\n",
    "print(\"number of rows (labels can have multiple matching entities): {}\".format(labels_df.shape[0]))\n",
    "if not labels_df.empty:\n",
    "    display(labels_df.loc[:10].fillna(\"\"))"
   ]
  },
  {
   "cell_type": "markdown",
   "metadata": {},
   "source": [
    "### 1.2 AVLs - quantities"
   ]
  },
  {
   "cell_type": "code",
   "execution_count": 22,
   "metadata": {},
   "outputs": [],
   "source": [
    "!kgtk query -i $FILTERED_LABELS/candidate_labels_avl_quantity_filtered.tsv \\\n",
    "-i $QUANTITY_FILE -i $LABEL_CREATION_DIR/type_mapping.tsv -i $LABEL_FILE \\\n",
    "-o $WORK/candidate_quantity_AVLs_and_their_entities.tsv --graph-cache $STORE \\\n",
    "--match 'filtered: (type:`'\"$TYPE\"'`)-[l1 {label:p, prop_label:p_lab, id:label_id, si_units:label_si, wd_units:label_wd}]->(label_quantity_num), `'\"$QUANTITY_FILE\"'`: (e)-[l2 {label:p}]->(val), type: (e)-[]->(type), `'\"$LABEL_FILE\"'`: (type)-[:label]->(type_lab)' \\\n",
    "--return 'distinct printf(\"AVL-quantity-%s\", label_id) as node1, \"pos_entity\" as label, e as node2, type as type, type_lab as type_label, p as prop, p_lab as prop_label, label_quantity_num as value, label_si as si_units, label_wd as wd_units, \"_\" as id' \\\n",
    "--where 'type_lab.kgtk_lqstring_lang_suffix = \"en\" AND kgtk_quantity_number(val)=label_quantity_num AND ( (kgtk_quantity_si_units(val) is null AND label_si=\"\") OR (kgtk_quantity_si_units(val)=label_si) ) AND ( (kgtk_quantity_wd_units(val) is null AND label_wd=\"\") OR (kgtk_quantity_wd_units(val)=label_wd) )' \\\n",
    "--order-by 'type, prop, value, si_units, wd_units, e'\n"
   ]
  },
  {
   "cell_type": "code",
   "execution_count": 23,
   "metadata": {},
   "outputs": [],
   "source": [
    "!kgtk add-id -i $WORK/candidate_quantity_AVLs_and_their_entities.tsv -o $WORK/candidate_quantity_AVLs_and_their_entities.tsv --overwrite-id"
   ]
  },
  {
   "cell_type": "code",
   "execution_count": 24,
   "metadata": {
    "scrolled": false
   },
   "outputs": [
    {
     "name": "stdout",
     "output_type": "stream",
     "text": [
      "number of distinct labels: 0\n",
      "number of rows (labels can have multiple matching entities): 0\n"
     ]
    }
   ],
   "source": [
    "labels_df = pd.read_csv(\"{}/candidate_quantity_AVLs_and_their_entities.tsv\".format(os.environ[\"WORK\"]), delimiter = '\\t')\n",
    "print(\"number of distinct labels: {}\".format(len(labels_df.node1.unique())))\n",
    "print(\"number of rows (labels can have multiple matching entities): {}\".format(labels_df.shape[0]))\n",
    "if not labels_df.empty:\n",
    "    display(labels_df.loc[:10].fillna(\"\"))\n"
   ]
  },
  {
   "cell_type": "markdown",
   "metadata": {},
   "source": [
    "### 1.3 AVLs - times"
   ]
  },
  {
   "cell_type": "code",
   "execution_count": 25,
   "metadata": {},
   "outputs": [],
   "source": [
    "!kgtk query -i $FILTERED_LABELS/candidate_labels_avl_time.year_filtered.tsv \\\n",
    "-i $TIME_FILE -i $LABEL_CREATION_DIR/type_mapping.tsv -i $LABEL_FILE\\\n",
    "-o $WORK/candidate_time.year_AVLs_and_their_entities.tsv --graph-cache $STORE \\\n",
    "--match 'filtered: (type:`'\"$TYPE\"'`)-[l1 {label:p, prop_label:p_lab, id:label_id}]->(label_year), `'\"$TIME_FILE\"'`: (e)-[l2 {label:p}]->(val), type: (e)-[]->(type), `'\"$LABEL_FILE\"'`: (type)-[:label]->(type_lab)' \\\n",
    "--return 'distinct printf(\"AVL-time.year-%s\", label_id) as node1, \"pos_entity\" as label, e as node2, type as type, type_lab as type_label, p as prop, p_lab as prop_label, label_year as value, \"_\" as id' \\\n",
    "--where 'type_lab.kgtk_lqstring_lang_suffix = \"en\" AND kgtk_date_year(val)=label_year' \\\n",
    "--order-by 'type, prop, value, e'"
   ]
  },
  {
   "cell_type": "code",
   "execution_count": 26,
   "metadata": {},
   "outputs": [],
   "source": [
    "!kgtk add-id -i $WORK/candidate_time.year_AVLs_and_their_entities.tsv -o $WORK/candidate_time.year_AVLs_and_their_entities.tsv --overwrite-id"
   ]
  },
  {
   "cell_type": "code",
   "execution_count": 27,
   "metadata": {},
   "outputs": [
    {
     "name": "stdout",
     "output_type": "stream",
     "text": [
      "number of distinct labels: 0\n",
      "number of rows (labels can have multiple matching entities): 0\n"
     ]
    }
   ],
   "source": [
    "labels_df = pd.read_csv(\"{}/candidate_time.year_AVLs_and_their_entities.tsv\".format(os.environ[\"WORK\"]), delimiter = '\\t')\n",
    "print(\"number of distinct labels: {}\".format(len(labels_df.node1.unique())))\n",
    "print(\"number of rows (labels can have multiple matching entities): {}\".format(labels_df.shape[0]))\n",
    "if not labels_df.empty:\n",
    "    display(labels_df.loc[:10].fillna(\"\"))"
   ]
  },
  {
   "cell_type": "markdown",
   "metadata": {},
   "source": [
    "### 1.4 AILs - quantities"
   ]
  },
  {
   "cell_type": "code",
   "execution_count": 28,
   "metadata": {},
   "outputs": [],
   "source": [
    "!kgtk query -i $FILTERED_LABELS/candidate_labels_ail_quantity_filtered.tsv \\\n",
    "-i $QUANTITY_FILE -i $LABEL_CREATION_DIR/type_mapping.tsv -i $LABEL_FILE \\\n",
    "-o $WORK/candidate_quantity_AILs_and_their_entities.tsv --graph-cache $STORE \\\n",
    "--match 'filtered: (type:`'\"$TYPE\"'`)-[l1 {label:p, prop_label:p_lab, id:label_id, upper_bound:ub, si_units:label_si, wd_units:label_wd}]->(lb), `'\"$QUANTITY_FILE\"'`: (e)-[l2 {label:p}]->(val), type: (e)-[]->(type), `'\"$LABEL_FILE\"'`: (type)-[:label]->(type_lab)' \\\n",
    "--return 'distinct printf(\"AIL-quantity-%s\", label_id) as node1, \"pos_entity\" as label, e as node2, type as type, type_lab as type_label, p as prop, p_lab as prop_label, lb as value_lb, ub as value_ub, label_si as si_units, label_wd as wd_units, \"_\" as id' \\\n",
    "--where 'type_lab.kgtk_lqstring_lang_suffix = \"en\" AND (not lb OR kgtk_quantity_number(val) >= kgtk_quantity_number(lb)) AND (not ub OR kgtk_quantity_number(ub) >= kgtk_quantity_number(val)) AND ( (kgtk_quantity_si_units(val) is null AND label_si=\"\") OR (kgtk_quantity_si_units(val)=label_si) ) AND ( (kgtk_quantity_wd_units(val) is null AND label_wd=\"\") OR (kgtk_quantity_wd_units(val)=label_wd) )' \\\n",
    "--order-by 'type, prop, value_lb, si_units, wd_units, e'\n"
   ]
  },
  {
   "cell_type": "code",
   "execution_count": 29,
   "metadata": {},
   "outputs": [],
   "source": [
    "!kgtk add-id -i $WORK/candidate_quantity_AILs_and_their_entities.tsv -o $WORK/candidate_quantity_AILs_and_their_entities.tsv --overwrite-id"
   ]
  },
  {
   "cell_type": "code",
   "execution_count": 30,
   "metadata": {
    "scrolled": false
   },
   "outputs": [
    {
     "name": "stdout",
     "output_type": "stream",
     "text": [
      "number of distinct labels: 0\n",
      "number of rows (labels can have multiple matching entities): 0\n"
     ]
    }
   ],
   "source": [
    "labels_df = pd.read_csv(\"{}/candidate_quantity_AILs_and_their_entities.tsv\".format(os.environ[\"WORK\"]), delimiter = '\\t')\n",
    "print(\"number of distinct labels: {}\".format(len(labels_df.node1.unique())))\n",
    "print(\"number of rows (labels can have multiple matching entities): {}\".format(labels_df.shape[0]))\n",
    "if not labels_df.empty:\n",
    "    display(labels_df.loc[:10].fillna(\"\"))"
   ]
  },
  {
   "cell_type": "markdown",
   "metadata": {},
   "source": [
    "### 1.5 AILs - times"
   ]
  },
  {
   "cell_type": "code",
   "execution_count": 31,
   "metadata": {},
   "outputs": [],
   "source": [
    "!kgtk query -i $FILTERED_LABELS/candidate_labels_ail_time.year_filtered.tsv \\\n",
    "-i $TIME_FILE -i $LABEL_CREATION_DIR/type_mapping.tsv -i $LABEL_FILE \\\n",
    "-o $WORK/candidate_time.year_AILs_and_their_entities.tsv --graph-cache $STORE \\\n",
    "--match 'filtered: (type:`'\"$TYPE\"'`)-[l1 {label:p, prop_label:p_lab, id:label_id, upper_bound:ub}]->(lb), `'\"$TIME_FILE\"'`: (e)-[l2 {label:p}]->(val), type: (e)-[]->(type), `'\"$LABEL_FILE\"'`: (type)-[:label]->(type_lab)' \\\n",
    "--return 'distinct printf(\"AIL-time.year-%s\", label_id) as node1, \"pos_entity\" as label, e as node2, type as type, type_lab as type_label, p as prop, p_lab as prop_label, lb as value_lb, ub as value_ub, \"_\" as id' \\\n",
    "--where 'type_lab.kgtk_lqstring_lang_suffix = \"en\" AND (not lb OR kgtk_date_year(val) >= kgtk_quantity_number(lb)) AND (not ub OR kgtk_quantity_number(ub) >= kgtk_date_year(val))' \\\n",
    "--order-by 'type, prop, value_lb, e'\n"
   ]
  },
  {
   "cell_type": "code",
   "execution_count": 32,
   "metadata": {},
   "outputs": [],
   "source": [
    "!kgtk add-id -i $WORK/candidate_time.year_AILs_and_their_entities.tsv -o $WORK/candidate_time.year_AILs_and_their_entities.tsv --overwrite-id"
   ]
  },
  {
   "cell_type": "code",
   "execution_count": 33,
   "metadata": {
    "scrolled": false
   },
   "outputs": [
    {
     "name": "stdout",
     "output_type": "stream",
     "text": [
      "number of distinct labels: 0\n",
      "number of rows (labels can have multiple matching entities): 0\n"
     ]
    }
   ],
   "source": [
    "labels_df = pd.read_csv(\"{}/candidate_time.year_AILs_and_their_entities.tsv\".format(os.environ[\"WORK\"]), delimiter = '\\t')\n",
    "print(\"number of distinct labels: {}\".format(len(labels_df.node1.unique())))\n",
    "print(\"number of rows (labels can have multiple matching entities): {}\".format(labels_df.shape[0]))\n",
    "if not labels_df.empty:\n",
    "    display(labels_df.loc[:10].fillna(\"\"))"
   ]
  },
  {
   "cell_type": "markdown",
   "metadata": {},
   "source": [
    "### 1.6 RAVLs - quantities and times\n",
    "both quantities and times here because we mixed them together in the label creation step..."
   ]
  },
  {
   "cell_type": "code",
   "execution_count": 34,
   "metadata": {},
   "outputs": [],
   "source": [
    "!kgtk query -i $FILTERED_LABELS/candidate_labels_ravl_filtered.tsv \\\n",
    "-i $LABEL_CREATION_DIR/entity_AVLs_all.tsv -i $ITEM_FILE -i $LABEL_CREATION_DIR/type_mapping.tsv -i $LABEL_FILE \\\n",
    "-o $WORK/candidate_RAVLs_and_their_entities.tsv --graph-cache $STORE \\\n",
    "--match 'filtered: (type1:`'\"$TYPE\"'`)-[l1 {label:p1, id:label_id, prop2:p2, prop2_label:p2_lab, val:val, si_units:si, wd_units:wd}]->(type2), `'\"$ITEM_FILE\"'`: (e1)-[l2 {label:p1}]->(e2), AVLs_all: (type2)-[l3 {label:p2, entity:e2, si_units:si, wd_units:wd}]->(val), type: (e1)-[]->(type1), `'\"$LABEL_FILE\"'`: (type1)-[:label]->(type1_lab), `'\"$LABEL_FILE\"'`: (p1)-[:label]->(p1_lab), `'\"$LABEL_FILE\"'`: (type2)-[:label]->(type2_lab)' \\\n",
    "--return 'distinct printf(\"RAVL-%s\", label_id) as node1, \"pos_entity\" as label, e1 as node2, type1 as type, type1_lab as type_label, p1 as prop, p1_lab as prop_label, type2 as value, type2_lab as value_label, p2 as prop2, p2_lab as prop2_label, val as value2, si as si_units, wd as wd_units, \"_\" as id' \\\n",
    "--where 'type1_lab.kgtk_lqstring_lang_suffix = \"en\" AND p1_lab.kgtk_lqstring_lang_suffix = \"en\" AND type2_lab.kgtk_lqstring_lang_suffix = \"en\"' \\\n",
    "--order-by 'type1, p1, type2, p2, value2, si, wd, e1'"
   ]
  },
  {
   "cell_type": "markdown",
   "metadata": {},
   "source": [
    "Note - below we need to create a temporary file to add ids to avoid what seems like a bug... wrote a github issue for this."
   ]
  },
  {
   "cell_type": "code",
   "execution_count": 35,
   "metadata": {
    "scrolled": true
   },
   "outputs": [],
   "source": [
    "!kgtk add-id -i $WORK/candidate_RAVLs_and_their_entities.tsv -o $WORK/candidate_RAVLs_and_their_entities_temp.tsv --overwrite-id \\\n",
    "&& mv $WORK/candidate_RAVLs_and_their_entities_temp.tsv $WORK/candidate_RAVLs_and_their_entities.tsv"
   ]
  },
  {
   "cell_type": "code",
   "execution_count": 36,
   "metadata": {},
   "outputs": [
    {
     "name": "stdout",
     "output_type": "stream",
     "text": [
      "number of distinct labels: 0\n",
      "number of rows (labels can have multiple matching entities): 0\n"
     ]
    }
   ],
   "source": [
    "labels_df = pd.read_csv(\"{}/candidate_RAVLs_and_their_entities.tsv\".format(os.environ[\"WORK\"]), delimiter = '\\t')\n",
    "print(\"number of distinct labels: {}\".format(len(labels_df.node1.unique())))\n",
    "print(\"number of rows (labels can have multiple matching entities): {}\".format(labels_df.shape[0]))\n",
    "if not labels_df.empty:\n",
    "    display(labels_df.loc[:10].fillna(\"\"))"
   ]
  },
  {
   "cell_type": "markdown",
   "metadata": {},
   "source": [
    "### 1.7 RAILs - quantities and times\n",
    "both quantities and times here because we mixed them together in the label creation step..."
   ]
  },
  {
   "cell_type": "code",
   "execution_count": 37,
   "metadata": {},
   "outputs": [],
   "source": [
    "!kgtk query -i $FILTERED_LABELS/candidate_labels_rail_filtered.tsv \\\n",
    "-i $LABEL_CREATION_DIR/entity_AILs_all.tsv -i $ITEM_FILE -i $LABEL_CREATION_DIR/type_mapping.tsv -i $LABEL_FILE \\\n",
    "-o $WORK/candidate_RAILs_and_their_entities.tsv --graph-cache $STORE \\\n",
    "--match 'filtered: (type1:`'\"$TYPE\"'`)-[l1 {label:p1, id:label_id, prop2:p2, prop2_label:p2_lab, lower_bound:lb, upper_bound:ub, si_units:si, wd_units:wd}]->(type2), `'\"$ITEM_FILE\"'`: (e1)-[l2 {label:p1}]->(e2), AILs_all: (type2)-[l3 {label:p2, entity:e2, lower_bound:lb, upper_bound:ub, si_units:si, wd_units:wd}]->(), type: (e1)-[]->(type1), `'\"$LABEL_FILE\"'`: (type1)-[:label]->(type1_lab), `'\"$LABEL_FILE\"'`: (p1)-[:label]->(p1_lab), `'\"$LABEL_FILE\"'`: (type2)-[:label]->(type2_lab)' \\\n",
    "--return 'distinct printf(\"RAIL-%s\", label_id) as node1, \"pos_entity\" as label, e1 as node2, type1 as type, type1_lab as type_label, p1 as prop, p1_lab as prop_label, type2 as value, type2_lab as value_label, p2 as prop2, p2_lab as prop2_label, lb as value2_lb, ub as value2_ub, si as si_units, wd as wd_units, \"_\" as id' \\\n",
    "--where 'type1_lab.kgtk_lqstring_lang_suffix = \"en\" AND p1_lab.kgtk_lqstring_lang_suffix = \"en\" AND type2_lab.kgtk_lqstring_lang_suffix = \"en\"' \\\n",
    "--order-by 'type1, p1, type2, p2, lb, ub, si, wd, e1'"
   ]
  },
  {
   "cell_type": "code",
   "execution_count": 38,
   "metadata": {
    "scrolled": true
   },
   "outputs": [],
   "source": [
    "!kgtk add-id -i $WORK/candidate_RAILs_and_their_entities.tsv -o $WORK/candidate_RAILs_and_their_entities_temp.tsv --overwrite-id \\\n",
    "&& mv $WORK/candidate_RAILs_and_their_entities_temp.tsv $WORK/candidate_RAILs_and_their_entities.tsv"
   ]
  },
  {
   "cell_type": "code",
   "execution_count": 39,
   "metadata": {
    "scrolled": false
   },
   "outputs": [
    {
     "name": "stderr",
     "output_type": "stream",
     "text": [
      "/nas/home/nmklein/anaconda3/envs/kgtk-env/lib/python3.8/site-packages/IPython/core/interactiveshell.py:3146: DtypeWarning: Columns (14) have mixed types.Specify dtype option on import or set low_memory=False.\n",
      "  has_raised = await self.run_ast_nodes(code_ast.body, cell_name,\n"
     ]
    },
    {
     "name": "stdout",
     "output_type": "stream",
     "text": [
      "number of distinct labels: 266\n",
      "number of rows (labels can have multiple matching entities): 12557347\n"
     ]
    },
    {
     "data": {
      "text/html": [
       "<div>\n",
       "<style scoped>\n",
       "    .dataframe tbody tr th:only-of-type {\n",
       "        vertical-align: middle;\n",
       "    }\n",
       "\n",
       "    .dataframe tbody tr th {\n",
       "        vertical-align: top;\n",
       "    }\n",
       "\n",
       "    .dataframe thead th {\n",
       "        text-align: right;\n",
       "    }\n",
       "</style>\n",
       "<table border=\"1\" class=\"dataframe\">\n",
       "  <thead>\n",
       "    <tr style=\"text-align: right;\">\n",
       "      <th></th>\n",
       "      <th>node1</th>\n",
       "      <th>label</th>\n",
       "      <th>node2</th>\n",
       "      <th>type</th>\n",
       "      <th>type_label</th>\n",
       "      <th>prop</th>\n",
       "      <th>prop_label</th>\n",
       "      <th>value</th>\n",
       "      <th>value_label</th>\n",
       "      <th>prop2</th>\n",
       "      <th>prop2_label</th>\n",
       "      <th>value2_lb</th>\n",
       "      <th>value2_ub</th>\n",
       "      <th>si_units</th>\n",
       "      <th>wd_units</th>\n",
       "      <th>id</th>\n",
       "    </tr>\n",
       "  </thead>\n",
       "  <tbody>\n",
       "    <tr>\n",
       "      <th>0</th>\n",
       "      <td>RAIL-E893235</td>\n",
       "      <td>pos_entity</td>\n",
       "      <td>Q1000094</td>\n",
       "      <td>Q11424</td>\n",
       "      <td>'film'@en</td>\n",
       "      <td>P495</td>\n",
       "      <td>'country of origin'@en</td>\n",
       "      <td>Q112099</td>\n",
       "      <td>'island nation'@en</td>\n",
       "      <td>P1081</td>\n",
       "      <td>'Human Development Index'@en</td>\n",
       "      <td></td>\n",
       "      <td></td>\n",
       "      <td></td>\n",
       "      <td></td>\n",
       "      <td>E1</td>\n",
       "    </tr>\n",
       "    <tr>\n",
       "      <th>1</th>\n",
       "      <td>RAIL-E893235</td>\n",
       "      <td>pos_entity</td>\n",
       "      <td>Q100156151</td>\n",
       "      <td>Q11424</td>\n",
       "      <td>'film'@en</td>\n",
       "      <td>P495</td>\n",
       "      <td>'country of origin'@en</td>\n",
       "      <td>Q112099</td>\n",
       "      <td>'island nation'@en</td>\n",
       "      <td>P1081</td>\n",
       "      <td>'Human Development Index'@en</td>\n",
       "      <td></td>\n",
       "      <td></td>\n",
       "      <td></td>\n",
       "      <td></td>\n",
       "      <td>E2</td>\n",
       "    </tr>\n",
       "    <tr>\n",
       "      <th>2</th>\n",
       "      <td>RAIL-E893235</td>\n",
       "      <td>pos_entity</td>\n",
       "      <td>Q100249658</td>\n",
       "      <td>Q11424</td>\n",
       "      <td>'film'@en</td>\n",
       "      <td>P495</td>\n",
       "      <td>'country of origin'@en</td>\n",
       "      <td>Q112099</td>\n",
       "      <td>'island nation'@en</td>\n",
       "      <td>P1081</td>\n",
       "      <td>'Human Development Index'@en</td>\n",
       "      <td></td>\n",
       "      <td></td>\n",
       "      <td></td>\n",
       "      <td></td>\n",
       "      <td>E3</td>\n",
       "    </tr>\n",
       "    <tr>\n",
       "      <th>3</th>\n",
       "      <td>RAIL-E893235</td>\n",
       "      <td>pos_entity</td>\n",
       "      <td>Q100255572</td>\n",
       "      <td>Q11424</td>\n",
       "      <td>'film'@en</td>\n",
       "      <td>P495</td>\n",
       "      <td>'country of origin'@en</td>\n",
       "      <td>Q112099</td>\n",
       "      <td>'island nation'@en</td>\n",
       "      <td>P1081</td>\n",
       "      <td>'Human Development Index'@en</td>\n",
       "      <td></td>\n",
       "      <td></td>\n",
       "      <td></td>\n",
       "      <td></td>\n",
       "      <td>E4</td>\n",
       "    </tr>\n",
       "    <tr>\n",
       "      <th>4</th>\n",
       "      <td>RAIL-E893235</td>\n",
       "      <td>pos_entity</td>\n",
       "      <td>Q100292318</td>\n",
       "      <td>Q11424</td>\n",
       "      <td>'film'@en</td>\n",
       "      <td>P495</td>\n",
       "      <td>'country of origin'@en</td>\n",
       "      <td>Q112099</td>\n",
       "      <td>'island nation'@en</td>\n",
       "      <td>P1081</td>\n",
       "      <td>'Human Development Index'@en</td>\n",
       "      <td></td>\n",
       "      <td></td>\n",
       "      <td></td>\n",
       "      <td></td>\n",
       "      <td>E5</td>\n",
       "    </tr>\n",
       "    <tr>\n",
       "      <th>5</th>\n",
       "      <td>RAIL-E893235</td>\n",
       "      <td>pos_entity</td>\n",
       "      <td>Q100320850</td>\n",
       "      <td>Q11424</td>\n",
       "      <td>'film'@en</td>\n",
       "      <td>P495</td>\n",
       "      <td>'country of origin'@en</td>\n",
       "      <td>Q112099</td>\n",
       "      <td>'island nation'@en</td>\n",
       "      <td>P1081</td>\n",
       "      <td>'Human Development Index'@en</td>\n",
       "      <td></td>\n",
       "      <td></td>\n",
       "      <td></td>\n",
       "      <td></td>\n",
       "      <td>E6</td>\n",
       "    </tr>\n",
       "    <tr>\n",
       "      <th>6</th>\n",
       "      <td>RAIL-E893235</td>\n",
       "      <td>pos_entity</td>\n",
       "      <td>Q1004318</td>\n",
       "      <td>Q11424</td>\n",
       "      <td>'film'@en</td>\n",
       "      <td>P495</td>\n",
       "      <td>'country of origin'@en</td>\n",
       "      <td>Q112099</td>\n",
       "      <td>'island nation'@en</td>\n",
       "      <td>P1081</td>\n",
       "      <td>'Human Development Index'@en</td>\n",
       "      <td></td>\n",
       "      <td></td>\n",
       "      <td></td>\n",
       "      <td></td>\n",
       "      <td>E7</td>\n",
       "    </tr>\n",
       "    <tr>\n",
       "      <th>7</th>\n",
       "      <td>RAIL-E893235</td>\n",
       "      <td>pos_entity</td>\n",
       "      <td>Q1004567</td>\n",
       "      <td>Q11424</td>\n",
       "      <td>'film'@en</td>\n",
       "      <td>P495</td>\n",
       "      <td>'country of origin'@en</td>\n",
       "      <td>Q112099</td>\n",
       "      <td>'island nation'@en</td>\n",
       "      <td>P1081</td>\n",
       "      <td>'Human Development Index'@en</td>\n",
       "      <td></td>\n",
       "      <td></td>\n",
       "      <td></td>\n",
       "      <td></td>\n",
       "      <td>E8</td>\n",
       "    </tr>\n",
       "    <tr>\n",
       "      <th>8</th>\n",
       "      <td>RAIL-E893235</td>\n",
       "      <td>pos_entity</td>\n",
       "      <td>Q1004710</td>\n",
       "      <td>Q11424</td>\n",
       "      <td>'film'@en</td>\n",
       "      <td>P495</td>\n",
       "      <td>'country of origin'@en</td>\n",
       "      <td>Q112099</td>\n",
       "      <td>'island nation'@en</td>\n",
       "      <td>P1081</td>\n",
       "      <td>'Human Development Index'@en</td>\n",
       "      <td></td>\n",
       "      <td></td>\n",
       "      <td></td>\n",
       "      <td></td>\n",
       "      <td>E9</td>\n",
       "    </tr>\n",
       "    <tr>\n",
       "      <th>9</th>\n",
       "      <td>RAIL-E893235</td>\n",
       "      <td>pos_entity</td>\n",
       "      <td>Q100490548</td>\n",
       "      <td>Q11424</td>\n",
       "      <td>'film'@en</td>\n",
       "      <td>P495</td>\n",
       "      <td>'country of origin'@en</td>\n",
       "      <td>Q112099</td>\n",
       "      <td>'island nation'@en</td>\n",
       "      <td>P1081</td>\n",
       "      <td>'Human Development Index'@en</td>\n",
       "      <td></td>\n",
       "      <td></td>\n",
       "      <td></td>\n",
       "      <td></td>\n",
       "      <td>E10</td>\n",
       "    </tr>\n",
       "    <tr>\n",
       "      <th>10</th>\n",
       "      <td>RAIL-E893235</td>\n",
       "      <td>pos_entity</td>\n",
       "      <td>Q100535001</td>\n",
       "      <td>Q11424</td>\n",
       "      <td>'film'@en</td>\n",
       "      <td>P495</td>\n",
       "      <td>'country of origin'@en</td>\n",
       "      <td>Q112099</td>\n",
       "      <td>'island nation'@en</td>\n",
       "      <td>P1081</td>\n",
       "      <td>'Human Development Index'@en</td>\n",
       "      <td></td>\n",
       "      <td></td>\n",
       "      <td></td>\n",
       "      <td></td>\n",
       "      <td>E11</td>\n",
       "    </tr>\n",
       "  </tbody>\n",
       "</table>\n",
       "</div>"
      ],
      "text/plain": [
       "           node1       label       node2    type type_label  prop  \\\n",
       "0   RAIL-E893235  pos_entity    Q1000094  Q11424  'film'@en  P495   \n",
       "1   RAIL-E893235  pos_entity  Q100156151  Q11424  'film'@en  P495   \n",
       "2   RAIL-E893235  pos_entity  Q100249658  Q11424  'film'@en  P495   \n",
       "3   RAIL-E893235  pos_entity  Q100255572  Q11424  'film'@en  P495   \n",
       "4   RAIL-E893235  pos_entity  Q100292318  Q11424  'film'@en  P495   \n",
       "5   RAIL-E893235  pos_entity  Q100320850  Q11424  'film'@en  P495   \n",
       "6   RAIL-E893235  pos_entity    Q1004318  Q11424  'film'@en  P495   \n",
       "7   RAIL-E893235  pos_entity    Q1004567  Q11424  'film'@en  P495   \n",
       "8   RAIL-E893235  pos_entity    Q1004710  Q11424  'film'@en  P495   \n",
       "9   RAIL-E893235  pos_entity  Q100490548  Q11424  'film'@en  P495   \n",
       "10  RAIL-E893235  pos_entity  Q100535001  Q11424  'film'@en  P495   \n",
       "\n",
       "                prop_label    value         value_label  prop2  \\\n",
       "0   'country of origin'@en  Q112099  'island nation'@en  P1081   \n",
       "1   'country of origin'@en  Q112099  'island nation'@en  P1081   \n",
       "2   'country of origin'@en  Q112099  'island nation'@en  P1081   \n",
       "3   'country of origin'@en  Q112099  'island nation'@en  P1081   \n",
       "4   'country of origin'@en  Q112099  'island nation'@en  P1081   \n",
       "5   'country of origin'@en  Q112099  'island nation'@en  P1081   \n",
       "6   'country of origin'@en  Q112099  'island nation'@en  P1081   \n",
       "7   'country of origin'@en  Q112099  'island nation'@en  P1081   \n",
       "8   'country of origin'@en  Q112099  'island nation'@en  P1081   \n",
       "9   'country of origin'@en  Q112099  'island nation'@en  P1081   \n",
       "10  'country of origin'@en  Q112099  'island nation'@en  P1081   \n",
       "\n",
       "                     prop2_label value2_lb value2_ub si_units wd_units   id  \n",
       "0   'Human Development Index'@en                                         E1  \n",
       "1   'Human Development Index'@en                                         E2  \n",
       "2   'Human Development Index'@en                                         E3  \n",
       "3   'Human Development Index'@en                                         E4  \n",
       "4   'Human Development Index'@en                                         E5  \n",
       "5   'Human Development Index'@en                                         E6  \n",
       "6   'Human Development Index'@en                                         E7  \n",
       "7   'Human Development Index'@en                                         E8  \n",
       "8   'Human Development Index'@en                                         E9  \n",
       "9   'Human Development Index'@en                                        E10  \n",
       "10  'Human Development Index'@en                                        E11  "
      ]
     },
     "metadata": {},
     "output_type": "display_data"
    }
   ],
   "source": [
    "labels_df = pd.read_csv(\"{}/candidate_RAILs_and_their_entities.tsv\".format(os.environ[\"WORK\"]), delimiter = '\\t')\n",
    "print(\"number of distinct labels: {}\".format(len(labels_df.node1.unique())))\n",
    "print(\"number of rows (labels can have multiple matching entities): {}\".format(labels_df.shape[0]))\n",
    "if not labels_df.empty:\n",
    "    display(labels_df.loc[:10].fillna(\"\"))"
   ]
  },
  {
   "cell_type": "markdown",
   "metadata": {},
   "source": [
    "## 2. Get all entities of the type we are profiling"
   ]
  },
  {
   "cell_type": "code",
   "execution_count": 40,
   "metadata": {},
   "outputs": [],
   "source": [
    "!kgtk query -i $LABEL_CREATION_DIR/type_mapping.tsv -i $LABEL_FILE \\\n",
    "-o $WORK/entities_in_type.tsv --graph-cache $STORE \\\n",
    "--match 'type: (entity)-[]->(type:`'\"$TYPE\"'`), `'\"$LABEL_FILE\"'`: (entity)-[:label]->(lab)' \\\n",
    "--return 'distinct entity as entity, lab as label' \\\n",
    "--where 'lab.kgtk_lqstring_lang_suffix = \"en\"' \\\n",
    "--order-by 'entity'"
   ]
  },
  {
   "cell_type": "code",
   "execution_count": 41,
   "metadata": {},
   "outputs": [
    {
     "name": "stdout",
     "output_type": "stream",
     "text": [
      "number of entities: 176405\n"
     ]
    },
    {
     "data": {
      "text/html": [
       "<div>\n",
       "<style scoped>\n",
       "    .dataframe tbody tr th:only-of-type {\n",
       "        vertical-align: middle;\n",
       "    }\n",
       "\n",
       "    .dataframe tbody tr th {\n",
       "        vertical-align: top;\n",
       "    }\n",
       "\n",
       "    .dataframe thead th {\n",
       "        text-align: right;\n",
       "    }\n",
       "</style>\n",
       "<table border=\"1\" class=\"dataframe\">\n",
       "  <thead>\n",
       "    <tr style=\"text-align: right;\">\n",
       "      <th></th>\n",
       "      <th>entity</th>\n",
       "      <th>label</th>\n",
       "    </tr>\n",
       "  </thead>\n",
       "  <tbody>\n",
       "    <tr>\n",
       "      <th>0</th>\n",
       "      <td>Q1000094</td>\n",
       "      <td>'You\\\\\\\\'re Dead'@en</td>\n",
       "    </tr>\n",
       "    <tr>\n",
       "      <th>1</th>\n",
       "      <td>Q1000174</td>\n",
       "      <td>'Tinko'@en</td>\n",
       "    </tr>\n",
       "    <tr>\n",
       "      <th>2</th>\n",
       "      <td>Q1000394</td>\n",
       "      <td>'This Modern Age'@en</td>\n",
       "    </tr>\n",
       "    <tr>\n",
       "      <th>3</th>\n",
       "      <td>Q10005695</td>\n",
       "      <td>'Happy Journey'@en</td>\n",
       "    </tr>\n",
       "    <tr>\n",
       "      <th>4</th>\n",
       "      <td>Q100057542</td>\n",
       "      <td>'The Two Sights'@en</td>\n",
       "    </tr>\n",
       "    <tr>\n",
       "      <th>5</th>\n",
       "      <td>Q10007277</td>\n",
       "      <td>'Pacho, hybský zbojník'@en</td>\n",
       "    </tr>\n",
       "    <tr>\n",
       "      <th>6</th>\n",
       "      <td>Q1000825</td>\n",
       "      <td>'Jan Dara'@en</td>\n",
       "    </tr>\n",
       "    <tr>\n",
       "      <th>7</th>\n",
       "      <td>Q1000826</td>\n",
       "      <td>'Guns of the Magnificent Seven'@en</td>\n",
       "    </tr>\n",
       "    <tr>\n",
       "      <th>8</th>\n",
       "      <td>Q100097551</td>\n",
       "      <td>'American Murder: The Family Next Door'@en</td>\n",
       "    </tr>\n",
       "    <tr>\n",
       "      <th>9</th>\n",
       "      <td>Q100104941</td>\n",
       "      <td>'Die Filmstadt Hollywood'@en</td>\n",
       "    </tr>\n",
       "    <tr>\n",
       "      <th>10</th>\n",
       "      <td>Q1001065</td>\n",
       "      <td>'En la sombra'@en</td>\n",
       "    </tr>\n",
       "  </tbody>\n",
       "</table>\n",
       "</div>"
      ],
      "text/plain": [
       "        entity                                       label\n",
       "0     Q1000094                        'You\\\\\\\\'re Dead'@en\n",
       "1     Q1000174                                  'Tinko'@en\n",
       "2     Q1000394                        'This Modern Age'@en\n",
       "3    Q10005695                          'Happy Journey'@en\n",
       "4   Q100057542                         'The Two Sights'@en\n",
       "5    Q10007277                  'Pacho, hybský zbojník'@en\n",
       "6     Q1000825                               'Jan Dara'@en\n",
       "7     Q1000826          'Guns of the Magnificent Seven'@en\n",
       "8   Q100097551  'American Murder: The Family Next Door'@en\n",
       "9   Q100104941                'Die Filmstadt Hollywood'@en\n",
       "10    Q1001065                           'En la sombra'@en"
      ]
     },
     "metadata": {},
     "output_type": "display_data"
    }
   ],
   "source": [
    "entities_in_type_df = pd.read_csv(\"{}/entities_in_type.tsv\".format(os.environ[\"WORK\"]), delimiter = '\\t')\n",
    "print(\"number of entities: {}\".format(entities_in_type_df.shape[0]))\n",
    "display(entities_in_type_df.loc[:10].fillna(\"\"))"
   ]
  },
  {
   "cell_type": "markdown",
   "metadata": {},
   "source": [
    "## 3. Load information needed into Python variables.\n",
    "1. Load dictionary of all labels found in step 1 above along with their corresponding positive entities (note, performance of this step might be improved if we do it along the way in step 1)\n",
    "2. Load set of all entities of the type we are profiling (compiled in step 2)\n",
    "3. Load the keyed vector of entity embeddings (created in HAS_entity_embeddings notebook)"
   ]
  },
  {
   "cell_type": "code",
   "execution_count": 42,
   "metadata": {},
   "outputs": [
    {
     "name": "stderr",
     "output_type": "stream",
     "text": [
      "/nas/home/nmklein/anaconda3/envs/kgtk-env/lib/python3.8/site-packages/IPython/core/interactiveshell.py:3146: DtypeWarning: Columns (14) have mixed types.Specify dtype option on import or set low_memory=False.\n",
      "  has_raised = await self.run_ast_nodes(code_ast.body, cell_name,\n"
     ]
    },
    {
     "name": "stdout",
     "output_type": "stream",
     "text": [
      "total number of candidate labels for profiling entities of type Q11424: 273\n",
      "Loaded set of all entities of the type we are profiling (176405 total)\n",
      "Loaded entity embeddings\n"
     ]
    }
   ],
   "source": [
    "# load labels from step 1 into single dataframe\n",
    "labels_df = pd.read_csv(\"{}/candidate_RELs_and_their_entities.tsv\".format(os.environ[\"WORK\"]), delimiter = '\\t').fillna(\"\")\n",
    "labels_df = labels_df.append(pd.read_csv(\"{}/candidate_quantity_AVLs_and_their_entities.tsv\".format(os.environ[\"WORK\"]), delimiter = '\\t').fillna(\"\"))\n",
    "labels_df = labels_df.append(pd.read_csv(\"{}/candidate_time.year_AVLs_and_their_entities.tsv\".format(os.environ[\"WORK\"]), delimiter = '\\t').fillna(\"\"))\n",
    "labels_df = labels_df.append(pd.read_csv(\"{}/candidate_quantity_AILs_and_their_entities.tsv\".format(os.environ[\"WORK\"]), delimiter = '\\t').fillna(\"\"))\n",
    "labels_df = labels_df.append(pd.read_csv(\"{}/candidate_time.year_AILs_and_their_entities.tsv\".format(os.environ[\"WORK\"]), delimiter = '\\t').fillna(\"\"))\n",
    "labels_df = labels_df.append(pd.read_csv(\"{}/candidate_RAVLs_and_their_entities.tsv\".format(os.environ[\"WORK\"]), delimiter = '\\t').fillna(\"\"))\n",
    "labels_df = labels_df.append(pd.read_csv(\"{}/candidate_RAILs_and_their_entities.tsv\".format(os.environ[\"WORK\"]), delimiter = '\\t').fillna(\"\"))\n",
    "\n",
    "# create dictionary of label_id --> set of matching entities\n",
    "# using groupby is not the most efficient, but more concise\n",
    "label_to_entities = labels_df.groupby(\"node1\")[\"node2\"].apply(set).to_dict()\n",
    "print(\"total number of candidate labels for profiling entities of type {}: {}\".format(type_to_profile, len(label_to_entities)))\n",
    "\n",
    "# look up number of entities of the type we are profiling - looking to a file we created in label creation notebook\n",
    "all_ents_in_type = set(pd.read_csv(\"{}/entities_in_type.tsv\".format(os.environ['WORK']), delimiter = '\\t').entity)\n",
    "print(\"Loaded set of all entities of the type we are profiling ({} total)\".format(len(all_ents_in_type)))\n",
    "\n",
    "# load embeddings created in the embeddings notebook\n",
    "entity_embeddings = KeyedVectors.load(\"{}/HAS_embeddings/entity_embeddings.kv\".format(work_dir))\n",
    "print(\"Loaded entity embeddings\")"
   ]
  },
  {
   "cell_type": "markdown",
   "metadata": {},
   "source": [
    "## 4. Compute distinctiveness for each label\n",
    "distinctiveness of a label = average similarity amongst its positive entities - average similarity between its positive and negative entities\n",
    "\n",
    "**We are running into a slight issue here because of how few entities there are of type beer**: filtering cutoffs for support was .1 and .9. Because we have <11 beers, we don't filter out labels that have only one matching beer. When computing internal similarity, we end up trying to find average similarity between pairs of entities in a set that has only one entity. Options: 1. set internal similarity to 0 - this will make us have a preference against adding such labels to the label set. 2. set internal similarity to 1 - this reflects that we haven't paired any dissimilar entities together... however this may create a large preference for single-entity labels..."
   ]
  },
  {
   "cell_type": "code",
   "execution_count": 83,
   "metadata": {},
   "outputs": [],
   "source": [
    "import random"
   ]
  },
  {
   "cell_type": "code",
   "execution_count": 95,
   "metadata": {},
   "outputs": [],
   "source": [
    "label, pos_ents = list(label_to_entities.items())[0]\n",
    "pos_ents = random.sample(list(pos_ents),1000)"
   ]
  },
  {
   "cell_type": "code",
   "execution_count": 96,
   "metadata": {},
   "outputs": [
    {
     "name": "stdout",
     "output_type": "stream",
     "text": [
      "CPU times: user 2.17 s, sys: 8.13 s, total: 10.3 s\n",
      "Wall time: 256 ms\n"
     ]
    }
   ],
   "source": [
    "%%time\n",
    "pos_ent_embeds = entity_embeddings[pos_ents]\n",
    "avg_internal_similarity = np.sum([np.sum(entity_embeddings.cosine_similarities(pos_ent_embeds[i], pos_ent_embeds[i+1:])) for i in range(len(pos_ents))]) / len(pos_ents)**2"
   ]
  },
  {
   "cell_type": "code",
   "execution_count": 98,
   "metadata": {},
   "outputs": [
    {
     "name": "stdout",
     "output_type": "stream",
     "text": [
      "CPU times: user 6.47 s, sys: 129 ms, total: 6.6 s\n",
      "Wall time: 6.59 s\n"
     ]
    }
   ],
   "source": [
    "%%time\n",
    "pairs = list(itertools.combinations(pos_ents,2))\n",
    "avg_internal_similarity = np.sum([entity_embeddings.similarity(e1, e2) for (e1, e2) in pairs]) / len(pairs)"
   ]
  },
  {
   "cell_type": "code",
   "execution_count": 61,
   "metadata": {},
   "outputs": [
    {
     "name": "stdout",
     "output_type": "stream",
     "text": [
      "273\n",
      "pos ents: 25338\n"
     ]
    },
    {
     "ename": "KeyboardInterrupt",
     "evalue": "",
     "output_type": "error",
     "traceback": [
      "\u001b[0;31m---------------------------------------------------------------------------\u001b[0m",
      "\u001b[0;31mKeyboardInterrupt\u001b[0m                         Traceback (most recent call last)",
      "\u001b[0;32m<timed exec>\u001b[0m in \u001b[0;36m<module>\u001b[0;34m\u001b[0m\n",
      "\u001b[0;32m<timed exec>\u001b[0m in \u001b[0;36m<listcomp>\u001b[0;34m(.0)\u001b[0m\n",
      "\u001b[0;32m~/anaconda3/envs/kgtk-env/lib/python3.8/site-packages/gensim/models/keyedvectors.py\u001b[0m in \u001b[0;36mcosine_similarities\u001b[0;34m(vector_1, vectors_all)\u001b[0m\n\u001b[1;32m    899\u001b[0m         \u001b[0mnorm\u001b[0m \u001b[0;34m=\u001b[0m \u001b[0mnp\u001b[0m\u001b[0;34m.\u001b[0m\u001b[0mlinalg\u001b[0m\u001b[0;34m.\u001b[0m\u001b[0mnorm\u001b[0m\u001b[0;34m(\u001b[0m\u001b[0mvector_1\u001b[0m\u001b[0;34m)\u001b[0m\u001b[0;34m\u001b[0m\u001b[0;34m\u001b[0m\u001b[0m\n\u001b[1;32m    900\u001b[0m         \u001b[0mall_norms\u001b[0m \u001b[0;34m=\u001b[0m \u001b[0mnp\u001b[0m\u001b[0;34m.\u001b[0m\u001b[0mlinalg\u001b[0m\u001b[0;34m.\u001b[0m\u001b[0mnorm\u001b[0m\u001b[0;34m(\u001b[0m\u001b[0mvectors_all\u001b[0m\u001b[0;34m,\u001b[0m \u001b[0maxis\u001b[0m\u001b[0;34m=\u001b[0m\u001b[0;36m1\u001b[0m\u001b[0;34m)\u001b[0m\u001b[0;34m\u001b[0m\u001b[0;34m\u001b[0m\u001b[0m\n\u001b[0;32m--> 901\u001b[0;31m         \u001b[0mdot_products\u001b[0m \u001b[0;34m=\u001b[0m \u001b[0mdot\u001b[0m\u001b[0;34m(\u001b[0m\u001b[0mvectors_all\u001b[0m\u001b[0;34m,\u001b[0m \u001b[0mvector_1\u001b[0m\u001b[0;34m)\u001b[0m\u001b[0;34m\u001b[0m\u001b[0;34m\u001b[0m\u001b[0m\n\u001b[0m\u001b[1;32m    902\u001b[0m         \u001b[0msimilarities\u001b[0m \u001b[0;34m=\u001b[0m \u001b[0mdot_products\u001b[0m \u001b[0;34m/\u001b[0m \u001b[0;34m(\u001b[0m\u001b[0mnorm\u001b[0m \u001b[0;34m*\u001b[0m \u001b[0mall_norms\u001b[0m\u001b[0;34m)\u001b[0m\u001b[0;34m\u001b[0m\u001b[0;34m\u001b[0m\u001b[0m\n\u001b[1;32m    903\u001b[0m         \u001b[0;32mreturn\u001b[0m \u001b[0msimilarities\u001b[0m\u001b[0;34m\u001b[0m\u001b[0;34m\u001b[0m\u001b[0m\n",
      "\u001b[0;32m<__array_function__ internals>\u001b[0m in \u001b[0;36mdot\u001b[0;34m(*args, **kwargs)\u001b[0m\n",
      "\u001b[0;31mKeyboardInterrupt\u001b[0m: "
     ]
    }
   ],
   "source": [
    "%%time\n",
    "label_distinctiveness = {}\n",
    "# todo - use comprehension instead of loop\n",
    "print(len(label_to_entities))\n",
    "count = 0\n",
    "for label, pos_ents in label_to_entities.items():\n",
    "    # average internal similarity\n",
    "    if len(pos_ents) < 2:\n",
    "        avg_internal_similarity = 1 # see note in section header above\n",
    "    else:\n",
    "#         # way 1 - might be faster...\n",
    "        pos_ent_embeds = entity_embeddings[pos_ents]\n",
    "        avg_internal_similarity = np.sum([np.sum(entity_embeddings.cosine_similarities(pos_ent_embeds[i], pos_ent_embeds[i+1:])) for i in range(len(pos_ents))]) / len(pos_ents)**2\n",
    "        # way 2 - clearer...\n",
    "#         pairs = list(itertools.combinations(pos_ents,2))\n",
    "#         avg_internal_similarity = np.sum([entity_embeddings.similarity(e1, e2) for (e1, e2) in pairs]) / len(pairs)\n",
    "        break\n",
    "    \n",
    "    # average external similarity\n",
    "    neg_ents = all_ents_in_type - pos_ents\n",
    "    pairs = list(itertools.product(pos_ents, neg_ents))\n",
    "    avg_external_similarity = np.sum([entity_embeddings.similarity(e1, e2) for (e1, e2) in pairs]) / len(pairs)\n",
    "    \n",
    "    label_distinctiveness[label] = avg_internal_similarity - avg_external_similarity\n",
    "    count += 1\n",
    "    print(count)"
   ]
  },
  {
   "cell_type": "markdown",
   "metadata": {},
   "source": [
    "Let's take a look at the most distinctive labels"
   ]
  },
  {
   "cell_type": "code",
   "execution_count": null,
   "metadata": {},
   "outputs": [],
   "source": [
    "print(\"There are {} labels, and {} distinct values of distinctiveness.\".format(len(label_distinctiveness),len(set(label_distinctiveness.values()))))\n",
    "print(\"Most distinctive labels:\")\n",
    "most_distinct = sorted(label_distinctiveness.items(), key=lambda item: item[1], reverse=True)[:5]\n",
    "display(most_distinct)\n",
    "print(\"Looking at the top 1:\")\n",
    "label_id = most_distinct[0][0]\n",
    "cols_to_display = [\"type\", \"type_label\", \"prop\", \"prop_label\", \"value\", \"value_label\", \"value_lb\", \"value_ub\", \"prop2\", \"prop2_label\", \"value2\", \"value2_lb\", \"value2_ub\", \"si_units\", \"wd_units\"]\n",
    "display(labels_df.loc[labels_df[\"node1\"]==label_id, cols_to_display].fillna(\"\").iloc[[0]])\n",
    "print(\"Number of positive entities for this label: {} (out of {} entities of this type)\".format(len(label_to_entities[label_id]), len(all_ents_in_type)))\n",
    "#print(\"Positive entities for this label: {}\".format(\", \".join(label_to_entities[label_id])))\n",
    "# negatives = all_ents_in_type - label_to_entities[label_id]\n",
    "# print(\"Negative entities for this label: {}\".format(\", \".join(negatives)))"
   ]
  },
  {
   "cell_type": "markdown",
   "metadata": {},
   "source": [
    "## 5. Iteratively choose labels to add to label set using formula\n",
    "Choose label $l_i = argmax_{l_i \\in L_t^c}{[d(l_i) + \\delta * reward(l_i,L_t) - (1- \\delta) * penalty(l_i,L_t)]}$\n",
    "\n",
    "Where...\n",
    "- $l_i$ is a label\n",
    "- $L_t^c$ is the set of candidate labels relevant to the type $t$ that we are profiling\n",
    "- $L_t$ is the set of labels relevant to the type $t$ that we have so far chosen to be in the final label set\n",
    "- $d(l_i)$ is the distinctiveness of label $l_i$\n",
    "- $reward(l_i,L_t)$ is a function that captures the potential increase in the total coverage of entities of type $t$ in the KG by the labels in $L_t$ if $l_i$ were to be added to it.\n",
    "- $penalty(l_i,L_t)$ is a function that captures the potential increase in redundancy of labels in $L_t$ if $l_i$ were to be added to it.\n",
    "- $\\delta$ is a hyperparameter that adjusts if we care more about increasing total coverage versus minimizing redundancy"
   ]
  },
  {
   "cell_type": "markdown",
   "metadata": {},
   "source": [
    "Functions for computing reward and penalty..."
   ]
  },
  {
   "cell_type": "markdown",
   "metadata": {},
   "source": [
    "$reward(l_i,L_t) = \\cfrac{|\\bigcup_{l_j \\in (L_t \\cup \\{l_i\\})}{\\varepsilon_t^{l_j}}|}{|\\varepsilon_t|}$\n",
    "\n",
    "Where...\n",
    "- $\\varepsilon_t^{l_j}$ is the set of entities of type $t$ that match label $l_j$\n",
    "- $\\varepsilon_t$ is the set of entities of type $t$"
   ]
  },
  {
   "cell_type": "code",
   "execution_count": null,
   "metadata": {},
   "outputs": [],
   "source": [
    "# note params are slightly different to avoid redundant computation\n",
    "def reward(candidate_label, entities_covered_already):\n",
    "    return len(entities_covered_already | label_to_entities[candidate_label]) / len(all_ents_in_type)"
   ]
  },
  {
   "cell_type": "markdown",
   "metadata": {},
   "source": [
    "From the paper, \"reward is the potential contribution of \\[the label\\] to the increase of the total\n",
    "coverage of positive entities in the KG\". The formula above doesn't exactly do that... yes, if the label increases the coverage of positive entities, then it will be higher, but if we already have good coverage and this label doesn't add anything new, reward will still be high. If we want a function that does what they explained, we could use something like $\\cfrac{|\\varepsilon_t^{l_i}| - |\\varepsilon_t^{L_t} \\cap \\varepsilon_t^{l_i}|}{|\\varepsilon_t|}$"
   ]
  },
  {
   "cell_type": "markdown",
   "metadata": {},
   "source": [
    "$penalty(l_i,L_t) = \\cfrac{\\sum_{l_j \\in L_t}{|\\varepsilon_t^{l_i} \\cap \\varepsilon_t^{l_j}|}}{|L_t| * |\\varepsilon_t|}$"
   ]
  },
  {
   "cell_type": "code",
   "execution_count": null,
   "metadata": {},
   "outputs": [],
   "source": [
    "# note params are slightly different to avoid redundant computation\n",
    "def penalty(numerator, label_set):\n",
    "    # when label set is empty, avoid divide by zero\n",
    "    if len(label_set) == 0:\n",
    "        return 0 \n",
    "    return numerator / (len(label_set) * len(all_ents_in_type))"
   ]
  },
  {
   "cell_type": "markdown",
   "metadata": {},
   "source": [
    "Iteratively choose labels"
   ]
  },
  {
   "cell_type": "code",
   "execution_count": null,
   "metadata": {},
   "outputs": [],
   "source": [
    "%%time\n",
    "d = .5 # can make this a parameter\n",
    "min_cutoff = 0 # can make this a parameter (though it isn't mentioned in the paper..)\n",
    "covered_ents = set() # set of all entities covered by label set\n",
    "label_set = []\n",
    "candidate_labels = list(label_to_entities.keys())\n",
    "penalty_numerator_for_label = {l : 0 for l in candidate_labels}\n",
    "print(\"We have {} candidate labels to choose from\".format(len(candidate_labels)))\n",
    "\n",
    "for i in range(len(candidate_labels)):\n",
    "    # Finding the best label\n",
    "    vals = [label_distinctiveness[l] + d*reward(l, covered_ents) - (1-d)*penalty(penalty_numerator_for_label[l], label_set) for l in candidate_labels]\n",
    "    max_val = np.max(vals)\n",
    "    if max_val <= min_cutoff:\n",
    "        break\n",
    "    max_ix = np.random.choice(np.flatnonzero(vals == max_val))\n",
    "    max_label = candidate_labels[max_ix]\n",
    "    max_label_ents = label_to_entities[max_label]\n",
    "    \n",
    "    # Adding the label to final label set\n",
    "    label_set.append(max_label)\n",
    "    covered_ents = covered_ents | max_label_ents\n",
    "\n",
    "    # Remove the label from candidate labels\n",
    "    candidate_labels.pop(max_ix)\n",
    "    \n",
    "    # Update penalty numerator for labels that are still in the candidate list\n",
    "    for l in candidate_labels:\n",
    "        penalty_numerator_for_label[l] += len((label_to_entities[l] & max_label_ents))\n",
    "        \n",
    "#     print(\"Iteration {}:\".format(i+1))\n",
    "#     print(\"\\tmax label: {}\".format(max_label))\n",
    "#     print(\"\\t\\tvalue: {}\".format(max_val))\n",
    "#     print(\"\\t\\tcovered entities: {}\".format(\", \".join(np.sort(list(max_label_ents)))))\n",
    "#     print(\"\\t\\tdistinctiveness: {}\".format(label_distinctiveness[max_label]))\n",
    "#     print(\"\\t\\treward: {}\".format(reward(max_label, covered_ents)))\n",
    "#     print(\"\\t\\tpenalty: {}\".format(penalty(penalty_numerator_for_label[max_label], label_set[:-1])))\n",
    "    \n",
    "print(\"Final label set has {} labels, covering {} / {} entities of type {} in the dataset\".format(len(label_set), len(covered_ents), len(all_ents_in_type), type_to_profile))"
   ]
  },
  {
   "cell_type": "markdown",
   "metadata": {},
   "source": [
    "## 6. Look at what profiles are created\n",
    "**may make sense to eventually move to separate notebook.**\n"
   ]
  },
  {
   "cell_type": "code",
   "execution_count": null,
   "metadata": {},
   "outputs": [],
   "source": [
    "# NOTE - we can make max_labels_in_profile a notebook param\n",
    "def print_profile_for_entity(entity, max_labels_in_profile = 5):\n",
    "    print(\"Generating profile for entity: {}...\".format(entity))\n",
    "\n",
    "    # We can improve performance using a loop and stopping when we find however many labels we desire.\n",
    "    # doing it this way here so we can see how many labels total are applicable to the entity\n",
    "    matching_label_ids_ordered = [l for l in label_set if entity in label_to_entities[l]]\n",
    "\n",
    "    print(\"There are {} labels in the final label set that match this entity.\".format(len(matching_label_ids_ordered)))\n",
    "    print(\"Choosing the top {}:\".format(max_labels_in_profile))\n",
    "\n",
    "    cols_to_display = [\"type\", \"type_label\", \"prop\", \"prop_label\", \"value\", \"value_label\", \"value_lb\", \"value_ub\", \"prop2\", \"prop2_label\", \"value2\", \"value2_lb\", \"value2_ub\", \"si_units\", \"wd_units\"]\n",
    "    for label_id in matching_label_ids_ordered[:max_labels_in_profile]:\n",
    "#         print(\"\\nLabel ID: {}\".format(label_id))\n",
    "        display(labels_df.loc[labels_df[\"node1\"]==label_id,cols_to_display].fillna(\"\").iloc[[0]])\n",
    "#         print(\"positives for this label: {}\".format(\", \".join(label_to_entities[label_id])))\n",
    "        print(\"Number of positive entities for this label: {} (out of {} entities of this type)\".format(len(label_to_entities[label_id]), len(all_ents_in_type)))"
   ]
  },
  {
   "cell_type": "markdown",
   "metadata": {},
   "source": [
    "Let's look at the generated profile for one of the beers: Q93558270 - Vergina Porfyra"
   ]
  },
  {
   "cell_type": "code",
   "execution_count": null,
   "metadata": {
    "scrolled": false
   },
   "outputs": [],
   "source": [
    "print_profile_for_entity(\"Q93558270\")"
   ]
  },
  {
   "cell_type": "code",
   "execution_count": null,
   "metadata": {},
   "outputs": [],
   "source": []
  }
 ],
 "metadata": {
  "kernelspec": {
   "display_name": "Python 3",
   "language": "python",
   "name": "python3"
  },
  "language_info": {
   "codemirror_mode": {
    "name": "ipython",
    "version": 3
   },
   "file_extension": ".py",
   "mimetype": "text/x-python",
   "name": "python",
   "nbconvert_exporter": "python",
   "pygments_lexer": "ipython3",
   "version": "3.8.5"
  }
 },
 "nbformat": 4,
 "nbformat_minor": 4
}
