{
 "cells": [
  {
   "cell_type": "markdown",
   "metadata": {},
   "source": [
    "# Generating Subsets of Wikidata\n",
    "\n",
    ">Warning: \n",
    "**This notebook is under construction and it doesn't work**"
   ]
  },
  {
   "cell_type": "markdown",
   "metadata": {},
   "source": [
    "### Batch Invocation\n",
    "Example batch command. The second argument is a notebook where the output will be stored. You can load it to see progress.\n",
    "\n",
    "UPDATE EXAMPLE INVOCATION\n",
    "\n",
    "\n",
    "```\n",
    "papermill Wikidata\\ Useful\\ Files.ipynb useful-files.out.ipynb \\\n",
    "-p wiki_file /Volumes/GoogleDrive/Shared\\ drives/KGTK-public-graphs/wikidata-20200803-v3/all.tsv.gz \\\n",
    "-p label_file /Volumes/GoogleDrive/Shared\\ drives/KGTK-public-graphs/wikidata-20200803-v3/part.label.en.tsv.gz \\\n",
    "-p item_file /Volumes/GoogleDrive/Shared\\ drives/KGTK-public-graphs/wikidata-20200803-v3/part.wikibase-item.tsv.gz \\\n",
    "-p property_item_file /Volumes/GoogleDrive/Shared\\ drives/KGTK-public-graphs/wikidata-20200803-v3/part.property.wikibase-item.tsv.gz \\\n",
    "-p qual_file /Volumes/GoogleDrive/Shared\\ drives/KGTK-public-graphs/wikidata-20200803-v3/qual.tsv.gz \\\n",
    "-p output_path <local folder> \\\n",
    "-p output_folder useful_files_v4 \\\n",
    "-p temp_folder temp.useful_files_v4 \\\n",
    "-p delete_database no \\\n",
    "-p compute_pagerank no \\\n",
    "-p languages es,ru,zh-cn \n",
    "```"
   ]
  },
  {
   "cell_type": "code",
   "execution_count": 1,
   "metadata": {
    "tags": [
     "parameters"
    ]
   },
   "outputs": [],
   "source": [
    "# Parameters\n",
    "\n",
    "# Folder on local machine where to create the output and temporary folders\n",
    "output_path = \"/Users/pedroszekely/Downloads/kypher\"\n",
    "\n",
    "# The names of the output and temporary folders\n",
    "output_folder = \"wikidata_os_v5\"\n",
    "temp_folder = \"temp.wikidata_os_v5\"\n",
    "output_folder = \"miniwikidata\"\n",
    "temp_folder = \"temp.miniwikidata\"\n",
    "\n",
    "# Classes to remove\n",
    "remove_classes = \"Q13442814, Q523, Q16521, Q318, Q7318358, Q7187, Q11173, Q8054, Q5, Q13100073, Q8502, Q3305213, Q4022, Q79007, Q1931185, Q30612, Q101352, Q54050, Q13433827, Q2668072, Q23397, Q3863, Q11424, Q482994, Q47150325, Q16970, Q18593264, Q355304, Q9842, Q7725634, Q27020041, Q56436498, Q2154519, Q61443690, Q49008, Q3331189, Q47521, Q5084, Q19389637, Q21014462, Q4164871, Q11060274, Q5633421, Q39816, Q5185279, Q55488, Q134556, Q22698, Q985488, Q1260524, Q204107, Q2225692, Q215380, Q71963409, Q452237, Q93184, Q12323\"\n",
    "\n",
    "# in addtion to Q13442814, Q523, Q16521, Q318, Q7318358, Q7187, Q11173, Q8054, also remove the following\n",
    "#\n",
    "# Q5\t8064163\t'human'@en\n",
    "# Q13100073\t588509\t'village-level division in China'@en\n",
    "# Q8502\t525197\t'mountain'@en\n",
    "# Q3305213\t453407\t'painting'@en\n",
    "# Q4022\t401204\t'river'@en\n",
    "# Q79007\t395457\t'street'@en\n",
    "# Q1931185\t353469\t'astronomical radio source'@en\n",
    "# Q30612\t343063\t'clinical trial'@en\n",
    "# Q101352\t341799\t'family name'@en\n",
    "# Q54050\t324642\t'hill'@en\n",
    "# Q13433827\t316550\t'encyclopedic article'@en\n",
    "# Q2668072\t286741\t'collection'@en\n",
    "# Q23397\t258572\t'lake'@en\n",
    "# Q3863\t247663\t'asteroid'@en\n",
    "# Q11424\t246952\t'film'@en\n",
    "# Q482994\t219636\t'album'@en\n",
    "# Q47150325\t189269\t'calendar day of a given year'@en\n",
    "# Q16970\t188704\t'church building'@en\n",
    "# Q18593264\t182635\t'item of collection or exhibition'@en\n",
    "# Q355304\t174885\t'watercourse'@en\n",
    "# Q9842\t160945\t'primary school'@en\n",
    "# Q7725634\t155824\t'literary work'@en\n",
    "# Q27020041\t145523\t'sports season'@en\n",
    "# Q56436498\t145300\t'village in India'@en\n",
    "# Q2154519\t143673\t'astrophysical X-ray source'@en\n",
    "# Q61443690\t129184\t'branch post office'@en\n",
    "# Q49008\t127165\t'prime number'@en\n",
    "# Q3331189\t124676\t'version, edition, or translation'@en\n",
    "# Q47521\t124544\t'stream'@en\n",
    "# Q5084\t118456\t'hamlet'@en\n",
    "# Q19389637\t117362\t'biographical article'@en\n",
    "# Q21014462\t115889\t'cell line'@en\n",
    "# Q4164871\t112578\t'position'@en\n",
    "# Q11060274\t111878\t'print'@en\n",
    "# Q5633421\t99250\t'scientific journal'@en\n",
    "# Q39816\t95998\t'valley'@en\n",
    "# Q5185279\t95376\t'poem'@en\n",
    "# Q55488\t93971\t'railway station'@en\n",
    "# Q134556\t91833\t'single'@en\n",
    "# Q22698\t91192\t'park'@en\n",
    "# Q985488\t90364\t'residential community of the People\\\\'s Republic of China'@en\n",
    "# Q1260524\t87851\t'time of the day'@en\n",
    "# Q204107\t84529\t'galaxy cluster'@en\n",
    "# Q2225692\t84272\t'fourth-level administrative division in Indonesia'@en\n",
    "# Q215380\t79154\t'musical group'@en\n",
    "# Q71963409\t78881\t'compact group of galaxies'@en\n",
    "# Q452237\t76701\t'motion'@en\n",
    "# Q93184\t76106\t'drawing'@en\n",
    "# Q12323\t74279\t'dam'@en\n",
    "\n",
    "# The location of input files\n",
    "wiki_root_folder = \"/Volumes/GoogleDrive/Shared\\ drives/KGTK/datasets/wikidata-20200803-v4/\"\n",
    "wiki_root_folder = \"/Volumes/GoogleDrive/Shared\\ drives/KGTK/datasets/wikidata-20200803-v4/\"\n",
    "wiki_root_folder = \"/Users/pedroszekely/Downloads/kypher/wikidataos-v4/\"\n",
    "\n",
    "claims_file = \"claims.tsv.gz\"\n",
    "label_file = \"labels.en.tsv.gz\"\n",
    "alias_file = \"aliases.en.tsv.gz\"\n",
    "description_file = \"descriptions.en.tsv.gz\"\n",
    "item_file = \"claims.wikibase-item.tsv.gz\"\n",
    "qual_file = \"qualifiers.tsv.gz\"\n",
    "property_datatypes_file = \"metadata.property.datatypes.tsv.gz\"\n",
    "isa_file = \"derived.isa.tsv.gz\"\n",
    "p279star_file = \"derived.P279star.tsv.gz\"\n",
    "\n",
    "# Location of the cache database for kypher\n",
    "cache_path = \"/Users/pedroszekely/Downloads/kypher/wikidataos-v4\"\n",
    "\n",
    "# Whether to delete the cache database\n",
    "### Needs fixing\n",
    "delete_database = \"no\"\n",
    "if delete_database and delete_database.lower().strip() == 'yes':\n",
    "    delete_database = True\n",
    "else:\n",
    "    delete_database = False\n",
    "\n",
    "compute_pagerank = \"no\"\n",
    "### Needs fixing\n",
    "if compute_pagerank and compute_pagerank.lower().strip() == 'yes':\n",
    "    compute_pagerank = True\n",
    "else:\n",
    "    compute_pagerank = False\n",
    "\n",
    "# shortcuts to commands\n",
    "kgtk = \"time kgtk --debug\"\n",
    "# kgtk = \"kgtk --debug\"\n",
    "\n",
    "# Useful files Jupyter notebook\n",
    "useful_files_notebook = \"Wikidata Useful Files.ipynb\"\n",
    "notebooks_folder = \"/Users/pedroszekely/Documents/GitHub/kgtk/examples/\"\n",
    "\n",
    "languages = \"\"\n",
    "if languages:\n",
    "    languages = languages.split(',')"
   ]
  },
  {
   "cell_type": "code",
   "execution_count": 2,
   "metadata": {},
   "outputs": [],
   "source": [
    "import io\n",
    "import os\n",
    "import subprocess\n",
    "import sys\n",
    "\n",
    "import numpy as np\n",
    "import pandas as pd\n",
    "\n",
    "import altair as alt\n",
    "\n",
    "import papermill as pm"
   ]
  },
  {
   "cell_type": "markdown",
   "metadata": {},
   "source": [
    "## Set up variables for files"
   ]
  },
  {
   "cell_type": "code",
   "execution_count": 3,
   "metadata": {},
   "outputs": [],
   "source": [
    "if cache_path:\n",
    "    os.environ['STORE'] = \"{}/wikidata.sqlite3.db\".format(cache_path)\n",
    "else:\n",
    "    os.environ['STORE'] = \"{}/{}/wikidata.sqlite3.db\".format(output_path, temp_folder)\n",
    "    \n",
    "if cache_path:\n",
    "    store = \"{}/wikidata.sqlite3.db\".format(cache_path)\n",
    "else:\n",
    "    store = \"{}/{}/wikidata.sqlite3.db\".format(output_path, temp_folder)\n",
    "\n",
    "out = \"{}/{}\".format(output_path, output_folder)\n",
    "temp = \"{}/{}\".format(output_path, temp_folder)\n",
    "\n",
    "kypher = \"kgtk query --debug --graph-cache \" + store\n",
    "\n",
    "claims = wiki_root_folder + claims_file\n",
    "items = wiki_root_folder + item_file\n",
    "isa = wiki_root_folder + isa_file\n",
    "quals = wiki_root_folder + qual_file\n",
    "datatypes = wiki_root_folder + property_datatypes_file\n",
    "p279star = wiki_root_folder + p279star_file\n",
    "\n",
    "labels = wiki_root_folder + label_file\n",
    "aliases = wiki_root_folder + alias_file\n",
    "descriptions = wiki_root_folder + description_file"
   ]
  },
  {
   "cell_type": "markdown",
   "metadata": {},
   "source": [
    "Go to the output directory and create the subfolders for the output files and the temporary files"
   ]
  },
  {
   "cell_type": "code",
   "execution_count": 4,
   "metadata": {},
   "outputs": [
    {
     "name": "stdout",
     "output_type": "stream",
     "text": [
      "/Users/pedroszekely/Downloads/kypher\n"
     ]
    }
   ],
   "source": [
    "cd $output_path"
   ]
  },
  {
   "cell_type": "code",
   "execution_count": 18,
   "metadata": {},
   "outputs": [
    {
     "name": "stdout",
     "output_type": "stream",
     "text": [
      "mkdir: /Users/pedroszekely/Downloads/kypher/miniwikidata: File exists\n",
      "mkdir: /Users/pedroszekely/Downloads/kypher/temp.miniwikidata: File exists\n"
     ]
    }
   ],
   "source": [
    "!mkdir {out}\n",
    "!mkdir {temp}"
   ]
  },
  {
   "cell_type": "markdown",
   "metadata": {},
   "source": [
    "Clean up the output and temp folders before we start"
   ]
  },
  {
   "cell_type": "code",
   "execution_count": 19,
   "metadata": {},
   "outputs": [],
   "source": [
    "# !rm {out}/*.tsv {out}/*.tsv.gz\n",
    "# !rm {temp}/*.tsv {temp}/*.tsv.gz"
   ]
  },
  {
   "cell_type": "code",
   "execution_count": 20,
   "metadata": {},
   "outputs": [],
   "source": [
    "if delete_database:\n",
    "    !rm {out}/*.tsv {out}/*.tsv.gz\n",
    "    !rm {temp}/*.tsv {temp}/*.tsv.gz"
   ]
  },
  {
   "cell_type": "markdown",
   "metadata": {},
   "source": [
    "### Preview the input files"
   ]
  },
  {
   "cell_type": "markdown",
   "metadata": {},
   "source": [
    "It is always a good practice to peek a the files to make sure the column headings are what we expect"
   ]
  },
  {
   "cell_type": "code",
   "execution_count": 21,
   "metadata": {},
   "outputs": [
    {
     "name": "stdout",
     "output_type": "stream",
     "text": [
      "id\tnode1\tlabel\tnode2\trank\tnode2;wikidatatype\n",
      "P10-P1628-32b85d-7927ece6-0\tP10\tP1628\t\"http://www.w3.org/2006/vcard/ns#Video\"\tnormal\turl\n",
      "P10-P1628-acf60d-b8950832-0\tP10\tP1628\t\"https://schema.org/video\"\tnormal\turl\n",
      "P10-P1629-Q34508-bcc39400-0\tP10\tP1629\tQ34508\tnormal\twikibase-item\n",
      "P10-P1659-P1651-c4068028-0\tP10\tP1659\tP1651\tnormal\twikibase-property\n",
      "P10-P1659-P18-5e4b9c4f-0\tP10\tP1659\tP18\tnormal\twikibase-property\n",
      "P10-P1659-P4238-d21d1ac0-0\tP10\tP1659\tP4238\tnormal\twikibase-property\n",
      "P10-P1659-P51-86aca4c5-0\tP10\tP1659\tP51\tnormal\twikibase-property\n",
      "P10-P1855-Q15075950-7eff6d65-0\tP10\tP1855\tQ15075950\tnormal\twikibase-item\n",
      "P10-P1855-Q69063653-c8cdb04c-0\tP10\tP1855\tQ69063653\tnormal\twikibase-item\n",
      "gzcat: error writing to output: Broken pipe\n",
      "gzcat: /Users/pedroszekely/Downloads/kypher/wikidataos-v4/claims.tsv.gz: uncompress failed\n"
     ]
    }
   ],
   "source": [
    "!gzcat {claims} | head"
   ]
  },
  {
   "cell_type": "code",
   "execution_count": 23,
   "metadata": {},
   "outputs": [
    {
     "name": "stdout",
     "output_type": "stream",
     "text": [
      "[2021-01-23 19:50:19 sqlstore]: IMPORT graph directly into table graph_1 from /Users/pedroszekely/Downloads/kypher/wikidataos-v4/claims.tsv.gz ...\n",
      "[2021-01-23 20:21:47 query]: SQL Translation:\n",
      "---------------------------------------------\n",
      "  SELECT *\n",
      "     FROM graph_1 AS graph_1_c1\n",
      "     LIMIT ?\n",
      "  PARAS: [10]\n",
      "---------------------------------------------\n",
      "id\tnode1\tlabel\tnode2\trank\tnode2;wikidatatype\n",
      "P10-P1628-32b85d-7927ece6-0\tP10\tP1628\t\"http://www.w3.org/2006/vcard/ns#Video\"\tnormal\turl\n",
      "P10-P1628-acf60d-b8950832-0\tP10\tP1628\t\"https://schema.org/video\"\tnormal\turl\n",
      "P10-P1629-Q34508-bcc39400-0\tP10\tP1629\tQ34508\tnormal\twikibase-item\n",
      "P10-P1659-P1651-c4068028-0\tP10\tP1659\tP1651\tnormal\twikibase-property\n",
      "P10-P1659-P18-5e4b9c4f-0\tP10\tP1659\tP18\tnormal\twikibase-property\n",
      "P10-P1659-P4238-d21d1ac0-0\tP10\tP1659\tP4238\tnormal\twikibase-property\n",
      "P10-P1659-P51-86aca4c5-0\tP10\tP1659\tP51\tnormal\twikibase-property\n",
      "P10-P1855-Q15075950-7eff6d65-0\tP10\tP1855\tQ15075950\tnormal\twikibase-item\n",
      "P10-P1855-Q69063653-c8cdb04c-0\tP10\tP1855\tQ69063653\tnormal\twikibase-item\n",
      "P10-P1855-Q7378-555592a4-0\tP10\tP1855\tQ7378\tnormal\twikibase-item\n"
     ]
    }
   ],
   "source": [
    "!{kypher} -i {claims} \\\n",
    "--match '()-[]->()' \\\n",
    "--limit 10"
   ]
  },
  {
   "cell_type": "markdown",
   "metadata": {},
   "source": [
    "## Creating a list of all the items we want to remove"
   ]
  },
  {
   "cell_type": "markdown",
   "metadata": {},
   "source": [
    "### Compute the items to be removed\n",
    "\n",
    "First look at the classes we will remove"
   ]
  },
  {
   "cell_type": "code",
   "execution_count": 27,
   "metadata": {},
   "outputs": [
    {
     "name": "stdout",
     "output_type": "stream",
     "text": [
      "getEntities accepts 50 ids max to match Wikidata API limitations:\n",
      "      this request won't get all the desired entities.\n",
      "      You can use getManyEntities instead to generate several request urls\n",
      "      to work around this limitation\n",
      "Error: Too many values supplied for parameter \"ids\". The limit is 50.\n",
      "    at newError (/usr/local/lib/node_modules/\u001b[4mwikibase-cli\u001b[24m/lib/request.js:56:15)\n",
      "    at rejectErrors (/usr/local/lib/node_modules/\u001b[4mwikibase-cli\u001b[24m/lib/request.js:44:11)\n",
      "\u001b[90m    at processTicksAndRejections (internal/process/task_queues.js:93:5)\u001b[39m\n",
      "    at async module.exports (/usr/local/lib/node_modules/\u001b[4mwikibase-cli\u001b[24m/lib/entity_data_parser.js:36:16) {\n",
      "  statusMessage: \u001b[32m'Too many values supplied for parameter \"ids\". The limit is 50.'\u001b[39m,\n",
      "  statusCode: \u001b[33m400\u001b[39m,\n",
      "  status: \u001b[33m400\u001b[39m,\n",
      "  body: \u001b[32m'Too many values supplied for parameter \"ids\". The limit is 50.'\u001b[39m\n",
      "}\n"
     ]
    }
   ],
   "source": [
    "cmd = \"wd u {}\".format(\" \".join(remove_classes.split(\",\")))\n",
    "!{cmd}"
   ]
  },
  {
   "cell_type": "markdown",
   "metadata": {},
   "source": [
    "Compose the kypher command to remove the classes"
   ]
  },
  {
   "cell_type": "code",
   "execution_count": 28,
   "metadata": {},
   "outputs": [
    {
     "name": "stdout",
     "output_type": "stream",
     "text": [
      "zcat: node1\tlabel\tnode2\n",
      "P10\tisa\tQ18610173\n",
      "P1000\tisa\tQ18608871\n",
      "P1001\tisa\tQ15720608\n",
      "P1001\tisa\tQ22984026\n",
      "error writing to outputP1001\tisa\tQ22997934\n",
      ": P1001\tisa\tQ61719275\n",
      "Broken pipe\n",
      "P1001\tisa\tQ70564278\n",
      "P1002\tisa\tQ22963600\n",
      "P1003\tisa\tQ19595382\n"
     ]
    }
   ],
   "source": [
    "!zcat < {isa} | head | col"
   ]
  },
  {
   "cell_type": "markdown",
   "metadata": {},
   "source": [
    "Run the command, the items to remove will be in file `{temp}/items.remove.tsv.gz`"
   ]
  },
  {
   "cell_type": "code",
   "execution_count": 29,
   "metadata": {},
   "outputs": [
    {
     "name": "stdout",
     "output_type": "stream",
     "text": [
      "[2021-01-23 20:46:29 sqlstore]: IMPORT graph directly into table graph_2 from /Users/pedroszekely/Downloads/kypher/wikidataos-v4/derived.isa.tsv.gz ...\n",
      "[2021-01-23 20:47:37 sqlstore]: IMPORT graph directly into table graph_3 from /Users/pedroszekely/Downloads/kypher/wikidataos-v4/derived.P279star.tsv.gz ...\n",
      "[2021-01-23 20:49:35 query]: SQL Translation:\n",
      "---------------------------------------------\n",
      "  SELECT DISTINCT graph_2_c1.\"node1\", ? \"_aLias.label\", graph_3_c2.\"node2\" \"_aLias.node2\"\n",
      "     FROM graph_2 AS graph_2_c1, graph_3 AS graph_3_c2\n",
      "     WHERE graph_2_c1.\"label\"=?\n",
      "     AND graph_2_c1.\"node2\"=graph_3_c2.\"node1\"\n",
      "     AND (graph_3_c2.\"node2\" IN (?, ?, ?, ?, ?, ?, ?, ?, ?, ?, ?, ?, ?, ?, ?, ?, ?, ?, ?, ?, ?, ?, ?, ?, ?, ?, ?, ?, ?, ?, ?, ?, ?, ?, ?, ?, ?, ?, ?, ?, ?, ?, ?, ?, ?, ?, ?, ?, ?, ?, ?, ?, ?, ?, ?, ?, ?))\n",
      "  PARAS: ['p31_p279star', 'isa', 'Q13442814', 'Q523', 'Q16521', 'Q318', 'Q7318358', 'Q7187', 'Q11173', 'Q8054', 'Q5', 'Q13100073', 'Q8502', 'Q3305213', 'Q4022', 'Q79007', 'Q1931185', 'Q30612', 'Q101352', 'Q54050', 'Q13433827', 'Q2668072', 'Q23397', 'Q3863', 'Q11424', 'Q482994', 'Q47150325', 'Q16970', 'Q18593264', 'Q355304', 'Q9842', 'Q7725634', 'Q27020041', 'Q56436498', 'Q2154519', 'Q61443690', 'Q49008', 'Q3331189', 'Q47521', 'Q5084', 'Q19389637', 'Q21014462', 'Q4164871', 'Q11060274', 'Q5633421', 'Q39816', 'Q5185279', 'Q55488', 'Q134556', 'Q22698', 'Q985488', 'Q1260524', 'Q204107', 'Q2225692', 'Q215380', 'Q71963409', 'Q452237', 'Q93184', 'Q12323']\n",
      "---------------------------------------------\n",
      "[2021-01-23 20:49:35 sqlstore]: CREATE INDEX on table graph_2 column node2 ...\n",
      "[2021-01-23 20:50:14 sqlstore]: ANALYZE INDEX on table graph_2 column node2 ...\n",
      "[2021-01-23 20:50:17 sqlstore]: CREATE INDEX on table graph_3 column node1 ...\n",
      "[2021-01-23 20:50:38 sqlstore]: ANALYZE INDEX on table graph_3 column node1 ...\n",
      "[2021-01-23 20:50:40 sqlstore]: CREATE INDEX on table graph_2 column label ...\n",
      "[2021-01-23 20:50:55 sqlstore]: ANALYZE INDEX on table graph_2 column label ...\n"
     ]
    }
   ],
   "source": [
    "classes = \", \".join(list(map(lambda x: '\"{}\"'.format(x), remove_classes.replace(\" \", \"\").split(\",\"))))\n",
    "!{kypher}  -i {isa} -i {p279star} -o {temp}/items.remove.tsv.gz \\\n",
    "--match 'isa: (n1)-[:isa]->(c), P279star: (c)-[]->(class)' \\\n",
    "--where 'class in [{classes}]' \\\n",
    "--return 'distinct n1, \"p31_p279star\" as label, class as node2'\n"
   ]
  },
  {
   "cell_type": "markdown",
   "metadata": {},
   "source": [
    "Preview the file"
   ]
  },
  {
   "cell_type": "code",
   "execution_count": 30,
   "metadata": {},
   "outputs": [
    {
     "name": "stdout",
     "output_type": "stream",
     "text": [
      "zcat: node1\tlabel\tnode2\n",
      "error writing to output: Q100000001\tp31_p279star\tQ9842\n",
      "Broken pipe\n",
      "Q10000001\tp31_p279star\tQ5\n",
      "Q1000001\tp31_p279star\tQ18593264\n",
      "Q1000001\tp31_p279star\tQ482994\n",
      "Q1000002\tp31_p279star\tQ5\n",
      "Q100000201\tp31_p279star\tQ7725634\n",
      "Q100000336\tp31_p279star\tQ3331189\n",
      "Q100000396\tp31_p279star\tQ3331189\n",
      "Q100000404\tp31_p279star\tQ3331189\n"
     ]
    }
   ],
   "source": [
    "!zcat < {temp}/items.remove.tsv.gz | head | col"
   ]
  },
  {
   "cell_type": "code",
   "execution_count": null,
   "metadata": {},
   "outputs": [],
   "source": []
  },
  {
   "cell_type": "code",
   "execution_count": 31,
   "metadata": {},
   "outputs": [
    {
     "name": "stdout",
     "output_type": "stream",
     "text": [
      " 22760693 68282079 663724148\n"
     ]
    }
   ],
   "source": [
    "!zcat < {temp}/items.remove.tsv.gz | wc"
   ]
  },
  {
   "cell_type": "code",
   "execution_count": 33,
   "metadata": {},
   "outputs": [],
   "source": [
    "!zcat < {temp}/items.remove.tsv.gz | grep 'Q502268\\t'"
   ]
  },
  {
   "cell_type": "code",
   "execution_count": 35,
   "metadata": {},
   "outputs": [],
   "source": [
    "!zcat < {temp}/items.remove.tsv.gz | grep 'Q15874936\\t'"
   ]
  },
  {
   "cell_type": "markdown",
   "metadata": {},
   "source": [
    "Collect all the classes of items we will remove, just as a sanity check"
   ]
  },
  {
   "cell_type": "code",
   "execution_count": 36,
   "metadata": {},
   "outputs": [
    {
     "name": "stdout",
     "output_type": "stream",
     "text": [
      "[2021-01-23 21:04:12 sqlstore]: IMPORT graph directly into table graph_4 from /Users/pedroszekely/Downloads/kypher/temp.miniwikidata/items.remove.tsv.gz ...\n",
      "[2021-01-23 21:05:07 query]: SQL Translation:\n",
      "---------------------------------------------\n",
      "  SELECT DISTINCT graph_4_c1.\"node2\"\n",
      "     FROM graph_4 AS graph_4_c1\n",
      "     LIMIT ?\n",
      "  PARAS: [10]\n",
      "---------------------------------------------\n",
      "node2\n",
      "Q9842\n",
      "Q5\n",
      "Q18593264\n",
      "Q482994\n",
      "Q7725634\n",
      "Q3331189\n",
      "Q55488\n",
      "Q101352\n",
      "Q2668072\n",
      "Q355304\n"
     ]
    }
   ],
   "source": [
    "!{kypher} -i {temp}/items.remove.tsv.gz \\\n",
    "--match '()-[]->(n2)' \\\n",
    "--return 'distinct n2' \\\n",
    "--limit 10"
   ]
  },
  {
   "cell_type": "markdown",
   "metadata": {},
   "source": [
    "## Create the reduced edges file"
   ]
  },
  {
   "cell_type": "markdown",
   "metadata": {},
   "source": [
    "### Remove the items from the all.tsv and the label, alias and description files\n",
    "We will be left with `reduced` files where the edges do not have the unwanted items. We have to remove them from the node1 and node2 positions, so we need to run the ifnotexists commands twice.\n",
    "\n",
    "Before we start preview the files to see the column headings and check whether they look sorted."
   ]
  },
  {
   "cell_type": "code",
   "execution_count": 37,
   "metadata": {},
   "outputs": [
    {
     "name": "stdout",
     "output_type": "stream",
     "text": [
      "\n",
      "real\t0m33.062s\n",
      "user\t0m33.043s\n",
      "sys\t0m2.420s\n"
     ]
    }
   ],
   "source": [
    "!$kgtk sort2 -i {temp}/items.remove.tsv.gz -o {temp}/items.remove.sorted.tsv.gz"
   ]
  },
  {
   "cell_type": "code",
   "execution_count": 38,
   "metadata": {},
   "outputs": [
    {
     "name": "stdout",
     "output_type": "stream",
     "text": [
      "zcat: node1\tlabel\tnode2\n",
      "Q100000001\tp31_p279star\tQ9842\n",
      "Q10000001\tp31_p279star\tQ5\n",
      "Q1000001\tp31_p279star\tQ18593264\n",
      "error writing to output: Q1000001\tp31_p279star\tQ482994\n",
      "Broken pipe\n",
      "Q1000002\tp31_p279star\tQ5\n",
      "Q100000201\tp31_p279star\tQ7725634\n",
      "Q100000336\tp31_p279star\tQ3331189\n",
      "Q100000396\tp31_p279star\tQ3331189\n",
      "Q100000404\tp31_p279star\tQ3331189\n"
     ]
    }
   ],
   "source": [
    "!zcat < {temp}/items.remove.sorted.tsv.gz | head | col"
   ]
  },
  {
   "cell_type": "code",
   "execution_count": 39,
   "metadata": {},
   "outputs": [
    {
     "name": "stdout",
     "output_type": "stream",
     "text": [
      "id\tnode1\tlabel\tnode2\trank\tnode2;wikidatatype\n",
      "P10-P1628-32b85d-7927ece6-0\tP10\tP1628\t\"http://www.w3.org/2006/vcard/ns#Video\" normal\turl\n",
      "P10-P1628-acf60d-b8950832-0\tP10\tP1628\t\"https://schema.org/video\"\tnormal\turl\n",
      "P10-P1629-Q34508-bcc39400-0\tP10\tP1629\tQ34508\tnormal\twikibase-item\n",
      "P10-P1659-P1651-c4068028-0\tP10\tP1659\tP1651\tnormal\twikibase-property\n",
      "zcat: error writing to output: Broken pipe\n"
     ]
    }
   ],
   "source": [
    "!zcat < \"{claims}\" | head -5 | col"
   ]
  },
  {
   "cell_type": "markdown",
   "metadata": {},
   "source": [
    "Remove from the full set of edges those edges that have a `node1` present in `items.remove.sorted.tsv`"
   ]
  },
  {
   "cell_type": "code",
   "execution_count": 40,
   "metadata": {},
   "outputs": [
    {
     "name": "stdout",
     "output_type": "stream",
     "text": [
      "\n",
      "real\t30m16.610s\n",
      "user\t30m1.188s\n",
      "sys\t0m9.259s\n"
     ]
    }
   ],
   "source": [
    "!$kgtk ifnotexists -i \"{claims}\" -o {temp}/item.edges.reduced.tsv.gz \\\n",
    "--filter-on {temp}/items.remove.sorted.tsv.gz \\\n",
    "--input-keys node1 \\\n",
    "--filter-keys node1 \\\n",
    "--presorted "
   ]
  },
  {
   "cell_type": "markdown",
   "metadata": {},
   "source": [
    "From the remaining edges, remove those that have a `node2` present in `items.remove.sorted.tsv`"
   ]
  },
  {
   "cell_type": "code",
   "execution_count": 41,
   "metadata": {},
   "outputs": [
    {
     "name": "stdout",
     "output_type": "stream",
     "text": [
      "\n",
      "real\t13m38.472s\n",
      "user\t11m59.349s\n",
      "sys\t2m58.535s\n"
     ]
    }
   ],
   "source": [
    "!$kgtk sort2 -i {temp}/item.edges.reduced.tsv.gz -o {temp}/item.edges.reduced.sorted.tsv.gz \\\n",
    "--columns node2 label node1 id"
   ]
  },
  {
   "cell_type": "code",
   "execution_count": 42,
   "metadata": {},
   "outputs": [
    {
     "name": "stdout",
     "output_type": "stream",
     "text": [
      "\n",
      "real\t20m59.252s\n",
      "user\t20m41.901s\n",
      "sys\t0m8.867s\n"
     ]
    }
   ],
   "source": [
    "!$kgtk ifnotexists -i {temp}/item.edges.reduced.sorted.tsv.gz -o {temp}/item.edges.reduced.2.tsv.gz \\\n",
    "--filter-on {temp}/items.remove.sorted.tsv.gz \\\n",
    "--input-keys node2 \\\n",
    "--filter-keys node1 \\\n",
    "--presorted "
   ]
  },
  {
   "cell_type": "markdown",
   "metadata": {},
   "source": [
    "Create a file with the labels"
   ]
  },
  {
   "cell_type": "code",
   "execution_count": 43,
   "metadata": {},
   "outputs": [
    {
     "name": "stdout",
     "output_type": "stream",
     "text": [
      "\n",
      "real\t4m49.120s\n",
      "user\t4m44.333s\n",
      "sys\t0m2.319s\n"
     ]
    }
   ],
   "source": [
    "!$kgtk ifnotexists -i {labels} -o {temp}/label.edges.reduced.tsv.gz \\\n",
    "--filter-on {temp}/items.remove.sorted.tsv.gz \\\n",
    "--input-keys node1 \\\n",
    "--filter-keys node1 \\\n",
    "--presorted"
   ]
  },
  {
   "cell_type": "code",
   "execution_count": 46,
   "metadata": {},
   "outputs": [],
   "source": [
    "languages = 'en'"
   ]
  },
  {
   "cell_type": "code",
   "execution_count": 47,
   "metadata": {},
   "outputs": [
    {
     "name": "stdout",
     "output_type": "stream",
     "text": [
      "gzip: can't stat: /Users/pedroszekely/Downloads/kypher/temp.miniwikidata/label.e.edges.reduced.tsv.gz (/Users/pedroszekely/Downloads/kypher/temp.miniwikidata/label.e.edges.reduced.tsv.gz.gz): No such file or directory\n",
      "In input header '': Column 0 has an invalid name in the file header\n",
      "/Users/pedroszekely/Documents/GitHub/kgtk/kgtk/exceptions.py:66: UserWarning: Please raise KGTKException instead of <class 'SystemExit'>\n",
      "  warnings.warn('Please raise KGTKException instead of {}'.format(type_))\n",
      "KGTKException found\n",
      "\n",
      "gzip: can't stat: /Users/pedroszekely/Downloads/kypher/temp.miniwikidata/label.n.edges.reduced.tsv.gz (/Users/pedroszekely/Downloads/kypher/temp.miniwikidata/label.n.edges.reduced.tsv.gz.gz): No such file or directory\n",
      "In input header '': Column 0 has an invalid name in the file header\n",
      "/Users/pedroszekely/Documents/GitHub/kgtk/kgtk/exceptions.py:66: UserWarning: Please raise KGTKException instead of <class 'SystemExit'>\n",
      "  warnings.warn('Please raise KGTKException instead of {}'.format(type_))\n",
      "KGTKException found\n",
      "\n"
     ]
    }
   ],
   "source": [
    "for lang in languages:\n",
    "    cmd = f\"kgtk sort2 -i {temp}/label.{lang}.edges.reduced.tsv.gz -o {out}/labels.{lang}.tsv.gz\" \n",
    "    !$cmd"
   ]
  },
  {
   "cell_type": "markdown",
   "metadata": {},
   "source": [
    "Create a file with the aliases"
   ]
  },
  {
   "cell_type": "code",
   "execution_count": 48,
   "metadata": {},
   "outputs": [
    {
     "name": "stdout",
     "output_type": "stream",
     "text": [
      "\n",
      "real\t1m46.419s\n",
      "user\t1m44.926s\n",
      "sys\t0m0.796s\n"
     ]
    }
   ],
   "source": [
    "!$kgtk ifnotexists -i {aliases} -o {temp}/alias.edges.reduced.tsv.gz \\\n",
    "--filter-on {temp}/items.remove.sorted.tsv.gz \\\n",
    "--input-keys node1 \\\n",
    "--filter-keys node1 \\\n",
    "--presorted"
   ]
  },
  {
   "cell_type": "code",
   "execution_count": null,
   "metadata": {},
   "outputs": [],
   "source": [
    "for lang in languages:\n",
    "    cmd = f\"kgtk --debug ifnotexists -i {wiki_root_folder}aliases.{lang}.tsv.gz \\\n",
    "    -o {temp}/alias.{lang}.edges.reduced.tsv.gz \\\n",
    "    --filter-on {temp}/items.remove.sorted.tsv.gz \\\n",
    "    --input-keys node1 \\\n",
    "    --filter-keys node1 \\\n",
    "    --presorted\"\n",
    "    !$cmd"
   ]
  },
  {
   "cell_type": "code",
   "execution_count": null,
   "metadata": {},
   "outputs": [],
   "source": [
    "for lang in languages:\n",
    "    cmd = f\"kgtk sort2 -i {temp}/alias.{lang}.edges.reduced.tsv.gz -o {out}/aliases.{lang}.tsv.gz\" \n",
    "    !$cmd"
   ]
  },
  {
   "cell_type": "markdown",
   "metadata": {},
   "source": [
    "Create a file with the descriptions"
   ]
  },
  {
   "cell_type": "code",
   "execution_count": 49,
   "metadata": {},
   "outputs": [
    {
     "name": "stdout",
     "output_type": "stream",
     "text": [
      "\n",
      "real\t4m28.202s\n",
      "user\t4m23.896s\n",
      "sys\t0m1.959s\n"
     ]
    }
   ],
   "source": [
    "!$kgtk ifnotexists -i {descriptions} -o {temp}/description.edges.reduced.tsv.gz \\\n",
    "--filter-on {temp}/items.remove.sorted.tsv.gz \\\n",
    "--input-keys node1 \\\n",
    "--filter-keys node1 \\\n",
    "--presorted"
   ]
  },
  {
   "cell_type": "code",
   "execution_count": null,
   "metadata": {},
   "outputs": [],
   "source": [
    "for lang in languages:\n",
    "    cmd = f\"kgtk --debug ifnotexists -i {wiki_root_folder}descriptions.{lang}.tsv.gz \\\n",
    "    -o {temp}/description.{lang}.edges.reduced.tsv.gz \\\n",
    "    --filter-on {temp}/items.remove.sorted.tsv.gz \\\n",
    "    --input-keys node1 \\\n",
    "    --filter-keys node1 \\\n",
    "    --presorted\"\n",
    "    !$cmd"
   ]
  },
  {
   "cell_type": "code",
   "execution_count": null,
   "metadata": {},
   "outputs": [],
   "source": [
    "for lang in languages:\n",
    "    cmd = f\"kgtk sort2 -i {temp}/description.{lang}.edges.reduced.tsv.gz -o {out}/descriptions.{lang}.tsv.gz\" \n",
    "    !$cmd"
   ]
  },
  {
   "cell_type": "markdown",
   "metadata": {},
   "source": [
    "### Produce the output files for claims, labels, aliases and descriptions"
   ]
  },
  {
   "cell_type": "code",
   "execution_count": 50,
   "metadata": {},
   "outputs": [
    {
     "name": "stdout",
     "output_type": "stream",
     "text": [
      "\n",
      "real\t11m48.975s\n",
      "user\t11m13.284s\n",
      "sys\t2m34.439s\n"
     ]
    }
   ],
   "source": [
    "!$kgtk sort2 -i {temp}/item.edges.reduced.2.tsv.gz -o {out}/claims.tsv.gz "
   ]
  },
  {
   "cell_type": "code",
   "execution_count": 51,
   "metadata": {},
   "outputs": [
    {
     "name": "stdout",
     "output_type": "stream",
     "text": [
      "\n",
      "real\t0m35.245s\n",
      "user\t0m36.149s\n",
      "sys\t0m1.793s\n"
     ]
    }
   ],
   "source": [
    "!$kgtk sort2 -i {temp}/label.edges.reduced.tsv.gz -o {out}/labels.en.tsv.gz "
   ]
  },
  {
   "cell_type": "code",
   "execution_count": 52,
   "metadata": {},
   "outputs": [
    {
     "name": "stdout",
     "output_type": "stream",
     "text": [
      "\n",
      "real\t0m7.030s\n",
      "user\t0m7.229s\n",
      "sys\t0m0.369s\n"
     ]
    }
   ],
   "source": [
    "!$kgtk sort2 -i {temp}/alias.edges.reduced.tsv.gz -o {out}/aliases.en.tsv.gz "
   ]
  },
  {
   "cell_type": "code",
   "execution_count": 53,
   "metadata": {},
   "outputs": [
    {
     "name": "stdout",
     "output_type": "stream",
     "text": [
      "\n",
      "real\t0m34.264s\n",
      "user\t0m34.994s\n",
      "sys\t0m2.186s\n"
     ]
    }
   ],
   "source": [
    "!$kgtk sort2 -i {temp}/description.edges.reduced.tsv.gz -o {out}/descriptions.en.tsv.gz "
   ]
  },
  {
   "cell_type": "markdown",
   "metadata": {},
   "source": [
    "Sanity checks to see if it looks reasonable"
   ]
  },
  {
   "cell_type": "markdown",
   "metadata": {},
   "source": [
    "## Create the reduced qualifiers file\n",
    "We do this by finding all the ids of the reduced edges file, and then selecting out from `qual.tsv`\n",
    "\n",
    "We need to join by id, so we need to sort both files by id, node1, label, node2:\n",
    "\n",
    "- `{quals}` \n",
    "- `{out}/claims.tsv.gz` "
   ]
  },
  {
   "cell_type": "code",
   "execution_count": 54,
   "metadata": {},
   "outputs": [
    {
     "name": "stdout",
     "output_type": "stream",
     "text": [
      "zcat: error writing to output: Broken pipe\n",
      "id                                                node1                           label  node2                                                                    node2;wikidatatype\n",
      "P10-P1855-Q15075950-7eff6d65-0-P10-54b214-0       P10-P1855-Q15075950-7eff6d65-0  P10    \"Smoorverliefd 12 september.webm\"                                        commonsMedia\n",
      "P10-P1855-Q15075950-7eff6d65-0-P3831-Q622550-0    P10-P1855-Q15075950-7eff6d65-0  P3831  Q622550                                                                  wikibase-item\n",
      "P10-P1855-Q69063653-c8cdb04c-0-P10-6fb08f-0       P10-P1855-Q69063653-c8cdb04c-0  P10    \"Couch Commander.webm\"                                                   commonsMedia\n",
      "P10-P1855-Q7378-555592a4-0-P10-8a982d-0           P10-P1855-Q7378-555592a4-0      P10    \"Elephants Dream (2006).webm\"                                            commonsMedia\n",
      "P10-P2302-Q21502404-d012aef4-0-P1793-f4c2ed-0     P10-P2302-Q21502404-d012aef4-0  P1793  \"(?i).+\\\\.(webm\\|ogv\\|ogg\\|gif)\"                                         string\n",
      "P10-P2302-Q21502404-d012aef4-0-P2316-Q21502408-0  P10-P2302-Q21502404-d012aef4-0  P2316  Q21502408                                                                wikibase-item\n",
      "P10-P2302-Q21502404-d012aef4-0-P2916-cb0917-0     P10-P2302-Q21502404-d012aef4-0  P2916  'filename with extension: webm, ogg, ogv, or gif (case insensitive)'@en  monolingualtext\n",
      "P10-P2302-Q21510851-5224fe0b-0-P2306-P175-0       P10-P2302-Q21510851-5224fe0b-0  P2306  P175                                                                     wikibase-property\n",
      "P10-P2302-Q21510851-5224fe0b-0-P2306-P180-0       P10-P2302-Q21510851-5224fe0b-0  P2306  P180                                                                     wikibase-property\n"
     ]
    }
   ],
   "source": [
    "!zcat < \"{quals}\" | head | column -t -s $'\\t' "
   ]
  },
  {
   "cell_type": "markdown",
   "metadata": {},
   "source": [
    "Run `ifexists` to select out the quals for the edges in `{out}/wikidataos.qual.tsv.gz`. Note that we use `node1` in the qualifier file, matching to `id` in the `wikidataos.all.tsv` file."
   ]
  },
  {
   "cell_type": "code",
   "execution_count": 55,
   "metadata": {},
   "outputs": [
    {
     "name": "stdout",
     "output_type": "stream",
     "text": [
      "\n",
      "real\t11m1.969s\n",
      "user\t10m52.996s\n",
      "sys\t0m5.148s\n"
     ]
    }
   ],
   "source": [
    "!$kgtk ifexists -i \"{quals}\" -o {out}/qualifiers.tsv.gz \\\n",
    "--filter-on {out}/claims.tsv.gz \\\n",
    "--input-keys node1 \\\n",
    "--filter-keys id \\\n",
    "--presorted"
   ]
  },
  {
   "cell_type": "markdown",
   "metadata": {},
   "source": [
    "Look at the final output for qualifiers"
   ]
  },
  {
   "cell_type": "code",
   "execution_count": 56,
   "metadata": {},
   "outputs": [
    {
     "name": "stdout",
     "output_type": "stream",
     "text": [
      "zcat: error writing to output: Broken pipe\n",
      "id\tnode1\tlabel\tnode2\tnode2;wikidatatype\n",
      "P10-P1855-Q7378-555592a4-0-P10-8a982d-0 P10-P1855-Q7378-555592a4-0\tP10\t\"Elephants Dream (2006).webm\"\tcommonsMedia\n",
      "P10-P2302-Q21502404-d012aef4-0-P1793-f4c2ed-0\tP10-P2302-Q21502404-d012aef4-0\tP1793\t\"(?i).+\\\\.(webm\\|ogv\\|ogg\\|gif)\"\tstring\n",
      "P10-P2302-Q21502404-d012aef4-0-P2316-Q21502408-0\tP10-P2302-Q21502404-d012aef4-0\tP2316\tQ21502408\twikibase-item\n",
      "P10-P2302-Q21502404-d012aef4-0-P2916-cb0917-0\tP10-P2302-Q21502404-d012aef4-0\tP2916\t'filename with extension: webm, ogg, ogv, or gif (case insensitive)'@en monolingualtext\n",
      "P10-P2302-Q21510851-5224fe0b-0-P2306-P175-0\tP10-P2302-Q21510851-5224fe0b-0\tP2306\tP175\twikibase-property\n",
      "P10-P2302-Q21510851-5224fe0b-0-P2306-P180-0\tP10-P2302-Q21510851-5224fe0b-0\tP2306\tP180\twikibase-property\n",
      "P10-P2302-Q21510851-5224fe0b-0-P2306-P2096-0\tP10-P2302-Q21510851-5224fe0b-0\tP2306\tP2096\twikibase-property\n",
      "P10-P2302-Q21510851-5224fe0b-0-P2306-P2241-0\tP10-P2302-Q21510851-5224fe0b-0\tP2306\tP2241\twikibase-property\n",
      "P10-P2302-Q21510851-5224fe0b-0-P2306-P31-0\tP10-P2302-Q21510851-5224fe0b-0\tP2306\tP31\twikibase-property\n"
     ]
    }
   ],
   "source": [
    "!zcat < {out}/qualifiers.tsv.gz | head | col"
   ]
  },
  {
   "cell_type": "code",
   "execution_count": null,
   "metadata": {},
   "outputs": [],
   "source": []
  },
  {
   "cell_type": "code",
   "execution_count": null,
   "metadata": {},
   "outputs": [],
   "source": []
  },
  {
   "cell_type": "code",
   "execution_count": null,
   "metadata": {},
   "outputs": [],
   "source": []
  },
  {
   "cell_type": "code",
   "execution_count": 5,
   "metadata": {},
   "outputs": [],
   "source": [
    "import papermill as pm"
   ]
  },
  {
   "cell_type": "code",
   "execution_count": 18,
   "metadata": {},
   "outputs": [],
   "source": [
    "kgtk_path = \"/Users/pedroszekely/Documents/GitHub/kgtk\"\n",
    "os.environ[\"EXAMPLES_DIR\"] = kgtk_path + \"/examples\"\n",
    "os.environ[\"USECASE_DIR\"] = kgtk_path + \"/use-cases\"\n",
    "os.environ[\"TEMP\"] = temp\n",
    "os.environ[\"OUT\"] = out"
   ]
  },
  {
   "cell_type": "code",
   "execution_count": 7,
   "metadata": {},
   "outputs": [
    {
     "name": "stdout",
     "output_type": "stream",
     "text": [
      "alias.edges.reduced.tsv.gz       item.edges.reduced.tsv.gz\n",
      "description.edges.reduced.tsv.gz items.remove.sorted.tsv.gz\n",
      "item.edges.reduced.2.tsv.gz      items.remove.tsv.gz\n",
      "item.edges.reduced.sorted.tsv.gz label.edges.reduced.tsv.gz\n"
     ]
    }
   ],
   "source": [
    "!ls \"$TEMP\""
   ]
  },
  {
   "cell_type": "code",
   "execution_count": 8,
   "metadata": {},
   "outputs": [
    {
     "name": "stdout",
     "output_type": "stream",
     "text": [
      "aliases.en.tsv.gz                  metadata.property.datatypes.tsv.gz\n",
      "claims.tsv.gz                      metadata.types.tsv.gz\n",
      "descriptions.en.tsv.gz             qualifiers.tsv.gz\n",
      "labels.en.tsv.gz\n"
     ]
    }
   ],
   "source": [
    "!ls \"$OUT\""
   ]
  },
  {
   "cell_type": "code",
   "execution_count": 9,
   "metadata": {},
   "outputs": [
    {
     "name": "stdout",
     "output_type": "stream",
     "text": [
      "time kgtk --debug\n"
     ]
    }
   ],
   "source": [
    "!echo $kgtk"
   ]
  },
  {
   "cell_type": "code",
   "execution_count": 15,
   "metadata": {},
   "outputs": [],
   "source": [
    "!kgtk cat \\\n",
    "-i \"$OUT\"/aliases.en.tsv.gz \\\n",
    "-i \"$OUT\"/descriptions.en.tsv.gz \\\n",
    "-i \"$OUT\"/qualifiers.tsv.gz \\\n",
    "-i \"$OUT\"/claims.tsv.gz \\\n",
    "-i \"$OUT\"/labels.en.tsv.gz \\\n",
    "-i \"$OUT\"/metadata.property.datatypes.tsv.gz \\\n",
    "-i \"$OUT\"/metadata.types.tsv.gz \\\n",
    "-o \"$OUT\"/all.tsv.gz"
   ]
  },
  {
   "cell_type": "code",
   "execution_count": 16,
   "metadata": {},
   "outputs": [
    {
     "name": "stdout",
     "output_type": "stream",
     "text": [
      "/Users/pedroszekely/Documents/GitHub/kgtk/examples/partition-wikidata.ipynb\n"
     ]
    }
   ],
   "source": [
    "!ls {os.environ[\"EXAMPLES_DIR\"] + \"/partition-wikidata.ipynb\"}"
   ]
  },
  {
   "cell_type": "code",
   "execution_count": 17,
   "metadata": {},
   "outputs": [
    {
     "data": {
      "application/vnd.jupyter.widget-view+json": {
       "model_id": "8a706a46cddb41a4b637fb1801ec2e5e",
       "version_major": 2,
       "version_minor": 0
      },
      "text/plain": [
       "Executing:   0%|          | 0/49 [00:00<?, ?cell/s]"
      ]
     },
     "metadata": {},
     "output_type": "display_data"
    },
    {
     "data": {
      "text/plain": [
       "''"
      ]
     },
     "execution_count": 17,
     "metadata": {},
     "output_type": "execute_result"
    }
   ],
   "source": [
    "pm.execute_notebook(\n",
    "    os.environ[\"EXAMPLES_DIR\"] + \"/partition-wikidata.ipynb\",\n",
    "    os.environ[\"TEMP\"] + \"/partition-wikidata.out.ipynb\",\n",
    "    parameters=dict(\n",
    "        wikidata_input_path = os.environ[\"OUT\"] + \"/all.tsv.gz\",\n",
    "        wikidata_parts_path = os.environ[\"OUT\"] + \"/parts\",\n",
    "        temp_folder_path = os.environ[\"OUT\"] + \"/parts/temp\",\n",
    "        sort_extras = \"--buffer-size 30% --temporary-directory $OUT/parts/temp\",\n",
    "        verbose = False\n",
    "    )\n",
    ")\n",
    ";"
   ]
  },
  {
   "cell_type": "code",
   "execution_count": null,
   "metadata": {},
   "outputs": [],
   "source": []
  },
  {
   "cell_type": "code",
   "execution_count": 19,
   "metadata": {},
   "outputs": [
    {
     "data": {
      "application/vnd.jupyter.widget-view+json": {
       "model_id": "10222f3a0ac34d548b3ceb406dfa5d0e",
       "version_major": 2,
       "version_minor": 0
      },
      "text/plain": [
       "Executing:   0%|          | 0/96 [00:00<?, ?cell/s]"
      ]
     },
     "metadata": {},
     "output_type": "display_data"
    },
    {
     "data": {
      "text/plain": [
       "''"
      ]
     },
     "execution_count": 19,
     "metadata": {},
     "output_type": "execute_result"
    }
   ],
   "source": [
    "pm.execute_notebook(\n",
    "    os.environ[\"USECASE_DIR\"] + \"/Wikidata Useful Files.ipynb\",\n",
    "    os.environ[\"TEMP\"] + \"/Wikidata Useful Files Out.ipynb\",\n",
    "    parameters=dict(\n",
    "        output_path = os.environ[\"OUT\"],\n",
    "        output_folder = \"useful_files\",\n",
    "        temp_folder = \"temp.useful_files\",\n",
    "        wiki_root_folder = os.environ[\"OUT\"] + \"/parts/\",\n",
    "        cache_path = os.environ[\"OUT\"] + \"/temp.useful_files\",\n",
    "        languages = 'en',\n",
    "        compute_pagerank = True,\n",
    "        delete_database = False\n",
    "    )\n",
    ")\n",
    ";"
   ]
  },
  {
   "cell_type": "markdown",
   "metadata": {},
   "source": [
    "## Sanity checks"
   ]
  },
  {
   "cell_type": "code",
   "execution_count": null,
   "metadata": {},
   "outputs": [],
   "source": []
  },
  {
   "cell_type": "code",
   "execution_count": null,
   "metadata": {},
   "outputs": [],
   "source": []
  },
  {
   "cell_type": "code",
   "execution_count": 31,
   "metadata": {},
   "outputs": [
    {
     "name": "stdout",
     "output_type": "stream",
     "text": [
      "[2020-11-19 09:33:14 sqlstore]: IMPORT graph via csv.reader into table graph_16 from /Users/pedroszekely/Downloads/kypher/wikidata_os_v5/claims.tsv.gz ...\n",
      "Traceback (most recent call last):\n",
      "  File \"/Users/pedroszekely/opt/anaconda3/envs/kgtk/lib/python3.7/site-packages/kgtk-0.4.0-py3.7.egg/kgtk/kypher/sqlstore.py\", line 565, in add_graph\n",
      "    self.import_graph_data_via_import(table, file)\n",
      "  File \"/Users/pedroszekely/opt/anaconda3/envs/kgtk/lib/python3.7/site-packages/kgtk-0.4.0-py3.7.egg/kgtk/kypher/sqlstore.py\", line 613, in import_graph_data_via_import\n",
      "    raise KGTKException('only implemented for existing, named files')\n",
      "kgtk.exceptions.KGTKException: only implemented for existing, named files\n",
      "\n",
      "During handling of the above exception, another exception occurred:\n",
      "\n",
      "Traceback (most recent call last):\n",
      "  File \"/Users/pedroszekely/opt/anaconda3/envs/kgtk/lib/python3.7/site-packages/kgtk-0.4.0-py3.7.egg/kgtk/cli/query.py\", line 148, in run\n",
      "    index=options.get('index'))\n",
      "  File \"/Users/pedroszekely/opt/anaconda3/envs/kgtk/lib/python3.7/site-packages/kgtk-0.4.0-py3.7.egg/kgtk/kypher/query.py\", line 182, in __init__\n",
      "    store.add_graph(file)\n",
      "  File \"/Users/pedroszekely/opt/anaconda3/envs/kgtk/lib/python3.7/site-packages/kgtk-0.4.0-py3.7.egg/kgtk/kypher/sqlstore.py\", line 568, in add_graph\n",
      "    self.import_graph_data_via_csv(table, file)\n",
      "  File \"/Users/pedroszekely/opt/anaconda3/envs/kgtk/lib/python3.7/site-packages/kgtk-0.4.0-py3.7.egg/kgtk/kypher/sqlstore.py\", line 596, in import_graph_data_via_csv\n",
      "    with open_to_read(file) as inp:\n",
      "  File \"/Users/pedroszekely/opt/anaconda3/envs/kgtk/lib/python3.7/site-packages/kgtk-0.4.0-py3.7.egg/kgtk/kypher/sqlstore.py\", line 66, in open_to_read\n",
      "    return gzip.open(file, mode, encoding=enc)\n",
      "  File \"/Users/pedroszekely/opt/anaconda3/envs/kgtk/lib/python3.7/gzip.py\", line 58, in open\n",
      "    binary_file = GzipFile(filename, gz_mode, compresslevel)\n",
      "  File \"/Users/pedroszekely/opt/anaconda3/envs/kgtk/lib/python3.7/gzip.py\", line 168, in __init__\n",
      "    fileobj = self.myfileobj = builtins.open(filename, mode or 'rb')\n",
      "FileNotFoundError: [Errno 2] No such file or directory: '/Users/pedroszekely/Downloads/kypher/wikidata_os_v5/claims.tsv.gz'\n",
      "\n",
      "During handling of the above exception, another exception occurred:\n",
      "\n",
      "Traceback (most recent call last):\n",
      "  File \"/Users/pedroszekely/opt/anaconda3/envs/kgtk/lib/python3.7/site-packages/kgtk-0.4.0-py3.7.egg/kgtk/exceptions.py\", line 46, in __call__\n",
      "    return_code = func(*args, **kwargs) or 0\n",
      "  File \"/Users/pedroszekely/opt/anaconda3/envs/kgtk/lib/python3.7/site-packages/kgtk-0.4.0-py3.7.egg/kgtk/cli/query.py\", line 180, in run\n",
      "    raise KGTKException(str(e) + '\\n')\n",
      "kgtk.exceptions.KGTKException: [Errno 2] No such file or directory: '/Users/pedroszekely/Downloads/kypher/wikidata_os_v5/claims.tsv.gz'\n",
      "\n",
      "[Errno 2] No such file or directory: '/Users/pedroszekely/Downloads/kypher/wikidata_os_v5/claims.tsv.gz'\n",
      "\n"
     ]
    }
   ],
   "source": [
    "!{kypher} -i {out}/claims.tsv.gz \\\n",
    "--match '(n1:Q368441)-[l]->(n2)' \\\n",
    "--limit 10 \\\n",
    "| col"
   ]
  },
  {
   "cell_type": "code",
   "execution_count": 32,
   "metadata": {},
   "outputs": [
    {
     "name": "stdout",
     "output_type": "stream",
     "text": [
      "[2020-11-19 09:33:15 sqlstore]: IMPORT graph via csv.reader into table graph_16 from /Users/pedroszekely/Downloads/kypher/wikidata_os_v5/claims.tsv.gz ...\n",
      "Traceback (most recent call last):\n",
      "  File \"/Users/pedroszekely/opt/anaconda3/envs/kgtk/lib/python3.7/site-packages/kgtk-0.4.0-py3.7.egg/kgtk/kypher/sqlstore.py\", line 565, in add_graph\n",
      "    self.import_graph_data_via_import(table, file)\n",
      "  File \"/Users/pedroszekely/opt/anaconda3/envs/kgtk/lib/python3.7/site-packages/kgtk-0.4.0-py3.7.egg/kgtk/kypher/sqlstore.py\", line 613, in import_graph_data_via_import\n",
      "    raise KGTKException('only implemented for existing, named files')\n",
      "kgtk.exceptions.KGTKException: only implemented for existing, named files\n",
      "\n",
      "During handling of the above exception, another exception occurred:\n",
      "\n",
      "Traceback (most recent call last):\n",
      "  File \"/Users/pedroszekely/opt/anaconda3/envs/kgtk/lib/python3.7/site-packages/kgtk-0.4.0-py3.7.egg/kgtk/cli/query.py\", line 148, in run\n",
      "    index=options.get('index'))\n",
      "  File \"/Users/pedroszekely/opt/anaconda3/envs/kgtk/lib/python3.7/site-packages/kgtk-0.4.0-py3.7.egg/kgtk/kypher/query.py\", line 182, in __init__\n",
      "    store.add_graph(file)\n",
      "  File \"/Users/pedroszekely/opt/anaconda3/envs/kgtk/lib/python3.7/site-packages/kgtk-0.4.0-py3.7.egg/kgtk/kypher/sqlstore.py\", line 568, in add_graph\n",
      "    self.import_graph_data_via_csv(table, file)\n",
      "  File \"/Users/pedroszekely/opt/anaconda3/envs/kgtk/lib/python3.7/site-packages/kgtk-0.4.0-py3.7.egg/kgtk/kypher/sqlstore.py\", line 596, in import_graph_data_via_csv\n",
      "    with open_to_read(file) as inp:\n",
      "  File \"/Users/pedroszekely/opt/anaconda3/envs/kgtk/lib/python3.7/site-packages/kgtk-0.4.0-py3.7.egg/kgtk/kypher/sqlstore.py\", line 66, in open_to_read\n",
      "    return gzip.open(file, mode, encoding=enc)\n",
      "  File \"/Users/pedroszekely/opt/anaconda3/envs/kgtk/lib/python3.7/gzip.py\", line 58, in open\n",
      "    binary_file = GzipFile(filename, gz_mode, compresslevel)\n",
      "  File \"/Users/pedroszekely/opt/anaconda3/envs/kgtk/lib/python3.7/gzip.py\", line 168, in __init__\n",
      "    fileobj = self.myfileobj = builtins.open(filename, mode or 'rb')\n",
      "FileNotFoundError: [Errno 2] No such file or directory: '/Users/pedroszekely/Downloads/kypher/wikidata_os_v5/claims.tsv.gz'\n",
      "\n",
      "During handling of the above exception, another exception occurred:\n",
      "\n",
      "Traceback (most recent call last):\n",
      "  File \"/Users/pedroszekely/opt/anaconda3/envs/kgtk/lib/python3.7/site-packages/kgtk-0.4.0-py3.7.egg/kgtk/exceptions.py\", line 46, in __call__\n",
      "    return_code = func(*args, **kwargs) or 0\n",
      "  File \"/Users/pedroszekely/opt/anaconda3/envs/kgtk/lib/python3.7/site-packages/kgtk-0.4.0-py3.7.egg/kgtk/cli/query.py\", line 180, in run\n",
      "    raise KGTKException(str(e) + '\\n')\n",
      "kgtk.exceptions.KGTKException: [Errno 2] No such file or directory: '/Users/pedroszekely/Downloads/kypher/wikidata_os_v5/claims.tsv.gz'\n",
      "\n",
      "[Errno 2] No such file or directory: '/Users/pedroszekely/Downloads/kypher/wikidata_os_v5/claims.tsv.gz'\n",
      "\n"
     ]
    }
   ],
   "source": [
    "!{kypher} -i {out}/claims.tsv.gz \\\n",
    "--match '(n1:P131)-[l]->(n2)' \\\n",
    "--limit 10 \\\n",
    "| col"
   ]
  },
  {
   "cell_type": "markdown",
   "metadata": {},
   "source": [
    "## Compute the derived files using the `Wikidata Useful Files` Jupyter notebook"
   ]
  },
  {
   "cell_type": "markdown",
   "metadata": {},
   "source": [
    "Compute `claims.wikibase-item.tsv.gz` which would be computed by the Wikidata partitioner, but we are not using it here yet"
   ]
  },
  {
   "cell_type": "code",
   "execution_count": 33,
   "metadata": {},
   "outputs": [
    {
     "name": "stdout",
     "output_type": "stream",
     "text": [
      "/bin/bash: /Volumes/GoogleDrive/Shared\\ drives/KGTK/datasets/wikidata-20200803-v4/metadata.property.datatypes.tsv.gz: No such file or directory\n"
     ]
    }
   ],
   "source": [
    "!zcat < \"{datatypes}\" | head | col"
   ]
  },
  {
   "cell_type": "code",
   "execution_count": 34,
   "metadata": {},
   "outputs": [
    {
     "name": "stdout",
     "output_type": "stream",
     "text": [
      "/bin/bash: {kgtk}: command not found\n"
     ]
    }
   ],
   "source": [
    "!{kypher} -i {out}/claims.tsv.gz -i \"{datatypes}\" -o {out}/claims.wikibase-item.tsv.gz \\\n",
    "--match 'claims: (n1)-[l {label: p}]->(n2), datatypes: (p)-[:datatype]->(:`wikibase-item`)' \\\n",
    "--return 'l as id, n1 as node1, p as label, n2 as node2' \\\n",
    "--order-by 'l' "
   ]
  },
  {
   "cell_type": "markdown",
   "metadata": {},
   "source": [
    "To compute the derived files we use papermill to run the `Wikidata Useful Files` notebook."
   ]
  },
  {
   "cell_type": "code",
   "execution_count": 35,
   "metadata": {
    "scrolled": true
   },
   "outputs": [
    {
     "ename": "TypeError",
     "evalue": "unsupported operand type(s) for +: 'set' and 'str'",
     "output_type": "error",
     "traceback": [
      "\u001b[0;31m---------------------------------------------------------------------------\u001b[0m",
      "\u001b[0;31mTypeError\u001b[0m                                 Traceback (most recent call last)",
      "\u001b[0;32m<ipython-input-35-9e99e07b8ae4>\u001b[0m in \u001b[0;36m<module>\u001b[0;34m\u001b[0m\n\u001b[1;32m      1\u001b[0m pm.execute_notebook(\n\u001b[1;32m      2\u001b[0m     \u001b[0mnotebooks_folder\u001b[0m \u001b[0;34m+\u001b[0m \u001b[0museful_files_notebook\u001b[0m\u001b[0;34m,\u001b[0m\u001b[0;34m\u001b[0m\u001b[0;34m\u001b[0m\u001b[0m\n\u001b[0;32m----> 3\u001b[0;31m     \u001b[0;34m{\u001b[0m\u001b[0mtemp\u001b[0m\u001b[0;34m}\u001b[0m \u001b[0;34m+\u001b[0m \u001b[0;34m\"/useful_files_notebook_output.ipynb\"\u001b[0m\u001b[0;34m,\u001b[0m\u001b[0;34m\u001b[0m\u001b[0;34m\u001b[0m\u001b[0m\n\u001b[0m\u001b[1;32m      4\u001b[0m     parameters=dict(\n\u001b[1;32m      5\u001b[0m         \u001b[0moutput_path\u001b[0m\u001b[0;34m=\u001b[0m\u001b[0;34m\"/Users/pedroszekely/Downloads/kypher\"\u001b[0m\u001b[0;34m,\u001b[0m\u001b[0;34m\u001b[0m\u001b[0;34m\u001b[0m\u001b[0m\n",
      "\u001b[0;31mTypeError\u001b[0m: unsupported operand type(s) for +: 'set' and 'str'"
     ]
    }
   ],
   "source": [
    "pm.execute_notebook(\n",
    "    notebooks_folder + useful_files_notebook,\n",
    "    temp + \"/useful_files_notebook_output.ipynb\",\n",
    "    parameters=dict(\n",
    "        output_path=output_path,\n",
    "        output_folder=output_folder,\n",
    "        temp_folder=temp_folder,\n",
    "        wiki_root_folder=wiki_root_folder,\n",
    "        claims_file=\"claims.tsv.gz\",\n",
    "        label_file=\"labels.en.tsv.gz\",\n",
    "        alias_file=\"aliases.en.tsv.gz\",\n",
    "        description_file=\"descriptions.en.tsv.gz\",\n",
    "        item_file=\"claims.wikibase-item.tsv.gz\",\n",
    "        cache_path=cache_path,\n",
    "        delete_database=delete_database,\n",
    "        compute_pagerank=compute_pagerank\n",
    "    )\n",
    ")"
   ]
  },
  {
   "cell_type": "code",
   "execution_count": null,
   "metadata": {},
   "outputs": [],
   "source": []
  },
  {
   "cell_type": "code",
   "execution_count": null,
   "metadata": {},
   "outputs": [],
   "source": []
  },
  {
   "cell_type": "markdown",
   "metadata": {},
   "source": [
    "Look at the columns so we know how to construct the kypher query"
   ]
  },
  {
   "cell_type": "markdown",
   "metadata": {},
   "source": [
    "## Summary of results"
   ]
  },
  {
   "cell_type": "code",
   "execution_count": null,
   "metadata": {},
   "outputs": [],
   "source": [
    "!ls -lh {out}/*wikidataos.*"
   ]
  },
  {
   "cell_type": "code",
   "execution_count": null,
   "metadata": {},
   "outputs": [],
   "source": [
    "!zcat < {out}/wikidataos.all.tsv.gz | wc"
   ]
  },
  {
   "cell_type": "markdown",
   "metadata": {},
   "source": [
    "## Verification"
   ]
  },
  {
   "cell_type": "markdown",
   "metadata": {},
   "source": [
    "The edges file must contain edges for properties, this is not the case on 2020-11-10`\n"
   ]
  },
  {
   "cell_type": "code",
   "execution_count": null,
   "metadata": {},
   "outputs": [],
   "source": [
    "!{kgtk} -i \"{claims}\" \\\n",
    "--match '(:P10)-[l]->(n2)' \\\n",
    "--limit 10"
   ]
  },
  {
   "cell_type": "markdown",
   "metadata": {},
   "source": [
    "## concatenate files to get the `all` file"
   ]
  },
  {
   "cell_type": "code",
   "execution_count": null,
   "metadata": {},
   "outputs": [],
   "source": [
    "lad = []\n",
    "if 'en' not in languages:\n",
    "    languages.append('en')\n",
    "for lang in languages:\n",
    "    lad.append(f\"{out}/labels.{lang}.tsv.gz\")\n",
    "    lad.append(f\"{out}/aliases.{lang}.tsv.gz\")\n",
    "    lad.append(f\"{out}/descriptions.{lang}.tsv.gz\")\n",
    "lad_file_list = \" \".join(lad)"
   ]
  },
  {
   "cell_type": "code",
   "execution_count": null,
   "metadata": {},
   "outputs": [],
   "source": [
    "!kgtk cat -i {out}/claims.tsv.gz \\\n",
    "{lad_file_list} \\\n",
    "{out}/qualifiers.tsv.gz \\\n",
    "{out}/metadata.pagerank.undirected.tsv.gz \\\n",
    "{out}/metadata.pagerank.directed.tsv.gz \\\n",
    "{out}/metadata.in_degree.tsv.gz \\\n",
    "{out}/metadata.out_degree.tsv.gz \\\n",
    "-o {out}/wikidataos.all.tsv.gz"
   ]
  },
  {
   "cell_type": "markdown",
   "metadata": {},
   "source": [
    "## concatenate files to get the `all for triples` file\n"
   ]
  },
  {
   "cell_type": "code",
   "execution_count": null,
   "metadata": {},
   "outputs": [],
   "source": [
    "!kgtk cat -i $OUT/wikidataos.all.tsv.gz \\\n",
    "$OUT/derived.P31.tsv.gz \\\n",
    "$OUT/derived.P279.tsv.gz \\\n",
    "$OUT/derived.isa.tsv.gz \\\n",
    "$OUT/derived.P279star.tsv.gz \\\n",
    "-o $OUT/wikidataos.all.for.triples.tsv.gz"
   ]
  },
  {
   "cell_type": "markdown",
   "metadata": {},
   "source": [
    "## Filter out `novalue`, `somevalue` and `P9`"
   ]
  },
  {
   "cell_type": "code",
   "execution_count": null,
   "metadata": {},
   "outputs": [],
   "source": [
    "!kgtk filter -i $OUT/wikidataos.all.for.triples.tsv.gz \\\n",
    "    -o $OUT/wikidataos.all.for.triples.filtered.tsv.gz \\\n",
    "    -p ';;somevalue,novalue,P9' --invert"
   ]
  },
  {
   "cell_type": "markdown",
   "metadata": {},
   "source": [
    "## Add ids for any edge with missing id"
   ]
  },
  {
   "cell_type": "code",
   "execution_count": null,
   "metadata": {},
   "outputs": [],
   "source": [
    "!kgtk add-id -i $OUT/wikidataos.all.for.triples.filtered.tsv.gz \\\n",
    "-o $OUT/wikidataos.all.for.triples.filtered.id.tsv.gz \\\n",
    "--id-style wikidata"
   ]
  },
  {
   "cell_type": "markdown",
   "metadata": {},
   "source": [
    "## Sort by `id`"
   ]
  },
  {
   "cell_type": "code",
   "execution_count": null,
   "metadata": {},
   "outputs": [],
   "source": [
    "!kgtk sort2 -i $OUT/wikidataos.all.for.triples.filtered.id.tsv.gz \\\n",
    "-o $OUT/wikidataos.all.for.triples.filtered.id.sorted.tsv.gz \n",
    "-c id"
   ]
  }
 ],
 "metadata": {
  "celltoolbar": "Tags",
  "kernelspec": {
   "display_name": "kgtk-env",
   "language": "python",
   "name": "kgtk-env"
  },
  "language_info": {
   "codemirror_mode": {
    "name": "ipython",
    "version": 3
   },
   "file_extension": ".py",
   "mimetype": "text/x-python",
   "name": "python",
   "nbconvert_exporter": "python",
   "pygments_lexer": "ipython3",
   "version": "3.7.9"
  }
 },
 "nbformat": 4,
 "nbformat_minor": 4
}
