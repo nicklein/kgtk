{
 "cells": [
  {
   "cell_type": "markdown",
   "metadata": {},
   "source": [
    "# Creating a subset of Wikidata\n",
    "\n",
    "This notebook illustrates how to partition a Wikidata KGTK edges file.\n",
    "\n",
    "Parameters are set up in the first cell so that we can run this notebook in batch mode. Example invocation command:\n",
    "\n",
    "```\n",
    "papermill partition-wikidata.ipynb partition-wikidata.out.ipynb \\\n",
    "-p wikidata_input_path /data4/rogers/elicit/cache/datasets/wikidata-20200803/data/everything.tsv.gz \\\n",
    "-p wikidata_parts_path /data4/rogers/elicit/cache/datasets/wikidata-20200803/parts \\\n",
    "```"
   ]
  },
  {
   "cell_type": "markdown",
   "metadata": {},
   "source": [
    "### Parameters for invoking the notebook\n",
    "\n",
    "- `wikidata_input_path`: A folder containing the Wikidata KGTK edges to partition. \n",
    "- `wikidata_parts_path`: A folder containing the part files of Wikidata, including files such as `part.wikibase-item.tsv.gz`\n",
    "- `temp_folder_path`:    A folder that may be used for temporary files. \n",
    "- `gzip_command`:        The compression command for sorting. (default: pigz). \n",
    "- `sort_extras`:         Extra parameters for the sort program. \n",
    "- `unsorted_extension`:  The file extension for unsorted files. (default: .unsorted.tsv.gz) \n",
    "- `sorted_extension`:    The file extension for sorted files. (default: .tsv.gz)  \n",
    "- `use_mgzip`:           When True, use the mgzip program where appropriate for faster compression. (default: True) \n",
    "- `verbose`:             When True, see additional feedback messages. (default: True) \n"
   ]
  },
  {
   "cell_type": "code",
   "execution_count": 1,
   "metadata": {
    "tags": [
     "parameters"
    ]
   },
   "outputs": [],
   "source": [
    "# Parameters\n",
    "wikidata_input_path = '/data4/rogers/elicit/cache/datasets/wikidata-20200803/data/everything.tsv.gz'\n",
    "wikidata_parts_path = '/data4/rogers/elicit/cache/datasets/wikidata-20200803/parts'\n",
    "temp_folder_path =    wikidata_parts_path + '/temp'\n",
    "gzip_command =        'pigz'\n",
    "sort_extras =         '-T ' + wikidata_parts_path\n",
    "unsorted_extension =  'unsorted.tsv.gz'\n",
    "sorted_extension =    'tsv.gz'\n",
    "use_mgzip =           'True'\n",
    "verbose =             'True'\n"
   ]
  },
  {
   "cell_type": "markdown",
   "metadata": {},
   "source": [
   "### Import the Python modules we will use in this script."
   ]
  },
  {
   "cell_type": "code",
   "execution_count": 3,
   "metadata": {},
   "outputs": [],
   "source": [
    "import os"
   ]
  },
  {
   "cell_type": "markdown",
   "metadata": {},
   "source": [
    "### Set up environment variables and folders that we need\n",
    "Define environment variables to pass the script parameters to the KGTK commands."
   ]
  },
  {
   "cell_type": "code",
   "execution_count": 5,
   "metadata": {},
   "outputs": [],
   "source": [
    "# file containing wikidata edges.\n",
    "os.environ['WIKIDATA_INPUT'] =     wikidata_input_path\n",
    "# folder to receive wikidata broken down into smaller files.\n",
    "os.environ['WIKIDATA_PARTS'] =     wikidata_parts_path\n",
    "# temporary folder\n",
    "os.environ['TEMP'] =               temp_folder_path\n",
    "# kgtk command to run\n",
    "# os.environ['kgtk'] =             \"kgtk\"\n",
    "os.environ['kgtk'] =               \"time kgtk --debug --timing\"\n",
    "# gzip command to run\n",
    "os.environ['gzip'] =               gzip_command\n",
    "# extra parameters for sort\n",
    "os.environ['SORT_EXTRAS'] =        sort_extras\n",
    "# The unsorted file extension.\n",
    "os.environ['UNSORTED_EXTENSION'] = unsorted_extension\n",
    "# The sorted file extension.\n",
    "os.environ['SORTED_EXTENSION'] =   sorted_extension\n",
    "# The use_mgzip flag.\n",
    "os.environ['USE_MGZIP'] =          use_mgzip\n",
    "# The verbose flag.\n",
    "os.environ['VERBOSE'] =            verbose\n"
   ]
  },
  {
   "cell_type": "code",
   "execution_count": 6,
   "metadata": {},
   "outputs": [],
   "source": [
    "!mkdir $WIKIDATA_PARTS\n",
    "!mkdir $TEMP"
   ]
  },
  {
   "cell_type": "code",
   "execution_count": 7,
   "metadata": {},
   "outputs": [],
   "source": [
    "!rm $WIKIDATA_PARTS/*.tsv $WIKIDATA_PARTS/*.tsv.gz\n",
    "!rm $TEMP/*.tsv $TEMP/*.tsv.gz"
   ]
  },
  {
   "cell_type": "code",
   "execution_count": 8,
   "metadata": {},
   "outputs": [],
   "source": [
    "!$kgtk filter --verbose=$VERBOSE --use-mgzip=$USE_MGZIP --first-match-only --regex \\\n",
    " --input-file $WIKIDATA_INPUT \\\n",
    " -p '; ^datatype$ ;'      -o $TEMP/property.datatype.$UNSORTED_EXTENSION \\\n",
    " -p '; ^alias$ ;'         -o $TEMP/part.alias.$UNSORTED_EXTENSION \\\n",
    " -p '; ^description$ ;'   -o $TEMP/part.description.$UNSORTED_EXTENSION \\\n",
    " -p '; ^label$ ;'         -o $TEMP/part.label.$UNSORTED_EXTENSION \\\n",
    " -p '; ^(addl_wikipedia_sitelink|sitelink-badge|sitelink-language|sitelink-site|sitelink-title|wikipedia_sitelink)$ ;' \\\n",
    "                          -o $TEMP/part.wikipedia_sitelink.$UNSORTED_EXTENSION \\\n",
    " -p '; ^type$ ;'          -o $TEMP/types.$UNSORTED_EXTENSION \\\n",
    " -p '^.*-.*-.*-.*-.*$ ;;' -o $TEMP/part.qual.$UNSORTED_EXTENSION \\\n",
    " --reject-file $TEMP/part.claims.$UNSORTED_EXTENSION"
   ]
  },
  {
   "cell_type": "code",
   "execution_count": 9,
   "metadata": {},
   "outputs": [],
   "source": [
    "!$kgtk sort2 --verbose=$VERBOSE --gzip-command=$gzip \\\n",
    " --input-file  $TEMP/property.datatype.$UNSORTED_EXTENSION \\\n",
    " --output-file $WIKIDATA_PARTS/property.datatype.$SORTED_EXTENSION \\\n",
    " --columns     id node1 label node2 \\\n",
    " --extra       \"$SORT_EXTRAS\" \\\n",
    ""
   ]
  },
  {
   "cell_type": "code",
   "execution_count": 9,
   "metadata": {},
   "outputs": [],
   "source": [
    "!$kgtk sort2 --verbose=$VERBOSE --gzip-command=$gzip \\\n",
    " --input-file  $TEMP/part.alias.$UNSORTED_EXTENSION \\\n",
    " --output-file $WIKIDATA_PARTS/part.alias.$SORTED_EXTENSION \\\n",
    " --columns     id node1 label node2 \\\n",
    " --extra       \"$SORT_EXTRAS\" \\\n",
    ""
   ]
  },
  {
   "cell_type": "code",
   "execution_count": 9,
   "metadata": {},
   "outputs": [],
   "source": [
    "!$kgtk filter --verbose=$VERBOSE --use-mgzip=$USE_MGZIP --regex \\\n",
    " --input-file $WIKIDATA_PARTS/part.alias.$SORTED_EXTENSION \\\n",
    " -p ';; @en$' -o $WIKIDATA_PARTS/part.alias.en.$SORTED_EXTENSION \\\n",
    ""
   ]
  },
  {
   "cell_type": "code",
   "execution_count": 9,
   "metadata": {},
   "outputs": [],
   "source": [
    "!$kgtk sort2 --verbose=$VERBOSE --gzip-command=$gzip \\\n",
    " --input-file  $TEMP/part.description.$UNSORTED_EXTENSION \\\n",
    " --output-file $WIKIDATA_PARTS/part.description.$SORTED_EXTENSION \\\n",
    " --columns     id node1 label node2 \\\n",
    " --extra       \"$SORT_EXTRAS\" \\\n",
    ""
   ]
  },
  {
   "cell_type": "code",
   "execution_count": 9,
   "metadata": {},
   "outputs": [],
   "source": [
    "!$kgtk filter --verbose=$VERBOSE --use-mgzip=$USE_MGZIP --regex \\\n",
    " --input-file $WIKIDATA_PARTS/part.description.$SORTED_EXTENSION \\\n",
    " -p ';; @en$' -o $WIKIDATA_PARTS/part.description.en.$SORTED_EXTENSION \\\n",
    ""
   ]
  },
  {
   "cell_type": "code",
   "execution_count": 9,
   "metadata": {},
   "outputs": [],
   "source": [
    "!$kgtk sort2 --verbose=$VERBOSE --gzip-command=$gzip \\\n",
    " --input-file  $TEMP/part.label.$UNSORTED_EXTENSION \\\n",
    " --output-file $WIKIDATA_PARTS/part.label.$SORTED_EXTENSION \\\n",
    " --columns     id node1 label node2 \\\n",
    " --extra       \"$SORT_EXTRAS\" \\\n",
    ""
   ]
  },
  {
   "cell_type": "code",
   "execution_count": 9,
   "metadata": {},
   "outputs": [],
   "source": [
    "!$kgtk filter --verbose=$VERBOSE --use-mgzip=$USE_MGZIP --regex \\\n",
    " --input-file $WIKIDATA_PARTS/part.label.$SORTED_EXTENSION \\\n",
    " -p ';; @en$' -o $WIKIDATA_PARTS/part.label.en.$SORTED_EXTENSION \\\n",
    ""
   ]
  },
  {
   "cell_type": "code",
   "execution_count": 9,
   "metadata": {},
   "outputs": [],
   "source": [
    "!$kgtk sort2 --verbose=$VERBOSE --gzip-command=$gzip \\\n",
    " --input-file  $TEMP/part.wikipedia_sitelink.$UNSORTED_EXTENSION \\\n",
    " --output-file $WIKIDATA_PARTS/part.wikipedia_sitelink.$SORTED_EXTENSION \\\n",
    " --columns     id node1 label node2 \\\n",
    " --extra       \"$SORT_EXTRAS\" \\\n",
    ""
   ]
  },
  {
   "cell_type": "code",
   "execution_count": 9,
   "metadata": {},
   "outputs": [],
   "source": [
    "!$kgtk filter --verbose=$VERBOSE --use-mgzip=$USE_MGZIP --obj=lang \\\n",
    " --input-file $WIKIDATA_PARTS/part.wikipedia_sitelink.$SORTED_EXTENSION \\\n",
    " -p ';; en' -o $WIKIDATA_PARTS/part.wikipedia_sitelink.en.$SORTED_EXTENSION \\\n",
    ""
   ]
  },
  {
   "cell_type": "code",
   "execution_count": 9,
   "metadata": {},
   "outputs": [],
   "source": [
    "!$kgtk sort2 --verbose=$VERBOSE --gzip-command=$gzip \\\n",
    " --input-file  $TEMP/types.$UNSORTED_EXTENSION \\\n",
    " --output-file $WIKIDATA_PARTS/types.$SORTED_EXTENSION \\\n",
    " --columns     id node1 label node2 \\\n",
    " --extra       \"$SORT_EXTRAS\" \\\n",
    ""
   ]
  },
  {
   "cell_type": "code",
   "execution_count": 9,
   "metadata": {},
   "outputs": [],
   "source": [
    "!$kgtk sort2 --verbose=$VERBOSE --gzip-command=$gzip \\\n",
    " --input-file  $TEMP/part.qual.$UNSORTED_EXTENSION \\\n",
    " --output-file $WIKIDATA_PARTS/part.qual.$SORTED_EXTENSION \\\n",
    " --columns     id node1 label node2 \\\n",
    " --extra       \"$SORT_EXTRAS\" \\\n",
    ""
   ]
  },
  {
   "cell_type": "code",
   "execution_count": 9,
   "metadata": {},
   "outputs": [],
   "source": [
    "!$kgtk sort2 --verbose=$VERBOSE --gzip-command=$gzip \\\n",
    " --input-file  $TEMP/part.claims.$UNSORTED_EXTENSION \\\n",
    " --output-file $WIKIDATA_PARTS/part.claims.$SORTED_EXTENSION \\\n",
    " --columns     id node1 label node2 \\\n",
    " --extra       \"$SORT_EXTRAS\" \\\n",
    ""
   ]
  },
  {
   "cell_type": "code",
   "execution_count": 9,
   "metadata": {},
   "outputs": [],
   "source": [
    "!$kgtk unique --verbose=$VERBOSE --format=node-only --use-mgzip=$USE_MGZIP \\\n",
    " --input-file  $WIKIDATA_PARTS/part.claims.$SORTED_EXTENSION \\\n",
    " --output-file $WIKIDATA_PARTS/part.claims.entities.$SORTED_EXTENSION \\\n", 
    " --column      node1 \\\n",
    ""
   ]
  },
  {
   "cell_type": "code",
   "execution_count": 9,
   "metadata": {},
   "outputs": [],
   "source": [
    "!$kgtk unique --verbose=$VERBOSE --use-mgzip=$USE_MGZIP \\\n",
    " --input-file  $WIKIDATA_PARTS/part.claims.$SORTED_EXTENSION \\\n",
    " --output-file $WIKIDATA_PARTS/part.claims.datatypes.$SORTED_EXTENSION \\\n", 
    " --column      'node2;wikidatatype' \\\n",
    ""
   ]
  },
  {
   "cell_type": "code",
   "execution_count": 9,
   "metadata": {},
   "outputs": [],
   "source": [
    "!$kgtk filter --verbose=$VERBOSE --use-mgzip=$USE_MGZIP --first-match-only \\\n",
    " --input-file $WIKIDATA_PARTS/part.claims.$SORTED_EXTENSION \\\n",
    " --obj 'node2;wikidatatype' \\\n",
    " -p ';; commonsMedia'      -o $WIKIDATA_PARTS/part.commonsMedia.$SORTED_EXTENSION \\\n",
    " -p ';; external-id'       -o $WIKIDATA_PARTS/part.external-id.$SORTED_EXTENSION \\\n",
    " -p ';; geo-shape'         -o $WIKIDATA_PARTS/part.geo-shape.$SORTED_EXTENSION \\\n",
    " -p ';; globe-coordinate'  -o $WIKIDATA_PARTS/part.globe-coordinate.$SORTED_EXTENSION \\\n",
    " -p ';; math'              -o $WIKIDATA_PARTS/part.math.$SORTED_EXTENSION \\\n",
    " -p ';; monolingualtext'   -o $WIKIDATA_PARTS/part.monolingualtext.$SORTED_EXTENSION \\\n",
    " -p ';; musical-notation'  -o $WIKIDATA_PARTS/part.musical-notation.$SORTED_EXTENSION \\\n",
    " -p ';; quantity'          -o $WIKIDATA_PARTS/part.quantity.$SORTED_EXTENSION \\\n",
    " -p ';; string'            -o $WIKIDATA_PARTS/part.string.$SORTED_EXTENSION \\\n",
    " -p ';; tabular-data'      -o $WIKIDATA_PARTS/part.tabular-data.$SORTED_EXTENSION \\\n",
    " -p ';; time'              -o $WIKIDATA_PARTS/part.time.$SORTED_EXTENSION \\\n",
    " -p ';; url'               -o $WIKIDATA_PARTS/part.url.$SORTED_EXTENSION \\\n",
    " -p ';; wikibase-form'     -o $WIKIDATA_PARTS/part.wikibase-form.$SORTED_EXTENSION \\\n",
    " -p ';; wikibase-item'     -o $WIKIDATA_PARTS/part.wikibase-item.$SORTED_EXTENSION \\\n",
    " -p ';; wikibase-lexeme'   -o $WIKIDATA_PARTS/part.wikibase-lexeme.$SORTED_EXTENSION \\\n",
    " -p ';; wikibase-property' -o $WIKIDATA_PARTS/part.wikibase-property.$SORTED_EXTENSION \\\n",
    " -p ';; wikibase-sense'    -o $WIKIDATA_PARTS/part.wikibase-sense.$SORTED_EXTENSION \\\n",
    "              --reject-file $WIKIDATA_PARTS/part.other.$SORTED_EXTENSION"
   ]
  },
  {
   "cell_type": "code",
   "execution_count": 9,
   "metadata": {},
   "outputs": [],
   "source": [
    "!$kgtk ifexists --verbose=$VERBOSE --use-mgzip=$USE_MGZIP --presorted \\\n",
    " --input-file  $WIKIDATA_PARTS/part.qual.$SORTED_EXTENSION \\\n",
    " --filter-on   $WIKIDATA_PARTS/part.commonsMedia.$SORTED_EXTENSION \\\n",
    " --output-file $WIKIDATA_PARTS/part.commonsMedia.qual.$SORTED_EXTENSION \\\n", 
    " --input-keys  node1 \\\n",
    " --filter-keys id \\\n",
    ""
   ]
  },
  {
   "cell_type": "code",
   "execution_count": 9,
   "metadata": {},
   "outputs": [],
   "source": [
    "!$kgtk ifexists --verbose=$VERBOSE --use-mgzip=$USE_MGZIP --presorted \\\n",
    " --input-file  $WIKIDATA_PARTS/part.qual.$SORTED_EXTENSION \\\n",
    " --filter-on   $WIKIDATA_PARTS/part.external-id.$SORTED_EXTENSION \\\n",
    " --output-file $WIKIDATA_PARTS/part.external-id.qual.$SORTED_EXTENSION \\\n", 
    " --input-keys  node1 \\\n",
    " --filter-keys id \\\n",
    ""
   ]
  },
  {
   "cell_type": "code",
   "execution_count": 9,
   "metadata": {},
   "outputs": [],
   "source": [
    "!$kgtk ifexists --verbose=$VERBOSE --use-mgzip=$USE_MGZIP --presorted \\\n",
    " --input-file  $WIKIDATA_PARTS/part.qual.$SORTED_EXTENSION \\\n",
    " --filter-on   $WIKIDATA_PARTS/part.geo-shape.$SORTED_EXTENSION \\\n",
    " --output-file $WIKIDATA_PARTS/part.geo-shape.qual.$SORTED_EXTENSION \\\n", 
    " --input-keys  node1 \\\n",
    " --filter-keys id \\\n",
    ""
   ]
  },
  {
   "cell_type": "code",
   "execution_count": 9,
   "metadata": {},
   "outputs": [],
   "source": [
    "!$kgtk ifexists --verbose=$VERBOSE --use-mgzip=$USE_MGZIP --presorted \\\n",
    " --input-file  $WIKIDATA_PARTS/part.qual.$SORTED_EXTENSION \\\n",
    " --filter-on   $WIKIDATA_PARTS/part.globe-coordinate.$SORTED_EXTENSION \\\n",
    " --output-file $WIKIDATA_PARTS/part.globe-coordinate.qual.$SORTED_EXTENSION \\\n", 
    " --input-keys  node1 \\\n",
    " --filter-keys id \\\n",
    ""
   ]
  },
  {
   "cell_type": "code",
   "execution_count": 9,
   "metadata": {},
   "outputs": [],
   "source": [
    "!$kgtk ifexists --verbose=$VERBOSE --use-mgzip=$USE_MGZIP --presorted \\\n",
    " --input-file  $WIKIDATA_PARTS/part.qual.$SORTED_EXTENSION \\\n",
    " --filter-on   $WIKIDATA_PARTS/part.math.$SORTED_EXTENSION \\\n",
    " --output-file $WIKIDATA_PARTS/part.math.qual.$SORTED_EXTENSION \\\n", 
    " --input-keys  node1 \\\n",
    " --filter-keys id \\\n",
    ""
   ]
  },
  {
   "cell_type": "code",
   "execution_count": 9,
   "metadata": {},
   "outputs": [],
   "source": [
    "!$kgtk ifexists --verbose=$VERBOSE --use-mgzip=$USE_MGZIP --presorted \\\n",
    " --input-file  $WIKIDATA_PARTS/part.qual.$SORTED_EXTENSION \\\n",
    " --filter-on   $WIKIDATA_PARTS/part.monolingualtext.$SORTED_EXTENSION \\\n",
    " --output-file $WIKIDATA_PARTS/part.monolingualtext.qual.$SORTED_EXTENSION \\\n", 
    " --input-keys  node1 \\\n",
    " --filter-keys id \\\n",
    ""
   ]
  },
  {
   "cell_type": "code",
   "execution_count": 9,
   "metadata": {},
   "outputs": [],
   "source": [
    "!$kgtk ifexists --verbose=$VERBOSE --use-mgzip=$USE_MGZIP --presorted \\\n",
    " --input-file  $WIKIDATA_PARTS/part.qual.$SORTED_EXTENSION \\\n",
    " --filter-on   $WIKIDATA_PARTS/part.musical-notation.$SORTED_EXTENSION \\\n",
    " --output-file $WIKIDATA_PARTS/part.musical-notation.qual.$SORTED_EXTENSION \\\n", 
    " --input-keys  node1 \\\n",
    " --filter-keys id \\\n",
    ""
   ]
  },
  {
   "cell_type": "code",
   "execution_count": 9,
   "metadata": {},
   "outputs": [],
   "source": [
    "!$kgtk ifexists --verbose=$VERBOSE --use-mgzip=$USE_MGZIP --presorted \\\n",
    " --input-file  $WIKIDATA_PARTS/part.qual.$SORTED_EXTENSION \\\n",
    " --filter-on   $WIKIDATA_PARTS/part.quantity.$SORTED_EXTENSION \\\n",
    " --output-file $WIKIDATA_PARTS/part.quantity.qual.$SORTED_EXTENSION \\\n", 
    " --input-keys  node1 \\\n",
    " --filter-keys id \\\n",
    ""
   ]
  },
  {
   "cell_type": "code",
   "execution_count": 9,
   "metadata": {},
   "outputs": [],
   "source": [
    "!$kgtk ifexists --verbose=$VERBOSE --use-mgzip=$USE_MGZIP --presorted \\\n",
    " --input-file  $WIKIDATA_PARTS/part.qual.$SORTED_EXTENSION \\\n",
    " --filter-on   $WIKIDATA_PARTS/part.string.$SORTED_EXTENSION \\\n",
    " --output-file $WIKIDATA_PARTS/part.string.qual.$SORTED_EXTENSION \\\n", 
    " --input-keys  node1 \\\n",
    " --filter-keys id \\\n",
    ""
   ]
  },
  {
   "cell_type": "code",
   "execution_count": 9,
   "metadata": {},
   "outputs": [],
   "source": [
    "!$kgtk ifexists --verbose=$VERBOSE --use-mgzip=$USE_MGZIP --presorted \\\n",
    " --input-file  $WIKIDATA_PARTS/part.qual.$SORTED_EXTENSION \\\n",
    " --filter-on   $WIKIDATA_PARTS/part.tabular-data.$SORTED_EXTENSION \\\n",
    " --output-file $WIKIDATA_PARTS/part.tabular-data.qual.$SORTED_EXTENSION \\\n", 
    " --input-keys  node1 \\\n",
    " --filter-keys id \\\n",
    ""
   ]
  },
  {
   "cell_type": "code",
   "execution_count": 9,
   "metadata": {},
   "outputs": [],
   "source": [
    "!$kgtk ifexists --verbose=$VERBOSE --use-mgzip=$USE_MGZIP --presorted \\\n",
    " --input-file  $WIKIDATA_PARTS/part.qual.$SORTED_EXTENSION \\\n",
    " --filter-on   $WIKIDATA_PARTS/part.time.$SORTED_EXTENSION \\\n",
    " --output-file $WIKIDATA_PARTS/part.time.qual.$SORTED_EXTENSION \\\n", 
    " --input-keys  node1 \\\n",
    " --filter-keys id \\\n",
    ""
   ]
  },
  {
   "cell_type": "code",
   "execution_count": 9,
   "metadata": {},
   "outputs": [],
   "source": [
    "!$kgtk ifexists --verbose=$VERBOSE --use-mgzip=$USE_MGZIP --presorted \\\n",
    " --input-file  $WIKIDATA_PARTS/part.qual.$SORTED_EXTENSION \\\n",
    " --filter-on   $WIKIDATA_PARTS/part.url.$SORTED_EXTENSION \\\n",
    " --output-file $WIKIDATA_PARTS/part.url.qual.$SORTED_EXTENSION \\\n", 
    " --input-keys  node1 \\\n",
    " --filter-keys id \\\n",
    ""
   ]
  },
  {
   "cell_type": "code",
   "execution_count": 9,
   "metadata": {},
   "outputs": [],
   "source": [
    "!$kgtk ifexists --verbose=$VERBOSE --use-mgzip=$USE_MGZIP --presorted \\\n",
    " --input-file  $WIKIDATA_PARTS/part.qual.$SORTED_EXTENSION \\\n",
    " --filter-on   $WIKIDATA_PARTS/part.wikibase-form.$SORTED_EXTENSION \\\n",
    " --output-file $WIKIDATA_PARTS/part.wikibase-form.qual.$SORTED_EXTENSION \\\n", 
    " --input-keys  node1 \\\n",
    " --filter-keys id \\\n",
    ""
   ]
  },
  {
   "cell_type": "code",
   "execution_count": 9,
   "metadata": {},
   "outputs": [],
   "source": [
    "!$kgtk ifexists --verbose=$VERBOSE --use-mgzip=$USE_MGZIP \\\n",
    " --input-file  $WIKIDATA_PARTS/part.qual.$SORTED_EXTENSION \\\n",
    " --filter-on   $WIKIDATA_PARTS/part.wikibase-item.$SORTED_EXTENSION \\\n",
    " --output-file $WIKIDATA_PARTS/part.wikibase-item.qual.$SORTED_EXTENSION \\\n", 
    " --input-keys  node1 \\\n",
    " --filter-keys id \\\n",
    " --presorted \\\n",
    ""
   ]
  },
  {
   "cell_type": "code",
   "execution_count": 9,
   "metadata": {},
   "outputs": [],
   "source": [
    "!$kgtk ifexists --verbose=$VERBOSE --use-mgzip=$USE_MGZIP --presorted \\\n",
    " --input-file  $WIKIDATA_PARTS/part.qual.$SORTED_EXTENSION \\\n",
    " --filter-on   $WIKIDATA_PARTS/part.wikibase-lexeme.$SORTED_EXTENSION \\\n",
    " --output-file $WIKIDATA_PARTS/part.wikibase-lexeme.qual.$SORTED_EXTENSION \\\n", 
    " --input-keys  node1 \\\n",
    " --filter-keys id \\\n",
    ""
   ]
  },
  {
   "cell_type": "code",
   "execution_count": 9,
   "metadata": {},
   "outputs": [],
   "source": [
    "!$kgtk ifexists --verbose=$VERBOSE --use-mgzip=$USE_MGZIP --presorted \\\n",
    " --input-file  $WIKIDATA_PARTS/part.qual.$SORTED_EXTENSION \\\n",
    " --filter-on   $WIKIDATA_PARTS/part.wikibase-property.$SORTED_EXTENSION \\\n",
    " --output-file $WIKIDATA_PARTS/part.wikibase-property.qual.$SORTED_EXTENSION \\\n", 
    " --input-keys  node1 \\\n",
    " --filter-keys id \\\n",
    ""
   ]
  },
  {
   "cell_type": "code",
   "execution_count": 9,
   "metadata": {},
   "outputs": [],
   "source": [
    "!$kgtk ifexists --verbose=$VERBOSE --use-mgzip=$USE_MGZIP --presorted \\\n",
    " --input-file  $WIKIDATA_PARTS/part.qual.$SORTED_EXTENSION \\\n",
    " --filter-on   $WIKIDATA_PARTS/part.wikibase-sense.$SORTED_EXTENSION \\\n",
    " --output-file $WIKIDATA_PARTS/part.wikibase-sense.qual.$SORTED_EXTENSION \\\n", 
    " --input-keys  node1 \\\n",
    " --filter-keys id \\\n",
    ""
   ]
  },
  {
   "cell_type": "code",
   "execution_count": 9,
   "metadata": {},
   "outputs": [],
   "source": [
    "!$kgtk filter --verbose=$VERBOSE --use-mgzip=$USE_MGZIP --regex \\\n",
    " --input-file $WIKIDATA_PARTS/part.claims.$SORTED_EXTENSION \\\n",
    " -p '^P ;;' -o $WIKIDATA_PARTS/part.property.$SORTED_EXTENSION \\\n",
    ""
   ]
  },
  {
   "cell_type": "code",
   "execution_count": 9,
   "metadata": {},
   "outputs": [],
   "source": [
    "!$kgtk filter --verbose=$VERBOSE --use-mgzip=$USE_MGZIP --regex \\\n",
    " --input-file $WIKIDATA_PARTS/part.qual.$SORTED_EXTENSION \\\n",
    " -p '^P ;;' -o $WIKIDATA_PARTS/part.property.qual.$SORTED_EXTENSION \\\n",
    ""
   ]
  },
  {
   "cell_type": "code",
   "execution_count": 9,
   "metadata": {},
   "outputs": [],
   "source": [
    "!$kgtk unique --verbose=$VERBOSE --use-mgzip=$USE_MGZIP \\\n",
    " --input-file  $WIKIDATA_PARTS/part.property.$SORTED_EXTENSION \\\n",
    " --output-file $WIKIDATA_PARTS/part.property.datatypes.$SORTED_EXTENSION \\\n", 
    " --column      'node2;wikidatatype' \\\n",
    ""
   ]
  },
  {
   "cell_type": "code",
   "execution_count": 9,

"metadata": {},
   "outputs": [],
   "source": [
    "!$kgtk unique --verbose=$VERBOSE \\\n",
    " --use-mgzip $USE_MGZIP \\\n",
    " --input-file  $WIKIDATA_PARTS/part.property.$SORTED_EXTENSION \\\n",
    " --output-file $WIKIDATA_PARTS/part.property.counts.$SORTED_EXTENSION \\\n", 
    " --column      label \\\n",
    " --label       total-count \\\n",
    ""
   ]
  },
  {
   "cell_type": "code",
   "execution_count": 9,
   "metadata": {},
   "outputs": [],
   "source": [
    "!$kgtk lift --verbose=$VERBOSE --use-mgzip=$USE_MGZIP \\\n",
    " --input-file       $WIKIDATA_PARTS/part.property.counts.$SORTED_EXTENSION \\\n",
    " --input-file       $WIKIDATA_PARTS/part.label.en.$SORTED_EXTENSION \\\n",
    " --output-file      $WIKIDATA_PARTS/part.property.counts-with-labels.$SORTED_EXTENSION \\\n", 
    " --columns-to-lift  node1 \\\n",
    " --prefilter-labels \\\n",
    ""
   ]
  }
 ],
 "metadata": {
  "kernelspec": {
   "display_name": "Python 3",
   "language": "python",
   "name": "python3"
  },
  "language_info": {
   "codemirror_mode": {
    "name": "ipython",
    "version": 3
   },
   "file_extension": ".py",
   "mimetype": "text/x-python",
   "name": "python",
   "nbconvert_exporter": "python",
   "pygments_lexer": "ipython3",
   "version": "3.8.5"
  }
 },
 "nbformat": 4,
 "nbformat_minor": 4
}
