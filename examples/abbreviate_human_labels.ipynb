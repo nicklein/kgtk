{
 "cells": [
  {
   "cell_type": "markdown",
   "metadata": {},
   "source": [
    "## Generate KGTK Person Abbreviations file\n",
    "This notebook relates to [KGTK Issue 260](https://github.com/usc-isi-i2/kgtk/issues/260)\n",
    "\n",
    "Example command to run the notebook using papermill:\n",
    "\n",
    "```papermill abbreviate_human_labels.ipynb abbr_output.ipynb -p data_folder /Users/rijulvohra/Documents/work/Novartis-ISI/global_data_folder/kgtk_edge_files \\\n",
    "                                                          -p wikidata_item_filename claims.wikibase-item.tsv.gz \\\n",
    "                                                          -p wikidata_label_filename labels.en.tsv.gz \\\n",
    "                                                          -p wikidata_alias_filename aliases.en.tsv.gz```"
   ]
  },
  {
   "cell_type": "code",
   "execution_count": 1,
   "metadata": {
    "tags": [
     "parameters"
    ]
   },
   "outputs": [],
   "source": [
    "# Parameters\n",
    "data_folder = '/Users/rijulvohra/Documents/work/Novartis-ISI/global_data_folder/kgtk_edge_files'\n",
    "wikidata_item_filename = 'claims.wikibase-item.tsv.gz'\n",
    "wikidata_label_filename = 'labels.en.tsv.gz'\n",
    "wikidata_alias_filename = 'aliases.en.tsv.gz'"
   ]
  },
  {
   "cell_type": "code",
   "execution_count": null,
   "metadata": {},
   "outputs": [],
   "source": [
    "import os\n",
    "import pandas as pd\n",
    "import gzip\n",
    "import shutil\n",
    "from collections import defaultdict\n",
    "import json\n",
    "import ast\n",
    "import time"
   ]
  },
  {
   "cell_type": "code",
   "execution_count": null,
   "metadata": {},
   "outputs": [],
   "source": [
    "os.environ['FILE'] = data_folder\n",
    "wikibase_item_file = os.path.join(data_folder,wikidata_item_filename)\n",
    "human_kgtk_edge = os.path.join(data_folder, 'human_kgtk_edge.tsv.gz')\n",
    "label_file = os.path.join(data_folder,wikidata_label_filename)\n",
    "alias_file = os.path.join(data_folder,wikidata_alias_filename)\n",
    "human_label_output = os.path.join(data_folder, 'human_label_edge.tsv.gz')\n",
    "human_alias_output = os.path.join(data_folder, 'human_alias_edge.tsv.gz')\n",
    "human_label_alias_output = os.path.join(data_folder, 'human_label_alias.tsv')\n",
    "abbr_kgtk_file = os.path.join(data_folder,'derived.Q5.abbreviations.meta.tsv.gz')\n",
    "final_abbr_kgtk_file = os.path.join(data_folder,'derived.Q5.abbreviations.tsv.gz')"
   ]
  },
  {
   "cell_type": "markdown",
   "metadata": {},
   "source": [
    "### Filter Human Labels"
   ]
  },
  {
   "cell_type": "code",
   "execution_count": null,
   "metadata": {},
   "outputs": [],
   "source": [
    "!time | kgtk filter -p \" ;P31;Q5\" -i $wikibase_item_file -o $human_kgtk_edge\n",
    "pd.read_csv(human_kgtk_edge, sep = '\\t', nrows = 10)"
   ]
  },
  {
   "cell_type": "code",
   "execution_count": null,
   "metadata": {},
   "outputs": [],
   "source": [
    "#get the labels for the Q nodes\n",
    "!kgtk ifexists -i $label_file --input-keys node1 --filter-on $human_kgtk_edge \\\n",
    "        --filter-keys node1 -o $human_label_output\n",
    "pd.read_csv(human_label_output, sep = '\\t', nrows = 10)"
   ]
  },
  {
   "cell_type": "code",
   "execution_count": null,
   "metadata": {},
   "outputs": [],
   "source": [
    "#get the alias for the Q nodes\n",
    "!kgtk ifexists -i $alias_file --input-keys node1 --filter-on $human_kgtk_edge \\\n",
    "        --filter-keys node1 -o $human_alias_output\n",
    "pd.read_csv(human_alias_output, sep = '\\t', nrows = 10)"
   ]
  },
  {
   "cell_type": "markdown",
   "metadata": {},
   "source": [
    "### Concat the human label and alias file"
   ]
  },
  {
   "cell_type": "code",
   "execution_count": null,
   "metadata": {},
   "outputs": [],
   "source": [
    "!kgtk cat -i $human_label_output $human_alias_output | kgtk sort -c node1 -o $human_label_alias_output\n",
    "with open(human_label_alias_output, 'rb') as f_in:\n",
    "    with gzip.open(human_label_alias_output + '.gz', 'wb') as f_out:\n",
    "        shutil.copyfileobj(f_in, f_out)\n",
    "        os.remove(f_in.name)\n",
    "human_label_alias_output_gzip = human_label_alias_output + '.gz'\n",
    "pd.read_csv(human_label_alias_output_gzip, sep = '\\t', nrows = 10)"
   ]
  },
  {
   "cell_type": "markdown",
   "metadata": {},
   "source": [
    "### Functions to generate Abbreviations"
   ]
  },
  {
   "cell_type": "markdown",
   "metadata": {},
   "source": [
    "Algorithm for generating the person abbreviations:\n",
    "Abbreviations for label property:\n",
    " * If the label has 2 words, abbreviate the first word. \n",
    " * If label has more than two words(eg. Michael Jeffrey Jordan), then: <br/>\n",
    "    a) Generate Abbreviation for all words leading upto the end word. (eg. M. J. Jordan) <br/>\n",
    "    b) Generate Abbreviations for the middle words. (eg. Michael J. Jordan). <br/>\n",
    "    c) If the generated abbreviations are present in the alias, then leave them. <br/>\n",
    "\t\n",
    "Abbreviations for alias property:\n",
    "\n",
    "Alias may have new words other than the words present in the label. For new words present at the start and end leave them as it is. Generate abbreviations for new words in the middle."
   ]
  },
  {
   "cell_type": "code",
   "execution_count": null,
   "metadata": {},
   "outputs": [],
   "source": [
    "def generate_abbreviations(name_split,word_index):\n",
    "    '''\n",
    "    Helper function to generate the abbreviation.\n",
    "    Input: name_split: List of the words in a name\n",
    "    Output: Abbreviated Name\n",
    "    '''\n",
    "    abbr_label = ''\n",
    "    if word_index is None:\n",
    "        for word in name_split[:-1]:\n",
    "            abbr_label += word[0].upper() + '.' + ' '\n",
    "        abbr_label += name_split[-1]\n",
    "        if len(name_split) >= 2:\n",
    "            abbr_label_end = name_split[-1] + ',' + ' '\n",
    "            for word in name_split[:-1]:\n",
    "                abbr_label_end += word[0].upper() + '.' + ' '\n",
    "            \n",
    "            return abbr_label, abbr_label_end.strip()\n",
    "            \n",
    "        return abbr_label, None\n",
    "    else:\n",
    "        for i in range(len(name_split) - 1):\n",
    "            if i != word_index:\n",
    "                abbr_label += name_split[i] + ' '\n",
    "            else:\n",
    "                abbr_label += name_split[i][0].upper() + '.' + ' '\n",
    "        abbr_label += name_split[-1]\n",
    "        return abbr_label"
   ]
  },
  {
   "cell_type": "code",
   "execution_count": null,
   "metadata": {},
   "outputs": [],
   "source": [
    "def abbreviate_human_labels(human_label_file,output_file):\n",
    "    '''\n",
    "    Traverses the concatenated human labels and aliases, creates the abbreviations for the labels and aliases\n",
    "    '''\n",
    "    with gzip.open(human_label_file,'rt') as file:\n",
    "        prev = None\n",
    "        lines_to_write = list()\n",
    "\n",
    "        first_line = file.readline().replace('\\n','').replace('\\r','')\n",
    "        columns = first_line.split('\\t')\n",
    "        prop_index = columns.index('label')\n",
    "        node1_index = columns.index(\"node1\")\n",
    "        id_index = columns.index(\"id\")\n",
    "        node2_index = columns.index(\"node2\")\n",
    "        flag = False\n",
    "        st = time.time()\n",
    "        for i,line in enumerate(file):\n",
    "            if i%100000 == 0:\n",
    "                print(\"Time taken for {} is {}\".format(i,time.time() - st))\n",
    "                print(\"Previous Qnode is:\",prev)\n",
    "            vals = line.split('\\t')\n",
    "            prop_label = vals[prop_index]\n",
    "            node1 = vals[node1_index]\n",
    "            id_val = vals[id_index]\n",
    "            node2 = vals[node2_index]\n",
    "            if node1.startswith('Q'):\n",
    "                if prev is None:\n",
    "                    prev = node1\n",
    "                    abbr_dict = defaultdict(set)\n",
    "                    alias_dict = defaultdict(set)\n",
    "                    label_dict = defaultdict(list)\n",
    "                    \n",
    "                if not prev.strip() == node1.strip():\n",
    "                    if len(label_dict[prev]) == 0:\n",
    "                        prev = node1\n",
    "                        continue\n",
    "                    node_label_list = label_dict[prev][0].split()\n",
    "                    abbr_str, abbr_str_end = generate_abbreviations(node_label_list,None)\n",
    "                    abbr_dict[prev].add(abbr_str)\n",
    "                    if abbr_str_end is not None:\n",
    "                        abbr_dict[prev].add(abbr_str_end)\n",
    "                    if len(node_label_list) > 2:\n",
    "                        for i in range(1,len(node_label_list) - 1):\n",
    "                            abbr_str = generate_abbreviations(node_label_list,i)\n",
    "                            abbr_dict[prev].add(abbr_str)\n",
    "\n",
    "                    #alias\n",
    "                    if prev in alias_dict:\n",
    "                        for alias in alias_dict[prev]:\n",
    "                            node_alias_split = alias.split()\n",
    "                            #check if first and last word of label and alias are the same. Generate abbreviation \n",
    "                            #for new middle words\n",
    "                            if node_alias_split[0] == node_label_list[0]:\n",
    "                                abbr_str, abbr_str_end = generate_abbreviations(node_alias_split,None)\n",
    "                                abbr_dict[prev].add(abbr_str)\n",
    "                                if abbr_str_end is not None:\n",
    "                                    abbr_dict[prev].add(abbr_str_end)\n",
    "                                \n",
    "                                if len(node_alias_split) > 2:\n",
    "                                    for i in range(1,len(node_alias_split) - 1):\n",
    "                                        abbr_str = generate_abbreviations(node_alias_split,i)\n",
    "                                        abbr_dict[prev].add(abbr_str)\n",
    "                                continue\n",
    "\n",
    "                            if node_alias_split[0] != node_label_list[0]:\n",
    "                                if len(node_alias_split) > 2:\n",
    "                                    for i in range(1,len(node_alias_split) - 1):\n",
    "                                        abbr_str = generate_abbreviations(node_alias_split,i)\n",
    "                                        abbr_dict[prev].add(abbr_str)\n",
    "\n",
    "\n",
    "\n",
    "                    #unique abbreviation edges to write\n",
    "                    for lab in abbr_dict[prev]:\n",
    "                        if prev in alias_dict:\n",
    "                            if lab in alias_dict[prev]:\n",
    "                                continue\n",
    "                        lines_to_write.append('\\t' + prev + '\\t' + 'abbreviated_name' + '\\t' + \"\\'\" + lab + \"\\'\" +'@en')\n",
    "                    prev = node1\n",
    "                \n",
    "                if prev.strip() == node1.strip():\n",
    "                    if prop_label == 'alias':\n",
    "                        alias_dict[node1].add(ast.literal_eval(node2.split('@en')[0]))\n",
    "                    \n",
    "                    if prop_label == 'label':\n",
    "                        label_dict[node1].append(ast.literal_eval(node2.split('@en')[0]))\n",
    "                        \n",
    "                        \n",
    "                if len(lines_to_write) > 100000:\n",
    "                    with gzip.open(output_file,'a') as writer:\n",
    "                        if flag == False:\n",
    "                            header = first_line + '\\n'\n",
    "                            writer.write(header.encode('utf8'))\n",
    "                            flag = True\n",
    "                        \n",
    "                        writer.write('\\n'.join(lines_to_write).encode('utf8'))\n",
    "                        writer.write('\\n'.encode('utf8')) \n",
    "                        lines_to_write = list()\n",
    "         \n",
    "        for lab in abbr_dict[prev]:\n",
    "            lines_to_write.append('\\t' + prev + '\\t' + 'abbreviated_name' + '\\t' + \"\\'\" + lab + \"\\'\" +'@en')\n",
    "        #print(lines_to_write)                \n",
    "        if len(lines_to_write) > 0:\n",
    "            #print(lines_to_write)\n",
    "            with gzip.open(output_file,'a') as writer:\n",
    "                if flag == False:\n",
    "                    header = first_line + '\\n'\n",
    "                    writer.write(header.encode('utf8'))\n",
    "                    flag = True\n",
    "                writer.write('\\n'.join(lines_to_write).encode('utf8'))\n",
    "                writer.write('\\n'.encode('utf8'))               "
   ]
  },
  {
   "cell_type": "code",
   "execution_count": null,
   "metadata": {},
   "outputs": [],
   "source": [
    "abbreviate_human_labels(human_label_alias_output_gzip, abbr_kgtk_file)"
   ]
  },
  {
   "cell_type": "code",
   "execution_count": null,
   "metadata": {},
   "outputs": [],
   "source": [
    "!kgtk add-id -i $abbr_kgtk_file --id-style wikidata --overwrite-id True -o $final_abbr_kgtk_file"
   ]
  },
  {
   "cell_type": "code",
   "execution_count": null,
   "metadata": {},
   "outputs": [],
   "source": [
    "pd.read_csv(final_abbr_kgtk_file,sep = '\\t', nrows = 10)"
   ]
  },
  {
   "cell_type": "markdown",
   "metadata": {},
   "source": [
    "### CleanUp Temporary files"
   ]
  },
  {
   "cell_type": "code",
   "execution_count": null,
   "metadata": {},
   "outputs": [],
   "source": [
    "os.remove(human_kgtk_edge)\n",
    "os.remove(human_label_output)\n",
    "os.remove(human_alias_output)\n",
    "os.remove(human_label_alias_output_gzip)\n",
    "os.remove(abbr_kgtk_file)"
   ]
  }
 ],
 "metadata": {
  "celltoolbar": "Tags",
  "kernelspec": {
   "display_name": "Python 3",
   "language": "python",
   "name": "python3"
  },
  "language_info": {
   "codemirror_mode": {
    "name": "ipython",
    "version": 3
   },
   "file_extension": ".py",
   "mimetype": "text/x-python",
   "name": "python",
   "nbconvert_exporter": "python",
   "pygments_lexer": "ipython3",
   "version": "3.7.9"
  }
 },
 "nbformat": 4,
 "nbformat_minor": 4
}
