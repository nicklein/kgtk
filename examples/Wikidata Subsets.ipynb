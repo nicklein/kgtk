{
 "cells": [
  {
   "cell_type": "markdown",
   "metadata": {},
   "source": [
    "# Generating Subsets of Wikidata"
   ]
  },
  {
   "cell_type": "markdown",
   "metadata": {},
   "source": [
    "### Batch Invocation\n",
    "Example batch command. The second argument is a notebook where the output will be stored. You can load it to see progress.\n",
    "\n",
    "```\n",
    "papermill Wikidata\\ Useful\\ Files.ipynb useful-files.out.ipynb \\\n",
    "-p wiki_file /Volumes/GoogleDrive/Shared\\ drives/KGTK-public-graphs/wikidata-20200803-v3/all.tsv.gz \\\n",
    "-p label_file /Volumes/GoogleDrive/Shared\\ drives/KGTK-public-graphs/wikidata-20200803-v3/part.label.en.tsv.gz \\\n",
    "-p item_file /Volumes/GoogleDrive/Shared\\ drives/KGTK-public-graphs/wikidata-20200803-v3/part.wikibase-item.tsv.gz \\\n",
    "-p property_item_file /Volumes/GoogleDrive/Shared\\ drives/KGTK-public-graphs/wikidata-20200803-v3/part.property.wikibase-item.tsv.gz \\\n",
    "-p qual_file /Volumes/GoogleDrive/Shared\\ drives/KGTK-public-graphs/wikidata-20200803-v3/qual.tsv.gz \\\n",
    "-p output_path <local folder> \\\n",
    "-p output_folder useful_files_v4 \\\n",
    "-p temp_folder temp.useful_files_v4 \\\n",
    "-p delete_database no \n",
    "```"
   ]
  },
  {
   "cell_type": "code",
   "execution_count": 44,
   "metadata": {
    "tags": [
     "parameters"
    ]
   },
   "outputs": [],
   "source": [
    "# Parameters\n",
    "\n",
    "# Folder on local machine where to create the output and temporary folders\n",
    "output_path = \"/Users/pedroszekely/Downloads/kypher\"\n",
    "\n",
    "# The names of the output and temporary folders\n",
    "output_folder = \"useful_wikidata_files_v3\"\n",
    "temp_folder = \"temp.useful_wikidata_files_v3\"\n",
    "\n",
    "# Classes to remove\n",
    "remove_classes = \"Q13442814, Q523, Q16521, Q318, Q7318358, Q7187, Q11173, Q8054\"\n",
    "\n",
    "# The location of input files\n",
    "wiki_file = \"/Volumes/GoogleDrive/Shared drives/KGTK-public-graphs/wikidata-20200803-v3/all.tsv.gz\"\n",
    "label_file = \"/Volumes/GoogleDrive/Shared drives/KGTK-public-graphs/wikidata-20200803-v3/part.label.en.tsv.gz\"\n",
    "item_file = \"/Volumes/GoogleDrive/Shared drives/KGTK-public-graphs/wikidata-20200803-v3/part.wikibase-item.tsv.gz\"\n",
    "property_item_file = \"/Volumes/GoogleDrive/Shared drives/KGTK-public-graphs/wikidata-20200803-v3/part.property.wikibase-item.tsv.gz\"\n",
    "qual_file = \"/Volumes/GoogleDrive/Shared drives/KGTK-public-graphs/wikidata-20200803-v3/qual.tsv.gz\"\n",
    "\n",
    "# Location of the cache database for kypher\n",
    "cache_path = \"/Users/pedroszekely/Downloads/kypher/temp.useful_wikidata_files_v3\"\n",
    "\n",
    "# Whether to delete the cache database\n",
    "delete_database = \"no\""
   ]
  },
  {
   "cell_type": "code",
   "execution_count": 2,
   "metadata": {},
   "outputs": [],
   "source": [
    "import io\n",
    "import os\n",
    "import subprocess\n",
    "import sys\n",
    "\n",
    "import numpy as np\n",
    "import pandas as pd\n",
    "\n",
    "# from IPython.display import display, HTML, Image\n",
    "# from pandas_profiling import ProfileReport"
   ]
  },
  {
   "cell_type": "markdown",
   "metadata": {},
   "source": [
    "## Set up environment and folders to store the files\n",
    "\n",
    "- `OUT` folder where the output files go\n",
    "- `TEMP` folder to keep temporary files , including the database\n",
    "- `kgtk` shortcut to invoke the kgtk software\n",
    "- `kypher` shortcut to invoke `kgtk query with the cache database\n",
    "- `EDGES` the `all.tsv` file of wikidata that contains all edges except label/alias/description\n",
    "- `LABELS` the file with the English labels\n",
    "- `ITEMS` the wikibase-item file (currently does not include node1 that are properties so for now we need the net file\n",
    "- `PROPERTY_ITEMS` the items that are properties\n",
    "- `STORE` location of the cache file"
   ]
  },
  {
   "cell_type": "code",
   "execution_count": 45,
   "metadata": {},
   "outputs": [],
   "source": [
    "if cache_path:\n",
    "    os.environ['STORE'] = \"{}/wikidata.sqlite3.db\".format(cache_path)\n",
    "else:\n",
    "    os.environ['STORE'] = \"{}/{}/wikidata.sqlite3.db\".format(output_path, temp_folder)\n",
    "os.environ['OUT'] = \"{}/{}\".format(output_path, output_folder)\n",
    "os.environ['TEMP'] = \"{}/{}\".format(output_path, temp_folder)\n",
    "os.environ['kgtk'] = \"kgtk\"\n",
    "# os.environ['kgtk'] = \"time kgtk --debug\"\n",
    "os.environ['kypher'] = \"time kgtk query --graph-cache \" + os.environ['STORE']\n",
    "os.environ['EDGES'] = wiki_file\n",
    "os.environ['LABELS'] = label_file\n",
    "os.environ['ITEMS'] = item_file\n",
    "os.environ['PROPERTY_ITEMS'] = property_item_file\n",
    "os.environ['QUALS'] = qual_file"
   ]
  },
  {
   "cell_type": "markdown",
   "metadata": {},
   "source": [
    "Echo the variables to see if they are all set correctly"
   ]
  },
  {
   "cell_type": "code",
   "execution_count": 4,
   "metadata": {},
   "outputs": [
    {
     "name": "stdout",
     "output_type": "stream",
     "text": [
      "/Users/pedroszekely/Downloads/kypher/useful_wikidata_files_v3\n",
      "/Users/pedroszekely/Downloads/kypher/temp.useful_wikidata_files_v3\n",
      "kgtk\n",
      "time kgtk query --graph-cache /Users/pedroszekely/Downloads/kypher/temp.useful_wikidata_files_v3/wikidata.sqlite3.db\n",
      "/Volumes/GoogleDrive/Shared drives/KGTK-public-graphs/wikidata-20200803-v3/all.tsv.gz\n",
      "/Volumes/GoogleDrive/Shared drives/KGTK-public-graphs/wikidata-20200803-v3/part.label.en.tsv.gz\n",
      "/Volumes/GoogleDrive/Shared drives/KGTK-public-graphs/wikidata-20200803-v3/part.wikibase-item.tsv.gz\n",
      "/Volumes/GoogleDrive/Shared drives/KGTK-public-graphs/wikidata-20200803-v3/part.property.wikibase-item.tsv.gz\n",
      "/Users/pedroszekely/Downloads/kypher/temp.useful_wikidata_files_v3/wikidata.sqlite3.db\n"
     ]
    }
   ],
   "source": [
    "!echo $OUT\n",
    "!echo $TEMP\n",
    "!echo $kgtk\n",
    "!echo $kypher\n",
    "!echo $EDGES\n",
    "!echo $LABELS\n",
    "!echo $ITEMS\n",
    "!echo $PROPERTY_ITEMS\n",
    "!echo $STORE"
   ]
  },
  {
   "cell_type": "markdown",
   "metadata": {},
   "source": [
    "Go to the output directory and create the subfolders for the output files and the temporary files"
   ]
  },
  {
   "cell_type": "code",
   "execution_count": 5,
   "metadata": {},
   "outputs": [
    {
     "name": "stdout",
     "output_type": "stream",
     "text": [
      "/Users/pedroszekely/Downloads/kypher\n"
     ]
    }
   ],
   "source": [
    "cd $output_path"
   ]
  },
  {
   "cell_type": "code",
   "execution_count": 6,
   "metadata": {},
   "outputs": [
    {
     "name": "stdout",
     "output_type": "stream",
     "text": [
      "mkdir: /Users/pedroszekely/Downloads/kypher/useful_wikidata_files_v3: File exists\n",
      "mkdir: /Users/pedroszekely/Downloads/kypher/temp.useful_wikidata_files_v3: File exists\n"
     ]
    }
   ],
   "source": [
    "!mkdir $OUT\n",
    "!mkdir $TEMP"
   ]
  },
  {
   "cell_type": "markdown",
   "metadata": {},
   "source": [
    "Clean up the output and temp folders before we start"
   ]
  },
  {
   "cell_type": "code",
   "execution_count": 7,
   "metadata": {},
   "outputs": [],
   "source": [
    "# !rm $OUT/*.tsv $OUT/*.tsv.gz\n",
    "# !rm $TEMP/*.tsv $TEMP/*.tsv.gz"
   ]
  },
  {
   "cell_type": "markdown",
   "metadata": {},
   "source": [
    "Uncomment the line below to remove the sqllite2 database. It takes a long time to load all the data and create indices, so don't remove the database unless you change files that have already been loaded and you need to force a reload."
   ]
  },
  {
   "cell_type": "code",
   "execution_count": 8,
   "metadata": {},
   "outputs": [],
   "source": [
    "if delete_database and delete_database != \"no\":\n",
    "    print(\"Deleted database\")\n",
    "    !rm $STORE"
   ]
  },
  {
   "cell_type": "markdown",
   "metadata": {},
   "source": [
    "### Preview the input files"
   ]
  },
  {
   "cell_type": "markdown",
   "metadata": {},
   "source": [
    "It is always a good practice to peek a the files to make sure the column headings are what we expect"
   ]
  },
  {
   "cell_type": "code",
   "execution_count": 128,
   "metadata": {},
   "outputs": [
    {
     "name": "stdout",
     "output_type": "stream",
     "text": [
      "        0.80 real         0.63 user         0.14 sys\n",
      "id                             node1  label  node2      rank    node2;wikidatatype\n",
      "Q1-P1036-418bc4-78f5a565-0     Q1     P1036  \"113\"      normal  external-id\n",
      "Q1-P1036-b98c08-1dc98be9-0     Q1     P1036  \"523.1\"    normal  external-id\n",
      "Q1-P1051-d70eb1-60991f20-0     Q1     P1051  \"517\"      normal  external-id\n",
      "Q1-P1245-ee25a9-46be09ed-0     Q1     P1245  \"8506\"     normal  external-id\n",
      "Q1-P1256-8da0ce-af30f4e9-0     Q1     P1256  \"51A11\"    normal  external-id\n",
      "Q1-P1296-f73b4e-4d0c1e5d-0     Q1     P1296  \"0216407\"  normal  external-id\n",
      "Q1-P1343-Q19190511-ab132b87-0  Q1     P1343  Q19190511  normal  wikibase-item\n",
      "Q1-P1343-Q2041543-4ed8a129-0   Q1     P1343  Q2041543   normal  wikibase-item\n",
      "Q1-P1343-Q602358-12bf99e2-0    Q1     P1343  Q602358    normal  wikibase-item\n",
      "Q1-P1343-Q88672152-5080b9e2-0  Q1     P1343  Q88672152  normal  wikibase-item\n"
     ]
    }
   ],
   "source": [
    "!$kypher -i \"$EDGES\" --limit 10 | column -t -s $'\\t' "
   ]
  },
  {
   "cell_type": "markdown",
   "metadata": {},
   "source": [
    "## Creating a list of all the items we want to remove"
   ]
  },
  {
   "cell_type": "markdown",
   "metadata": {},
   "source": [
    "### Compute the items to be removed\n",
    "\n",
    "First look at the classes we will remove"
   ]
  },
  {
   "cell_type": "code",
   "execution_count": 6,
   "metadata": {},
   "outputs": [
    {
     "name": "stdout",
     "output_type": "stream",
     "text": [
      "\u001b[90mid\u001b[39m Q13442814\n",
      "\u001b[42mLabel\u001b[49m scholarly article\n",
      "\u001b[44mDescription\u001b[49m article in an academic publication, usually peer reviewed\n",
      "\u001b[30m\u001b[47msubclass of\u001b[49m\u001b[39m \u001b[90m(P279)\u001b[39m\u001b[90m: \u001b[39mscholarly publication \u001b[90m(Q591041)\u001b[39m | article \u001b[90m(Q191067)\u001b[39m | scholarly work \u001b[90m(Q55915575)\u001b[39m\n",
      "\n",
      "\u001b[90mid\u001b[39m Q523\n",
      "\u001b[42mLabel\u001b[49m star\n",
      "\u001b[44mDescription\u001b[49m astronomical object consisting of a luminous spheroid of plasma held together by its own gravity\n",
      "\u001b[30m\u001b[47minstance of\u001b[49m\u001b[39m \u001b[90m(P31)\u001b[39m\u001b[90m: \u001b[39m astronomical object type \u001b[90m(Q17444909)\u001b[39m\n",
      "\u001b[30m\u001b[47msubclass of\u001b[49m\u001b[39m \u001b[90m(P279)\u001b[39m\u001b[90m: \u001b[39mastronomical object \u001b[90m(Q6999)\u001b[39m | fusor \u001b[90m(Q1027098)\u001b[39m\n",
      "\n",
      "\u001b[90mid\u001b[39m Q16521\n",
      "\u001b[42mLabel\u001b[49m taxon\n",
      "\u001b[44mDescription\u001b[49m group of one or more organism(s), which a taxonomist adjudges to be a unit\n",
      "\u001b[30m\u001b[47minstance of\u001b[49m\u001b[39m \u001b[90m(P31)\u001b[39m\u001b[90m: \u001b[39m first-order metaclass \u001b[90m(Q24017414)\u001b[39m\n",
      "\u001b[30m\u001b[47msubclass of\u001b[49m\u001b[39m \u001b[90m(P279)\u001b[39m\u001b[90m: \u001b[39mliving organism class \u001b[90m(Q21871294)\u001b[39m\n",
      "\n",
      "\u001b[90mid\u001b[39m Q318\n",
      "\u001b[42mLabel\u001b[49m galaxy\n",
      "\u001b[44mDescription\u001b[49m astronomical structure\n",
      "\u001b[30m\u001b[47minstance of\u001b[49m\u001b[39m \u001b[90m(P31)\u001b[39m\u001b[90m: \u001b[39m astronomical object type \u001b[90m(Q17444909)\u001b[39m\n",
      "\u001b[30m\u001b[47msubclass of\u001b[49m\u001b[39m \u001b[90m(P279)\u001b[39m\u001b[90m: \u001b[39mdeep-sky object \u001b[90m(Q249389)\u001b[39m\n",
      "\n",
      "\u001b[90mid\u001b[39m Q7318358\n",
      "\u001b[42mLabel\u001b[49m review article\n",
      "\u001b[44mDescription\u001b[49m article that summarizes the current state of understanding on a topic\n",
      "\u001b[30m\u001b[47minstance of\u001b[49m\u001b[39m \u001b[90m(P31)\u001b[39m\u001b[90m: \u001b[39m genre \u001b[90m(Q483394)\u001b[39m\n",
      "\u001b[30m\u001b[47msubclass of\u001b[49m\u001b[39m \u001b[90m(P279)\u001b[39m\u001b[90m: \u001b[39mscholarly article \u001b[90m(Q13442814)\u001b[39m\n",
      "\n",
      "\u001b[90mid\u001b[39m Q7187\n",
      "\u001b[42mLabel\u001b[49m gene\n",
      "\u001b[44mDescription\u001b[49m basic physical and functional unit of heredity\n",
      "\u001b[30m\u001b[47msubclass of\u001b[49m\u001b[39m \u001b[90m(P279)\u001b[39m\u001b[90m: \u001b[39mnucleic acid sequence \u001b[90m(Q863908)\u001b[39m | biological region \u001b[90m(Q50365914)\u001b[39m | biological sequence \u001b[90m(Q3511065)\u001b[39m\n",
      "\n",
      "\u001b[90mid\u001b[39m Q11173\n",
      "\u001b[42mLabel\u001b[49m chemical compound\n",
      "\u001b[44mDescription\u001b[49m pure chemical substance consisting of two or more different chemical elements\n",
      "\u001b[30m\u001b[47minstance of\u001b[49m\u001b[39m \u001b[90m(P31)\u001b[39m\u001b[90m: \u001b[39m group or class of chemical substances \u001b[90m(Q17339814)\u001b[39m | first-order metaclass \u001b[90m(Q24017414)\u001b[39m\n",
      "\u001b[30m\u001b[47msubclass of\u001b[49m\u001b[39m \u001b[90m(P279)\u001b[39m\u001b[90m: \u001b[39mpure substance \u001b[90m(Q578779)\u001b[39m | chemical component \u001b[90m(Q20026787)\u001b[39m\n",
      "\n",
      "\u001b[90mid\u001b[39m Q8054\n",
      "\u001b[42mLabel\u001b[49m protein\n",
      "\u001b[44mDescription\u001b[49m biological molecule consisting of chains of amino acid residues\n",
      "\u001b[30m\u001b[47minstance of\u001b[49m\u001b[39m \u001b[90m(P31)\u001b[39m\u001b[90m: \u001b[39m group or class of chemical substances \u001b[90m(Q17339814)\u001b[39m | first-order metaclass \u001b[90m(Q24017414)\u001b[39m\n",
      "\u001b[30m\u001b[47msubclass of\u001b[49m\u001b[39m \u001b[90m(P279)\u001b[39m\u001b[90m: \u001b[39mbiopolymer \u001b[90m(Q422649)\u001b[39m | nutrient \u001b[90m(Q181394)\u001b[39m | gene product \u001b[90m(Q424689)\u001b[39m | polyamide \u001b[90m(Q145273)\u001b[39m | biological macromolecule \u001b[90m(Q66560214)\u001b[39m\n"
     ]
    }
   ],
   "source": [
    "cmd = \"wd u {}\".format(\" \".join(remove_classes.split(\",\")))\n",
    "!{cmd}"
   ]
  },
  {
   "cell_type": "markdown",
   "metadata": {},
   "source": [
    "Compose the kypher command to remove the classes"
   ]
  },
  {
   "cell_type": "code",
   "execution_count": 8,
   "metadata": {},
   "outputs": [
    {
     "name": "stdout",
     "output_type": "stream",
     "text": [
      "node1    label  node2\n",
      "Q1       isa    Q36906466\n",
      "Q100     isa    Q1093829\n",
      "Q100     isa    Q1549591\n",
      "Q100     isa    Q21518270\n",
      "Q1000    isa    Q179023\n",
      "Q1000    isa    Q3624078\n",
      "Q1000    isa    Q6256\n",
      "Q10000   isa    Q10876391\n",
      "Q100000  isa    Q1852859\n",
      "zcat: error writing to output: Broken pipe\n"
     ]
    }
   ],
   "source": [
    "!zcat < $OUT/all.isa.tsv.gz | head | column -t -s $'\\t' "
   ]
  },
  {
   "cell_type": "code",
   "execution_count": 12,
   "metadata": {},
   "outputs": [
    {
     "data": {
      "text/plain": [
       "'$kypher -i $OUT/all.isa.tsv.gz -i $OUT/all.P279star.tsv.gz -o $TEMP/items.remove.tsv.gz --match \\'isa: (n1)-[:isa]->(c), P279star: (c)-[]->(class)\\' --where \\'class in [\"Q13442814\", \"Q523\", \"Q16521\", \"Q318\", \"Q7318358\", \"Q7187\", \"Q11173\", \"Q8054\"]\\' --return \\'distinct n1, \"p31_p279star\" as label, class as node2\\' '"
      ]
     },
     "execution_count": 12,
     "metadata": {},
     "output_type": "execute_result"
    }
   ],
   "source": [
    "classes = map(lambda x: '\"{}\"'.format(x), remove_classes.replace(\" \", \"\").split(\",\"))\n",
    "remove_command = \"$kypher -i $OUT/all.isa.tsv.gz -i $OUT/all.P279star.tsv.gz -o $TEMP/items.remove.tsv.gz \\\n",
    "--match 'isa: (n1)-[:isa]->(c), P279star: (c)-[]->(class)' \\\n",
    "--where 'class in [CLASSES]' \\\n",
    "--return 'distinct n1, \\\"p31_p279star\\\" as label, class as node2' \".replace(\"CLASSES\", \", \".join(list(classes)))\n",
    "remove_command"
   ]
  },
  {
   "cell_type": "markdown",
   "metadata": {},
   "source": [
    "Run the command, the items to remove will be in file `$TEMP/items.remove.tsv.gz`"
   ]
  },
  {
   "cell_type": "code",
   "execution_count": 13,
   "metadata": {},
   "outputs": [
    {
     "name": "stdout",
     "output_type": "stream",
     "text": [
      "      502.25 real       312.36 user        63.43 sys\n"
     ]
    }
   ],
   "source": [
    "!{remove_command}"
   ]
  },
  {
   "cell_type": "markdown",
   "metadata": {},
   "source": [
    "Preview the file"
   ]
  },
  {
   "cell_type": "code",
   "execution_count": 14,
   "metadata": {},
   "outputs": [
    {
     "name": "stdout",
     "output_type": "stream",
     "text": [
      "zcat: error writing to output: Broken pipe\n",
      "node1      label         node2\n",
      "Q356147    p31_p279star  Q11173\n",
      "Q5198204   p31_p279star  Q11173\n",
      "Q7117879   p31_p279star  Q11173\n",
      "Q221307    p31_p279star  Q11173\n",
      "Q24883404  p31_p279star  Q11173\n",
      "Q2645893   p31_p279star  Q11173\n",
      "Q27277736  p31_p279star  Q11173\n",
      "Q377339    p31_p279star  Q11173\n",
      "Q382897    p31_p279star  Q11173\n"
     ]
    }
   ],
   "source": [
    "!zcat < $TEMP/items.remove.tsv.gz | head | column -t -s $'\\t' "
   ]
  },
  {
   "cell_type": "markdown",
   "metadata": {},
   "source": [
    "Collect all the classes of items we will remove, just as a sanity check"
   ]
  },
  {
   "cell_type": "code",
   "execution_count": 15,
   "metadata": {},
   "outputs": [
    {
     "name": "stdout",
     "output_type": "stream",
     "text": [
      "node2\n",
      "Q11173\n",
      "Q13442814\n",
      "Q16521\n",
      "Q318\n",
      "Q523\n",
      "Q7187\n",
      "Q7318358\n",
      "Q8054\n",
      "      172.88 real       245.46 user        22.74 sys\n"
     ]
    }
   ],
   "source": [
    "!$kypher -i $TEMP/items.remove.tsv.gz \\\n",
    "--match '()-[]->(n2)' \\\n",
    "--return 'distinct n2' \\\n",
    "--limit 10"
   ]
  },
  {
   "cell_type": "markdown",
   "metadata": {},
   "source": [
    "Sort the file as we will need it sorted later"
   ]
  },
  {
   "cell_type": "markdown",
   "metadata": {},
   "source": [
    "## Create the reduced edges file"
   ]
  },
  {
   "cell_type": "markdown",
   "metadata": {},
   "source": [
    "### Remove the items from the all.tsv and the label, alias and description files\n",
    "We will be left with `reduced` files where the edges do not have the unwanted items. We have to remove them from the node1 and node2 positions, so we need to run the ifnotexists commands twice.\n",
    "\n",
    "Before we start preview the files to see the column headings and check whether they look sorted."
   ]
  },
  {
   "cell_type": "code",
   "execution_count": 16,
   "metadata": {},
   "outputs": [],
   "source": [
    "!$kgtk sort2 -i $TEMP/items.remove.tsv.gz -o $TEMP/items.remove.sorted.tsv.gz"
   ]
  },
  {
   "cell_type": "code",
   "execution_count": 18,
   "metadata": {},
   "outputs": [
    {
     "name": "stdout",
     "output_type": "stream",
     "text": [
      "zcat: error writing to output: Broken pipe\n",
      "node1     label         node2\n",
      "Q1000017  p31_p279star  Q16521\n",
      "Q1000126  p31_p279star  Q16521\n",
      "Q1000261  p31_p279star  Q16521\n",
      "Q1000262  p31_p279star  Q16521\n",
      "Q1000266  p31_p279star  Q16521\n",
      "Q1000270  p31_p279star  Q16521\n",
      "Q1000274  p31_p279star  Q16521\n",
      "Q1000278  p31_p279star  Q16521\n",
      "Q1000280  p31_p279star  Q16521\n"
     ]
    }
   ],
   "source": [
    "!zcat < $TEMP/items.remove.sorted.tsv.gz | head | column -t -s $'\\t' "
   ]
  },
  {
   "cell_type": "code",
   "execution_count": 26,
   "metadata": {},
   "outputs": [
    {
     "name": "stdout",
     "output_type": "stream",
     "text": [
      "id                          node1  label  node2    rank    node2;wikidatatype\n",
      "Q1-P1036-418bc4-78f5a565-0  Q1     P1036  \"113\"    normal  external-id\n",
      "Q1-P1036-b98c08-1dc98be9-0  Q1     P1036  \"523.1\"  normal  external-id\n",
      "Q1-P1051-d70eb1-60991f20-0  Q1     P1051  \"517\"    normal  external-id\n",
      "Q1-P1245-ee25a9-46be09ed-0  Q1     P1245  \"8506\"   normal  external-id\n",
      "zcat: error writing to output: Broken pipe\n"
     ]
    }
   ],
   "source": [
    "!zcat < $OUT/all.sorted.tsv.gz | head -5 | column -t -s $'\\t' "
   ]
  },
  {
   "cell_type": "markdown",
   "metadata": {},
   "source": [
    "Remove from the full set of edges those edges that have a `node1` present in `items.remove.sorted.tsv`"
   ]
  },
  {
   "cell_type": "code",
   "execution_count": 29,
   "metadata": {},
   "outputs": [],
   "source": [
    "!$kgtk ifnotexists -i $OUT/all.sorted.tsv.gz -o $TEMP/item.edges.reduced.tsv.gz \\\n",
    "--filter-on $TEMP/items.remove.sorted.tsv.gz \\\n",
    "--input-keys node1 \\\n",
    "--filter-keys node1 \\\n",
    "--presorted "
   ]
  },
  {
   "cell_type": "markdown",
   "metadata": {},
   "source": [
    "From the remaining edges, remove those that have a `node2` present in `items.remove.sorted.tsv`"
   ]
  },
  {
   "cell_type": "code",
   "execution_count": 41,
   "metadata": {},
   "outputs": [],
   "source": [
    "!$kgtk sort2 -i $TEMP/item.edges.reduced.tsv.gz -o $TEMP/item.edges.reduced.sorted.tsv.gz \\\n",
    "--columns node2 label node1 id"
   ]
  },
  {
   "cell_type": "code",
   "execution_count": 42,
   "metadata": {},
   "outputs": [],
   "source": [
    "!$kgtk ifnotexists -i $TEMP/item.edges.reduced.sorted.tsv.gz -o $TEMP/item.edges.reduced.2.tsv.gz \\\n",
    "--filter-on $TEMP/items.remove.sorted.tsv.gz \\\n",
    "--input-keys node2 \\\n",
    "--filter-keys node1 \\\n",
    "--presorted "
   ]
  },
  {
   "cell_type": "markdown",
   "metadata": {},
   "source": [
    "Create a file with the labels"
   ]
  },
  {
   "cell_type": "code",
   "execution_count": 30,
   "metadata": {},
   "outputs": [],
   "source": [
    "!$kgtk ifnotexists -i $OUT/part.label.en.sorted.tsv.gz -o $TEMP/label.edges.reduced.tsv.gz \\\n",
    "--filter-on $TEMP/items.remove.sorted.tsv.gz \\\n",
    "--input-keys node1 \\\n",
    "--filter-keys node1 \\\n",
    "--presorted"
   ]
  },
  {
   "cell_type": "markdown",
   "metadata": {},
   "source": [
    "Create a file with the aliases"
   ]
  },
  {
   "cell_type": "code",
   "execution_count": 31,
   "metadata": {},
   "outputs": [],
   "source": [
    "!$kgtk ifnotexists -i $OUT/part.alias.en.sorted.tsv.gz -o $TEMP/alias.edges.reduced.tsv.gz \\\n",
    "--filter-on $TEMP/items.remove.sorted.tsv.gz \\\n",
    "--input-keys node1 \\\n",
    "--filter-keys node1 \\\n",
    "--presorted"
   ]
  },
  {
   "cell_type": "markdown",
   "metadata": {},
   "source": [
    "Create a file with the descriptions"
   ]
  },
  {
   "cell_type": "code",
   "execution_count": 32,
   "metadata": {},
   "outputs": [],
   "source": [
    "!$kgtk ifnotexists -i $OUT/part.description.en.sorted.tsv.gz -o $TEMP/description.edges.reduced.tsv.gz \\\n",
    "--filter-on $TEMP/items.remove.sorted.tsv.gz \\\n",
    "--input-keys node1 \\\n",
    "--filter-keys node1 \\\n",
    "--presorted"
   ]
  },
  {
   "cell_type": "markdown",
   "metadata": {},
   "source": [
    "### Concatenate all the files to produce our edges file\n",
    "\n",
    "To-do:verify that the sitelinks are still there"
   ]
  },
  {
   "cell_type": "code",
   "execution_count": 48,
   "metadata": {},
   "outputs": [],
   "source": [
    "!$kgtk cat -o $TEMP/wikidataos.all.tsv.gz \\\n",
    "-i $TEMP/alias.edges.reduced.tsv.gz \\\n",
    "-i $TEMP/description.edges.reduced.tsv.gz \\\n",
    "-i $TEMP/item.edges.reduced.2.tsv.gz \\\n",
    "-i $TEMP/label.edges.reduced.tsv.gz "
   ]
  },
  {
   "cell_type": "markdown",
   "metadata": {},
   "source": [
    "## Create the reduced qualifiers file\n",
    "We do this by finding all the ids of the reduced edges file, and then selecting out from `qual.tsv`\n",
    "\n",
    "We need to join by id, so we need to sort both files by id, node1, label, node2:\n",
    "\n",
    "- `$QUALS` comes sorted by id/node1/label/node2, so we don't need to do anything to it\n",
    "- `$OUT/wikidataos.all.tsv.gz` is unsorted, so sort it by id/node1/label/node2"
   ]
  },
  {
   "cell_type": "code",
   "execution_count": 59,
   "metadata": {},
   "outputs": [
    {
     "name": "stdout",
     "output_type": "stream",
     "text": [
      "zcat: error writing to output: id                                              node1                          label  node2               node2;wikidatatype\n",
      "Broken pipe\n",
      "Q1-P1343-Q19190511-ab132b87-0-P805-Q84065667-0  Q1-P1343-Q19190511-ab132b87-0  P805   Q84065667           wikibase-item\n",
      "Q1-P1343-Q2041543-4ed8a129-0-P805-Q23856221-0   Q1-P1343-Q2041543-4ed8a129-0   P805   Q23856221           wikibase-item\n",
      "Q1-P1343-Q602358-12bf99e2-0-P805-Q24373557-0    Q1-P1343-Q602358-12bf99e2-0    P805   Q24373557           wikibase-item\n",
      "Q1-P1343-Q88672152-5080b9e2-0-P304-5724c3-0     Q1-P1343-Q88672152-5080b9e2-0  P304   \"13-36\"             string\n",
      "Q1-P1419-70a524-1b5a620e-0-P805-Q1647152-0      Q1-P1419-70a524-1b5a620e-0     P805   Q1647152            wikibase-item\n",
      "Q1-P1419-Q5457948-c405a033-0-P3680-70a524-0     Q1-P1419-Q5457948-c405a033-0   P3680  somevalue           wikibase-item\n",
      "Q1-P227-50e4b0-119ba012-0-P1932-d6e10c-0        Q1-P227-50e4b0-119ba012-0      P1932  \"Weltall\"           string\n",
      "Q1-P227-9babea-d6d89fad-0-P1932-1716dc-0        Q1-P227-9babea-d6d89fad-0      P1932  \"Kosmos <Begriff>\"  string\n",
      "Q1-P2670-Q18343-030eb87e-0-P1107-ce87f8-0       Q1-P2670-Q18343-030eb87e-0     P1107  +0.70               quantity\n"
     ]
    }
   ],
   "source": [
    "!zcat < \"$QUALS\" | head | column -t -s $'\\t' "
   ]
  },
  {
   "cell_type": "code",
   "execution_count": 49,
   "metadata": {},
   "outputs": [],
   "source": [
    "!$kgtk sort2 -i $TEMP/wikidataos.all.tsv.gz -o $OUT/wikidataos.all.tsv.gz \\\n",
    "--columns id node1 label node2 "
   ]
  },
  {
   "cell_type": "markdown",
   "metadata": {},
   "source": [
    "Run `ifexists` to select out the quals for the edges in `$OUT/wikidataos.qual.tsv.gz`. Note that we use `node1` in the qualifier file, matching to `id` in the `wikidataos.all.tsv` file."
   ]
  },
  {
   "cell_type": "code",
   "execution_count": 60,
   "metadata": {},
   "outputs": [],
   "source": [
    "!$kgtk ifexists -i \"$QUALS\" -o $OUT/wikidataos.qual.tsv.gz \\\n",
    "--filter-on $OUT/wikidataos.all.tsv.gz \\\n",
    "--input-keys node1 \\\n",
    "--filter-keys id \\\n",
    "--presorted"
   ]
  },
  {
   "cell_type": "code",
   "execution_count": null,
   "metadata": {},
   "outputs": [],
   "source": []
  },
  {
   "cell_type": "markdown",
   "metadata": {},
   "source": [
    "## Summary of results"
   ]
  },
  {
   "cell_type": "code",
   "execution_count": 61,
   "metadata": {},
   "outputs": [
    {
     "name": "stdout",
     "output_type": "stream",
     "text": [
      "-rw-r--r--  1 pedroszekely  staff   5.5G Nov 10 11:07 /Users/pedroszekely/Downloads/kypher/useful_wikidata_files_v3/wikidataos.all.tsv.gz\n",
      "-rw-r--r--  1 pedroszekely  staff   660M Nov 10 14:08 /Users/pedroszekely/Downloads/kypher/useful_wikidata_files_v3/wikidataos.qual.tsv.gz\n"
     ]
    }
   ],
   "source": [
    "!ls -lh $OUT/wikidataos.*"
   ]
  },
  {
   "cell_type": "code",
   "execution_count": 54,
   "metadata": {},
   "outputs": [
    {
     "name": "stdout",
     "output_type": "stream",
     "text": [
      " 310387222 1938057258 24398709041\n"
     ]
    }
   ],
   "source": [
    "!zcat < $OUT/wikidataos.all.tsv.gz | wc"
   ]
  },
  {
   "cell_type": "code",
   "execution_count": 56,
   "metadata": {},
   "outputs": [
    {
     "name": "stdout",
     "output_type": "stream",
     "text": [
      "zcat: error writing to output: Broken pipe\n",
      "id                       node1  label        node2                                                                                                                                     rank  node2;wikidatatype\n",
      "P10-alias-en-282226-0    P10    alias        'gif'@en\n",
      "P10-alias-en-2f86d8-0    P10    alias        'animation'@en\n",
      "P10-alias-en-c1427e-0    P10    alias        'media'@en\n",
      "P10-alias-en-c61ab1-0    P10    alias        'trailer (Commons)'@en\n",
      "P10-description-en       P10    description  'relevant video. For images, use the property P18. For film trailers, qualify with \\\"object has role\\\" (P3831)=\\\"trailer\\\" (Q622550)'@en\n",
      "P10-label-en             P10    label        'video'@en\n",
      "P1000-description-en     P1000  description  'notable record achieved by a person or entity, include qualifiers for dates held'@en\n",
      "P1000-label-en           P1000  label        'record held'@en\n",
      "P1001-alias-en-0dd7ce-0  P1001  alias        'belongs to jurisdiction'@en\n"
     ]
    }
   ],
   "source": [
    "!zcat < $OUT/wikidataos.all.tsv.gz | head | column -t -s $'\\t' "
   ]
  },
  {
   "cell_type": "markdown",
   "metadata": {},
   "source": [
    "## Verification"
   ]
  },
  {
   "cell_type": "markdown",
   "metadata": {},
   "source": [
    "The edges file must contain edges for properties, this is not the case on 2020-11-10`\n"
   ]
  },
  {
   "cell_type": "code",
   "execution_count": 64,
   "metadata": {},
   "outputs": [
    {
     "name": "stdout",
     "output_type": "stream",
     "text": [
      "id\tnode1\tlabel\tnode2\trank\tnode2;wikidatatype\n",
      "        0.72 real         0.57 user         0.13 sys\n"
     ]
    }
   ],
   "source": [
    "!$kypher -i \"$EDGES\" \\\n",
    "--match '(:P10)-[l]->(n2)' \\\n",
    "--limit 10"
   ]
  },
  {
   "cell_type": "code",
   "execution_count": null,
   "metadata": {},
   "outputs": [],
   "source": []
  }
 ],
 "metadata": {
  "celltoolbar": "Tags",
  "kernelspec": {
   "display_name": "kgtk",
   "language": "python",
   "name": "kgtk"
  },
  "language_info": {
   "codemirror_mode": {
    "name": "ipython",
    "version": 3
   },
   "file_extension": ".py",
   "mimetype": "text/x-python",
   "name": "python",
   "nbconvert_exporter": "python",
   "pygments_lexer": "ipython3",
   "version": "3.7.8"
  }
 },
 "nbformat": 4,
 "nbformat_minor": 4
}
